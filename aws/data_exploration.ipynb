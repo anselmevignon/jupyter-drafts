{
 "cells": [
  {
   "cell_type": "markdown",
   "metadata": {
    "collapsed": true
   },
   "source": [
    "## loading data/libs"
   ]
  },
  {
   "cell_type": "code",
   "execution_count": 183,
   "metadata": {
    "collapsed": false
   },
   "outputs": [
    {
     "data": {
      "text/html": [
       "\n",
       "    <div class=\"bk-root\">\n",
       "        <a href=\"http://bokeh.pydata.org\" target=\"_blank\" class=\"bk-logo bk-logo-small bk-logo-notebook\"></a>\n",
       "        <span id=\"02efab55-e917-46c0-a5c0-3dac8a58e7fc\">Loading BokehJS ...</span>\n",
       "    </div>"
      ]
     },
     "metadata": {},
     "output_type": "display_data"
    },
    {
     "data": {
      "application/javascript": [
       "\n",
       "(function(global) {\n",
       "  function now() {\n",
       "    return new Date();\n",
       "  }\n",
       "\n",
       "  var force = true;\n",
       "\n",
       "  if (typeof (window._bokeh_onload_callbacks) === \"undefined\" || force === true) {\n",
       "    window._bokeh_onload_callbacks = [];\n",
       "    window._bokeh_is_loading = undefined;\n",
       "  }\n",
       "\n",
       "\n",
       "  \n",
       "  if (typeof (window._bokeh_timeout) === \"undefined\" || force === true) {\n",
       "    window._bokeh_timeout = Date.now() + 5000;\n",
       "    window._bokeh_failed_load = false;\n",
       "  }\n",
       "\n",
       "  var NB_LOAD_WARNING = {'data': {'text/html':\n",
       "     \"<div style='background-color: #fdd'>\\n\"+\n",
       "     \"<p>\\n\"+\n",
       "     \"BokehJS does not appear to have successfully loaded. If loading BokehJS from CDN, this \\n\"+\n",
       "     \"may be due to a slow or bad network connection. Possible fixes:\\n\"+\n",
       "     \"</p>\\n\"+\n",
       "     \"<ul>\\n\"+\n",
       "     \"<li>re-rerun `output_notebook()` to attempt to load from CDN again, or</li>\\n\"+\n",
       "     \"<li>use INLINE resources instead, as so:</li>\\n\"+\n",
       "     \"</ul>\\n\"+\n",
       "     \"<code>\\n\"+\n",
       "     \"from bokeh.resources import INLINE\\n\"+\n",
       "     \"output_notebook(resources=INLINE)\\n\"+\n",
       "     \"</code>\\n\"+\n",
       "     \"</div>\"}};\n",
       "\n",
       "  function display_loaded() {\n",
       "    if (window.Bokeh !== undefined) {\n",
       "      document.getElementById(\"02efab55-e917-46c0-a5c0-3dac8a58e7fc\").textContent = \"BokehJS successfully loaded.\";\n",
       "    } else if (Date.now() < window._bokeh_timeout) {\n",
       "      setTimeout(display_loaded, 100)\n",
       "    }\n",
       "  }\n",
       "\n",
       "  function run_callbacks() {\n",
       "    window._bokeh_onload_callbacks.forEach(function(callback) { callback() });\n",
       "    delete window._bokeh_onload_callbacks\n",
       "    console.info(\"Bokeh: all callbacks have finished\");\n",
       "  }\n",
       "\n",
       "  function load_libs(js_urls, callback) {\n",
       "    window._bokeh_onload_callbacks.push(callback);\n",
       "    if (window._bokeh_is_loading > 0) {\n",
       "      console.log(\"Bokeh: BokehJS is being loaded, scheduling callback at\", now());\n",
       "      return null;\n",
       "    }\n",
       "    if (js_urls == null || js_urls.length === 0) {\n",
       "      run_callbacks();\n",
       "      return null;\n",
       "    }\n",
       "    console.log(\"Bokeh: BokehJS not loaded, scheduling load and callback at\", now());\n",
       "    window._bokeh_is_loading = js_urls.length;\n",
       "    for (var i = 0; i < js_urls.length; i++) {\n",
       "      var url = js_urls[i];\n",
       "      var s = document.createElement('script');\n",
       "      s.src = url;\n",
       "      s.async = false;\n",
       "      s.onreadystatechange = s.onload = function() {\n",
       "        window._bokeh_is_loading--;\n",
       "        if (window._bokeh_is_loading === 0) {\n",
       "          console.log(\"Bokeh: all BokehJS libraries loaded\");\n",
       "          run_callbacks()\n",
       "        }\n",
       "      };\n",
       "      s.onerror = function() {\n",
       "        console.warn(\"failed to load library \" + url);\n",
       "      };\n",
       "      console.log(\"Bokeh: injecting script tag for BokehJS library: \", url);\n",
       "      document.getElementsByTagName(\"head\")[0].appendChild(s);\n",
       "    }\n",
       "  };var element = document.getElementById(\"02efab55-e917-46c0-a5c0-3dac8a58e7fc\");\n",
       "  if (element == null) {\n",
       "    console.log(\"Bokeh: ERROR: autoload.js configured with elementid '02efab55-e917-46c0-a5c0-3dac8a58e7fc' but no matching script tag was found. \")\n",
       "    return false;\n",
       "  }\n",
       "\n",
       "  var js_urls = [\"https://cdn.pydata.org/bokeh/release/bokeh-0.12.4.min.js\", \"https://cdn.pydata.org/bokeh/release/bokeh-widgets-0.12.4.min.js\"];\n",
       "\n",
       "  var inline_js = [\n",
       "    function(Bokeh) {\n",
       "      Bokeh.set_log_level(\"info\");\n",
       "    },\n",
       "    \n",
       "    function(Bokeh) {\n",
       "      \n",
       "      document.getElementById(\"02efab55-e917-46c0-a5c0-3dac8a58e7fc\").textContent = \"BokehJS is loading...\";\n",
       "    },\n",
       "    function(Bokeh) {\n",
       "      console.log(\"Bokeh: injecting CSS: https://cdn.pydata.org/bokeh/release/bokeh-0.12.4.min.css\");\n",
       "      Bokeh.embed.inject_css(\"https://cdn.pydata.org/bokeh/release/bokeh-0.12.4.min.css\");\n",
       "      console.log(\"Bokeh: injecting CSS: https://cdn.pydata.org/bokeh/release/bokeh-widgets-0.12.4.min.css\");\n",
       "      Bokeh.embed.inject_css(\"https://cdn.pydata.org/bokeh/release/bokeh-widgets-0.12.4.min.css\");\n",
       "    }\n",
       "  ];\n",
       "\n",
       "  function run_inline_js() {\n",
       "    \n",
       "    if ((window.Bokeh !== undefined) || (force === true)) {\n",
       "      for (var i = 0; i < inline_js.length; i++) {\n",
       "        inline_js[i](window.Bokeh);\n",
       "      }if (force === true) {\n",
       "        display_loaded();\n",
       "      }} else if (Date.now() < window._bokeh_timeout) {\n",
       "      setTimeout(run_inline_js, 100);\n",
       "    } else if (!window._bokeh_failed_load) {\n",
       "      console.log(\"Bokeh: BokehJS failed to load within specified timeout.\");\n",
       "      window._bokeh_failed_load = true;\n",
       "    } else if (force !== true) {\n",
       "      var cell = $(document.getElementById(\"02efab55-e917-46c0-a5c0-3dac8a58e7fc\")).parents('.cell').data().cell;\n",
       "      cell.output_area.append_execute_result(NB_LOAD_WARNING)\n",
       "    }\n",
       "\n",
       "  }\n",
       "\n",
       "  if (window._bokeh_is_loading === 0) {\n",
       "    console.log(\"Bokeh: BokehJS loaded, going straight to plotting\");\n",
       "    run_inline_js();\n",
       "  } else {\n",
       "    load_libs(js_urls, function() {\n",
       "      console.log(\"Bokeh: BokehJS plotting callback run at\", now());\n",
       "      run_inline_js();\n",
       "    });\n",
       "  }\n",
       "}(this));"
      ]
     },
     "metadata": {},
     "output_type": "display_data"
    }
   ],
   "source": [
    "import pandas as pd\n",
    "import calendar\n",
    "from bokeh.charts import output_notebook, Scatter, Bar, show, output_file, Line, BoxPlot, Scatter\n",
    "from bokeh.layouts import row\n",
    "from bokeh.plotting import figure\n",
    "\n",
    "output_notebook() "
   ]
  },
  {
   "cell_type": "code",
   "execution_count": 184,
   "metadata": {
    "collapsed": false
   },
   "outputs": [],
   "source": [
    "INPUT=\"data/device_failure.csv\" \n",
    "dataset = pd.read_csv(INPUT,index_col=[0,1],parse_dates=[0])"
   ]
  },
  {
   "cell_type": "code",
   "execution_count": 185,
   "metadata": {
    "collapsed": false
   },
   "outputs": [],
   "source": [
    "label_dset = dataset[[\"failure\"]]\n"
   ]
  },
  {
   "cell_type": "markdown",
   "metadata": {},
   "source": [
    "### checking devices"
   ]
  },
  {
   "cell_type": "code",
   "execution_count": 186,
   "metadata": {
    "collapsed": false
   },
   "outputs": [
    {
     "data": {
      "text/plain": [
       "0    1062\n",
       "1     106\n",
       "Name: failure, dtype: int64"
      ]
     },
     "execution_count": 186,
     "metadata": {},
     "output_type": "execute_result"
    }
   ],
   "source": [
    "total_failures_per_device = label_dset.groupby(level=1).agg(sum)\n",
    "total_failures_per_device[\"failure\"].value_counts()"
   ]
  },
  {
   "cell_type": "markdown",
   "metadata": {},
   "source": [
    "Each device fail at least once\n",
    "\n",
    "~10% device failing\n",
    "\n",
    "'only' 106 positive points"
   ]
  },
  {
   "cell_type": "markdown",
   "metadata": {},
   "source": [
    "### checking Dates"
   ]
  },
  {
   "cell_type": "code",
   "execution_count": 187,
   "metadata": {
    "collapsed": false
   },
   "outputs": [
    {
     "name": "stdout",
     "output_type": "stream",
     "text": [
      "Range: from 2015-01-01 00:00:00 to 2015-11-02 00:00:00\n",
      "\n",
      " n failures per date\n",
      "0    228\n",
      "1     54\n",
      "2     19\n",
      "3      2\n",
      "8      1\n",
      "Name: failure, dtype: int64\n",
      "\n",
      "total: 106 failures for 76 days\n"
     ]
    }
   ],
   "source": [
    "dates = label_dset.index.get_level_values(0)\n",
    "print \"Range: from %s to %s\" % (dates.min(), dates.max())\n",
    "\n",
    "\n",
    "total_failures_per_date = label_dset.groupby(level=0).agg(sum)\n",
    "print\n",
    "print \" n failures per date\"\n",
    "print str(total_failures_per_date[\"failure\"].value_counts())\n",
    "print\n",
    "print \"total: %i failures for %i days\" % (total_failures_per_date[\"failure\"].sum(), \n",
    "                                          total_failures_per_date[total_failures_per_date.failure >0].count())"
   ]
  },
  {
   "cell_type": "code",
   "execution_count": 188,
   "metadata": {
    "collapsed": false,
    "scrolled": true
   },
   "outputs": [
    {
     "data": {
      "text/html": [
       "\n",
       "\n",
       "    <div class=\"bk-root\">\n",
       "        <div class=\"bk-plotdiv\" id=\"2fcc6937-4074-4e3f-9166-76362b8570f0\"></div>\n",
       "    </div>\n",
       "<script type=\"text/javascript\">\n",
       "  \n",
       "  (function(global) {\n",
       "    function now() {\n",
       "      return new Date();\n",
       "    }\n",
       "  \n",
       "    var force = false;\n",
       "  \n",
       "    if (typeof (window._bokeh_onload_callbacks) === \"undefined\" || force === true) {\n",
       "      window._bokeh_onload_callbacks = [];\n",
       "      window._bokeh_is_loading = undefined;\n",
       "    }\n",
       "  \n",
       "  \n",
       "    \n",
       "    if (typeof (window._bokeh_timeout) === \"undefined\" || force === true) {\n",
       "      window._bokeh_timeout = Date.now() + 0;\n",
       "      window._bokeh_failed_load = false;\n",
       "    }\n",
       "  \n",
       "    var NB_LOAD_WARNING = {'data': {'text/html':\n",
       "       \"<div style='background-color: #fdd'>\\n\"+\n",
       "       \"<p>\\n\"+\n",
       "       \"BokehJS does not appear to have successfully loaded. If loading BokehJS from CDN, this \\n\"+\n",
       "       \"may be due to a slow or bad network connection. Possible fixes:\\n\"+\n",
       "       \"</p>\\n\"+\n",
       "       \"<ul>\\n\"+\n",
       "       \"<li>re-rerun `output_notebook()` to attempt to load from CDN again, or</li>\\n\"+\n",
       "       \"<li>use INLINE resources instead, as so:</li>\\n\"+\n",
       "       \"</ul>\\n\"+\n",
       "       \"<code>\\n\"+\n",
       "       \"from bokeh.resources import INLINE\\n\"+\n",
       "       \"output_notebook(resources=INLINE)\\n\"+\n",
       "       \"</code>\\n\"+\n",
       "       \"</div>\"}};\n",
       "  \n",
       "    function display_loaded() {\n",
       "      if (window.Bokeh !== undefined) {\n",
       "        document.getElementById(\"2fcc6937-4074-4e3f-9166-76362b8570f0\").textContent = \"BokehJS successfully loaded.\";\n",
       "      } else if (Date.now() < window._bokeh_timeout) {\n",
       "        setTimeout(display_loaded, 100)\n",
       "      }\n",
       "    }\n",
       "  \n",
       "    function run_callbacks() {\n",
       "      window._bokeh_onload_callbacks.forEach(function(callback) { callback() });\n",
       "      delete window._bokeh_onload_callbacks\n",
       "      console.info(\"Bokeh: all callbacks have finished\");\n",
       "    }\n",
       "  \n",
       "    function load_libs(js_urls, callback) {\n",
       "      window._bokeh_onload_callbacks.push(callback);\n",
       "      if (window._bokeh_is_loading > 0) {\n",
       "        console.log(\"Bokeh: BokehJS is being loaded, scheduling callback at\", now());\n",
       "        return null;\n",
       "      }\n",
       "      if (js_urls == null || js_urls.length === 0) {\n",
       "        run_callbacks();\n",
       "        return null;\n",
       "      }\n",
       "      console.log(\"Bokeh: BokehJS not loaded, scheduling load and callback at\", now());\n",
       "      window._bokeh_is_loading = js_urls.length;\n",
       "      for (var i = 0; i < js_urls.length; i++) {\n",
       "        var url = js_urls[i];\n",
       "        var s = document.createElement('script');\n",
       "        s.src = url;\n",
       "        s.async = false;\n",
       "        s.onreadystatechange = s.onload = function() {\n",
       "          window._bokeh_is_loading--;\n",
       "          if (window._bokeh_is_loading === 0) {\n",
       "            console.log(\"Bokeh: all BokehJS libraries loaded\");\n",
       "            run_callbacks()\n",
       "          }\n",
       "        };\n",
       "        s.onerror = function() {\n",
       "          console.warn(\"failed to load library \" + url);\n",
       "        };\n",
       "        console.log(\"Bokeh: injecting script tag for BokehJS library: \", url);\n",
       "        document.getElementsByTagName(\"head\")[0].appendChild(s);\n",
       "      }\n",
       "    };var element = document.getElementById(\"2fcc6937-4074-4e3f-9166-76362b8570f0\");\n",
       "    if (element == null) {\n",
       "      console.log(\"Bokeh: ERROR: autoload.js configured with elementid '2fcc6937-4074-4e3f-9166-76362b8570f0' but no matching script tag was found. \")\n",
       "      return false;\n",
       "    }\n",
       "  \n",
       "    var js_urls = [];\n",
       "  \n",
       "    var inline_js = [\n",
       "      function(Bokeh) {\n",
       "        (function() {\n",
       "          var fn = function() {\n",
       "            var docs_json = {\"6f882345-8da7-4264-af2c-a91ee53f8969\":{\"roots\":{\"references\":[{\"attributes\":{},\"id\":\"ae5d62d5-6d03-4804-8cd7-017886bc862c\",\"type\":\"CategoricalTicker\"},{\"attributes\":{\"bottom_units\":\"screen\",\"fill_alpha\":{\"value\":0.5},\"fill_color\":{\"value\":\"lightgrey\"},\"left_units\":\"screen\",\"level\":\"overlay\",\"line_alpha\":{\"value\":1.0},\"line_color\":{\"value\":\"black\"},\"line_dash\":[4,4],\"line_width\":{\"value\":2},\"plot\":null,\"render_mode\":\"css\",\"right_units\":\"screen\",\"top_units\":\"screen\"},\"id\":\"1f8db31f-b2ef-4595-a43b-bb40b86e074b\",\"type\":\"BoxAnnotation\"},{\"attributes\":{\"callback\":null,\"end\":2.0388349514563107,\"start\":-0.18534863195057372},\"id\":\"630214eb-6ffd-41d6-a06f-8e1e6d88ce59\",\"type\":\"Range1d\"},{\"attributes\":{\"callback\":null,\"column_names\":[\"x_values\",\"y_values\"],\"data\":{\"chart_index\":[{\"series\":\"failure_ratio_pm\"},{\"series\":\"failure_ratio_pm\"},{\"series\":\"failure_ratio_pm\"},{\"series\":\"failure_ratio_pm\"},{\"series\":\"failure_ratio_pm\"},{\"series\":\"failure_ratio_pm\"},{\"series\":\"failure_ratio_pm\"},{\"series\":\"failure_ratio_pm\"},{\"series\":\"failure_ratio_pm\"},{\"series\":\"failure_ratio_pm\"},{\"series\":\"failure_ratio_pm\"}],\"series\":[\"failure_ratio_pm\",\"failure_ratio_pm\",\"failure_ratio_pm\",\"failure_ratio_pm\",\"failure_ratio_pm\",\"failure_ratio_pm\",\"failure_ratio_pm\",\"failure_ratio_pm\",\"failure_ratio_pm\",\"failure_ratio_pm\",\"failure_ratio_pm\"],\"x_values\":[\"Jan\",\"Feb\",\"Mar\",\"Apr\",\"May\",\"Jun\",\"Jul\",\"Aug\",\"Sep\",\"Oct\",\"Nov\"],\"y_values\":{\"__ndarray__\":\"PYfjO0Su7j+Xb/mWb/nmP4dZKJrhCt0/hyIRtdz55z/OxF1F4af9PxtEsxkBV+I/X+EjlCZP+D+99nJmYqzePwAAAAAAAAAAFbycgpdT8D8AAAAAAAAAAA==\",\"dtype\":\"float64\",\"shape\":[11]}}},\"id\":\"00f6b203-5378-4ce0-b765-353312c8e01c\",\"type\":\"ColumnDataSource\"},{\"attributes\":{\"axis_label\":\"n_failures\",\"formatter\":{\"id\":\"29292aee-a5b0-4085-b528-fa8d40fc4e35\",\"type\":\"BasicTickFormatter\"},\"plot\":{\"id\":\"3c07a3cc-9b78-486a-8460-cd04eb4ecfb1\",\"subtype\":\"Chart\",\"type\":\"Plot\"},\"ticker\":{\"id\":\"f853d086-d850-404f-9ffd-7d0b2fe958c1\",\"type\":\"BasicTicker\"}},\"id\":\"412e801f-0ea2-46a7-938e-2ded40689fe4\",\"type\":\"LinearAxis\"},{\"attributes\":{\"axis_label\":\"month\",\"formatter\":{\"id\":\"31362768-40b8-48df-b859-eb3bea0cc1a3\",\"type\":\"CategoricalTickFormatter\"},\"major_label_orientation\":0.7853981633974483,\"plot\":{\"id\":\"3c07a3cc-9b78-486a-8460-cd04eb4ecfb1\",\"subtype\":\"Chart\",\"type\":\"Plot\"},\"ticker\":{\"id\":\"ae5d62d5-6d03-4804-8cd7-017886bc862c\",\"type\":\"CategoricalTicker\"}},\"id\":\"de774cee-51fb-42cb-9160-7e2f02870984\",\"type\":\"CategoricalAxis\"},{\"attributes\":{\"plot\":{\"id\":\"3c07a3cc-9b78-486a-8460-cd04eb4ecfb1\",\"subtype\":\"Chart\",\"type\":\"Plot\"}},\"id\":\"66e3d730-562e-426a-bb6c-9b166685867d\",\"type\":\"HelpTool\"},{\"attributes\":{},\"id\":\"29292aee-a5b0-4085-b528-fa8d40fc4e35\",\"type\":\"BasicTickFormatter\"},{\"attributes\":{\"below\":[{\"id\":\"de774cee-51fb-42cb-9160-7e2f02870984\",\"type\":\"CategoricalAxis\"}],\"css_classes\":null,\"left\":[{\"id\":\"412e801f-0ea2-46a7-938e-2ded40689fe4\",\"type\":\"LinearAxis\"}],\"renderers\":[{\"id\":\"1f8db31f-b2ef-4595-a43b-bb40b86e074b\",\"type\":\"BoxAnnotation\"},{\"id\":\"59c410c7-f06e-4252-9ba3-f79096b178de\",\"type\":\"GlyphRenderer\"},{\"id\":\"139785d9-f06c-44d7-bf69-2a06779da357\",\"type\":\"Legend\"},{\"id\":\"de774cee-51fb-42cb-9160-7e2f02870984\",\"type\":\"CategoricalAxis\"},{\"id\":\"412e801f-0ea2-46a7-938e-2ded40689fe4\",\"type\":\"LinearAxis\"},{\"id\":\"1f39869d-df70-4ba0-931d-2f08cdd83944\",\"type\":\"Grid\"},{\"id\":\"cc301008-289b-4bcb-a902-7f16d973dd84\",\"type\":\"Grid\"}],\"title\":{\"id\":\"941c40b8-56e6-413a-bcbe-022933bfce7e\",\"type\":\"Title\"},\"tool_events\":{\"id\":\"d02b3577-c93b-4d25-b849-27ae4e2a48cf\",\"type\":\"ToolEvents\"},\"toolbar\":{\"id\":\"8cddb22f-1631-4c69-8916-7d8f752dd6d2\",\"type\":\"Toolbar\"},\"x_mapper_type\":\"auto\",\"x_range\":{\"id\":\"3105cd67-9514-4ec0-9aeb-d59c93da4d8b\",\"type\":\"FactorRange\"},\"y_mapper_type\":\"auto\",\"y_range\":{\"id\":\"630214eb-6ffd-41d6-a06f-8e1e6d88ce59\",\"type\":\"Range1d\"}},\"id\":\"3c07a3cc-9b78-486a-8460-cd04eb4ecfb1\",\"subtype\":\"Chart\",\"type\":\"Plot\"},{\"attributes\":{\"items\":[{\"id\":\"b5a7f8d3-d88f-4471-ac9c-36288f665d0e\",\"type\":\"LegendItem\"}],\"location\":\"top_left\",\"plot\":{\"id\":\"3c07a3cc-9b78-486a-8460-cd04eb4ecfb1\",\"subtype\":\"Chart\",\"type\":\"Plot\"}},\"id\":\"139785d9-f06c-44d7-bf69-2a06779da357\",\"type\":\"Legend\"},{\"attributes\":{},\"id\":\"d02b3577-c93b-4d25-b849-27ae4e2a48cf\",\"type\":\"ToolEvents\"},{\"attributes\":{\"overlay\":{\"id\":\"1f8db31f-b2ef-4595-a43b-bb40b86e074b\",\"type\":\"BoxAnnotation\"},\"plot\":{\"id\":\"3c07a3cc-9b78-486a-8460-cd04eb4ecfb1\",\"subtype\":\"Chart\",\"type\":\"Plot\"}},\"id\":\"e64037cf-82e6-4aa6-9d17-71e6282ef053\",\"type\":\"BoxZoomTool\"},{\"attributes\":{\"plot\":null,\"text\":\"failures per Month\"},\"id\":\"941c40b8-56e6-413a-bcbe-022933bfce7e\",\"type\":\"Title\"},{\"attributes\":{\"data_source\":{\"id\":\"00f6b203-5378-4ce0-b765-353312c8e01c\",\"type\":\"ColumnDataSource\"},\"glyph\":{\"id\":\"a6b8d9b0-c3e1-4e94-b46f-086387d7d102\",\"type\":\"Line\"},\"hover_glyph\":null,\"nonselection_glyph\":null,\"selection_glyph\":null},\"id\":\"59c410c7-f06e-4252-9ba3-f79096b178de\",\"type\":\"GlyphRenderer\"},{\"attributes\":{\"line_color\":{\"value\":\"#f22c40\"},\"line_width\":{\"value\":2},\"x\":{\"field\":\"x_values\"},\"y\":{\"field\":\"y_values\"}},\"id\":\"a6b8d9b0-c3e1-4e94-b46f-086387d7d102\",\"type\":\"Line\"},{\"attributes\":{\"plot\":{\"id\":\"3c07a3cc-9b78-486a-8460-cd04eb4ecfb1\",\"subtype\":\"Chart\",\"type\":\"Plot\"}},\"id\":\"23a3cab6-b5d3-43d4-92f1-09f7b00b171d\",\"type\":\"ResetTool\"},{\"attributes\":{\"plot\":{\"id\":\"3c07a3cc-9b78-486a-8460-cd04eb4ecfb1\",\"subtype\":\"Chart\",\"type\":\"Plot\"},\"ticker\":{\"id\":\"ae5d62d5-6d03-4804-8cd7-017886bc862c\",\"type\":\"CategoricalTicker\"}},\"id\":\"1f39869d-df70-4ba0-931d-2f08cdd83944\",\"type\":\"Grid\"},{\"attributes\":{\"active_drag\":\"auto\",\"active_scroll\":\"auto\",\"active_tap\":\"auto\",\"tools\":[{\"id\":\"acbe2e42-4100-4adc-8bd7-8ddb315f9fbf\",\"type\":\"PanTool\"},{\"id\":\"effeac21-1bd7-4a0b-87d7-d53a9f15d62d\",\"type\":\"WheelZoomTool\"},{\"id\":\"e64037cf-82e6-4aa6-9d17-71e6282ef053\",\"type\":\"BoxZoomTool\"},{\"id\":\"f0d04c7a-14f7-419e-8466-51746b6a436b\",\"type\":\"SaveTool\"},{\"id\":\"23a3cab6-b5d3-43d4-92f1-09f7b00b171d\",\"type\":\"ResetTool\"},{\"id\":\"66e3d730-562e-426a-bb6c-9b166685867d\",\"type\":\"HelpTool\"}]},\"id\":\"8cddb22f-1631-4c69-8916-7d8f752dd6d2\",\"type\":\"Toolbar\"},{\"attributes\":{\"callback\":null,\"factors\":[\"Jan\",\"Feb\",\"Mar\",\"Apr\",\"May\",\"Jun\",\"Jul\",\"Aug\",\"Sep\",\"Oct\",\"Nov\"]},\"id\":\"3105cd67-9514-4ec0-9aeb-d59c93da4d8b\",\"type\":\"FactorRange\"},{\"attributes\":{},\"id\":\"31362768-40b8-48df-b859-eb3bea0cc1a3\",\"type\":\"CategoricalTickFormatter\"},{\"attributes\":{\"label\":{\"value\":\"failure_ratio_pm\"},\"renderers\":[{\"id\":\"59c410c7-f06e-4252-9ba3-f79096b178de\",\"type\":\"GlyphRenderer\"}]},\"id\":\"b5a7f8d3-d88f-4471-ac9c-36288f665d0e\",\"type\":\"LegendItem\"},{\"attributes\":{\"dimension\":1,\"plot\":{\"id\":\"3c07a3cc-9b78-486a-8460-cd04eb4ecfb1\",\"subtype\":\"Chart\",\"type\":\"Plot\"},\"ticker\":{\"id\":\"f853d086-d850-404f-9ffd-7d0b2fe958c1\",\"type\":\"BasicTicker\"}},\"id\":\"cc301008-289b-4bcb-a902-7f16d973dd84\",\"type\":\"Grid\"},{\"attributes\":{\"plot\":{\"id\":\"3c07a3cc-9b78-486a-8460-cd04eb4ecfb1\",\"subtype\":\"Chart\",\"type\":\"Plot\"}},\"id\":\"effeac21-1bd7-4a0b-87d7-d53a9f15d62d\",\"type\":\"WheelZoomTool\"},{\"attributes\":{\"plot\":{\"id\":\"3c07a3cc-9b78-486a-8460-cd04eb4ecfb1\",\"subtype\":\"Chart\",\"type\":\"Plot\"}},\"id\":\"f0d04c7a-14f7-419e-8466-51746b6a436b\",\"type\":\"SaveTool\"},{\"attributes\":{},\"id\":\"f853d086-d850-404f-9ffd-7d0b2fe958c1\",\"type\":\"BasicTicker\"},{\"attributes\":{\"plot\":{\"id\":\"3c07a3cc-9b78-486a-8460-cd04eb4ecfb1\",\"subtype\":\"Chart\",\"type\":\"Plot\"}},\"id\":\"acbe2e42-4100-4adc-8bd7-8ddb315f9fbf\",\"type\":\"PanTool\"}],\"root_ids\":[\"3c07a3cc-9b78-486a-8460-cd04eb4ecfb1\"]},\"title\":\"Bokeh Application\",\"version\":\"0.12.4\"}};\n",
       "            var render_items = [{\"docid\":\"6f882345-8da7-4264-af2c-a91ee53f8969\",\"elementid\":\"2fcc6937-4074-4e3f-9166-76362b8570f0\",\"modelid\":\"3c07a3cc-9b78-486a-8460-cd04eb4ecfb1\"}];\n",
       "            \n",
       "            Bokeh.embed.embed_items(docs_json, render_items);\n",
       "          };\n",
       "          if (document.readyState != \"loading\") fn();\n",
       "          else document.addEventListener(\"DOMContentLoaded\", fn);\n",
       "        })();\n",
       "      },\n",
       "      function(Bokeh) {\n",
       "      }\n",
       "    ];\n",
       "  \n",
       "    function run_inline_js() {\n",
       "      \n",
       "      if ((window.Bokeh !== undefined) || (force === true)) {\n",
       "        for (var i = 0; i < inline_js.length; i++) {\n",
       "          inline_js[i](window.Bokeh);\n",
       "        }if (force === true) {\n",
       "          display_loaded();\n",
       "        }} else if (Date.now() < window._bokeh_timeout) {\n",
       "        setTimeout(run_inline_js, 100);\n",
       "      } else if (!window._bokeh_failed_load) {\n",
       "        console.log(\"Bokeh: BokehJS failed to load within specified timeout.\");\n",
       "        window._bokeh_failed_load = true;\n",
       "      } else if (force !== true) {\n",
       "        var cell = $(document.getElementById(\"2fcc6937-4074-4e3f-9166-76362b8570f0\")).parents('.cell').data().cell;\n",
       "        cell.output_area.append_execute_result(NB_LOAD_WARNING)\n",
       "      }\n",
       "  \n",
       "    }\n",
       "  \n",
       "    if (window._bokeh_is_loading === 0) {\n",
       "      console.log(\"Bokeh: BokehJS loaded, going straight to plotting\");\n",
       "      run_inline_js();\n",
       "    } else {\n",
       "      load_libs(js_urls, function() {\n",
       "        console.log(\"Bokeh: BokehJS plotting callback run at\", now());\n",
       "        run_inline_js();\n",
       "      });\n",
       "    }\n",
       "  }(this));\n",
       "</script>"
      ]
     },
     "metadata": {},
     "output_type": "display_data"
    }
   ],
   "source": [
    "from bokeh.plotting import figure\n",
    "data =total_failures_per_date.resample(\"M\").sum() \n",
    "test = label_dset.reset_index(\"device\").resample(\"M\").count()\n",
    "data[\"n_devices\"] = test[\"device\"]\n",
    "data[\"failure_ratio_pm\"] = data[\"failure\"] / data[\"n_devices\"] * 1000\n",
    "data.index = (calendar.month_abbr[i] for i in data.index.month)\n",
    "l = Line(\n",
    "    data[\"failure_ratio_pm\"],\n",
    "    title=\"failures per Month\",\n",
    "    ylabel=\"n_failures\", \n",
    "    xlabel=\"month\"\n",
    ")\n",
    "show(l)"
   ]
  },
  {
   "cell_type": "code",
   "execution_count": 189,
   "metadata": {
    "collapsed": false
   },
   "outputs": [
    {
     "name": "stdout",
     "output_type": "stream",
     "text": [
      "failures per weekday\n"
     ]
    },
    {
     "data": {
      "text/html": [
       "<div>\n",
       "<table border=\"1\" class=\"dataframe\">\n",
       "  <thead>\n",
       "    <tr style=\"text-align: right;\">\n",
       "      <th></th>\n",
       "      <th>failure</th>\n",
       "    </tr>\n",
       "  </thead>\n",
       "  <tbody>\n",
       "    <tr>\n",
       "      <th>0:Monday</th>\n",
       "      <td>27</td>\n",
       "    </tr>\n",
       "    <tr>\n",
       "      <th>1:Tuesday</th>\n",
       "      <td>18</td>\n",
       "    </tr>\n",
       "    <tr>\n",
       "      <th>2:Wednesday</th>\n",
       "      <td>15</td>\n",
       "    </tr>\n",
       "    <tr>\n",
       "      <th>3:Thursday</th>\n",
       "      <td>22</td>\n",
       "    </tr>\n",
       "    <tr>\n",
       "      <th>4:Friday</th>\n",
       "      <td>12</td>\n",
       "    </tr>\n",
       "    <tr>\n",
       "      <th>5:Saturday</th>\n",
       "      <td>8</td>\n",
       "    </tr>\n",
       "    <tr>\n",
       "      <th>6:Sunday</th>\n",
       "      <td>4</td>\n",
       "    </tr>\n",
       "  </tbody>\n",
       "</table>\n",
       "</div>"
      ],
      "text/plain": [
       "             failure\n",
       "0:Monday          27\n",
       "1:Tuesday         18\n",
       "2:Wednesday       15\n",
       "3:Thursday        22\n",
       "4:Friday          12\n",
       "5:Saturday         8\n",
       "6:Sunday           4"
      ]
     },
     "execution_count": 189,
     "metadata": {},
     "output_type": "execute_result"
    }
   ],
   "source": [
    "weekday_dset = total_failures_per_date.copy()\n",
    "weekday_dset.index = [\"%i:%s\" % (i,calendar.day_name[i]) for i in total_failures_per_date.index.weekday]\n",
    "\n",
    "per_day = weekday_dset.groupby(level=0).sum()\n",
    "\n",
    "print \"failures per weekday\"\n",
    "\n",
    "per_day.sort_index()\n"
   ]
  },
  {
   "cell_type": "markdown",
   "metadata": {
    "collapsed": false
   },
   "source": [
    "- Long term trend with more failures in the past\n",
    "- Less  failures over the weekend\n",
    "- The absence of weekend could be explained by maintenance hapening only during workweek (hence explaing more failures on monday\n"
   ]
  },
  {
   "cell_type": "markdown",
   "metadata": {
    "collapsed": false
   },
   "source": [
    "### per Device description "
   ]
  },
  {
   "cell_type": "code",
   "execution_count": 190,
   "metadata": {
    "collapsed": false
   },
   "outputs": [],
   "source": [
    "import numpy as np\n",
    "dates = label_dset.swaplevel()\n",
    "dd= dates.reset_index(\"date\")[\"date\"]\n",
    "devices = pd.DataFrame({\"min_date\":dd.groupby(level=0).min()})\n",
    "devices[\"max_date\"] =  dd.groupby(level=0).max()\n",
    "devices[\"n_lines\"] = dd.groupby(level=0).count()\n",
    "devices[\"n_days\"] = (devices[\"max_date\"] - devices[\"min_date\"] ) /np.timedelta64(1, 'D') +1\n",
    "devices[\"missing_values\"] = devices[\"n_days\"] - devices[\"n_lines\"]"
   ]
  },
  {
   "cell_type": "code",
   "execution_count": 191,
   "metadata": {
    "collapsed": false
   },
   "outputs": [
    {
     "data": {
      "text/plain": [
       "2015-01-01    1163\n",
       "2015-05-06       4\n",
       "2015-01-27       1\n",
       "Name: min_date, dtype: int64"
      ]
     },
     "execution_count": 191,
     "metadata": {},
     "output_type": "execute_result"
    }
   ],
   "source": [
    "devices[\"min_date\"].value_counts()"
   ]
  },
  {
   "cell_type": "markdown",
   "metadata": {},
   "source": [
    "### checking the nb devices per month. this is better done above"
   ]
  },
  {
   "cell_type": "code",
   "execution_count": 199,
   "metadata": {
    "collapsed": true
   },
   "outputs": [
    {
     "data": {
      "text/html": [
       "<div>\n",
       "<table border=\"1\" class=\"dataframe\">\n",
       "  <thead>\n",
       "    <tr style=\"text-align: right;\">\n",
       "      <th></th>\n",
       "      <th>n_devices</th>\n",
       "    </tr>\n",
       "  </thead>\n",
       "  <tbody>\n",
       "    <tr>\n",
       "      <th>Jan</th>\n",
       "      <td>399</td>\n",
       "    </tr>\n",
       "    <tr>\n",
       "      <th>Feb</th>\n",
       "      <td>46</td>\n",
       "    </tr>\n",
       "    <tr>\n",
       "      <th>Mar</th>\n",
       "      <td>184</td>\n",
       "    </tr>\n",
       "    <tr>\n",
       "      <th>Apr</th>\n",
       "      <td>112</td>\n",
       "    </tr>\n",
       "    <tr>\n",
       "      <th>May</th>\n",
       "      <td>72</td>\n",
       "    </tr>\n",
       "    <tr>\n",
       "      <th>Jun</th>\n",
       "      <td>6</td>\n",
       "    </tr>\n",
       "    <tr>\n",
       "      <th>Jul</th>\n",
       "      <td>15</td>\n",
       "    </tr>\n",
       "    <tr>\n",
       "      <th>Aug</th>\n",
       "      <td>150</td>\n",
       "    </tr>\n",
       "    <tr>\n",
       "      <th>Sep</th>\n",
       "      <td>38</td>\n",
       "    </tr>\n",
       "    <tr>\n",
       "      <th>Oct</th>\n",
       "      <td>115</td>\n",
       "    </tr>\n",
       "    <tr>\n",
       "      <th>Nov</th>\n",
       "      <td>31</td>\n",
       "    </tr>\n",
       "  </tbody>\n",
       "</table>\n",
       "</div>"
      ],
      "text/plain": [
       "     n_devices\n",
       "Jan        399\n",
       "Feb         46\n",
       "Mar        184\n",
       "Apr        112\n",
       "May         72\n",
       "Jun          6\n",
       "Jul         15\n",
       "Aug        150\n",
       "Sep         38\n",
       "Oct        115\n",
       "Nov         31"
      ]
     },
     "execution_count": 199,
     "metadata": {},
     "output_type": "execute_result"
    }
   ],
   "source": [
    "#pd.DataFrame({\"n_devices\":devices[\"max_date\"].dt.month.value_counts().sort_index()})\n",
    "montlhy_devices = pd.DataFrame({\"n_devices\":devices[\"max_date\"].dt.month.value_counts().sort_index()})\n",
    "montlhy_devices.index = [calendar.month_abbr[i] for i in montlhy_devices.index]\n",
    "montlhy_devices"
   ]
  },
  {
   "cell_type": "markdown",
   "metadata": {},
   "source": [
    "### bucketing the n devices with missing day data"
   ]
  },
  {
   "cell_type": "code",
   "execution_count": 200,
   "metadata": {
    "collapsed": false
   },
   "outputs": [
    {
     "data": {
      "text/html": [
       "<div>\n",
       "<table border=\"1\" class=\"dataframe\">\n",
       "  <thead>\n",
       "    <tr style=\"text-align: right;\">\n",
       "      <th></th>\n",
       "      <th>n devices</th>\n",
       "    </tr>\n",
       "    <tr>\n",
       "      <th>n missing days</th>\n",
       "      <th></th>\n",
       "    </tr>\n",
       "  </thead>\n",
       "  <tbody>\n",
       "    <tr>\n",
       "      <th>-0.0</th>\n",
       "      <td>1077</td>\n",
       "    </tr>\n",
       "    <tr>\n",
       "      <th>20.0</th>\n",
       "      <td>26</td>\n",
       "    </tr>\n",
       "    <tr>\n",
       "      <th>40.0</th>\n",
       "      <td>21</td>\n",
       "    </tr>\n",
       "    <tr>\n",
       "      <th>60.0</th>\n",
       "      <td>8</td>\n",
       "    </tr>\n",
       "    <tr>\n",
       "      <th>80.0</th>\n",
       "      <td>3</td>\n",
       "    </tr>\n",
       "    <tr>\n",
       "      <th>100.0</th>\n",
       "      <td>28</td>\n",
       "    </tr>\n",
       "    <tr>\n",
       "      <th>120.0</th>\n",
       "      <td>4</td>\n",
       "    </tr>\n",
       "    <tr>\n",
       "      <th>140.0</th>\n",
       "      <td>1</td>\n",
       "    </tr>\n",
       "  </tbody>\n",
       "</table>\n",
       "</div>"
      ],
      "text/plain": [
       "                n devices\n",
       "n missing days           \n",
       "-0.0                 1077\n",
       " 20.0                  26\n",
       " 40.0                  21\n",
       " 60.0                   8\n",
       " 80.0                   3\n",
       " 100.0                 28\n",
       " 120.0                  4\n",
       " 140.0                  1"
      ]
     },
     "execution_count": 200,
     "metadata": {},
     "output_type": "execute_result"
    }
   ],
   "source": [
    "i = ( (devices[\"missing_values\"] //20)*20).value_counts()\n",
    "#i = ( (devices[\"missing_values\"])).value_counts(bins=10)\n",
    "i.index.name = \"n missing days\"\n",
    "pd.DataFrame({\"n devices\":i.sort_index()})"
   ]
  },
  {
   "cell_type": "code",
   "execution_count": null,
   "metadata": {
    "collapsed": true
   },
   "outputs": [],
   "source": []
  }
 ],
 "metadata": {
  "kernelspec": {
   "display_name": "Python 2",
   "language": "python",
   "name": "python2"
  },
  "language_info": {
   "codemirror_mode": {
    "name": "ipython",
    "version": 2
   },
   "file_extension": ".py",
   "mimetype": "text/x-python",
   "name": "python",
   "nbconvert_exporter": "python",
   "pygments_lexer": "ipython2",
   "version": "2.7.12"
  }
 },
 "nbformat": 4,
 "nbformat_minor": 2
}
