{
 "cells": [
  {
   "cell_type": "markdown",
   "metadata": {
    "collapsed": true
   },
   "source": [
    "## loading data/libs"
   ]
  },
  {
   "cell_type": "code",
   "execution_count": 147,
   "metadata": {
    "ExecuteTime": {
     "end_time": "2017-01-20T19:09:44.933314",
     "start_time": "2017-01-20T19:09:44.913874"
    },
    "collapsed": false
   },
   "outputs": [
    {
     "data": {
      "text/html": [
       "\n",
       "    <div class=\"bk-root\">\n",
       "        <a href=\"http://bokeh.pydata.org\" target=\"_blank\" class=\"bk-logo bk-logo-small bk-logo-notebook\"></a>\n",
       "        <span id=\"e8abf3e3-8999-47a0-841f-8445d1f7673b\">Loading BokehJS ...</span>\n",
       "    </div>"
      ]
     },
     "metadata": {},
     "output_type": "display_data"
    },
    {
     "data": {
      "application/javascript": [
       "\n",
       "(function(global) {\n",
       "  function now() {\n",
       "    return new Date();\n",
       "  }\n",
       "\n",
       "  var force = true;\n",
       "\n",
       "  if (typeof (window._bokeh_onload_callbacks) === \"undefined\" || force === true) {\n",
       "    window._bokeh_onload_callbacks = [];\n",
       "    window._bokeh_is_loading = undefined;\n",
       "  }\n",
       "\n",
       "\n",
       "  \n",
       "  if (typeof (window._bokeh_timeout) === \"undefined\" || force === true) {\n",
       "    window._bokeh_timeout = Date.now() + 5000;\n",
       "    window._bokeh_failed_load = false;\n",
       "  }\n",
       "\n",
       "  var NB_LOAD_WARNING = {'data': {'text/html':\n",
       "     \"<div style='background-color: #fdd'>\\n\"+\n",
       "     \"<p>\\n\"+\n",
       "     \"BokehJS does not appear to have successfully loaded. If loading BokehJS from CDN, this \\n\"+\n",
       "     \"may be due to a slow or bad network connection. Possible fixes:\\n\"+\n",
       "     \"</p>\\n\"+\n",
       "     \"<ul>\\n\"+\n",
       "     \"<li>re-rerun `output_notebook()` to attempt to load from CDN again, or</li>\\n\"+\n",
       "     \"<li>use INLINE resources instead, as so:</li>\\n\"+\n",
       "     \"</ul>\\n\"+\n",
       "     \"<code>\\n\"+\n",
       "     \"from bokeh.resources import INLINE\\n\"+\n",
       "     \"output_notebook(resources=INLINE)\\n\"+\n",
       "     \"</code>\\n\"+\n",
       "     \"</div>\"}};\n",
       "\n",
       "  function display_loaded() {\n",
       "    if (window.Bokeh !== undefined) {\n",
       "      document.getElementById(\"e8abf3e3-8999-47a0-841f-8445d1f7673b\").textContent = \"BokehJS successfully loaded.\";\n",
       "    } else if (Date.now() < window._bokeh_timeout) {\n",
       "      setTimeout(display_loaded, 100)\n",
       "    }\n",
       "  }\n",
       "\n",
       "  function run_callbacks() {\n",
       "    window._bokeh_onload_callbacks.forEach(function(callback) { callback() });\n",
       "    delete window._bokeh_onload_callbacks\n",
       "    console.info(\"Bokeh: all callbacks have finished\");\n",
       "  }\n",
       "\n",
       "  function load_libs(js_urls, callback) {\n",
       "    window._bokeh_onload_callbacks.push(callback);\n",
       "    if (window._bokeh_is_loading > 0) {\n",
       "      console.log(\"Bokeh: BokehJS is being loaded, scheduling callback at\", now());\n",
       "      return null;\n",
       "    }\n",
       "    if (js_urls == null || js_urls.length === 0) {\n",
       "      run_callbacks();\n",
       "      return null;\n",
       "    }\n",
       "    console.log(\"Bokeh: BokehJS not loaded, scheduling load and callback at\", now());\n",
       "    window._bokeh_is_loading = js_urls.length;\n",
       "    for (var i = 0; i < js_urls.length; i++) {\n",
       "      var url = js_urls[i];\n",
       "      var s = document.createElement('script');\n",
       "      s.src = url;\n",
       "      s.async = false;\n",
       "      s.onreadystatechange = s.onload = function() {\n",
       "        window._bokeh_is_loading--;\n",
       "        if (window._bokeh_is_loading === 0) {\n",
       "          console.log(\"Bokeh: all BokehJS libraries loaded\");\n",
       "          run_callbacks()\n",
       "        }\n",
       "      };\n",
       "      s.onerror = function() {\n",
       "        console.warn(\"failed to load library \" + url);\n",
       "      };\n",
       "      console.log(\"Bokeh: injecting script tag for BokehJS library: \", url);\n",
       "      document.getElementsByTagName(\"head\")[0].appendChild(s);\n",
       "    }\n",
       "  };var element = document.getElementById(\"e8abf3e3-8999-47a0-841f-8445d1f7673b\");\n",
       "  if (element == null) {\n",
       "    console.log(\"Bokeh: ERROR: autoload.js configured with elementid 'e8abf3e3-8999-47a0-841f-8445d1f7673b' but no matching script tag was found. \")\n",
       "    return false;\n",
       "  }\n",
       "\n",
       "  var js_urls = [\"https://cdn.pydata.org/bokeh/release/bokeh-0.12.4.min.js\", \"https://cdn.pydata.org/bokeh/release/bokeh-widgets-0.12.4.min.js\"];\n",
       "\n",
       "  var inline_js = [\n",
       "    function(Bokeh) {\n",
       "      Bokeh.set_log_level(\"info\");\n",
       "    },\n",
       "    \n",
       "    function(Bokeh) {\n",
       "      \n",
       "      document.getElementById(\"e8abf3e3-8999-47a0-841f-8445d1f7673b\").textContent = \"BokehJS is loading...\";\n",
       "    },\n",
       "    function(Bokeh) {\n",
       "      console.log(\"Bokeh: injecting CSS: https://cdn.pydata.org/bokeh/release/bokeh-0.12.4.min.css\");\n",
       "      Bokeh.embed.inject_css(\"https://cdn.pydata.org/bokeh/release/bokeh-0.12.4.min.css\");\n",
       "      console.log(\"Bokeh: injecting CSS: https://cdn.pydata.org/bokeh/release/bokeh-widgets-0.12.4.min.css\");\n",
       "      Bokeh.embed.inject_css(\"https://cdn.pydata.org/bokeh/release/bokeh-widgets-0.12.4.min.css\");\n",
       "    }\n",
       "  ];\n",
       "\n",
       "  function run_inline_js() {\n",
       "    \n",
       "    if ((window.Bokeh !== undefined) || (force === true)) {\n",
       "      for (var i = 0; i < inline_js.length; i++) {\n",
       "        inline_js[i](window.Bokeh);\n",
       "      }if (force === true) {\n",
       "        display_loaded();\n",
       "      }} else if (Date.now() < window._bokeh_timeout) {\n",
       "      setTimeout(run_inline_js, 100);\n",
       "    } else if (!window._bokeh_failed_load) {\n",
       "      console.log(\"Bokeh: BokehJS failed to load within specified timeout.\");\n",
       "      window._bokeh_failed_load = true;\n",
       "    } else if (force !== true) {\n",
       "      var cell = $(document.getElementById(\"e8abf3e3-8999-47a0-841f-8445d1f7673b\")).parents('.cell').data().cell;\n",
       "      cell.output_area.append_execute_result(NB_LOAD_WARNING)\n",
       "    }\n",
       "\n",
       "  }\n",
       "\n",
       "  if (window._bokeh_is_loading === 0) {\n",
       "    console.log(\"Bokeh: BokehJS loaded, going straight to plotting\");\n",
       "    run_inline_js();\n",
       "  } else {\n",
       "    load_libs(js_urls, function() {\n",
       "      console.log(\"Bokeh: BokehJS plotting callback run at\", now());\n",
       "      run_inline_js();\n",
       "    });\n",
       "  }\n",
       "}(this));"
      ]
     },
     "metadata": {},
     "output_type": "display_data"
    }
   ],
   "source": [
    "import pandas as pd\n",
    "import calendar\n",
    "from bokeh.charts import output_notebook, Scatter, Bar, show, output_file, Line, BoxPlot, Scatter\n",
    "from bokeh.plotting import figure\n",
    "from bokeh.io import hplot\n",
    "output_notebook() "
   ]
  },
  {
   "cell_type": "code",
   "execution_count": 2,
   "metadata": {
    "ExecuteTime": {
     "end_time": "2017-01-20T18:12:25.340898",
     "start_time": "2017-01-20T18:12:25.168430"
    },
    "collapsed": false
   },
   "outputs": [],
   "source": [
    "INPUT=\"data/device_failure.csv\" \n",
    "dataset = pd.read_csv(INPUT,index_col=[0,1],parse_dates=[0])"
   ]
  },
  {
   "cell_type": "code",
   "execution_count": 3,
   "metadata": {
    "ExecuteTime": {
     "end_time": "2017-01-20T18:12:26.110610",
     "start_time": "2017-01-20T18:12:26.102261"
    },
    "collapsed": false
   },
   "outputs": [],
   "source": [
    "label_dset = dataset[[\"failure\"]]\n"
   ]
  },
  {
   "cell_type": "markdown",
   "metadata": {},
   "source": [
    "### checking devices"
   ]
  },
  {
   "cell_type": "code",
   "execution_count": 4,
   "metadata": {
    "ExecuteTime": {
     "end_time": "2017-01-20T18:12:27.150655",
     "start_time": "2017-01-20T18:12:27.133185"
    },
    "collapsed": false
   },
   "outputs": [
    {
     "data": {
      "text/plain": [
       "0    1062\n",
       "1     106\n",
       "Name: failure, dtype: int64"
      ]
     },
     "execution_count": 4,
     "metadata": {},
     "output_type": "execute_result"
    }
   ],
   "source": [
    "total_failures_per_device = label_dset.groupby(level=1).agg(sum)\n",
    "total_failures_per_device[\"failure\"].value_counts()"
   ]
  },
  {
   "cell_type": "markdown",
   "metadata": {},
   "source": [
    "Each device fail at least once\n",
    "\n",
    "~10% device failing\n",
    "\n",
    "'only' 106 positive points"
   ]
  },
  {
   "cell_type": "markdown",
   "metadata": {},
   "source": [
    "### checking Dates"
   ]
  },
  {
   "cell_type": "code",
   "execution_count": 5,
   "metadata": {
    "ExecuteTime": {
     "end_time": "2017-01-20T18:12:28.723917",
     "start_time": "2017-01-20T18:12:28.707260"
    },
    "collapsed": false
   },
   "outputs": [
    {
     "name": "stdout",
     "output_type": "stream",
     "text": [
      "Range: from 2015-01-01 00:00:00 to 2015-11-02 00:00:00\n",
      "\n",
      " n failures per date\n",
      "0    228\n",
      "1     54\n",
      "2     19\n",
      "3      2\n",
      "8      1\n",
      "Name: failure, dtype: int64\n",
      "\n",
      "total: 106 failures for 76 days\n"
     ]
    }
   ],
   "source": [
    "dates = label_dset.index.get_level_values(0)\n",
    "print \"Range: from %s to %s\" % (dates.min(), dates.max())\n",
    "\n",
    "\n",
    "total_failures_per_date = label_dset.groupby(level=0).agg(sum)\n",
    "print\n",
    "print \" n failures per date\"\n",
    "print str(total_failures_per_date[\"failure\"].value_counts())\n",
    "print\n",
    "print \"total: %i failures for %i days\" % (total_failures_per_date[\"failure\"].sum(), \n",
    "                                          total_failures_per_date[total_failures_per_date.failure >0].count())"
   ]
  },
  {
   "cell_type": "code",
   "execution_count": 6,
   "metadata": {
    "ExecuteTime": {
     "end_time": "2017-01-20T18:12:29.790747",
     "start_time": "2017-01-20T18:12:29.720487"
    },
    "collapsed": false,
    "scrolled": true
   },
   "outputs": [
    {
     "data": {
      "text/html": [
       "\n",
       "\n",
       "    <div class=\"bk-root\">\n",
       "        <div class=\"bk-plotdiv\" id=\"a6ccece9-52dd-4382-b7e7-04597d726194\"></div>\n",
       "    </div>\n",
       "<script type=\"text/javascript\">\n",
       "  \n",
       "  (function(global) {\n",
       "    function now() {\n",
       "      return new Date();\n",
       "    }\n",
       "  \n",
       "    var force = false;\n",
       "  \n",
       "    if (typeof (window._bokeh_onload_callbacks) === \"undefined\" || force === true) {\n",
       "      window._bokeh_onload_callbacks = [];\n",
       "      window._bokeh_is_loading = undefined;\n",
       "    }\n",
       "  \n",
       "  \n",
       "    \n",
       "    if (typeof (window._bokeh_timeout) === \"undefined\" || force === true) {\n",
       "      window._bokeh_timeout = Date.now() + 0;\n",
       "      window._bokeh_failed_load = false;\n",
       "    }\n",
       "  \n",
       "    var NB_LOAD_WARNING = {'data': {'text/html':\n",
       "       \"<div style='background-color: #fdd'>\\n\"+\n",
       "       \"<p>\\n\"+\n",
       "       \"BokehJS does not appear to have successfully loaded. If loading BokehJS from CDN, this \\n\"+\n",
       "       \"may be due to a slow or bad network connection. Possible fixes:\\n\"+\n",
       "       \"</p>\\n\"+\n",
       "       \"<ul>\\n\"+\n",
       "       \"<li>re-rerun `output_notebook()` to attempt to load from CDN again, or</li>\\n\"+\n",
       "       \"<li>use INLINE resources instead, as so:</li>\\n\"+\n",
       "       \"</ul>\\n\"+\n",
       "       \"<code>\\n\"+\n",
       "       \"from bokeh.resources import INLINE\\n\"+\n",
       "       \"output_notebook(resources=INLINE)\\n\"+\n",
       "       \"</code>\\n\"+\n",
       "       \"</div>\"}};\n",
       "  \n",
       "    function display_loaded() {\n",
       "      if (window.Bokeh !== undefined) {\n",
       "        document.getElementById(\"a6ccece9-52dd-4382-b7e7-04597d726194\").textContent = \"BokehJS successfully loaded.\";\n",
       "      } else if (Date.now() < window._bokeh_timeout) {\n",
       "        setTimeout(display_loaded, 100)\n",
       "      }\n",
       "    }\n",
       "  \n",
       "    function run_callbacks() {\n",
       "      window._bokeh_onload_callbacks.forEach(function(callback) { callback() });\n",
       "      delete window._bokeh_onload_callbacks\n",
       "      console.info(\"Bokeh: all callbacks have finished\");\n",
       "    }\n",
       "  \n",
       "    function load_libs(js_urls, callback) {\n",
       "      window._bokeh_onload_callbacks.push(callback);\n",
       "      if (window._bokeh_is_loading > 0) {\n",
       "        console.log(\"Bokeh: BokehJS is being loaded, scheduling callback at\", now());\n",
       "        return null;\n",
       "      }\n",
       "      if (js_urls == null || js_urls.length === 0) {\n",
       "        run_callbacks();\n",
       "        return null;\n",
       "      }\n",
       "      console.log(\"Bokeh: BokehJS not loaded, scheduling load and callback at\", now());\n",
       "      window._bokeh_is_loading = js_urls.length;\n",
       "      for (var i = 0; i < js_urls.length; i++) {\n",
       "        var url = js_urls[i];\n",
       "        var s = document.createElement('script');\n",
       "        s.src = url;\n",
       "        s.async = false;\n",
       "        s.onreadystatechange = s.onload = function() {\n",
       "          window._bokeh_is_loading--;\n",
       "          if (window._bokeh_is_loading === 0) {\n",
       "            console.log(\"Bokeh: all BokehJS libraries loaded\");\n",
       "            run_callbacks()\n",
       "          }\n",
       "        };\n",
       "        s.onerror = function() {\n",
       "          console.warn(\"failed to load library \" + url);\n",
       "        };\n",
       "        console.log(\"Bokeh: injecting script tag for BokehJS library: \", url);\n",
       "        document.getElementsByTagName(\"head\")[0].appendChild(s);\n",
       "      }\n",
       "    };var element = document.getElementById(\"a6ccece9-52dd-4382-b7e7-04597d726194\");\n",
       "    if (element == null) {\n",
       "      console.log(\"Bokeh: ERROR: autoload.js configured with elementid 'a6ccece9-52dd-4382-b7e7-04597d726194' but no matching script tag was found. \")\n",
       "      return false;\n",
       "    }\n",
       "  \n",
       "    var js_urls = [];\n",
       "  \n",
       "    var inline_js = [\n",
       "      function(Bokeh) {\n",
       "        (function() {\n",
       "          var fn = function() {\n",
       "            var docs_json = {\"a1b3ad9d-aee0-4b4b-a4ee-4130010d23ae\":{\"roots\":{\"references\":[{\"attributes\":{\"active_drag\":\"auto\",\"active_scroll\":\"auto\",\"active_tap\":\"auto\",\"tools\":[{\"id\":\"d9bbaf5f-e1bc-45e6-981a-77bd2c885fd9\",\"type\":\"PanTool\"},{\"id\":\"561679cf-55dd-483a-a4c9-c20afa6f07ce\",\"type\":\"WheelZoomTool\"},{\"id\":\"4541a046-d662-47de-b450-32a0b831b2c2\",\"type\":\"BoxZoomTool\"},{\"id\":\"ca400ae2-6bba-4f29-815b-1f7fc815bedf\",\"type\":\"SaveTool\"},{\"id\":\"081b85f0-714b-4d71-8b13-521372717ceb\",\"type\":\"ResetTool\"},{\"id\":\"2d6b89eb-9aef-49a1-a937-c513971f12a8\",\"type\":\"HelpTool\"}]},\"id\":\"fabb9946-4d9c-4440-bee0-e14e0121612c\",\"type\":\"Toolbar\"},{\"attributes\":{\"axis_label\":\"month\",\"formatter\":{\"id\":\"6fbac71b-07a0-4a48-ae81-3cba0b6a4a65\",\"type\":\"CategoricalTickFormatter\"},\"major_label_orientation\":0.7853981633974483,\"plot\":{\"id\":\"1aa85e21-e7f3-4b28-90d7-b0ca68fbf7dc\",\"subtype\":\"Chart\",\"type\":\"Plot\"},\"ticker\":{\"id\":\"eec4ed5b-d3a0-4620-922e-80769b9b5b55\",\"type\":\"CategoricalTicker\"}},\"id\":\"4cd7bb73-bd28-4d93-ad58-36eff842ef00\",\"type\":\"CategoricalAxis\"},{\"attributes\":{\"overlay\":{\"id\":\"840097fa-9c71-4cae-9954-da4c32af0a5d\",\"type\":\"BoxAnnotation\"},\"plot\":{\"id\":\"1aa85e21-e7f3-4b28-90d7-b0ca68fbf7dc\",\"subtype\":\"Chart\",\"type\":\"Plot\"}},\"id\":\"4541a046-d662-47de-b450-32a0b831b2c2\",\"type\":\"BoxZoomTool\"},{\"attributes\":{\"below\":[{\"id\":\"4cd7bb73-bd28-4d93-ad58-36eff842ef00\",\"type\":\"CategoricalAxis\"}],\"css_classes\":null,\"left\":[{\"id\":\"a71abe0f-3d3e-441f-b760-def94b5b51c1\",\"type\":\"LinearAxis\"}],\"renderers\":[{\"id\":\"840097fa-9c71-4cae-9954-da4c32af0a5d\",\"type\":\"BoxAnnotation\"},{\"id\":\"13daa696-02b9-4fdd-9383-3fda7e755cfa\",\"type\":\"GlyphRenderer\"},{\"id\":\"0e56714f-2c88-4ff7-8f9b-430cdaa6ab27\",\"type\":\"Legend\"},{\"id\":\"4cd7bb73-bd28-4d93-ad58-36eff842ef00\",\"type\":\"CategoricalAxis\"},{\"id\":\"a71abe0f-3d3e-441f-b760-def94b5b51c1\",\"type\":\"LinearAxis\"},{\"id\":\"7a3e2d9a-e7f4-447b-ba34-5a94f755af78\",\"type\":\"Grid\"},{\"id\":\"9ace3da3-ee58-41e0-978b-9ccfd9c86265\",\"type\":\"Grid\"}],\"title\":{\"id\":\"fa12c65e-125e-46d7-ab51-c3946c109338\",\"type\":\"Title\"},\"tool_events\":{\"id\":\"b6e56bd7-441f-4062-89c7-9a57f8200a5b\",\"type\":\"ToolEvents\"},\"toolbar\":{\"id\":\"fabb9946-4d9c-4440-bee0-e14e0121612c\",\"type\":\"Toolbar\"},\"x_mapper_type\":\"auto\",\"x_range\":{\"id\":\"244747ef-86e6-427e-9309-a548b0f9924e\",\"type\":\"FactorRange\"},\"y_mapper_type\":\"auto\",\"y_range\":{\"id\":\"e4ad2ba4-9981-4cc6-b43b-ac284615d63e\",\"type\":\"Range1d\"}},\"id\":\"1aa85e21-e7f3-4b28-90d7-b0ca68fbf7dc\",\"subtype\":\"Chart\",\"type\":\"Plot\"},{\"attributes\":{\"dimension\":1,\"plot\":{\"id\":\"1aa85e21-e7f3-4b28-90d7-b0ca68fbf7dc\",\"subtype\":\"Chart\",\"type\":\"Plot\"},\"ticker\":{\"id\":\"a15c16cc-2679-47f5-bda5-e103b59a3c82\",\"type\":\"BasicTicker\"}},\"id\":\"9ace3da3-ee58-41e0-978b-9ccfd9c86265\",\"type\":\"Grid\"},{\"attributes\":{\"plot\":{\"id\":\"1aa85e21-e7f3-4b28-90d7-b0ca68fbf7dc\",\"subtype\":\"Chart\",\"type\":\"Plot\"}},\"id\":\"2d6b89eb-9aef-49a1-a937-c513971f12a8\",\"type\":\"HelpTool\"},{\"attributes\":{\"axis_label\":\"n_failures\",\"formatter\":{\"id\":\"d3e69ef7-596e-4223-8b2d-840eac8ecd6a\",\"type\":\"BasicTickFormatter\"},\"plot\":{\"id\":\"1aa85e21-e7f3-4b28-90d7-b0ca68fbf7dc\",\"subtype\":\"Chart\",\"type\":\"Plot\"},\"ticker\":{\"id\":\"a15c16cc-2679-47f5-bda5-e103b59a3c82\",\"type\":\"BasicTicker\"}},\"id\":\"a71abe0f-3d3e-441f-b760-def94b5b51c1\",\"type\":\"LinearAxis\"},{\"attributes\":{\"items\":[{\"id\":\"97a1e9d7-b383-4d07-ad91-e9e38d898c2d\",\"type\":\"LegendItem\"}],\"location\":\"top_left\",\"plot\":{\"id\":\"1aa85e21-e7f3-4b28-90d7-b0ca68fbf7dc\",\"subtype\":\"Chart\",\"type\":\"Plot\"}},\"id\":\"0e56714f-2c88-4ff7-8f9b-430cdaa6ab27\",\"type\":\"Legend\"},{\"attributes\":{\"line_color\":{\"value\":\"#f22c40\"},\"line_width\":{\"value\":2},\"x\":{\"field\":\"x_values\"},\"y\":{\"field\":\"y_values\"}},\"id\":\"d3efc0f3-d42b-45fb-a842-5b96624473c2\",\"type\":\"Line\"},{\"attributes\":{},\"id\":\"d3e69ef7-596e-4223-8b2d-840eac8ecd6a\",\"type\":\"BasicTickFormatter\"},{\"attributes\":{\"callback\":null,\"end\":2.0388349514563107,\"start\":-0.18534863195057372},\"id\":\"e4ad2ba4-9981-4cc6-b43b-ac284615d63e\",\"type\":\"Range1d\"},{\"attributes\":{\"label\":{\"value\":\"failure_ratio_pm\"},\"renderers\":[{\"id\":\"13daa696-02b9-4fdd-9383-3fda7e755cfa\",\"type\":\"GlyphRenderer\"}]},\"id\":\"97a1e9d7-b383-4d07-ad91-e9e38d898c2d\",\"type\":\"LegendItem\"},{\"attributes\":{\"bottom_units\":\"screen\",\"fill_alpha\":{\"value\":0.5},\"fill_color\":{\"value\":\"lightgrey\"},\"left_units\":\"screen\",\"level\":\"overlay\",\"line_alpha\":{\"value\":1.0},\"line_color\":{\"value\":\"black\"},\"line_dash\":[4,4],\"line_width\":{\"value\":2},\"plot\":null,\"render_mode\":\"css\",\"right_units\":\"screen\",\"top_units\":\"screen\"},\"id\":\"840097fa-9c71-4cae-9954-da4c32af0a5d\",\"type\":\"BoxAnnotation\"},{\"attributes\":{\"plot\":{\"id\":\"1aa85e21-e7f3-4b28-90d7-b0ca68fbf7dc\",\"subtype\":\"Chart\",\"type\":\"Plot\"}},\"id\":\"d9bbaf5f-e1bc-45e6-981a-77bd2c885fd9\",\"type\":\"PanTool\"},{\"attributes\":{},\"id\":\"a15c16cc-2679-47f5-bda5-e103b59a3c82\",\"type\":\"BasicTicker\"},{\"attributes\":{\"plot\":{\"id\":\"1aa85e21-e7f3-4b28-90d7-b0ca68fbf7dc\",\"subtype\":\"Chart\",\"type\":\"Plot\"}},\"id\":\"561679cf-55dd-483a-a4c9-c20afa6f07ce\",\"type\":\"WheelZoomTool\"},{\"attributes\":{\"callback\":null,\"column_names\":[\"x_values\",\"y_values\"],\"data\":{\"chart_index\":[{\"series\":\"failure_ratio_pm\"},{\"series\":\"failure_ratio_pm\"},{\"series\":\"failure_ratio_pm\"},{\"series\":\"failure_ratio_pm\"},{\"series\":\"failure_ratio_pm\"},{\"series\":\"failure_ratio_pm\"},{\"series\":\"failure_ratio_pm\"},{\"series\":\"failure_ratio_pm\"},{\"series\":\"failure_ratio_pm\"},{\"series\":\"failure_ratio_pm\"},{\"series\":\"failure_ratio_pm\"}],\"series\":[\"failure_ratio_pm\",\"failure_ratio_pm\",\"failure_ratio_pm\",\"failure_ratio_pm\",\"failure_ratio_pm\",\"failure_ratio_pm\",\"failure_ratio_pm\",\"failure_ratio_pm\",\"failure_ratio_pm\",\"failure_ratio_pm\",\"failure_ratio_pm\"],\"x_values\":[\"Jan\",\"Feb\",\"Mar\",\"Apr\",\"May\",\"Jun\",\"Jul\",\"Aug\",\"Sep\",\"Oct\",\"Nov\"],\"y_values\":{\"__ndarray__\":\"PYfjO0Su7j+Xb/mWb/nmP4dZKJrhCt0/hyIRtdz55z/OxF1F4af9PxtEsxkBV+I/X+EjlCZP+D+99nJmYqzePwAAAAAAAAAAFbycgpdT8D8AAAAAAAAAAA==\",\"dtype\":\"float64\",\"shape\":[11]}}},\"id\":\"5b81115a-9939-4484-b23b-522dcb9b99b7\",\"type\":\"ColumnDataSource\"},{\"attributes\":{},\"id\":\"6fbac71b-07a0-4a48-ae81-3cba0b6a4a65\",\"type\":\"CategoricalTickFormatter\"},{\"attributes\":{\"plot\":{\"id\":\"1aa85e21-e7f3-4b28-90d7-b0ca68fbf7dc\",\"subtype\":\"Chart\",\"type\":\"Plot\"}},\"id\":\"081b85f0-714b-4d71-8b13-521372717ceb\",\"type\":\"ResetTool\"},{\"attributes\":{},\"id\":\"b6e56bd7-441f-4062-89c7-9a57f8200a5b\",\"type\":\"ToolEvents\"},{\"attributes\":{\"plot\":null,\"text\":\"failures per Month\"},\"id\":\"fa12c65e-125e-46d7-ab51-c3946c109338\",\"type\":\"Title\"},{\"attributes\":{\"callback\":null,\"factors\":[\"Jan\",\"Feb\",\"Mar\",\"Apr\",\"May\",\"Jun\",\"Jul\",\"Aug\",\"Sep\",\"Oct\",\"Nov\"]},\"id\":\"244747ef-86e6-427e-9309-a548b0f9924e\",\"type\":\"FactorRange\"},{\"attributes\":{},\"id\":\"eec4ed5b-d3a0-4620-922e-80769b9b5b55\",\"type\":\"CategoricalTicker\"},{\"attributes\":{\"data_source\":{\"id\":\"5b81115a-9939-4484-b23b-522dcb9b99b7\",\"type\":\"ColumnDataSource\"},\"glyph\":{\"id\":\"d3efc0f3-d42b-45fb-a842-5b96624473c2\",\"type\":\"Line\"},\"hover_glyph\":null,\"nonselection_glyph\":null,\"selection_glyph\":null},\"id\":\"13daa696-02b9-4fdd-9383-3fda7e755cfa\",\"type\":\"GlyphRenderer\"},{\"attributes\":{\"plot\":{\"id\":\"1aa85e21-e7f3-4b28-90d7-b0ca68fbf7dc\",\"subtype\":\"Chart\",\"type\":\"Plot\"},\"ticker\":{\"id\":\"eec4ed5b-d3a0-4620-922e-80769b9b5b55\",\"type\":\"CategoricalTicker\"}},\"id\":\"7a3e2d9a-e7f4-447b-ba34-5a94f755af78\",\"type\":\"Grid\"},{\"attributes\":{\"plot\":{\"id\":\"1aa85e21-e7f3-4b28-90d7-b0ca68fbf7dc\",\"subtype\":\"Chart\",\"type\":\"Plot\"}},\"id\":\"ca400ae2-6bba-4f29-815b-1f7fc815bedf\",\"type\":\"SaveTool\"}],\"root_ids\":[\"1aa85e21-e7f3-4b28-90d7-b0ca68fbf7dc\"]},\"title\":\"Bokeh Application\",\"version\":\"0.12.4\"}};\n",
       "            var render_items = [{\"docid\":\"a1b3ad9d-aee0-4b4b-a4ee-4130010d23ae\",\"elementid\":\"a6ccece9-52dd-4382-b7e7-04597d726194\",\"modelid\":\"1aa85e21-e7f3-4b28-90d7-b0ca68fbf7dc\"}];\n",
       "            \n",
       "            Bokeh.embed.embed_items(docs_json, render_items);\n",
       "          };\n",
       "          if (document.readyState != \"loading\") fn();\n",
       "          else document.addEventListener(\"DOMContentLoaded\", fn);\n",
       "        })();\n",
       "      },\n",
       "      function(Bokeh) {\n",
       "      }\n",
       "    ];\n",
       "  \n",
       "    function run_inline_js() {\n",
       "      \n",
       "      if ((window.Bokeh !== undefined) || (force === true)) {\n",
       "        for (var i = 0; i < inline_js.length; i++) {\n",
       "          inline_js[i](window.Bokeh);\n",
       "        }if (force === true) {\n",
       "          display_loaded();\n",
       "        }} else if (Date.now() < window._bokeh_timeout) {\n",
       "        setTimeout(run_inline_js, 100);\n",
       "      } else if (!window._bokeh_failed_load) {\n",
       "        console.log(\"Bokeh: BokehJS failed to load within specified timeout.\");\n",
       "        window._bokeh_failed_load = true;\n",
       "      } else if (force !== true) {\n",
       "        var cell = $(document.getElementById(\"a6ccece9-52dd-4382-b7e7-04597d726194\")).parents('.cell').data().cell;\n",
       "        cell.output_area.append_execute_result(NB_LOAD_WARNING)\n",
       "      }\n",
       "  \n",
       "    }\n",
       "  \n",
       "    if (window._bokeh_is_loading === 0) {\n",
       "      console.log(\"Bokeh: BokehJS loaded, going straight to plotting\");\n",
       "      run_inline_js();\n",
       "    } else {\n",
       "      load_libs(js_urls, function() {\n",
       "        console.log(\"Bokeh: BokehJS plotting callback run at\", now());\n",
       "        run_inline_js();\n",
       "      });\n",
       "    }\n",
       "  }(this));\n",
       "</script>"
      ]
     },
     "metadata": {},
     "output_type": "display_data"
    }
   ],
   "source": [
    "from bokeh.plotting import figure\n",
    "data =total_failures_per_date.resample(\"M\").sum() \n",
    "test = label_dset.reset_index(\"device\").resample(\"M\").count()\n",
    "data[\"n_devices\"] = test[\"device\"]\n",
    "data[\"failure_ratio_pm\"] = data[\"failure\"] / data[\"n_devices\"] * 1000\n",
    "data.index = (calendar.month_abbr[i] for i in data.index.month)\n",
    "l = Line(\n",
    "    data[\"failure_ratio_pm\"],\n",
    "    title=\"failures per Month\",\n",
    "    ylabel=\"n_failures\", \n",
    "    xlabel=\"month\"\n",
    ")\n",
    "show(l)"
   ]
  },
  {
   "cell_type": "code",
   "execution_count": 7,
   "metadata": {
    "ExecuteTime": {
     "end_time": "2017-01-20T18:12:31.192542",
     "start_time": "2017-01-20T18:12:31.175466"
    },
    "collapsed": false
   },
   "outputs": [
    {
     "name": "stdout",
     "output_type": "stream",
     "text": [
      "failures per weekday\n"
     ]
    },
    {
     "data": {
      "text/html": [
       "<div>\n",
       "<table border=\"1\" class=\"dataframe\">\n",
       "  <thead>\n",
       "    <tr style=\"text-align: right;\">\n",
       "      <th></th>\n",
       "      <th>failure</th>\n",
       "    </tr>\n",
       "  </thead>\n",
       "  <tbody>\n",
       "    <tr>\n",
       "      <th>0:Monday</th>\n",
       "      <td>27</td>\n",
       "    </tr>\n",
       "    <tr>\n",
       "      <th>1:Tuesday</th>\n",
       "      <td>18</td>\n",
       "    </tr>\n",
       "    <tr>\n",
       "      <th>2:Wednesday</th>\n",
       "      <td>15</td>\n",
       "    </tr>\n",
       "    <tr>\n",
       "      <th>3:Thursday</th>\n",
       "      <td>22</td>\n",
       "    </tr>\n",
       "    <tr>\n",
       "      <th>4:Friday</th>\n",
       "      <td>12</td>\n",
       "    </tr>\n",
       "    <tr>\n",
       "      <th>5:Saturday</th>\n",
       "      <td>8</td>\n",
       "    </tr>\n",
       "    <tr>\n",
       "      <th>6:Sunday</th>\n",
       "      <td>4</td>\n",
       "    </tr>\n",
       "  </tbody>\n",
       "</table>\n",
       "</div>"
      ],
      "text/plain": [
       "             failure\n",
       "0:Monday          27\n",
       "1:Tuesday         18\n",
       "2:Wednesday       15\n",
       "3:Thursday        22\n",
       "4:Friday          12\n",
       "5:Saturday         8\n",
       "6:Sunday           4"
      ]
     },
     "execution_count": 7,
     "metadata": {},
     "output_type": "execute_result"
    }
   ],
   "source": [
    "weekday_dset = total_failures_per_date.copy()\n",
    "weekday_dset.index = [\"%i:%s\" % (i,calendar.day_name[i]) for i in total_failures_per_date.index.weekday]\n",
    "\n",
    "per_day = weekday_dset.groupby(level=0).sum()\n",
    "\n",
    "print \"failures per weekday\"\n",
    "\n",
    "per_day.sort_index()\n"
   ]
  },
  {
   "cell_type": "markdown",
   "metadata": {
    "collapsed": false
   },
   "source": [
    "- Long term trend with more failures in the past\n",
    "- Less  failures over the weekend\n",
    "- The absence of weekend could be explained by maintenance hapening only during workweek (hence explaing more failures on monday\n"
   ]
  },
  {
   "cell_type": "markdown",
   "metadata": {
    "collapsed": false
   },
   "source": [
    "### Per Device description "
   ]
  },
  {
   "cell_type": "code",
   "execution_count": 19,
   "metadata": {
    "ExecuteTime": {
     "end_time": "2017-01-20T18:12:33.367085",
     "start_time": "2017-01-20T18:12:33.318047"
    },
    "collapsed": false
   },
   "outputs": [],
   "source": [
    "import numpy as np\n",
    "dates = label_dset.swaplevel().reset_index(\"date\")\n",
    "dd= dates[\"date\"]\n",
    "devices = pd.DataFrame({\"min_date\":dd.groupby(level=0).min(),\"failure\":dates[\"failure\"].groupby(level=0).sum()})\n",
    "devices[\"max_date\"] =  dd.groupby(level=0).max()\n",
    "devices[\"n_lines\"] = dd.groupby(level=0).count()\n",
    "devices[\"n_days\"] = (devices[\"max_date\"] - devices[\"min_date\"] ) /np.timedelta64(1, 'D') +1\n",
    "devices[\"missing_values\"] = devices[\"n_days\"] - devices[\"n_lines\"]"
   ]
  },
  {
   "cell_type": "code",
   "execution_count": 9,
   "metadata": {
    "ExecuteTime": {
     "end_time": "2017-01-20T18:12:34.181907",
     "start_time": "2017-01-20T18:12:34.151153"
    },
    "collapsed": false
   },
   "outputs": [
    {
     "data": {
      "text/plain": [
       "2015-01-01    1163\n",
       "2015-05-06       4\n",
       "2015-01-27       1\n",
       "Name: min_date, dtype: int64"
      ]
     },
     "execution_count": 9,
     "metadata": {},
     "output_type": "execute_result"
    }
   ],
   "source": [
    "devices[\"min_date\"].value_counts()"
   ]
  },
  {
   "cell_type": "markdown",
   "metadata": {},
   "source": [
    "### checking the nb devices per month. this is better done above"
   ]
  },
  {
   "cell_type": "code",
   "execution_count": 10,
   "metadata": {
    "ExecuteTime": {
     "end_time": "2017-01-20T18:12:35.324533",
     "start_time": "2017-01-20T18:12:35.312165"
    },
    "collapsed": false
   },
   "outputs": [
    {
     "data": {
      "text/html": [
       "<div>\n",
       "<table border=\"1\" class=\"dataframe\">\n",
       "  <thead>\n",
       "    <tr style=\"text-align: right;\">\n",
       "      <th></th>\n",
       "      <th>n_devices</th>\n",
       "    </tr>\n",
       "  </thead>\n",
       "  <tbody>\n",
       "    <tr>\n",
       "      <th>Jan</th>\n",
       "      <td>399</td>\n",
       "    </tr>\n",
       "    <tr>\n",
       "      <th>Feb</th>\n",
       "      <td>46</td>\n",
       "    </tr>\n",
       "    <tr>\n",
       "      <th>Mar</th>\n",
       "      <td>184</td>\n",
       "    </tr>\n",
       "    <tr>\n",
       "      <th>Apr</th>\n",
       "      <td>112</td>\n",
       "    </tr>\n",
       "    <tr>\n",
       "      <th>May</th>\n",
       "      <td>72</td>\n",
       "    </tr>\n",
       "    <tr>\n",
       "      <th>Jun</th>\n",
       "      <td>6</td>\n",
       "    </tr>\n",
       "    <tr>\n",
       "      <th>Jul</th>\n",
       "      <td>15</td>\n",
       "    </tr>\n",
       "    <tr>\n",
       "      <th>Aug</th>\n",
       "      <td>150</td>\n",
       "    </tr>\n",
       "    <tr>\n",
       "      <th>Sep</th>\n",
       "      <td>38</td>\n",
       "    </tr>\n",
       "    <tr>\n",
       "      <th>Oct</th>\n",
       "      <td>115</td>\n",
       "    </tr>\n",
       "    <tr>\n",
       "      <th>Nov</th>\n",
       "      <td>31</td>\n",
       "    </tr>\n",
       "  </tbody>\n",
       "</table>\n",
       "</div>"
      ],
      "text/plain": [
       "     n_devices\n",
       "Jan        399\n",
       "Feb         46\n",
       "Mar        184\n",
       "Apr        112\n",
       "May         72\n",
       "Jun          6\n",
       "Jul         15\n",
       "Aug        150\n",
       "Sep         38\n",
       "Oct        115\n",
       "Nov         31"
      ]
     },
     "execution_count": 10,
     "metadata": {},
     "output_type": "execute_result"
    }
   ],
   "source": [
    "#pd.DataFrame({\"n_devices\":devices[\"max_date\"].dt.month.value_counts().sort_index()})\n",
    "montlhy_devices = pd.DataFrame({\"n_devices\":devices[\"max_date\"].dt.month.value_counts().sort_index()})\n",
    "montlhy_devices.index = [calendar.month_abbr[i] for i in montlhy_devices.index]\n",
    "montlhy_devices"
   ]
  },
  {
   "cell_type": "markdown",
   "metadata": {},
   "source": [
    "### bucketing the n devices with missing day data"
   ]
  },
  {
   "cell_type": "code",
   "execution_count": 11,
   "metadata": {
    "ExecuteTime": {
     "end_time": "2017-01-20T18:12:37.045383",
     "start_time": "2017-01-20T18:12:37.036754"
    },
    "collapsed": false
   },
   "outputs": [
    {
     "data": {
      "text/html": [
       "<div>\n",
       "<table border=\"1\" class=\"dataframe\">\n",
       "  <thead>\n",
       "    <tr style=\"text-align: right;\">\n",
       "      <th></th>\n",
       "      <th>n devices</th>\n",
       "    </tr>\n",
       "    <tr>\n",
       "      <th>n missing days</th>\n",
       "      <th></th>\n",
       "    </tr>\n",
       "  </thead>\n",
       "  <tbody>\n",
       "    <tr>\n",
       "      <th>-0.0</th>\n",
       "      <td>1077</td>\n",
       "    </tr>\n",
       "    <tr>\n",
       "      <th>20.0</th>\n",
       "      <td>26</td>\n",
       "    </tr>\n",
       "    <tr>\n",
       "      <th>40.0</th>\n",
       "      <td>21</td>\n",
       "    </tr>\n",
       "    <tr>\n",
       "      <th>60.0</th>\n",
       "      <td>8</td>\n",
       "    </tr>\n",
       "    <tr>\n",
       "      <th>80.0</th>\n",
       "      <td>3</td>\n",
       "    </tr>\n",
       "    <tr>\n",
       "      <th>100.0</th>\n",
       "      <td>28</td>\n",
       "    </tr>\n",
       "    <tr>\n",
       "      <th>120.0</th>\n",
       "      <td>4</td>\n",
       "    </tr>\n",
       "    <tr>\n",
       "      <th>140.0</th>\n",
       "      <td>1</td>\n",
       "    </tr>\n",
       "  </tbody>\n",
       "</table>\n",
       "</div>"
      ],
      "text/plain": [
       "                n devices\n",
       "n missing days           \n",
       "-0.0                 1077\n",
       " 20.0                  26\n",
       " 40.0                  21\n",
       " 60.0                   8\n",
       " 80.0                   3\n",
       " 100.0                 28\n",
       " 120.0                  4\n",
       " 140.0                  1"
      ]
     },
     "execution_count": 11,
     "metadata": {},
     "output_type": "execute_result"
    }
   ],
   "source": [
    "i = ( (devices[\"missing_values\"] //20)*20).value_counts()\n",
    "#i = ( (devices[\"missing_values\"])).value_counts(bins=10)\n",
    "i.index.name = \"n missing days\"\n",
    "pd.DataFrame({\"n devices\":i.sort_index()})"
   ]
  },
  {
   "cell_type": "code",
   "execution_count": 12,
   "metadata": {
    "ExecuteTime": {
     "end_time": "2017-01-20T18:33:58.613534",
     "start_time": "2017-01-20T18:33:58.372474"
    },
    "collapsed": false
   },
   "outputs": [
    {
     "data": {
      "text/html": [
       "\n",
       "\n",
       "    <div class=\"bk-root\">\n",
       "        <div class=\"bk-plotdiv\" id=\"033b354e-eabf-4e18-a627-d31f382f1ba0\"></div>\n",
       "    </div>\n",
       "<script type=\"text/javascript\">\n",
       "  \n",
       "  (function(global) {\n",
       "    function now() {\n",
       "      return new Date();\n",
       "    }\n",
       "  \n",
       "    var force = false;\n",
       "  \n",
       "    if (typeof (window._bokeh_onload_callbacks) === \"undefined\" || force === true) {\n",
       "      window._bokeh_onload_callbacks = [];\n",
       "      window._bokeh_is_loading = undefined;\n",
       "    }\n",
       "  \n",
       "  \n",
       "    \n",
       "    if (typeof (window._bokeh_timeout) === \"undefined\" || force === true) {\n",
       "      window._bokeh_timeout = Date.now() + 0;\n",
       "      window._bokeh_failed_load = false;\n",
       "    }\n",
       "  \n",
       "    var NB_LOAD_WARNING = {'data': {'text/html':\n",
       "       \"<div style='background-color: #fdd'>\\n\"+\n",
       "       \"<p>\\n\"+\n",
       "       \"BokehJS does not appear to have successfully loaded. If loading BokehJS from CDN, this \\n\"+\n",
       "       \"may be due to a slow or bad network connection. Possible fixes:\\n\"+\n",
       "       \"</p>\\n\"+\n",
       "       \"<ul>\\n\"+\n",
       "       \"<li>re-rerun `output_notebook()` to attempt to load from CDN again, or</li>\\n\"+\n",
       "       \"<li>use INLINE resources instead, as so:</li>\\n\"+\n",
       "       \"</ul>\\n\"+\n",
       "       \"<code>\\n\"+\n",
       "       \"from bokeh.resources import INLINE\\n\"+\n",
       "       \"output_notebook(resources=INLINE)\\n\"+\n",
       "       \"</code>\\n\"+\n",
       "       \"</div>\"}};\n",
       "  \n",
       "    function display_loaded() {\n",
       "      if (window.Bokeh !== undefined) {\n",
       "        document.getElementById(\"033b354e-eabf-4e18-a627-d31f382f1ba0\").textContent = \"BokehJS successfully loaded.\";\n",
       "      } else if (Date.now() < window._bokeh_timeout) {\n",
       "        setTimeout(display_loaded, 100)\n",
       "      }\n",
       "    }\n",
       "  \n",
       "    function run_callbacks() {\n",
       "      window._bokeh_onload_callbacks.forEach(function(callback) { callback() });\n",
       "      delete window._bokeh_onload_callbacks\n",
       "      console.info(\"Bokeh: all callbacks have finished\");\n",
       "    }\n",
       "  \n",
       "    function load_libs(js_urls, callback) {\n",
       "      window._bokeh_onload_callbacks.push(callback);\n",
       "      if (window._bokeh_is_loading > 0) {\n",
       "        console.log(\"Bokeh: BokehJS is being loaded, scheduling callback at\", now());\n",
       "        return null;\n",
       "      }\n",
       "      if (js_urls == null || js_urls.length === 0) {\n",
       "        run_callbacks();\n",
       "        return null;\n",
       "      }\n",
       "      console.log(\"Bokeh: BokehJS not loaded, scheduling load and callback at\", now());\n",
       "      window._bokeh_is_loading = js_urls.length;\n",
       "      for (var i = 0; i < js_urls.length; i++) {\n",
       "        var url = js_urls[i];\n",
       "        var s = document.createElement('script');\n",
       "        s.src = url;\n",
       "        s.async = false;\n",
       "        s.onreadystatechange = s.onload = function() {\n",
       "          window._bokeh_is_loading--;\n",
       "          if (window._bokeh_is_loading === 0) {\n",
       "            console.log(\"Bokeh: all BokehJS libraries loaded\");\n",
       "            run_callbacks()\n",
       "          }\n",
       "        };\n",
       "        s.onerror = function() {\n",
       "          console.warn(\"failed to load library \" + url);\n",
       "        };\n",
       "        console.log(\"Bokeh: injecting script tag for BokehJS library: \", url);\n",
       "        document.getElementsByTagName(\"head\")[0].appendChild(s);\n",
       "      }\n",
       "    };var element = document.getElementById(\"033b354e-eabf-4e18-a627-d31f382f1ba0\");\n",
       "    if (element == null) {\n",
       "      console.log(\"Bokeh: ERROR: autoload.js configured with elementid '033b354e-eabf-4e18-a627-d31f382f1ba0' but no matching script tag was found. \")\n",
       "      return false;\n",
       "    }\n",
       "  \n",
       "    var js_urls = [];\n",
       "  \n",
       "    var inline_js = [\n",
       "      function(Bokeh) {\n",
       "        (function() {\n",
       "          var fn = function() {\n",
       "            var docs_json = {\"82080daa-6631-4114-9a0e-53d60529f915\":{\"roots\":{\"references\":[{\"attributes\":{\"dimension\":1,\"plot\":{\"id\":\"6b507a7f-2571-4669-af20-123e4e1ee659\",\"subtype\":\"Chart\",\"type\":\"Plot\"},\"ticker\":{\"id\":\"e69af4bd-ef27-434a-a84f-445245ac737f\",\"type\":\"BasicTicker\"}},\"id\":\"0bcbe637-9d45-4ffa-a8b7-eb6d29e4307e\",\"type\":\"Grid\"},{\"attributes\":{\"label\":{\"value\":\"184.8\"},\"renderers\":[{\"id\":\"65ff87f1-e726-41df-bc6c-084ab1484faa\",\"type\":\"GlyphRenderer\"}]},\"id\":\"28ca0517-5da5-4424-a6d3-c19ecfc4d012\",\"type\":\"LegendItem\"},{\"attributes\":{\"fill_alpha\":{\"field\":\"fill_alpha\"},\"fill_color\":{\"field\":\"color\"},\"height\":{\"field\":\"height\",\"units\":\"data\"},\"line_color\":{\"field\":\"line_color\"},\"width\":{\"field\":\"width\",\"units\":\"data\"},\"x\":{\"field\":\"x\"},\"y\":{\"field\":\"y\"}},\"id\":\"4d5b73cb-fd9c-4dff-b045-effe0c64dcb2\",\"type\":\"Rect\"},{\"attributes\":{\"label\":{\"value\":\"215.1\"},\"renderers\":[{\"id\":\"3f138d13-dba7-46a7-bf18-428401c2502b\",\"type\":\"GlyphRenderer\"}]},\"id\":\"46ed3cb0-6db1-4401-93cd-b5e21238937b\",\"type\":\"LegendItem\"},{\"attributes\":{\"data_source\":{\"id\":\"8dcd5e39-5a5e-4f7e-9935-4199f9f953c0\",\"type\":\"ColumnDataSource\"},\"glyph\":{\"id\":\"3819fac5-0fbd-4477-9466-d4b1cf6e3e4c\",\"type\":\"Rect\"},\"hover_glyph\":null,\"nonselection_glyph\":null,\"selection_glyph\":null},\"id\":\"058ce8eb-05df-402d-801f-41cdc2d3877e\",\"type\":\"GlyphRenderer\"},{\"attributes\":{\"items\":[{\"id\":\"74ff9c32-3eb3-4259-8632-0b789742f485\",\"type\":\"LegendItem\"},{\"id\":\"ac299330-544f-4656-b50f-d9a77028d3fe\",\"type\":\"LegendItem\"},{\"id\":\"a842281e-6ecc-4cb0-8ad6-34f3d4c426c5\",\"type\":\"LegendItem\"},{\"id\":\"25a0f592-b9f7-4004-bc2d-28a060580a1b\",\"type\":\"LegendItem\"},{\"id\":\"a41ff14a-74c9-4ef5-93f0-333c2262b8ea\",\"type\":\"LegendItem\"},{\"id\":\"16b0b752-d5c9-4588-bf13-f9c7b8914c7f\",\"type\":\"LegendItem\"},{\"id\":\"28ca0517-5da5-4424-a6d3-c19ecfc4d012\",\"type\":\"LegendItem\"},{\"id\":\"46ed3cb0-6db1-4401-93cd-b5e21238937b\",\"type\":\"LegendItem\"},{\"id\":\"fceaf6c2-0d9a-457d-b790-2c2e8d741859\",\"type\":\"LegendItem\"},{\"id\":\"2b954444-3b7b-4ddf-82d2-a9d76d3265a4\",\"type\":\"LegendItem\"}],\"location\":\"top_left\",\"plot\":{\"id\":\"6b507a7f-2571-4669-af20-123e4e1ee659\",\"subtype\":\"Chart\",\"type\":\"Plot\"}},\"id\":\"c79500ea-6200-49aa-aaf7-a32d7768cbc1\",\"type\":\"Legend\"},{\"attributes\":{\"data_source\":{\"id\":\"99dcb59f-552e-44c8-b7af-7603ccbd48fa\",\"type\":\"ColumnDataSource\"},\"glyph\":{\"id\":\"1f09e3b3-84e2-452b-aa34-290bf6e2a87c\",\"type\":\"Rect\"},\"hover_glyph\":null,\"nonselection_glyph\":null,\"selection_glyph\":null},\"id\":\"44fd68e9-fa86-4c49-82ca-ade73e755e25\",\"type\":\"GlyphRenderer\"},{\"attributes\":{\"data_source\":{\"id\":\"01567fd2-8b90-46a1-8710-564bc8f41aa6\",\"type\":\"ColumnDataSource\"},\"glyph\":{\"id\":\"30f5f039-cb31-45e6-9742-f6696804f1eb\",\"type\":\"Rect\"},\"hover_glyph\":null,\"nonselection_glyph\":null,\"selection_glyph\":null},\"id\":\"f6187e69-dd60-40a1-abe0-13beeea34762\",\"type\":\"GlyphRenderer\"},{\"attributes\":{},\"id\":\"28a375b5-a9fd-459a-aa48-d17795f480d2\",\"type\":\"CategoricalTicker\"},{\"attributes\":{\"callback\":null,\"column_names\":[\"line_color\",\"line_alpha\",\"color\",\"fill_alpha\",\"height\",\"width\",\"y\",\"x\",\"label\"],\"data\":{\"chart_index\":[{\"index\":215.1}],\"color\":[\"#f22c40\"],\"fill_alpha\":[0.8],\"height\":[182.0],\"index\":[215.1],\"label\":[{\"index\":215.1}],\"line_alpha\":[1.0],\"line_color\":[\"white\"],\"width\":[0.8],\"x\":[\"215.1\"],\"y\":[91.0]}},\"id\":\"3c27947c-42c3-4384-bd37-979dcbcce23d\",\"type\":\"ColumnDataSource\"},{\"attributes\":{\"fill_alpha\":{\"field\":\"fill_alpha\"},\"fill_color\":{\"field\":\"color\"},\"height\":{\"field\":\"height\",\"units\":\"data\"},\"line_color\":{\"field\":\"line_color\"},\"width\":{\"field\":\"width\",\"units\":\"data\"},\"x\":{\"field\":\"x\"},\"y\":{\"field\":\"y\"}},\"id\":\"3819fac5-0fbd-4477-9466-d4b1cf6e3e4c\",\"type\":\"Rect\"},{\"attributes\":{\"label\":{\"value\":\"63.6\"},\"renderers\":[{\"id\":\"f6187e69-dd60-40a1-abe0-13beeea34762\",\"type\":\"GlyphRenderer\"}]},\"id\":\"a842281e-6ecc-4cb0-8ad6-34f3d4c426c5\",\"type\":\"LegendItem\"},{\"attributes\":{\"callback\":null,\"column_names\":[\"line_color\",\"line_alpha\",\"color\",\"fill_alpha\",\"height\",\"width\",\"y\",\"x\",\"label\"],\"data\":{\"chart_index\":[{\"index\":63.6}],\"color\":[\"#f22c40\"],\"fill_alpha\":[0.8],\"height\":[184.0],\"index\":[63.6],\"label\":[{\"index\":63.6}],\"line_alpha\":[1.0],\"line_color\":[\"white\"],\"width\":[0.8],\"x\":[\"63.6\"],\"y\":[92.0]}},\"id\":\"01567fd2-8b90-46a1-8710-564bc8f41aa6\",\"type\":\"ColumnDataSource\"},{\"attributes\":{\"plot\":{\"id\":\"6b507a7f-2571-4669-af20-123e4e1ee659\",\"subtype\":\"Chart\",\"type\":\"Plot\"}},\"id\":\"15d84736-a464-46cb-aba3-4bb814ea5745\",\"type\":\"SaveTool\"},{\"attributes\":{\"callback\":null,\"end\":425.25},\"id\":\"255f8db0-471f-4fe9-bc8f-ae9b9aaa21c9\",\"type\":\"Range1d\"},{\"attributes\":{\"overlay\":{\"id\":\"b993be6c-cf97-49d8-a37e-3b0ef06a6548\",\"type\":\"BoxAnnotation\"},\"plot\":{\"id\":\"6b507a7f-2571-4669-af20-123e4e1ee659\",\"subtype\":\"Chart\",\"type\":\"Plot\"}},\"id\":\"063c16f0-731c-4f52-aadd-43fc876fe84c\",\"type\":\"BoxZoomTool\"},{\"attributes\":{\"data_source\":{\"id\":\"2a4c1094-0b5d-4411-99c5-932958704599\",\"type\":\"ColumnDataSource\"},\"glyph\":{\"id\":\"ebdf7f4e-7f85-4366-90a6-0baf0d4b6a8f\",\"type\":\"Rect\"},\"hover_glyph\":null,\"nonselection_glyph\":null,\"selection_glyph\":null},\"id\":\"65ff87f1-e726-41df-bc6c-084ab1484faa\",\"type\":\"GlyphRenderer\"},{\"attributes\":{\"label\":{\"value\":\"33.3\"},\"renderers\":[{\"id\":\"44fd68e9-fa86-4c49-82ca-ade73e755e25\",\"type\":\"GlyphRenderer\"}]},\"id\":\"ac299330-544f-4656-b50f-d9a77028d3fe\",\"type\":\"LegendItem\"},{\"attributes\":{\"plot\":{\"id\":\"6b507a7f-2571-4669-af20-123e4e1ee659\",\"subtype\":\"Chart\",\"type\":\"Plot\"}},\"id\":\"71a7bf9b-006d-4871-92bf-35eda356155b\",\"type\":\"HelpTool\"},{\"attributes\":{\"data_source\":{\"id\":\"5ae36d97-c4bd-481a-ba35-ada57e92c1c9\",\"type\":\"ColumnDataSource\"},\"glyph\":{\"id\":\"5aae9543-34c2-4bd1-849a-c39530ad6c1c\",\"type\":\"Rect\"},\"hover_glyph\":null,\"nonselection_glyph\":null,\"selection_glyph\":null},\"id\":\"5c269711-790a-4e92-9533-1aa21b8697bd\",\"type\":\"GlyphRenderer\"},{\"attributes\":{\"callback\":null,\"column_names\":[\"line_color\",\"line_alpha\",\"color\",\"fill_alpha\",\"height\",\"width\",\"y\",\"x\",\"label\"],\"data\":{\"chart_index\":[{\"index\":154.5}],\"color\":[\"#f22c40\"],\"fill_alpha\":[0.8],\"height\":[6.0],\"index\":[154.5],\"label\":[{\"index\":154.5}],\"line_alpha\":[1.0],\"line_color\":[\"white\"],\"width\":[0.8],\"x\":[\"154.5\"],\"y\":[3.0]}},\"id\":\"5ae36d97-c4bd-481a-ba35-ada57e92c1c9\",\"type\":\"ColumnDataSource\"},{\"attributes\":{\"label\":{\"value\":\"93.9\"},\"renderers\":[{\"id\":\"6a9073e1-1d45-4937-940c-2fdaa3a7a689\",\"type\":\"GlyphRenderer\"}]},\"id\":\"25a0f592-b9f7-4004-bc2d-28a060580a1b\",\"type\":\"LegendItem\"},{\"attributes\":{\"callback\":null,\"factors\":[\"2.697\",\"33.3\",\"63.6\",\"93.9\",\"124.2\",\"154.5\",\"184.8\",\"215.1\",\"245.4\",\"275.7\"]},\"id\":\"e889b4ad-ae1e-4151-864f-74caa037c6fe\",\"type\":\"FactorRange\"},{\"attributes\":{\"data_source\":{\"id\":\"165fa2da-a997-4b70-9eb5-8b5f548c02d0\",\"type\":\"ColumnDataSource\"},\"glyph\":{\"id\":\"6e4b9e5d-0f12-47e8-a944-a37573e87676\",\"type\":\"Rect\"},\"hover_glyph\":null,\"nonselection_glyph\":null,\"selection_glyph\":null},\"id\":\"60fe9ea0-f288-4334-b6e1-df8abc17b8f7\",\"type\":\"GlyphRenderer\"},{\"attributes\":{\"plot\":{\"id\":\"6b507a7f-2571-4669-af20-123e4e1ee659\",\"subtype\":\"Chart\",\"type\":\"Plot\"}},\"id\":\"704e41ca-4854-4e54-a475-4e21de011d44\",\"type\":\"WheelZoomTool\"},{\"attributes\":{\"data_source\":{\"id\":\"7160786b-776d-4e99-93d1-d13badf5b561\",\"type\":\"ColumnDataSource\"},\"glyph\":{\"id\":\"4d5b73cb-fd9c-4dff-b045-effe0c64dcb2\",\"type\":\"Rect\"},\"hover_glyph\":null,\"nonselection_glyph\":null,\"selection_glyph\":null},\"id\":\"6a9073e1-1d45-4937-940c-2fdaa3a7a689\",\"type\":\"GlyphRenderer\"},{\"attributes\":{\"fill_alpha\":{\"field\":\"fill_alpha\"},\"fill_color\":{\"field\":\"color\"},\"height\":{\"field\":\"height\",\"units\":\"data\"},\"line_color\":{\"field\":\"line_color\"},\"width\":{\"field\":\"width\",\"units\":\"data\"},\"x\":{\"field\":\"x\"},\"y\":{\"field\":\"y\"}},\"id\":\"6e4b9e5d-0f12-47e8-a944-a37573e87676\",\"type\":\"Rect\"},{\"attributes\":{\"fill_alpha\":{\"field\":\"fill_alpha\"},\"fill_color\":{\"field\":\"color\"},\"height\":{\"field\":\"height\",\"units\":\"data\"},\"line_color\":{\"field\":\"line_color\"},\"width\":{\"field\":\"width\",\"units\":\"data\"},\"x\":{\"field\":\"x\"},\"y\":{\"field\":\"y\"}},\"id\":\"ebdf7f4e-7f85-4366-90a6-0baf0d4b6a8f\",\"type\":\"Rect\"},{\"attributes\":{},\"id\":\"72768268-6978-4a26-aadf-f928b199799c\",\"type\":\"CategoricalTickFormatter\"},{\"attributes\":{\"fill_alpha\":{\"field\":\"fill_alpha\"},\"fill_color\":{\"field\":\"color\"},\"height\":{\"field\":\"height\",\"units\":\"data\"},\"line_color\":{\"field\":\"line_color\"},\"width\":{\"field\":\"width\",\"units\":\"data\"},\"x\":{\"field\":\"x\"},\"y\":{\"field\":\"y\"}},\"id\":\"1f09e3b3-84e2-452b-aa34-290bf6e2a87c\",\"type\":\"Rect\"},{\"attributes\":{\"fill_alpha\":{\"field\":\"fill_alpha\"},\"fill_color\":{\"field\":\"color\"},\"height\":{\"field\":\"height\",\"units\":\"data\"},\"line_color\":{\"field\":\"line_color\"},\"width\":{\"field\":\"width\",\"units\":\"data\"},\"x\":{\"field\":\"x\"},\"y\":{\"field\":\"y\"}},\"id\":\"a41d9e31-576f-49a8-9aa3-9cd68584e1cb\",\"type\":\"Rect\"},{\"attributes\":{},\"id\":\"a2bb8cac-e48c-48fa-ba38-297449170f6a\",\"type\":\"BasicTickFormatter\"},{\"attributes\":{\"callback\":null,\"column_names\":[\"line_color\",\"line_alpha\",\"color\",\"fill_alpha\",\"height\",\"width\",\"y\",\"x\",\"label\"],\"data\":{\"chart_index\":[{\"index\":275.7}],\"color\":[\"#f22c40\"],\"fill_alpha\":[0.8],\"height\":[145.0],\"index\":[275.7],\"label\":[{\"index\":275.7}],\"line_alpha\":[1.0],\"line_color\":[\"white\"],\"width\":[0.8],\"x\":[\"275.7\"],\"y\":[72.5]}},\"id\":\"2ef771a2-89b8-411d-be02-8923da881cd8\",\"type\":\"ColumnDataSource\"},{\"attributes\":{\"plot\":{\"id\":\"6b507a7f-2571-4669-af20-123e4e1ee659\",\"subtype\":\"Chart\",\"type\":\"Plot\"}},\"id\":\"ab30e866-02b6-4f9a-9e9a-bab8cab4b0eb\",\"type\":\"PanTool\"},{\"attributes\":{\"formatter\":{\"id\":\"72768268-6978-4a26-aadf-f928b199799c\",\"type\":\"CategoricalTickFormatter\"},\"major_label_orientation\":0.7853981633974483,\"plot\":{\"id\":\"6b507a7f-2571-4669-af20-123e4e1ee659\",\"subtype\":\"Chart\",\"type\":\"Plot\"},\"ticker\":{\"id\":\"28a375b5-a9fd-459a-aa48-d17795f480d2\",\"type\":\"CategoricalTicker\"}},\"id\":\"2c968fec-75e4-4916-a6e2-47049049a35f\",\"type\":\"CategoricalAxis\"},{\"attributes\":{\"label\":{\"value\":\"2.697\"},\"renderers\":[{\"id\":\"60fe9ea0-f288-4334-b6e1-df8abc17b8f7\",\"type\":\"GlyphRenderer\"}]},\"id\":\"74ff9c32-3eb3-4259-8632-0b789742f485\",\"type\":\"LegendItem\"},{\"attributes\":{\"fill_alpha\":{\"field\":\"fill_alpha\"},\"fill_color\":{\"field\":\"color\"},\"height\":{\"field\":\"height\",\"units\":\"data\"},\"line_color\":{\"field\":\"line_color\"},\"width\":{\"field\":\"width\",\"units\":\"data\"},\"x\":{\"field\":\"x\"},\"y\":{\"field\":\"y\"}},\"id\":\"4977d4b2-cdc4-4e08-a934-992ebf39dfba\",\"type\":\"Rect\"},{\"attributes\":{\"callback\":null,\"column_names\":[\"line_color\",\"line_alpha\",\"color\",\"fill_alpha\",\"height\",\"width\",\"y\",\"x\",\"label\"],\"data\":{\"chart_index\":[{\"index\":184.8}],\"color\":[\"#f22c40\"],\"fill_alpha\":[0.8],\"height\":[17.0],\"index\":[184.8],\"label\":[{\"index\":184.8}],\"line_alpha\":[1.0],\"line_color\":[\"white\"],\"width\":[0.8],\"x\":[\"184.8\"],\"y\":[8.5]}},\"id\":\"2a4c1094-0b5d-4411-99c5-932958704599\",\"type\":\"ColumnDataSource\"},{\"attributes\":{\"data_source\":{\"id\":\"2ef771a2-89b8-411d-be02-8923da881cd8\",\"type\":\"ColumnDataSource\"},\"glyph\":{\"id\":\"9d7566e6-4142-4dab-844a-583482e4d5a0\",\"type\":\"Rect\"},\"hover_glyph\":null,\"nonselection_glyph\":null,\"selection_glyph\":null},\"id\":\"89dbce1b-70d0-4ba0-9266-cb25dcc968a0\",\"type\":\"GlyphRenderer\"},{\"attributes\":{\"data_source\":{\"id\":\"3c27947c-42c3-4384-bd37-979dcbcce23d\",\"type\":\"ColumnDataSource\"},\"glyph\":{\"id\":\"a41d9e31-576f-49a8-9aa3-9cd68584e1cb\",\"type\":\"Rect\"},\"hover_glyph\":null,\"nonselection_glyph\":null,\"selection_glyph\":null},\"id\":\"3f138d13-dba7-46a7-bf18-428401c2502b\",\"type\":\"GlyphRenderer\"},{\"attributes\":{\"label\":{\"value\":\"124.2\"},\"renderers\":[{\"id\":\"058ce8eb-05df-402d-801f-41cdc2d3877e\",\"type\":\"GlyphRenderer\"}]},\"id\":\"a41ff14a-74c9-4ef5-93f0-333c2262b8ea\",\"type\":\"LegendItem\"},{\"attributes\":{\"below\":[{\"id\":\"2c968fec-75e4-4916-a6e2-47049049a35f\",\"type\":\"CategoricalAxis\"}],\"css_classes\":null,\"left\":[{\"id\":\"fbfae0f0-7ffb-4dfa-b274-9cf6a1f76af6\",\"type\":\"LinearAxis\"}],\"renderers\":[{\"id\":\"b993be6c-cf97-49d8-a37e-3b0ef06a6548\",\"type\":\"BoxAnnotation\"},{\"id\":\"60fe9ea0-f288-4334-b6e1-df8abc17b8f7\",\"type\":\"GlyphRenderer\"},{\"id\":\"44fd68e9-fa86-4c49-82ca-ade73e755e25\",\"type\":\"GlyphRenderer\"},{\"id\":\"f6187e69-dd60-40a1-abe0-13beeea34762\",\"type\":\"GlyphRenderer\"},{\"id\":\"6a9073e1-1d45-4937-940c-2fdaa3a7a689\",\"type\":\"GlyphRenderer\"},{\"id\":\"058ce8eb-05df-402d-801f-41cdc2d3877e\",\"type\":\"GlyphRenderer\"},{\"id\":\"5c269711-790a-4e92-9533-1aa21b8697bd\",\"type\":\"GlyphRenderer\"},{\"id\":\"65ff87f1-e726-41df-bc6c-084ab1484faa\",\"type\":\"GlyphRenderer\"},{\"id\":\"3f138d13-dba7-46a7-bf18-428401c2502b\",\"type\":\"GlyphRenderer\"},{\"id\":\"887bc157-9d89-4f91-8be7-addd8b94a081\",\"type\":\"GlyphRenderer\"},{\"id\":\"89dbce1b-70d0-4ba0-9266-cb25dcc968a0\",\"type\":\"GlyphRenderer\"},{\"id\":\"c79500ea-6200-49aa-aaf7-a32d7768cbc1\",\"type\":\"Legend\"},{\"id\":\"2c968fec-75e4-4916-a6e2-47049049a35f\",\"type\":\"CategoricalAxis\"},{\"id\":\"fbfae0f0-7ffb-4dfa-b274-9cf6a1f76af6\",\"type\":\"LinearAxis\"},{\"id\":\"0bcbe637-9d45-4ffa-a8b7-eb6d29e4307e\",\"type\":\"Grid\"}],\"title\":{\"id\":\"913008d9-99e3-49fd-b7fe-b640761c7bc8\",\"type\":\"Title\"},\"tool_events\":{\"id\":\"99092086-0fef-4365-9c0e-6eb2b238509e\",\"type\":\"ToolEvents\"},\"toolbar\":{\"id\":\"65265154-fdc1-4fac-bf09-982e41dc5ebb\",\"type\":\"Toolbar\"},\"x_mapper_type\":\"auto\",\"x_range\":{\"id\":\"e889b4ad-ae1e-4151-864f-74caa037c6fe\",\"type\":\"FactorRange\"},\"y_mapper_type\":\"auto\",\"y_range\":{\"id\":\"255f8db0-471f-4fe9-bc8f-ae9b9aaa21c9\",\"type\":\"Range1d\"}},\"id\":\"6b507a7f-2571-4669-af20-123e4e1ee659\",\"subtype\":\"Chart\",\"type\":\"Plot\"},{\"attributes\":{\"plot\":{\"id\":\"6b507a7f-2571-4669-af20-123e4e1ee659\",\"subtype\":\"Chart\",\"type\":\"Plot\"}},\"id\":\"20a96489-6a37-4eb0-8e1b-373e297c8a08\",\"type\":\"ResetTool\"},{\"attributes\":{\"plot\":null,\"text\":\"devices distributed by ndays\"},\"id\":\"913008d9-99e3-49fd-b7fe-b640761c7bc8\",\"type\":\"Title\"},{\"attributes\":{\"active_drag\":\"auto\",\"active_scroll\":\"auto\",\"active_tap\":\"auto\",\"tools\":[{\"id\":\"ab30e866-02b6-4f9a-9e9a-bab8cab4b0eb\",\"type\":\"PanTool\"},{\"id\":\"704e41ca-4854-4e54-a475-4e21de011d44\",\"type\":\"WheelZoomTool\"},{\"id\":\"063c16f0-731c-4f52-aadd-43fc876fe84c\",\"type\":\"BoxZoomTool\"},{\"id\":\"15d84736-a464-46cb-aba3-4bb814ea5745\",\"type\":\"SaveTool\"},{\"id\":\"20a96489-6a37-4eb0-8e1b-373e297c8a08\",\"type\":\"ResetTool\"},{\"id\":\"71a7bf9b-006d-4871-92bf-35eda356155b\",\"type\":\"HelpTool\"}]},\"id\":\"65265154-fdc1-4fac-bf09-982e41dc5ebb\",\"type\":\"Toolbar\"},{\"attributes\":{\"data_source\":{\"id\":\"8669da37-512c-4031-ad0c-560d081d7816\",\"type\":\"ColumnDataSource\"},\"glyph\":{\"id\":\"4977d4b2-cdc4-4e08-a934-992ebf39dfba\",\"type\":\"Rect\"},\"hover_glyph\":null,\"nonselection_glyph\":null,\"selection_glyph\":null},\"id\":\"887bc157-9d89-4f91-8be7-addd8b94a081\",\"type\":\"GlyphRenderer\"},{\"attributes\":{\"label\":{\"value\":\"275.7\"},\"renderers\":[{\"id\":\"89dbce1b-70d0-4ba0-9266-cb25dcc968a0\",\"type\":\"GlyphRenderer\"}]},\"id\":\"2b954444-3b7b-4ddf-82d2-a9d76d3265a4\",\"type\":\"LegendItem\"},{\"attributes\":{},\"id\":\"99092086-0fef-4365-9c0e-6eb2b238509e\",\"type\":\"ToolEvents\"},{\"attributes\":{\"callback\":null,\"column_names\":[\"line_color\",\"line_alpha\",\"color\",\"fill_alpha\",\"height\",\"width\",\"y\",\"x\",\"label\"],\"data\":{\"chart_index\":[{\"index\":33.3}],\"color\":[\"#f22c40\"],\"fill_alpha\":[0.8],\"height\":[45.0],\"index\":[33.3],\"label\":[{\"index\":33.3}],\"line_alpha\":[1.0],\"line_color\":[\"white\"],\"width\":[0.8],\"x\":[\"33.3\"],\"y\":[22.5]}},\"id\":\"99dcb59f-552e-44c8-b7af-7603ccbd48fa\",\"type\":\"ColumnDataSource\"},{\"attributes\":{\"callback\":null,\"column_names\":[\"line_color\",\"line_alpha\",\"color\",\"fill_alpha\",\"height\",\"width\",\"y\",\"x\",\"label\"],\"data\":{\"chart_index\":[{\"index\":93.9}],\"color\":[\"#f22c40\"],\"fill_alpha\":[0.8],\"height\":[112.0],\"index\":[93.9],\"label\":[{\"index\":93.9}],\"line_alpha\":[1.0],\"line_color\":[\"white\"],\"width\":[0.8],\"x\":[\"93.9\"],\"y\":[56.0]}},\"id\":\"7160786b-776d-4e99-93d1-d13badf5b561\",\"type\":\"ColumnDataSource\"},{\"attributes\":{\"axis_label\":\"Sum( N_Devices )\",\"formatter\":{\"id\":\"a2bb8cac-e48c-48fa-ba38-297449170f6a\",\"type\":\"BasicTickFormatter\"},\"plot\":{\"id\":\"6b507a7f-2571-4669-af20-123e4e1ee659\",\"subtype\":\"Chart\",\"type\":\"Plot\"},\"ticker\":{\"id\":\"e69af4bd-ef27-434a-a84f-445245ac737f\",\"type\":\"BasicTicker\"}},\"id\":\"fbfae0f0-7ffb-4dfa-b274-9cf6a1f76af6\",\"type\":\"LinearAxis\"},{\"attributes\":{\"bottom_units\":\"screen\",\"fill_alpha\":{\"value\":0.5},\"fill_color\":{\"value\":\"lightgrey\"},\"left_units\":\"screen\",\"level\":\"overlay\",\"line_alpha\":{\"value\":1.0},\"line_color\":{\"value\":\"black\"},\"line_dash\":[4,4],\"line_width\":{\"value\":2},\"plot\":null,\"render_mode\":\"css\",\"right_units\":\"screen\",\"top_units\":\"screen\"},\"id\":\"b993be6c-cf97-49d8-a37e-3b0ef06a6548\",\"type\":\"BoxAnnotation\"},{\"attributes\":{\"fill_alpha\":{\"field\":\"fill_alpha\"},\"fill_color\":{\"field\":\"color\"},\"height\":{\"field\":\"height\",\"units\":\"data\"},\"line_color\":{\"field\":\"line_color\"},\"width\":{\"field\":\"width\",\"units\":\"data\"},\"x\":{\"field\":\"x\"},\"y\":{\"field\":\"y\"}},\"id\":\"9d7566e6-4142-4dab-844a-583482e4d5a0\",\"type\":\"Rect\"},{\"attributes\":{\"callback\":null,\"column_names\":[\"line_color\",\"line_alpha\",\"color\",\"fill_alpha\",\"height\",\"width\",\"y\",\"x\",\"label\"],\"data\":{\"chart_index\":[{\"index\":2.697}],\"color\":[\"#f22c40\"],\"fill_alpha\":[0.8],\"height\":[405.0],\"index\":[2.697],\"label\":[{\"index\":2.697}],\"line_alpha\":[1.0],\"line_color\":[\"white\"],\"width\":[0.8],\"x\":[\"2.697\"],\"y\":[202.5]}},\"id\":\"165fa2da-a997-4b70-9eb5-8b5f548c02d0\",\"type\":\"ColumnDataSource\"},{\"attributes\":{\"callback\":null,\"column_names\":[\"line_color\",\"line_alpha\",\"color\",\"fill_alpha\",\"height\",\"width\",\"y\",\"x\",\"label\"],\"data\":{\"chart_index\":[{\"index\":245.4}],\"color\":[\"#f22c40\"],\"fill_alpha\":[0.8],\"height\":[5.0],\"index\":[245.4],\"label\":[{\"index\":245.4}],\"line_alpha\":[1.0],\"line_color\":[\"white\"],\"width\":[0.8],\"x\":[\"245.4\"],\"y\":[2.5]}},\"id\":\"8669da37-512c-4031-ad0c-560d081d7816\",\"type\":\"ColumnDataSource\"},{\"attributes\":{},\"id\":\"e69af4bd-ef27-434a-a84f-445245ac737f\",\"type\":\"BasicTicker\"},{\"attributes\":{\"label\":{\"value\":\"154.5\"},\"renderers\":[{\"id\":\"5c269711-790a-4e92-9533-1aa21b8697bd\",\"type\":\"GlyphRenderer\"}]},\"id\":\"16b0b752-d5c9-4588-bf13-f9c7b8914c7f\",\"type\":\"LegendItem\"},{\"attributes\":{\"fill_alpha\":{\"field\":\"fill_alpha\"},\"fill_color\":{\"field\":\"color\"},\"height\":{\"field\":\"height\",\"units\":\"data\"},\"line_color\":{\"field\":\"line_color\"},\"width\":{\"field\":\"width\",\"units\":\"data\"},\"x\":{\"field\":\"x\"},\"y\":{\"field\":\"y\"}},\"id\":\"5aae9543-34c2-4bd1-849a-c39530ad6c1c\",\"type\":\"Rect\"},{\"attributes\":{\"fill_alpha\":{\"field\":\"fill_alpha\"},\"fill_color\":{\"field\":\"color\"},\"height\":{\"field\":\"height\",\"units\":\"data\"},\"line_color\":{\"field\":\"line_color\"},\"width\":{\"field\":\"width\",\"units\":\"data\"},\"x\":{\"field\":\"x\"},\"y\":{\"field\":\"y\"}},\"id\":\"30f5f039-cb31-45e6-9742-f6696804f1eb\",\"type\":\"Rect\"},{\"attributes\":{\"label\":{\"value\":\"245.4\"},\"renderers\":[{\"id\":\"887bc157-9d89-4f91-8be7-addd8b94a081\",\"type\":\"GlyphRenderer\"}]},\"id\":\"fceaf6c2-0d9a-457d-b790-2c2e8d741859\",\"type\":\"LegendItem\"},{\"attributes\":{\"callback\":null,\"column_names\":[\"line_color\",\"line_alpha\",\"color\",\"fill_alpha\",\"height\",\"width\",\"y\",\"x\",\"label\"],\"data\":{\"chart_index\":[{\"index\":124.2}],\"color\":[\"#f22c40\"],\"fill_alpha\":[0.8],\"height\":[67.0],\"index\":[124.2],\"label\":[{\"index\":124.2}],\"line_alpha\":[1.0],\"line_color\":[\"white\"],\"width\":[0.8],\"x\":[\"124.2\"],\"y\":[33.5]}},\"id\":\"8dcd5e39-5a5e-4f7e-9935-4199f9f953c0\",\"type\":\"ColumnDataSource\"}],\"root_ids\":[\"6b507a7f-2571-4669-af20-123e4e1ee659\"]},\"title\":\"Bokeh Application\",\"version\":\"0.12.4\"}};\n",
       "            var render_items = [{\"docid\":\"82080daa-6631-4114-9a0e-53d60529f915\",\"elementid\":\"033b354e-eabf-4e18-a627-d31f382f1ba0\",\"modelid\":\"6b507a7f-2571-4669-af20-123e4e1ee659\"}];\n",
       "            \n",
       "            Bokeh.embed.embed_items(docs_json, render_items);\n",
       "          };\n",
       "          if (document.readyState != \"loading\") fn();\n",
       "          else document.addEventListener(\"DOMContentLoaded\", fn);\n",
       "        })();\n",
       "      },\n",
       "      function(Bokeh) {\n",
       "      }\n",
       "    ];\n",
       "  \n",
       "    function run_inline_js() {\n",
       "      \n",
       "      if ((window.Bokeh !== undefined) || (force === true)) {\n",
       "        for (var i = 0; i < inline_js.length; i++) {\n",
       "          inline_js[i](window.Bokeh);\n",
       "        }if (force === true) {\n",
       "          display_loaded();\n",
       "        }} else if (Date.now() < window._bokeh_timeout) {\n",
       "        setTimeout(run_inline_js, 100);\n",
       "      } else if (!window._bokeh_failed_load) {\n",
       "        console.log(\"Bokeh: BokehJS failed to load within specified timeout.\");\n",
       "        window._bokeh_failed_load = true;\n",
       "      } else if (force !== true) {\n",
       "        var cell = $(document.getElementById(\"033b354e-eabf-4e18-a627-d31f382f1ba0\")).parents('.cell').data().cell;\n",
       "        cell.output_area.append_execute_result(NB_LOAD_WARNING)\n",
       "      }\n",
       "  \n",
       "    }\n",
       "  \n",
       "    if (window._bokeh_is_loading === 0) {\n",
       "      console.log(\"Bokeh: BokehJS loaded, going straight to plotting\");\n",
       "      run_inline_js();\n",
       "    } else {\n",
       "      load_libs(js_urls, function() {\n",
       "        console.log(\"Bokeh: BokehJS plotting callback run at\", now());\n",
       "        run_inline_js();\n",
       "      });\n",
       "    }\n",
       "  }(this));\n",
       "</script>"
      ]
     },
     "metadata": {},
     "output_type": "display_data"
    }
   ],
   "source": [
    "i = devices[\"n_days\"].value_counts(bins=10).sort_index()\n",
    "i.index.name='n_days'\n",
    "b = Bar(pd.DataFrame(\n",
    "    {\"n_devices\":i}),\n",
    "    xlabel=\"n days\",\n",
    "   title=\"devices distributed by ndays\"\n",
    "       )\n",
    "show(b)"
   ]
  },
  {
   "cell_type": "code",
   "execution_count": 94,
   "metadata": {
    "collapsed": false
   },
   "outputs": [
    {
     "data": {
      "text/plain": [
       "Timestamp('2015-01-19 00:00:00')"
      ]
     },
     "execution_count": 94,
     "metadata": {},
     "output_type": "execute_result"
    }
   ],
   "source": [
    "data = withdate\n",
    "d = data[data[\"failure\"]>0][\"date\"]\n",
    "d[0]"
   ]
  },
  {
   "cell_type": "code",
   "execution_count": 118,
   "metadata": {
    "collapsed": false
   },
   "outputs": [
    {
     "name": "stdout",
     "output_type": "stream",
     "text": [
      "\n",
      "dt in days between first failure and end of measurement :\n",
      "0.0     101\n",
      "2.0       2\n",
      "30.0      1\n",
      "1.0       1\n",
      "12.0      1\n",
      "Name: td, dtype: int64\n",
      "\n",
      "n failures\n",
      "1.0    106\n",
      "Name: sum, dtype: int64\n"
     ]
    }
   ],
   "source": [
    "failing_devices = devices[devices[\"failure\"]>0].index\n",
    "failing_devices_t = pd.DataFrame({\"failure\":label_dset[\"failure\"].unstack().filter(items=failing_devices).unstack()}).dropna()\n",
    "def max_date(date):\n",
    "    return np.max(date)\n",
    "\n",
    "def failing_date(date):\n",
    "    data = withdate.ix[date.index]\n",
    "    return data[data[\"failure\"]>0][\"date\"][0]\n",
    "\n",
    "withdate = failing_devices_t.reset_index(level=1)\n",
    "max_vs_failingdates = withdate.groupby(level=0).agg( {\"date\": [ max_date, failing_date ],\"failure\": np.sum})\n",
    "max_vs_failingdates.columns = max_vs_failingdates.columns.droplevel()\n",
    "max_vs_failingdates[\"td\"] = (max_vs_failingdates[\"max_date\"] - max_vs_failingdates[\"failing_date\"]) / np.timedelta64(1, 'D')\n",
    "print\n",
    "print \"dt in days between first failure and end of measurement :\"\n",
    "print max_vs_failingdates[\"td\"].value_counts()\n",
    "print\n",
    "print \"n failures\"\n",
    "print max_vs_failingdates[\"sum\"].value_counts()\n"
   ]
  },
  {
   "cell_type": "code",
   "execution_count": 146,
   "metadata": {
    "collapsed": true
   },
   "outputs": [
    {
     "name": "stdout",
     "output_type": "stream",
     "text": [
      "looking at weird failures\n",
      "            failure                                    \n",
      "device     S1F0GPFZ S1F136J0 W1F0KCP2 W1F0M35B W1F11ZG9\n",
      "date                                                   \n",
      "2015-01-01      0.0      0.0      0.0      0.0      0.0\n",
      "2015-01-02      0.0      0.0      0.0      0.0      0.0\n",
      "2015-01-03      0.0      0.0      0.0      0.0      0.0\n",
      "2015-01-04      0.0      0.0      0.0      0.0      0.0\n",
      "2015-01-05      0.0      0.0      0.0      0.0      0.0\n",
      "2015-01-06      0.0      0.0      0.0      0.0      0.0\n",
      "2015-01-07      0.0      0.0      0.0      0.0      0.0\n",
      "2015-01-08      0.0      0.0      0.0      0.0      0.0\n",
      "2015-01-09      0.0      0.0      0.0      0.0      0.0\n",
      "2015-01-10      0.0      0.0      0.0      0.0      0.0\n",
      "2015-01-11      0.0      0.0      0.0      0.0      0.0\n",
      "2015-01-12      0.0      0.0      0.0      0.0      0.0\n",
      "2015-01-13      0.0      0.0      0.0      0.0      0.0\n",
      "2015-01-14      0.0      0.0      0.0      0.0      0.0\n",
      "2015-01-15      0.0      0.0      0.0      0.0      0.0\n",
      "2015-01-16      0.0      0.0      0.0      0.0      0.0\n",
      "2015-01-17      0.0      0.0      0.0      0.0      0.0\n",
      "2015-01-18      0.0      0.0      0.0      0.0      0.0\n",
      "2015-01-19      0.0      0.0      0.0      0.0      0.0\n",
      "2015-01-20      0.0      0.0      0.0      0.0      0.0\n",
      "2015-01-21      0.0      0.0      0.0      0.0      0.0\n",
      "2015-01-22      0.0      0.0      0.0      0.0      0.0\n",
      "2015-01-23      0.0      0.0      0.0      0.0      0.0\n",
      "2015-01-24      0.0      0.0      0.0      0.0      0.0\n",
      "2015-01-25      0.0      0.0      0.0      0.0      0.0\n",
      "2015-01-26      0.0      0.0      0.0      0.0      0.0\n",
      "2015-01-27      0.0      0.0      0.0      0.0      0.0\n",
      "2015-01-28      0.0      0.0      0.0      0.0      0.0\n",
      "2015-01-29      0.0      0.0      0.0      0.0      0.0\n",
      "2015-01-30      0.0      0.0      0.0      0.0      0.0\n",
      "2015-01-31      0.0      0.0      0.0      0.0      0.0\n",
      "2015-02-01      0.0      0.0      0.0      0.0      0.0\n",
      "2015-02-02      0.0      0.0      0.0      0.0      0.0\n",
      "2015-02-03      0.0      0.0      0.0      0.0      0.0\n",
      "2015-02-04      0.0      0.0      0.0      0.0      0.0\n",
      "2015-02-05      0.0      0.0      0.0      0.0      0.0\n",
      "2015-02-06      0.0      0.0      0.0      0.0      0.0\n",
      "2015-02-07      0.0      0.0      0.0      0.0      0.0\n",
      "2015-02-08      0.0      0.0      0.0      0.0      0.0\n",
      "2015-02-09      0.0      0.0      0.0      0.0      0.0\n",
      "2015-02-10      0.0      0.0      0.0      0.0      0.0\n",
      "2015-02-11      0.0      0.0      0.0      0.0      0.0\n",
      "2015-02-12      0.0      0.0      0.0      0.0      0.0\n",
      "2015-02-13      0.0      0.0      0.0      0.0      0.0\n",
      "2015-02-14      0.0      0.0      0.0      0.0      0.0\n",
      "2015-02-15      0.0      0.0      0.0      0.0      0.0\n",
      "2015-02-16      0.0      0.0      0.0      0.0      0.0\n",
      "2015-02-17      0.0      0.0      0.0      0.0      0.0\n",
      "2015-02-18      0.0      0.0      0.0      0.0      0.0\n",
      "2015-02-19      0.0      0.0      0.0      0.0      0.0\n",
      "2015-02-20      0.0      0.0      0.0      0.0      0.0\n",
      "2015-02-21      0.0      0.0      0.0      0.0      0.0\n",
      "2015-02-22      0.0      0.0      0.0      0.0      0.0\n",
      "2015-02-23      0.0      0.0      0.0      0.0      0.0\n",
      "2015-02-24      0.0      0.0      0.0      0.0      0.0\n",
      "2015-02-25      0.0      0.0      0.0      0.0      0.0\n",
      "2015-02-26      0.0      0.0      0.0      0.0      0.0\n",
      "2015-02-27      0.0      0.0      0.0      0.0      0.0\n",
      "2015-02-28      0.0      0.0      0.0      0.0      0.0\n",
      "2015-03-01      0.0      0.0      0.0      0.0      0.0\n",
      "2015-03-02      0.0      0.0      0.0      0.0      0.0\n",
      "2015-03-03      0.0      0.0      0.0      0.0      0.0\n",
      "2015-03-04      0.0      0.0      0.0      0.0      0.0\n",
      "2015-03-05      0.0      0.0      0.0      0.0      0.0\n",
      "2015-03-06      0.0      0.0      0.0      0.0      0.0\n",
      "2015-03-07      0.0      0.0      0.0      0.0      0.0\n",
      "2015-03-08      0.0      0.0      0.0      0.0      0.0\n",
      "2015-03-09      0.0      0.0      0.0      0.0      0.0\n",
      "2015-03-10      0.0      0.0      0.0      0.0      0.0\n",
      "2015-03-11      0.0      0.0      0.0      0.0      0.0\n",
      "2015-03-12      0.0      0.0      0.0      0.0      0.0\n",
      "2015-03-13      0.0      0.0      0.0      0.0      0.0\n",
      "2015-03-14      0.0      0.0      0.0      0.0      0.0\n",
      "2015-03-15      0.0      0.0      0.0      0.0      0.0\n",
      "2015-03-16      0.0      0.0      0.0      0.0      0.0\n",
      "2015-03-17      0.0      0.0      0.0      0.0      0.0\n",
      "2015-03-18      0.0      0.0      0.0      0.0      0.0\n",
      "2015-03-19      0.0      0.0      0.0      0.0      0.0\n",
      "2015-03-20      0.0      0.0      0.0      0.0      0.0\n",
      "2015-03-21      0.0      0.0      0.0      0.0      0.0\n",
      "2015-03-22      0.0      0.0      0.0      0.0      0.0\n",
      "2015-03-23      0.0      0.0      0.0      0.0      0.0\n",
      "2015-03-24      0.0      0.0      0.0      0.0      0.0\n",
      "2015-03-25      0.0      0.0      0.0      0.0      0.0\n",
      "2015-03-26      0.0      0.0      0.0      0.0      0.0\n",
      "2015-03-27      0.0      0.0      0.0      0.0      0.0\n",
      "2015-03-28      0.0      0.0      0.0      0.0      0.0\n",
      "2015-03-29      0.0      0.0      0.0      0.0      0.0\n",
      "2015-03-30      0.0      0.0      0.0      0.0      0.0\n",
      "2015-03-31      0.0      0.0      0.0      0.0      0.0\n",
      "2015-04-01      0.0      0.0      0.0      0.0      0.0\n",
      "2015-04-02      0.0      0.0      0.0      0.0      0.0\n",
      "2015-04-03      0.0      0.0      0.0      0.0      0.0\n",
      "2015-04-04      0.0      0.0      0.0      0.0      0.0\n",
      "2015-04-05      0.0      0.0      0.0      0.0      0.0\n",
      "2015-04-06      0.0      0.0      0.0      0.0      0.0\n",
      "2015-04-07      0.0      0.0      0.0      0.0      0.0\n",
      "2015-04-08      0.0      0.0      0.0      0.0      0.0\n",
      "2015-04-09      0.0      0.0      0.0      0.0      0.0\n",
      "2015-04-10      0.0      0.0      0.0      0.0      0.0\n",
      "2015-04-11      0.0      0.0      0.0      0.0      0.0\n",
      "2015-04-12      0.0      0.0      0.0      0.0      0.0\n",
      "2015-04-13      0.0      0.0      0.0      0.0      0.0\n",
      "2015-04-14      0.0      0.0      0.0      0.0      0.0\n",
      "2015-04-15      0.0      0.0      0.0      0.0      0.0\n",
      "2015-04-16      0.0      0.0      0.0      0.0      0.0\n",
      "2015-04-17      0.0      0.0      0.0      0.0      0.0\n",
      "2015-04-18      0.0      0.0      0.0      0.0      0.0\n",
      "2015-04-19      0.0      0.0      0.0      0.0      0.0\n",
      "2015-04-20      0.0      0.0      0.0      0.0      0.0\n",
      "2015-04-21      0.0      0.0      0.0      0.0      0.0\n",
      "2015-04-22      0.0      0.0      0.0      0.0      0.0\n",
      "2015-04-23      0.0      0.0      0.0      0.0      0.0\n",
      "2015-04-24      0.0      0.0      0.0      0.0      0.0\n",
      "2015-04-25      0.0      0.0      0.0      0.0      0.0\n",
      "2015-04-26      0.0      0.0      0.0      0.0      0.0\n",
      "2015-04-27      0.0      0.0      0.0      0.0      0.0\n",
      "2015-04-28      0.0      0.0      0.0      0.0      0.0\n",
      "2015-04-29      0.0      0.0      0.0      0.0      0.0\n",
      "2015-04-30      0.0      0.0      0.0      0.0      0.0\n",
      "2015-05-01      0.0      0.0      0.0      0.0      0.0\n",
      "2015-05-02      0.0      0.0      0.0      0.0      0.0\n",
      "2015-05-03      0.0      0.0      0.0      0.0      0.0\n",
      "2015-05-04      0.0      0.0      0.0      0.0      0.0\n",
      "2015-05-05      0.0      1.0      0.0      0.0      0.0\n",
      "2015-05-06      0.0      0.0      0.0      0.0      0.0\n",
      "2015-05-07      0.0      NaN      0.0      0.0      0.0\n",
      "2015-05-08      0.0      NaN      0.0      0.0      0.0\n",
      "2015-05-09      0.0      NaN      1.0      1.0      0.0\n",
      "2015-05-10      0.0      NaN      0.0      0.0      0.0\n",
      "2015-05-11      0.0      NaN      0.0      0.0      0.0\n",
      "2015-05-12      0.0      NaN      NaN      NaN      0.0\n",
      "2015-05-13      0.0      NaN      NaN      NaN      0.0\n",
      "2015-05-14      0.0      NaN      NaN      NaN      0.0\n",
      "2015-05-15      0.0      NaN      NaN      NaN      0.0\n",
      "2015-05-16      0.0      NaN      NaN      NaN      0.0\n",
      "2015-05-17      0.0      NaN      NaN      NaN      0.0\n",
      "2015-05-18      0.0      NaN      NaN      NaN      0.0\n",
      "2015-05-19      0.0      NaN      NaN      NaN      0.0\n",
      "2015-05-20      0.0      NaN      NaN      NaN      0.0\n",
      "2015-05-21      0.0      NaN      NaN      NaN      0.0\n",
      "2015-05-22      0.0      NaN      NaN      NaN      0.0\n",
      "2015-05-23      0.0      NaN      NaN      NaN      0.0\n",
      "2015-05-24      0.0      NaN      NaN      NaN      0.0\n",
      "2015-05-25      0.0      NaN      NaN      NaN      0.0\n",
      "2015-05-26      0.0      NaN      NaN      NaN      0.0\n",
      "2015-05-27      0.0      NaN      NaN      NaN      0.0\n",
      "2015-05-28      0.0      NaN      NaN      NaN      0.0\n",
      "2015-05-29      0.0      NaN      NaN      NaN      0.0\n",
      "2015-05-30      0.0      NaN      NaN      NaN      0.0\n",
      "2015-05-31      0.0      NaN      NaN      NaN      0.0\n",
      "2015-06-01      0.0      NaN      NaN      NaN      0.0\n",
      "2015-06-02      0.0      NaN      NaN      NaN      0.0\n",
      "2015-06-03      0.0      NaN      NaN      NaN      0.0\n",
      "2015-06-04      0.0      NaN      NaN      NaN      0.0\n",
      "2015-06-05      0.0      NaN      NaN      NaN      0.0\n",
      "2015-06-06      0.0      NaN      NaN      NaN      0.0\n",
      "2015-06-07      0.0      NaN      NaN      NaN      0.0\n",
      "2015-06-08      0.0      NaN      NaN      NaN      0.0\n",
      "2015-06-09      0.0      NaN      NaN      NaN      0.0\n",
      "2015-06-10      0.0      NaN      NaN      NaN      0.0\n",
      "2015-06-11      0.0      NaN      NaN      NaN      0.0\n",
      "2015-06-12      0.0      NaN      NaN      NaN      0.0\n",
      "2015-06-13      0.0      NaN      NaN      NaN      0.0\n",
      "2015-06-14      0.0      NaN      NaN      NaN      0.0\n",
      "2015-06-15      0.0      NaN      NaN      NaN      0.0\n",
      "2015-06-16      0.0      NaN      NaN      NaN      0.0\n",
      "2015-06-17      0.0      NaN      NaN      NaN      0.0\n",
      "2015-06-18      0.0      NaN      NaN      NaN      0.0\n",
      "2015-06-19      0.0      NaN      NaN      NaN      0.0\n",
      "2015-06-20      0.0      NaN      NaN      NaN      0.0\n",
      "2015-06-21      0.0      NaN      NaN      NaN      0.0\n",
      "2015-06-22      0.0      NaN      NaN      NaN      0.0\n",
      "2015-06-23      0.0      NaN      NaN      NaN      0.0\n",
      "2015-06-24      0.0      NaN      NaN      NaN      0.0\n",
      "2015-06-25      0.0      NaN      NaN      NaN      0.0\n",
      "2015-06-26      0.0      NaN      NaN      NaN      0.0\n",
      "2015-06-27      0.0      NaN      NaN      NaN      0.0\n",
      "2015-06-28      0.0      NaN      NaN      NaN      0.0\n",
      "2015-06-29      0.0      NaN      NaN      NaN      0.0\n",
      "2015-06-30      0.0      NaN      NaN      NaN      0.0\n",
      "2015-07-01      0.0      NaN      NaN      NaN      0.0\n",
      "2015-07-02      0.0      NaN      NaN      NaN      0.0\n",
      "2015-07-03      0.0      NaN      NaN      NaN      0.0\n",
      "2015-07-04      0.0      NaN      NaN      NaN      0.0\n",
      "2015-07-05      0.0      NaN      NaN      NaN      0.0\n",
      "2015-07-06      0.0      NaN      NaN      NaN      0.0\n",
      "2015-07-07      0.0      NaN      NaN      NaN      0.0\n",
      "2015-07-08      0.0      NaN      NaN      NaN      0.0\n",
      "2015-07-09      0.0      NaN      NaN      NaN      0.0\n",
      "2015-07-10      0.0      NaN      NaN      NaN      0.0\n",
      "2015-07-11      0.0      NaN      NaN      NaN      0.0\n",
      "2015-07-12      1.0      NaN      NaN      NaN      0.0\n",
      "2015-07-13      0.0      NaN      NaN      NaN      0.0\n",
      "2015-07-14      0.0      NaN      NaN      NaN      0.0\n",
      "2015-07-15      0.0      NaN      NaN      NaN      0.0\n",
      "2015-07-16      0.0      NaN      NaN      NaN      0.0\n",
      "2015-07-17      0.0      NaN      NaN      NaN      0.0\n",
      "2015-07-18      0.0      NaN      NaN      NaN      1.0\n",
      "2015-07-19      0.0      NaN      NaN      NaN      0.0\n",
      "2015-07-20      0.0      NaN      NaN      NaN      0.0\n",
      "2015-07-21      0.0      NaN      NaN      NaN      0.0\n",
      "2015-07-22      0.0      NaN      NaN      NaN      0.0\n",
      "2015-07-23      0.0      NaN      NaN      NaN      0.0\n",
      "2015-07-24      0.0      NaN      NaN      NaN      0.0\n",
      "2015-07-25      NaN      NaN      NaN      NaN      0.0\n",
      "2015-07-26      NaN      NaN      NaN      NaN      0.0\n",
      "2015-07-27      NaN      NaN      NaN      NaN      0.0\n",
      "2015-07-28      NaN      NaN      NaN      NaN      0.0\n",
      "2015-07-29      NaN      NaN      NaN      NaN      0.0\n",
      "2015-07-30      NaN      NaN      NaN      NaN      0.0\n",
      "2015-07-31      NaN      NaN      NaN      NaN      0.0\n",
      "2015-08-01      NaN      NaN      NaN      NaN      0.0\n",
      "2015-08-02      NaN      NaN      NaN      NaN      0.0\n",
      "2015-08-03      NaN      NaN      NaN      NaN      0.0\n",
      "2015-08-04      NaN      NaN      NaN      NaN      0.0\n",
      "2015-08-05      NaN      NaN      NaN      NaN      0.0\n",
      "2015-08-06      NaN      NaN      NaN      NaN      0.0\n",
      "2015-08-07      NaN      NaN      NaN      NaN      0.0\n",
      "2015-08-08      NaN      NaN      NaN      NaN      0.0\n",
      "2015-08-09      NaN      NaN      NaN      NaN      0.0\n",
      "2015-08-10      NaN      NaN      NaN      NaN      0.0\n",
      "2015-08-11      NaN      NaN      NaN      NaN      0.0\n",
      "2015-08-12      NaN      NaN      NaN      NaN      0.0\n",
      "2015-08-13      NaN      NaN      NaN      NaN      0.0\n",
      "2015-08-14      NaN      NaN      NaN      NaN      0.0\n",
      "2015-08-15      NaN      NaN      NaN      NaN      0.0\n",
      "2015-08-16      NaN      NaN      NaN      NaN      0.0\n",
      "2015-08-17      NaN      NaN      NaN      NaN      0.0\n"
     ]
    }
   ],
   "source": [
    "print \"looking at weird failures\"\n",
    "weird_devices = max_vs_failingdates[max_vs_failingdates[\"td\"] > 0]\n",
    "weirdos = failing_devices_t.reset_index(level=1).ix[set(weird_devices.index)]\n",
    "print weirdos.set_index(\"date\",append=True).unstack(level=\"device\").to_string()"
   ]
  },
  {
   "cell_type": "markdown",
   "metadata": {},
   "source": [
    " - indetified a list of devices, which are still measured after having failed.\n",
    " \n",
    "three hypothesis:\n",
    " - The device is still functionnal after maintenance\n",
    " - The failure was a fluke\n",
    " - The measurement thereafter are false\n",
    " \n",
    " ==> if we cannot distinguish between these hypothesis, need to remove these devices from the dataset "
   ]
  },
  {
   "cell_type": "code",
   "execution_count": null,
   "metadata": {
    "collapsed": true
   },
   "outputs": [],
   "source": []
  }
 ],
 "metadata": {
  "hide_input": false,
  "kernelspec": {
   "display_name": "Python 2",
   "language": "python",
   "name": "python2"
  },
  "language_info": {
   "codemirror_mode": {
    "name": "ipython",
    "version": 2
   },
   "file_extension": ".py",
   "mimetype": "text/x-python",
   "name": "python",
   "nbconvert_exporter": "python",
   "pygments_lexer": "ipython2",
   "version": "2.7.12"
  }
 },
 "nbformat": 4,
 "nbformat_minor": 2
}
