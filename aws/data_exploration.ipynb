{
 "cells": [
  {
   "cell_type": "markdown",
   "metadata": {
    "collapsed": true
   },
   "source": [
    "## loading data/libs"
   ]
  },
  {
   "cell_type": "code",
   "execution_count": null,
   "metadata": {
    "ExecuteTime": {
     "end_time": "2017-01-20T19:09:44.933314",
     "start_time": "2017-01-20T19:09:44.913874"
    },
    "collapsed": false
   },
   "outputs": [],
   "source": [
    "import pandas as pd\n",
    "import calendar\n",
    "from bokeh.charts import output_notebook, Scatter, Bar, show, output_file, Line, BoxPlot, Scatter\n",
    "from bokeh.plotting import figure\n",
    "\n",
    "output_notebook() "
   ]
  },
  {
   "cell_type": "code",
   "execution_count": null,
   "metadata": {
    "ExecuteTime": {
     "end_time": "2017-01-20T18:12:25.340898",
     "start_time": "2017-01-20T18:12:25.168430"
    },
    "collapsed": false
   },
   "outputs": [],
   "source": [
    "INPUT=\"data/device_failure.csv\" \n",
    "dataset = pd.read_csv(INPUT,index_col=[0,1],parse_dates=[0])"
   ]
  },
  {
   "cell_type": "code",
   "execution_count": null,
   "metadata": {
    "ExecuteTime": {
     "end_time": "2017-01-20T18:12:26.110610",
     "start_time": "2017-01-20T18:12:26.102261"
    },
    "collapsed": false
   },
   "outputs": [],
   "source": [
    "label_dset = dataset[[\"failure\"]]\n"
   ]
  },
  {
   "cell_type": "markdown",
   "metadata": {},
   "source": [
    "### checking devices"
   ]
  },
  {
   "cell_type": "code",
   "execution_count": null,
   "metadata": {
    "ExecuteTime": {
     "end_time": "2017-01-20T18:12:27.150655",
     "start_time": "2017-01-20T18:12:27.133185"
    },
    "collapsed": false
   },
   "outputs": [],
   "source": [
    "total_failures_per_device = label_dset.groupby(level=1).agg(sum)\n",
    "total_failures_per_device[\"failure\"].value_counts()"
   ]
  },
  {
   "cell_type": "markdown",
   "metadata": {},
   "source": [
    "Each device fail at least once\n",
    "\n",
    "~10% device failing\n",
    "\n",
    "'only' 106 positive points"
   ]
  },
  {
   "cell_type": "markdown",
   "metadata": {},
   "source": [
    "### checking Dates"
   ]
  },
  {
   "cell_type": "code",
   "execution_count": null,
   "metadata": {
    "ExecuteTime": {
     "end_time": "2017-01-20T18:12:28.723917",
     "start_time": "2017-01-20T18:12:28.707260"
    },
    "collapsed": false
   },
   "outputs": [],
   "source": [
    "dates = label_dset.index.get_level_values(0)\n",
    "print \"Range: from %s to %s\" % (dates.min(), dates.max())\n",
    "\n",
    "\n",
    "total_failures_per_date = label_dset.groupby(level=0).agg(sum)\n",
    "print\n",
    "print \" n failures per date\"\n",
    "print str(total_failures_per_date[\"failure\"].value_counts())\n",
    "print\n",
    "print \"total: %i failures for %i days\" % (total_failures_per_date[\"failure\"].sum(), \n",
    "                                          total_failures_per_date[total_failures_per_date.failure >0].count())"
   ]
  },
  {
   "cell_type": "code",
   "execution_count": null,
   "metadata": {
    "ExecuteTime": {
     "end_time": "2017-01-20T18:12:29.790747",
     "start_time": "2017-01-20T18:12:29.720487"
    },
    "collapsed": false,
    "scrolled": true
   },
   "outputs": [],
   "source": [
    "from bokeh.plotting import figure\n",
    "data =total_failures_per_date.resample(\"M\").sum() \n",
    "test = label_dset.reset_index(\"device\").resample(\"M\").count()\n",
    "data[\"n_devices\"] = test[\"device\"]\n",
    "data[\"failure_ratio_pm\"] = data[\"failure\"] / data[\"n_devices\"] * 1000\n",
    "data.index = (calendar.month_abbr[i] for i in data.index.month)\n",
    "l = Line(\n",
    "    data[\"failure_ratio_pm\"],\n",
    "    title=\"failures per Month\",\n",
    "    ylabel=\"n_failures\", \n",
    "    xlabel=\"month\"\n",
    ")\n",
    "show(l)"
   ]
  },
  {
   "cell_type": "code",
   "execution_count": null,
   "metadata": {
    "ExecuteTime": {
     "end_time": "2017-01-20T18:12:31.192542",
     "start_time": "2017-01-20T18:12:31.175466"
    },
    "collapsed": false
   },
   "outputs": [],
   "source": [
    "weekday_dset = total_failures_per_date.copy()\n",
    "weekday_dset.index = [\"%i:%s\" % (i,calendar.day_name[i]) for i in total_failures_per_date.index.weekday]\n",
    "\n",
    "per_day = weekday_dset.groupby(level=0).sum()\n",
    "\n",
    "print \"failures per weekday\"\n",
    "\n",
    "per_day.sort_index()\n"
   ]
  },
  {
   "cell_type": "markdown",
   "metadata": {
    "collapsed": false
   },
   "source": [
    "- Long term trend with more failures in the past\n",
    "- Less  failures over the weekend\n",
    "- The absence of weekend could be explained by maintenance hapening only during workweek (hence explaing more failures on monday\n"
   ]
  },
  {
   "cell_type": "markdown",
   "metadata": {
    "collapsed": false
   },
   "source": [
    "### Per Device description "
   ]
  },
  {
   "cell_type": "code",
   "execution_count": null,
   "metadata": {
    "ExecuteTime": {
     "end_time": "2017-01-20T18:12:33.367085",
     "start_time": "2017-01-20T18:12:33.318047"
    },
    "collapsed": false
   },
   "outputs": [],
   "source": [
    "import numpy as np\n",
    "dates = label_dset.swaplevel()\n",
    "dd= dates.reset_index(\"date\")[\"date\"]\n",
    "devices = pd.DataFrame({\"min_date\":dd.groupby(level=0).min()})\n",
    "devices[\"max_date\"] =  dd.groupby(level=0).max()\n",
    "devices[\"n_lines\"] = dd.groupby(level=0).count()\n",
    "devices[\"n_days\"] = (devices[\"max_date\"] - devices[\"min_date\"] ) /np.timedelta64(1, 'D') +1\n",
    "devices[\"missing_values\"] = devices[\"n_days\"] - devices[\"n_lines\"]"
   ]
  },
  {
   "cell_type": "code",
   "execution_count": null,
   "metadata": {
    "ExecuteTime": {
     "end_time": "2017-01-20T18:12:34.181907",
     "start_time": "2017-01-20T18:12:34.151153"
    },
    "collapsed": false
   },
   "outputs": [],
   "source": [
    "devices[\"min_date\"].value_counts()"
   ]
  },
  {
   "cell_type": "markdown",
   "metadata": {},
   "source": [
    "### checking the nb devices per month. this is better done above"
   ]
  },
  {
   "cell_type": "code",
   "execution_count": null,
   "metadata": {
    "ExecuteTime": {
     "end_time": "2017-01-20T18:12:35.324533",
     "start_time": "2017-01-20T18:12:35.312165"
    },
    "collapsed": false
   },
   "outputs": [],
   "source": [
    "#pd.DataFrame({\"n_devices\":devices[\"max_date\"].dt.month.value_counts().sort_index()})\n",
    "montlhy_devices = pd.DataFrame({\"n_devices\":devices[\"max_date\"].dt.month.value_counts().sort_index()})\n",
    "montlhy_devices.index = [calendar.month_abbr[i] for i in montlhy_devices.index]\n",
    "montlhy_devices"
   ]
  },
  {
   "cell_type": "markdown",
   "metadata": {},
   "source": [
    "### bucketing the n devices with missing day data"
   ]
  },
  {
   "cell_type": "code",
   "execution_count": null,
   "metadata": {
    "ExecuteTime": {
     "end_time": "2017-01-20T18:12:37.045383",
     "start_time": "2017-01-20T18:12:37.036754"
    },
    "collapsed": false
   },
   "outputs": [],
   "source": [
    "i = ( (devices[\"missing_values\"] //20)*20).value_counts()\n",
    "#i = ( (devices[\"missing_values\"])).value_counts(bins=10)\n",
    "i.index.name = \"n missing days\"\n",
    "pd.DataFrame({\"n devices\":i.sort_index()})"
   ]
  },
  {
   "cell_type": "code",
   "execution_count": null,
   "metadata": {
    "ExecuteTime": {
     "end_time": "2017-01-20T18:33:58.613534",
     "start_time": "2017-01-20T18:33:58.372474"
    },
    "collapsed": false
   },
   "outputs": [],
   "source": [
    "i = devices[\"n_days\"].value_counts(bins=10).sort_index()\n",
    "i.index.name='n_days'\n",
    "b = Bar(pd.DataFrame(\n",
    "    {\"n_devices\":i}),\n",
    "    xlabel=\"n days\",\n",
    "   title=\"devices distributed by ndays\"\n",
    "       )\n",
    "show(b)"
   ]
  },
  {
   "cell_type": "markdown",
   "metadata": {},
   "source": [
    " ## features"
   ]
  },
  {
   "cell_type": "code",
   "execution_count": null,
   "metadata": {
    "ExecuteTime": {
     "end_time": "2017-01-20T19:04:13.842250",
     "start_time": "2017-01-20T19:04:13.837266"
    },
    "collapsed": false
   },
   "outputs": [],
   "source": [
    "feature_dset = dataset[[\"attribute1\"]]\n"
   ]
  },
  {
   "cell_type": "code",
   "execution_count": null,
   "metadata": {
    "ExecuteTime": {
     "end_time": "2017-01-20T19:22:03.055475",
     "start_time": "2017-01-20T19:22:02.517595"
    },
    "collapsed": false
   },
   "outputs": [],
   "source": [
    "from bokeh.io import hplot\n",
    "w = 450\n",
    "p1 = figure(title=\"Attribute1 (μ=0, σ=0.5)\",width=w)\n",
    "hist, edges = np.histogram(dataset[\"attribute1\"], density=True, bins=20)\n",
    "hist0, edges0 = np.histogram(dataset[dataset[\"failure\"]>0], density=True, bins=20)\n",
    "p1.quad(top=hist, bottom=0, left=edges[:-1], right=edges[1:],\n",
    "        fill_color=\"#036564\", line_color=\"#033649\")\n",
    "\n",
    "p2 = figure(title=\"Attribute1 (μ=0, σ=0.5)\",width=w)\n",
    "p2.quad(top=hist0, bottom=0, left=edges0[:-1], right=edges0[1:],\n",
    "        fill_color=\"lightblue\", line_color=\"lightblue\")\n",
    "h = hplot(p1,p2)\n",
    "show(h)"
   ]
  },
  {
   "cell_type": "code",
   "execution_count": null,
   "metadata": {
    "ExecuteTime": {
     "end_time": "2017-01-20T19:15:32.407191",
     "start_time": "2017-01-20T19:15:32.048583"
    },
    "collapsed": false
   },
   "outputs": [],
   "source": [
    "show(p1)"
   ]
  },
  {
   "cell_type": "code",
   "execution_count": null,
   "metadata": {
    "ExecuteTime": {
     "end_time": "2017-01-20T18:49:02.118021",
     "start_time": "2017-01-20T18:49:02.105227"
    },
    "collapsed": false
   },
   "outputs": [],
   "source": [
    "feature_dset[\"attribute1\"].describe()"
   ]
  },
  {
   "cell_type": "code",
   "execution_count": null,
   "metadata": {
    "ExecuteTime": {
     "end_time": "2017-01-20T18:59:45.507002",
     "start_time": "2017-01-20T18:59:45.504073"
    },
    "collapsed": false
   },
   "outputs": [],
   "source": [
    "dd = points[\"date\"]\n",
    "#.dt.month"
   ]
  },
  {
   "cell_type": "code",
   "execution_count": null,
   "metadata": {
    "collapsed": true
   },
   "outputs": [],
   "source": []
  }
 ],
 "metadata": {
  "hide_input": false,
  "kernelspec": {
   "display_name": "Python 2",
   "language": "python",
   "name": "python2"
  },
  "language_info": {
   "codemirror_mode": {
    "name": "ipython",
    "version": 2
   },
   "file_extension": ".py",
   "mimetype": "text/x-python",
   "name": "python",
   "nbconvert_exporter": "python",
   "pygments_lexer": "ipython2",
   "version": "2.7.6"
  }
 },
 "nbformat": 4,
 "nbformat_minor": 2
}
