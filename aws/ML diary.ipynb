{
 "cells": [
  {
   "cell_type": "markdown",
   "metadata": {},
   "source": [
    "### device model"
   ]
  },
  {
   "cell_type": "markdown",
   "metadata": {},
   "source": [
    "First model :\n",
    "    - XDGBoost : overfit (like crazy) \n",
    "        result : accuracy = 0.93\n",
    "            \n",
    "\n",
    "==> trying RandomForest instead\n",
    "       better, less overfit\n",
    "       \n",
    "- increasing the nb folds during hyperpparameters\n",
    "- removing the features that should not make sense:\n",
    "    - attribute1\n",
    "    - min_any and std_any\n",
    "    \n",
    "==> 'reasonable' model, 93% accuracy, but much less overfit\n",
    "\n",
    " - removing suspicious positives (see dataset exploration)\n"
   ]
  },
  {
   "cell_type": "markdown",
   "metadata": {},
   "source": [
    "# going through features...\n",
    "\n",
    " - attribute1 : removed\n",
    " - attribute2 :\n",
    "   - useful as raw feature (max & mean)\n",
    "   - removing it lower perfs : accuracy : 92.4 --> 92.4... so no use\n",
    "   - adding dt_attribute2 ==> 92.4-> 92.77\n",
    "   - addinf dt2_attribute2 ==> 92.7 -> 93.2 (93.5 with calibration)\n",
    " "
   ]
  },
  {
   "cell_type": "code",
   "execution_count": null,
   "metadata": {
    "collapsed": true
   },
   "outputs": [],
   "source": []
  }
 ],
 "metadata": {
  "kernelspec": {
   "display_name": "Python 2",
   "language": "python",
   "name": "python2"
  },
  "language_info": {
   "codemirror_mode": {
    "name": "ipython",
    "version": 2
   },
   "file_extension": ".py",
   "mimetype": "text/x-python",
   "name": "python",
   "nbconvert_exporter": "python",
   "pygments_lexer": "ipython2",
   "version": "2.7.12"
  }
 },
 "nbformat": 4,
 "nbformat_minor": 2
}
