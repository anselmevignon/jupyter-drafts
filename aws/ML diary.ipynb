{
 "cells": [
  {
   "cell_type": "markdown",
   "metadata": {},
   "source": [
    "### device model"
   ]
  },
  {
   "cell_type": "markdown",
   "metadata": {},
   "source": [
    "First model :\n",
    "    - XDGBoost : overfit (like crazy) \n",
    "        result : accuracy = 0.93\n",
    "            \n",
    "\n",
    "==> trying RandomForest instead\n",
    "       better, less overfit\n",
    "       \n",
    "- increasing the nb folds during hyperpparameters\n",
    "- removing the features that should not make sense:\n",
    "    - attribute1\n",
    "    - min_any and std_any\n",
    "    \n",
    "==> 'reasonable' model, 91% accuracy, but much less overfit"
   ]
  },
  {
   "cell_type": "code",
   "execution_count": null,
   "metadata": {
    "collapsed": true
   },
   "outputs": [],
   "source": []
  }
 ],
 "metadata": {
  "kernelspec": {
   "display_name": "Python 2",
   "language": "python",
   "name": "python2"
  },
  "language_info": {
   "codemirror_mode": {
    "name": "ipython",
    "version": 2
   },
   "file_extension": ".py",
   "mimetype": "text/x-python",
   "name": "python",
   "nbconvert_exporter": "python",
   "pygments_lexer": "ipython2",
   "version": "2.7.12"
  }
 },
 "nbformat": 4,
 "nbformat_minor": 2
}
