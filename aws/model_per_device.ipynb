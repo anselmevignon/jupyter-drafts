{
 "cells": [
  {
   "cell_type": "code",
   "execution_count": 376,
   "metadata": {
    "collapsed": false,
    "hide_input": true
   },
   "outputs": [
    {
     "data": {
      "text/html": [
       "\n",
       "    <div class=\"bk-root\">\n",
       "        <a href=\"http://bokeh.pydata.org\" target=\"_blank\" class=\"bk-logo bk-logo-small bk-logo-notebook\"></a>\n",
       "        <span id=\"25b79793-e16c-482e-a6f4-20a9eed245b5\">Loading BokehJS ...</span>\n",
       "    </div>"
      ]
     },
     "metadata": {},
     "output_type": "display_data"
    },
    {
     "data": {
      "application/javascript": [
       "\n",
       "(function(global) {\n",
       "  function now() {\n",
       "    return new Date();\n",
       "  }\n",
       "\n",
       "  var force = true;\n",
       "\n",
       "  if (typeof (window._bokeh_onload_callbacks) === \"undefined\" || force === true) {\n",
       "    window._bokeh_onload_callbacks = [];\n",
       "    window._bokeh_is_loading = undefined;\n",
       "  }\n",
       "\n",
       "\n",
       "  \n",
       "  if (typeof (window._bokeh_timeout) === \"undefined\" || force === true) {\n",
       "    window._bokeh_timeout = Date.now() + 5000;\n",
       "    window._bokeh_failed_load = false;\n",
       "  }\n",
       "\n",
       "  var NB_LOAD_WARNING = {'data': {'text/html':\n",
       "     \"<div style='background-color: #fdd'>\\n\"+\n",
       "     \"<p>\\n\"+\n",
       "     \"BokehJS does not appear to have successfully loaded. If loading BokehJS from CDN, this \\n\"+\n",
       "     \"may be due to a slow or bad network connection. Possible fixes:\\n\"+\n",
       "     \"</p>\\n\"+\n",
       "     \"<ul>\\n\"+\n",
       "     \"<li>re-rerun `output_notebook()` to attempt to load from CDN again, or</li>\\n\"+\n",
       "     \"<li>use INLINE resources instead, as so:</li>\\n\"+\n",
       "     \"</ul>\\n\"+\n",
       "     \"<code>\\n\"+\n",
       "     \"from bokeh.resources import INLINE\\n\"+\n",
       "     \"output_notebook(resources=INLINE)\\n\"+\n",
       "     \"</code>\\n\"+\n",
       "     \"</div>\"}};\n",
       "\n",
       "  function display_loaded() {\n",
       "    if (window.Bokeh !== undefined) {\n",
       "      document.getElementById(\"25b79793-e16c-482e-a6f4-20a9eed245b5\").textContent = \"BokehJS successfully loaded.\";\n",
       "    } else if (Date.now() < window._bokeh_timeout) {\n",
       "      setTimeout(display_loaded, 100)\n",
       "    }\n",
       "  }\n",
       "\n",
       "  function run_callbacks() {\n",
       "    window._bokeh_onload_callbacks.forEach(function(callback) { callback() });\n",
       "    delete window._bokeh_onload_callbacks\n",
       "    console.info(\"Bokeh: all callbacks have finished\");\n",
       "  }\n",
       "\n",
       "  function load_libs(js_urls, callback) {\n",
       "    window._bokeh_onload_callbacks.push(callback);\n",
       "    if (window._bokeh_is_loading > 0) {\n",
       "      console.log(\"Bokeh: BokehJS is being loaded, scheduling callback at\", now());\n",
       "      return null;\n",
       "    }\n",
       "    if (js_urls == null || js_urls.length === 0) {\n",
       "      run_callbacks();\n",
       "      return null;\n",
       "    }\n",
       "    console.log(\"Bokeh: BokehJS not loaded, scheduling load and callback at\", now());\n",
       "    window._bokeh_is_loading = js_urls.length;\n",
       "    for (var i = 0; i < js_urls.length; i++) {\n",
       "      var url = js_urls[i];\n",
       "      var s = document.createElement('script');\n",
       "      s.src = url;\n",
       "      s.async = false;\n",
       "      s.onreadystatechange = s.onload = function() {\n",
       "        window._bokeh_is_loading--;\n",
       "        if (window._bokeh_is_loading === 0) {\n",
       "          console.log(\"Bokeh: all BokehJS libraries loaded\");\n",
       "          run_callbacks()\n",
       "        }\n",
       "      };\n",
       "      s.onerror = function() {\n",
       "        console.warn(\"failed to load library \" + url);\n",
       "      };\n",
       "      console.log(\"Bokeh: injecting script tag for BokehJS library: \", url);\n",
       "      document.getElementsByTagName(\"head\")[0].appendChild(s);\n",
       "    }\n",
       "  };var element = document.getElementById(\"25b79793-e16c-482e-a6f4-20a9eed245b5\");\n",
       "  if (element == null) {\n",
       "    console.log(\"Bokeh: ERROR: autoload.js configured with elementid '25b79793-e16c-482e-a6f4-20a9eed245b5' but no matching script tag was found. \")\n",
       "    return false;\n",
       "  }\n",
       "\n",
       "  var js_urls = [\"https://cdn.pydata.org/bokeh/release/bokeh-0.12.4.min.js\", \"https://cdn.pydata.org/bokeh/release/bokeh-widgets-0.12.4.min.js\"];\n",
       "\n",
       "  var inline_js = [\n",
       "    function(Bokeh) {\n",
       "      Bokeh.set_log_level(\"info\");\n",
       "    },\n",
       "    \n",
       "    function(Bokeh) {\n",
       "      \n",
       "      document.getElementById(\"25b79793-e16c-482e-a6f4-20a9eed245b5\").textContent = \"BokehJS is loading...\";\n",
       "    },\n",
       "    function(Bokeh) {\n",
       "      console.log(\"Bokeh: injecting CSS: https://cdn.pydata.org/bokeh/release/bokeh-0.12.4.min.css\");\n",
       "      Bokeh.embed.inject_css(\"https://cdn.pydata.org/bokeh/release/bokeh-0.12.4.min.css\");\n",
       "      console.log(\"Bokeh: injecting CSS: https://cdn.pydata.org/bokeh/release/bokeh-widgets-0.12.4.min.css\");\n",
       "      Bokeh.embed.inject_css(\"https://cdn.pydata.org/bokeh/release/bokeh-widgets-0.12.4.min.css\");\n",
       "    }\n",
       "  ];\n",
       "\n",
       "  function run_inline_js() {\n",
       "    \n",
       "    if ((window.Bokeh !== undefined) || (force === true)) {\n",
       "      for (var i = 0; i < inline_js.length; i++) {\n",
       "        inline_js[i](window.Bokeh);\n",
       "      }if (force === true) {\n",
       "        display_loaded();\n",
       "      }} else if (Date.now() < window._bokeh_timeout) {\n",
       "      setTimeout(run_inline_js, 100);\n",
       "    } else if (!window._bokeh_failed_load) {\n",
       "      console.log(\"Bokeh: BokehJS failed to load within specified timeout.\");\n",
       "      window._bokeh_failed_load = true;\n",
       "    } else if (force !== true) {\n",
       "      var cell = $(document.getElementById(\"25b79793-e16c-482e-a6f4-20a9eed245b5\")).parents('.cell').data().cell;\n",
       "      cell.output_area.append_execute_result(NB_LOAD_WARNING)\n",
       "    }\n",
       "\n",
       "  }\n",
       "\n",
       "  if (window._bokeh_is_loading === 0) {\n",
       "    console.log(\"Bokeh: BokehJS loaded, going straight to plotting\");\n",
       "    run_inline_js();\n",
       "  } else {\n",
       "    load_libs(js_urls, function() {\n",
       "      console.log(\"Bokeh: BokehJS plotting callback run at\", now());\n",
       "      run_inline_js();\n",
       "    });\n",
       "  }\n",
       "}(this));"
      ]
     },
     "metadata": {},
     "output_type": "display_data"
    }
   ],
   "source": [
    "import pandas as pd\n",
    "import numpy as np\n",
    "import calendar\n",
    "from bokeh.charts import output_notebook, Scatter, Bar, show, output_file, Line, BoxPlot, Scatter\n",
    "from bokeh.plotting import figure\n",
    "from bokeh.layouts import column, row\n",
    "from bokeh.io import hplot\n",
    "output_notebook() "
   ]
  },
  {
   "cell_type": "code",
   "execution_count": 377,
   "metadata": {
    "collapsed": true
   },
   "outputs": [],
   "source": [
    "INPUT=\"data/device_failure.csv\" \n",
    "dataset = pd.read_csv(INPUT,index_col=[0,1],parse_dates=[0])"
   ]
  },
  {
   "cell_type": "markdown",
   "metadata": {},
   "source": [
    "## per device model\n",
    "\n",
    " - Set up first model\n",
    " - Precision/recall, ROC\n",
    " - Calibration\n",
    " - PCA ?\n",
    " - feature engineering\n",
    " - data cleaning\n",
    " - Test other models"
   ]
  },
  {
   "cell_type": "markdown",
   "metadata": {},
   "source": [
    "## Build Training set"
   ]
  },
  {
   "cell_type": "code",
   "execution_count": 384,
   "metadata": {
    "collapsed": false
   },
   "outputs": [],
   "source": [
    "# feature preprocessing\n",
    "def pre_filter(df):\n",
    "    res = df.copy()\n",
    "    del res[\"attribute1\"]\n",
    "    return res\n",
    "def post_filter(df):\n",
    "    res = df.copy()\n",
    "    for col in res.columns:\n",
    "        if \"min\" in col:\n",
    "            del res[col]\n",
    "        if \"std\" in col:\n",
    "            del res[col]\n",
    "    return res"
   ]
  },
  {
   "cell_type": "code",
   "execution_count": 379,
   "metadata": {
    "collapsed": false
   },
   "outputs": [],
   "source": [
    "features = [f for f in dataset.columns if \"att\" in f]\n",
    "def f_to_dict(feature):\n",
    "    return {\n",
    "            \"min_%s\" % feature:np.min,\n",
    "            \"max_%s\" % feature:np.max,\n",
    "            \"mean_%s\" % feature :np.mean,\n",
    "            \"std_%s\" % feature:np.std\n",
    "        }\n",
    "\n",
    "agg_dict = dict( (f,f_to_dict(f)) for f in features )\n",
    "\n",
    "feature_set = pre_filter(dataset)\n",
    "feature_set = dataset.groupby(level=\"device\").agg(agg_dict)\n",
    "feature_set.columns = feature_set.columns.droplevel()\n",
    "feature_set = post_filter(feature_set)\n",
    "label_set =  dataset[[\"failure\"]].groupby(level=\"device\").sum()\n",
    "feature_mat = feature_set.to_sparse().as_matrix()\n",
    "label_mat = label_set.as_matrix().ravel()"
   ]
  },
  {
   "cell_type": "markdown",
   "metadata": {},
   "source": [
    "## Run model"
   ]
  },
  {
   "cell_type": "code",
   "execution_count": 380,
   "metadata": {
    "collapsed": false
   },
   "outputs": [
    {
     "name": "stdout",
     "output_type": "stream",
     "text": [
      "model set up\n",
      "accurracy: 0.912682, std(0.00902879))\n"
     ]
    },
    {
     "name": "stderr",
     "output_type": "stream",
     "text": [
      "[Parallel(n_jobs=6)]: Done   3 out of   3 | elapsed:    0.3s finished\n"
     ]
    }
   ],
   "source": [
    "from sklearn.model_selection import cross_val_score\n",
    "from sklearn.ensemble import GradientBoostingClassifier, RandomForestClassifier\n",
    "from sklearn.pipeline import Pipeline\n",
    "from sklearn.metrics import roc_curve, auc\n",
    "\n",
    "#model = GradientBoostingClassifier()\n",
    "model = RandomForestClassifier()\n",
    "pipeline= Pipeline([(\"model\",model)])\n",
    "try:\n",
    "    # use best parameters if available\n",
    "    #\n",
    "    pipeline.set_params(**grid_result.best_params_)\n",
    "    print \"model set up\"\n",
    "except:\n",
    "    print \"no optim result, or bad ones: let's keep the default ones\"\n",
    "    pass\n",
    "scores = cross_val_score(pipeline, feature_mat, label_mat,cv=3,verbose=1,scoring=\"accuracy\",n_jobs=6)                          \n",
    "print \"accurracy: %g, std(%g))\" % (scores.mean(), scores.std())"
   ]
  },
  {
   "cell_type": "code",
   "execution_count": 347,
   "metadata": {
    "collapsed": true
   },
   "outputs": [
    {
     "data": {
      "text/plain": [
       "{'model': RandomForestClassifier(bootstrap=True, class_weight=None, criterion='entropy',\n",
       "             max_depth=5, max_features='auto', max_leaf_nodes=None,\n",
       "             min_impurity_split=1e-07, min_samples_leaf=1,\n",
       "             min_samples_split=10, min_weight_fraction_leaf=0.0,\n",
       "             n_estimators=10, n_jobs=1, oob_score=False, random_state=None,\n",
       "             verbose=0, warm_start=False),\n",
       " 'model__bootstrap': True,\n",
       " 'model__class_weight': None,\n",
       " 'model__criterion': 'entropy',\n",
       " 'model__max_depth': 5,\n",
       " 'model__max_features': 'auto',\n",
       " 'model__max_leaf_nodes': None,\n",
       " 'model__min_impurity_split': 1e-07,\n",
       " 'model__min_samples_leaf': 1,\n",
       " 'model__min_samples_split': 10,\n",
       " 'model__min_weight_fraction_leaf': 0.0,\n",
       " 'model__n_estimators': 10,\n",
       " 'model__n_jobs': 1,\n",
       " 'model__oob_score': False,\n",
       " 'model__random_state': None,\n",
       " 'model__verbose': 0,\n",
       " 'model__warm_start': False,\n",
       " 'steps': [('model',\n",
       "   RandomForestClassifier(bootstrap=True, class_weight=None, criterion='entropy',\n",
       "               max_depth=5, max_features='auto', max_leaf_nodes=None,\n",
       "               min_impurity_split=1e-07, min_samples_leaf=1,\n",
       "               min_samples_split=10, min_weight_fraction_leaf=0.0,\n",
       "               n_estimators=10, n_jobs=1, oob_score=False, random_state=None,\n",
       "               verbose=0, warm_start=False))]}"
      ]
     },
     "execution_count": 347,
     "metadata": {},
     "output_type": "execute_result"
    }
   ],
   "source": [
    "pipeline.get_params()"
   ]
  },
  {
   "cell_type": "markdown",
   "metadata": {},
   "source": [
    "### Eval Model"
   ]
  },
  {
   "cell_type": "code",
   "execution_count": 381,
   "metadata": {
    "collapsed": false,
    "hide_input": true
   },
   "outputs": [],
   "source": [
    "from sklearn.model_selection import train_test_split\n",
    "from sklearn.metrics import roc_curve, accuracy_score,precision_recall_curve, auc\n",
    "\n",
    "X_train, X_test, Y_train, Y_test = train_test_split(feature_mat,label_mat,test_size=0.3)\n",
    "# calculate the fpr and tpr for all thresholds of the classification\n",
    "\n",
    "fitted = pipeline.fit(X_train,Y_train)\n",
    "probs = fitted.predict_proba(X_test)\n",
    "preds = probs[:,1]\n",
    "preds_train = fitted.predict_proba(X_train)[:,1]\n",
    "fpr, tpr, threshold = roc_curve(Y_test, preds)\n",
    "fpr_train, tpr_train, threshold_train = roc_curve(Y_train, preds_train)\n",
    "roc_auc = auc(fpr, tpr)\n",
    "roc_auc_train = auc(fpr_train, tpr_train)\n",
    "precision, recall, ths = precision_recall_curve(Y_test, preds)\n",
    "precision_train, recall_train, ths_train = precision_recall_curve(Y_train, preds_train)"
   ]
  },
  {
   "cell_type": "code",
   "execution_count": 385,
   "metadata": {
    "collapsed": false
   },
   "outputs": [
    {
     "data": {
      "text/html": [
       "\n",
       "\n",
       "    <div class=\"bk-root\">\n",
       "        <div class=\"bk-plotdiv\" id=\"c4fc24fa-f37b-42a6-afa3-5b2a15cde7f9\"></div>\n",
       "    </div>\n",
       "<script type=\"text/javascript\">\n",
       "  \n",
       "  (function(global) {\n",
       "    function now() {\n",
       "      return new Date();\n",
       "    }\n",
       "  \n",
       "    var force = false;\n",
       "  \n",
       "    if (typeof (window._bokeh_onload_callbacks) === \"undefined\" || force === true) {\n",
       "      window._bokeh_onload_callbacks = [];\n",
       "      window._bokeh_is_loading = undefined;\n",
       "    }\n",
       "  \n",
       "  \n",
       "    \n",
       "    if (typeof (window._bokeh_timeout) === \"undefined\" || force === true) {\n",
       "      window._bokeh_timeout = Date.now() + 0;\n",
       "      window._bokeh_failed_load = false;\n",
       "    }\n",
       "  \n",
       "    var NB_LOAD_WARNING = {'data': {'text/html':\n",
       "       \"<div style='background-color: #fdd'>\\n\"+\n",
       "       \"<p>\\n\"+\n",
       "       \"BokehJS does not appear to have successfully loaded. If loading BokehJS from CDN, this \\n\"+\n",
       "       \"may be due to a slow or bad network connection. Possible fixes:\\n\"+\n",
       "       \"</p>\\n\"+\n",
       "       \"<ul>\\n\"+\n",
       "       \"<li>re-rerun `output_notebook()` to attempt to load from CDN again, or</li>\\n\"+\n",
       "       \"<li>use INLINE resources instead, as so:</li>\\n\"+\n",
       "       \"</ul>\\n\"+\n",
       "       \"<code>\\n\"+\n",
       "       \"from bokeh.resources import INLINE\\n\"+\n",
       "       \"output_notebook(resources=INLINE)\\n\"+\n",
       "       \"</code>\\n\"+\n",
       "       \"</div>\"}};\n",
       "  \n",
       "    function display_loaded() {\n",
       "      if (window.Bokeh !== undefined) {\n",
       "        document.getElementById(\"c4fc24fa-f37b-42a6-afa3-5b2a15cde7f9\").textContent = \"BokehJS successfully loaded.\";\n",
       "      } else if (Date.now() < window._bokeh_timeout) {\n",
       "        setTimeout(display_loaded, 100)\n",
       "      }\n",
       "    }\n",
       "  \n",
       "    function run_callbacks() {\n",
       "      window._bokeh_onload_callbacks.forEach(function(callback) { callback() });\n",
       "      delete window._bokeh_onload_callbacks\n",
       "      console.info(\"Bokeh: all callbacks have finished\");\n",
       "    }\n",
       "  \n",
       "    function load_libs(js_urls, callback) {\n",
       "      window._bokeh_onload_callbacks.push(callback);\n",
       "      if (window._bokeh_is_loading > 0) {\n",
       "        console.log(\"Bokeh: BokehJS is being loaded, scheduling callback at\", now());\n",
       "        return null;\n",
       "      }\n",
       "      if (js_urls == null || js_urls.length === 0) {\n",
       "        run_callbacks();\n",
       "        return null;\n",
       "      }\n",
       "      console.log(\"Bokeh: BokehJS not loaded, scheduling load and callback at\", now());\n",
       "      window._bokeh_is_loading = js_urls.length;\n",
       "      for (var i = 0; i < js_urls.length; i++) {\n",
       "        var url = js_urls[i];\n",
       "        var s = document.createElement('script');\n",
       "        s.src = url;\n",
       "        s.async = false;\n",
       "        s.onreadystatechange = s.onload = function() {\n",
       "          window._bokeh_is_loading--;\n",
       "          if (window._bokeh_is_loading === 0) {\n",
       "            console.log(\"Bokeh: all BokehJS libraries loaded\");\n",
       "            run_callbacks()\n",
       "          }\n",
       "        };\n",
       "        s.onerror = function() {\n",
       "          console.warn(\"failed to load library \" + url);\n",
       "        };\n",
       "        console.log(\"Bokeh: injecting script tag for BokehJS library: \", url);\n",
       "        document.getElementsByTagName(\"head\")[0].appendChild(s);\n",
       "      }\n",
       "    };var element = document.getElementById(\"c4fc24fa-f37b-42a6-afa3-5b2a15cde7f9\");\n",
       "    if (element == null) {\n",
       "      console.log(\"Bokeh: ERROR: autoload.js configured with elementid 'c4fc24fa-f37b-42a6-afa3-5b2a15cde7f9' but no matching script tag was found. \")\n",
       "      return false;\n",
       "    }\n",
       "  \n",
       "    var js_urls = [];\n",
       "  \n",
       "    var inline_js = [\n",
       "      function(Bokeh) {\n",
       "        (function() {\n",
       "          var fn = function() {\n",
       "            var docs_json = {\"0fb024b0-682c-449c-b698-05103d74259e\":{\"roots\":{\"references\":[{\"attributes\":{\"active_drag\":\"auto\",\"active_scroll\":\"auto\",\"active_tap\":\"auto\",\"tools\":[{\"id\":\"a5039121-0972-4ddb-a35c-d79994907f6c\",\"type\":\"PanTool\"},{\"id\":\"8b874a37-a344-45c4-a643-fa8d80d4f2b8\",\"type\":\"WheelZoomTool\"},{\"id\":\"133b407f-4b8e-475c-8c76-3d500b083e58\",\"type\":\"BoxZoomTool\"},{\"id\":\"665dc109-b9f3-45bc-9d79-f2bd2be91424\",\"type\":\"SaveTool\"},{\"id\":\"a0ac90d5-7546-43e9-bccf-6c52fd584aba\",\"type\":\"ResetTool\"},{\"id\":\"67ce9bcc-d6ba-4dd4-8409-f5d5d47b8454\",\"type\":\"HelpTool\"}]},\"id\":\"0f55a12e-a2d2-4a2b-a140-0fbf2a830221\",\"type\":\"Toolbar\"},{\"attributes\":{\"label\":{\"value\":\"roc\"},\"renderers\":[{\"id\":\"62f84d79-47fa-4633-b015-c1a751dfbe3f\",\"type\":\"GlyphRenderer\"}]},\"id\":\"b9869c58-4536-418e-bc94-173da1fa6871\",\"type\":\"LegendItem\"},{\"attributes\":{\"callback\":null},\"id\":\"563a7475-0b89-41fb-9ed3-d66f2dd133d3\",\"type\":\"Range1d\"},{\"attributes\":{\"data_source\":{\"id\":\"b4bdd43b-a137-4dae-addd-03df3a94a022\",\"type\":\"ColumnDataSource\"},\"glyph\":{\"id\":\"2b3768eb-2f50-4c49-bb62-7728f3b08280\",\"type\":\"Line\"},\"hover_glyph\":null,\"nonselection_glyph\":{\"id\":\"d4bfebb0-f73d-488a-93c5-3700e844955c\",\"type\":\"Line\"},\"selection_glyph\":null},\"id\":\"bfaf857f-6465-41e6-9fbf-fc0ee443dfcd\",\"type\":\"GlyphRenderer\"},{\"attributes\":{\"line_color\":{\"value\":\"#1f77b4\"},\"x\":{\"field\":\"x\"},\"y\":{\"field\":\"y\"}},\"id\":\"0d6061bd-3d68-4922-8d29-b3965415313c\",\"type\":\"Line\"},{\"attributes\":{\"data_source\":{\"id\":\"13f26dde-fa09-424c-bc9e-4ee6baffe191\",\"type\":\"ColumnDataSource\"},\"glyph\":{\"id\":\"20832d77-1780-40bc-a929-79fee8e939fc\",\"type\":\"Circle\"},\"hover_glyph\":null,\"nonselection_glyph\":{\"id\":\"dafcc2a2-0479-4a0d-94e0-bdf4dc6fbcd9\",\"type\":\"Circle\"},\"selection_glyph\":null},\"id\":\"c5165354-ba0c-4094-8fc8-ed3cf251d80e\",\"type\":\"GlyphRenderer\"},{\"attributes\":{},\"id\":\"59a8b9fd-7281-4bf6-b173-db07fbe8f81c\",\"type\":\"BasicTickFormatter\"},{\"attributes\":{\"data_source\":{\"id\":\"b7ebde9b-b7bc-45f2-8e91-b841f4119642\",\"type\":\"ColumnDataSource\"},\"glyph\":{\"id\":\"c0ecdd84-04a3-4d95-a6ab-4c0ff70956e0\",\"type\":\"Line\"},\"hover_glyph\":null,\"nonselection_glyph\":{\"id\":\"df5bedae-263b-4f82-9899-eb5bcf63c30f\",\"type\":\"Line\"},\"selection_glyph\":null},\"id\":\"62f84d79-47fa-4633-b015-c1a751dfbe3f\",\"type\":\"GlyphRenderer\"},{\"attributes\":{\"fill_alpha\":{\"value\":0.1},\"fill_color\":{\"value\":\"#1f77b4\"},\"line_alpha\":{\"value\":0.1},\"line_color\":{\"value\":\"#1f77b4\"},\"size\":{\"units\":\"screen\",\"value\":5},\"x\":{\"field\":\"x\"},\"y\":{\"field\":\"y\"}},\"id\":\"acce23c1-7146-4d8e-a6a7-ce80b5709ff3\",\"type\":\"Cross\"},{\"attributes\":{\"line_alpha\":{\"value\":0.1},\"line_color\":{\"value\":\"#1f77b4\"},\"x\":{\"field\":\"x\"},\"y\":{\"field\":\"y\"}},\"id\":\"d4bfebb0-f73d-488a-93c5-3700e844955c\",\"type\":\"Line\"},{\"attributes\":{\"plot\":{\"id\":\"ca0a1b49-c38d-4aa0-930e-fcd44915292f\",\"subtype\":\"Figure\",\"type\":\"Plot\"}},\"id\":\"a0ac90d5-7546-43e9-bccf-6c52fd584aba\",\"type\":\"ResetTool\"},{\"attributes\":{\"label\":{\"value\":\"PR on train\"},\"renderers\":[{\"id\":\"a4d304f7-8d2a-4cd5-b5b9-2fc686913dcf\",\"type\":\"GlyphRenderer\"}]},\"id\":\"4557e86c-ce2f-465a-85ff-971290b58c2e\",\"type\":\"LegendItem\"},{\"attributes\":{\"plot\":{\"id\":\"de7cac59-77b6-4d67-bc39-1a53fb4ae4fa\",\"subtype\":\"Figure\",\"type\":\"Plot\"},\"ticker\":{\"id\":\"21c9a0ba-9831-4321-87da-e08dc9f4c86e\",\"type\":\"BasicTicker\"}},\"id\":\"859c7658-6b43-486f-8e1e-6a5b3225e6d3\",\"type\":\"Grid\"},{\"attributes\":{\"callback\":null,\"column_names\":[\"y\",\"x\"],\"data\":{\"x\":{\"__ndarray__\":\"AAAAAAAA8D/P8zzP8zzvP8/zPM/zPO8/z/M8z/M87z/P8zzP8zzvP8/zPM/zPO8/z/M8z/M87z/P8zzP8zzvP8/zPM/zPO8/z/M8z/M87z/P8zzP8zzvP8/zPM/zPO8/z/M8z/M87z/P8zzP8zzvP8/zPM/zPO8/z/M8z/M87z/P8zzP8zzvP8/zPM/zPO8/z/M8z/M87z/P8zzP8zzvP8/zPM/zPO8/z/M8z/M87z/P8zzP8zzvP57neZ7nee4/nud5nud57j+e53me53nuP57neZ7nee4/nud5nud57j+e53me53nuP57neZ7nee4/nud5nud57j+e53me53nuP57neZ7nee4/nud5nud57j+e53me53nuP57neZ7nee4/nud5nud57j+e53me53nuP57neZ7nee4/nud5nud57j+e53me53nuP57neZ7nee4/nud5nud57j+e53me53nuP57neZ7nee4/nud5nud57j+e53me53nuP57neZ7nee4/nud5nud57j+e53me53nuP57neZ7nee4/nud5nud57j+e53me53nuP57neZ7nee4/nud5nud57j+e53me53nuP57neZ7nee4/nud5nud57j+e53me53nuP57neZ7nee4/nud5nud57j+e53me53nuP57neZ7nee4/nud5nud57j+e53me53nuP57neZ7nee4/nud5nud57j+e53me53nuP57neZ7nee4/nud5nud57j9u27Zt27btP27btm3btu0/Pc/zPM/z7D8MwzAMwzDsPwzDMAzDMOw/DMMwDMMw7D8MwzAMwzDsPwzDMAzDMOw/DMMwDMMw7D8MwzAMwzDsPwzDMAzDMOw/DMMwDMMw7D8MwzAMwzDsPwzDMAzDMOw/DMMwDMMw7D8MwzAMwzDsPwzDMAzDMOw/DMMwDMMw7D8MwzAMwzDsPwzDMAzDMOw/DMMwDMMw7D/btm3btm3rP9u2bdu2bes/27Zt27Zt6z/btm3btm3rP9u2bdu2bes/27Zt27Zt6z/btm3btm3rP9u2bdu2bes/27Zt27Zt6z/btm3btm3rP9u2bdu2bes/27Zt27Zt6z/btm3btm3rP9u2bdu2bes/27Zt27Zt6z/btm3btm3rP9u2bdu2bes/27Zt27Zt6z/btm3btm3rP9u2bdu2bes/27Zt27Zt6z/btm3btm3rP9u2bdu2bes/27Zt27Zt6z/btm3btm3rP9u2bdu2bes/27Zt27Zt6z+rqqqqqqrqP6uqqqqqquo/q6qqqqqq6j+rqqqqqqrqP6uqqqqqquo/q6qqqqqq6j+rqqqqqqrqP6uqqqqqquo/q6qqqqqq6j+rqqqqqqrqP6uqqqqqquo/q6qqqqqq6j+rqqqqqqrqP6uqqqqqquo/q6qqqqqq6j+rqqqqqqrqP6uqqqqqquo/q6qqqqqq6j+rqqqqqqrqP6uqqqqqquo/q6qqqqqq6j+rqqqqqqrqP6uqqqqqquo/q6qqqqqq6j+rqqqqqqrqP6uqqqqqquo/q6qqqqqq6j+rqqqqqqrqP6uqqqqqquo/q6qqqqqq6j+rqqqqqqrqP6uqqqqqquo/q6qqqqqq6j+rqqqqqqrqP6uqqqqqquo/q6qqqqqq6j+rqqqqqqrqP6uqqqqqquo/q6qqqqqq6j+rqqqqqqrqP6uqqqqqquo/q6qqqqqq6j+rqqqqqqrqP6uqqqqqquo/q6qqqqqq6j+rqqqqqqrqP6uqqqqqquo/q6qqqqqq6j+rqqqqqqrqP6uqqqqqquo/q6qqqqqq6j+rqqqqqqrqP6uqqqqqquo/q6qqqqqq6j+rqqqqqqrqP6uqqqqqquo/q6qqqqqq6j96nud5nufpP3qe53me5+k/ep7neZ7n6T96nud5nufpP3qe53me5+k/ep7neZ7n6T96nud5nufpP3qe53me5+k/ep7neZ7n6T96nud5nufpP3qe53me5+k/ep7neZ7n6T96nud5nufpP3qe53me5+k/ep7neZ7n6T96nud5nufpP3qe53me5+k/ep7neZ7n6T96nud5nufpP3qe53me5+k/ep7neZ7n6T96nud5nufpP3qe53me5+k/ep7neZ7n6T96nud5nufpP3qe53me5+k/ep7neZ7n6T96nud5nufpP3qe53me5+k/ep7neZ7n6T96nud5nufpP3qe53me5+k/SZIkSZIk6T9JkiRJkiTpPxiGYRiGYeg/GIZhGIZh6D8YhmEYhmHoPxiGYRiGYeg/GIZhGIZh6D8YhmEYhmHoPxiGYRiGYeg/GIZhGIZh6D/oeZ7neZ7nP+h5nud5nuc/t23btm3b5j+3bdu2bdvmP7dt27Zt2+Y/t23btm3b5j+GYRiGYRjmP4ZhGIZhGOY/hmEYhmEY5j+GYRiGYRjmP4ZhGIZhGOY/hmEYhmEY5j+GYRiGYRjmP4ZhGIZhGOY/VVVVVVVV5T8lSZIkSZLkPyVJkiRJkuQ/9DzP8zzP4z/DMAzDMAzjP8MwDMMwDOM/wzAMwzAM4z/DMAzDMAzjP5IkSZIkSeI/YhiGYRiG4T9iGIZhGIbhP2IYhmEYhuE/YhiGYRiG4T9iGIZhGIbhP2IYhmEYhuE/YhiGYRiG4T9iGIZhGIbhP2IYhmEYhuE/YhiGYRiG4T9iGIZhGIbhPzEMwzAMw+A/MQzDMAzD4D8AAAAAAADgPwAAAAAAAOA/AAAAAAAA4D8AAAAAAADgP57neZ7ned4/nud5nud53j+e53me53nePz3P8zzP89w/27Zt27Zt2z/btm3btm3bP9u2bdu2bds/ep7neZ7n2T8YhmEYhmHYPxiGYRiGYdg/t23btm3b1j9VVVVVVVXVP/Q8z/M8z9M/kiRJkiRJ0j+SJEmSJEnSPzEMwzAMw9A/nud5nud5zj/btm3btm3LPxiGYRiGYcg/GIZhGIZhyD9VVVVVVVXFP5IkSZIkScI/kiRJkiRJwj+SJEmSJEnCP57neZ7neb4/GIZhGIZhuD+SJEmSJEmyPxiGYRiGYag/GIZhGIZhmD8AAAAAAAAAAA==\",\"dtype\":\"float64\",\"shape\":[287]},\"y\":{\"__ndarray__\":\"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\",\"dtype\":\"float64\",\"shape\":[287]}}},\"id\":\"4018a20a-065c-4ece-8bc5-7d15d5aab802\",\"type\":\"ColumnDataSource\"},{\"attributes\":{\"overlay\":{\"id\":\"c0917e93-0549-44eb-b65c-3651fd8c1e6e\",\"type\":\"BoxAnnotation\"},\"plot\":{\"id\":\"de7cac59-77b6-4d67-bc39-1a53fb4ae4fa\",\"subtype\":\"Figure\",\"type\":\"Plot\"}},\"id\":\"d0a47832-575e-43b5-aceb-0e08ce8e9f1a\",\"type\":\"BoxZoomTool\"},{\"attributes\":{\"callback\":null,\"column_names\":[\"x\",\"y\"],\"data\":{\"x\":[0,1],\"y\":[0,1]}},\"id\":\"6c0427f8-99d6-46c4-a653-1a5f701b2949\",\"type\":\"ColumnDataSource\"},{\"attributes\":{\"plot\":null,\"text\":\"PR curve\"},\"id\":\"969a2b27-044e-4ca7-9aad-48da9de0f2d2\",\"type\":\"Title\"},{\"attributes\":{\"line_alpha\":{\"value\":0.1},\"line_color\":{\"value\":\"#1f77b4\"},\"x\":{\"field\":\"x\"},\"y\":{\"field\":\"y\"}},\"id\":\"f30867b9-d3a3-4cc2-ad5c-823c6fb9c321\",\"type\":\"Line\"},{\"attributes\":{\"axis_label\":\"precision\",\"formatter\":{\"id\":\"59a8b9fd-7281-4bf6-b173-db07fbe8f81c\",\"type\":\"BasicTickFormatter\"},\"plot\":{\"id\":\"de7cac59-77b6-4d67-bc39-1a53fb4ae4fa\",\"subtype\":\"Figure\",\"type\":\"Plot\"},\"ticker\":{\"id\":\"086fd110-8bfc-47d8-855a-95d583adce68\",\"type\":\"BasicTicker\"}},\"id\":\"b890b76a-a301-4a9a-8456-e0365ff68ca0\",\"type\":\"LinearAxis\"},{\"attributes\":{\"plot\":{\"id\":\"ca0a1b49-c38d-4aa0-930e-fcd44915292f\",\"subtype\":\"Figure\",\"type\":\"Plot\"}},\"id\":\"67ce9bcc-d6ba-4dd4-8409-f5d5d47b8454\",\"type\":\"HelpTool\"},{\"attributes\":{\"plot\":{\"id\":\"de7cac59-77b6-4d67-bc39-1a53fb4ae4fa\",\"subtype\":\"Figure\",\"type\":\"Plot\"}},\"id\":\"01edbf30-cde4-4f68-9d99-068165e0b594\",\"type\":\"ResetTool\"},{\"attributes\":{\"callback\":null,\"column_names\":[\"x\",\"y\"],\"data\":{\"x\":{\"__ndarray__\":\"AAAAAAAA8D8AAAAAAIDvPwAAAAAAgO8/AAAAAACA7z8AAAAAAIDvPwAAAAAAgO8/AAAAAACA7z8AAAAAAADvPwAAAAAAgO4/AAAAAACA7j8AAAAAAIDuPwAAAAAAgO4/AAAAAACA7j8AAAAAAIDuPwAAAAAAAO4/AAAAAAAA7j8AAAAAAADuPwAAAAAAgO0/AAAAAAAA7T8AAAAAAADtPwAAAAAAAO0/AAAAAACA7D8AAAAAAIDsPwAAAAAAgOw/AAAAAACA7D8AAAAAAADsPwAAAAAAAOw/AAAAAACA6z8AAAAAAIDrPwAAAAAAgOs/AAAAAACA6z8AAAAAAIDrPwAAAAAAgOs/AAAAAACA6z8AAAAAAADrPwAAAAAAgOo/AAAAAACA6j8AAAAAAIDqPwAAAAAAAOo/AAAAAACA6T8AAAAAAADpPwAAAAAAAOk/AAAAAAAA6T8AAAAAAADpPwAAAAAAgOg/AAAAAACA6D8AAAAAAADoPwAAAAAAAOg/AAAAAAAA6D8AAAAAAIDnPwAAAAAAAOc/AAAAAACA5j8AAAAAAIDmPwAAAAAAgOY/AAAAAACA5j8AAAAAAIDmPwAAAAAAAOY/AAAAAACA5T8AAAAAAADlPwAAAAAAgOQ/AAAAAAAA5D8AAAAAAIDjPwAAAAAAAOM/AAAAAACA4j8AAAAAAADiPwAAAAAAAOI/AAAAAACA4T8AAAAAAADhPwAAAAAAgOA/AAAAAAAA4D8AAAAAAADfPwAAAAAAAN4/AAAAAAAA3T8AAAAAAADcPwAAAAAAANs/AAAAAAAA2j8AAAAAAADZPwAAAAAAANg/AAAAAAAA1z8AAAAAAADWPwAAAAAAANU/AAAAAAAA1D8AAAAAAADTPwAAAAAAANI/AAAAAAAA0T8AAAAAAADQPwAAAAAAAM4/AAAAAAAAzD8AAAAAAADKPwAAAAAAAMg/AAAAAAAAxj8AAAAAAADEPwAAAAAAAMI/AAAAAAAAwD8AAAAAAAC8PwAAAAAAALg/AAAAAAAAtD8AAAAAAACwPwAAAAAAAKg/AAAAAAAAoD8AAAAAAACQPwAAAAAAAAAA\",\"dtype\":\"float64\",\"shape\":[102]},\"y\":{\"__ndarray__\":\"+9liZfhG5D8pXI/C9SjkP1100UUXXeQ/JUmSJEmS5D81bDfLk8jkPwAAAAAAAOU/iVO/55Y45T/UdzbqOxvlP/30008//eQ/05ve9KY35T81V3M1V3PlPwZbsAVbsOU/X/e6173u5T8vuuiiiy7mP3waYbmnEeY/lTVlTVlT5j+XlpaWlpbmP57neZ7neeY/0tT5tYdc5j+idiVqV6LmP/PDImXg6eY/zczMzMzM5j8tbsL8rhbnPyd2Yid2Yuc/1cDeMTWw5z9DeQ3lNZTnP+UXS36x5Oc/inzWDabI5z/BgQMHDhzoPxzHcRzHceg/PRm/XerJ6D9JkiRJkiTpP5hrB+bagek/4uHh4eHh6T+/GhPpgcrpP7LJJptssuk/eqEXeqEX6j8AAAAAAIDqP5qmaZqmaeo/U0oppZRS6j/8FJcMwTrqP6uqqqqqquo/BA0ndV8e6z8aYbmnEZbrPyS4j+A+gus/AAAAAAAA7D/tG9a+Ye3rPxzHcRzHcew/IjXBeCv77D/FTuzETuzsP93c3Nzc3Ow/zczMzMzM7D9ZHxrrQ2PtPwAAAAAAAO4/+85GfWej7j/1pje96U3vP5/0SZ/0Se8/RhdddNFF7z/QF/QFfUHvP8/zPM/zPO8/OB+D8zE47z8zMzMzMzPvP9/yLd/yLe8/h/Iaymso7z8q8lk3mCLvPwAAAAAAAPA/AAAAAAAA8D8AAAAAAADwPwAAAAAAAPA/AAAAAAAA8D8AAAAAAADwPwAAAAAAAPA/AAAAAAAA8D8AAAAAAADwPwAAAAAAAPA/AAAAAAAA8D8AAAAAAADwPwAAAAAAAPA/AAAAAAAA8D8AAAAAAADwPwAAAAAAAPA/AAAAAAAA8D8AAAAAAADwPwAAAAAAAPA/AAAAAAAA8D8AAAAAAADwPwAAAAAAAPA/AAAAAAAA8D8AAAAAAADwPwAAAAAAAPA/AAAAAAAA8D8AAAAAAADwPwAAAAAAAPA/AAAAAAAA8D8AAAAAAADwPwAAAAAAAPA/AAAAAAAA8D8AAAAAAADwPwAAAAAAAPA/AAAAAAAA8D8AAAAAAADwPwAAAAAAAPA/\",\"dtype\":\"float64\",\"shape\":[102]}}},\"id\":\"600cd55e-5869-466e-8963-7b765129606c\",\"type\":\"ColumnDataSource\"},{\"attributes\":{\"plot\":{\"id\":\"ca0a1b49-c38d-4aa0-930e-fcd44915292f\",\"subtype\":\"Figure\",\"type\":\"Plot\"}},\"id\":\"a5039121-0972-4ddb-a35c-d79994907f6c\",\"type\":\"PanTool\"},{\"attributes\":{\"fill_color\":{\"value\":\"#1f77b4\"},\"line_color\":{\"value\":\"#1f77b4\"},\"size\":{\"units\":\"screen\",\"value\":5},\"x\":{\"field\":\"x\"},\"y\":{\"field\":\"y\"}},\"id\":\"7b85d55e-bbc9-4ffb-a948-b945abd799c2\",\"type\":\"Cross\"},{\"attributes\":{\"line_color\":{\"value\":\"red\"},\"x\":{\"field\":\"x\"},\"y\":{\"field\":\"y\"}},\"id\":\"afec40e2-8251-47fc-9c22-3afb06c29fec\",\"type\":\"Line\"},{\"attributes\":{},\"id\":\"55580880-553b-4773-ac70-612f18a40a3d\",\"type\":\"BasicTicker\"},{\"attributes\":{\"plot\":{\"id\":\"ca0a1b49-c38d-4aa0-930e-fcd44915292f\",\"subtype\":\"Figure\",\"type\":\"Plot\"}},\"id\":\"665dc109-b9f3-45bc-9d79-f2bd2be91424\",\"type\":\"SaveTool\"},{\"attributes\":{},\"id\":\"52f514e9-29d9-4655-ae66-6ea9c6a13d03\",\"type\":\"ToolEvents\"},{\"attributes\":{\"callback\":null,\"column_names\":[\"y\",\"x\"],\"data\":{\"x\":{\"__ndarray__\":\"AAAAAAAA8D8AAAAAAIDvPwAAAAAAgO8/AAAAAACA7z8AAAAAAIDvPwAAAAAAgO8/AAAAAACA7z8AAAAAAADvPwAAAAAAgO4/AAAAAACA7j8AAAAAAIDuPwAAAAAAgO4/AAAAAACA7j8AAAAAAIDuPwAAAAAAAO4/AAAAAAAA7j8AAAAAAADuPwAAAAAAgO0/AAAAAAAA7T8AAAAAAADtPwAAAAAAAO0/AAAAAACA7D8AAAAAAIDsPwAAAAAAgOw/AAAAAACA7D8AAAAAAADsPwAAAAAAAOw/AAAAAACA6z8AAAAAAIDrPwAAAAAAgOs/AAAAAACA6z8AAAAAAIDrPwAAAAAAgOs/AAAAAACA6z8AAAAAAADrPwAAAAAAgOo/AAAAAACA6j8AAAAAAIDqPwAAAAAAAOo/AAAAAACA6T8AAAAAAADpPwAAAAAAAOk/AAAAAAAA6T8AAAAAAADpPwAAAAAAgOg/AAAAAACA6D8AAAAAAADoPwAAAAAAAOg/AAAAAAAA6D8AAAAAAIDnPwAAAAAAAOc/AAAAAACA5j8AAAAAAIDmPwAAAAAAgOY/AAAAAACA5j8AAAAAAIDmPwAAAAAAAOY/AAAAAACA5T8AAAAAAADlPwAAAAAAgOQ/AAAAAAAA5D8AAAAAAIDjPwAAAAAAAOM/AAAAAACA4j8AAAAAAADiPwAAAAAAAOI/AAAAAACA4T8AAAAAAADhPwAAAAAAgOA/AAAAAAAA4D8AAAAAAADfPwAAAAAAAN4/AAAAAAAA3T8AAAAAAADcPwAAAAAAANs/AAAAAAAA2j8AAAAAAADZPwAAAAAAANg/AAAAAAAA1z8AAAAAAADWPwAAAAAAANU/AAAAAAAA1D8AAAAAAADTPwAAAAAAANI/AAAAAAAA0T8AAAAAAADQPwAAAAAAAM4/AAAAAAAAzD8AAAAAAADKPwAAAAAAAMg/AAAAAAAAxj8AAAAAAADEPwAAAAAAAMI/AAAAAAAAwD8AAAAAAAC8PwAAAAAAALg/AAAAAAAAtD8AAAAAAACwPwAAAAAAAKg/AAAAAAAAoD8AAAAAAACQPwAAAAAAAAAA\",\"dtype\":\"float64\",\"shape\":[102]},\"y\":{\"__ndarray__\":\"+9liZfhG5D8pXI/C9SjkP1100UUXXeQ/JUmSJEmS5D81bDfLk8jkPwAAAAAAAOU/iVO/55Y45T/UdzbqOxvlP/30008//eQ/05ve9KY35T81V3M1V3PlPwZbsAVbsOU/X/e6173u5T8vuuiiiy7mP3waYbmnEeY/lTVlTVlT5j+XlpaWlpbmP57neZ7neeY/0tT5tYdc5j+idiVqV6LmP/PDImXg6eY/zczMzMzM5j8tbsL8rhbnPyd2Yid2Yuc/1cDeMTWw5z9DeQ3lNZTnP+UXS36x5Oc/inzWDabI5z/BgQMHDhzoPxzHcRzHceg/PRm/XerJ6D9JkiRJkiTpP5hrB+bagek/4uHh4eHh6T+/GhPpgcrpP7LJJptssuk/eqEXeqEX6j8AAAAAAIDqP5qmaZqmaeo/U0oppZRS6j/8FJcMwTrqP6uqqqqqquo/BA0ndV8e6z8aYbmnEZbrPyS4j+A+gus/AAAAAAAA7D/tG9a+Ye3rPxzHcRzHcew/IjXBeCv77D/FTuzETuzsP93c3Nzc3Ow/zczMzMzM7D9ZHxrrQ2PtPwAAAAAAAO4/+85GfWej7j/1pje96U3vP5/0SZ/0Se8/RhdddNFF7z/QF/QFfUHvP8/zPM/zPO8/OB+D8zE47z8zMzMzMzPvP9/yLd/yLe8/h/Iaymso7z8q8lk3mCLvPwAAAAAAAPA/AAAAAAAA8D8AAAAAAADwPwAAAAAAAPA/AAAAAAAA8D8AAAAAAADwPwAAAAAAAPA/AAAAAAAA8D8AAAAAAADwPwAAAAAAAPA/AAAAAAAA8D8AAAAAAADwPwAAAAAAAPA/AAAAAAAA8D8AAAAAAADwPwAAAAAAAPA/AAAAAAAA8D8AAAAAAADwPwAAAAAAAPA/AAAAAAAA8D8AAAAAAADwPwAAAAAAAPA/AAAAAAAA8D8AAAAAAADwPwAAAAAAAPA/AAAAAAAA8D8AAAAAAADwPwAAAAAAAPA/AAAAAAAA8D8AAAAAAADwPwAAAAAAAPA/AAAAAAAA8D8AAAAAAADwPwAAAAAAAPA/AAAAAAAA8D8AAAAAAADwPwAAAAAAAPA/\",\"dtype\":\"float64\",\"shape\":[102]}}},\"id\":\"52ba473f-8b79-4430-bb20-b59cebf86f70\",\"type\":\"ColumnDataSource\"},{\"attributes\":{\"plot\":{\"id\":\"de7cac59-77b6-4d67-bc39-1a53fb4ae4fa\",\"subtype\":\"Figure\",\"type\":\"Plot\"}},\"id\":\"fe74eca9-70c8-4f74-bad4-8f45e02aaad6\",\"type\":\"HelpTool\"},{\"attributes\":{\"below\":[{\"id\":\"c4227bce-eb67-46a1-a369-b1d63615d43d\",\"type\":\"LinearAxis\"}],\"left\":[{\"id\":\"b890b76a-a301-4a9a-8456-e0365ff68ca0\",\"type\":\"LinearAxis\"}],\"plot_height\":400,\"plot_width\":400,\"renderers\":[{\"id\":\"c4227bce-eb67-46a1-a369-b1d63615d43d\",\"type\":\"LinearAxis\"},{\"id\":\"859c7658-6b43-486f-8e1e-6a5b3225e6d3\",\"type\":\"Grid\"},{\"id\":\"b890b76a-a301-4a9a-8456-e0365ff68ca0\",\"type\":\"LinearAxis\"},{\"id\":\"8d745e2e-6efb-4388-8867-138a9a84919e\",\"type\":\"Grid\"},{\"id\":\"c0917e93-0549-44eb-b65c-3651fd8c1e6e\",\"type\":\"BoxAnnotation\"},{\"id\":\"db5cfc20-4f17-4ed1-947a-4f6ff5eca682\",\"type\":\"GlyphRenderer\"},{\"id\":\"f35a680d-819d-4a5c-a125-876000db2b5e\",\"type\":\"Legend\"},{\"id\":\"a28d778d-c45f-4399-a083-baaf356564f6\",\"type\":\"GlyphRenderer\"},{\"id\":\"af87db8d-a020-4411-bc12-67ef94f4b51b\",\"type\":\"GlyphRenderer\"},{\"id\":\"a4d304f7-8d2a-4cd5-b5b9-2fc686913dcf\",\"type\":\"GlyphRenderer\"}],\"title\":{\"id\":\"969a2b27-044e-4ca7-9aad-48da9de0f2d2\",\"type\":\"Title\"},\"tool_events\":{\"id\":\"52f514e9-29d9-4655-ae66-6ea9c6a13d03\",\"type\":\"ToolEvents\"},\"toolbar\":{\"id\":\"b4bce20a-df92-4ec3-9caa-88ca04709b28\",\"type\":\"Toolbar\"},\"x_range\":{\"id\":\"575d7025-1f96-4e50-8b93-a2aab15ea94b\",\"type\":\"DataRange1d\"},\"y_range\":{\"id\":\"e7549927-204a-4443-a81e-5609c73f8c6c\",\"type\":\"DataRange1d\"}},\"id\":\"de7cac59-77b6-4d67-bc39-1a53fb4ae4fa\",\"subtype\":\"Figure\",\"type\":\"Plot\"},{\"attributes\":{\"plot\":{\"id\":\"ca0a1b49-c38d-4aa0-930e-fcd44915292f\",\"subtype\":\"Figure\",\"type\":\"Plot\"}},\"id\":\"8b874a37-a344-45c4-a643-fa8d80d4f2b8\",\"type\":\"WheelZoomTool\"},{\"attributes\":{\"axis_label\":\"recall\",\"formatter\":{\"id\":\"083c7135-2aaf-4c90-bc35-e6d2de5e8a46\",\"type\":\"BasicTickFormatter\"},\"plot\":{\"id\":\"de7cac59-77b6-4d67-bc39-1a53fb4ae4fa\",\"subtype\":\"Figure\",\"type\":\"Plot\"},\"ticker\":{\"id\":\"21c9a0ba-9831-4321-87da-e08dc9f4c86e\",\"type\":\"BasicTicker\"}},\"id\":\"c4227bce-eb67-46a1-a369-b1d63615d43d\",\"type\":\"LinearAxis\"},{\"attributes\":{\"data_source\":{\"id\":\"6c0427f8-99d6-46c4-a653-1a5f701b2949\",\"type\":\"ColumnDataSource\"},\"glyph\":{\"id\":\"1c33e494-6e50-4880-a085-61e6f76f6bd3\",\"type\":\"Line\"},\"hover_glyph\":null,\"nonselection_glyph\":{\"id\":\"3c9413f5-8063-49b8-b8be-0500f6de0ea5\",\"type\":\"Line\"},\"selection_glyph\":null},\"id\":\"4ff1df13-e5ae-4411-85a2-c4ad6bb364f7\",\"type\":\"GlyphRenderer\"},{\"attributes\":{\"callback\":null},\"id\":\"e7549927-204a-4443-a81e-5609c73f8c6c\",\"type\":\"DataRange1d\"},{\"attributes\":{\"plot\":{\"id\":\"de7cac59-77b6-4d67-bc39-1a53fb4ae4fa\",\"subtype\":\"Figure\",\"type\":\"Plot\"}},\"id\":\"8384ae5a-034f-48fb-9d89-c79e5ae3eca2\",\"type\":\"SaveTool\"},{\"attributes\":{\"fill_alpha\":{\"value\":0.1},\"fill_color\":{\"value\":\"#1f77b4\"},\"line_alpha\":{\"value\":0.1},\"line_color\":{\"value\":\"#1f77b4\"},\"size\":{\"units\":\"screen\",\"value\":5},\"x\":{\"field\":\"x\"},\"y\":{\"field\":\"y\"}},\"id\":\"a2dfa401-6d8a-40ce-a02e-cd3f4c7686a3\",\"type\":\"Circle\"},{\"attributes\":{\"data_source\":{\"id\":\"2aaf720b-a220-4a26-8b65-3d7104fbb6ff\",\"type\":\"ColumnDataSource\"},\"glyph\":{\"id\":\"0d6061bd-3d68-4922-8d29-b3965415313c\",\"type\":\"Line\"},\"hover_glyph\":null,\"nonselection_glyph\":{\"id\":\"f30867b9-d3a3-4cc2-ad5c-823c6fb9c321\",\"type\":\"Line\"},\"selection_glyph\":null},\"id\":\"a28d778d-c45f-4399-a083-baaf356564f6\",\"type\":\"GlyphRenderer\"},{\"attributes\":{\"data_source\":{\"id\":\"52ba473f-8b79-4430-bb20-b59cebf86f70\",\"type\":\"ColumnDataSource\"},\"glyph\":{\"id\":\"458c6e1d-5d04-4966-9da2-93d3f4ee2b63\",\"type\":\"Circle\"},\"hover_glyph\":null,\"nonselection_glyph\":{\"id\":\"a2dfa401-6d8a-40ce-a02e-cd3f4c7686a3\",\"type\":\"Circle\"},\"selection_glyph\":null},\"id\":\"af87db8d-a020-4411-bc12-67ef94f4b51b\",\"type\":\"GlyphRenderer\"},{\"attributes\":{\"callback\":null,\"column_names\":[\"y\",\"x\"],\"data\":{\"x\":{\"__ndarray__\":\"AAAAAAAA8D/P8zzP8zzvP8/zPM/zPO8/z/M8z/M87z/P8zzP8zzvP8/zPM/zPO8/z/M8z/M87z/P8zzP8zzvP8/zPM/zPO8/z/M8z/M87z/P8zzP8zzvP8/zPM/zPO8/z/M8z/M87z/P8zzP8zzvP8/zPM/zPO8/z/M8z/M87z/P8zzP8zzvP8/zPM/zPO8/z/M8z/M87z/P8zzP8zzvP8/zPM/zPO8/z/M8z/M87z/P8zzP8zzvP57neZ7nee4/nud5nud57j+e53me53nuP57neZ7nee4/nud5nud57j+e53me53nuP57neZ7nee4/nud5nud57j+e53me53nuP57neZ7nee4/nud5nud57j+e53me53nuP57neZ7nee4/nud5nud57j+e53me53nuP57neZ7nee4/nud5nud57j+e53me53nuP57neZ7nee4/nud5nud57j+e53me53nuP57neZ7nee4/nud5nud57j+e53me53nuP57neZ7nee4/nud5nud57j+e53me53nuP57neZ7nee4/nud5nud57j+e53me53nuP57neZ7nee4/nud5nud57j+e53me53nuP57neZ7nee4/nud5nud57j+e53me53nuP57neZ7nee4/nud5nud57j+e53me53nuP57neZ7nee4/nud5nud57j+e53me53nuP57neZ7nee4/nud5nud57j+e53me53nuP57neZ7nee4/nud5nud57j9u27Zt27btP27btm3btu0/Pc/zPM/z7D8MwzAMwzDsPwzDMAzDMOw/DMMwDMMw7D8MwzAMwzDsPwzDMAzDMOw/DMMwDMMw7D8MwzAMwzDsPwzDMAzDMOw/DMMwDMMw7D8MwzAMwzDsPwzDMAzDMOw/DMMwDMMw7D8MwzAMwzDsPwzDMAzDMOw/DMMwDMMw7D8MwzAMwzDsPwzDMAzDMOw/DMMwDMMw7D/btm3btm3rP9u2bdu2bes/27Zt27Zt6z/btm3btm3rP9u2bdu2bes/27Zt27Zt6z/btm3btm3rP9u2bdu2bes/27Zt27Zt6z/btm3btm3rP9u2bdu2bes/27Zt27Zt6z/btm3btm3rP9u2bdu2bes/27Zt27Zt6z/btm3btm3rP9u2bdu2bes/27Zt27Zt6z/btm3btm3rP9u2bdu2bes/27Zt27Zt6z/btm3btm3rP9u2bdu2bes/27Zt27Zt6z/btm3btm3rP9u2bdu2bes/27Zt27Zt6z+rqqqqqqrqP6uqqqqqquo/q6qqqqqq6j+rqqqqqqrqP6uqqqqqquo/q6qqqqqq6j+rqqqqqqrqP6uqqqqqquo/q6qqqqqq6j+rqqqqqqrqP6uqqqqqquo/q6qqqqqq6j+rqqqqqqrqP6uqqqqqquo/q6qqqqqq6j+rqqqqqqrqP6uqqqqqquo/q6qqqqqq6j+rqqqqqqrqP6uqqqqqquo/q6qqqqqq6j+rqqqqqqrqP6uqqqqqquo/q6qqqqqq6j+rqqqqqqrqP6uqqqqqquo/q6qqqqqq6j+rqqqqqqrqP6uqqqqqquo/q6qqqqqq6j+rqqqqqqrqP6uqqqqqquo/q6qqqqqq6j+rqqqqqqrqP6uqqqqqquo/q6qqqqqq6j+rqqqqqqrqP6uqqqqqquo/q6qqqqqq6j+rqqqqqqrqP6uqqqqqquo/q6qqqqqq6j+rqqqqqqrqP6uqqqqqquo/q6qqqqqq6j+rqqqqqqrqP6uqqqqqquo/q6qqqqqq6j+rqqqqqqrqP6uqqqqqquo/q6qqqqqq6j+rqqqqqqrqP6uqqqqqquo/q6qqqqqq6j+rqqqqqqrqP6uqqqqqquo/q6qqqqqq6j96nud5nufpP3qe53me5+k/ep7neZ7n6T96nud5nufpP3qe53me5+k/ep7neZ7n6T96nud5nufpP3qe53me5+k/ep7neZ7n6T96nud5nufpP3qe53me5+k/ep7neZ7n6T96nud5nufpP3qe53me5+k/ep7neZ7n6T96nud5nufpP3qe53me5+k/ep7neZ7n6T96nud5nufpP3qe53me5+k/ep7neZ7n6T96nud5nufpP3qe53me5+k/ep7neZ7n6T96nud5nufpP3qe53me5+k/ep7neZ7n6T96nud5nufpP3qe53me5+k/ep7neZ7n6T96nud5nufpP3qe53me5+k/SZIkSZIk6T9JkiRJkiTpPxiGYRiGYeg/GIZhGIZh6D8YhmEYhmHoPxiGYRiGYeg/GIZhGIZh6D8YhmEYhmHoPxiGYRiGYeg/GIZhGIZh6D/oeZ7neZ7nP+h5nud5nuc/t23btm3b5j+3bdu2bdvmP7dt27Zt2+Y/t23btm3b5j+GYRiGYRjmP4ZhGIZhGOY/hmEYhmEY5j+GYRiGYRjmP4ZhGIZhGOY/hmEYhmEY5j+GYRiGYRjmP4ZhGIZhGOY/VVVVVVVV5T8lSZIkSZLkPyVJkiRJkuQ/9DzP8zzP4z/DMAzDMAzjP8MwDMMwDOM/wzAMwzAM4z/DMAzDMAzjP5IkSZIkSeI/YhiGYRiG4T9iGIZhGIbhP2IYhmEYhuE/YhiGYRiG4T9iGIZhGIbhP2IYhmEYhuE/YhiGYRiG4T9iGIZhGIbhP2IYhmEYhuE/YhiGYRiG4T9iGIZhGIbhPzEMwzAMw+A/MQzDMAzD4D8AAAAAAADgPwAAAAAAAOA/AAAAAAAA4D8AAAAAAADgP57neZ7ned4/nud5nud53j+e53me53nePz3P8zzP89w/27Zt27Zt2z/btm3btm3bP9u2bdu2bds/ep7neZ7n2T8YhmEYhmHYPxiGYRiGYdg/t23btm3b1j9VVVVVVVXVP/Q8z/M8z9M/kiRJkiRJ0j+SJEmSJEnSPzEMwzAMw9A/nud5nud5zj/btm3btm3LPxiGYRiGYcg/GIZhGIZhyD9VVVVVVVXFP5IkSZIkScI/kiRJkiRJwj+SJEmSJEnCP57neZ7neb4/GIZhGIZhuD+SJEmSJEmyPxiGYRiGYag/GIZhGIZhmD8AAAAAAAAAAA==\",\"dtype\":\"float64\",\"shape\":[287]},\"y\":{\"__ndarray__\":\"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\",\"dtype\":\"float64\",\"shape\":[287]}}},\"id\":\"2aaf720b-a220-4a26-8b65-3d7104fbb6ff\",\"type\":\"ColumnDataSource\"},{\"attributes\":{},\"id\":\"086fd110-8bfc-47d8-855a-95d583adce68\",\"type\":\"BasicTicker\"},{\"attributes\":{\"plot\":{\"id\":\"de7cac59-77b6-4d67-bc39-1a53fb4ae4fa\",\"subtype\":\"Figure\",\"type\":\"Plot\"}},\"id\":\"8bdc4397-7b7b-40a6-a809-95bc6d9210b4\",\"type\":\"WheelZoomTool\"},{\"attributes\":{\"line_alpha\":{\"value\":0.1},\"line_color\":{\"value\":\"#1f77b4\"},\"x\":{\"field\":\"x\"},\"y\":{\"field\":\"y\"}},\"id\":\"3c9413f5-8063-49b8-b8be-0500f6de0ea5\",\"type\":\"Line\"},{\"attributes\":{\"below\":[{\"id\":\"ae6dd773-ee05-40f7-bdc2-cb9792f79c4c\",\"type\":\"LinearAxis\"}],\"left\":[{\"id\":\"634b6013-d757-4164-b872-9ecfcef6f1b9\",\"type\":\"LinearAxis\"}],\"plot_height\":400,\"plot_width\":400,\"renderers\":[{\"id\":\"ae6dd773-ee05-40f7-bdc2-cb9792f79c4c\",\"type\":\"LinearAxis\"},{\"id\":\"c7344248-efdb-4b2c-a5a0-a7f1261df790\",\"type\":\"Grid\"},{\"id\":\"634b6013-d757-4164-b872-9ecfcef6f1b9\",\"type\":\"LinearAxis\"},{\"id\":\"0fc45ed7-8a8c-46ec-bb18-4e8907ecd3f5\",\"type\":\"Grid\"},{\"id\":\"43a48935-8313-4b73-805a-db90f5a412cf\",\"type\":\"BoxAnnotation\"},{\"id\":\"1ae899d4-a0ed-440c-a7fa-0b7cfd4dd2ce\",\"type\":\"GlyphRenderer\"},{\"id\":\"5beaf720-5c65-4bad-afaf-985bb94203a8\",\"type\":\"Legend\"},{\"id\":\"62f84d79-47fa-4633-b015-c1a751dfbe3f\",\"type\":\"GlyphRenderer\"},{\"id\":\"c5165354-ba0c-4094-8fc8-ed3cf251d80e\",\"type\":\"GlyphRenderer\"},{\"id\":\"bfaf857f-6465-41e6-9fbf-fc0ee443dfcd\",\"type\":\"GlyphRenderer\"},{\"id\":\"4ff1df13-e5ae-4411-85a2-c4ad6bb364f7\",\"type\":\"GlyphRenderer\"}],\"title\":{\"id\":\"9f013eab-98c3-4dd4-9fea-385e361accac\",\"type\":\"Title\"},\"tool_events\":{\"id\":\"54f988c7-bd32-47a5-a020-bf8670ac4811\",\"type\":\"ToolEvents\"},\"toolbar\":{\"id\":\"0f55a12e-a2d2-4a2b-a140-0fbf2a830221\",\"type\":\"Toolbar\"},\"x_range\":{\"id\":\"563a7475-0b89-41fb-9ed3-d66f2dd133d3\",\"type\":\"Range1d\"},\"y_range\":{\"id\":\"563a7475-0b89-41fb-9ed3-d66f2dd133d3\",\"type\":\"Range1d\"}},\"id\":\"ca0a1b49-c38d-4aa0-930e-fcd44915292f\",\"subtype\":\"Figure\",\"type\":\"Plot\"},{\"attributes\":{\"data_source\":{\"id\":\"4018a20a-065c-4ece-8bc5-7d15d5aab802\",\"type\":\"ColumnDataSource\"},\"glyph\":{\"id\":\"7b85d55e-bbc9-4ffb-a948-b945abd799c2\",\"type\":\"Cross\"},\"hover_glyph\":null,\"nonselection_glyph\":{\"id\":\"acce23c1-7146-4d8e-a6a7-ce80b5709ff3\",\"type\":\"Cross\"},\"selection_glyph\":null},\"id\":\"db5cfc20-4f17-4ed1-947a-4f6ff5eca682\",\"type\":\"GlyphRenderer\"},{\"attributes\":{\"overlay\":{\"id\":\"43a48935-8313-4b73-805a-db90f5a412cf\",\"type\":\"BoxAnnotation\"},\"plot\":{\"id\":\"ca0a1b49-c38d-4aa0-930e-fcd44915292f\",\"subtype\":\"Figure\",\"type\":\"Plot\"}},\"id\":\"133b407f-4b8e-475c-8c76-3d500b083e58\",\"type\":\"BoxZoomTool\"},{\"attributes\":{\"line_color\":{\"value\":\"#1f77b4\"},\"x\":{\"field\":\"x\"},\"y\":{\"field\":\"y\"}},\"id\":\"c0ecdd84-04a3-4d95-a6ab-4c0ff70956e0\",\"type\":\"Line\"},{\"attributes\":{\"dimension\":1,\"plot\":{\"id\":\"de7cac59-77b6-4d67-bc39-1a53fb4ae4fa\",\"subtype\":\"Figure\",\"type\":\"Plot\"},\"ticker\":{\"id\":\"086fd110-8bfc-47d8-855a-95d583adce68\",\"type\":\"BasicTicker\"}},\"id\":\"8d745e2e-6efb-4388-8867-138a9a84919e\",\"type\":\"Grid\"},{\"attributes\":{\"dimension\":1,\"plot\":{\"id\":\"ca0a1b49-c38d-4aa0-930e-fcd44915292f\",\"subtype\":\"Figure\",\"type\":\"Plot\"},\"ticker\":{\"id\":\"55580880-553b-4773-ac70-612f18a40a3d\",\"type\":\"BasicTicker\"}},\"id\":\"0fc45ed7-8a8c-46ec-bb18-4e8907ecd3f5\",\"type\":\"Grid\"},{\"attributes\":{\"plot\":{\"id\":\"de7cac59-77b6-4d67-bc39-1a53fb4ae4fa\",\"subtype\":\"Figure\",\"type\":\"Plot\"}},\"id\":\"2647b0b2-e2dd-4dad-a119-f82fae7ee3f5\",\"type\":\"PanTool\"},{\"attributes\":{\"plot\":null,\"text\":\"roc, auc: 0.86, on train: 0.99\"},\"id\":\"9f013eab-98c3-4dd4-9fea-385e361accac\",\"type\":\"Title\"},{\"attributes\":{\"items\":[{\"id\":\"15d3db30-5e33-4024-98ec-5ba6fef58733\",\"type\":\"LegendItem\"},{\"id\":\"4557e86c-ce2f-465a-85ff-971290b58c2e\",\"type\":\"LegendItem\"}],\"plot\":{\"id\":\"de7cac59-77b6-4d67-bc39-1a53fb4ae4fa\",\"subtype\":\"Figure\",\"type\":\"Plot\"}},\"id\":\"f35a680d-819d-4a5c-a125-876000db2b5e\",\"type\":\"Legend\"},{\"attributes\":{\"axis_label\":\"fpr\",\"formatter\":{\"id\":\"94906dcd-c6b5-47f0-ad5e-32522ccefdca\",\"type\":\"BasicTickFormatter\"},\"plot\":{\"id\":\"ca0a1b49-c38d-4aa0-930e-fcd44915292f\",\"subtype\":\"Figure\",\"type\":\"Plot\"},\"ticker\":{\"id\":\"55580880-553b-4773-ac70-612f18a40a3d\",\"type\":\"BasicTicker\"}},\"id\":\"634b6013-d757-4164-b872-9ecfcef6f1b9\",\"type\":\"LinearAxis\"},{\"attributes\":{},\"id\":\"54f988c7-bd32-47a5-a020-bf8670ac4811\",\"type\":\"ToolEvents\"},{\"attributes\":{\"items\":[{\"id\":\"b9869c58-4536-418e-bc94-173da1fa6871\",\"type\":\"LegendItem\"},{\"id\":\"9d9cf1bf-78bd-4a4d-a569-2daee8045d26\",\"type\":\"LegendItem\"}],\"plot\":{\"id\":\"ca0a1b49-c38d-4aa0-930e-fcd44915292f\",\"subtype\":\"Figure\",\"type\":\"Plot\"}},\"id\":\"5beaf720-5c65-4bad-afaf-985bb94203a8\",\"type\":\"Legend\"},{\"attributes\":{\"fill_alpha\":{\"value\":0.1},\"fill_color\":{\"value\":\"#1f77b4\"},\"line_alpha\":{\"value\":0.1},\"line_color\":{\"value\":\"#1f77b4\"},\"size\":{\"units\":\"screen\",\"value\":5},\"x\":{\"field\":\"x\"},\"y\":{\"field\":\"y\"}},\"id\":\"dafcc2a2-0479-4a0d-94e0-bdf4dc6fbcd9\",\"type\":\"Circle\"},{\"attributes\":{\"bottom_units\":\"screen\",\"fill_alpha\":{\"value\":0.5},\"fill_color\":{\"value\":\"lightgrey\"},\"left_units\":\"screen\",\"level\":\"overlay\",\"line_alpha\":{\"value\":1.0},\"line_color\":{\"value\":\"black\"},\"line_dash\":[4,4],\"line_width\":{\"value\":2},\"plot\":null,\"render_mode\":\"css\",\"right_units\":\"screen\",\"top_units\":\"screen\"},\"id\":\"43a48935-8313-4b73-805a-db90f5a412cf\",\"type\":\"BoxAnnotation\"},{\"attributes\":{\"callback\":null,\"column_names\":[\"x\",\"y\"],\"data\":{\"x\":{\"__ndarray__\":\"AAAAAAAAAAAAAAAAAAAAAAXwHvUfwlU/BfAe9R/CVT8HrGbypzJ7PwesZvKnMns/BRJ79tsJgz8FEnv22wmDPwXwHvUfwoU/BfAe9R/ChT8Higrx6+qNPweKCvHr6o0/BCMp97mtkT8EIyn3ua2RPwa9FPOF1pk/Br0U84XWmT8HrGbypzKbPwesZvKnMps/CHlc8A1Hnz8IeVzwDUefP4QrgPeo/6A/hCuA96j/oD+FGtL2yluiP4Ua0vbKW6I/BfAe9R/CpT8F8B71H8KlP4bFa/N0KKk/hsVr83QoqT9HH+RxwTe8P8cWjXHS5bw/VWYDVjP50z81pO2VtyTUPwUBzfX9ZdQ/5T63NYKR1D9GUu5zWyPYPyaQ2LPfTtg/ViJLU7tp2T82YDWTP5XZP6dlJbI0tds/h6MP8rjg2z9Ep1R3sVbhPzTGSZdzbOE/dSgZFq/N4z9lRw42cePjPy0rkaWp3eQ/HUqGxWvz5D+9A0WF+HXlP60iOqW6i+U/Xb0DRYX45T/Ga/N0KBnmPx452MSNT+Y/DljN5E9l5j9mJbI0tZvmP1ZEp1R3seY/NoKRlPvc5j8moYa0vfLmP8ZaRXRKdec/tnk6lAyL5z9GUu5zWyPoP64A3qP+Q+g/xkmXc2zR6D+mh4Gz8PzoP6/egaJC/Oo/n/12wgQS6z/3ylsSakjrP+fpUDIsXus/d8IEEnv26z9XAO9R/yHsPzc+2ZGDTew/J13OsUVj7D+PC77h6IPsP6+8JaGGtO0/n9sawUjK7T9gV+9AUSHuP1B25GATN+4/QJXZgNVM7j+IgbPw/JjuP/AvoyCgue4/sKt3oKgQ7z8YWmfQSzHvP4AIVwDvUe8/UGU2YDWT7z9AhCuA96jvP5hRENBc3+8/AAAAAAAA8D8=\",\"dtype\":\"float64\",\"shape\":[85]},\"y\":{\"__ndarray__\":\"AAAAAAAAkD8AAAAAAADiPwAAAAAAAOI/AAAAAACA5j8AAAAAAIDmPwAAAAAAAOg/AAAAAAAA6D8AAAAAAIDoPwAAAAAAgOg/AAAAAAAA6T8AAAAAAADpPwAAAAAAgOo/AAAAAACA6j8AAAAAAIDrPwAAAAAAgOs/AAAAAAAA7D8AAAAAAADsPwAAAAAAgOw/AAAAAACA7D8AAAAAAADtPwAAAAAAAO0/AAAAAAAA7j8AAAAAAADuPwAAAAAAgO4/AAAAAACA7j8AAAAAAIDvPwAAAAAAgO8/AAAAAAAA8D8AAAAAAADwPwAAAAAAAPA/AAAAAAAA8D8AAAAAAADwPwAAAAAAAPA/AAAAAAAA8D8AAAAAAADwPwAAAAAAAPA/AAAAAAAA8D8AAAAAAADwPwAAAAAAAPA/AAAAAAAA8D8AAAAAAADwPwAAAAAAAPA/AAAAAAAA8D8AAAAAAADwPwAAAAAAAPA/AAAAAAAA8D8AAAAAAADwPwAAAAAAAPA/AAAAAAAA8D8AAAAAAADwPwAAAAAAAPA/AAAAAAAA8D8AAAAAAADwPwAAAAAAAPA/AAAAAAAA8D8AAAAAAADwPwAAAAAAAPA/AAAAAAAA8D8AAAAAAADwPwAAAAAAAPA/AAAAAAAA8D8AAAAAAADwPwAAAAAAAPA/AAAAAAAA8D8AAAAAAADwPwAAAAAAAPA/AAAAAAAA8D8AAAAAAADwPwAAAAAAAPA/AAAAAAAA8D8AAAAAAADwPwAAAAAAAPA/AAAAAAAA8D8AAAAAAADwPwAAAAAAAPA/AAAAAAAA8D8AAAAAAADwPwAAAAAAAPA/AAAAAAAA8D8AAAAAAADwPwAAAAAAAPA/AAAAAAAA8D8AAAAAAADwPwAAAAAAAPA/AAAAAAAA8D8=\",\"dtype\":\"float64\",\"shape\":[85]}}},\"id\":\"b4bdd43b-a137-4dae-addd-03df3a94a022\",\"type\":\"ColumnDataSource\"},{\"attributes\":{\"line_color\":{\"value\":\"red\"},\"x\":{\"field\":\"x\"},\"y\":{\"field\":\"y\"}},\"id\":\"2b3768eb-2f50-4c49-bb62-7728f3b08280\",\"type\":\"Line\"},{\"attributes\":{\"fill_alpha\":{\"value\":0.1},\"fill_color\":{\"value\":\"#1f77b4\"},\"line_alpha\":{\"value\":0.1},\"line_color\":{\"value\":\"#1f77b4\"},\"size\":{\"units\":\"screen\",\"value\":5},\"x\":{\"field\":\"x\"},\"y\":{\"field\":\"y\"}},\"id\":\"3620cbb7-d0cd-4515-994f-a875073c9a3d\",\"type\":\"Cross\"},{\"attributes\":{\"label\":{\"value\":\"PR\"},\"renderers\":[{\"id\":\"a28d778d-c45f-4399-a083-baaf356564f6\",\"type\":\"GlyphRenderer\"}]},\"id\":\"15d3db30-5e33-4024-98ec-5ba6fef58733\",\"type\":\"LegendItem\"},{\"attributes\":{\"data_source\":{\"id\":\"dba4b714-782e-4493-988c-0f9917a8d421\",\"type\":\"ColumnDataSource\"},\"glyph\":{\"id\":\"a2fc0ca5-3c11-4126-bfae-a70c2d027791\",\"type\":\"Cross\"},\"hover_glyph\":null,\"nonselection_glyph\":{\"id\":\"3620cbb7-d0cd-4515-994f-a875073c9a3d\",\"type\":\"Cross\"},\"selection_glyph\":null},\"id\":\"1ae899d4-a0ed-440c-a7fa-0b7cfd4dd2ce\",\"type\":\"GlyphRenderer\"},{\"attributes\":{\"axis_label\":\"tpr\",\"formatter\":{\"id\":\"9f2c6977-b571-4a63-aa43-0f974fd3a3e4\",\"type\":\"BasicTickFormatter\"},\"plot\":{\"id\":\"ca0a1b49-c38d-4aa0-930e-fcd44915292f\",\"subtype\":\"Figure\",\"type\":\"Plot\"},\"ticker\":{\"id\":\"a76d4c65-8923-4c7e-87b6-e5ad0ddb17d0\",\"type\":\"BasicTicker\"}},\"id\":\"ae6dd773-ee05-40f7-bdc2-cb9792f79c4c\",\"type\":\"LinearAxis\"},{\"attributes\":{\"bottom_units\":\"screen\",\"fill_alpha\":{\"value\":0.5},\"fill_color\":{\"value\":\"lightgrey\"},\"left_units\":\"screen\",\"level\":\"overlay\",\"line_alpha\":{\"value\":1.0},\"line_color\":{\"value\":\"black\"},\"line_dash\":[4,4],\"line_width\":{\"value\":2},\"plot\":null,\"render_mode\":\"css\",\"right_units\":\"screen\",\"top_units\":\"screen\"},\"id\":\"c0917e93-0549-44eb-b65c-3651fd8c1e6e\",\"type\":\"BoxAnnotation\"},{\"attributes\":{\"callback\":null,\"column_names\":[\"y\",\"x\"],\"data\":{\"x\":{\"__ndarray__\":\"AAAAAAAAAAAAAAAAAAAAAFnhMFHmgno/WeEwUeaCej8CqeS8LOKDPwKp5Lws4oM/WeEwUeaCij9Z4TBR5oKKP9eMvvLPkZA/14y+8s+RkD8uxQqHiTKXPy7FCoeJMpc/hP1WG0PTnT+E/VYbQ9OdPwKp5Lws4qM/AqnkvCzioz8Yt/chW4qlPxi39yFbiqU/+CFbihUOsz/4IVuKFQ6zPxi39yFbirU/GLf3IVuKtT8jPoFUcl62PyM+gVRyXrY/bu9DthQrvD9u70O2FCu8P46E4E1ap74/joTgTVqnvj+ZC2qAcXu/P5kLaoBxe78/cl4W8Qmkwj9yXhbxCaTCP/ghW4oVDsM/+CFbihUOwz8fz64ZfeXPPx/Prhl95c8/JspcUAOM2z8mylxQA4zbP/ZbbQxNd+A/9lttDE134D/tmtFX/jniP+2a0Vf+OeI/zssiPoFU4j/OyyI+gVTiP0yUuaAGGOc/TJS5oAYY5z/IlmKFw0TpP8iWYoXDROk/EoI3aZ167D+2FCscJsrsP46E4E1ap+4/MxfUAOP27j97PLtm9JXvPz2eXTP6yu8/AAAAAAAA8D8=\",\"dtype\":\"float64\",\"shape\":[55]},\"y\":{\"__ndarray__\":\"GIZhGIZhmD+SJEmSJEnCP5IkSZIkScI/GIZhGIZhyD8YhmEYhmHIP5IkSZIkSdI/kiRJkiRJ0j8YhmEYhmHYPxiGYRiGYdg/27Zt27Zt2z/btm3btm3bP57neZ7ned4/nud5nud53j8AAAAAAADgPwAAAAAAAOA/MQzDMAzD4D8xDMMwDMPgP2IYhmEYhuE/YhiGYRiG4T/DMAzDMAzjP8MwDMMwDOM/JUmSJEmS5D8lSZIkSZLkP4ZhGIZhGOY/hmEYhmEY5j+3bdu2bdvmP7dt27Zt2+Y/6Hme53me5z/oeZ7neZ7nPxiGYRiGYeg/GIZhGIZh6D9JkiRJkiTpP0mSJEmSJOk/ep7neZ7n6T96nud5nufpP6uqqqqqquo/q6qqqqqq6j/btm3btm3rP9u2bdu2bes/DMMwDMMw7D8MwzAMwzDsP27btm3btu0/btu2bdu27T+e53me53nuP57neZ7nee4/z/M8z/M87z/P8zzP8zzvPwAAAAAAAPA/AAAAAAAA8D8AAAAAAADwPwAAAAAAAPA/AAAAAAAA8D8AAAAAAADwPwAAAAAAAPA/AAAAAAAA8D8=\",\"dtype\":\"float64\",\"shape\":[55]}}},\"id\":\"b7ebde9b-b7bc-45f2-8e91-b841f4119642\",\"type\":\"ColumnDataSource\"},{\"attributes\":{\"fill_color\":{\"value\":\"red\"},\"line_color\":{\"value\":\"red\"},\"size\":{\"units\":\"screen\",\"value\":5},\"x\":{\"field\":\"x\"},\"y\":{\"field\":\"y\"}},\"id\":\"458c6e1d-5d04-4966-9da2-93d3f4ee2b63\",\"type\":\"Circle\"},{\"attributes\":{},\"id\":\"a76d4c65-8923-4c7e-87b6-e5ad0ddb17d0\",\"type\":\"BasicTicker\"},{\"attributes\":{\"fill_color\":{\"value\":\"#1f77b4\"},\"line_color\":{\"value\":\"#1f77b4\"},\"size\":{\"units\":\"screen\",\"value\":5},\"x\":{\"field\":\"x\"},\"y\":{\"field\":\"y\"}},\"id\":\"a2fc0ca5-3c11-4126-bfae-a70c2d027791\",\"type\":\"Cross\"},{\"attributes\":{},\"id\":\"9f2c6977-b571-4a63-aa43-0f974fd3a3e4\",\"type\":\"BasicTickFormatter\"},{\"attributes\":{\"fill_color\":{\"value\":\"red\"},\"line_color\":{\"value\":\"red\"},\"size\":{\"units\":\"screen\",\"value\":5},\"x\":{\"field\":\"x\"},\"y\":{\"field\":\"y\"}},\"id\":\"20832d77-1780-40bc-a929-79fee8e939fc\",\"type\":\"Circle\"},{\"attributes\":{},\"id\":\"083c7135-2aaf-4c90-bc35-e6d2de5e8a46\",\"type\":\"BasicTickFormatter\"},{\"attributes\":{\"line_alpha\":{\"value\":0.1},\"line_color\":{\"value\":\"#1f77b4\"},\"x\":{\"field\":\"x\"},\"y\":{\"field\":\"y\"}},\"id\":\"7602855e-45cf-4e0e-8e9d-410a52d24d50\",\"type\":\"Line\"},{\"attributes\":{\"plot\":{\"id\":\"ca0a1b49-c38d-4aa0-930e-fcd44915292f\",\"subtype\":\"Figure\",\"type\":\"Plot\"},\"ticker\":{\"id\":\"a76d4c65-8923-4c7e-87b6-e5ad0ddb17d0\",\"type\":\"BasicTicker\"}},\"id\":\"c7344248-efdb-4b2c-a5a0-a7f1261df790\",\"type\":\"Grid\"},{\"attributes\":{\"label\":{\"value\":\"roc on train\"},\"renderers\":[{\"id\":\"bfaf857f-6465-41e6-9fbf-fc0ee443dfcd\",\"type\":\"GlyphRenderer\"}]},\"id\":\"9d9cf1bf-78bd-4a4d-a569-2daee8045d26\",\"type\":\"LegendItem\"},{\"attributes\":{\"line_color\":{\"value\":\"grey\"},\"x\":{\"field\":\"x\"},\"y\":{\"field\":\"y\"}},\"id\":\"1c33e494-6e50-4880-a085-61e6f76f6bd3\",\"type\":\"Line\"},{\"attributes\":{\"active_drag\":\"auto\",\"active_scroll\":\"auto\",\"active_tap\":\"auto\",\"tools\":[{\"id\":\"2647b0b2-e2dd-4dad-a119-f82fae7ee3f5\",\"type\":\"PanTool\"},{\"id\":\"8bdc4397-7b7b-40a6-a809-95bc6d9210b4\",\"type\":\"WheelZoomTool\"},{\"id\":\"d0a47832-575e-43b5-aceb-0e08ce8e9f1a\",\"type\":\"BoxZoomTool\"},{\"id\":\"8384ae5a-034f-48fb-9d89-c79e5ae3eca2\",\"type\":\"SaveTool\"},{\"id\":\"01edbf30-cde4-4f68-9d99-068165e0b594\",\"type\":\"ResetTool\"},{\"id\":\"fe74eca9-70c8-4f74-bad4-8f45e02aaad6\",\"type\":\"HelpTool\"}]},\"id\":\"b4bce20a-df92-4ec3-9caa-88ca04709b28\",\"type\":\"Toolbar\"},{\"attributes\":{},\"id\":\"21c9a0ba-9831-4321-87da-e08dc9f4c86e\",\"type\":\"BasicTicker\"},{\"attributes\":{\"children\":[{\"id\":\"de7cac59-77b6-4d67-bc39-1a53fb4ae4fa\",\"subtype\":\"Figure\",\"type\":\"Plot\"},{\"id\":\"ca0a1b49-c38d-4aa0-930e-fcd44915292f\",\"subtype\":\"Figure\",\"type\":\"Plot\"}]},\"id\":\"bf015e43-3e81-4600-a4a2-f7b7689d4663\",\"type\":\"Row\"},{\"attributes\":{\"callback\":null,\"column_names\":[\"y\",\"x\"],\"data\":{\"x\":{\"__ndarray__\":\"AAAAAAAAAAAAAAAAAAAAAFnhMFHmgno/WeEwUeaCej8CqeS8LOKDPwKp5Lws4oM/WeEwUeaCij9Z4TBR5oKKP9eMvvLPkZA/14y+8s+RkD8uxQqHiTKXPy7FCoeJMpc/hP1WG0PTnT+E/VYbQ9OdPwKp5Lws4qM/AqnkvCzioz8Yt/chW4qlPxi39yFbiqU/+CFbihUOsz/4IVuKFQ6zPxi39yFbirU/GLf3IVuKtT8jPoFUcl62PyM+gVRyXrY/bu9DthQrvD9u70O2FCu8P46E4E1ap74/joTgTVqnvj+ZC2qAcXu/P5kLaoBxe78/cl4W8Qmkwj9yXhbxCaTCP/ghW4oVDsM/+CFbihUOwz8fz64ZfeXPPx/Prhl95c8/JspcUAOM2z8mylxQA4zbP/ZbbQxNd+A/9lttDE134D/tmtFX/jniP+2a0Vf+OeI/zssiPoFU4j/OyyI+gVTiP0yUuaAGGOc/TJS5oAYY5z/IlmKFw0TpP8iWYoXDROk/EoI3aZ167D+2FCscJsrsP46E4E1ap+4/MxfUAOP27j97PLtm9JXvPz2eXTP6yu8/AAAAAAAA8D8=\",\"dtype\":\"float64\",\"shape\":[55]},\"y\":{\"__ndarray__\":\"GIZhGIZhmD+SJEmSJEnCP5IkSZIkScI/GIZhGIZhyD8YhmEYhmHIP5IkSZIkSdI/kiRJkiRJ0j8YhmEYhmHYPxiGYRiGYdg/27Zt27Zt2z/btm3btm3bP57neZ7ned4/nud5nud53j8AAAAAAADgPwAAAAAAAOA/MQzDMAzD4D8xDMMwDMPgP2IYhmEYhuE/YhiGYRiG4T/DMAzDMAzjP8MwDMMwDOM/JUmSJEmS5D8lSZIkSZLkP4ZhGIZhGOY/hmEYhmEY5j+3bdu2bdvmP7dt27Zt2+Y/6Hme53me5z/oeZ7neZ7nPxiGYRiGYeg/GIZhGIZh6D9JkiRJkiTpP0mSJEmSJOk/ep7neZ7n6T96nud5nufpP6uqqqqqquo/q6qqqqqq6j/btm3btm3rP9u2bdu2bes/DMMwDMMw7D8MwzAMwzDsP27btm3btu0/btu2bdu27T+e53me53nuP57neZ7nee4/z/M8z/M87z/P8zzP8zzvPwAAAAAAAPA/AAAAAAAA8D8AAAAAAADwPwAAAAAAAPA/AAAAAAAA8D8AAAAAAADwPwAAAAAAAPA/AAAAAAAA8D8=\",\"dtype\":\"float64\",\"shape\":[55]}}},\"id\":\"dba4b714-782e-4493-988c-0f9917a8d421\",\"type\":\"ColumnDataSource\"},{\"attributes\":{\"line_alpha\":{\"value\":0.1},\"line_color\":{\"value\":\"#1f77b4\"},\"x\":{\"field\":\"x\"},\"y\":{\"field\":\"y\"}},\"id\":\"df5bedae-263b-4f82-9899-eb5bcf63c30f\",\"type\":\"Line\"},{\"attributes\":{\"callback\":null},\"id\":\"575d7025-1f96-4e50-8b93-a2aab15ea94b\",\"type\":\"DataRange1d\"},{\"attributes\":{},\"id\":\"94906dcd-c6b5-47f0-ad5e-32522ccefdca\",\"type\":\"BasicTickFormatter\"},{\"attributes\":{\"callback\":null,\"column_names\":[\"y\",\"x\"],\"data\":{\"x\":{\"__ndarray__\":\"AAAAAAAAAAAAAAAAAAAAAAXwHvUfwlU/BfAe9R/CVT8HrGbypzJ7PwesZvKnMns/BRJ79tsJgz8FEnv22wmDPwXwHvUfwoU/BfAe9R/ChT8Higrx6+qNPweKCvHr6o0/BCMp97mtkT8EIyn3ua2RPwa9FPOF1pk/Br0U84XWmT8HrGbypzKbPwesZvKnMps/CHlc8A1Hnz8IeVzwDUefP4QrgPeo/6A/hCuA96j/oD+FGtL2yluiP4Ua0vbKW6I/BfAe9R/CpT8F8B71H8KlP4bFa/N0KKk/hsVr83QoqT9HH+RxwTe8P8cWjXHS5bw/VWYDVjP50z81pO2VtyTUPwUBzfX9ZdQ/5T63NYKR1D9GUu5zWyPYPyaQ2LPfTtg/ViJLU7tp2T82YDWTP5XZP6dlJbI0tds/h6MP8rjg2z9Ep1R3sVbhPzTGSZdzbOE/dSgZFq/N4z9lRw42cePjPy0rkaWp3eQ/HUqGxWvz5D+9A0WF+HXlP60iOqW6i+U/Xb0DRYX45T/Ga/N0KBnmPx452MSNT+Y/DljN5E9l5j9mJbI0tZvmP1ZEp1R3seY/NoKRlPvc5j8moYa0vfLmP8ZaRXRKdec/tnk6lAyL5z9GUu5zWyPoP64A3qP+Q+g/xkmXc2zR6D+mh4Gz8PzoP6/egaJC/Oo/n/12wgQS6z/3ylsSakjrP+fpUDIsXus/d8IEEnv26z9XAO9R/yHsPzc+2ZGDTew/J13OsUVj7D+PC77h6IPsP6+8JaGGtO0/n9sawUjK7T9gV+9AUSHuP1B25GATN+4/QJXZgNVM7j+IgbPw/JjuP/AvoyCgue4/sKt3oKgQ7z8YWmfQSzHvP4AIVwDvUe8/UGU2YDWT7z9AhCuA96jvP5hRENBc3+8/AAAAAAAA8D8=\",\"dtype\":\"float64\",\"shape\":[85]},\"y\":{\"__ndarray__\":\"AAAAAAAAkD8AAAAAAADiPwAAAAAAAOI/AAAAAACA5j8AAAAAAIDmPwAAAAAAAOg/AAAAAAAA6D8AAAAAAIDoPwAAAAAAgOg/AAAAAAAA6T8AAAAAAADpPwAAAAAAgOo/AAAAAACA6j8AAAAAAIDrPwAAAAAAgOs/AAAAAAAA7D8AAAAAAADsPwAAAAAAgOw/AAAAAACA7D8AAAAAAADtPwAAAAAAAO0/AAAAAAAA7j8AAAAAAADuPwAAAAAAgO4/AAAAAACA7j8AAAAAAIDvPwAAAAAAgO8/AAAAAAAA8D8AAAAAAADwPwAAAAAAAPA/AAAAAAAA8D8AAAAAAADwPwAAAAAAAPA/AAAAAAAA8D8AAAAAAADwPwAAAAAAAPA/AAAAAAAA8D8AAAAAAADwPwAAAAAAAPA/AAAAAAAA8D8AAAAAAADwPwAAAAAAAPA/AAAAAAAA8D8AAAAAAADwPwAAAAAAAPA/AAAAAAAA8D8AAAAAAADwPwAAAAAAAPA/AAAAAAAA8D8AAAAAAADwPwAAAAAAAPA/AAAAAAAA8D8AAAAAAADwPwAAAAAAAPA/AAAAAAAA8D8AAAAAAADwPwAAAAAAAPA/AAAAAAAA8D8AAAAAAADwPwAAAAAAAPA/AAAAAAAA8D8AAAAAAADwPwAAAAAAAPA/AAAAAAAA8D8AAAAAAADwPwAAAAAAAPA/AAAAAAAA8D8AAAAAAADwPwAAAAAAAPA/AAAAAAAA8D8AAAAAAADwPwAAAAAAAPA/AAAAAAAA8D8AAAAAAADwPwAAAAAAAPA/AAAAAAAA8D8AAAAAAADwPwAAAAAAAPA/AAAAAAAA8D8AAAAAAADwPwAAAAAAAPA/AAAAAAAA8D8AAAAAAADwPwAAAAAAAPA/AAAAAAAA8D8=\",\"dtype\":\"float64\",\"shape\":[85]}}},\"id\":\"13f26dde-fa09-424c-bc9e-4ee6baffe191\",\"type\":\"ColumnDataSource\"},{\"attributes\":{\"data_source\":{\"id\":\"600cd55e-5869-466e-8963-7b765129606c\",\"type\":\"ColumnDataSource\"},\"glyph\":{\"id\":\"afec40e2-8251-47fc-9c22-3afb06c29fec\",\"type\":\"Line\"},\"hover_glyph\":null,\"nonselection_glyph\":{\"id\":\"7602855e-45cf-4e0e-8e9d-410a52d24d50\",\"type\":\"Line\"},\"selection_glyph\":null},\"id\":\"a4d304f7-8d2a-4cd5-b5b9-2fc686913dcf\",\"type\":\"GlyphRenderer\"}],\"root_ids\":[\"bf015e43-3e81-4600-a4a2-f7b7689d4663\"]},\"title\":\"Bokeh Application\",\"version\":\"0.12.4\"}};\n",
       "            var render_items = [{\"docid\":\"0fb024b0-682c-449c-b698-05103d74259e\",\"elementid\":\"c4fc24fa-f37b-42a6-afa3-5b2a15cde7f9\",\"modelid\":\"bf015e43-3e81-4600-a4a2-f7b7689d4663\"}];\n",
       "            \n",
       "            Bokeh.embed.embed_items(docs_json, render_items);\n",
       "          };\n",
       "          if (document.readyState != \"loading\") fn();\n",
       "          else document.addEventListener(\"DOMContentLoaded\", fn);\n",
       "        })();\n",
       "      },\n",
       "      function(Bokeh) {\n",
       "      }\n",
       "    ];\n",
       "  \n",
       "    function run_inline_js() {\n",
       "      \n",
       "      if ((window.Bokeh !== undefined) || (force === true)) {\n",
       "        for (var i = 0; i < inline_js.length; i++) {\n",
       "          inline_js[i](window.Bokeh);\n",
       "        }if (force === true) {\n",
       "          display_loaded();\n",
       "        }} else if (Date.now() < window._bokeh_timeout) {\n",
       "        setTimeout(run_inline_js, 100);\n",
       "      } else if (!window._bokeh_failed_load) {\n",
       "        console.log(\"Bokeh: BokehJS failed to load within specified timeout.\");\n",
       "        window._bokeh_failed_load = true;\n",
       "      } else if (force !== true) {\n",
       "        var cell = $(document.getElementById(\"c4fc24fa-f37b-42a6-afa3-5b2a15cde7f9\")).parents('.cell').data().cell;\n",
       "        cell.output_area.append_execute_result(NB_LOAD_WARNING)\n",
       "      }\n",
       "  \n",
       "    }\n",
       "  \n",
       "    if (window._bokeh_is_loading === 0) {\n",
       "      console.log(\"Bokeh: BokehJS loaded, going straight to plotting\");\n",
       "      run_inline_js();\n",
       "    } else {\n",
       "      load_libs(js_urls, function() {\n",
       "        console.log(\"Bokeh: BokehJS plotting callback run at\", now());\n",
       "        run_inline_js();\n",
       "      });\n",
       "    }\n",
       "  }(this));\n",
       "</script>"
      ]
     },
     "metadata": {},
     "output_type": "display_data"
    }
   ],
   "source": [
    "from bokeh.models.ranges import Range1d\n",
    "#print \"auc: %.2g, on train: %.2g\" %(roc_auc, roc_auc_train)\n",
    "roc_df = pd.DataFrame({\"fpr\":fpr,\"tpr\":tpr}).set_index(\"fpr\")\n",
    "pr_df = pd.DataFrame({\"precision\": precision, \"recall\":recall}).set_index(\"recall\")\n",
    "roc_df[\"diag\"] = roc_df.index\n",
    "pr_df[\"random\"] = pr_df.precision.iloc[0]\n",
    "\n",
    "# roc curve\n",
    "roc_f = figure(width=400,height=400,title=\"roc, auc: %.2g, on train: %.2g\"  %(roc_auc, roc_auc_train) )\n",
    "roc_f.xaxis.axis_label = \"tpr\"\n",
    "auc_range= Range1d(0,1)\n",
    "roc_f.x_range = auc_range \n",
    "roc_f.y_range = auc_range \n",
    "roc_f.yaxis.axis_label = \"fpr\"\n",
    "roc_f.cross(fpr,tpr,size=5)\n",
    "roc_f.line(fpr,tpr,legend=\"roc\")\n",
    "roc_f.circle(fpr_train,tpr_train,size=5,color=\"red\", line_width=1)\n",
    "roc_f.line(fpr_train,tpr_train,color=\"red\",legend=\"roc on train\")\n",
    "roc_f.line([0,1],[0,1], color=\"grey\")\n",
    "\n",
    "# pr curve\n",
    "pr_f = figure(width=400,height=400,title=\"PR curve\")\n",
    "pr_f.xaxis.axis_label = \"recall\"\n",
    "pr_f.yaxis.axis_label = \"precision\"\n",
    "pr_f.cross(recall,precision,size=5)\n",
    "pr_f.line(recall,precision,legend=\"PR\")\n",
    "pr_f.circle(recall_train,precision_train,size=5,color=\"red\", line_width=1)\n",
    "pr_f.line(recall_train,precision_train,color=\"red\",legend=\"PR on train\")\n",
    "\n",
    "show(row(\n",
    "    pr_f,\n",
    "    roc_f\n",
    "))"
   ]
  },
  {
   "cell_type": "markdown",
   "metadata": {},
   "source": [
    "### Feature Importance"
   ]
  },
  {
   "cell_type": "code",
   "execution_count": 357,
   "metadata": {
    "collapsed": false
   },
   "outputs": [
    {
     "data": {
      "text/html": [
       "<div>\n",
       "<table border=\"1\" class=\"dataframe\">\n",
       "  <thead>\n",
       "    <tr style=\"text-align: right;\">\n",
       "      <th></th>\n",
       "      <th>importance</th>\n",
       "    </tr>\n",
       "  </thead>\n",
       "  <tbody>\n",
       "    <tr>\n",
       "      <th>max_attribute7</th>\n",
       "      <td>0.184157</td>\n",
       "    </tr>\n",
       "    <tr>\n",
       "      <th>max_attribute8</th>\n",
       "      <td>0.175560</td>\n",
       "    </tr>\n",
       "    <tr>\n",
       "      <th>mean_attribute7</th>\n",
       "      <td>0.163564</td>\n",
       "    </tr>\n",
       "    <tr>\n",
       "      <th>mean_attribute8</th>\n",
       "      <td>0.117988</td>\n",
       "    </tr>\n",
       "    <tr>\n",
       "      <th>max_attribute4</th>\n",
       "      <td>0.111517</td>\n",
       "    </tr>\n",
       "    <tr>\n",
       "      <th>max_attribute2</th>\n",
       "      <td>0.057986</td>\n",
       "    </tr>\n",
       "    <tr>\n",
       "      <th>mean_attribute2</th>\n",
       "      <td>0.047947</td>\n",
       "    </tr>\n",
       "    <tr>\n",
       "      <th>mean_attribute4</th>\n",
       "      <td>0.034400</td>\n",
       "    </tr>\n",
       "    <tr>\n",
       "      <th>mean_attribute5</th>\n",
       "      <td>0.022434</td>\n",
       "    </tr>\n",
       "    <tr>\n",
       "      <th>max_attribute1</th>\n",
       "      <td>0.020665</td>\n",
       "    </tr>\n",
       "    <tr>\n",
       "      <th>max_attribute5</th>\n",
       "      <td>0.017759</td>\n",
       "    </tr>\n",
       "    <tr>\n",
       "      <th>max_attribute6</th>\n",
       "      <td>0.014662</td>\n",
       "    </tr>\n",
       "    <tr>\n",
       "      <th>mean_attribute6</th>\n",
       "      <td>0.014360</td>\n",
       "    </tr>\n",
       "    <tr>\n",
       "      <th>mean_attribute1</th>\n",
       "      <td>0.009741</td>\n",
       "    </tr>\n",
       "    <tr>\n",
       "      <th>mean_attribute9</th>\n",
       "      <td>0.002859</td>\n",
       "    </tr>\n",
       "    <tr>\n",
       "      <th>max_attribute3</th>\n",
       "      <td>0.002757</td>\n",
       "    </tr>\n",
       "    <tr>\n",
       "      <th>max_attribute9</th>\n",
       "      <td>0.000938</td>\n",
       "    </tr>\n",
       "    <tr>\n",
       "      <th>mean_attribute3</th>\n",
       "      <td>0.000706</td>\n",
       "    </tr>\n",
       "  </tbody>\n",
       "</table>\n",
       "</div>"
      ],
      "text/plain": [
       "                 importance\n",
       "max_attribute7     0.184157\n",
       "max_attribute8     0.175560\n",
       "mean_attribute7    0.163564\n",
       "mean_attribute8    0.117988\n",
       "max_attribute4     0.111517\n",
       "max_attribute2     0.057986\n",
       "mean_attribute2    0.047947\n",
       "mean_attribute4    0.034400\n",
       "mean_attribute5    0.022434\n",
       "max_attribute1     0.020665\n",
       "max_attribute5     0.017759\n",
       "max_attribute6     0.014662\n",
       "mean_attribute6    0.014360\n",
       "mean_attribute1    0.009741\n",
       "mean_attribute9    0.002859\n",
       "max_attribute3     0.002757\n",
       "max_attribute9     0.000938\n",
       "mean_attribute3    0.000706"
      ]
     },
     "execution_count": 357,
     "metadata": {},
     "output_type": "execute_result"
    }
   ],
   "source": [
    "feature_imp = pd.DataFrame({\"importance\":model.feature_importances_}).set_index(feature_set.columns)\n",
    "feature_imp.sort_values(by=\"importance\",ascending=False)"
   ]
  },
  {
   "cell_type": "markdown",
   "metadata": {},
   "source": [
    "### Hyperparameter optimisation\n",
    "\n",
    "\n"
   ]
  },
  {
   "cell_type": "code",
   "execution_count": 358,
   "metadata": {
    "collapsed": false
   },
   "outputs": [],
   "source": [
    "# model : GradientBoostingClassifier, parameters: \n",
    "#loss : {‘deviance’, ‘exponential’},\n",
    "#learning_rate : float, optional (default=0.1)\n",
    "#n_estimators : int (default=100)\n",
    "#max_depth : integer, optional (default=3)\n",
    "#min_samples_split : int, float, optional (default=2)\n",
    "grids=dict()\n",
    "XDB_param_grid = {\n",
    "    #\"model__loss\":  [\"deviance\", 'exponential'],\n",
    "    \"model__learning_rate\" : [1e-3,0.01, 0.1],\n",
    "    \"model__n_estimators\" : [10, 50,75, 100, 250],\n",
    "    \"model__max_depth\" : [2,3,5,10],\n",
    "    \"model__min_samples_split\" : [2,5,10,20]\n",
    "}\n",
    "grids[GradientBoostingClassifier] = XDB_param_grid"
   ]
  },
  {
   "cell_type": "code",
   "execution_count": 373,
   "metadata": {
    "collapsed": false
   },
   "outputs": [],
   "source": [
    "# model : RandomForestClassifier, parameters: \n",
    "# n_estimators : int (default=100)\n",
    "# criterion : \"gini\",\"entropy\"\n",
    "# max_features : auto , fraction\n",
    "# max_depth : integer, optional (default=3)\n",
    "# min_samples_split : int, float, optional (default=2)\n",
    "\n",
    "RF_param_grid = {\n",
    "    \"model__criterion\":  [\"gini\", \"entropy\"],\n",
    "    \"model__n_estimators\" : [100,250],\n",
    "    #\"model__max_features\" : [\"auto\",0.5,0.25,0.1],\n",
    "    \"model__max_depth\" : [2,5,10],\n",
    "    \"model__min_samples_split\" : [2,10,20]\n",
    "}\n",
    "grids[RandomForestClassifier] = RF_param_grid"
   ]
  },
  {
   "cell_type": "code",
   "execution_count": 374,
   "metadata": {
    "collapsed": false
   },
   "outputs": [],
   "source": [
    "m  = type(dict(pipeline.steps)[\"model\"])\n",
    "param_grid=grids[m]"
   ]
  },
  {
   "cell_type": "code",
   "execution_count": 383,
   "metadata": {
    "collapsed": false
   },
   "outputs": [
    {
     "name": "stdout",
     "output_type": "stream",
     "text": [
      "Fitting 6 folds for each of 36 candidates, totalling 216 fits\n"
     ]
    },
    {
     "name": "stderr",
     "output_type": "stream",
     "text": [
      "[Parallel(n_jobs=-1)]: Done  34 tasks      | elapsed:    5.5s\n",
      "[Parallel(n_jobs=-1)]: Done 184 tasks      | elapsed:   33.2s\n",
      "[Parallel(n_jobs=-1)]: Done 216 out of 216 | elapsed:   40.9s finished\n"
     ]
    },
    {
     "name": "stdout",
     "output_type": "stream",
     "text": [
      "Best: 0.925514 using {'model__criterion': 'gini', 'model__max_depth': 5, 'model__min_samples_split': 10, 'model__n_estimators': 100}\n"
     ]
    }
   ],
   "source": [
    "from sklearn.model_selection import GridSearchCV\n",
    "from sklearn.model_selection import StratifiedKFold\n",
    "\n",
    "kfold = StratifiedKFold(n_splits=6, shuffle=True)\n",
    "grid_search = GridSearchCV(pipeline, param_grid, scoring=\"accuracy\", n_jobs=-1, verbose=1,cv=kfold)\n",
    "grid_result = grid_search.fit(feature_mat,label_mat)\n",
    "\n",
    "\n",
    "# summarize results\n",
    "print(\"Best: %f using %s\" % (grid_result.best_score_, grid_result.best_params_))\n",
    "means = grid_result.cv_results_['mean_test_score']\n",
    "stds = grid_result.cv_results_['std_test_score']\n",
    "params = grid_result.cv_results_['params']\n",
    "#for mean, stdev, param in zip(means, stds, params):\n",
    "#    print(\"%f (%f) with: %r\" % (mean, stdev, param))"
   ]
  },
  {
   "cell_type": "code",
   "execution_count": null,
   "metadata": {
    "collapsed": true
   },
   "outputs": [],
   "source": []
  }
 ],
 "metadata": {
  "kernelspec": {
   "display_name": "Python 2",
   "language": "python",
   "name": "python2"
  },
  "language_info": {
   "codemirror_mode": {
    "name": "ipython",
    "version": 2
   },
   "file_extension": ".py",
   "mimetype": "text/x-python",
   "name": "python",
   "nbconvert_exporter": "python",
   "pygments_lexer": "ipython2",
   "version": "2.7.12"
  }
 },
 "nbformat": 4,
 "nbformat_minor": 2
}
