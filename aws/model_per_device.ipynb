{
 "cells": [
  {
   "cell_type": "code",
   "execution_count": 218,
   "metadata": {
    "collapsed": true
   },
   "outputs": [],
   "source": [
    "import pandas as pd\n",
    "import numpy as np\n",
    "import calendar\n",
    "\n",
    "from bokeh.charts import output_notebook, Scatter, Bar, show, output_file, Line, BoxPlot, Scatter\n",
    "from bokeh.plotting import figure\n",
    "from bokeh.layouts import row, column, gridplot"
   ]
  },
  {
   "cell_type": "code",
   "execution_count": 219,
   "metadata": {
    "collapsed": false,
    "hide_input": true
   },
   "outputs": [
    {
     "data": {
      "text/html": [
       "\n",
       "    <div class=\"bk-root\">\n",
       "        <a href=\"http://bokeh.pydata.org\" target=\"_blank\" class=\"bk-logo bk-logo-small bk-logo-notebook\"></a>\n",
       "        <span id=\"c498a0de-61b4-4773-b71b-6b2ccf02d17c\">Loading BokehJS ...</span>\n",
       "    </div>"
      ]
     },
     "metadata": {},
     "output_type": "display_data"
    },
    {
     "data": {
      "application/javascript": [
       "\n",
       "(function(global) {\n",
       "  function now() {\n",
       "    return new Date();\n",
       "  }\n",
       "\n",
       "  var force = true;\n",
       "\n",
       "  if (typeof (window._bokeh_onload_callbacks) === \"undefined\" || force === true) {\n",
       "    window._bokeh_onload_callbacks = [];\n",
       "    window._bokeh_is_loading = undefined;\n",
       "  }\n",
       "\n",
       "\n",
       "  \n",
       "  if (typeof (window._bokeh_timeout) === \"undefined\" || force === true) {\n",
       "    window._bokeh_timeout = Date.now() + 5000;\n",
       "    window._bokeh_failed_load = false;\n",
       "  }\n",
       "\n",
       "  var NB_LOAD_WARNING = {'data': {'text/html':\n",
       "     \"<div style='background-color: #fdd'>\\n\"+\n",
       "     \"<p>\\n\"+\n",
       "     \"BokehJS does not appear to have successfully loaded. If loading BokehJS from CDN, this \\n\"+\n",
       "     \"may be due to a slow or bad network connection. Possible fixes:\\n\"+\n",
       "     \"</p>\\n\"+\n",
       "     \"<ul>\\n\"+\n",
       "     \"<li>re-rerun `output_notebook()` to attempt to load from CDN again, or</li>\\n\"+\n",
       "     \"<li>use INLINE resources instead, as so:</li>\\n\"+\n",
       "     \"</ul>\\n\"+\n",
       "     \"<code>\\n\"+\n",
       "     \"from bokeh.resources import INLINE\\n\"+\n",
       "     \"output_notebook(resources=INLINE)\\n\"+\n",
       "     \"</code>\\n\"+\n",
       "     \"</div>\"}};\n",
       "\n",
       "  function display_loaded() {\n",
       "    if (window.Bokeh !== undefined) {\n",
       "      document.getElementById(\"c498a0de-61b4-4773-b71b-6b2ccf02d17c\").textContent = \"BokehJS successfully loaded.\";\n",
       "    } else if (Date.now() < window._bokeh_timeout) {\n",
       "      setTimeout(display_loaded, 100)\n",
       "    }\n",
       "  }\n",
       "\n",
       "  function run_callbacks() {\n",
       "    window._bokeh_onload_callbacks.forEach(function(callback) { callback() });\n",
       "    delete window._bokeh_onload_callbacks\n",
       "    console.info(\"Bokeh: all callbacks have finished\");\n",
       "  }\n",
       "\n",
       "  function load_libs(js_urls, callback) {\n",
       "    window._bokeh_onload_callbacks.push(callback);\n",
       "    if (window._bokeh_is_loading > 0) {\n",
       "      console.log(\"Bokeh: BokehJS is being loaded, scheduling callback at\", now());\n",
       "      return null;\n",
       "    }\n",
       "    if (js_urls == null || js_urls.length === 0) {\n",
       "      run_callbacks();\n",
       "      return null;\n",
       "    }\n",
       "    console.log(\"Bokeh: BokehJS not loaded, scheduling load and callback at\", now());\n",
       "    window._bokeh_is_loading = js_urls.length;\n",
       "    for (var i = 0; i < js_urls.length; i++) {\n",
       "      var url = js_urls[i];\n",
       "      var s = document.createElement('script');\n",
       "      s.src = url;\n",
       "      s.async = false;\n",
       "      s.onreadystatechange = s.onload = function() {\n",
       "        window._bokeh_is_loading--;\n",
       "        if (window._bokeh_is_loading === 0) {\n",
       "          console.log(\"Bokeh: all BokehJS libraries loaded\");\n",
       "          run_callbacks()\n",
       "        }\n",
       "      };\n",
       "      s.onerror = function() {\n",
       "        console.warn(\"failed to load library \" + url);\n",
       "      };\n",
       "      console.log(\"Bokeh: injecting script tag for BokehJS library: \", url);\n",
       "      document.getElementsByTagName(\"head\")[0].appendChild(s);\n",
       "    }\n",
       "  };var element = document.getElementById(\"c498a0de-61b4-4773-b71b-6b2ccf02d17c\");\n",
       "  if (element == null) {\n",
       "    console.log(\"Bokeh: ERROR: autoload.js configured with elementid 'c498a0de-61b4-4773-b71b-6b2ccf02d17c' but no matching script tag was found. \")\n",
       "    return false;\n",
       "  }\n",
       "\n",
       "  var js_urls = [\"https://cdn.pydata.org/bokeh/release/bokeh-0.12.4.min.js\", \"https://cdn.pydata.org/bokeh/release/bokeh-widgets-0.12.4.min.js\"];\n",
       "\n",
       "  var inline_js = [\n",
       "    function(Bokeh) {\n",
       "      Bokeh.set_log_level(\"info\");\n",
       "    },\n",
       "    \n",
       "    function(Bokeh) {\n",
       "      \n",
       "      document.getElementById(\"c498a0de-61b4-4773-b71b-6b2ccf02d17c\").textContent = \"BokehJS is loading...\";\n",
       "    },\n",
       "    function(Bokeh) {\n",
       "      console.log(\"Bokeh: injecting CSS: https://cdn.pydata.org/bokeh/release/bokeh-0.12.4.min.css\");\n",
       "      Bokeh.embed.inject_css(\"https://cdn.pydata.org/bokeh/release/bokeh-0.12.4.min.css\");\n",
       "      console.log(\"Bokeh: injecting CSS: https://cdn.pydata.org/bokeh/release/bokeh-widgets-0.12.4.min.css\");\n",
       "      Bokeh.embed.inject_css(\"https://cdn.pydata.org/bokeh/release/bokeh-widgets-0.12.4.min.css\");\n",
       "    }\n",
       "  ];\n",
       "\n",
       "  function run_inline_js() {\n",
       "    \n",
       "    if ((window.Bokeh !== undefined) || (force === true)) {\n",
       "      for (var i = 0; i < inline_js.length; i++) {\n",
       "        inline_js[i](window.Bokeh);\n",
       "      }if (force === true) {\n",
       "        display_loaded();\n",
       "      }} else if (Date.now() < window._bokeh_timeout) {\n",
       "      setTimeout(run_inline_js, 100);\n",
       "    } else if (!window._bokeh_failed_load) {\n",
       "      console.log(\"Bokeh: BokehJS failed to load within specified timeout.\");\n",
       "      window._bokeh_failed_load = true;\n",
       "    } else if (force !== true) {\n",
       "      var cell = $(document.getElementById(\"c498a0de-61b4-4773-b71b-6b2ccf02d17c\")).parents('.cell').data().cell;\n",
       "      cell.output_area.append_execute_result(NB_LOAD_WARNING)\n",
       "    }\n",
       "\n",
       "  }\n",
       "\n",
       "  if (window._bokeh_is_loading === 0) {\n",
       "    console.log(\"Bokeh: BokehJS loaded, going straight to plotting\");\n",
       "    run_inline_js();\n",
       "  } else {\n",
       "    load_libs(js_urls, function() {\n",
       "      console.log(\"Bokeh: BokehJS plotting callback run at\", now());\n",
       "      run_inline_js();\n",
       "    });\n",
       "  }\n",
       "}(this));"
      ]
     },
     "metadata": {},
     "output_type": "display_data"
    }
   ],
   "source": [
    "import pandas as pd\n",
    "import numpy as np\n",
    "import calendar\n",
    "from bokeh.charts import output_notebook, Scatter, Bar, show, output_file, Line, BoxPlot, Scatter\n",
    "from bokeh.plotting import figure\n",
    "from bokeh.layouts import column, row\n",
    "from bokeh.io import hplot\n",
    "output_notebook() "
   ]
  },
  {
   "cell_type": "code",
   "execution_count": 220,
   "metadata": {
    "collapsed": false
   },
   "outputs": [],
   "source": [
    "INPUT=\"data/device_failure.csv\" \n",
    "dataset = pd.read_csv(INPUT,index_col=[0,1],parse_dates=[0])"
   ]
  },
  {
   "cell_type": "markdown",
   "metadata": {},
   "source": [
    "## per device model\n",
    "\n",
    " - Set up first model\n",
    " - Precision/recall, ROC\n",
    " - Calibration\n",
    " - PCA ?\n",
    " - feature engineering\n",
    " - data cleaning\n",
    " - Test other models"
   ]
  },
  {
   "cell_type": "markdown",
   "metadata": {},
   "source": [
    "## Build Training set"
   ]
  },
  {
   "cell_type": "code",
   "execution_count": 221,
   "metadata": {
    "collapsed": false
   },
   "outputs": [],
   "source": [
    "suspicious_positives = set([\"S1F0GPFZ\", \"S1F136J0\", \"W1F0KCP2\", \"W1F0M35B\", \"W1F11ZG9\"])\n",
    "def filter_devices(df):\n",
    "    return df.filter(axis=\"index\",items=(set(df.index) - suspicious_positives)) \n",
    "# feature preprocessing\n",
    "def build_deriv(df,c,n=1):\n",
    "    def per_device(per_device):\n",
    "        clean_index = per_device.reset_index(level=1,drop=True)\n",
    "        resampled=clean_index.resample('1D',\"pad\")\n",
    "        \n",
    "        raw_diff = np.diff(resampled,n=n)\n",
    "        #fill the series start with zeros\n",
    "        while (len(raw_diff) < len(resampled)):\n",
    "            raw_diff = np.insert(raw_diff,0,0)\n",
    "        d = pd.Series(data=raw_diff,index = resampled.index )\n",
    "        #print d\n",
    "        return d.dropna()[d>0]\n",
    "    some_d= df[c].groupby(level=\"device\").apply(per_device)\n",
    "    return some_d.swaplevel()\n",
    "\n",
    "def pre_filter(df):\n",
    "    res = df.copy()\n",
    "    del res[\"attribute1\"]\n",
    "    #del res[\"attribute2\"]\n",
    "    dt_list = [\"attribute2\"]\n",
    "    for c in dt_list:\n",
    "         deriv = build_deriv(res,c)\n",
    "         res[\"dt_%s\" % c] = deriv\n",
    "         res[\"dt2_%s\" % c] =  build_deriv(res,c,2)\n",
    "    return res.fillna(0)\n",
    "\n",
    "def post_filter(df):\n",
    "    res = df.copy()\n",
    "    res = filter_devices(res)\n",
    "    for col in res.columns:\n",
    "        if \"min\" in col:\n",
    "            del res[col]\n",
    "        if \"std\" in col:\n",
    "            del res[col]\n",
    "    return res"
   ]
  },
  {
   "cell_type": "code",
   "execution_count": 222,
   "metadata": {
    "collapsed": false
   },
   "outputs": [
    {
     "name": "stderr",
     "output_type": "stream",
     "text": [
      "/home/avignon/.local/lib/python2.7/site-packages/ipykernel/__main__.py:8: FutureWarning: how in .resample() is deprecated\n",
      "the new syntax is .resample(...).pad()\n"
     ]
    }
   ],
   "source": [
    "pre_dataset = pre_filter(dataset)\n",
    "#print feature_set.columns\n",
    "\n",
    "features = [f for f in pre_dataset.columns if \"att\" in f]\n",
    "def f_to_dict(feature):\n",
    "    return {\n",
    "            \"min_%s\" % feature:np.min,\n",
    "            \"max_%s\" % feature:np.max,\n",
    "            \"mean_%s\" % feature :np.mean,\n",
    "            \"std_%s\" % feature:np.std\n",
    "        }\n",
    "\n",
    "agg_dict = dict( (f,f_to_dict(f)) for f in features )\n",
    "#print agg_dict\n",
    "\n",
    "feature_set = pre_dataset.groupby(level=\"device\").agg(agg_dict)\n",
    "feature_set.columns = feature_set.columns.droplevel()\n",
    "feature_set = post_filter(feature_set)\n",
    "label_set =  dataset[[\"failure\"]].groupby(level=\"device\").sum()\n",
    "label_set = filter_devices(label_set)\n",
    "feature_mat = feature_set.to_sparse().as_matrix()\n",
    "label_mat = label_set.as_matrix().ravel()"
   ]
  },
  {
   "cell_type": "markdown",
   "metadata": {},
   "source": [
    "## Run model"
   ]
  },
  {
   "cell_type": "code",
   "execution_count": 231,
   "metadata": {
    "collapsed": false
   },
   "outputs": [
    {
     "name": "stdout",
     "output_type": "stream",
     "text": [
      "using last optimized model\n",
      "accurracy: 0.929489, std(0.00800218))\n"
     ]
    },
    {
     "name": "stderr",
     "output_type": "stream",
     "text": [
      "[Parallel(n_jobs=6)]: Done   3 out of   3 | elapsed:    0.3s finished\n"
     ]
    }
   ],
   "source": [
    "from sklearn.model_selection import cross_val_score\n",
    "from sklearn.ensemble import GradientBoostingClassifier, RandomForestClassifier\n",
    "from sklearn.pipeline import Pipeline\n",
    "from sklearn.metrics import roc_curve, auc\n",
    "\n",
    "#model = GradientBoostingClassifier()\n",
    "model = RandomForestClassifier()\n",
    "pipeline= Pipeline([(\"model\",model)])\n",
    "try:\n",
    "    # use best parameters if available\n",
    "    #\n",
    "    pipeline.set_params(**grid_result.best_params_)\n",
    "    print \"using last optimized model\"\n",
    "except:\n",
    "    print \"no optim result, or bad ones: let's keep the default ones\"\n",
    "    pass\n",
    "scores = cross_val_score(pipeline, feature_mat, label_mat,cv=3,verbose=1,scoring=\"accuracy\",n_jobs=6)                          \n",
    "print \"accurracy: %g, std(%g))\" % (scores.mean(), scores.std())"
   ]
  },
  {
   "cell_type": "code",
   "execution_count": 215,
   "metadata": {
    "collapsed": true
   },
   "outputs": [
    {
     "data": {
      "text/plain": [
       "{'model': RandomForestClassifier(bootstrap=True, class_weight=None, criterion='gini',\n",
       "             max_depth=None, max_features='auto', max_leaf_nodes=None,\n",
       "             min_impurity_split=1e-07, min_samples_leaf=1,\n",
       "             min_samples_split=2, min_weight_fraction_leaf=0.0,\n",
       "             n_estimators=10, n_jobs=1, oob_score=False, random_state=None,\n",
       "             verbose=0, warm_start=False),\n",
       " 'model__bootstrap': True,\n",
       " 'model__class_weight': None,\n",
       " 'model__criterion': 'gini',\n",
       " 'model__max_depth': None,\n",
       " 'model__max_features': 'auto',\n",
       " 'model__max_leaf_nodes': None,\n",
       " 'model__min_impurity_split': 1e-07,\n",
       " 'model__min_samples_leaf': 1,\n",
       " 'model__min_samples_split': 2,\n",
       " 'model__min_weight_fraction_leaf': 0.0,\n",
       " 'model__n_estimators': 10,\n",
       " 'model__n_jobs': 1,\n",
       " 'model__oob_score': False,\n",
       " 'model__random_state': None,\n",
       " 'model__verbose': 0,\n",
       " 'model__warm_start': False,\n",
       " 'steps': [('model',\n",
       "   RandomForestClassifier(bootstrap=True, class_weight=None, criterion='gini',\n",
       "               max_depth=None, max_features='auto', max_leaf_nodes=None,\n",
       "               min_impurity_split=1e-07, min_samples_leaf=1,\n",
       "               min_samples_split=2, min_weight_fraction_leaf=0.0,\n",
       "               n_estimators=10, n_jobs=1, oob_score=False, random_state=None,\n",
       "               verbose=0, warm_start=False))]}"
      ]
     },
     "execution_count": 215,
     "metadata": {},
     "output_type": "execute_result"
    }
   ],
   "source": [
    "pipeline.get_params()"
   ]
  },
  {
   "cell_type": "markdown",
   "metadata": {},
   "source": [
    "### Eval Model"
   ]
  },
  {
   "cell_type": "code",
   "execution_count": 232,
   "metadata": {
    "collapsed": false,
    "hide_input": false
   },
   "outputs": [],
   "source": [
    "from sklearn.model_selection import train_test_split\n",
    "from sklearn.metrics import roc_curve, accuracy_score,precision_recall_curve, auc\n",
    "\n",
    "X_train, X_test, Y_train, Y_test = train_test_split(feature_mat,label_mat,test_size=0.3)\n",
    "# calculate the fpr and tpr for all thresholds of the classification\n",
    "\n",
    "fitted = pipeline.fit(X_train,Y_train)\n",
    "probs = fitted.predict_proba(X_test)\n",
    "preds = probs[:,1]\n",
    "preds_train = fitted.predict_proba(X_train)[:,1]\n",
    "fpr, tpr, threshold = roc_curve(Y_test, preds)\n",
    "fpr_train, tpr_train, threshold_train = roc_curve(Y_train, preds_train)\n",
    "roc_auc = auc(fpr, tpr)\n",
    "roc_auc_train = auc(fpr_train, tpr_train)\n",
    "precision, recall, ths = precision_recall_curve(Y_test, preds)\n",
    "precision_train, recall_train, ths_train = precision_recall_curve(Y_train, preds_train)"
   ]
  },
  {
   "cell_type": "code",
   "execution_count": 233,
   "metadata": {
    "collapsed": false
   },
   "outputs": [
    {
     "data": {
      "text/html": [
       "\n",
       "\n",
       "    <div class=\"bk-root\">\n",
       "        <div class=\"bk-plotdiv\" id=\"567968be-dd1c-44e5-bdc1-e1fd0938d768\"></div>\n",
       "    </div>\n",
       "<script type=\"text/javascript\">\n",
       "  \n",
       "  (function(global) {\n",
       "    function now() {\n",
       "      return new Date();\n",
       "    }\n",
       "  \n",
       "    var force = false;\n",
       "  \n",
       "    if (typeof (window._bokeh_onload_callbacks) === \"undefined\" || force === true) {\n",
       "      window._bokeh_onload_callbacks = [];\n",
       "      window._bokeh_is_loading = undefined;\n",
       "    }\n",
       "  \n",
       "  \n",
       "    \n",
       "    if (typeof (window._bokeh_timeout) === \"undefined\" || force === true) {\n",
       "      window._bokeh_timeout = Date.now() + 0;\n",
       "      window._bokeh_failed_load = false;\n",
       "    }\n",
       "  \n",
       "    var NB_LOAD_WARNING = {'data': {'text/html':\n",
       "       \"<div style='background-color: #fdd'>\\n\"+\n",
       "       \"<p>\\n\"+\n",
       "       \"BokehJS does not appear to have successfully loaded. If loading BokehJS from CDN, this \\n\"+\n",
       "       \"may be due to a slow or bad network connection. Possible fixes:\\n\"+\n",
       "       \"</p>\\n\"+\n",
       "       \"<ul>\\n\"+\n",
       "       \"<li>re-rerun `output_notebook()` to attempt to load from CDN again, or</li>\\n\"+\n",
       "       \"<li>use INLINE resources instead, as so:</li>\\n\"+\n",
       "       \"</ul>\\n\"+\n",
       "       \"<code>\\n\"+\n",
       "       \"from bokeh.resources import INLINE\\n\"+\n",
       "       \"output_notebook(resources=INLINE)\\n\"+\n",
       "       \"</code>\\n\"+\n",
       "       \"</div>\"}};\n",
       "  \n",
       "    function display_loaded() {\n",
       "      if (window.Bokeh !== undefined) {\n",
       "        document.getElementById(\"567968be-dd1c-44e5-bdc1-e1fd0938d768\").textContent = \"BokehJS successfully loaded.\";\n",
       "      } else if (Date.now() < window._bokeh_timeout) {\n",
       "        setTimeout(display_loaded, 100)\n",
       "      }\n",
       "    }\n",
       "  \n",
       "    function run_callbacks() {\n",
       "      window._bokeh_onload_callbacks.forEach(function(callback) { callback() });\n",
       "      delete window._bokeh_onload_callbacks\n",
       "      console.info(\"Bokeh: all callbacks have finished\");\n",
       "    }\n",
       "  \n",
       "    function load_libs(js_urls, callback) {\n",
       "      window._bokeh_onload_callbacks.push(callback);\n",
       "      if (window._bokeh_is_loading > 0) {\n",
       "        console.log(\"Bokeh: BokehJS is being loaded, scheduling callback at\", now());\n",
       "        return null;\n",
       "      }\n",
       "      if (js_urls == null || js_urls.length === 0) {\n",
       "        run_callbacks();\n",
       "        return null;\n",
       "      }\n",
       "      console.log(\"Bokeh: BokehJS not loaded, scheduling load and callback at\", now());\n",
       "      window._bokeh_is_loading = js_urls.length;\n",
       "      for (var i = 0; i < js_urls.length; i++) {\n",
       "        var url = js_urls[i];\n",
       "        var s = document.createElement('script');\n",
       "        s.src = url;\n",
       "        s.async = false;\n",
       "        s.onreadystatechange = s.onload = function() {\n",
       "          window._bokeh_is_loading--;\n",
       "          if (window._bokeh_is_loading === 0) {\n",
       "            console.log(\"Bokeh: all BokehJS libraries loaded\");\n",
       "            run_callbacks()\n",
       "          }\n",
       "        };\n",
       "        s.onerror = function() {\n",
       "          console.warn(\"failed to load library \" + url);\n",
       "        };\n",
       "        console.log(\"Bokeh: injecting script tag for BokehJS library: \", url);\n",
       "        document.getElementsByTagName(\"head\")[0].appendChild(s);\n",
       "      }\n",
       "    };var element = document.getElementById(\"567968be-dd1c-44e5-bdc1-e1fd0938d768\");\n",
       "    if (element == null) {\n",
       "      console.log(\"Bokeh: ERROR: autoload.js configured with elementid '567968be-dd1c-44e5-bdc1-e1fd0938d768' but no matching script tag was found. \")\n",
       "      return false;\n",
       "    }\n",
       "  \n",
       "    var js_urls = [];\n",
       "  \n",
       "    var inline_js = [\n",
       "      function(Bokeh) {\n",
       "        (function() {\n",
       "          var fn = function() {\n",
       "            var docs_json = {\"cf38f6d2-9d76-4edd-89c9-2f3f3dde7a83\":{\"roots\":{\"references\":[{\"attributes\":{\"items\":[{\"id\":\"3236fdee-cca8-4831-a395-41cb2bf60123\",\"type\":\"LegendItem\"},{\"id\":\"3551b0ac-7b91-46f4-9432-60df4fe88a56\",\"type\":\"LegendItem\"}],\"plot\":{\"id\":\"3c2d3b58-8e89-4723-acc0-29b1de14d688\",\"subtype\":\"Figure\",\"type\":\"Plot\"}},\"id\":\"7f5aa7ad-a560-49d7-a878-3281601e7315\",\"type\":\"Legend\"},{\"attributes\":{\"bottom_units\":\"screen\",\"fill_alpha\":{\"value\":0.5},\"fill_color\":{\"value\":\"lightgrey\"},\"left_units\":\"screen\",\"level\":\"overlay\",\"line_alpha\":{\"value\":1.0},\"line_color\":{\"value\":\"black\"},\"line_dash\":[4,4],\"line_width\":{\"value\":2},\"plot\":null,\"render_mode\":\"css\",\"right_units\":\"screen\",\"top_units\":\"screen\"},\"id\":\"692295fb-8e19-4830-a861-6b65e28fe8e7\",\"type\":\"BoxAnnotation\"},{\"attributes\":{},\"id\":\"e81f697d-901b-44a4-a380-5622828852ff\",\"type\":\"BasicTickFormatter\"},{\"attributes\":{\"callback\":null,\"column_names\":[\"x\",\"y\"],\"data\":{\"x\":{\"__ndarray__\":\"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\",\"dtype\":\"float64\",\"shape\":[218]},\"y\":{\"__ndarray__\":\"vmNqYO+Yij/lJ8RZ+QnhP+UnxFn5CeE/sHdMDewd4z+wd0wN7B3jPz8hzspPiOM/PyHOyk+I4z/Oyk+Is/LjP87KT4iz8uM/7B1TA3vH5D/sHVMDe8fkP3vH1MDeMeU/e8fUwN4x5T8KcVZ+QpzlPwpxVn5CnOU/KMRZ+Qlx5j8oxFn5CXHmP7dt27Zt2+Y/t23btm3b5j9kamDvmBroP2RqYO+YGug/8xPirPyE6D/zE+Ks/IToP4K9Y2pg7+g/gr1jamDv6D8RZ+UnxFnpPxFn5SfEWek/oBBn5SfE6T+gEGflJ8TpP75jamDvmOo/vmNqYO+Y6j9MDewdUwPrP0wN7B1TA+s/27Zt27Zt6z/btm3btm3rP9u2bdu2bes/27Zt27Zt6z9qYO+YGtjrP2pg75ga2Os/amDvmBrY6z/5CXFWfkLsP/kJcVZ+Quw/iLPyE+Ks7D+Is/IT4qzsPxdddNFFF+0/F1100UUX7T8XXXTRRRftPxdddNFFF+0/pgb2jqmB7T+mBvaOqYHtP6YG9o6pge0/pgb2jqmB7T+mBvaOqYHtPzWwd0wN7O0/NbB3TA3s7T81sHdMDeztP8RZ+QlxVu4/xFn5CXFW7j9TA3vH1MDuP1MDe8fUwO4/UwN7x9TA7j9TA3vH1MDuP1MDe8fUwO4/UwN7x9TA7j9TA3vH1MDuP1MDe8fUwO4/UwN7x9TA7j/irPyEOCvvP+Ks/IQ4K+8/4qz8hDgr7z/irPyEOCvvP+Ks/IQ4K+8/4qz8hDgr7z/irPyEOCvvP+Ks/IQ4K+8/4qz8hDgr7z/irPyEOCvvP+Ks/IQ4K+8/4qz8hDgr7z/irPyEOCvvP+Ks/IQ4K+8/4qz8hDgr7z/irPyEOCvvP+Ks/IQ4K+8/4qz8hDgr7z/irPyEOCvvP+Ks/IQ4K+8/4qz8hDgr7z9xVn5CnJXvP3FWfkKcle8/cVZ+QpyV7z9xVn5CnJXvP3FWfkKcle8/cVZ+QpyV7z9xVn5CnJXvP3FWfkKcle8/cVZ+QpyV7z9xVn5CnJXvP3FWfkKcle8/cVZ+QpyV7z9xVn5CnJXvP3FWfkKcle8/cVZ+QpyV7z9xVn5CnJXvP3FWfkKcle8/cVZ+QpyV7z9xVn5CnJXvP3FWfkKcle8/cVZ+QpyV7z9xVn5CnJXvP3FWfkKcle8/cVZ+QpyV7z9xVn5CnJXvP3FWfkKcle8/cVZ+QpyV7z9xVn5CnJXvP3FWfkKcle8/cVZ+QpyV7z9xVn5CnJXvP3FWfkKcle8/cVZ+QpyV7z9xVn5CnJXvP3FWfkKcle8/cVZ+QpyV7z9xVn5CnJXvP3FWfkKcle8/cVZ+QpyV7z9xVn5CnJXvP3FWfkKcle8/cVZ+QpyV7z9xVn5CnJXvP3FWfkKcle8/cVZ+QpyV7z9xVn5CnJXvP3FWfkKcle8/cVZ+QpyV7z8AAAAAAADwPwAAAAAAAPA/AAAAAAAA8D8AAAAAAADwPwAAAAAAAPA/AAAAAAAA8D8AAAAAAADwPwAAAAAAAPA/AAAAAAAA8D8AAAAAAADwPwAAAAAAAPA/AAAAAAAA8D8AAAAAAADwPwAAAAAAAPA/AAAAAAAA8D8AAAAAAADwPwAAAAAAAPA/AAAAAAAA8D8AAAAAAADwPwAAAAAAAPA/AAAAAAAA8D8AAAAAAADwPwAAAAAAAPA/AAAAAAAA8D8AAAAAAADwPwAAAAAAAPA/AAAAAAAA8D8AAAAAAADwPwAAAAAAAPA/AAAAAAAA8D8AAAAAAADwPwAAAAAAAPA/AAAAAAAA8D8AAAAAAADwPwAAAAAAAPA/AAAAAAAA8D8AAAAAAADwPwAAAAAAAPA/AAAAAAAA8D8AAAAAAADwPwAAAAAAAPA/AAAAAAAA8D8AAAAAAADwPwAAAAAAAPA/AAAAAAAA8D8AAAAAAADwPwAAAAAAAPA/AAAAAAAA8D8AAAAAAADwPwAAAAAAAPA/AAAAAAAA8D8AAAAAAADwPwAAAAAAAPA/AAAAAAAA8D8AAAAAAADwPwAAAAAAAPA/AAAAAAAA8D8AAAAAAADwPwAAAAAAAPA/AAAAAAAA8D8AAAAAAADwPwAAAAAAAPA/AAAAAAAA8D8AAAAAAADwPwAAAAAAAPA/AAAAAAAA8D8AAAAAAADwPwAAAAAAAPA/AAAAAAAA8D8AAAAAAADwPwAAAAAAAPA/AAAAAAAA8D8AAAAAAADwPwAAAAAAAPA/AAAAAAAA8D8AAAAAAADwPwAAAAAAAPA/AAAAAAAA8D8AAAAAAADwPwAAAAAAAPA/AAAAAAAA8D8AAAAAAADwPw==\",\"dtype\":\"float64\",\"shape\":[218]}}},\"id\":\"7080ccf2-cc5e-4b8f-b0bf-cedd96bebd81\",\"type\":\"ColumnDataSource\"},{\"attributes\":{\"axis_label\":\"recall\",\"formatter\":{\"id\":\"e81f697d-901b-44a4-a380-5622828852ff\",\"type\":\"BasicTickFormatter\"},\"plot\":{\"id\":\"23620048-8c13-42d9-80f3-16953d1fcb3a\",\"subtype\":\"Figure\",\"type\":\"Plot\"},\"ticker\":{\"id\":\"f2163048-2bed-424b-9b0c-2c20dac7907d\",\"type\":\"BasicTicker\"}},\"id\":\"6d5e3703-d04a-442e-8d89-67124dfc6945\",\"type\":\"LinearAxis\"},{\"attributes\":{\"axis_label\":\"fpr\",\"formatter\":{\"id\":\"0debf91f-704c-4fcc-a3fb-7f3f9b0f608d\",\"type\":\"BasicTickFormatter\"},\"plot\":{\"id\":\"3c2d3b58-8e89-4723-acc0-29b1de14d688\",\"subtype\":\"Figure\",\"type\":\"Plot\"},\"ticker\":{\"id\":\"ec231458-009b-40b6-bd78-b89fa7e2e836\",\"type\":\"BasicTicker\"}},\"id\":\"72acd7b0-a00a-47c1-a48e-978a23482f81\",\"type\":\"LinearAxis\"},{\"attributes\":{\"overlay\":{\"id\":\"692295fb-8e19-4830-a861-6b65e28fe8e7\",\"type\":\"BoxAnnotation\"},\"plot\":{\"id\":\"23620048-8c13-42d9-80f3-16953d1fcb3a\",\"subtype\":\"Figure\",\"type\":\"Plot\"}},\"id\":\"326bf956-7f2d-4b1f-9e77-a1c268db479e\",\"type\":\"BoxZoomTool\"},{\"attributes\":{\"fill_color\":{\"value\":\"#1f77b4\"},\"line_color\":{\"value\":\"#1f77b4\"},\"size\":{\"units\":\"screen\",\"value\":5},\"x\":{\"field\":\"x\"},\"y\":{\"field\":\"y\"}},\"id\":\"dd8d9051-b0ee-4b58-8f79-934cde4600f6\",\"type\":\"Cross\"},{\"attributes\":{\"active_drag\":\"auto\",\"active_scroll\":\"auto\",\"active_tap\":\"auto\",\"tools\":[{\"id\":\"e94bb9b7-3aed-4983-bc80-758faf1b357c\",\"type\":\"PanTool\"},{\"id\":\"033018a6-e6c7-4d1a-b7a3-87a401885624\",\"type\":\"WheelZoomTool\"},{\"id\":\"326bf956-7f2d-4b1f-9e77-a1c268db479e\",\"type\":\"BoxZoomTool\"},{\"id\":\"1c378430-6617-4cf7-91db-a9b527f84c12\",\"type\":\"SaveTool\"},{\"id\":\"5b608af9-74bf-4c0e-aebc-b14806101d5f\",\"type\":\"ResetTool\"},{\"id\":\"8ab43401-ea10-46a1-af5a-b52a5d09ec93\",\"type\":\"HelpTool\"}]},\"id\":\"ae535b0c-017e-48b9-a6df-66644be37617\",\"type\":\"Toolbar\"},{\"attributes\":{\"line_color\":{\"value\":\"red\"},\"x\":{\"field\":\"x\"},\"y\":{\"field\":\"y\"}},\"id\":\"45302b3e-3102-4878-ab9a-6de17491ffa4\",\"type\":\"Line\"},{\"attributes\":{\"data_source\":{\"id\":\"0256e2b8-38a5-4da3-b271-a22124a9f46b\",\"type\":\"ColumnDataSource\"},\"glyph\":{\"id\":\"83626c62-6c62-42e9-9db0-4599ce7bc729\",\"type\":\"Circle\"},\"hover_glyph\":null,\"nonselection_glyph\":{\"id\":\"b19fcf49-5b81-41de-8157-52ada17fd5c9\",\"type\":\"Circle\"},\"selection_glyph\":null},\"id\":\"5b82a96a-a0bc-4063-8de1-23939f1838c5\",\"type\":\"GlyphRenderer\"},{\"attributes\":{\"data_source\":{\"id\":\"778339cd-a3db-48f6-91c8-90c162983224\",\"type\":\"ColumnDataSource\"},\"glyph\":{\"id\":\"92b32219-0722-4689-a916-3efcb83399ce\",\"type\":\"Line\"},\"hover_glyph\":null,\"nonselection_glyph\":{\"id\":\"3bca87fc-0f22-44d2-923a-ac914c13cfd4\",\"type\":\"Line\"},\"selection_glyph\":null},\"id\":\"a9e27e2c-0357-4c3a-b3d6-13a4e34e02db\",\"type\":\"GlyphRenderer\"},{\"attributes\":{\"callback\":null,\"column_names\":[\"y\",\"x\"],\"data\":{\"x\":{\"__ndarray__\":\"AAAAAAAAAADmLJt/xjRpP+Ysm3/GNGk/rWG035Tngj+tYbTflOeCP+Ysm3/GNIk/5iybf8Y0iT+tYbTflOeSP61htN+U55I/Scenry0Olj9Jx6evLQ6WP+Ysm3/GNJk/5iybf8Y0mT/errp3SFShP96uundIVKE/RYi3q+4dsj9FiLer7h2yP7CgpOPT17Y/sKCk49PXtj/qa4uDBSW9P+pri4MFJb0/HLmRG7mRyz8cuZEbuZHLP7gehetRuM4/IPiBH/iBzz931b1DoorQP4R4u+reIdE/OOW5BLKG0T845bkEsobRP5IbuZEbudE/+fS1xcGC0j97FK5H4XrUP3sUrkfhetQ/75CoIsTb1T+j/aY8l0DWP7CgpOPT19Y/ZA2j/aY81z/L5p8xTQbYP39Tnksga9g/2Ymd2Imd2D+M9pvyXALZP0BjmgwwZ9k/88+YJgPM2T9NBpizbP7ZPwFzls0/Y9o/DhaUdHz62j9oTJMB5izbPylcj8L1KNw/3ciN3MiN3D+QNYz2m/LcP+pri4MFJd0/BbKG0X5T3j/GwYKSjk/fP8NovynPJeA/HZ++tjhY4D+kcD0K16PgP/6mPJdA1uA/sRM7sRM74T/MWTb/jGniPyaQNYz2m+I/Uyu1Uiu14j+tYbTflOfiP9n8M6bJAOM/MzMzMzMz4z+NaTLAnGXjP21xsKCk4+M/x6evLQ4W5D/0Qi/0Qi/kP055LoGsYeQ/LoGsYbTf5D+It6vuHRLlP7VSK7VSK+U/llqplVqp5T8K16NwPQrnP2QNo/2mPOc/694hUUWI5z9xsKCk49PnP+Ysm3/GNOk/QGOaDDBn6T9AY5oMMGfpP5qZmZmZmek/xjQZYM6y6T+nPJdA1jDqP1uplVqpleo/h0QVId6u6j+V5xLIGkbrP+8dElWEeOs/SFQR4u2q6z9175CoIsTrP88lkDWM9us/KVyPwvUo7D/dyI3cyI3sPwlkDaP9puw/kDWM9pvy7D+90Au90AvtP57YiZ3Yie0/9w6JKkK87T9RRYi3q+7tP9gWBwtKOu4/BbKG0X5T7j+LgwUlHZ/uP+W5BLKG0e4/bIuDBSUd7z95LoGsYbTvPwAAAAAAAPA/\",\"dtype\":\"float64\",\"shape\":[105]},\"y\":{\"__ndarray__\":\"AAAAAAAAAAAAAAAAAAAAAFVVVVVVVaU/VVVVVVVVpT8AAAAAAADAPwAAAAAAAMA/VVVVVVVV1T9VVVVVVVXVPwAAAAAAANg/AAAAAAAA2D+rqqqqqqraP6uqqqqqqto/VVVVVVVV3T9VVVVVVVXdP6uqqqqqquI/q6qqqqqq4j8AAAAAAADkPwAAAAAAAOQ/VVVVVVVV5T9VVVVVVVXlP6uqqqqqquY/q6qqqqqq5j8AAAAAAADoPwAAAAAAAOg/AAAAAAAA6D8AAAAAAADoPwAAAAAAAOg/AAAAAAAA6D9VVVVVVVXpP1VVVVVVVek/VVVVVVVV6T9VVVVVVVXpP6uqqqqqquo/q6qqqqqq6j+rqqqqqqrqP6uqqqqqquo/q6qqqqqq6j+rqqqqqqrqP6uqqqqqquo/q6qqqqqq6j+rqqqqqqrqP6uqqqqqquo/q6qqqqqq6j+rqqqqqqrqP6uqqqqqquo/q6qqqqqq6j+rqqqqqqrqP6uqqqqqquo/q6qqqqqq6j+rqqqqqqrqP6uqqqqqquo/q6qqqqqq6j+rqqqqqqrqP1VVVVVVVe0/VVVVVVVV7T9VVVVVVVXtP1VVVVVVVe0/VVVVVVVV7T9VVVVVVVXtP1VVVVVVVe0/VVVVVVVV7T9VVVVVVVXtP1VVVVVVVe0/VVVVVVVV7T9VVVVVVVXtP1VVVVVVVe0/VVVVVVVV7T9VVVVVVVXtP1VVVVVVVe0/VVVVVVVV7T9VVVVVVVXtP1VVVVVVVe0/VVVVVVVV7T9VVVVVVVXtP1VVVVVVVe0/VVVVVVVV7T9VVVVVVVXtP1VVVVVVVe0/VVVVVVVV7T+rqqqqqqruP6uqqqqqqu4/AAAAAAAA8D8AAAAAAADwPwAAAAAAAPA/AAAAAAAA8D8AAAAAAADwPwAAAAAAAPA/AAAAAAAA8D8AAAAAAADwPwAAAAAAAPA/AAAAAAAA8D8AAAAAAADwPwAAAAAAAPA/AAAAAAAA8D8AAAAAAADwPwAAAAAAAPA/AAAAAAAA8D8AAAAAAADwPwAAAAAAAPA/AAAAAAAA8D8AAAAAAADwPwAAAAAAAPA/AAAAAAAA8D8AAAAAAADwPwAAAAAAAPA/\",\"dtype\":\"float64\",\"shape\":[105]}}},\"id\":\"b7dc71e4-8747-41af-a9ac-e28691e10099\",\"type\":\"ColumnDataSource\"},{\"attributes\":{},\"id\":\"ed166e69-d4a8-4b22-926b-5b88989bd86a\",\"type\":\"BasicTickFormatter\"},{\"attributes\":{\"fill_color\":{\"value\":\"#1f77b4\"},\"line_color\":{\"value\":\"#1f77b4\"},\"size\":{\"units\":\"screen\",\"value\":5},\"x\":{\"field\":\"x\"},\"y\":{\"field\":\"y\"}},\"id\":\"fe4497b6-36aa-438e-abbc-1a6f7841c6d3\",\"type\":\"Cross\"},{\"attributes\":{\"dimension\":1,\"plot\":{\"id\":\"3c2d3b58-8e89-4723-acc0-29b1de14d688\",\"subtype\":\"Figure\",\"type\":\"Plot\"},\"ticker\":{\"id\":\"ec231458-009b-40b6-bd78-b89fa7e2e836\",\"type\":\"BasicTicker\"}},\"id\":\"af7ec5a2-8d80-43e3-b3ac-dec10ebda33f\",\"type\":\"Grid\"},{\"attributes\":{\"callback\":null,\"column_names\":[\"x\",\"y\"],\"data\":{\"x\":{\"__ndarray__\":\"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\",\"dtype\":\"float64\",\"shape\":[404]},\"y\":{\"__ndarray__\":\"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\",\"dtype\":\"float64\",\"shape\":[404]}}},\"id\":\"14165e52-3960-4409-90c8-dc43e6d72308\",\"type\":\"ColumnDataSource\"},{\"attributes\":{},\"id\":\"616b482a-28c2-49c4-88b6-b581153b1d18\",\"type\":\"BasicTickFormatter\"},{\"attributes\":{\"below\":[{\"id\":\"aca99b97-1edc-4847-9781-4ce3561abd0b\",\"type\":\"LinearAxis\"}],\"left\":[{\"id\":\"72acd7b0-a00a-47c1-a48e-978a23482f81\",\"type\":\"LinearAxis\"}],\"plot_height\":400,\"plot_width\":400,\"renderers\":[{\"id\":\"aca99b97-1edc-4847-9781-4ce3561abd0b\",\"type\":\"LinearAxis\"},{\"id\":\"0d74b9c2-93d1-48ae-930c-7d2bf430ff4d\",\"type\":\"Grid\"},{\"id\":\"72acd7b0-a00a-47c1-a48e-978a23482f81\",\"type\":\"LinearAxis\"},{\"id\":\"af7ec5a2-8d80-43e3-b3ac-dec10ebda33f\",\"type\":\"Grid\"},{\"id\":\"c05e5241-ed7a-424e-8ae0-066a760d13ea\",\"type\":\"BoxAnnotation\"},{\"id\":\"349a7b27-024e-4334-9d36-fd3e8ad7801f\",\"type\":\"GlyphRenderer\"},{\"id\":\"7f5aa7ad-a560-49d7-a878-3281601e7315\",\"type\":\"Legend\"},{\"id\":\"efa91499-3115-48cf-8e43-03b484e75dea\",\"type\":\"GlyphRenderer\"},{\"id\":\"5b82a96a-a0bc-4063-8de1-23939f1838c5\",\"type\":\"GlyphRenderer\"},{\"id\":\"31e41586-23b2-430d-bf4e-540d14e97020\",\"type\":\"GlyphRenderer\"},{\"id\":\"a60f52c4-0158-4dbb-ad3e-1c657efc1abc\",\"type\":\"GlyphRenderer\"}],\"title\":{\"id\":\"55fb27aa-e28d-4029-a50e-a277d8f6f716\",\"type\":\"Title\"},\"tool_events\":{\"id\":\"80010006-6b47-41d9-afd4-546693201f2c\",\"type\":\"ToolEvents\"},\"toolbar\":{\"id\":\"57e44d24-f330-4225-9599-42de7c678484\",\"type\":\"Toolbar\"},\"x_range\":{\"id\":\"326df391-0057-4459-97ad-da585a4424d4\",\"type\":\"Range1d\"},\"y_range\":{\"id\":\"326df391-0057-4459-97ad-da585a4424d4\",\"type\":\"Range1d\"}},\"id\":\"3c2d3b58-8e89-4723-acc0-29b1de14d688\",\"subtype\":\"Figure\",\"type\":\"Plot\"},{\"attributes\":{\"plot\":null,\"text\":\"roc, auc: 0.84, on train: 0.95\"},\"id\":\"55fb27aa-e28d-4029-a50e-a277d8f6f716\",\"type\":\"Title\"},{\"attributes\":{\"label\":{\"value\":\"PR\"},\"renderers\":[{\"id\":\"a9e27e2c-0357-4c3a-b3d6-13a4e34e02db\",\"type\":\"GlyphRenderer\"}]},\"id\":\"e7185ebd-3867-4441-83f0-662a6d7ad615\",\"type\":\"LegendItem\"},{\"attributes\":{\"axis_label\":\"precision\",\"formatter\":{\"id\":\"ed166e69-d4a8-4b22-926b-5b88989bd86a\",\"type\":\"BasicTickFormatter\"},\"plot\":{\"id\":\"23620048-8c13-42d9-80f3-16953d1fcb3a\",\"subtype\":\"Figure\",\"type\":\"Plot\"},\"ticker\":{\"id\":\"6fd9b9ad-94e4-4e98-83e8-952cbf65b13f\",\"type\":\"BasicTicker\"}},\"id\":\"38bc8e64-2f4b-40c5-9690-87babef0d34c\",\"type\":\"LinearAxis\"},{\"attributes\":{\"data_source\":{\"id\":\"7080ccf2-cc5e-4b8f-b0bf-cedd96bebd81\",\"type\":\"ColumnDataSource\"},\"glyph\":{\"id\":\"45302b3e-3102-4878-ab9a-6de17491ffa4\",\"type\":\"Line\"},\"hover_glyph\":null,\"nonselection_glyph\":{\"id\":\"85884d30-14a0-4fd7-a4d3-c9b153cf8921\",\"type\":\"Line\"},\"selection_glyph\":null},\"id\":\"31e41586-23b2-430d-bf4e-540d14e97020\",\"type\":\"GlyphRenderer\"},{\"attributes\":{\"plot\":{\"id\":\"3c2d3b58-8e89-4723-acc0-29b1de14d688\",\"subtype\":\"Figure\",\"type\":\"Plot\"}},\"id\":\"1d39c973-1424-4b79-b230-fa6860792407\",\"type\":\"ResetTool\"},{\"attributes\":{\"plot\":{\"id\":\"3c2d3b58-8e89-4723-acc0-29b1de14d688\",\"subtype\":\"Figure\",\"type\":\"Plot\"},\"ticker\":{\"id\":\"ff3b4e1b-7d75-49fa-8a29-8613cff24018\",\"type\":\"BasicTicker\"}},\"id\":\"0d74b9c2-93d1-48ae-930c-7d2bf430ff4d\",\"type\":\"Grid\"},{\"attributes\":{\"line_alpha\":{\"value\":0.1},\"line_color\":{\"value\":\"#1f77b4\"},\"x\":{\"field\":\"x\"},\"y\":{\"field\":\"y\"}},\"id\":\"08c4d06f-025c-4059-98f0-b2e1e9326537\",\"type\":\"Line\"},{\"attributes\":{},\"id\":\"ff3b4e1b-7d75-49fa-8a29-8613cff24018\",\"type\":\"BasicTicker\"},{\"attributes\":{\"fill_color\":{\"value\":\"red\"},\"line_color\":{\"value\":\"red\"},\"size\":{\"units\":\"screen\",\"value\":5},\"x\":{\"field\":\"x\"},\"y\":{\"field\":\"y\"}},\"id\":\"83626c62-6c62-42e9-9db0-4599ce7bc729\",\"type\":\"Circle\"},{\"attributes\":{\"data_source\":{\"id\":\"2ca42f62-e0b9-4e42-bae4-832348f13260\",\"type\":\"ColumnDataSource\"},\"glyph\":{\"id\":\"60852041-e5fe-42f3-95fe-41ed5d728208\",\"type\":\"Line\"},\"hover_glyph\":null,\"nonselection_glyph\":{\"id\":\"48468a39-c4fd-4896-a3f7-6bf5191da8a9\",\"type\":\"Line\"},\"selection_glyph\":null},\"id\":\"a60f52c4-0158-4dbb-ad3e-1c657efc1abc\",\"type\":\"GlyphRenderer\"},{\"attributes\":{\"callback\":null,\"column_names\":[\"y\",\"x\"],\"data\":{\"x\":{\"__ndarray__\":\"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\",\"dtype\":\"float64\",\"shape\":[233]},\"y\":{\"__ndarray__\":\"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\",\"dtype\":\"float64\",\"shape\":[233]}}},\"id\":\"886657b2-d37c-4cc7-85fe-419a3d09d8b3\",\"type\":\"ColumnDataSource\"},{\"attributes\":{\"data_source\":{\"id\":\"4417e0da-fc2c-4f06-afcc-bdefea3ebaf8\",\"type\":\"ColumnDataSource\"},\"glyph\":{\"id\":\"cc68d4c4-e0ef-42fd-bd89-9f0b7d94752e\",\"type\":\"Circle\"},\"hover_glyph\":null,\"nonselection_glyph\":{\"id\":\"7759f250-ecae-4406-8e2f-bc5d38be0882\",\"type\":\"Circle\"},\"selection_glyph\":null},\"id\":\"a977cbae-4974-444f-bb7b-677579df4e21\",\"type\":\"GlyphRenderer\"},{\"attributes\":{\"overlay\":{\"id\":\"c05e5241-ed7a-424e-8ae0-066a760d13ea\",\"type\":\"BoxAnnotation\"},\"plot\":{\"id\":\"3c2d3b58-8e89-4723-acc0-29b1de14d688\",\"subtype\":\"Figure\",\"type\":\"Plot\"}},\"id\":\"10a643be-24c2-459e-9645-7c89174f4991\",\"type\":\"BoxZoomTool\"},{\"attributes\":{\"plot\":{\"id\":\"3c2d3b58-8e89-4723-acc0-29b1de14d688\",\"subtype\":\"Figure\",\"type\":\"Plot\"}},\"id\":\"0661d2dc-f90f-41f4-bf40-3bfd30f007fa\",\"type\":\"SaveTool\"},{\"attributes\":{\"plot\":null,\"text\":\"PR curve\"},\"id\":\"867a6e46-6382-4bf7-8d4e-e5ac0710697e\",\"type\":\"Title\"},{\"attributes\":{\"fill_color\":{\"value\":\"red\"},\"line_color\":{\"value\":\"red\"},\"size\":{\"units\":\"screen\",\"value\":5},\"x\":{\"field\":\"x\"},\"y\":{\"field\":\"y\"}},\"id\":\"cc68d4c4-e0ef-42fd-bd89-9f0b7d94752e\",\"type\":\"Circle\"},{\"attributes\":{\"line_color\":{\"value\":\"grey\"},\"x\":{\"field\":\"x\"},\"y\":{\"field\":\"y\"}},\"id\":\"60852041-e5fe-42f3-95fe-41ed5d728208\",\"type\":\"Line\"},{\"attributes\":{\"children\":[{\"id\":\"23620048-8c13-42d9-80f3-16953d1fcb3a\",\"subtype\":\"Figure\",\"type\":\"Plot\"},{\"id\":\"3c2d3b58-8e89-4723-acc0-29b1de14d688\",\"subtype\":\"Figure\",\"type\":\"Plot\"}]},\"id\":\"3c3e9863-5371-4d13-bd7a-6cf3db0e1f3a\",\"type\":\"Row\"},{\"attributes\":{\"callback\":null,\"column_names\":[\"y\",\"x\"],\"data\":{\"x\":{\"__ndarray__\":\"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\",\"dtype\":\"float64\",\"shape\":[218]},\"y\":{\"__ndarray__\":\"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\",\"dtype\":\"float64\",\"shape\":[218]}}},\"id\":\"0256e2b8-38a5-4da3-b271-a22124a9f46b\",\"type\":\"ColumnDataSource\"},{\"attributes\":{\"plot\":{\"id\":\"23620048-8c13-42d9-80f3-16953d1fcb3a\",\"subtype\":\"Figure\",\"type\":\"Plot\"}},\"id\":\"033018a6-e6c7-4d1a-b7a3-87a401885624\",\"type\":\"WheelZoomTool\"},{\"attributes\":{\"data_source\":{\"id\":\"b7dc71e4-8747-41af-a9ac-e28691e10099\",\"type\":\"ColumnDataSource\"},\"glyph\":{\"id\":\"dd8d9051-b0ee-4b58-8f79-934cde4600f6\",\"type\":\"Cross\"},\"hover_glyph\":null,\"nonselection_glyph\":{\"id\":\"b97ec35a-7e9e-4bc0-9972-f0bdec56088e\",\"type\":\"Cross\"},\"selection_glyph\":null},\"id\":\"349a7b27-024e-4334-9d36-fd3e8ad7801f\",\"type\":\"GlyphRenderer\"},{\"attributes\":{\"fill_alpha\":{\"value\":0.1},\"fill_color\":{\"value\":\"#1f77b4\"},\"line_alpha\":{\"value\":0.1},\"line_color\":{\"value\":\"#1f77b4\"},\"size\":{\"units\":\"screen\",\"value\":5},\"x\":{\"field\":\"x\"},\"y\":{\"field\":\"y\"}},\"id\":\"b97ec35a-7e9e-4bc0-9972-f0bdec56088e\",\"type\":\"Cross\"},{\"attributes\":{\"dimension\":1,\"plot\":{\"id\":\"23620048-8c13-42d9-80f3-16953d1fcb3a\",\"subtype\":\"Figure\",\"type\":\"Plot\"},\"ticker\":{\"id\":\"6fd9b9ad-94e4-4e98-83e8-952cbf65b13f\",\"type\":\"BasicTicker\"}},\"id\":\"bcd313f6-040f-43a5-8483-655f9aa97d48\",\"type\":\"Grid\"},{\"attributes\":{},\"id\":\"80010006-6b47-41d9-afd4-546693201f2c\",\"type\":\"ToolEvents\"},{\"attributes\":{\"line_color\":{\"value\":\"red\"},\"x\":{\"field\":\"x\"},\"y\":{\"field\":\"y\"}},\"id\":\"0246e434-e314-4c0c-a4f2-4e00786b1be7\",\"type\":\"Line\"},{\"attributes\":{\"callback\":null,\"column_names\":[\"y\",\"x\"],\"data\":{\"x\":{\"__ndarray__\":\"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\",\"dtype\":\"float64\",\"shape\":[233]},\"y\":{\"__ndarray__\":\"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\",\"dtype\":\"float64\",\"shape\":[233]}}},\"id\":\"778339cd-a3db-48f6-91c8-90c162983224\",\"type\":\"ColumnDataSource\"},{\"attributes\":{\"below\":[{\"id\":\"6d5e3703-d04a-442e-8d89-67124dfc6945\",\"type\":\"LinearAxis\"}],\"left\":[{\"id\":\"38bc8e64-2f4b-40c5-9690-87babef0d34c\",\"type\":\"LinearAxis\"}],\"plot_height\":400,\"plot_width\":400,\"renderers\":[{\"id\":\"6d5e3703-d04a-442e-8d89-67124dfc6945\",\"type\":\"LinearAxis\"},{\"id\":\"fbba57ab-c871-42f9-87b8-78f29fce7df0\",\"type\":\"Grid\"},{\"id\":\"38bc8e64-2f4b-40c5-9690-87babef0d34c\",\"type\":\"LinearAxis\"},{\"id\":\"bcd313f6-040f-43a5-8483-655f9aa97d48\",\"type\":\"Grid\"},{\"id\":\"692295fb-8e19-4830-a861-6b65e28fe8e7\",\"type\":\"BoxAnnotation\"},{\"id\":\"736d2777-84bc-4367-a8e6-9c97d7fbbf39\",\"type\":\"GlyphRenderer\"},{\"id\":\"a5dab2ba-6a97-4878-b708-989cff35811e\",\"type\":\"Legend\"},{\"id\":\"a9e27e2c-0357-4c3a-b3d6-13a4e34e02db\",\"type\":\"GlyphRenderer\"},{\"id\":\"a977cbae-4974-444f-bb7b-677579df4e21\",\"type\":\"GlyphRenderer\"},{\"id\":\"4f9c2e92-5927-410f-9f87-1e1c1f4021b0\",\"type\":\"GlyphRenderer\"}],\"title\":{\"id\":\"867a6e46-6382-4bf7-8d4e-e5ac0710697e\",\"type\":\"Title\"},\"tool_events\":{\"id\":\"d694add4-fb82-46f0-923f-82d781201cd6\",\"type\":\"ToolEvents\"},\"toolbar\":{\"id\":\"ae535b0c-017e-48b9-a6df-66644be37617\",\"type\":\"Toolbar\"},\"x_range\":{\"id\":\"5b117cbe-c7ce-423e-bc4a-1a2f9e7b4a45\",\"type\":\"DataRange1d\"},\"y_range\":{\"id\":\"0403876a-f53c-46d1-be1a-9476c331452f\",\"type\":\"DataRange1d\"}},\"id\":\"23620048-8c13-42d9-80f3-16953d1fcb3a\",\"subtype\":\"Figure\",\"type\":\"Plot\"},{\"attributes\":{\"data_source\":{\"id\":\"ff6fda50-9907-4a66-970c-dc5972eaee20\",\"type\":\"ColumnDataSource\"},\"glyph\":{\"id\":\"d3d4b376-68f3-4e20-9cab-de584b8db8ef\",\"type\":\"Line\"},\"hover_glyph\":null,\"nonselection_glyph\":{\"id\":\"08c4d06f-025c-4059-98f0-b2e1e9326537\",\"type\":\"Line\"},\"selection_glyph\":null},\"id\":\"efa91499-3115-48cf-8e43-03b484e75dea\",\"type\":\"GlyphRenderer\"},{\"attributes\":{\"callback\":null},\"id\":\"326df391-0057-4459-97ad-da585a4424d4\",\"type\":\"Range1d\"},{\"attributes\":{},\"id\":\"0debf91f-704c-4fcc-a3fb-7f3f9b0f608d\",\"type\":\"BasicTickFormatter\"},{\"attributes\":{\"plot\":{\"id\":\"23620048-8c13-42d9-80f3-16953d1fcb3a\",\"subtype\":\"Figure\",\"type\":\"Plot\"}},\"id\":\"5b608af9-74bf-4c0e-aebc-b14806101d5f\",\"type\":\"ResetTool\"},{\"attributes\":{\"data_source\":{\"id\":\"14165e52-3960-4409-90c8-dc43e6d72308\",\"type\":\"ColumnDataSource\"},\"glyph\":{\"id\":\"0246e434-e314-4c0c-a4f2-4e00786b1be7\",\"type\":\"Line\"},\"hover_glyph\":null,\"nonselection_glyph\":{\"id\":\"bbcaefc0-37be-412b-9482-4c95829ec611\",\"type\":\"Line\"},\"selection_glyph\":null},\"id\":\"4f9c2e92-5927-410f-9f87-1e1c1f4021b0\",\"type\":\"GlyphRenderer\"},{\"attributes\":{},\"id\":\"ec231458-009b-40b6-bd78-b89fa7e2e836\",\"type\":\"BasicTicker\"},{\"attributes\":{\"plot\":{\"id\":\"23620048-8c13-42d9-80f3-16953d1fcb3a\",\"subtype\":\"Figure\",\"type\":\"Plot\"}},\"id\":\"e94bb9b7-3aed-4983-bc80-758faf1b357c\",\"type\":\"PanTool\"},{\"attributes\":{\"active_drag\":\"auto\",\"active_scroll\":\"auto\",\"active_tap\":\"auto\",\"tools\":[{\"id\":\"285cc80d-7797-478d-82b3-61a59cbd5d98\",\"type\":\"PanTool\"},{\"id\":\"98fc16cd-795b-4612-9905-e45cf014d108\",\"type\":\"WheelZoomTool\"},{\"id\":\"10a643be-24c2-459e-9645-7c89174f4991\",\"type\":\"BoxZoomTool\"},{\"id\":\"0661d2dc-f90f-41f4-bf40-3bfd30f007fa\",\"type\":\"SaveTool\"},{\"id\":\"1d39c973-1424-4b79-b230-fa6860792407\",\"type\":\"ResetTool\"},{\"id\":\"762b1fcc-08c0-4bd9-81ab-ff2178406228\",\"type\":\"HelpTool\"}]},\"id\":\"57e44d24-f330-4225-9599-42de7c678484\",\"type\":\"Toolbar\"},{\"attributes\":{},\"id\":\"6fd9b9ad-94e4-4e98-83e8-952cbf65b13f\",\"type\":\"BasicTicker\"},{\"attributes\":{\"line_alpha\":{\"value\":0.1},\"line_color\":{\"value\":\"#1f77b4\"},\"x\":{\"field\":\"x\"},\"y\":{\"field\":\"y\"}},\"id\":\"3bca87fc-0f22-44d2-923a-ac914c13cfd4\",\"type\":\"Line\"},{\"attributes\":{\"callback\":null,\"column_names\":[\"y\",\"x\"],\"data\":{\"x\":{\"__ndarray__\":\"AAAAAAAAAADmLJt/xjRpP+Ysm3/GNGk/rWG035Tngj+tYbTflOeCP+Ysm3/GNIk/5iybf8Y0iT+tYbTflOeSP61htN+U55I/Scenry0Olj9Jx6evLQ6WP+Ysm3/GNJk/5iybf8Y0mT/errp3SFShP96uundIVKE/RYi3q+4dsj9FiLer7h2yP7CgpOPT17Y/sKCk49PXtj/qa4uDBSW9P+pri4MFJb0/HLmRG7mRyz8cuZEbuZHLP7gehetRuM4/IPiBH/iBzz931b1DoorQP4R4u+reIdE/OOW5BLKG0T845bkEsobRP5IbuZEbudE/+fS1xcGC0j97FK5H4XrUP3sUrkfhetQ/75CoIsTb1T+j/aY8l0DWP7CgpOPT19Y/ZA2j/aY81z/L5p8xTQbYP39Tnksga9g/2Ymd2Imd2D+M9pvyXALZP0BjmgwwZ9k/88+YJgPM2T9NBpizbP7ZPwFzls0/Y9o/DhaUdHz62j9oTJMB5izbPylcj8L1KNw/3ciN3MiN3D+QNYz2m/LcP+pri4MFJd0/BbKG0X5T3j/GwYKSjk/fP8NovynPJeA/HZ++tjhY4D+kcD0K16PgP/6mPJdA1uA/sRM7sRM74T/MWTb/jGniPyaQNYz2m+I/Uyu1Uiu14j+tYbTflOfiP9n8M6bJAOM/MzMzMzMz4z+NaTLAnGXjP21xsKCk4+M/x6evLQ4W5D/0Qi/0Qi/kP055LoGsYeQ/LoGsYbTf5D+It6vuHRLlP7VSK7VSK+U/llqplVqp5T8K16NwPQrnP2QNo/2mPOc/694hUUWI5z9xsKCk49PnP+Ysm3/GNOk/QGOaDDBn6T9AY5oMMGfpP5qZmZmZmek/xjQZYM6y6T+nPJdA1jDqP1uplVqpleo/h0QVId6u6j+V5xLIGkbrP+8dElWEeOs/SFQR4u2q6z9175CoIsTrP88lkDWM9us/KVyPwvUo7D/dyI3cyI3sPwlkDaP9puw/kDWM9pvy7D+90Au90AvtP57YiZ3Yie0/9w6JKkK87T9RRYi3q+7tP9gWBwtKOu4/BbKG0X5T7j+LgwUlHZ/uP+W5BLKG0e4/bIuDBSUd7z95LoGsYbTvPwAAAAAAAPA/\",\"dtype\":\"float64\",\"shape\":[105]},\"y\":{\"__ndarray__\":\"AAAAAAAAAAAAAAAAAAAAAFVVVVVVVaU/VVVVVVVVpT8AAAAAAADAPwAAAAAAAMA/VVVVVVVV1T9VVVVVVVXVPwAAAAAAANg/AAAAAAAA2D+rqqqqqqraP6uqqqqqqto/VVVVVVVV3T9VVVVVVVXdP6uqqqqqquI/q6qqqqqq4j8AAAAAAADkPwAAAAAAAOQ/VVVVVVVV5T9VVVVVVVXlP6uqqqqqquY/q6qqqqqq5j8AAAAAAADoPwAAAAAAAOg/AAAAAAAA6D8AAAAAAADoPwAAAAAAAOg/AAAAAAAA6D9VVVVVVVXpP1VVVVVVVek/VVVVVVVV6T9VVVVVVVXpP6uqqqqqquo/q6qqqqqq6j+rqqqqqqrqP6uqqqqqquo/q6qqqqqq6j+rqqqqqqrqP6uqqqqqquo/q6qqqqqq6j+rqqqqqqrqP6uqqqqqquo/q6qqqqqq6j+rqqqqqqrqP6uqqqqqquo/q6qqqqqq6j+rqqqqqqrqP6uqqqqqquo/q6qqqqqq6j+rqqqqqqrqP6uqqqqqquo/q6qqqqqq6j+rqqqqqqrqP1VVVVVVVe0/VVVVVVVV7T9VVVVVVVXtP1VVVVVVVe0/VVVVVVVV7T9VVVVVVVXtP1VVVVVVVe0/VVVVVVVV7T9VVVVVVVXtP1VVVVVVVe0/VVVVVVVV7T9VVVVVVVXtP1VVVVVVVe0/VVVVVVVV7T9VVVVVVVXtP1VVVVVVVe0/VVVVVVVV7T9VVVVVVVXtP1VVVVVVVe0/VVVVVVVV7T9VVVVVVVXtP1VVVVVVVe0/VVVVVVVV7T9VVVVVVVXtP1VVVVVVVe0/VVVVVVVV7T+rqqqqqqruP6uqqqqqqu4/AAAAAAAA8D8AAAAAAADwPwAAAAAAAPA/AAAAAAAA8D8AAAAAAADwPwAAAAAAAPA/AAAAAAAA8D8AAAAAAADwPwAAAAAAAPA/AAAAAAAA8D8AAAAAAADwPwAAAAAAAPA/AAAAAAAA8D8AAAAAAADwPwAAAAAAAPA/AAAAAAAA8D8AAAAAAADwPwAAAAAAAPA/AAAAAAAA8D8AAAAAAADwPwAAAAAAAPA/AAAAAAAA8D8AAAAAAADwPwAAAAAAAPA/\",\"dtype\":\"float64\",\"shape\":[105]}}},\"id\":\"ff6fda50-9907-4a66-970c-dc5972eaee20\",\"type\":\"ColumnDataSource\"},{\"attributes\":{\"callback\":null},\"id\":\"0403876a-f53c-46d1-be1a-9476c331452f\",\"type\":\"DataRange1d\"},{\"attributes\":{\"plot\":{\"id\":\"23620048-8c13-42d9-80f3-16953d1fcb3a\",\"subtype\":\"Figure\",\"type\":\"Plot\"},\"ticker\":{\"id\":\"f2163048-2bed-424b-9b0c-2c20dac7907d\",\"type\":\"BasicTicker\"}},\"id\":\"fbba57ab-c871-42f9-87b8-78f29fce7df0\",\"type\":\"Grid\"},{\"attributes\":{\"fill_alpha\":{\"value\":0.1},\"fill_color\":{\"value\":\"#1f77b4\"},\"line_alpha\":{\"value\":0.1},\"line_color\":{\"value\":\"#1f77b4\"},\"size\":{\"units\":\"screen\",\"value\":5},\"x\":{\"field\":\"x\"},\"y\":{\"field\":\"y\"}},\"id\":\"b19fcf49-5b81-41de-8157-52ada17fd5c9\",\"type\":\"Circle\"},{\"attributes\":{\"plot\":{\"id\":\"23620048-8c13-42d9-80f3-16953d1fcb3a\",\"subtype\":\"Figure\",\"type\":\"Plot\"}},\"id\":\"1c378430-6617-4cf7-91db-a9b527f84c12\",\"type\":\"SaveTool\"},{\"attributes\":{\"label\":{\"value\":\"roc\"},\"renderers\":[{\"id\":\"efa91499-3115-48cf-8e43-03b484e75dea\",\"type\":\"GlyphRenderer\"}]},\"id\":\"3236fdee-cca8-4831-a395-41cb2bf60123\",\"type\":\"LegendItem\"},{\"attributes\":{\"fill_alpha\":{\"value\":0.1},\"fill_color\":{\"value\":\"#1f77b4\"},\"line_alpha\":{\"value\":0.1},\"line_color\":{\"value\":\"#1f77b4\"},\"size\":{\"units\":\"screen\",\"value\":5},\"x\":{\"field\":\"x\"},\"y\":{\"field\":\"y\"}},\"id\":\"c4f6ebaf-d23f-47b8-9d62-d78942cf36be\",\"type\":\"Cross\"},{\"attributes\":{\"fill_alpha\":{\"value\":0.1},\"fill_color\":{\"value\":\"#1f77b4\"},\"line_alpha\":{\"value\":0.1},\"line_color\":{\"value\":\"#1f77b4\"},\"size\":{\"units\":\"screen\",\"value\":5},\"x\":{\"field\":\"x\"},\"y\":{\"field\":\"y\"}},\"id\":\"7759f250-ecae-4406-8e2f-bc5d38be0882\",\"type\":\"Circle\"},{\"attributes\":{\"data_source\":{\"id\":\"886657b2-d37c-4cc7-85fe-419a3d09d8b3\",\"type\":\"ColumnDataSource\"},\"glyph\":{\"id\":\"fe4497b6-36aa-438e-abbc-1a6f7841c6d3\",\"type\":\"Cross\"},\"hover_glyph\":null,\"nonselection_glyph\":{\"id\":\"c4f6ebaf-d23f-47b8-9d62-d78942cf36be\",\"type\":\"Cross\"},\"selection_glyph\":null},\"id\":\"736d2777-84bc-4367-a8e6-9c97d7fbbf39\",\"type\":\"GlyphRenderer\"},{\"attributes\":{\"plot\":{\"id\":\"3c2d3b58-8e89-4723-acc0-29b1de14d688\",\"subtype\":\"Figure\",\"type\":\"Plot\"}},\"id\":\"762b1fcc-08c0-4bd9-81ab-ff2178406228\",\"type\":\"HelpTool\"},{\"attributes\":{\"callback\":null,\"column_names\":[\"x\",\"y\"],\"data\":{\"x\":[0,1],\"y\":[0,1]}},\"id\":\"2ca42f62-e0b9-4e42-bae4-832348f13260\",\"type\":\"ColumnDataSource\"},{\"attributes\":{\"line_alpha\":{\"value\":0.1},\"line_color\":{\"value\":\"#1f77b4\"},\"x\":{\"field\":\"x\"},\"y\":{\"field\":\"y\"}},\"id\":\"48468a39-c4fd-4896-a3f7-6bf5191da8a9\",\"type\":\"Line\"},{\"attributes\":{\"line_alpha\":{\"value\":0.1},\"line_color\":{\"value\":\"#1f77b4\"},\"x\":{\"field\":\"x\"},\"y\":{\"field\":\"y\"}},\"id\":\"bbcaefc0-37be-412b-9482-4c95829ec611\",\"type\":\"Line\"},{\"attributes\":{\"line_color\":{\"value\":\"#1f77b4\"},\"x\":{\"field\":\"x\"},\"y\":{\"field\":\"y\"}},\"id\":\"d3d4b376-68f3-4e20-9cab-de584b8db8ef\",\"type\":\"Line\"},{\"attributes\":{\"plot\":{\"id\":\"3c2d3b58-8e89-4723-acc0-29b1de14d688\",\"subtype\":\"Figure\",\"type\":\"Plot\"}},\"id\":\"98fc16cd-795b-4612-9905-e45cf014d108\",\"type\":\"WheelZoomTool\"},{\"attributes\":{\"callback\":null,\"column_names\":[\"y\",\"x\"],\"data\":{\"x\":{\"__ndarray__\":\"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\",\"dtype\":\"float64\",\"shape\":[404]},\"y\":{\"__ndarray__\":\"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\",\"dtype\":\"float64\",\"shape\":[404]}}},\"id\":\"4417e0da-fc2c-4f06-afcc-bdefea3ebaf8\",\"type\":\"ColumnDataSource\"},{\"attributes\":{\"bottom_units\":\"screen\",\"fill_alpha\":{\"value\":0.5},\"fill_color\":{\"value\":\"lightgrey\"},\"left_units\":\"screen\",\"level\":\"overlay\",\"line_alpha\":{\"value\":1.0},\"line_color\":{\"value\":\"black\"},\"line_dash\":[4,4],\"line_width\":{\"value\":2},\"plot\":null,\"render_mode\":\"css\",\"right_units\":\"screen\",\"top_units\":\"screen\"},\"id\":\"c05e5241-ed7a-424e-8ae0-066a760d13ea\",\"type\":\"BoxAnnotation\"},{\"attributes\":{\"plot\":{\"id\":\"3c2d3b58-8e89-4723-acc0-29b1de14d688\",\"subtype\":\"Figure\",\"type\":\"Plot\"}},\"id\":\"285cc80d-7797-478d-82b3-61a59cbd5d98\",\"type\":\"PanTool\"},{\"attributes\":{\"callback\":null},\"id\":\"5b117cbe-c7ce-423e-bc4a-1a2f9e7b4a45\",\"type\":\"DataRange1d\"},{\"attributes\":{\"label\":{\"value\":\"roc on train\"},\"renderers\":[{\"id\":\"31e41586-23b2-430d-bf4e-540d14e97020\",\"type\":\"GlyphRenderer\"}]},\"id\":\"3551b0ac-7b91-46f4-9432-60df4fe88a56\",\"type\":\"LegendItem\"},{\"attributes\":{\"plot\":{\"id\":\"23620048-8c13-42d9-80f3-16953d1fcb3a\",\"subtype\":\"Figure\",\"type\":\"Plot\"}},\"id\":\"8ab43401-ea10-46a1-af5a-b52a5d09ec93\",\"type\":\"HelpTool\"},{\"attributes\":{},\"id\":\"d694add4-fb82-46f0-923f-82d781201cd6\",\"type\":\"ToolEvents\"},{\"attributes\":{\"label\":{\"value\":\"PR on train\"},\"renderers\":[{\"id\":\"4f9c2e92-5927-410f-9f87-1e1c1f4021b0\",\"type\":\"GlyphRenderer\"}]},\"id\":\"6fad8bb6-b1d6-4ad4-9bc0-9f9634507fef\",\"type\":\"LegendItem\"},{\"attributes\":{\"line_color\":{\"value\":\"#1f77b4\"},\"x\":{\"field\":\"x\"},\"y\":{\"field\":\"y\"}},\"id\":\"92b32219-0722-4689-a916-3efcb83399ce\",\"type\":\"Line\"},{\"attributes\":{\"line_alpha\":{\"value\":0.1},\"line_color\":{\"value\":\"#1f77b4\"},\"x\":{\"field\":\"x\"},\"y\":{\"field\":\"y\"}},\"id\":\"85884d30-14a0-4fd7-a4d3-c9b153cf8921\",\"type\":\"Line\"},{\"attributes\":{\"axis_label\":\"tpr\",\"formatter\":{\"id\":\"616b482a-28c2-49c4-88b6-b581153b1d18\",\"type\":\"BasicTickFormatter\"},\"plot\":{\"id\":\"3c2d3b58-8e89-4723-acc0-29b1de14d688\",\"subtype\":\"Figure\",\"type\":\"Plot\"},\"ticker\":{\"id\":\"ff3b4e1b-7d75-49fa-8a29-8613cff24018\",\"type\":\"BasicTicker\"}},\"id\":\"aca99b97-1edc-4847-9781-4ce3561abd0b\",\"type\":\"LinearAxis\"},{\"attributes\":{},\"id\":\"f2163048-2bed-424b-9b0c-2c20dac7907d\",\"type\":\"BasicTicker\"},{\"attributes\":{\"items\":[{\"id\":\"e7185ebd-3867-4441-83f0-662a6d7ad615\",\"type\":\"LegendItem\"},{\"id\":\"6fad8bb6-b1d6-4ad4-9bc0-9f9634507fef\",\"type\":\"LegendItem\"}],\"plot\":{\"id\":\"23620048-8c13-42d9-80f3-16953d1fcb3a\",\"subtype\":\"Figure\",\"type\":\"Plot\"}},\"id\":\"a5dab2ba-6a97-4878-b708-989cff35811e\",\"type\":\"Legend\"}],\"root_ids\":[\"3c3e9863-5371-4d13-bd7a-6cf3db0e1f3a\"]},\"title\":\"Bokeh Application\",\"version\":\"0.12.4\"}};\n",
       "            var render_items = [{\"docid\":\"cf38f6d2-9d76-4edd-89c9-2f3f3dde7a83\",\"elementid\":\"567968be-dd1c-44e5-bdc1-e1fd0938d768\",\"modelid\":\"3c3e9863-5371-4d13-bd7a-6cf3db0e1f3a\"}];\n",
       "            \n",
       "            Bokeh.embed.embed_items(docs_json, render_items);\n",
       "          };\n",
       "          if (document.readyState != \"loading\") fn();\n",
       "          else document.addEventListener(\"DOMContentLoaded\", fn);\n",
       "        })();\n",
       "      },\n",
       "      function(Bokeh) {\n",
       "      }\n",
       "    ];\n",
       "  \n",
       "    function run_inline_js() {\n",
       "      \n",
       "      if ((window.Bokeh !== undefined) || (force === true)) {\n",
       "        for (var i = 0; i < inline_js.length; i++) {\n",
       "          inline_js[i](window.Bokeh);\n",
       "        }if (force === true) {\n",
       "          display_loaded();\n",
       "        }} else if (Date.now() < window._bokeh_timeout) {\n",
       "        setTimeout(run_inline_js, 100);\n",
       "      } else if (!window._bokeh_failed_load) {\n",
       "        console.log(\"Bokeh: BokehJS failed to load within specified timeout.\");\n",
       "        window._bokeh_failed_load = true;\n",
       "      } else if (force !== true) {\n",
       "        var cell = $(document.getElementById(\"567968be-dd1c-44e5-bdc1-e1fd0938d768\")).parents('.cell').data().cell;\n",
       "        cell.output_area.append_execute_result(NB_LOAD_WARNING)\n",
       "      }\n",
       "  \n",
       "    }\n",
       "  \n",
       "    if (window._bokeh_is_loading === 0) {\n",
       "      console.log(\"Bokeh: BokehJS loaded, going straight to plotting\");\n",
       "      run_inline_js();\n",
       "    } else {\n",
       "      load_libs(js_urls, function() {\n",
       "        console.log(\"Bokeh: BokehJS plotting callback run at\", now());\n",
       "        run_inline_js();\n",
       "      });\n",
       "    }\n",
       "  }(this));\n",
       "</script>"
      ]
     },
     "metadata": {},
     "output_type": "display_data"
    }
   ],
   "source": [
    "from bokeh.models.ranges import Range1d\n",
    "#print \"auc: %.2g, on train: %.2g\" %(roc_auc, roc_auc_train)\n",
    "roc_df = pd.DataFrame({\"fpr\":fpr,\"tpr\":tpr}).set_index(\"fpr\")\n",
    "pr_df = pd.DataFrame({\"precision\": precision, \"recall\":recall}).set_index(\"recall\")\n",
    "roc_df[\"diag\"] = roc_df.index\n",
    "pr_df[\"random\"] = pr_df.precision.iloc[0]\n",
    "\n",
    "# roc curve\n",
    "roc_f = figure(width=400,height=400,title=\"roc, auc: %.2g, on train: %.2g\"  %(roc_auc, roc_auc_train) )\n",
    "roc_f.xaxis.axis_label = \"tpr\"\n",
    "auc_range= Range1d(0,1)\n",
    "roc_f.x_range = auc_range \n",
    "roc_f.y_range = auc_range \n",
    "roc_f.yaxis.axis_label = \"fpr\"\n",
    "roc_f.cross(fpr,tpr,size=5)\n",
    "roc_f.line(fpr,tpr,legend=\"roc\")\n",
    "roc_f.circle(fpr_train,tpr_train,size=5,color=\"red\", line_width=1)\n",
    "roc_f.line(fpr_train,tpr_train,color=\"red\",legend=\"roc on train\")\n",
    "roc_f.line([0,1],[0,1], color=\"grey\")\n",
    "\n",
    "# pr curve\n",
    "pr_f = figure(width=400,height=400,title=\"PR curve\")\n",
    "pr_f.xaxis.axis_label = \"recall\"\n",
    "pr_f.yaxis.axis_label = \"precision\"\n",
    "pr_f.cross(recall,precision,size=5)\n",
    "pr_f.line(recall,precision,legend=\"PR\")\n",
    "pr_f.circle(recall_train,precision_train,size=5,color=\"red\", line_width=1)\n",
    "pr_f.line(recall_train,precision_train,color=\"red\",legend=\"PR on train\")\n",
    "\n",
    "show(row(\n",
    "    pr_f,\n",
    "    roc_f\n",
    "))"
   ]
  },
  {
   "cell_type": "markdown",
   "metadata": {},
   "source": [
    "### Feature Importance"
   ]
  },
  {
   "cell_type": "code",
   "execution_count": 226,
   "metadata": {
    "collapsed": false
   },
   "outputs": [
    {
     "data": {
      "text/html": [
       "<div>\n",
       "<table border=\"1\" class=\"dataframe\">\n",
       "  <thead>\n",
       "    <tr style=\"text-align: right;\">\n",
       "      <th></th>\n",
       "      <th>importance</th>\n",
       "    </tr>\n",
       "  </thead>\n",
       "  <tbody>\n",
       "    <tr>\n",
       "      <th>mean_attribute5</th>\n",
       "      <td>0.113936</td>\n",
       "    </tr>\n",
       "    <tr>\n",
       "      <th>max_attribute8</th>\n",
       "      <td>0.095709</td>\n",
       "    </tr>\n",
       "    <tr>\n",
       "      <th>mean_attribute6</th>\n",
       "      <td>0.086619</td>\n",
       "    </tr>\n",
       "    <tr>\n",
       "      <th>max_attribute6</th>\n",
       "      <td>0.082279</td>\n",
       "    </tr>\n",
       "    <tr>\n",
       "      <th>max_attribute7</th>\n",
       "      <td>0.075581</td>\n",
       "    </tr>\n",
       "    <tr>\n",
       "      <th>max_attribute5</th>\n",
       "      <td>0.069132</td>\n",
       "    </tr>\n",
       "    <tr>\n",
       "      <th>max_dt2_attribute2</th>\n",
       "      <td>0.063372</td>\n",
       "    </tr>\n",
       "    <tr>\n",
       "      <th>max_dt_attribute2</th>\n",
       "      <td>0.050691</td>\n",
       "    </tr>\n",
       "    <tr>\n",
       "      <th>mean_dt2_attribute2</th>\n",
       "      <td>0.050030</td>\n",
       "    </tr>\n",
       "    <tr>\n",
       "      <th>mean_attribute7</th>\n",
       "      <td>0.047806</td>\n",
       "    </tr>\n",
       "    <tr>\n",
       "      <th>max_attribute4</th>\n",
       "      <td>0.047303</td>\n",
       "    </tr>\n",
       "    <tr>\n",
       "      <th>mean_attribute4</th>\n",
       "      <td>0.045543</td>\n",
       "    </tr>\n",
       "    <tr>\n",
       "      <th>mean_attribute2</th>\n",
       "      <td>0.041195</td>\n",
       "    </tr>\n",
       "    <tr>\n",
       "      <th>mean_attribute9</th>\n",
       "      <td>0.033313</td>\n",
       "    </tr>\n",
       "    <tr>\n",
       "      <th>mean_dt_attribute2</th>\n",
       "      <td>0.028426</td>\n",
       "    </tr>\n",
       "    <tr>\n",
       "      <th>mean_attribute8</th>\n",
       "      <td>0.025093</td>\n",
       "    </tr>\n",
       "    <tr>\n",
       "      <th>max_attribute9</th>\n",
       "      <td>0.014190</td>\n",
       "    </tr>\n",
       "    <tr>\n",
       "      <th>max_attribute2</th>\n",
       "      <td>0.011156</td>\n",
       "    </tr>\n",
       "    <tr>\n",
       "      <th>max_attribute3</th>\n",
       "      <td>0.009755</td>\n",
       "    </tr>\n",
       "    <tr>\n",
       "      <th>mean_attribute3</th>\n",
       "      <td>0.008872</td>\n",
       "    </tr>\n",
       "  </tbody>\n",
       "</table>\n",
       "</div>"
      ],
      "text/plain": [
       "                     importance\n",
       "mean_attribute5        0.113936\n",
       "max_attribute8         0.095709\n",
       "mean_attribute6        0.086619\n",
       "max_attribute6         0.082279\n",
       "max_attribute7         0.075581\n",
       "max_attribute5         0.069132\n",
       "max_dt2_attribute2     0.063372\n",
       "max_dt_attribute2      0.050691\n",
       "mean_dt2_attribute2    0.050030\n",
       "mean_attribute7        0.047806\n",
       "max_attribute4         0.047303\n",
       "mean_attribute4        0.045543\n",
       "mean_attribute2        0.041195\n",
       "mean_attribute9        0.033313\n",
       "mean_dt_attribute2     0.028426\n",
       "mean_attribute8        0.025093\n",
       "max_attribute9         0.014190\n",
       "max_attribute2         0.011156\n",
       "max_attribute3         0.009755\n",
       "mean_attribute3        0.008872"
      ]
     },
     "execution_count": 226,
     "metadata": {},
     "output_type": "execute_result"
    }
   ],
   "source": [
    "feature_imp = pd.DataFrame({\"importance\":model.feature_importances_}).set_index(feature_set.columns)\n",
    "feature_imp.sort_values(by=\"importance\",ascending=False)"
   ]
  },
  {
   "cell_type": "markdown",
   "metadata": {},
   "source": [
    "### Hyperparameter optimisation\n",
    "\n",
    "\n"
   ]
  },
  {
   "cell_type": "code",
   "execution_count": 227,
   "metadata": {
    "collapsed": false
   },
   "outputs": [],
   "source": [
    "# model : GradientBoostingClassifier, parameters: \n",
    "#loss : {‘deviance’, ‘exponential’},\n",
    "#learning_rate : float, optional (default=0.1)\n",
    "#n_estimators : int (default=100)\n",
    "#max_depth : integer, optional (default=3)\n",
    "#min_samples_split : int, float, optional (default=2)\n",
    "grids=dict()\n",
    "XDB_param_grid = {\n",
    "    #\"model__loss\":  [\"deviance\", 'exponential'],\n",
    "    \"model__learning_rate\" : [1e-3,0.01, 0.1],\n",
    "    \"model__n_estimators\" : [10, 50,75, 100, 250],\n",
    "    \"model__max_depth\" : [2,3,5,10],\n",
    "    \"model__min_samples_split\" : [2,5,10,20]\n",
    "}\n",
    "grids[GradientBoostingClassifier] = XDB_param_grid"
   ]
  },
  {
   "cell_type": "code",
   "execution_count": 228,
   "metadata": {
    "collapsed": false
   },
   "outputs": [],
   "source": [
    "# model : RandomForestClassifier, parameters: \n",
    "# n_estimators : int (default=100)\n",
    "# criterion : \"gini\",\"entropy\"\n",
    "# max_features : auto , fraction\n",
    "# max_depth : integer, optional (default=3)\n",
    "# min_samples_split : int, float, optional (default=2)\n",
    "\n",
    "RF_param_grid = {\n",
    "    \"model__criterion\":  [\"gini\", \"entropy\"],\n",
    "    \"model__n_estimators\" : [100,250],\n",
    "    #\"model__max_features\" : [\"auto\",0.5,0.25,0.1],\n",
    "    \"model__max_depth\" : [2,5,10],\n",
    "    \"model__min_samples_split\" : [2,10,20]\n",
    "}\n",
    "grids[RandomForestClassifier] = RF_param_grid"
   ]
  },
  {
   "cell_type": "code",
   "execution_count": 229,
   "metadata": {
    "collapsed": false
   },
   "outputs": [],
   "source": [
    "m  = type(dict(pipeline.steps)[\"model\"])\n",
    "param_grid=grids[m]"
   ]
  },
  {
   "cell_type": "code",
   "execution_count": 230,
   "metadata": {
    "collapsed": false
   },
   "outputs": [
    {
     "name": "stdout",
     "output_type": "stream",
     "text": [
      "Fitting 6 folds for each of 36 candidates, totalling 216 fits\n"
     ]
    },
    {
     "name": "stderr",
     "output_type": "stream",
     "text": [
      "[Parallel(n_jobs=-1)]: Done  34 tasks      | elapsed:    5.0s\n",
      "[Parallel(n_jobs=-1)]: Done 184 tasks      | elapsed:   32.0s\n",
      "[Parallel(n_jobs=-1)]: Done 216 out of 216 | elapsed:   38.9s finished\n"
     ]
    },
    {
     "name": "stdout",
     "output_type": "stream",
     "text": [
      "Best: 0.935512 using {'model__criterion': 'gini', 'model__max_depth': 5, 'model__min_samples_split': 2, 'model__n_estimators': 100}\n"
     ]
    }
   ],
   "source": [
    "from sklearn.model_selection import GridSearchCV\n",
    "from sklearn.model_selection import StratifiedKFold\n",
    "\n",
    "kfold = StratifiedKFold(n_splits=6, shuffle=True)\n",
    "grid_search = GridSearchCV(pipeline, param_grid, scoring=\"accuracy\", n_jobs=-1, verbose=1,cv=kfold)\n",
    "grid_result = grid_search.fit(feature_mat,label_mat)\n",
    "\n",
    "\n",
    "# summarize results\n",
    "print(\"Best: %f using %s\" % (grid_result.best_score_, grid_result.best_params_))\n",
    "means = grid_result.cv_results_['mean_test_score']\n",
    "stds = grid_result.cv_results_['std_test_score']\n",
    "params = grid_result.cv_results_['params']\n",
    "#for mean, stdev, param in zip(means, stds, params):\n",
    "#    print(\"%f (%f) with: %r\" % (mean, stdev, param))"
   ]
  },
  {
   "cell_type": "code",
   "execution_count": null,
   "metadata": {
    "collapsed": true
   },
   "outputs": [],
   "source": []
  }
 ],
 "metadata": {
  "kernelspec": {
   "display_name": "Python 2",
   "language": "python",
   "name": "python2"
  },
  "language_info": {
   "codemirror_mode": {
    "name": "ipython",
    "version": 2
   },
   "file_extension": ".py",
   "mimetype": "text/x-python",
   "name": "python",
   "nbconvert_exporter": "python",
   "pygments_lexer": "ipython2",
   "version": "2.7.12"
  }
 },
 "nbformat": 4,
 "nbformat_minor": 2
}
