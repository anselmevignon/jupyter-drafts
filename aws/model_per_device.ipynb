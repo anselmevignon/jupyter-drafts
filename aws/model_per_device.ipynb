{
 "cells": [
  {
   "cell_type": "code",
   "execution_count": 7,
   "metadata": {
    "ExecuteTime": {
     "end_time": "2017-01-26T01:08:34.120083",
     "start_time": "2017-01-26T01:08:33.940379"
    },
    "collapsed": false
   },
   "outputs": [
    {
     "data": {
      "text/html": [
       "\n",
       "    <div class=\"bk-root\">\n",
       "        <a href=\"http://bokeh.pydata.org\" target=\"_blank\" class=\"bk-logo bk-logo-small bk-logo-notebook\"></a>\n",
       "        <span id=\"c0facfe9-2117-4409-8606-bf6e9d9c6311\">Loading BokehJS ...</span>\n",
       "    </div>"
      ]
     },
     "metadata": {},
     "output_type": "display_data"
    },
    {
     "data": {
      "application/javascript": [
       "\n",
       "(function(global) {\n",
       "  function now() {\n",
       "    return new Date();\n",
       "  }\n",
       "\n",
       "  var force = true;\n",
       "\n",
       "  if (typeof (window._bokeh_onload_callbacks) === \"undefined\" || force === true) {\n",
       "    window._bokeh_onload_callbacks = [];\n",
       "    window._bokeh_is_loading = undefined;\n",
       "  }\n",
       "\n",
       "\n",
       "  \n",
       "  if (typeof (window._bokeh_timeout) === \"undefined\" || force === true) {\n",
       "    window._bokeh_timeout = Date.now() + 5000;\n",
       "    window._bokeh_failed_load = false;\n",
       "  }\n",
       "\n",
       "  var NB_LOAD_WARNING = {'data': {'text/html':\n",
       "     \"<div style='background-color: #fdd'>\\n\"+\n",
       "     \"<p>\\n\"+\n",
       "     \"BokehJS does not appear to have successfully loaded. If loading BokehJS from CDN, this \\n\"+\n",
       "     \"may be due to a slow or bad network connection. Possible fixes:\\n\"+\n",
       "     \"</p>\\n\"+\n",
       "     \"<ul>\\n\"+\n",
       "     \"<li>re-rerun `output_notebook()` to attempt to load from CDN again, or</li>\\n\"+\n",
       "     \"<li>use INLINE resources instead, as so:</li>\\n\"+\n",
       "     \"</ul>\\n\"+\n",
       "     \"<code>\\n\"+\n",
       "     \"from bokeh.resources import INLINE\\n\"+\n",
       "     \"output_notebook(resources=INLINE)\\n\"+\n",
       "     \"</code>\\n\"+\n",
       "     \"</div>\"}};\n",
       "\n",
       "  function display_loaded() {\n",
       "    if (window.Bokeh !== undefined) {\n",
       "      document.getElementById(\"c0facfe9-2117-4409-8606-bf6e9d9c6311\").textContent = \"BokehJS successfully loaded.\";\n",
       "    } else if (Date.now() < window._bokeh_timeout) {\n",
       "      setTimeout(display_loaded, 100)\n",
       "    }\n",
       "  }\n",
       "\n",
       "  function run_callbacks() {\n",
       "    window._bokeh_onload_callbacks.forEach(function(callback) { callback() });\n",
       "    delete window._bokeh_onload_callbacks\n",
       "    console.info(\"Bokeh: all callbacks have finished\");\n",
       "  }\n",
       "\n",
       "  function load_libs(js_urls, callback) {\n",
       "    window._bokeh_onload_callbacks.push(callback);\n",
       "    if (window._bokeh_is_loading > 0) {\n",
       "      console.log(\"Bokeh: BokehJS is being loaded, scheduling callback at\", now());\n",
       "      return null;\n",
       "    }\n",
       "    if (js_urls == null || js_urls.length === 0) {\n",
       "      run_callbacks();\n",
       "      return null;\n",
       "    }\n",
       "    console.log(\"Bokeh: BokehJS not loaded, scheduling load and callback at\", now());\n",
       "    window._bokeh_is_loading = js_urls.length;\n",
       "    for (var i = 0; i < js_urls.length; i++) {\n",
       "      var url = js_urls[i];\n",
       "      var s = document.createElement('script');\n",
       "      s.src = url;\n",
       "      s.async = false;\n",
       "      s.onreadystatechange = s.onload = function() {\n",
       "        window._bokeh_is_loading--;\n",
       "        if (window._bokeh_is_loading === 0) {\n",
       "          console.log(\"Bokeh: all BokehJS libraries loaded\");\n",
       "          run_callbacks()\n",
       "        }\n",
       "      };\n",
       "      s.onerror = function() {\n",
       "        console.warn(\"failed to load library \" + url);\n",
       "      };\n",
       "      console.log(\"Bokeh: injecting script tag for BokehJS library: \", url);\n",
       "      document.getElementsByTagName(\"head\")[0].appendChild(s);\n",
       "    }\n",
       "  };var element = document.getElementById(\"c0facfe9-2117-4409-8606-bf6e9d9c6311\");\n",
       "  if (element == null) {\n",
       "    console.log(\"Bokeh: ERROR: autoload.js configured with elementid 'c0facfe9-2117-4409-8606-bf6e9d9c6311' but no matching script tag was found. \")\n",
       "    return false;\n",
       "  }\n",
       "\n",
       "  var js_urls = [\"https://cdn.pydata.org/bokeh/release/bokeh-0.12.4.min.js\", \"https://cdn.pydata.org/bokeh/release/bokeh-widgets-0.12.4.min.js\"];\n",
       "\n",
       "  var inline_js = [\n",
       "    function(Bokeh) {\n",
       "      Bokeh.set_log_level(\"info\");\n",
       "    },\n",
       "    \n",
       "    function(Bokeh) {\n",
       "      \n",
       "      document.getElementById(\"c0facfe9-2117-4409-8606-bf6e9d9c6311\").textContent = \"BokehJS is loading...\";\n",
       "    },\n",
       "    function(Bokeh) {\n",
       "      console.log(\"Bokeh: injecting CSS: https://cdn.pydata.org/bokeh/release/bokeh-0.12.4.min.css\");\n",
       "      Bokeh.embed.inject_css(\"https://cdn.pydata.org/bokeh/release/bokeh-0.12.4.min.css\");\n",
       "      console.log(\"Bokeh: injecting CSS: https://cdn.pydata.org/bokeh/release/bokeh-widgets-0.12.4.min.css\");\n",
       "      Bokeh.embed.inject_css(\"https://cdn.pydata.org/bokeh/release/bokeh-widgets-0.12.4.min.css\");\n",
       "    }\n",
       "  ];\n",
       "\n",
       "  function run_inline_js() {\n",
       "    \n",
       "    if ((window.Bokeh !== undefined) || (force === true)) {\n",
       "      for (var i = 0; i < inline_js.length; i++) {\n",
       "        inline_js[i](window.Bokeh);\n",
       "      }if (force === true) {\n",
       "        display_loaded();\n",
       "      }} else if (Date.now() < window._bokeh_timeout) {\n",
       "      setTimeout(run_inline_js, 100);\n",
       "    } else if (!window._bokeh_failed_load) {\n",
       "      console.log(\"Bokeh: BokehJS failed to load within specified timeout.\");\n",
       "      window._bokeh_failed_load = true;\n",
       "    } else if (force !== true) {\n",
       "      var cell = $(document.getElementById(\"c0facfe9-2117-4409-8606-bf6e9d9c6311\")).parents('.cell').data().cell;\n",
       "      cell.output_area.append_execute_result(NB_LOAD_WARNING)\n",
       "    }\n",
       "\n",
       "  }\n",
       "\n",
       "  if (window._bokeh_is_loading === 0) {\n",
       "    console.log(\"Bokeh: BokehJS loaded, going straight to plotting\");\n",
       "    run_inline_js();\n",
       "  } else {\n",
       "    load_libs(js_urls, function() {\n",
       "      console.log(\"Bokeh: BokehJS plotting callback run at\", now());\n",
       "      run_inline_js();\n",
       "    });\n",
       "  }\n",
       "}(this));"
      ]
     },
     "metadata": {},
     "output_type": "display_data"
    }
   ],
   "source": [
    "import pandas as pd\n",
    "import numpy as np\n",
    "import calendar\n",
    "\n",
    "from ML import filter_devices, build_deriv, resample_per_device, subsample_negatives\n",
    "from fft import fft_peak\n",
    "\n",
    "from bokeh.charts import output_notebook, Scatter, Bar, show, output_file, Line, BoxPlot, Scatter\n",
    "from bokeh.plotting import figure\n",
    "from bokeh.layouts import row, column, gridplot\n",
    "from bokeh.io import hplot\n",
    "\n",
    "from sklearn.model_selection import cross_val_score\n",
    "from sklearn.ensemble import GradientBoostingClassifier, RandomForestClassifier\n",
    "from sklearn.pipeline import Pipeline\n",
    "from sklearn.decomposition import PCA\n",
    "from sklearn.preprocessing import Normalizer\n",
    "from sklearn.metrics import roc_curve, auc\n",
    "from sklearn.svm import SVC, NuSVC\n",
    "from sklearn.model_selection import LeavePGroupsOut, GroupShuffleSplit\n",
    "from sklearn.model_selection import train_test_split\n",
    "from sklearn.metrics import roc_curve, accuracy_score,precision_recall_curve, auc\n",
    "from sklearn.model_selection import GridSearchCV\n",
    "from sklearn.model_selection import StratifiedKFold\n",
    "\n",
    "\n",
    "output_notebook()"
   ]
  },
  {
   "cell_type": "code",
   "execution_count": 2,
   "metadata": {
    "ExecuteTime": {
     "end_time": "2017-01-26T01:07:45.609883",
     "start_time": "2017-01-26T01:07:45.451649"
    },
    "collapsed": false
   },
   "outputs": [],
   "source": [
    "INPUT=\"data/train.csv\" \n",
    "dataset = pd.read_csv(INPUT,index_col=[0,1],parse_dates=[0])"
   ]
  },
  {
   "cell_type": "markdown",
   "metadata": {},
   "source": [
    "## per device model\n",
    "\n",
    " - Set up first model\n",
    " - Precision/recall, ROC\n",
    " - Calibration\n",
    " - PCA ?\n",
    " - feature engineering\n",
    " - data cleaning\n",
    " - Test other models"
   ]
  },
  {
   "cell_type": "markdown",
   "metadata": {},
   "source": [
    "## Build Training set"
   ]
  },
  {
   "cell_type": "code",
   "execution_count": 3,
   "metadata": {
    "ExecuteTime": {
     "end_time": "2017-01-26T01:07:47.259362",
     "start_time": "2017-01-26T01:07:47.251179"
    },
    "collapsed": false
   },
   "outputs": [],
   "source": [
    "def pre_filter(df):\n",
    "    res = df.copy()\n",
    "    del res[\"attribute1\"]\n",
    "    del res[\"attribute3\"]\n",
    "    #del res[\"attribute5\"]\n",
    "    dt_list = [\"attribute2\"]#,\"attribute8\"]\n",
    "    for c in dt_list:\n",
    "        deriv = build_deriv(res,c)\n",
    "        res[\"dt_%s\" % c] = deriv\n",
    "        res[\"dt2_%s\" % c] =  build_deriv(res,c,2)\n",
    "    return res.fillna(0)\n",
    "\n",
    "def post_filter(df):\n",
    "    res = df.copy()\n",
    "    res = filter_devices(res)\n",
    "    for col in res.columns:\n",
    "        if \"min\" in col:\n",
    "            del res[col]\n",
    "        if \"std\" in col:\n",
    "            del res[col]\n",
    "    return res"
   ]
  },
  {
   "cell_type": "code",
   "execution_count": 4,
   "metadata": {
    "ExecuteTime": {
     "end_time": "2017-01-26T01:07:52.275460",
     "start_time": "2017-01-26T01:07:47.946136"
    },
    "collapsed": false
   },
   "outputs": [],
   "source": [
    "pre_dataset = pre_filter(dataset)\n",
    "#print feature_set.columns\n",
    "\n",
    "features = [f for f in pre_dataset.columns if \"att\" in f]\n",
    "def f_to_dict(feature):\n",
    "    d = {\n",
    "            \"min_%s\" % feature:np.min,\n",
    "            \"max_%s\" % feature:np.max,\n",
    "            \"mean_%s\" % feature :np.mean,\n",
    "            \"std_%s\" % feature:np.std\n",
    "        }\n",
    "    dft_list = [\"attribute4\",\"attribute5\", \"attribute6\",\"attribute7\",\"attribute9\"]\n",
    "    if feature in dft_list:\n",
    "        d[\"dft_p0_ind%s\" % feature] = lambda r : fft_peak(r,p=0,index_no_value=True)\n",
    "        d[\"dft_p0_val%s\" % feature] = lambda r : fft_peak(r,p=0,index_no_value=False)\n",
    "    return d\n",
    "\n",
    "agg_dict = dict( (f,f_to_dict(f)) for f in features )\n",
    "#print agg_dict"
   ]
  },
  {
   "cell_type": "code",
   "execution_count": 5,
   "metadata": {
    "ExecuteTime": {
     "end_time": "2017-01-26T01:08:04.735007",
     "start_time": "2017-01-26T01:07:52.276892"
    },
    "collapsed": false
   },
   "outputs": [],
   "source": [
    "feature_set = pre_dataset.groupby(level=\"device\").agg(agg_dict)\n",
    "feature_set.columns = feature_set.columns.droplevel()\n",
    "feature_set = post_filter(feature_set)\n",
    "\n",
    "# feature filtering\n",
    "# feature filtering\n",
    "#try : \n",
    "#    filtered = feature_set.filter(items=feature_imp.index)\n",
    "#    print \"filtering devices\"\n",
    "#    feature_set = filtered\n",
    "#except:\n",
    "#    print \"no feature filtering\"\n",
    "\n",
    "label_set =  dataset[[\"failure\"]].groupby(level=\"device\").sum()\n",
    "label_set = filter_devices(label_set)\n",
    "feature_mat = feature_set.as_matrix()\n",
    "label_mat = label_set.as_matrix().ravel()"
   ]
  },
  {
   "cell_type": "markdown",
   "metadata": {},
   "source": [
    "## Run model"
   ]
  },
  {
   "cell_type": "code",
   "execution_count": 8,
   "metadata": {
    "ExecuteTime": {
     "end_time": "2017-01-26T01:08:37.833792",
     "start_time": "2017-01-26T01:08:37.533003"
    },
    "collapsed": false
   },
   "outputs": [
    {
     "name": "stdout",
     "output_type": "stream",
     "text": [
      "no optim result, or bad ones: let's keep the default ones\n",
      "accurracy: 0.916181, std(0.00571143))\n"
     ]
    },
    {
     "name": "stderr",
     "output_type": "stream",
     "text": [
      "[Parallel(n_jobs=6)]: Done   3 out of   3 | elapsed:    0.1s finished\n"
     ]
    }
   ],
   "source": [
    "pca = PCA()#n_components=\"mle\",svd_solver=\"full\")\n",
    "norm = Normalizer()\n",
    "\n",
    "\n",
    "#model=GradientBoostingClassifier()\n",
    "model = RandomForestClassifier()\n",
    "#model = SVC(probability=True)\n",
    "\n",
    "pipeline= Pipeline([('normalize', norm),('reduce_dim', pca),(\"model\",model)])\n",
    "\n",
    "try:\n",
    "    # use best parameters if available\n",
    "    #\n",
    "    pipeline.set_params(**grid_result.best_params_)\n",
    "    print \"using last optimized model\"\n",
    "except:\n",
    "    print \"no optim result, or bad ones: let's keep the default ones\"\n",
    "    pass\n",
    "\n",
    "scores = cross_val_score(pipeline, feature_mat, label_mat,cv=3,verbose=1,scoring=\"accuracy\",n_jobs=6)                          \n",
    "print \"accurracy: %g, std(%g))\" % (scores.mean(), scores.std())"
   ]
  },
  {
   "cell_type": "markdown",
   "metadata": {},
   "source": [
    "### Eval Model"
   ]
  },
  {
   "cell_type": "code",
   "execution_count": 9,
   "metadata": {
    "ExecuteTime": {
     "end_time": "2017-01-26T01:08:41.200454",
     "start_time": "2017-01-26T01:08:41.106810"
    },
    "collapsed": false,
    "hide_input": false
   },
   "outputs": [],
   "source": [
    "from sklearn.model_selection import train_test_split\n",
    "from sklearn.metrics import roc_curve, accuracy_score,precision_recall_curve, auc\n",
    "\n",
    "X_train, X_test, Y_train, Y_test = train_test_split(feature_mat,label_mat,test_size=0.3)\n",
    "# calculate the fpr and tpr for all thresholds of the classification\n",
    "\n",
    "fitted = pipeline.fit(X_train,Y_train)\n",
    "probs = fitted.predict_proba(X_test)\n",
    "preds = probs[:,1]\n",
    "preds_train = fitted.predict_proba(X_train)[:,1]\n",
    "fpr, tpr, threshold = roc_curve(Y_test, preds)\n",
    "fpr_train, tpr_train, threshold_train = roc_curve(Y_train, preds_train)\n",
    "roc_auc = auc(fpr, tpr)\n",
    "roc_auc_train = auc(fpr_train, tpr_train)\n",
    "precision, recall, ths = precision_recall_curve(Y_test, preds)\n",
    "precision_train, recall_train, ths_train = precision_recall_curve(Y_train, preds_train)"
   ]
  },
  {
   "cell_type": "code",
   "execution_count": 10,
   "metadata": {
    "ExecuteTime": {
     "end_time": "2017-01-26T01:08:42.248964",
     "start_time": "2017-01-26T01:08:42.146756"
    },
    "collapsed": false
   },
   "outputs": [
    {
     "data": {
      "text/html": [
       "\n",
       "\n",
       "    <div class=\"bk-root\">\n",
       "        <div class=\"bk-plotdiv\" id=\"a3de0d57-4a08-495a-a97d-1f6a6c9fdf37\"></div>\n",
       "    </div>\n",
       "<script type=\"text/javascript\">\n",
       "  \n",
       "  (function(global) {\n",
       "    function now() {\n",
       "      return new Date();\n",
       "    }\n",
       "  \n",
       "    var force = false;\n",
       "  \n",
       "    if (typeof (window._bokeh_onload_callbacks) === \"undefined\" || force === true) {\n",
       "      window._bokeh_onload_callbacks = [];\n",
       "      window._bokeh_is_loading = undefined;\n",
       "    }\n",
       "  \n",
       "  \n",
       "    \n",
       "    if (typeof (window._bokeh_timeout) === \"undefined\" || force === true) {\n",
       "      window._bokeh_timeout = Date.now() + 0;\n",
       "      window._bokeh_failed_load = false;\n",
       "    }\n",
       "  \n",
       "    var NB_LOAD_WARNING = {'data': {'text/html':\n",
       "       \"<div style='background-color: #fdd'>\\n\"+\n",
       "       \"<p>\\n\"+\n",
       "       \"BokehJS does not appear to have successfully loaded. If loading BokehJS from CDN, this \\n\"+\n",
       "       \"may be due to a slow or bad network connection. Possible fixes:\\n\"+\n",
       "       \"</p>\\n\"+\n",
       "       \"<ul>\\n\"+\n",
       "       \"<li>re-rerun `output_notebook()` to attempt to load from CDN again, or</li>\\n\"+\n",
       "       \"<li>use INLINE resources instead, as so:</li>\\n\"+\n",
       "       \"</ul>\\n\"+\n",
       "       \"<code>\\n\"+\n",
       "       \"from bokeh.resources import INLINE\\n\"+\n",
       "       \"output_notebook(resources=INLINE)\\n\"+\n",
       "       \"</code>\\n\"+\n",
       "       \"</div>\"}};\n",
       "  \n",
       "    function display_loaded() {\n",
       "      if (window.Bokeh !== undefined) {\n",
       "        document.getElementById(\"a3de0d57-4a08-495a-a97d-1f6a6c9fdf37\").textContent = \"BokehJS successfully loaded.\";\n",
       "      } else if (Date.now() < window._bokeh_timeout) {\n",
       "        setTimeout(display_loaded, 100)\n",
       "      }\n",
       "    }\n",
       "  \n",
       "    function run_callbacks() {\n",
       "      window._bokeh_onload_callbacks.forEach(function(callback) { callback() });\n",
       "      delete window._bokeh_onload_callbacks\n",
       "      console.info(\"Bokeh: all callbacks have finished\");\n",
       "    }\n",
       "  \n",
       "    function load_libs(js_urls, callback) {\n",
       "      window._bokeh_onload_callbacks.push(callback);\n",
       "      if (window._bokeh_is_loading > 0) {\n",
       "        console.log(\"Bokeh: BokehJS is being loaded, scheduling callback at\", now());\n",
       "        return null;\n",
       "      }\n",
       "      if (js_urls == null || js_urls.length === 0) {\n",
       "        run_callbacks();\n",
       "        return null;\n",
       "      }\n",
       "      console.log(\"Bokeh: BokehJS not loaded, scheduling load and callback at\", now());\n",
       "      window._bokeh_is_loading = js_urls.length;\n",
       "      for (var i = 0; i < js_urls.length; i++) {\n",
       "        var url = js_urls[i];\n",
       "        var s = document.createElement('script');\n",
       "        s.src = url;\n",
       "        s.async = false;\n",
       "        s.onreadystatechange = s.onload = function() {\n",
       "          window._bokeh_is_loading--;\n",
       "          if (window._bokeh_is_loading === 0) {\n",
       "            console.log(\"Bokeh: all BokehJS libraries loaded\");\n",
       "            run_callbacks()\n",
       "          }\n",
       "        };\n",
       "        s.onerror = function() {\n",
       "          console.warn(\"failed to load library \" + url);\n",
       "        };\n",
       "        console.log(\"Bokeh: injecting script tag for BokehJS library: \", url);\n",
       "        document.getElementsByTagName(\"head\")[0].appendChild(s);\n",
       "      }\n",
       "    };var element = document.getElementById(\"a3de0d57-4a08-495a-a97d-1f6a6c9fdf37\");\n",
       "    if (element == null) {\n",
       "      console.log(\"Bokeh: ERROR: autoload.js configured with elementid 'a3de0d57-4a08-495a-a97d-1f6a6c9fdf37' but no matching script tag was found. \")\n",
       "      return false;\n",
       "    }\n",
       "  \n",
       "    var js_urls = [];\n",
       "  \n",
       "    var inline_js = [\n",
       "      function(Bokeh) {\n",
       "        (function() {\n",
       "          var fn = function() {\n",
       "            var docs_json = {\"07079069-a508-45f8-bc95-a7017334b468\":{\"roots\":{\"references\":[{\"attributes\":{\"callback\":null},\"id\":\"269891df-8b0f-4fe4-b62d-951844434c96\",\"type\":\"DataRange1d\"},{\"attributes\":{\"axis_label\":\"precision\",\"formatter\":{\"id\":\"d301353c-ff4c-45ca-ad1f-0965d3e5813b\",\"type\":\"BasicTickFormatter\"},\"plot\":{\"id\":\"2257fae1-1fa3-4873-b0a1-991314206939\",\"subtype\":\"Figure\",\"type\":\"Plot\"},\"ticker\":{\"id\":\"5961e8f2-f000-4656-83db-31193e17d424\",\"type\":\"BasicTicker\"}},\"id\":\"5bf468c6-c132-428b-af81-295291babb2f\",\"type\":\"LinearAxis\"},{\"attributes\":{\"callback\":null,\"column_names\":[\"y\",\"x\"],\"data\":{\"x\":{\"__ndarray__\":\"AAAAAAAAAAAp7UZASrtxPyntRkBKu3E/Ke1GQEq7gT9zqFjQHCqWPyntRkBKu6E/c6hY0Bwqpj/8W0vk/tayP5DSbgSktLs/CnFWfkKcxT8IH3zwwQfPPwAAAAAAAPA/\",\"dtype\":\"float64\",\"shape\":[12]},\"y\":{\"__ndarray__\":\"AAAAAAAAAAAAAAAAAAAAAGgvob2E9sI/ewntJbSX0D8vob2E9hLaPwntJbSX0N4/ewntJbSX4D9VVVVVVVXlP0J7Ce0ltOc/L6G9hPYS6j8mtJfQXkLrPwAAAAAAAPA/\",\"dtype\":\"float64\",\"shape\":[12]}}},\"id\":\"852f4921-6261-4310-8cc5-fb4d0649b8e7\",\"type\":\"ColumnDataSource\"},{\"attributes\":{\"label\":{\"value\":\"PR\"},\"renderers\":[{\"id\":\"edac43d7-76db-4a97-9dc0-908e59f4219c\",\"type\":\"GlyphRenderer\"}]},\"id\":\"722de32c-6644-4ece-8658-a0f19ee91ccd\",\"type\":\"LegendItem\"},{\"attributes\":{\"plot\":{\"id\":\"2257fae1-1fa3-4873-b0a1-991314206939\",\"subtype\":\"Figure\",\"type\":\"Plot\"}},\"id\":\"f160dca2-0ef8-4e75-b17b-3457fb9fa037\",\"type\":\"ResetTool\"},{\"attributes\":{\"plot\":{\"id\":\"5aa5ebf0-4e24-41a7-9316-1889efec6aa9\",\"subtype\":\"Figure\",\"type\":\"Plot\"}},\"id\":\"08829820-c843-4765-96d2-d24e5a58cc1b\",\"type\":\"PanTool\"},{\"attributes\":{\"line_color\":{\"value\":\"#1f77b4\"},\"x\":{\"field\":\"x\"},\"y\":{\"field\":\"y\"}},\"id\":\"fc67d7d3-9daf-401f-a3c2-acf1a385bd9a\",\"type\":\"Line\"},{\"attributes\":{\"data_source\":{\"id\":\"f113e84b-68c7-413c-9e34-78a023134dcf\",\"type\":\"ColumnDataSource\"},\"glyph\":{\"id\":\"e0b9334c-202a-4293-af28-ff8490874a68\",\"type\":\"Line\"},\"hover_glyph\":null,\"nonselection_glyph\":{\"id\":\"bbfeaaf2-4fa5-4440-8ad0-c6d057ceb504\",\"type\":\"Line\"},\"selection_glyph\":null},\"id\":\"2adcc07f-1ad6-4352-845c-d8db4d1faeca\",\"type\":\"GlyphRenderer\"},{\"attributes\":{},\"id\":\"8cb92799-4028-4dcd-8820-5954a1e04dce\",\"type\":\"BasicTicker\"},{\"attributes\":{\"plot\":{\"id\":\"2257fae1-1fa3-4873-b0a1-991314206939\",\"subtype\":\"Figure\",\"type\":\"Plot\"}},\"id\":\"753f38a3-56ae-49aa-9343-ea01592bd731\",\"type\":\"PanTool\"},{\"attributes\":{\"label\":{\"value\":\"roc on train\"},\"renderers\":[{\"id\":\"39f6e3b5-7718-4a4e-9aa2-2046cff6e1ed\",\"type\":\"GlyphRenderer\"}]},\"id\":\"3e9502e3-109e-457e-93cd-d6b25e111885\",\"type\":\"LegendItem\"},{\"attributes\":{\"axis_label\":\"fpr\",\"formatter\":{\"id\":\"aa8a7b23-ef0c-430d-b368-52c0d5093d57\",\"type\":\"BasicTickFormatter\"},\"plot\":{\"id\":\"5aa5ebf0-4e24-41a7-9316-1889efec6aa9\",\"subtype\":\"Figure\",\"type\":\"Plot\"},\"ticker\":{\"id\":\"f762eedd-b854-4756-a743-da638a8fc69b\",\"type\":\"BasicTicker\"}},\"id\":\"b4bf1000-d76a-49e8-bb8a-a062dec6d58e\",\"type\":\"LinearAxis\"},{\"attributes\":{\"data_source\":{\"id\":\"16558a6f-1b82-48eb-9de9-eda7f90731c1\",\"type\":\"ColumnDataSource\"},\"glyph\":{\"id\":\"4a2d889c-c07d-4e98-83e2-e2ecaa60c90e\",\"type\":\"Cross\"},\"hover_glyph\":null,\"nonselection_glyph\":{\"id\":\"fa849c2a-755b-493a-be2a-66780a0dfd6c\",\"type\":\"Cross\"},\"selection_glyph\":null},\"id\":\"80a67772-bb60-42f5-9618-9fd03c8f8612\",\"type\":\"GlyphRenderer\"},{\"attributes\":{\"data_source\":{\"id\":\"d3e732a6-89dd-41ca-b5bd-0ee815b6d12a\",\"type\":\"ColumnDataSource\"},\"glyph\":{\"id\":\"fc67d7d3-9daf-401f-a3c2-acf1a385bd9a\",\"type\":\"Line\"},\"hover_glyph\":null,\"nonselection_glyph\":{\"id\":\"7404e6d1-f23f-440c-aeed-8dee2a493199\",\"type\":\"Line\"},\"selection_glyph\":null},\"id\":\"edac43d7-76db-4a97-9dc0-908e59f4219c\",\"type\":\"GlyphRenderer\"},{\"attributes\":{\"active_drag\":\"auto\",\"active_scroll\":\"auto\",\"active_tap\":\"auto\",\"tools\":[{\"id\":\"08829820-c843-4765-96d2-d24e5a58cc1b\",\"type\":\"PanTool\"},{\"id\":\"b8fd2fb1-056e-498e-ae20-e5934fd177ec\",\"type\":\"WheelZoomTool\"},{\"id\":\"9d4c1fdd-d96a-4345-aced-78a299b8892b\",\"type\":\"BoxZoomTool\"},{\"id\":\"facfb449-46f9-4466-93e3-a8db5ccfba55\",\"type\":\"SaveTool\"},{\"id\":\"86a32286-c175-4b55-85a4-a308599f8f83\",\"type\":\"ResetTool\"},{\"id\":\"594f0e03-f572-4e88-a90b-c770222afdbf\",\"type\":\"HelpTool\"}]},\"id\":\"0640d64f-4f95-423f-9a97-9680d455910c\",\"type\":\"Toolbar\"},{\"attributes\":{},\"id\":\"5961e8f2-f000-4656-83db-31193e17d424\",\"type\":\"BasicTicker\"},{\"attributes\":{\"dimension\":1,\"plot\":{\"id\":\"5aa5ebf0-4e24-41a7-9316-1889efec6aa9\",\"subtype\":\"Figure\",\"type\":\"Plot\"},\"ticker\":{\"id\":\"f762eedd-b854-4756-a743-da638a8fc69b\",\"type\":\"BasicTicker\"}},\"id\":\"a1c4b89a-0b14-46d3-bf78-58fa13f8ce1b\",\"type\":\"Grid\"},{\"attributes\":{\"below\":[{\"id\":\"0655b336-1292-4787-8a00-bd6b8ec9b4b6\",\"type\":\"LinearAxis\"}],\"left\":[{\"id\":\"b4bf1000-d76a-49e8-bb8a-a062dec6d58e\",\"type\":\"LinearAxis\"}],\"plot_height\":400,\"plot_width\":400,\"renderers\":[{\"id\":\"0655b336-1292-4787-8a00-bd6b8ec9b4b6\",\"type\":\"LinearAxis\"},{\"id\":\"50a96305-6926-4362-946e-56960a6c6e9e\",\"type\":\"Grid\"},{\"id\":\"b4bf1000-d76a-49e8-bb8a-a062dec6d58e\",\"type\":\"LinearAxis\"},{\"id\":\"a1c4b89a-0b14-46d3-bf78-58fa13f8ce1b\",\"type\":\"Grid\"},{\"id\":\"8060d656-41e1-4fbb-b72f-ead43fd4fe9f\",\"type\":\"BoxAnnotation\"},{\"id\":\"80a67772-bb60-42f5-9618-9fd03c8f8612\",\"type\":\"GlyphRenderer\"},{\"id\":\"04761815-f6dc-49ad-9b5a-7ef8b280b9e5\",\"type\":\"Legend\"},{\"id\":\"987441d5-c465-4aa7-a529-6b9dcf7eeadc\",\"type\":\"GlyphRenderer\"},{\"id\":\"8b41a7c4-ab1d-45f3-8ca6-0bf2b00f409a\",\"type\":\"GlyphRenderer\"},{\"id\":\"39f6e3b5-7718-4a4e-9aa2-2046cff6e1ed\",\"type\":\"GlyphRenderer\"},{\"id\":\"d48b6487-5139-4822-9230-c8286ac07400\",\"type\":\"GlyphRenderer\"}],\"title\":{\"id\":\"969941c2-4d9f-4b17-b82e-30e48b5df9a8\",\"type\":\"Title\"},\"tool_events\":{\"id\":\"be3b58ca-06ee-4c66-9282-00bd9cac9e0b\",\"type\":\"ToolEvents\"},\"toolbar\":{\"id\":\"0640d64f-4f95-423f-9a97-9680d455910c\",\"type\":\"Toolbar\"},\"x_range\":{\"id\":\"10935e3c-13dc-48e2-bea6-e1a202bb73da\",\"type\":\"Range1d\"},\"y_range\":{\"id\":\"10935e3c-13dc-48e2-bea6-e1a202bb73da\",\"type\":\"Range1d\"}},\"id\":\"5aa5ebf0-4e24-41a7-9316-1889efec6aa9\",\"subtype\":\"Figure\",\"type\":\"Plot\"},{\"attributes\":{\"callback\":null,\"column_names\":[\"y\",\"x\"],\"data\":{\"x\":{\"__ndarray__\":\"AAAAAAAAAAAp7UZASrtxPyntRkBKu3E/Ke1GQEq7gT9zqFjQHCqWPyntRkBKu6E/c6hY0Bwqpj/8W0vk/tayP5DSbgSktLs/CnFWfkKcxT8IH3zwwQfPPwAAAAAAAPA/\",\"dtype\":\"float64\",\"shape\":[12]},\"y\":{\"__ndarray__\":\"AAAAAAAAAAAAAAAAAAAAAGgvob2E9sI/ewntJbSX0D8vob2E9hLaPwntJbSX0N4/ewntJbSX4D9VVVVVVVXlP0J7Ce0ltOc/L6G9hPYS6j8mtJfQXkLrPwAAAAAAAPA/\",\"dtype\":\"float64\",\"shape\":[12]}}},\"id\":\"16558a6f-1b82-48eb-9de9-eda7f90731c1\",\"type\":\"ColumnDataSource\"},{\"attributes\":{\"data_source\":{\"id\":\"c07912cf-2ae6-4be3-b008-7354ea922ee3\",\"type\":\"ColumnDataSource\"},\"glyph\":{\"id\":\"8cbd3a2b-9f2b-4271-888f-f4fe08cef057\",\"type\":\"Circle\"},\"hover_glyph\":null,\"nonselection_glyph\":{\"id\":\"c28ac0a1-0db0-4090-959e-0807f7bb42da\",\"type\":\"Circle\"},\"selection_glyph\":null},\"id\":\"18e10563-107a-4f65-960c-b4155c6773f8\",\"type\":\"GlyphRenderer\"},{\"attributes\":{\"callback\":null,\"column_names\":[\"y\",\"x\"],\"data\":{\"x\":{\"__ndarray__\":\"AAAAAAAA8D8mtJfQXkLrPy+hvYT2Euo/QnsJ7SW05z9VVVVVVVXlP3sJ7SW0l+A/Ce0ltJfQ3j8vob2E9hLaP3sJ7SW0l9A/aC+hvYT2wj8AAAAAAAAAAAAAAAAAAAAA\",\"dtype\":\"float64\",\"shape\":[12]},\"y\":{\"__ndarray__\":\"s6asKWvKuj9EpSN7BqLSPxGso837FNc/HMdxHMdx3D9QB3VQB3XgP6uqqqqqquI/9DzP8zzP4z8AAAAAAADmPzmO4ziO4+g/mpmZmZmZ6T8AAAAAAAAAAAAAAAAAAPA/\",\"dtype\":\"float64\",\"shape\":[12]}}},\"id\":\"d3e732a6-89dd-41ca-b5bd-0ee815b6d12a\",\"type\":\"ColumnDataSource\"},{\"attributes\":{\"callback\":null,\"column_names\":[\"y\",\"x\"],\"data\":{\"x\":{\"__ndarray__\":\"AAAAAAAAAAAAAAAAAAAAAAAAAAAAAAAAAAAAAAAAAAAAAAAAAAAAAAAAAAAAAAAAkHJT0Tyhdj9TsDb0xmaaPzRPqAWMSaw/zlV2WwKlvj8AAAAAAADwPw==\",\"dtype\":\"float64\",\"shape\":[11]},\"y\":{\"__ndarray__\":\"fBphuacRtj/d0wjLPY3gP6gRlnsaYek/1AjLPY2w7D+NsNzTCMvtPyMs9zTCcu8/Iyz3NMJy7z8AAAAAAADwPwAAAAAAAPA/AAAAAAAA8D8AAAAAAADwPw==\",\"dtype\":\"float64\",\"shape\":[11]}}},\"id\":\"c57106ec-3483-457f-867f-9c40795c7b49\",\"type\":\"ColumnDataSource\"},{\"attributes\":{\"data_source\":{\"id\":\"9587d44a-8736-4f54-b136-29f8065c6ea9\",\"type\":\"ColumnDataSource\"},\"glyph\":{\"id\":\"373cddea-b412-46b1-a0f6-fa7b0ae2d0e3\",\"type\":\"Cross\"},\"hover_glyph\":null,\"nonselection_glyph\":{\"id\":\"84c8746b-c938-49be-a476-346eaff38a13\",\"type\":\"Cross\"},\"selection_glyph\":null},\"id\":\"fdfba058-4da6-458b-b27c-fe2f470db301\",\"type\":\"GlyphRenderer\"},{\"attributes\":{\"callback\":null},\"id\":\"173de8da-b626-4f71-ac3b-eb1daae36a25\",\"type\":\"DataRange1d\"},{\"attributes\":{\"line_color\":{\"value\":\"#1f77b4\"},\"x\":{\"field\":\"x\"},\"y\":{\"field\":\"y\"}},\"id\":\"166feb31-df00-4ed0-a343-3e126cbf5b02\",\"type\":\"Line\"},{\"attributes\":{\"line_alpha\":{\"value\":0.1},\"line_color\":{\"value\":\"#1f77b4\"},\"x\":{\"field\":\"x\"},\"y\":{\"field\":\"y\"}},\"id\":\"21f256ce-5036-43df-b107-00611911d965\",\"type\":\"Line\"},{\"attributes\":{\"callback\":null,\"column_names\":[\"y\",\"x\"],\"data\":{\"x\":{\"__ndarray__\":\"AAAAAAAA8D8mtJfQXkLrPy+hvYT2Euo/QnsJ7SW05z9VVVVVVVXlP3sJ7SW0l+A/Ce0ltJfQ3j8vob2E9hLaP3sJ7SW0l9A/aC+hvYT2wj8AAAAAAAAAAAAAAAAAAAAA\",\"dtype\":\"float64\",\"shape\":[12]},\"y\":{\"__ndarray__\":\"s6asKWvKuj9EpSN7BqLSPxGso837FNc/HMdxHMdx3D9QB3VQB3XgP6uqqqqqquI/9DzP8zzP4z8AAAAAAADmPzmO4ziO4+g/mpmZmZmZ6T8AAAAAAAAAAAAAAAAAAPA/\",\"dtype\":\"float64\",\"shape\":[12]}}},\"id\":\"9587d44a-8736-4f54-b136-29f8065c6ea9\",\"type\":\"ColumnDataSource\"},{\"attributes\":{\"plot\":null,\"text\":\"PR curve\"},\"id\":\"1d086e9a-2edb-4e7b-af97-0fb654ce04fc\",\"type\":\"Title\"},{\"attributes\":{},\"id\":\"c423a895-17e0-4808-9f53-2c9bef892615\",\"type\":\"BasicTickFormatter\"},{\"attributes\":{},\"id\":\"aa8a7b23-ef0c-430d-b368-52c0d5093d57\",\"type\":\"BasicTickFormatter\"},{\"attributes\":{\"dimension\":1,\"plot\":{\"id\":\"2257fae1-1fa3-4873-b0a1-991314206939\",\"subtype\":\"Figure\",\"type\":\"Plot\"},\"ticker\":{\"id\":\"5961e8f2-f000-4656-83db-31193e17d424\",\"type\":\"BasicTicker\"}},\"id\":\"422a8bfc-35c2-49cd-9822-50a175dd3240\",\"type\":\"Grid\"},{\"attributes\":{\"data_source\":{\"id\":\"c57106ec-3483-457f-867f-9c40795c7b49\",\"type\":\"ColumnDataSource\"},\"glyph\":{\"id\":\"18a14d86-fbbe-4f5c-bbb3-8026ed452d69\",\"type\":\"Circle\"},\"hover_glyph\":null,\"nonselection_glyph\":{\"id\":\"305a9cc2-4514-49d9-a52b-cc1111ed84e1\",\"type\":\"Circle\"},\"selection_glyph\":null},\"id\":\"8b41a7c4-ab1d-45f3-8ca6-0bf2b00f409a\",\"type\":\"GlyphRenderer\"},{\"attributes\":{\"line_alpha\":{\"value\":0.1},\"line_color\":{\"value\":\"#1f77b4\"},\"x\":{\"field\":\"x\"},\"y\":{\"field\":\"y\"}},\"id\":\"7404e6d1-f23f-440c-aeed-8dee2a493199\",\"type\":\"Line\"},{\"attributes\":{\"plot\":{\"id\":\"5aa5ebf0-4e24-41a7-9316-1889efec6aa9\",\"subtype\":\"Figure\",\"type\":\"Plot\"}},\"id\":\"facfb449-46f9-4466-93e3-a8db5ccfba55\",\"type\":\"SaveTool\"},{\"attributes\":{\"bottom_units\":\"screen\",\"fill_alpha\":{\"value\":0.5},\"fill_color\":{\"value\":\"lightgrey\"},\"left_units\":\"screen\",\"level\":\"overlay\",\"line_alpha\":{\"value\":1.0},\"line_color\":{\"value\":\"black\"},\"line_dash\":[4,4],\"line_width\":{\"value\":2},\"plot\":null,\"render_mode\":\"css\",\"right_units\":\"screen\",\"top_units\":\"screen\"},\"id\":\"998ac605-3df8-4383-918c-5785179dab99\",\"type\":\"BoxAnnotation\"},{\"attributes\":{\"line_alpha\":{\"value\":0.1},\"line_color\":{\"value\":\"#1f77b4\"},\"x\":{\"field\":\"x\"},\"y\":{\"field\":\"y\"}},\"id\":\"b933ff04-be64-4aa8-a718-bc45bc8f3bef\",\"type\":\"Line\"},{\"attributes\":{},\"id\":\"acfb42e6-1b40-45d4-a8bf-765a96d84767\",\"type\":\"BasicTickFormatter\"},{\"attributes\":{\"line_alpha\":{\"value\":0.1},\"line_color\":{\"value\":\"#1f77b4\"},\"x\":{\"field\":\"x\"},\"y\":{\"field\":\"y\"}},\"id\":\"bbfeaaf2-4fa5-4440-8ad0-c6d057ceb504\",\"type\":\"Line\"},{\"attributes\":{\"line_alpha\":{\"value\":0.1},\"line_color\":{\"value\":\"#1f77b4\"},\"x\":{\"field\":\"x\"},\"y\":{\"field\":\"y\"}},\"id\":\"8f3e787c-2846-450d-97d5-6b038bcde9b7\",\"type\":\"Line\"},{\"attributes\":{\"line_color\":{\"value\":\"red\"},\"x\":{\"field\":\"x\"},\"y\":{\"field\":\"y\"}},\"id\":\"e0b9334c-202a-4293-af28-ff8490874a68\",\"type\":\"Line\"},{\"attributes\":{\"fill_color\":{\"value\":\"#1f77b4\"},\"line_color\":{\"value\":\"#1f77b4\"},\"size\":{\"units\":\"screen\",\"value\":5},\"x\":{\"field\":\"x\"},\"y\":{\"field\":\"y\"}},\"id\":\"4a2d889c-c07d-4e98-83e2-e2ecaa60c90e\",\"type\":\"Cross\"},{\"attributes\":{\"fill_color\":{\"value\":\"red\"},\"line_color\":{\"value\":\"red\"},\"size\":{\"units\":\"screen\",\"value\":5},\"x\":{\"field\":\"x\"},\"y\":{\"field\":\"y\"}},\"id\":\"18a14d86-fbbe-4f5c-bbb3-8026ed452d69\",\"type\":\"Circle\"},{\"attributes\":{},\"id\":\"f762eedd-b854-4756-a743-da638a8fc69b\",\"type\":\"BasicTicker\"},{\"attributes\":{\"line_color\":{\"value\":\"grey\"},\"x\":{\"field\":\"x\"},\"y\":{\"field\":\"y\"}},\"id\":\"8306c9a6-795b-4089-ad02-f2bbdb7a1671\",\"type\":\"Line\"},{\"attributes\":{\"plot\":{\"id\":\"2257fae1-1fa3-4873-b0a1-991314206939\",\"subtype\":\"Figure\",\"type\":\"Plot\"}},\"id\":\"5bbcfa11-7a25-42e4-8ea5-a3eb0e9fe75e\",\"type\":\"WheelZoomTool\"},{\"attributes\":{\"overlay\":{\"id\":\"8060d656-41e1-4fbb-b72f-ead43fd4fe9f\",\"type\":\"BoxAnnotation\"},\"plot\":{\"id\":\"5aa5ebf0-4e24-41a7-9316-1889efec6aa9\",\"subtype\":\"Figure\",\"type\":\"Plot\"}},\"id\":\"9d4c1fdd-d96a-4345-aced-78a299b8892b\",\"type\":\"BoxZoomTool\"},{\"attributes\":{\"children\":[{\"id\":\"2257fae1-1fa3-4873-b0a1-991314206939\",\"subtype\":\"Figure\",\"type\":\"Plot\"},{\"id\":\"5aa5ebf0-4e24-41a7-9316-1889efec6aa9\",\"subtype\":\"Figure\",\"type\":\"Plot\"}]},\"id\":\"47827694-9173-4184-8617-db7c6a0418d2\",\"type\":\"Row\"},{\"attributes\":{\"fill_alpha\":{\"value\":0.1},\"fill_color\":{\"value\":\"#1f77b4\"},\"line_alpha\":{\"value\":0.1},\"line_color\":{\"value\":\"#1f77b4\"},\"size\":{\"units\":\"screen\",\"value\":5},\"x\":{\"field\":\"x\"},\"y\":{\"field\":\"y\"}},\"id\":\"84c8746b-c938-49be-a476-346eaff38a13\",\"type\":\"Cross\"},{\"attributes\":{\"data_source\":{\"id\":\"98d70a58-dc68-4e54-852c-a234a9d95388\",\"type\":\"ColumnDataSource\"},\"glyph\":{\"id\":\"8306c9a6-795b-4089-ad02-f2bbdb7a1671\",\"type\":\"Line\"},\"hover_glyph\":null,\"nonselection_glyph\":{\"id\":\"21f256ce-5036-43df-b107-00611911d965\",\"type\":\"Line\"},\"selection_glyph\":null},\"id\":\"d48b6487-5139-4822-9230-c8286ac07400\",\"type\":\"GlyphRenderer\"},{\"attributes\":{\"overlay\":{\"id\":\"998ac605-3df8-4383-918c-5785179dab99\",\"type\":\"BoxAnnotation\"},\"plot\":{\"id\":\"2257fae1-1fa3-4873-b0a1-991314206939\",\"subtype\":\"Figure\",\"type\":\"Plot\"}},\"id\":\"9e4067ae-b3ec-4199-bd8d-8c79d9aae08d\",\"type\":\"BoxZoomTool\"},{\"attributes\":{\"label\":{\"value\":\"roc\"},\"renderers\":[{\"id\":\"987441d5-c465-4aa7-a529-6b9dcf7eeadc\",\"type\":\"GlyphRenderer\"}]},\"id\":\"aba52c65-50fd-456f-81b2-88b75d113aef\",\"type\":\"LegendItem\"},{\"attributes\":{\"line_color\":{\"value\":\"red\"},\"x\":{\"field\":\"x\"},\"y\":{\"field\":\"y\"}},\"id\":\"c22ae3cd-a78e-46f2-9fdd-f8c9574d337d\",\"type\":\"Line\"},{\"attributes\":{},\"id\":\"af5b30ac-2b5a-4e83-ac83-39912bc68068\",\"type\":\"ToolEvents\"},{\"attributes\":{\"below\":[{\"id\":\"c4d0393f-0287-499a-ab8a-600b28485e03\",\"type\":\"LinearAxis\"}],\"left\":[{\"id\":\"5bf468c6-c132-428b-af81-295291babb2f\",\"type\":\"LinearAxis\"}],\"plot_height\":400,\"plot_width\":400,\"renderers\":[{\"id\":\"c4d0393f-0287-499a-ab8a-600b28485e03\",\"type\":\"LinearAxis\"},{\"id\":\"9d3cef8c-62ea-465c-92b4-bdb977776390\",\"type\":\"Grid\"},{\"id\":\"5bf468c6-c132-428b-af81-295291babb2f\",\"type\":\"LinearAxis\"},{\"id\":\"422a8bfc-35c2-49cd-9822-50a175dd3240\",\"type\":\"Grid\"},{\"id\":\"998ac605-3df8-4383-918c-5785179dab99\",\"type\":\"BoxAnnotation\"},{\"id\":\"fdfba058-4da6-458b-b27c-fe2f470db301\",\"type\":\"GlyphRenderer\"},{\"id\":\"b0434b35-99da-4c09-b307-059a842a0744\",\"type\":\"Legend\"},{\"id\":\"edac43d7-76db-4a97-9dc0-908e59f4219c\",\"type\":\"GlyphRenderer\"},{\"id\":\"18e10563-107a-4f65-960c-b4155c6773f8\",\"type\":\"GlyphRenderer\"},{\"id\":\"2adcc07f-1ad6-4352-845c-d8db4d1faeca\",\"type\":\"GlyphRenderer\"}],\"title\":{\"id\":\"1d086e9a-2edb-4e7b-af97-0fb654ce04fc\",\"type\":\"Title\"},\"tool_events\":{\"id\":\"af5b30ac-2b5a-4e83-ac83-39912bc68068\",\"type\":\"ToolEvents\"},\"toolbar\":{\"id\":\"365c5eeb-38c1-42f3-8261-8712b75b7759\",\"type\":\"Toolbar\"},\"x_range\":{\"id\":\"269891df-8b0f-4fe4-b62d-951844434c96\",\"type\":\"DataRange1d\"},\"y_range\":{\"id\":\"173de8da-b626-4f71-ac3b-eb1daae36a25\",\"type\":\"DataRange1d\"}},\"id\":\"2257fae1-1fa3-4873-b0a1-991314206939\",\"subtype\":\"Figure\",\"type\":\"Plot\"},{\"attributes\":{\"callback\":null},\"id\":\"10935e3c-13dc-48e2-bea6-e1a202bb73da\",\"type\":\"Range1d\"},{\"attributes\":{\"label\":{\"value\":\"PR on train\"},\"renderers\":[{\"id\":\"2adcc07f-1ad6-4352-845c-d8db4d1faeca\",\"type\":\"GlyphRenderer\"}]},\"id\":\"fc7230d2-656c-445c-b776-83e45aca974f\",\"type\":\"LegendItem\"},{\"attributes\":{\"plot\":{\"id\":\"5aa5ebf0-4e24-41a7-9316-1889efec6aa9\",\"subtype\":\"Figure\",\"type\":\"Plot\"}},\"id\":\"b8fd2fb1-056e-498e-ae20-e5934fd177ec\",\"type\":\"WheelZoomTool\"},{\"attributes\":{\"plot\":{\"id\":\"2257fae1-1fa3-4873-b0a1-991314206939\",\"subtype\":\"Figure\",\"type\":\"Plot\"}},\"id\":\"52678406-2028-4dd6-b977-e457af40e197\",\"type\":\"HelpTool\"},{\"attributes\":{\"callback\":null,\"column_names\":[\"x\",\"y\"],\"data\":{\"x\":{\"__ndarray__\":\"AAAAAAAA8D8jLPc0wnLvPyMs9zTCcu8/jbDc0wjL7T/UCMs9jbDsP6gRlnsaYek/3dMIyz2N4D98GmG5pxG2PwAAAAAAAAAA\",\"dtype\":\"float64\",\"shape\":[9]},\"y\":{\"__ndarray__\":\"chzHcRzH6T9mZmZmZmbuPwAAAAAAAPA/AAAAAAAA8D8AAAAAAADwPwAAAAAAAPA/AAAAAAAA8D8AAAAAAADwPwAAAAAAAPA/\",\"dtype\":\"float64\",\"shape\":[9]}}},\"id\":\"f113e84b-68c7-413c-9e34-78a023134dcf\",\"type\":\"ColumnDataSource\"},{\"attributes\":{},\"id\":\"0ac6d4c6-3ba8-4dae-b46d-93a119784342\",\"type\":\"BasicTicker\"},{\"attributes\":{\"data_source\":{\"id\":\"852f4921-6261-4310-8cc5-fb4d0649b8e7\",\"type\":\"ColumnDataSource\"},\"glyph\":{\"id\":\"166feb31-df00-4ed0-a343-3e126cbf5b02\",\"type\":\"Line\"},\"hover_glyph\":null,\"nonselection_glyph\":{\"id\":\"8f3e787c-2846-450d-97d5-6b038bcde9b7\",\"type\":\"Line\"},\"selection_glyph\":null},\"id\":\"987441d5-c465-4aa7-a529-6b9dcf7eeadc\",\"type\":\"GlyphRenderer\"},{\"attributes\":{\"fill_alpha\":{\"value\":0.1},\"fill_color\":{\"value\":\"#1f77b4\"},\"line_alpha\":{\"value\":0.1},\"line_color\":{\"value\":\"#1f77b4\"},\"size\":{\"units\":\"screen\",\"value\":5},\"x\":{\"field\":\"x\"},\"y\":{\"field\":\"y\"}},\"id\":\"305a9cc2-4514-49d9-a52b-cc1111ed84e1\",\"type\":\"Circle\"},{\"attributes\":{\"plot\":null,\"text\":\"roc, auc: 0.87, on train: 1\"},\"id\":\"969941c2-4d9f-4b17-b82e-30e48b5df9a8\",\"type\":\"Title\"},{\"attributes\":{\"plot\":{\"id\":\"5aa5ebf0-4e24-41a7-9316-1889efec6aa9\",\"subtype\":\"Figure\",\"type\":\"Plot\"},\"ticker\":{\"id\":\"0ac6d4c6-3ba8-4dae-b46d-93a119784342\",\"type\":\"BasicTicker\"}},\"id\":\"50a96305-6926-4362-946e-56960a6c6e9e\",\"type\":\"Grid\"},{\"attributes\":{\"plot\":{\"id\":\"5aa5ebf0-4e24-41a7-9316-1889efec6aa9\",\"subtype\":\"Figure\",\"type\":\"Plot\"}},\"id\":\"86a32286-c175-4b55-85a4-a308599f8f83\",\"type\":\"ResetTool\"},{\"attributes\":{\"plot\":{\"id\":\"2257fae1-1fa3-4873-b0a1-991314206939\",\"subtype\":\"Figure\",\"type\":\"Plot\"},\"ticker\":{\"id\":\"8cb92799-4028-4dcd-8820-5954a1e04dce\",\"type\":\"BasicTicker\"}},\"id\":\"9d3cef8c-62ea-465c-92b4-bdb977776390\",\"type\":\"Grid\"},{\"attributes\":{\"plot\":{\"id\":\"2257fae1-1fa3-4873-b0a1-991314206939\",\"subtype\":\"Figure\",\"type\":\"Plot\"}},\"id\":\"11261c04-56fd-41aa-beab-5367ff110656\",\"type\":\"SaveTool\"},{\"attributes\":{},\"id\":\"d301353c-ff4c-45ca-ad1f-0965d3e5813b\",\"type\":\"BasicTickFormatter\"},{\"attributes\":{\"callback\":null,\"column_names\":[\"x\",\"y\"],\"data\":{\"x\":[0,1],\"y\":[0,1]}},\"id\":\"98d70a58-dc68-4e54-852c-a234a9d95388\",\"type\":\"ColumnDataSource\"},{\"attributes\":{\"plot\":{\"id\":\"5aa5ebf0-4e24-41a7-9316-1889efec6aa9\",\"subtype\":\"Figure\",\"type\":\"Plot\"}},\"id\":\"594f0e03-f572-4e88-a90b-c770222afdbf\",\"type\":\"HelpTool\"},{\"attributes\":{\"bottom_units\":\"screen\",\"fill_alpha\":{\"value\":0.5},\"fill_color\":{\"value\":\"lightgrey\"},\"left_units\":\"screen\",\"level\":\"overlay\",\"line_alpha\":{\"value\":1.0},\"line_color\":{\"value\":\"black\"},\"line_dash\":[4,4],\"line_width\":{\"value\":2},\"plot\":null,\"render_mode\":\"css\",\"right_units\":\"screen\",\"top_units\":\"screen\"},\"id\":\"8060d656-41e1-4fbb-b72f-ead43fd4fe9f\",\"type\":\"BoxAnnotation\"},{\"attributes\":{\"fill_alpha\":{\"value\":0.1},\"fill_color\":{\"value\":\"#1f77b4\"},\"line_alpha\":{\"value\":0.1},\"line_color\":{\"value\":\"#1f77b4\"},\"size\":{\"units\":\"screen\",\"value\":5},\"x\":{\"field\":\"x\"},\"y\":{\"field\":\"y\"}},\"id\":\"fa849c2a-755b-493a-be2a-66780a0dfd6c\",\"type\":\"Cross\"},{\"attributes\":{\"active_drag\":\"auto\",\"active_scroll\":\"auto\",\"active_tap\":\"auto\",\"tools\":[{\"id\":\"753f38a3-56ae-49aa-9343-ea01592bd731\",\"type\":\"PanTool\"},{\"id\":\"5bbcfa11-7a25-42e4-8ea5-a3eb0e9fe75e\",\"type\":\"WheelZoomTool\"},{\"id\":\"9e4067ae-b3ec-4199-bd8d-8c79d9aae08d\",\"type\":\"BoxZoomTool\"},{\"id\":\"11261c04-56fd-41aa-beab-5367ff110656\",\"type\":\"SaveTool\"},{\"id\":\"f160dca2-0ef8-4e75-b17b-3457fb9fa037\",\"type\":\"ResetTool\"},{\"id\":\"52678406-2028-4dd6-b977-e457af40e197\",\"type\":\"HelpTool\"}]},\"id\":\"365c5eeb-38c1-42f3-8261-8712b75b7759\",\"type\":\"Toolbar\"},{\"attributes\":{\"data_source\":{\"id\":\"a372c8fa-a7da-47ea-aa04-22c470e56af0\",\"type\":\"ColumnDataSource\"},\"glyph\":{\"id\":\"c22ae3cd-a78e-46f2-9fdd-f8c9574d337d\",\"type\":\"Line\"},\"hover_glyph\":null,\"nonselection_glyph\":{\"id\":\"b933ff04-be64-4aa8-a718-bc45bc8f3bef\",\"type\":\"Line\"},\"selection_glyph\":null},\"id\":\"39f6e3b5-7718-4a4e-9aa2-2046cff6e1ed\",\"type\":\"GlyphRenderer\"},{\"attributes\":{\"fill_color\":{\"value\":\"red\"},\"line_color\":{\"value\":\"red\"},\"size\":{\"units\":\"screen\",\"value\":5},\"x\":{\"field\":\"x\"},\"y\":{\"field\":\"y\"}},\"id\":\"8cbd3a2b-9f2b-4271-888f-f4fe08cef057\",\"type\":\"Circle\"},{\"attributes\":{\"callback\":null,\"column_names\":[\"x\",\"y\"],\"data\":{\"x\":{\"__ndarray__\":\"AAAAAAAAAAAAAAAAAAAAAAAAAAAAAAAAAAAAAAAAAAAAAAAAAAAAAAAAAAAAAAAAkHJT0Tyhdj9TsDb0xmaaPzRPqAWMSaw/zlV2WwKlvj8AAAAAAADwPw==\",\"dtype\":\"float64\",\"shape\":[11]},\"y\":{\"__ndarray__\":\"fBphuacRtj/d0wjLPY3gP6gRlnsaYek/1AjLPY2w7D+NsNzTCMvtPyMs9zTCcu8/Iyz3NMJy7z8AAAAAAADwPwAAAAAAAPA/AAAAAAAA8D8AAAAAAADwPw==\",\"dtype\":\"float64\",\"shape\":[11]}}},\"id\":\"a372c8fa-a7da-47ea-aa04-22c470e56af0\",\"type\":\"ColumnDataSource\"},{\"attributes\":{},\"id\":\"be3b58ca-06ee-4c66-9282-00bd9cac9e0b\",\"type\":\"ToolEvents\"},{\"attributes\":{\"axis_label\":\"tpr\",\"formatter\":{\"id\":\"acfb42e6-1b40-45d4-a8bf-765a96d84767\",\"type\":\"BasicTickFormatter\"},\"plot\":{\"id\":\"5aa5ebf0-4e24-41a7-9316-1889efec6aa9\",\"subtype\":\"Figure\",\"type\":\"Plot\"},\"ticker\":{\"id\":\"0ac6d4c6-3ba8-4dae-b46d-93a119784342\",\"type\":\"BasicTicker\"}},\"id\":\"0655b336-1292-4787-8a00-bd6b8ec9b4b6\",\"type\":\"LinearAxis\"},{\"attributes\":{\"items\":[{\"id\":\"aba52c65-50fd-456f-81b2-88b75d113aef\",\"type\":\"LegendItem\"},{\"id\":\"3e9502e3-109e-457e-93cd-d6b25e111885\",\"type\":\"LegendItem\"}],\"plot\":{\"id\":\"5aa5ebf0-4e24-41a7-9316-1889efec6aa9\",\"subtype\":\"Figure\",\"type\":\"Plot\"}},\"id\":\"04761815-f6dc-49ad-9b5a-7ef8b280b9e5\",\"type\":\"Legend\"},{\"attributes\":{\"fill_alpha\":{\"value\":0.1},\"fill_color\":{\"value\":\"#1f77b4\"},\"line_alpha\":{\"value\":0.1},\"line_color\":{\"value\":\"#1f77b4\"},\"size\":{\"units\":\"screen\",\"value\":5},\"x\":{\"field\":\"x\"},\"y\":{\"field\":\"y\"}},\"id\":\"c28ac0a1-0db0-4090-959e-0807f7bb42da\",\"type\":\"Circle\"},{\"attributes\":{\"fill_color\":{\"value\":\"#1f77b4\"},\"line_color\":{\"value\":\"#1f77b4\"},\"size\":{\"units\":\"screen\",\"value\":5},\"x\":{\"field\":\"x\"},\"y\":{\"field\":\"y\"}},\"id\":\"373cddea-b412-46b1-a0f6-fa7b0ae2d0e3\",\"type\":\"Cross\"},{\"attributes\":{\"axis_label\":\"recall\",\"formatter\":{\"id\":\"c423a895-17e0-4808-9f53-2c9bef892615\",\"type\":\"BasicTickFormatter\"},\"plot\":{\"id\":\"2257fae1-1fa3-4873-b0a1-991314206939\",\"subtype\":\"Figure\",\"type\":\"Plot\"},\"ticker\":{\"id\":\"8cb92799-4028-4dcd-8820-5954a1e04dce\",\"type\":\"BasicTicker\"}},\"id\":\"c4d0393f-0287-499a-ab8a-600b28485e03\",\"type\":\"LinearAxis\"},{\"attributes\":{\"callback\":null,\"column_names\":[\"y\",\"x\"],\"data\":{\"x\":{\"__ndarray__\":\"AAAAAAAA8D8jLPc0wnLvPyMs9zTCcu8/jbDc0wjL7T/UCMs9jbDsP6gRlnsaYek/3dMIyz2N4D98GmG5pxG2PwAAAAAAAAAA\",\"dtype\":\"float64\",\"shape\":[9]},\"y\":{\"__ndarray__\":\"chzHcRzH6T9mZmZmZmbuPwAAAAAAAPA/AAAAAAAA8D8AAAAAAADwPwAAAAAAAPA/AAAAAAAA8D8AAAAAAADwPwAAAAAAAPA/\",\"dtype\":\"float64\",\"shape\":[9]}}},\"id\":\"c07912cf-2ae6-4be3-b008-7354ea922ee3\",\"type\":\"ColumnDataSource\"},{\"attributes\":{\"items\":[{\"id\":\"722de32c-6644-4ece-8658-a0f19ee91ccd\",\"type\":\"LegendItem\"},{\"id\":\"fc7230d2-656c-445c-b776-83e45aca974f\",\"type\":\"LegendItem\"}],\"plot\":{\"id\":\"2257fae1-1fa3-4873-b0a1-991314206939\",\"subtype\":\"Figure\",\"type\":\"Plot\"}},\"id\":\"b0434b35-99da-4c09-b307-059a842a0744\",\"type\":\"Legend\"}],\"root_ids\":[\"47827694-9173-4184-8617-db7c6a0418d2\"]},\"title\":\"Bokeh Application\",\"version\":\"0.12.4\"}};\n",
       "            var render_items = [{\"docid\":\"07079069-a508-45f8-bc95-a7017334b468\",\"elementid\":\"a3de0d57-4a08-495a-a97d-1f6a6c9fdf37\",\"modelid\":\"47827694-9173-4184-8617-db7c6a0418d2\"}];\n",
       "            \n",
       "            Bokeh.embed.embed_items(docs_json, render_items);\n",
       "          };\n",
       "          if (document.readyState != \"loading\") fn();\n",
       "          else document.addEventListener(\"DOMContentLoaded\", fn);\n",
       "        })();\n",
       "      },\n",
       "      function(Bokeh) {\n",
       "      }\n",
       "    ];\n",
       "  \n",
       "    function run_inline_js() {\n",
       "      \n",
       "      if ((window.Bokeh !== undefined) || (force === true)) {\n",
       "        for (var i = 0; i < inline_js.length; i++) {\n",
       "          inline_js[i](window.Bokeh);\n",
       "        }if (force === true) {\n",
       "          display_loaded();\n",
       "        }} else if (Date.now() < window._bokeh_timeout) {\n",
       "        setTimeout(run_inline_js, 100);\n",
       "      } else if (!window._bokeh_failed_load) {\n",
       "        console.log(\"Bokeh: BokehJS failed to load within specified timeout.\");\n",
       "        window._bokeh_failed_load = true;\n",
       "      } else if (force !== true) {\n",
       "        var cell = $(document.getElementById(\"a3de0d57-4a08-495a-a97d-1f6a6c9fdf37\")).parents('.cell').data().cell;\n",
       "        cell.output_area.append_execute_result(NB_LOAD_WARNING)\n",
       "      }\n",
       "  \n",
       "    }\n",
       "  \n",
       "    if (window._bokeh_is_loading === 0) {\n",
       "      console.log(\"Bokeh: BokehJS loaded, going straight to plotting\");\n",
       "      run_inline_js();\n",
       "    } else {\n",
       "      load_libs(js_urls, function() {\n",
       "        console.log(\"Bokeh: BokehJS plotting callback run at\", now());\n",
       "        run_inline_js();\n",
       "      });\n",
       "    }\n",
       "  }(this));\n",
       "</script>"
      ]
     },
     "metadata": {},
     "output_type": "display_data"
    }
   ],
   "source": [
    "from bokeh.models.ranges import Range1d\n",
    "#print \"auc: %.2g, on train: %.2g\" %(roc_auc, roc_auc_train)\n",
    "roc_df = pd.DataFrame({\"fpr\":fpr,\"tpr\":tpr}).set_index(\"fpr\")\n",
    "pr_df = pd.DataFrame({\"precision\": precision, \"recall\":recall}).set_index(\"recall\")\n",
    "roc_df[\"diag\"] = roc_df.index\n",
    "pr_df[\"random\"] = pr_df.precision.iloc[0]\n",
    "\n",
    "# roc curve\n",
    "roc_f = figure(width=400,height=400,title=\"roc, auc: %.2g, on train: %.2g\"  %(roc_auc, roc_auc_train) )\n",
    "roc_f.xaxis.axis_label = \"tpr\"\n",
    "auc_range= Range1d(0,1)\n",
    "roc_f.x_range = auc_range \n",
    "roc_f.y_range = auc_range \n",
    "roc_f.yaxis.axis_label = \"fpr\"\n",
    "roc_f.cross(fpr,tpr,size=5)\n",
    "roc_f.line(fpr,tpr,legend=\"roc\")\n",
    "roc_f.circle(fpr_train,tpr_train,size=5,color=\"red\", line_width=1)\n",
    "roc_f.line(fpr_train,tpr_train,color=\"red\",legend=\"roc on train\")\n",
    "roc_f.line([0,1],[0,1], color=\"grey\")\n",
    "\n",
    "# pr curve\n",
    "pr_f = figure(width=400,height=400,title=\"PR curve\")\n",
    "pr_f.xaxis.axis_label = \"recall\"\n",
    "pr_f.yaxis.axis_label = \"precision\"\n",
    "pr_f.cross(recall,precision,size=5)\n",
    "pr_f.line(recall,precision,legend=\"PR\")\n",
    "pr_f.circle(recall_train,precision_train,size=5,color=\"red\", line_width=1)\n",
    "pr_f.line(recall_train,precision_train,color=\"red\",legend=\"PR on train\")\n",
    "\n",
    "show(row(\n",
    "    pr_f,\n",
    "    roc_f\n",
    "))"
   ]
  },
  {
   "cell_type": "markdown",
   "metadata": {},
   "source": [
    "### Feature Importance"
   ]
  },
  {
   "cell_type": "code",
   "execution_count": 11,
   "metadata": {
    "ExecuteTime": {
     "end_time": "2017-01-26T01:08:45.758115",
     "start_time": "2017-01-26T01:08:45.737227"
    },
    "collapsed": true
   },
   "outputs": [
    {
     "data": {
      "text/html": [
       "<div>\n",
       "<table border=\"1\" class=\"dataframe\">\n",
       "  <thead>\n",
       "    <tr style=\"text-align: right;\">\n",
       "      <th></th>\n",
       "      <th>importance</th>\n",
       "    </tr>\n",
       "  </thead>\n",
       "  <tbody>\n",
       "    <tr>\n",
       "      <th>max_attribute4</th>\n",
       "      <td>0.111504</td>\n",
       "    </tr>\n",
       "    <tr>\n",
       "      <th>max_attribute5</th>\n",
       "      <td>0.103783</td>\n",
       "    </tr>\n",
       "    <tr>\n",
       "      <th>dft_p0_valattribute7</th>\n",
       "      <td>0.062484</td>\n",
       "    </tr>\n",
       "    <tr>\n",
       "      <th>max_attribute2</th>\n",
       "      <td>0.060075</td>\n",
       "    </tr>\n",
       "    <tr>\n",
       "      <th>max_attribute8</th>\n",
       "      <td>0.053328</td>\n",
       "    </tr>\n",
       "    <tr>\n",
       "      <th>max_attribute7</th>\n",
       "      <td>0.051345</td>\n",
       "    </tr>\n",
       "    <tr>\n",
       "      <th>dft_p0_valattribute4</th>\n",
       "      <td>0.048827</td>\n",
       "    </tr>\n",
       "    <tr>\n",
       "      <th>mean_attribute9</th>\n",
       "      <td>0.046718</td>\n",
       "    </tr>\n",
       "    <tr>\n",
       "      <th>mean_attribute7</th>\n",
       "      <td>0.039789</td>\n",
       "    </tr>\n",
       "    <tr>\n",
       "      <th>dft_p0_indattribute4</th>\n",
       "      <td>0.039782</td>\n",
       "    </tr>\n",
       "    <tr>\n",
       "      <th>max_attribute6</th>\n",
       "      <td>0.039444</td>\n",
       "    </tr>\n",
       "    <tr>\n",
       "      <th>mean_dt2_attribute2</th>\n",
       "      <td>0.037939</td>\n",
       "    </tr>\n",
       "    <tr>\n",
       "      <th>max_attribute9</th>\n",
       "      <td>0.035935</td>\n",
       "    </tr>\n",
       "    <tr>\n",
       "      <th>mean_attribute6</th>\n",
       "      <td>0.035741</td>\n",
       "    </tr>\n",
       "    <tr>\n",
       "      <th>dft_p0_indattribute9</th>\n",
       "      <td>0.032395</td>\n",
       "    </tr>\n",
       "    <tr>\n",
       "      <th>mean_dt_attribute2</th>\n",
       "      <td>0.030649</td>\n",
       "    </tr>\n",
       "    <tr>\n",
       "      <th>mean_attribute2</th>\n",
       "      <td>0.028052</td>\n",
       "    </tr>\n",
       "    <tr>\n",
       "      <th>dft_p0_valattribute6</th>\n",
       "      <td>0.024627</td>\n",
       "    </tr>\n",
       "    <tr>\n",
       "      <th>max_dt2_attribute2</th>\n",
       "      <td>0.020886</td>\n",
       "    </tr>\n",
       "    <tr>\n",
       "      <th>dft_p0_indattribute6</th>\n",
       "      <td>0.018570</td>\n",
       "    </tr>\n",
       "    <tr>\n",
       "      <th>mean_attribute4</th>\n",
       "      <td>0.017630</td>\n",
       "    </tr>\n",
       "    <tr>\n",
       "      <th>dft_p0_valattribute9</th>\n",
       "      <td>0.017442</td>\n",
       "    </tr>\n",
       "    <tr>\n",
       "      <th>dft_p0_indattribute7</th>\n",
       "      <td>0.012758</td>\n",
       "    </tr>\n",
       "    <tr>\n",
       "      <th>max_dt_attribute2</th>\n",
       "      <td>0.011510</td>\n",
       "    </tr>\n",
       "    <tr>\n",
       "      <th>mean_attribute8</th>\n",
       "      <td>0.010386</td>\n",
       "    </tr>\n",
       "    <tr>\n",
       "      <th>mean_attribute5</th>\n",
       "      <td>0.008401</td>\n",
       "    </tr>\n",
       "    <tr>\n",
       "      <th>dft_p0_indattribute5</th>\n",
       "      <td>0.000000</td>\n",
       "    </tr>\n",
       "    <tr>\n",
       "      <th>dft_p0_valattribute5</th>\n",
       "      <td>0.000000</td>\n",
       "    </tr>\n",
       "  </tbody>\n",
       "</table>\n",
       "</div>"
      ],
      "text/plain": [
       "                      importance\n",
       "max_attribute4          0.111504\n",
       "max_attribute5          0.103783\n",
       "dft_p0_valattribute7    0.062484\n",
       "max_attribute2          0.060075\n",
       "max_attribute8          0.053328\n",
       "max_attribute7          0.051345\n",
       "dft_p0_valattribute4    0.048827\n",
       "mean_attribute9         0.046718\n",
       "mean_attribute7         0.039789\n",
       "dft_p0_indattribute4    0.039782\n",
       "max_attribute6          0.039444\n",
       "mean_dt2_attribute2     0.037939\n",
       "max_attribute9          0.035935\n",
       "mean_attribute6         0.035741\n",
       "dft_p0_indattribute9    0.032395\n",
       "mean_dt_attribute2      0.030649\n",
       "mean_attribute2         0.028052\n",
       "dft_p0_valattribute6    0.024627\n",
       "max_dt2_attribute2      0.020886\n",
       "dft_p0_indattribute6    0.018570\n",
       "mean_attribute4         0.017630\n",
       "dft_p0_valattribute9    0.017442\n",
       "dft_p0_indattribute7    0.012758\n",
       "max_dt_attribute2       0.011510\n",
       "mean_attribute8         0.010386\n",
       "mean_attribute5         0.008401\n",
       "dft_p0_indattribute5    0.000000\n",
       "dft_p0_valattribute5    0.000000"
      ]
     },
     "execution_count": 11,
     "metadata": {},
     "output_type": "execute_result"
    }
   ],
   "source": [
    "feature_imp = pd.DataFrame({\"importance\":model.feature_importances_}).set_index(feature_set.columns)\n",
    "feature_imp.sort_values(by=\"importance\",ascending=False)"
   ]
  },
  {
   "cell_type": "markdown",
   "metadata": {},
   "source": [
    "### Hyperparameter optimisation\n",
    "\n",
    "\n"
   ]
  },
  {
   "cell_type": "code",
   "execution_count": 12,
   "metadata": {
    "ExecuteTime": {
     "end_time": "2017-01-26T01:08:48.721197",
     "start_time": "2017-01-26T01:08:48.716818"
    },
    "collapsed": false
   },
   "outputs": [],
   "source": [
    "# model : GradientBoostingClassifier, parameters: \n",
    "#loss : {‘deviance’, ‘exponential’},\n",
    "#learning_rate : float, optional (default=0.1)\n",
    "#n_estimators : int (default=100)\n",
    "#max_depth : integer, optional (default=3)\n",
    "#min_samples_split : int, float, optional (default=2)\n",
    "grids=dict()\n",
    "XDB_param_grid = {\n",
    "    #\"model__loss\":  [\"deviance\", 'exponential'],\n",
    "    \"model__learning_rate\" : [1e-3,0.01, 0.1],\n",
    "    \"model__n_estimators\" : [10, 50, 100, 150],\n",
    "    \"model__max_depth\" : [5,10,15],\n",
    "    \"model__min_samples_split\" : [5,10,20]\n",
    "}\n",
    "grids[GradientBoostingClassifier] = XDB_param_grid"
   ]
  },
  {
   "cell_type": "code",
   "execution_count": 13,
   "metadata": {
    "ExecuteTime": {
     "end_time": "2017-01-26T01:08:49.649629",
     "start_time": "2017-01-26T01:08:49.642838"
    },
    "collapsed": true
   },
   "outputs": [],
   "source": [
    "# model : RandomForestClassifier, parameters: \n",
    "# n_estimators : int (default=100)\n",
    "# criterion : \"gini\",\"entropy\"\n",
    "# max_features : auto , fraction\n",
    "# max_depth : integer, optional (default=3)\n",
    "# min_samples_split : int, float, optional (default=2)\n",
    "\n",
    "RF_param_grid = {\n",
    "    #\"model__criterion\":  [\"gini\", \"entropy\"],\n",
    "    \"model__n_estimators\" : [75,100,150,200],\n",
    "    #\"model__max_features\" : [\"auto\",0.5,0.25,0.1],\n",
    "    \"model__max_depth\" : [2,5,10,20],\n",
    "    \"model__min_samples_split\" : [5,10,20]\n",
    "}\n",
    "grids[RandomForestClassifier] = RF_param_grid"
   ]
  },
  {
   "cell_type": "code",
   "execution_count": 14,
   "metadata": {
    "ExecuteTime": {
     "end_time": "2017-01-26T01:08:50.914995",
     "start_time": "2017-01-26T01:08:50.911057"
    },
    "collapsed": true
   },
   "outputs": [],
   "source": [
    "# C :penalty\n",
    "# kernel : ‘linear’, ‘poly’, ‘rbf’, ‘sigmoid’, ‘precomputed’ \n",
    "SVC_param_grid = {\n",
    "   'model__C': [1e-7,1e-6,1e-5,0.1],\n",
    "    \"model__kernel\": [\"rbf\",\"linear\"],\n",
    "    #\"model_degree\" : [1,3,5], # polynomial degrees\n",
    "    \"model__gamma\" : [\"auto\"], # kernel coef (rbf)\n",
    "    #\"coef0\" # for poly, signmoid\n",
    "    \"model__tol\" : [1e-7,1e-6,1e-5, 1e-4,1e-3]\n",
    "}\n",
    "grids[SVC] = SVC_param_grid"
   ]
  },
  {
   "cell_type": "code",
   "execution_count": 15,
   "metadata": {
    "ExecuteTime": {
     "end_time": "2017-01-26T01:09:50.130054",
     "start_time": "2017-01-26T01:08:55.502088"
    },
    "collapsed": false
   },
   "outputs": [
    {
     "name": "stdout",
     "output_type": "stream",
     "text": [
      "Fitting 6 folds for each of 48 candidates, totalling 288 fits\n"
     ]
    },
    {
     "name": "stderr",
     "output_type": "stream",
     "text": [
      "[Parallel(n_jobs=-1)]: Done  34 tasks      | elapsed:    4.6s\n",
      "[Parallel(n_jobs=-1)]: Done 184 tasks      | elapsed:   32.8s\n",
      "[Parallel(n_jobs=-1)]: Done 288 out of 288 | elapsed:   54.1s finished\n"
     ]
    },
    {
     "name": "stdout",
     "output_type": "stream",
     "text": [
      "Best: 0.926659 using {'model__min_samples_split': 5, 'model__max_depth': 10, 'model__n_estimators': 75}\n"
     ]
    }
   ],
   "source": [
    "m  = type(dict(pipeline.steps)[\"model\"])\n",
    "param_grid=grids[m]\n",
    "\n",
    "from sklearn.model_selection import GridSearchCV\n",
    "from sklearn.model_selection import StratifiedKFold\n",
    "\n",
    "kfold = StratifiedKFold(n_splits=6, shuffle=True)\n",
    "grid_search = GridSearchCV(pipeline, param_grid, scoring=\"accuracy\", n_jobs=-1, verbose=1,cv=kfold)\n",
    "grid_result = grid_search.fit(feature_mat,label_mat)\n",
    "\n",
    "\n",
    "# summarize results\n",
    "print(\"Best: %f using %s\" % (grid_result.best_score_, grid_result.best_params_))\n",
    "means = grid_result.cv_results_['mean_test_score']\n",
    "stds = grid_result.cv_results_['std_test_score']\n",
    "params = grid_result.cv_results_['params']\n",
    "#for mean, stdev, param in zip(means, stds, params):\n",
    "#    print(\"%f (%f) with: %r\" % (mean, stdev, param))"
   ]
  },
  {
   "cell_type": "code",
   "execution_count": null,
   "metadata": {
    "ExecuteTime": {
     "start_time": "2017-01-26T01:39:54.057Z"
    },
    "collapsed": false
   },
   "outputs": [
    {
     "name": "stderr",
     "output_type": "stream",
     "text": [
      "Optimization Progress:  13%|█▎        | 39/300 [02:06<16:19,  3.75s/pipeline]ion Progress:   0%|          | 1/300 [00:00<02:25,  2.06pipeline/s]          Optimization Progress:  13%|█▎        | 40/300 [02:06<42:29,  9.81s/pipeline]"
     ]
    },
    {
     "name": "stdout",
     "output_type": "stream",
     "text": [
      "Timeout during evaluation of pipeline #40. Skipping to the next pipeline.\n"
     ]
    },
    {
     "name": "stderr",
     "output_type": "stream",
     "text": [
      "\r",
      "          \r",
      "\r",
      "          \r",
      "Optimization Progress:  14%|█▎        | 41/300 [02:58<42:20,  9.81s/pipeline]\r",
      "Optimization Progress:  14%|█▍        | 42/300 [02:58<1:03:20, 14.73s/pipeline]"
     ]
    },
    {
     "name": "stdout",
     "output_type": "stream",
     "text": [
      "Timeout during evaluation of pipeline #42. Skipping to the next pipeline.\n"
     ]
    },
    {
     "name": "stderr",
     "output_type": "stream",
     "text": [
      "\r",
      "          \r",
      "\r",
      "          \r",
      "Optimization Progress:  14%|█▍        | 42/300 [03:45<1:03:20, 14.73s/pipeline]\r",
      "Optimization Progress:  14%|█▍        | 43/300 [03:45<1:44:20, 24.36s/pipeline]"
     ]
    },
    {
     "name": "stdout",
     "output_type": "stream",
     "text": [
      "Timeout during evaluation of pipeline #43. Skipping to the next pipeline.\n"
     ]
    },
    {
     "name": "stderr",
     "output_type": "stream",
     "text": [
      "Optimization Progress:  17%|█▋        | 50/300 [03:54<41:43, 10.01s/pipeline]e]Optimization Progress:  15%|█▌        | 45/300 [03:52<59:19, 13.96s/pipeline]            "
     ]
    },
    {
     "name": "stdout",
     "output_type": "stream",
     "text": [
      "Generation 1 - Current best internal CV score: 0.955780798458\n"
     ]
    },
    {
     "name": "stderr",
     "output_type": "stream",
     "text": [
      "Optimization Progress:  33%|███▎      | 99/300 [07:34<14:35,  4.36s/pipeline]Optimization Progress:  17%|█▋        | 52/300 [04:06<28:59,  7.01s/pipeline]          "
     ]
    },
    {
     "name": "stdout",
     "output_type": "stream",
     "text": [
      "Generation 2 - Current best internal CV score: 0.955780798458\n"
     ]
    },
    {
     "name": "stderr",
     "output_type": "stream",
     "text": [
      "Optimization Progress:  35%|███▌      | 106/300 [08:28<23:06,  7.14s/pipeline]Optimization Progress:  34%|███▍      | 102/300 [08:10<39:09, 11.87s/pipeline]"
     ]
    }
   ],
   "source": [
    "from tpot import TPOTClassifier\n",
    "pipeline_optimizer = TPOTClassifier(\n",
    "    generations=5,\n",
    "    population_size=50,\n",
    "    #generations=10, # the more generatiion, the more optimized you get\n",
    "    #population_size=200,\n",
    "    num_cv_folds=4,\n",
    "    scoring=\"accuracy\",\n",
    "    random_state=42,\n",
    "    verbosity=2)\n",
    "\n",
    "pipeline_optimizer.fit(feature_mat, label_mat)\n",
    "print pipeline_optimizer.score(feature_mat, label_mat)\n",
    "pipeline_optimizer.export('tpot_longrun_exported_pipeline.py')"
   ]
  },
  {
   "cell_type": "markdown",
   "metadata": {},
   "source": [
    "## Serialization"
   ]
  },
  {
   "cell_type": "code",
   "execution_count": 17,
   "metadata": {
    "ExecuteTime": {
     "end_time": "2017-01-26T01:12:15.456960",
     "start_time": "2017-01-26T01:12:15.336756"
    },
    "collapsed": false
   },
   "outputs": [],
   "source": [
    "model_name = \"device\"\n",
    "\n",
    "from sklearn.externals import joblib\n",
    "import pickle\n",
    "joblib.dump(pipeline_optimizer._fitted_pipeline, 'model_%s.pkl' % model_name) \n",
    "features = feature_set.columns\n",
    "with open('model_%s.feat' % model_name, \"w+\") as f: \n",
    "    pickle.dump(features,f)"
   ]
  },
  {
   "cell_type": "code",
   "execution_count": null,
   "metadata": {
    "collapsed": true
   },
   "outputs": [],
   "source": []
  }
 ],
 "metadata": {
  "hide_input": false,
  "kernelspec": {
   "display_name": "Python 2",
   "language": "python",
   "name": "python2"
  },
  "language_info": {
   "codemirror_mode": {
    "name": "ipython",
    "version": 2
   },
   "file_extension": ".py",
   "mimetype": "text/x-python",
   "name": "python",
   "nbconvert_exporter": "python",
   "pygments_lexer": "ipython2",
   "version": "2.7.12"
  }
 },
 "nbformat": 4,
 "nbformat_minor": 2
}
