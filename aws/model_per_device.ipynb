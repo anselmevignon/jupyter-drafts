{
 "cells": [
  {
   "cell_type": "code",
   "execution_count": 7,
   "metadata": {
    "ExecuteTime": {
     "end_time": "2017-01-26T01:08:34.120083",
     "start_time": "2017-01-26T01:08:33.940379"
    },
    "collapsed": false
   },
   "outputs": [
    {
     "data": {
      "text/html": [
       "\n",
       "    <div class=\"bk-root\">\n",
       "        <a href=\"http://bokeh.pydata.org\" target=\"_blank\" class=\"bk-logo bk-logo-small bk-logo-notebook\"></a>\n",
       "        <span id=\"c0facfe9-2117-4409-8606-bf6e9d9c6311\">Loading BokehJS ...</span>\n",
       "    </div>"
      ]
     },
     "metadata": {},
     "output_type": "display_data"
    },
    {
     "data": {
      "application/javascript": [
       "\n",
       "(function(global) {\n",
       "  function now() {\n",
       "    return new Date();\n",
       "  }\n",
       "\n",
       "  var force = true;\n",
       "\n",
       "  if (typeof (window._bokeh_onload_callbacks) === \"undefined\" || force === true) {\n",
       "    window._bokeh_onload_callbacks = [];\n",
       "    window._bokeh_is_loading = undefined;\n",
       "  }\n",
       "\n",
       "\n",
       "  \n",
       "  if (typeof (window._bokeh_timeout) === \"undefined\" || force === true) {\n",
       "    window._bokeh_timeout = Date.now() + 5000;\n",
       "    window._bokeh_failed_load = false;\n",
       "  }\n",
       "\n",
       "  var NB_LOAD_WARNING = {'data': {'text/html':\n",
       "     \"<div style='background-color: #fdd'>\\n\"+\n",
       "     \"<p>\\n\"+\n",
       "     \"BokehJS does not appear to have successfully loaded. If loading BokehJS from CDN, this \\n\"+\n",
       "     \"may be due to a slow or bad network connection. Possible fixes:\\n\"+\n",
       "     \"</p>\\n\"+\n",
       "     \"<ul>\\n\"+\n",
       "     \"<li>re-rerun `output_notebook()` to attempt to load from CDN again, or</li>\\n\"+\n",
       "     \"<li>use INLINE resources instead, as so:</li>\\n\"+\n",
       "     \"</ul>\\n\"+\n",
       "     \"<code>\\n\"+\n",
       "     \"from bokeh.resources import INLINE\\n\"+\n",
       "     \"output_notebook(resources=INLINE)\\n\"+\n",
       "     \"</code>\\n\"+\n",
       "     \"</div>\"}};\n",
       "\n",
       "  function display_loaded() {\n",
       "    if (window.Bokeh !== undefined) {\n",
       "      document.getElementById(\"c0facfe9-2117-4409-8606-bf6e9d9c6311\").textContent = \"BokehJS successfully loaded.\";\n",
       "    } else if (Date.now() < window._bokeh_timeout) {\n",
       "      setTimeout(display_loaded, 100)\n",
       "    }\n",
       "  }\n",
       "\n",
       "  function run_callbacks() {\n",
       "    window._bokeh_onload_callbacks.forEach(function(callback) { callback() });\n",
       "    delete window._bokeh_onload_callbacks\n",
       "    console.info(\"Bokeh: all callbacks have finished\");\n",
       "  }\n",
       "\n",
       "  function load_libs(js_urls, callback) {\n",
       "    window._bokeh_onload_callbacks.push(callback);\n",
       "    if (window._bokeh_is_loading > 0) {\n",
       "      console.log(\"Bokeh: BokehJS is being loaded, scheduling callback at\", now());\n",
       "      return null;\n",
       "    }\n",
       "    if (js_urls == null || js_urls.length === 0) {\n",
       "      run_callbacks();\n",
       "      return null;\n",
       "    }\n",
       "    console.log(\"Bokeh: BokehJS not loaded, scheduling load and callback at\", now());\n",
       "    window._bokeh_is_loading = js_urls.length;\n",
       "    for (var i = 0; i < js_urls.length; i++) {\n",
       "      var url = js_urls[i];\n",
       "      var s = document.createElement('script');\n",
       "      s.src = url;\n",
       "      s.async = false;\n",
       "      s.onreadystatechange = s.onload = function() {\n",
       "        window._bokeh_is_loading--;\n",
       "        if (window._bokeh_is_loading === 0) {\n",
       "          console.log(\"Bokeh: all BokehJS libraries loaded\");\n",
       "          run_callbacks()\n",
       "        }\n",
       "      };\n",
       "      s.onerror = function() {\n",
       "        console.warn(\"failed to load library \" + url);\n",
       "      };\n",
       "      console.log(\"Bokeh: injecting script tag for BokehJS library: \", url);\n",
       "      document.getElementsByTagName(\"head\")[0].appendChild(s);\n",
       "    }\n",
       "  };var element = document.getElementById(\"c0facfe9-2117-4409-8606-bf6e9d9c6311\");\n",
       "  if (element == null) {\n",
       "    console.log(\"Bokeh: ERROR: autoload.js configured with elementid 'c0facfe9-2117-4409-8606-bf6e9d9c6311' but no matching script tag was found. \")\n",
       "    return false;\n",
       "  }\n",
       "\n",
       "  var js_urls = [\"https://cdn.pydata.org/bokeh/release/bokeh-0.12.4.min.js\", \"https://cdn.pydata.org/bokeh/release/bokeh-widgets-0.12.4.min.js\"];\n",
       "\n",
       "  var inline_js = [\n",
       "    function(Bokeh) {\n",
       "      Bokeh.set_log_level(\"info\");\n",
       "    },\n",
       "    \n",
       "    function(Bokeh) {\n",
       "      \n",
       "      document.getElementById(\"c0facfe9-2117-4409-8606-bf6e9d9c6311\").textContent = \"BokehJS is loading...\";\n",
       "    },\n",
       "    function(Bokeh) {\n",
       "      console.log(\"Bokeh: injecting CSS: https://cdn.pydata.org/bokeh/release/bokeh-0.12.4.min.css\");\n",
       "      Bokeh.embed.inject_css(\"https://cdn.pydata.org/bokeh/release/bokeh-0.12.4.min.css\");\n",
       "      console.log(\"Bokeh: injecting CSS: https://cdn.pydata.org/bokeh/release/bokeh-widgets-0.12.4.min.css\");\n",
       "      Bokeh.embed.inject_css(\"https://cdn.pydata.org/bokeh/release/bokeh-widgets-0.12.4.min.css\");\n",
       "    }\n",
       "  ];\n",
       "\n",
       "  function run_inline_js() {\n",
       "    \n",
       "    if ((window.Bokeh !== undefined) || (force === true)) {\n",
       "      for (var i = 0; i < inline_js.length; i++) {\n",
       "        inline_js[i](window.Bokeh);\n",
       "      }if (force === true) {\n",
       "        display_loaded();\n",
       "      }} else if (Date.now() < window._bokeh_timeout) {\n",
       "      setTimeout(run_inline_js, 100);\n",
       "    } else if (!window._bokeh_failed_load) {\n",
       "      console.log(\"Bokeh: BokehJS failed to load within specified timeout.\");\n",
       "      window._bokeh_failed_load = true;\n",
       "    } else if (force !== true) {\n",
       "      var cell = $(document.getElementById(\"c0facfe9-2117-4409-8606-bf6e9d9c6311\")).parents('.cell').data().cell;\n",
       "      cell.output_area.append_execute_result(NB_LOAD_WARNING)\n",
       "    }\n",
       "\n",
       "  }\n",
       "\n",
       "  if (window._bokeh_is_loading === 0) {\n",
       "    console.log(\"Bokeh: BokehJS loaded, going straight to plotting\");\n",
       "    run_inline_js();\n",
       "  } else {\n",
       "    load_libs(js_urls, function() {\n",
       "      console.log(\"Bokeh: BokehJS plotting callback run at\", now());\n",
       "      run_inline_js();\n",
       "    });\n",
       "  }\n",
       "}(this));"
      ]
     },
     "metadata": {},
     "output_type": "display_data"
    }
   ],
   "source": [
    "import pandas as pd\n",
    "import numpy as np\n",
    "import calendar\n",
    "\n",
    "from ML import filter_devices, build_deriv, resample_per_device, subsample_negatives\n",
    "from fft import fft_peak\n",
    "\n",
    "from bokeh.charts import output_notebook, Scatter, Bar, show, output_file, Line, BoxPlot, Scatter\n",
    "from bokeh.plotting import figure\n",
    "from bokeh.layouts import row, column, gridplot\n",
    "from bokeh.io import hplot\n",
    "\n",
    "from sklearn.model_selection import cross_val_score\n",
    "from sklearn.ensemble import GradientBoostingClassifier, RandomForestClassifier\n",
    "from sklearn.pipeline import Pipeline\n",
    "from sklearn.decomposition import PCA\n",
    "from sklearn.preprocessing import Normalizer\n",
    "from sklearn.metrics import roc_curve, auc\n",
    "from sklearn.svm import SVC, NuSVC\n",
    "from sklearn.model_selection import LeavePGroupsOut, GroupShuffleSplit\n",
    "from sklearn.model_selection import train_test_split\n",
    "from sklearn.metrics import roc_curve, accuracy_score,precision_recall_curve, auc\n",
    "from sklearn.model_selection import GridSearchCV\n",
    "from sklearn.model_selection import StratifiedKFold\n",
    "\n",
    "\n",
    "output_notebook()"
   ]
  },
  {
   "cell_type": "code",
   "execution_count": 2,
   "metadata": {
    "ExecuteTime": {
     "end_time": "2017-01-26T01:07:45.609883",
     "start_time": "2017-01-26T01:07:45.451649"
    },
    "collapsed": false
   },
   "outputs": [],
   "source": [
    "INPUT=\"data/train.csv\" \n",
    "dataset = pd.read_csv(INPUT,index_col=[0,1],parse_dates=[0])"
   ]
  },
  {
   "cell_type": "markdown",
   "metadata": {},
   "source": [
    "## per device model\n",
    "\n",
    " - Set up first model\n",
    " - Precision/recall, ROC\n",
    " - Calibration\n",
    " - PCA ?\n",
    " - feature engineering\n",
    " - data cleaning\n",
    " - Test other models"
   ]
  },
  {
   "cell_type": "markdown",
   "metadata": {},
   "source": [
    "## Build Training set"
   ]
  },
  {
   "cell_type": "code",
   "execution_count": 3,
   "metadata": {
    "ExecuteTime": {
     "end_time": "2017-01-26T01:07:47.259362",
     "start_time": "2017-01-26T01:07:47.251179"
    },
    "collapsed": false
   },
   "outputs": [],
   "source": [
    "def pre_filter(df):\n",
    "    res = df.copy()\n",
    "    del res[\"attribute1\"]\n",
    "    del res[\"attribute3\"]\n",
    "    #del res[\"attribute5\"]\n",
    "    dt_list = [\"attribute2\"]#,\"attribute8\"]\n",
    "    for c in dt_list:\n",
    "        deriv = build_deriv(res,c)\n",
    "        res[\"dt_%s\" % c] = deriv\n",
    "        res[\"dt2_%s\" % c] =  build_deriv(res,c,2)\n",
    "    return res.fillna(0)\n",
    "\n",
    "def post_filter(df):\n",
    "    res = df.copy()\n",
    "    res = filter_devices(res)\n",
    "    for col in res.columns:\n",
    "        if \"min\" in col:\n",
    "            del res[col]\n",
    "        if \"std\" in col:\n",
    "            del res[col]\n",
    "    return res"
   ]
  },
  {
   "cell_type": "code",
   "execution_count": 4,
   "metadata": {
    "ExecuteTime": {
     "end_time": "2017-01-26T01:07:52.275460",
     "start_time": "2017-01-26T01:07:47.946136"
    },
    "collapsed": false
   },
   "outputs": [],
   "source": [
    "pre_dataset = pre_filter(dataset)\n",
    "#print feature_set.columns\n",
    "\n",
    "features = [f for f in pre_dataset.columns if \"att\" in f]\n",
    "def f_to_dict(feature):\n",
    "    d = {\n",
    "            \"min_%s\" % feature:np.min,\n",
    "            \"max_%s\" % feature:np.max,\n",
    "            \"mean_%s\" % feature :np.mean,\n",
    "            \"std_%s\" % feature:np.std\n",
    "        }\n",
    "    dft_list = [\"attribute4\",\"attribute5\", \"attribute6\",\"attribute7\",\"attribute9\"]\n",
    "    if feature in dft_list:\n",
    "        d[\"dft_p0_ind%s\" % feature] = lambda r : fft_peak(r,p=0,index_no_value=True)\n",
    "        d[\"dft_p0_val%s\" % feature] = lambda r : fft_peak(r,p=0,index_no_value=False)\n",
    "    return d\n",
    "\n",
    "agg_dict = dict( (f,f_to_dict(f)) for f in features )\n",
    "#print agg_dict"
   ]
  },
  {
   "cell_type": "code",
   "execution_count": 5,
   "metadata": {
    "ExecuteTime": {
     "end_time": "2017-01-26T01:08:04.735007",
     "start_time": "2017-01-26T01:07:52.276892"
    },
    "collapsed": false
   },
   "outputs": [],
   "source": [
    "feature_set = pre_dataset.groupby(level=\"device\").agg(agg_dict)\n",
    "feature_set.columns = feature_set.columns.droplevel()\n",
    "feature_set = post_filter(feature_set)\n",
    "\n",
    "# feature filtering\n",
    "# feature filtering\n",
    "#try : \n",
    "#    filtered = feature_set.filter(items=feature_imp.index)\n",
    "#    print \"filtering devices\"\n",
    "#    feature_set = filtered\n",
    "#except:\n",
    "#    print \"no feature filtering\"\n",
    "\n",
    "label_set =  dataset[[\"failure\"]].groupby(level=\"device\").sum()\n",
    "label_set = filter_devices(label_set)\n",
    "feature_mat = feature_set.as_matrix()\n",
    "label_mat = label_set.as_matrix().ravel()"
   ]
  },
  {
   "cell_type": "markdown",
   "metadata": {},
   "source": [
    "## Run model"
   ]
  },
  {
   "cell_type": "code",
   "execution_count": 26,
   "metadata": {
    "ExecuteTime": {
     "end_time": "2017-01-26T09:39:16.152010",
     "start_time": "2017-01-26T09:39:15.412166"
    },
    "collapsed": false
   },
   "outputs": [
    {
     "name": "stdout",
     "output_type": "stream",
     "text": [
      "using last optimized model\n",
      "accurracy: 0.911511, std(0.0088413))\n"
     ]
    },
    {
     "name": "stderr",
     "output_type": "stream",
     "text": [
      "[Parallel(n_jobs=6)]: Done   3 out of   3 | elapsed:    0.6s finished\n"
     ]
    }
   ],
   "source": [
    "pca = PCA()#n_components=\"mle\",svd_solver=\"full\")\n",
    "norm = Normalizer()\n",
    "\n",
    "\n",
    "#model=GradientBoostingClassifier()\n",
    "model = RandomForestClassifier()\n",
    "#model = SVC(probability=True)\n",
    "\n",
    "pipeline= Pipeline([('normalize', norm),('reduce_dim', pca),(\"model\",model)])\n",
    "\n",
    "#Fit TPOT result\n",
    "#pipeline = pipeline_optimizer._fitted_pipeline\n",
    "\n",
    "try:\n",
    "    # use best parameters if available\n",
    "    #\n",
    "    pipeline.set_params(**grid_result.best_params_)\n",
    "    print \"using last optimized model\"\n",
    "except:\n",
    "    print \"no optim result, or bad ones: let's keep the default ones\"\n",
    "    pass\n",
    "\n",
    "scores = cross_val_score(pipeline, feature_mat, label_mat,cv=3,verbose=1,scoring=\"accuracy\",n_jobs=6)                          \n",
    "print \"accurracy: %g, std(%g))\" % (scores.mean(), scores.std())"
   ]
  },
  {
   "cell_type": "markdown",
   "metadata": {},
   "source": [
    "### Eval Model"
   ]
  },
  {
   "cell_type": "code",
   "execution_count": 27,
   "metadata": {
    "ExecuteTime": {
     "end_time": "2017-01-26T09:39:17.676078",
     "start_time": "2017-01-26T09:39:17.329487"
    },
    "collapsed": false,
    "hide_input": false
   },
   "outputs": [],
   "source": [
    "from sklearn.model_selection import train_test_split\n",
    "from sklearn.metrics import roc_curve, accuracy_score,precision_recall_curve, auc\n",
    "\n",
    "X_train, X_test, Y_train, Y_test = train_test_split(feature_mat,label_mat,test_size=0.3)\n",
    "# calculate the fpr and tpr for all thresholds of the classification\n",
    "\n",
    "fitted = pipeline.fit(X_train,Y_train)\n",
    "probs = fitted.predict_proba(X_test)\n",
    "preds = probs[:,1]\n",
    "preds_train = fitted.predict_proba(X_train)[:,1]\n",
    "fpr, tpr, threshold = roc_curve(Y_test, preds)\n",
    "fpr_train, tpr_train, threshold_train = roc_curve(Y_train, preds_train)\n",
    "roc_auc = auc(fpr, tpr)\n",
    "roc_auc_train = auc(fpr_train, tpr_train)\n",
    "precision, recall, ths = precision_recall_curve(Y_test, preds)\n",
    "precision_train, recall_train, ths_train = precision_recall_curve(Y_train, preds_train)"
   ]
  },
  {
   "cell_type": "code",
   "execution_count": 28,
   "metadata": {
    "ExecuteTime": {
     "end_time": "2017-01-26T09:42:45.949139",
     "start_time": "2017-01-26T09:42:45.835603"
    },
    "collapsed": false
   },
   "outputs": [
    {
     "data": {
      "text/html": [
       "\n",
       "\n",
       "    <div class=\"bk-root\">\n",
       "        <div class=\"bk-plotdiv\" id=\"c77f939d-2286-4db9-93cd-98d4ef49b521\"></div>\n",
       "    </div>\n",
       "<script type=\"text/javascript\">\n",
       "  \n",
       "  (function(global) {\n",
       "    function now() {\n",
       "      return new Date();\n",
       "    }\n",
       "  \n",
       "    var force = false;\n",
       "  \n",
       "    if (typeof (window._bokeh_onload_callbacks) === \"undefined\" || force === true) {\n",
       "      window._bokeh_onload_callbacks = [];\n",
       "      window._bokeh_is_loading = undefined;\n",
       "    }\n",
       "  \n",
       "  \n",
       "    \n",
       "    if (typeof (window._bokeh_timeout) === \"undefined\" || force === true) {\n",
       "      window._bokeh_timeout = Date.now() + 0;\n",
       "      window._bokeh_failed_load = false;\n",
       "    }\n",
       "  \n",
       "    var NB_LOAD_WARNING = {'data': {'text/html':\n",
       "       \"<div style='background-color: #fdd'>\\n\"+\n",
       "       \"<p>\\n\"+\n",
       "       \"BokehJS does not appear to have successfully loaded. If loading BokehJS from CDN, this \\n\"+\n",
       "       \"may be due to a slow or bad network connection. Possible fixes:\\n\"+\n",
       "       \"</p>\\n\"+\n",
       "       \"<ul>\\n\"+\n",
       "       \"<li>re-rerun `output_notebook()` to attempt to load from CDN again, or</li>\\n\"+\n",
       "       \"<li>use INLINE resources instead, as so:</li>\\n\"+\n",
       "       \"</ul>\\n\"+\n",
       "       \"<code>\\n\"+\n",
       "       \"from bokeh.resources import INLINE\\n\"+\n",
       "       \"output_notebook(resources=INLINE)\\n\"+\n",
       "       \"</code>\\n\"+\n",
       "       \"</div>\"}};\n",
       "  \n",
       "    function display_loaded() {\n",
       "      if (window.Bokeh !== undefined) {\n",
       "        document.getElementById(\"c77f939d-2286-4db9-93cd-98d4ef49b521\").textContent = \"BokehJS successfully loaded.\";\n",
       "      } else if (Date.now() < window._bokeh_timeout) {\n",
       "        setTimeout(display_loaded, 100)\n",
       "      }\n",
       "    }\n",
       "  \n",
       "    function run_callbacks() {\n",
       "      window._bokeh_onload_callbacks.forEach(function(callback) { callback() });\n",
       "      delete window._bokeh_onload_callbacks\n",
       "      console.info(\"Bokeh: all callbacks have finished\");\n",
       "    }\n",
       "  \n",
       "    function load_libs(js_urls, callback) {\n",
       "      window._bokeh_onload_callbacks.push(callback);\n",
       "      if (window._bokeh_is_loading > 0) {\n",
       "        console.log(\"Bokeh: BokehJS is being loaded, scheduling callback at\", now());\n",
       "        return null;\n",
       "      }\n",
       "      if (js_urls == null || js_urls.length === 0) {\n",
       "        run_callbacks();\n",
       "        return null;\n",
       "      }\n",
       "      console.log(\"Bokeh: BokehJS not loaded, scheduling load and callback at\", now());\n",
       "      window._bokeh_is_loading = js_urls.length;\n",
       "      for (var i = 0; i < js_urls.length; i++) {\n",
       "        var url = js_urls[i];\n",
       "        var s = document.createElement('script');\n",
       "        s.src = url;\n",
       "        s.async = false;\n",
       "        s.onreadystatechange = s.onload = function() {\n",
       "          window._bokeh_is_loading--;\n",
       "          if (window._bokeh_is_loading === 0) {\n",
       "            console.log(\"Bokeh: all BokehJS libraries loaded\");\n",
       "            run_callbacks()\n",
       "          }\n",
       "        };\n",
       "        s.onerror = function() {\n",
       "          console.warn(\"failed to load library \" + url);\n",
       "        };\n",
       "        console.log(\"Bokeh: injecting script tag for BokehJS library: \", url);\n",
       "        document.getElementsByTagName(\"head\")[0].appendChild(s);\n",
       "      }\n",
       "    };var element = document.getElementById(\"c77f939d-2286-4db9-93cd-98d4ef49b521\");\n",
       "    if (element == null) {\n",
       "      console.log(\"Bokeh: ERROR: autoload.js configured with elementid 'c77f939d-2286-4db9-93cd-98d4ef49b521' but no matching script tag was found. \")\n",
       "      return false;\n",
       "    }\n",
       "  \n",
       "    var js_urls = [];\n",
       "  \n",
       "    var inline_js = [\n",
       "      function(Bokeh) {\n",
       "        (function() {\n",
       "          var fn = function() {\n",
       "            var docs_json = {\"7779ab82-3aa1-4bee-b9cb-aa5e918a40ad\":{\"roots\":{\"references\":[{\"attributes\":{\"overlay\":{\"id\":\"5561f1a8-47c7-471f-9968-159eab859b35\",\"type\":\"BoxAnnotation\"},\"plot\":{\"id\":\"c9c6208d-03e6-4fcd-96d4-41f65d2c773a\",\"subtype\":\"Figure\",\"type\":\"Plot\"}},\"id\":\"93c51c05-3892-4b0d-8039-586d447eb112\",\"type\":\"BoxZoomTool\"},{\"attributes\":{\"fill_color\":{\"value\":\"red\"},\"line_color\":{\"value\":\"red\"},\"size\":{\"units\":\"screen\",\"value\":5},\"x\":{\"field\":\"x\"},\"y\":{\"field\":\"y\"}},\"id\":\"41c16e31-aed1-47c0-885d-a14122d344fd\",\"type\":\"Circle\"},{\"attributes\":{\"fill_alpha\":{\"value\":0.1},\"fill_color\":{\"value\":\"#1f77b4\"},\"line_alpha\":{\"value\":0.1},\"line_color\":{\"value\":\"#1f77b4\"},\"size\":{\"units\":\"screen\",\"value\":5},\"x\":{\"field\":\"x\"},\"y\":{\"field\":\"y\"}},\"id\":\"99c6d674-e295-4e10-876a-3c28927f4d4f\",\"type\":\"Circle\"},{\"attributes\":{\"label\":{\"value\":\"PR on train\"},\"renderers\":[{\"id\":\"e7bb4d9c-d5e3-44e2-ae68-e39e27e5e785\",\"type\":\"GlyphRenderer\"}]},\"id\":\"89aa4a09-0b79-445a-bd5e-dfe98651f6d9\",\"type\":\"LegendItem\"},{\"attributes\":{\"plot\":{\"id\":\"c9c6208d-03e6-4fcd-96d4-41f65d2c773a\",\"subtype\":\"Figure\",\"type\":\"Plot\"}},\"id\":\"faef2775-23aa-440d-9590-cb0368ce9709\",\"type\":\"ResetTool\"},{\"attributes\":{\"data_source\":{\"id\":\"a8ff8d24-9941-430a-b389-cd2f4a9e2a2a\",\"type\":\"ColumnDataSource\"},\"glyph\":{\"id\":\"f92540a6-067d-429f-9ffa-9c999e3e5cad\",\"type\":\"Line\"},\"hover_glyph\":null,\"nonselection_glyph\":{\"id\":\"e70d6e02-8f0b-479a-992b-ae6382f1f6f7\",\"type\":\"Line\"},\"selection_glyph\":null},\"id\":\"c5953032-d2ef-4c05-810c-0fc30382c29c\",\"type\":\"GlyphRenderer\"},{\"attributes\":{\"line_alpha\":{\"value\":0.1},\"line_color\":{\"value\":\"#1f77b4\"},\"x\":{\"field\":\"x\"},\"y\":{\"field\":\"y\"}},\"id\":\"abfd9302-51c2-46ca-9468-4e198545ae71\",\"type\":\"Line\"},{\"attributes\":{\"fill_color\":{\"value\":\"#1f77b4\"},\"line_color\":{\"value\":\"#1f77b4\"},\"size\":{\"units\":\"screen\",\"value\":5},\"x\":{\"field\":\"x\"},\"y\":{\"field\":\"y\"}},\"id\":\"67114656-80d7-437e-81ad-18f209a5131d\",\"type\":\"Cross\"},{\"attributes\":{\"plot\":{\"id\":\"c9c6208d-03e6-4fcd-96d4-41f65d2c773a\",\"subtype\":\"Figure\",\"type\":\"Plot\"}},\"id\":\"8383cf6e-d934-4780-9aca-e163fe47c8c8\",\"type\":\"WheelZoomTool\"},{\"attributes\":{\"callback\":null,\"column_names\":[\"y\",\"x\"],\"data\":{\"x\":{\"__ndarray__\":\"AAAAAAAA8D9HWO5phOXuP0dY7mmE5e4/R1juaYTl7j9HWO5phOXuP0dY7mmE5e4/R1juaYTl7j9HWO5phOXuP0dY7mmE5e4/R1juaYTl7j9HWO5phOXuP0dY7mmE5e4/R1juaYTl7j9HWO5phOXuP0dY7mmE5e4/R1juaYTl7j9HWO5phOXuP0dY7mmE5e4/R1juaYTl7j9HWO5phOXuP0dY7mmE5e4/R1juaYTl7j9HWO5phOXuP0dY7mmE5e4/R1juaYTl7j9HWO5phOXuP0dY7mmE5e4/R1juaYTl7j+NsNzTCMvtP42w3NMIy+0/jbDc0wjL7T+NsNzTCMvtP42w3NMIy+0/jbDc0wjL7T+NsNzTCMvtP42w3NMIy+0/jbDc0wjL7T+NsNzTCMvtP42w3NMIy+0/jbDc0wjL7T+NsNzTCMvtP42w3NMIy+0/jbDc0wjL7T+NsNzTCMvtP42w3NMIy+0/jbDc0wjL7T+NsNzTCMvtP42w3NMIy+0/jbDc0wjL7T+NsNzTCMvtP42w3NMIy+0/1AjLPY2w7D/UCMs9jbDsP9QIyz2NsOw/1AjLPY2w7D/UCMs9jbDsP9QIyz2NsOw/1AjLPY2w7D8aYbmnEZbrPxphuacRlus/GmG5pxGW6z8aYbmnEZbrPxphuacRlus/GmG5pxGW6z9huacRlnvqP2G5pxGWe+o/YbmnEZZ76j9huacRlnvqP2G5pxGWe+o/YbmnEZZ76j9huacRlnvqP2G5pxGWe+o/YbmnEZZ76j9huacRlnvqP6gRlnsaYek/7mmE5Z5G6D/uaYTlnkboP+5phOWeRug/7mmE5Z5G6D/uaYTlnkboP+5phOWeRug/7mmE5Z5G6D/uaYTlnkboPzXCck8jLOc/fBphuacR5j98GmG5pxHmP3waYbmnEeY/fBphuacR5j98GmG5pxHmP3waYbmnEeY/fBphuacR5j/Cck8jLPfkP8JyTyMs9+Q/wnJPIyz35D/Cck8jLPfkP8JyTyMs9+Q/wnJPIyz35D/Cck8jLPfkP8JyTyMs9+Q/Ccs9jbDc4z8Jyz2NsNzjPwnLPY2w3OM/Ccs9jbDc4z8Jyz2NsNzjPwnLPY2w3OM/Ccs9jbDc4z8Jyz2NsNzjPwnLPY2w3OM/Ccs9jbDc4z8Jyz2NsNzjP08jLPc0wuI/TyMs9zTC4j9PIyz3NMLiP08jLPc0wuI/TyMs9zTC4j9PIyz3NMLiP08jLPc0wuI/TyMs9zTC4j+WexphuafhP5Z7GmG5p+E/3dMIyz2N4D/d0wjLPY3gP0dY7mmE5d4/1AjLPY2w3D9huacRlnvaP+5phOWeRtg/7mmE5Z5G2D/uaYTlnkbYP+5phOWeRtg/7mmE5Z5G2D/uaYTlnkbYP3waYbmnEdY/Ccs9jbDc0z8Jyz2NsNzTP5Z7GmG5p9E/R1juaYTlzj9huacRlnvKP2G5pxGWe8o/fBphuacRxj+WexphuafBP2G5pxGWe7o/lnsaYbmnsT+WexphuaehP5Z7GmG5p6E/AAAAAAAAAAA=\",\"dtype\":\"float64\",\"shape\":[145]},\"y\":{\"__ndarray__\":\"LOGo/j5vwz9MriAmVxDDPyoTtkFwKsM/RRNNNNFEwz/4NSEoe1/DP5Q+6ZM+6cM/ztDafbgFxD/lAl5voz/EPyvPxMd9t8Q/NmVNWVPWxD8VFRUVFRXFPwJnXIsENcU/uRWKW6G4xT/kxZbg2/zFP2QhC1nIQsY/ZmZmZmZmxj9eLW7C/K7GP6EBS3r508Y/l2/5lm/5xj8YhmEYhmHIP9J5iyGdt8g/OY7jOI7jyD9fBbOkHBDJP6kn47dLPck/ZuiA3R5ryT9aWlpaWlrKPyP6gOrYW8s/HLmRG7mRyz+zpqwpa8rKPwAAAAAAAMs/zmaz2Ww2yz/btm3btm3LP9nO91Pjpcs/GZyPwfkYzD+e2Imd2InNP1tY6amFlc4/t23btm3bzj8q8lk3mCLPP2vfsPYNa88/TvvJEti0zz8AAAAAAADQPyFWlMZHJtA/463sc0hN0D/ZiZ3YiZ3QP5ruYL/VxtA/8fDw8PDw0D/sZ4uV4RvRP3TRRRdddNE/aKwPjfWh0T9SgS+uftDRPwgj7ViBMNI/R31no76z0T/kkUceeeTRPyELWchCFtI/kiRJkiRJ0j/SJ33SJ33SPytZyUpWstI/6aKLLrro0j+8QCbFC2TSP6esKWvKmtI/09LS0tLS0j/DMAzDMAzTP11WDJTwRtM/g/MxOB+D0z9oL6G9hPbSPzMzMzMzM9M/4ybM72px0z8UO7ETO7HTP87KT4iz8tM/XkN5DeU11D97FK5H4XrUPxxMkc+6wdQ/qFChQoUK1T9VVVVVVVXVP3CXejJ+u9Q/1EEd1EEd1D9GiZ9R4mfUP7W0tLS0tNQ/F341JtID1T9VVVVVVVXVP5ZaqZVaqdU/AAAAAAAA1j+WZVmWZVnWP6211lprrdU/yRCso8371D9VVVVVVVXVP9BwUvflsdU/fBphuacR1j9MZzGdxXTWP7dt27Zt29Y/RhdddNFF1z9MaC+hvYTWP2WfQ2qC8dY/J3ZiJ3Zi1z/Y19fX19fXP1K4HoXrUdg/NNaHxvrQ2D9VVVVVVVXZP2ejvrNR39k/kYUsZCEL2T+amZmZmZnZPy+66KKLLto/s6asKWvK2j/btm3btm3bPxmcj8H5GNw/zczMzMzM3D+e2Imd2IndPw3lNZTXUN4/KvJZN5gi3z8AAAAAAADgP1/xFV/xFd8/AAAAAAAA4D988MEHH3zgPwAAAAAAAOE/jDHGGGOM4T8iIiIiIiLiP08jLPc0wuI/27Zt27Zt4z9oL6G9hPbiPxQ7sRM7seM/MzMzMzMz4z8AAAAAAADkPzi96U1veuM/6aKLLrro4j+SJEmSJEniP5qZmZmZmeE/bCivobyG4j/kOI7jOI7jP7W0tLS0tOQ/AAAAAAAA5j93d3d3d3fnP7dt27Zt2+Y/dmIndmIn5j8vuuiiiy7qP5qZmZmZmek/OY7jOI7j6D8AAAAAAADoP9u2bdu2bes/q6qqqqqq6j+amZmZmZnpPwAAAAAAAOg/VVVVVVVV5T8AAAAAAADgPwAAAAAAAPA/AAAAAAAA8D8=\",\"dtype\":\"float64\",\"shape\":[145]}}},\"id\":\"38855d78-e168-4809-be25-c9ad743458ca\",\"type\":\"ColumnDataSource\"},{\"attributes\":{},\"id\":\"f7b301d9-2310-47f9-993c-b4fd6da4877d\",\"type\":\"BasicTicker\"},{\"attributes\":{\"dimension\":1,\"plot\":{\"id\":\"c9c6208d-03e6-4fcd-96d4-41f65d2c773a\",\"subtype\":\"Figure\",\"type\":\"Plot\"},\"ticker\":{\"id\":\"c544f58f-0731-4218-8152-6ea05275e4c4\",\"type\":\"BasicTicker\"}},\"id\":\"34b28df7-40e8-49f4-b131-06c369c0d84a\",\"type\":\"Grid\"},{\"attributes\":{\"items\":[{\"id\":\"a9171115-7afa-4d7c-8bf6-8c53f54fe336\",\"type\":\"LegendItem\"},{\"id\":\"1ab24612-6e36-4383-9fb3-17cb3524abca\",\"type\":\"LegendItem\"}],\"plot\":{\"id\":\"65be3d3b-1909-4fb4-8b1a-a428de28d757\",\"subtype\":\"Figure\",\"type\":\"Plot\"}},\"id\":\"14987ffe-28fa-4ed8-b6e3-3ad2aa2bc947\",\"type\":\"Legend\"},{\"attributes\":{\"callback\":null},\"id\":\"4e76a7bc-eca2-4f40-ba51-a89466105fef\",\"type\":\"DataRange1d\"},{\"attributes\":{\"data_source\":{\"id\":\"38855d78-e168-4809-be25-c9ad743458ca\",\"type\":\"ColumnDataSource\"},\"glyph\":{\"id\":\"67114656-80d7-437e-81ad-18f209a5131d\",\"type\":\"Cross\"},\"hover_glyph\":null,\"nonselection_glyph\":{\"id\":\"168690fc-e2b2-4eab-b7ba-4e28d6ccf108\",\"type\":\"Cross\"},\"selection_glyph\":null},\"id\":\"66aecdd8-fe05-4248-a4e0-189248f5a219\",\"type\":\"GlyphRenderer\"},{\"attributes\":{\"active_drag\":\"auto\",\"active_scroll\":\"auto\",\"active_tap\":\"auto\",\"tools\":[{\"id\":\"005c7527-20a7-40a9-a05c-76ce32b5ffed\",\"type\":\"PanTool\"},{\"id\":\"8383cf6e-d934-4780-9aca-e163fe47c8c8\",\"type\":\"WheelZoomTool\"},{\"id\":\"93c51c05-3892-4b0d-8039-586d447eb112\",\"type\":\"BoxZoomTool\"},{\"id\":\"14719ae8-6ee7-4a0d-b437-ba0ca81a2459\",\"type\":\"SaveTool\"},{\"id\":\"faef2775-23aa-440d-9590-cb0368ce9709\",\"type\":\"ResetTool\"},{\"id\":\"d7f5043f-b2b0-45bf-a1be-3c6a093062d0\",\"type\":\"HelpTool\"}]},\"id\":\"76e82c28-249e-4cc9-bbe8-312d75394d23\",\"type\":\"Toolbar\"},{\"attributes\":{\"data_source\":{\"id\":\"58424381-8120-4f88-9ee9-50fdfc2363c5\",\"type\":\"ColumnDataSource\"},\"glyph\":{\"id\":\"6b64fc16-67cf-40f4-9992-f946231dc50b\",\"type\":\"Line\"},\"hover_glyph\":null,\"nonselection_glyph\":{\"id\":\"abfd9302-51c2-46ca-9468-4e198545ae71\",\"type\":\"Line\"},\"selection_glyph\":null},\"id\":\"069c12a7-085c-434a-9bb4-437834105810\",\"type\":\"GlyphRenderer\"},{\"attributes\":{\"data_source\":{\"id\":\"0afe6257-8429-498c-a7b1-57c8e337d514\",\"type\":\"ColumnDataSource\"},\"glyph\":{\"id\":\"ce68c579-196e-489c-8308-8e7c9eeabfc7\",\"type\":\"Line\"},\"hover_glyph\":null,\"nonselection_glyph\":{\"id\":\"64301916-c396-445c-afb5-fca284eb8a77\",\"type\":\"Line\"},\"selection_glyph\":null},\"id\":\"e7bb4d9c-d5e3-44e2-ae68-e39e27e5e785\",\"type\":\"GlyphRenderer\"},{\"attributes\":{\"axis_label\":\"tpr\",\"formatter\":{\"id\":\"bb12fd8b-845b-4bfc-a151-757364b7665c\",\"type\":\"BasicTickFormatter\"},\"plot\":{\"id\":\"65be3d3b-1909-4fb4-8b1a-a428de28d757\",\"subtype\":\"Figure\",\"type\":\"Plot\"},\"ticker\":{\"id\":\"14943313-c4df-4db9-896b-51aa0ffa1158\",\"type\":\"BasicTicker\"}},\"id\":\"c20071a5-bc67-4f65-b456-65a8220d0140\",\"type\":\"LinearAxis\"},{\"attributes\":{\"callback\":null,\"column_names\":[\"y\",\"x\"],\"data\":{\"x\":{\"__ndarray__\":\"AAAAAAAAAAB0uD877+JxP3S4Pzvv4nE/dLg/O+/igT90uD877+KBP3S4Pzvv4pE/dLg/O+/ikT+Dr6ciTR+kP4OvpyJNH6Q/kaYPCqtbpj+Rpg8Kq1umP6Cdd/EImKg/oJ138QiYqD+Dr6ciTR+0P4OvpyJNH7Q/y4KvpyJNvz/Lgq+nIk2/P7+xzag1kMM/v7HNqDWQwz9VpOmDwurGP1Wk6YPC6sY/rpTf2GbUyj+ulN/YZtTKP4+AiSE63M8/j4CJITrczz+xumXB11PRP7G6ZcHXU9E//LPzLh4B0z/8s/MuHgHTP7+xzag1kNM/g6+nIk0f1D9GrYGcZK7UP+ypSNMHhdU/sKciTR8U1j/cn5138QjYP2ObUWsgJ9k/rpTf2GbU2j9ykrlSfmPbP/mNbUatgdw/+Y1tRq2B3D/bjFoDOcncP62BnGSulN8/mj4orG5Z4D98PRVp+qDgP3S4Pzvv4uE/Vrcs+Hoq4j84thm1BnLiP6k1kJPMleI/bDNqDeQk4z8wMUSH+7PjP6GwumXB1+M/g6+nIk0f5D/0Lh4BE0PkP7cs+Hoq0uQ/mSvlN7YZ5T8Kq1sWfD3lPz8orG5Z8OU/kaYPCqtb5j9zpfzGNqPmP8YjYGKIDuc/iiE63J+d5z9rICeZK+XnPy8eARNDdOg/Y5tRayAn6T/UGshJ5krpP5gYosP92ek/CZgYosP96T9UkaYPCqvrPzaQk8yV8us/iA73Z+dd7D9qDeQkc6XsP/EImBiiw+0/0weF1S0L7j+PgIkhOtzvPwAAAAAAAPA/\",\"dtype\":\"float64\",\"shape\":[75]},\"y\":{\"__ndarray__\":\"lnsaYbmnoT+WexphuaehP2G5pxGWe8o/YbmnEZZ7yj8Jyz2NsNzTPwnLPY2w3NM/7mmE5Z5G2D/uaYTlnkbYP93TCMs9jeA/3dMIyz2N4D+WexphuafhP5Z7GmG5p+E/TyMs9zTC4j9PIyz3NMLiPwnLPY2w3OM/Ccs9jbDc4z/Cck8jLPfkP8JyTyMs9+Q/fBphuacR5j98GmG5pxHmP+5phOWeRug/7mmE5Z5G6D9huacRlnvqP2G5pxGWe+o/GmG5pxGW6z8aYbmnEZbrP9QIyz2NsOw/1AjLPY2w7D+NsNzTCMvtP42w3NMIy+0/jbDc0wjL7T+NsNzTCMvtP42w3NMIy+0/jbDc0wjL7T+NsNzTCMvtP42w3NMIy+0/jbDc0wjL7T+NsNzTCMvtP42w3NMIy+0/R1juaYTl7j9HWO5phOXuP0dY7mmE5e4/R1juaYTl7j9HWO5phOXuP0dY7mmE5e4/R1juaYTl7j9HWO5phOXuP0dY7mmE5e4/R1juaYTl7j9HWO5phOXuP0dY7mmE5e4/R1juaYTl7j9HWO5phOXuP0dY7mmE5e4/R1juaYTl7j9HWO5phOXuP0dY7mmE5e4/R1juaYTl7j8AAAAAAADwPwAAAAAAAPA/AAAAAAAA8D8AAAAAAADwPwAAAAAAAPA/AAAAAAAA8D8AAAAAAADwPwAAAAAAAPA/AAAAAAAA8D8AAAAAAADwPwAAAAAAAPA/AAAAAAAA8D8AAAAAAADwPwAAAAAAAPA/AAAAAAAA8D8AAAAAAADwPwAAAAAAAPA/\",\"dtype\":\"float64\",\"shape\":[75]}}},\"id\":\"b348f88b-06f3-4305-a1c3-745f152bd9fe\",\"type\":\"ColumnDataSource\"},{\"attributes\":{\"fill_color\":{\"value\":\"#1f77b4\"},\"line_color\":{\"value\":\"#1f77b4\"},\"size\":{\"units\":\"screen\",\"value\":5},\"x\":{\"field\":\"x\"},\"y\":{\"field\":\"y\"}},\"id\":\"eee55dc3-cbc5-496d-bbfb-efac2eb849f4\",\"type\":\"Cross\"},{\"attributes\":{\"line_alpha\":{\"value\":0.1},\"line_color\":{\"value\":\"#1f77b4\"},\"x\":{\"field\":\"x\"},\"y\":{\"field\":\"y\"}},\"id\":\"e70d6e02-8f0b-479a-992b-ae6382f1f6f7\",\"type\":\"Line\"},{\"attributes\":{\"axis_label\":\"fpr\",\"formatter\":{\"id\":\"36dea971-e792-4ad1-9ba5-59f6b4c6813e\",\"type\":\"BasicTickFormatter\"},\"plot\":{\"id\":\"65be3d3b-1909-4fb4-8b1a-a428de28d757\",\"subtype\":\"Figure\",\"type\":\"Plot\"},\"ticker\":{\"id\":\"1820a6ed-3cfb-45a8-9cf3-370483b53e3d\",\"type\":\"BasicTicker\"}},\"id\":\"ec99dabc-2827-49bc-82fc-69c42dd1f59a\",\"type\":\"LinearAxis\"},{\"attributes\":{\"callback\":null,\"column_names\":[\"x\",\"y\"],\"data\":{\"x\":{\"__ndarray__\":\"AAAAAAAA8D/btm3btm3vP9u2bdu2be8/27Zt27Zt7z/btm3btm3vP9u2bdu2be8/27Zt27Zt7z/btm3btm3vP9u2bdu2be8/27Zt27Zt7z/btm3btm3vP9u2bdu2be8/27Zt27Zt7z/btm3btm3vP7dt27Zt2+4/kiRJkiRJ7j9u27Zt27btP0mSJEmSJO0/SZIkSZIk7T8lSZIkSZLsPyVJkiRJkuw/JUmSJEmS7D8lSZIkSZLsPwAAAAAAAOw/AAAAAAAA7D8AAAAAAADsP9u2bdu2bes/t23btm3b6j+SJEmSJEnqP27btm3btuk/SZIkSZIk6T8lSZIkSZLoPwAAAAAAAOg/27Zt27Zt5z+3bdu2bdvmP5IkSZIkSeY/btu2bdu25T9JkiRJkiTlPyVJkiRJkuQ/AAAAAAAA5D/btm3btm3jP7dt27Zt2+I/kiRJkiRJ4j9u27Zt27bhP0mSJEmSJOE/JUmSJEmS4D8AAAAAAADgP7dt27Zt294/btu2bdu23T8lSZIkSZLcP9u2bdu2bds/kiRJkiRJ2j9JkiRJkiTZPwAAAAAAANg/t23btm3b1j9u27Zt27bVPyVJkiRJktQ/27Zt27Zt0z+SJEmSJEnSP0mSJEmSJNE/AAAAAAAA0D9u27Zt27bNP9u2bdu2bcs/SZIkSZIkyT+3bdu2bdvGPyVJkiRJksQ/kiRJkiRJwj8AAAAAAADAP9u2bdu2bbs/t23btm3btj+SJEmSJEmyP9u2bdu2bas/kiRJkiRJoj+SJEmSJEmSPwAAAAAAAAAA\",\"dtype\":\"float64\",\"shape\":[75]},\"y\":{\"__ndarray__\":\"doMp8lk36D/BgQMHDhzoPxzHcRzHceg/PRm/XerJ6D9JkiRJkiTpP5hrB+bagek/4uHh4eHh6T+d3cKvxkTqP6uqqqqqquo/O7ETO7ET6z8AAAAAAIDrP/y+7/u+7+s/Y4wxxhhj7D8VlwzBOtrsP83MzMzMzOw/rggaTuq+7D/UCMs9jbDsPxvKayivoew/SZIkSZIk7T8XXXTRRRftPxPaS2gvoe0/ruxzSE0w7j9P7MRO7MTuP7++vr6+vu4/XI/C9Shc7z8AAAAAAADwPwAAAAAAAPA/AAAAAAAA8D8AAAAAAADwPwAAAAAAAPA/AAAAAAAA8D8AAAAAAADwPwAAAAAAAPA/AAAAAAAA8D8AAAAAAADwPwAAAAAAAPA/AAAAAAAA8D8AAAAAAADwPwAAAAAAAPA/AAAAAAAA8D8AAAAAAADwPwAAAAAAAPA/AAAAAAAA8D8AAAAAAADwPwAAAAAAAPA/AAAAAAAA8D8AAAAAAADwPwAAAAAAAPA/AAAAAAAA8D8AAAAAAADwPwAAAAAAAPA/AAAAAAAA8D8AAAAAAADwPwAAAAAAAPA/AAAAAAAA8D8AAAAAAADwPwAAAAAAAPA/AAAAAAAA8D8AAAAAAADwPwAAAAAAAPA/AAAAAAAA8D8AAAAAAADwPwAAAAAAAPA/AAAAAAAA8D8AAAAAAADwPwAAAAAAAPA/AAAAAAAA8D8AAAAAAADwPwAAAAAAAPA/AAAAAAAA8D8AAAAAAADwPwAAAAAAAPA/AAAAAAAA8D8AAAAAAADwPwAAAAAAAPA/\",\"dtype\":\"float64\",\"shape\":[75]}}},\"id\":\"0afe6257-8429-498c-a7b1-57c8e337d514\",\"type\":\"ColumnDataSource\"},{\"attributes\":{},\"id\":\"bb12fd8b-845b-4bfc-a151-757364b7665c\",\"type\":\"BasicTickFormatter\"},{\"attributes\":{\"line_alpha\":{\"value\":0.1},\"line_color\":{\"value\":\"#1f77b4\"},\"x\":{\"field\":\"x\"},\"y\":{\"field\":\"y\"}},\"id\":\"3741ec69-3fc0-4edd-b75e-04595a8188af\",\"type\":\"Line\"},{\"attributes\":{\"fill_color\":{\"value\":\"red\"},\"line_color\":{\"value\":\"red\"},\"size\":{\"units\":\"screen\",\"value\":5},\"x\":{\"field\":\"x\"},\"y\":{\"field\":\"y\"}},\"id\":\"1b054608-ed4b-4bc5-978d-18af28ffa551\",\"type\":\"Circle\"},{\"attributes\":{},\"id\":\"ba0cdf05-e8fd-4cf0-8474-ff6359882883\",\"type\":\"ToolEvents\"},{\"attributes\":{\"children\":[{\"id\":\"c9c6208d-03e6-4fcd-96d4-41f65d2c773a\",\"subtype\":\"Figure\",\"type\":\"Plot\"},{\"id\":\"65be3d3b-1909-4fb4-8b1a-a428de28d757\",\"subtype\":\"Figure\",\"type\":\"Plot\"}]},\"id\":\"8a051ea4-9187-4417-bb05-eff5e7dddbe7\",\"type\":\"Row\"},{\"attributes\":{},\"id\":\"c544f58f-0731-4218-8152-6ea05275e4c4\",\"type\":\"BasicTicker\"},{\"attributes\":{\"callback\":null,\"column_names\":[\"y\",\"x\"],\"data\":{\"x\":{\"__ndarray__\":\"AAAAAAAAAAB0uD877+JxP3S4Pzvv4nE/dLg/O+/igT90uD877+KBP3S4Pzvv4pE/dLg/O+/ikT+Dr6ciTR+kP4OvpyJNH6Q/kaYPCqtbpj+Rpg8Kq1umP6Cdd/EImKg/oJ138QiYqD+Dr6ciTR+0P4OvpyJNH7Q/y4KvpyJNvz/Lgq+nIk2/P7+xzag1kMM/v7HNqDWQwz9VpOmDwurGP1Wk6YPC6sY/rpTf2GbUyj+ulN/YZtTKP4+AiSE63M8/j4CJITrczz+xumXB11PRP7G6ZcHXU9E//LPzLh4B0z/8s/MuHgHTP7+xzag1kNM/g6+nIk0f1D9GrYGcZK7UP+ypSNMHhdU/sKciTR8U1j/cn5138QjYP2ObUWsgJ9k/rpTf2GbU2j9ykrlSfmPbP/mNbUatgdw/+Y1tRq2B3D/bjFoDOcncP62BnGSulN8/mj4orG5Z4D98PRVp+qDgP3S4Pzvv4uE/Vrcs+Hoq4j84thm1BnLiP6k1kJPMleI/bDNqDeQk4z8wMUSH+7PjP6GwumXB1+M/g6+nIk0f5D/0Lh4BE0PkP7cs+Hoq0uQ/mSvlN7YZ5T8Kq1sWfD3lPz8orG5Z8OU/kaYPCqtb5j9zpfzGNqPmP8YjYGKIDuc/iiE63J+d5z9rICeZK+XnPy8eARNDdOg/Y5tRayAn6T/UGshJ5krpP5gYosP92ek/CZgYosP96T9UkaYPCqvrPzaQk8yV8us/iA73Z+dd7D9qDeQkc6XsP/EImBiiw+0/0weF1S0L7j+PgIkhOtzvPwAAAAAAAPA/\",\"dtype\":\"float64\",\"shape\":[75]},\"y\":{\"__ndarray__\":\"lnsaYbmnoT+WexphuaehP2G5pxGWe8o/YbmnEZZ7yj8Jyz2NsNzTPwnLPY2w3NM/7mmE5Z5G2D/uaYTlnkbYP93TCMs9jeA/3dMIyz2N4D+WexphuafhP5Z7GmG5p+E/TyMs9zTC4j9PIyz3NMLiPwnLPY2w3OM/Ccs9jbDc4z/Cck8jLPfkP8JyTyMs9+Q/fBphuacR5j98GmG5pxHmP+5phOWeRug/7mmE5Z5G6D9huacRlnvqP2G5pxGWe+o/GmG5pxGW6z8aYbmnEZbrP9QIyz2NsOw/1AjLPY2w7D+NsNzTCMvtP42w3NMIy+0/jbDc0wjL7T+NsNzTCMvtP42w3NMIy+0/jbDc0wjL7T+NsNzTCMvtP42w3NMIy+0/jbDc0wjL7T+NsNzTCMvtP42w3NMIy+0/R1juaYTl7j9HWO5phOXuP0dY7mmE5e4/R1juaYTl7j9HWO5phOXuP0dY7mmE5e4/R1juaYTl7j9HWO5phOXuP0dY7mmE5e4/R1juaYTl7j9HWO5phOXuP0dY7mmE5e4/R1juaYTl7j9HWO5phOXuP0dY7mmE5e4/R1juaYTl7j9HWO5phOXuP0dY7mmE5e4/R1juaYTl7j8AAAAAAADwPwAAAAAAAPA/AAAAAAAA8D8AAAAAAADwPwAAAAAAAPA/AAAAAAAA8D8AAAAAAADwPwAAAAAAAPA/AAAAAAAA8D8AAAAAAADwPwAAAAAAAPA/AAAAAAAA8D8AAAAAAADwPwAAAAAAAPA/AAAAAAAA8D8AAAAAAADwPwAAAAAAAPA/\",\"dtype\":\"float64\",\"shape\":[75]}}},\"id\":\"9ce47b0a-af6b-44e9-95ac-7740022341a2\",\"type\":\"ColumnDataSource\"},{\"attributes\":{\"plot\":null,\"text\":\"roc, auc: 0.88, on train: 1\"},\"id\":\"248b38dd-9e8e-4ee3-bd14-585e60537fac\",\"type\":\"Title\"},{\"attributes\":{\"bottom_units\":\"screen\",\"fill_alpha\":{\"value\":0.5},\"fill_color\":{\"value\":\"lightgrey\"},\"left_units\":\"screen\",\"level\":\"overlay\",\"line_alpha\":{\"value\":1.0},\"line_color\":{\"value\":\"black\"},\"line_dash\":[4,4],\"line_width\":{\"value\":2},\"plot\":null,\"render_mode\":\"css\",\"right_units\":\"screen\",\"top_units\":\"screen\"},\"id\":\"c2c1ef52-b108-4eb8-98ea-e76ff8c06b9f\",\"type\":\"BoxAnnotation\"},{\"attributes\":{\"plot\":{\"id\":\"c9c6208d-03e6-4fcd-96d4-41f65d2c773a\",\"subtype\":\"Figure\",\"type\":\"Plot\"}},\"id\":\"d7f5043f-b2b0-45bf-a1be-3c6a093062d0\",\"type\":\"HelpTool\"},{\"attributes\":{\"active_drag\":\"auto\",\"active_scroll\":\"auto\",\"active_tap\":\"auto\",\"tools\":[{\"id\":\"c7482e03-c702-45dc-8f30-9d06350be576\",\"type\":\"PanTool\"},{\"id\":\"54bc3646-080c-47c3-a145-996f5e0b1d45\",\"type\":\"WheelZoomTool\"},{\"id\":\"1e9ad8ce-83aa-41d5-87d8-a14b223cc7fd\",\"type\":\"BoxZoomTool\"},{\"id\":\"b7b05b9c-fd62-49d5-ba70-f8d5f54f1bae\",\"type\":\"SaveTool\"},{\"id\":\"e36862fe-d1ab-4676-9ca6-cad728dfe4c8\",\"type\":\"ResetTool\"},{\"id\":\"f261fd6e-ec63-4f45-9cea-f3a110794124\",\"type\":\"HelpTool\"}]},\"id\":\"f8411a3a-64a7-4d99-acb7-99f8cc7ab0a7\",\"type\":\"Toolbar\"},{\"attributes\":{\"data_source\":{\"id\":\"b37ca1c9-6aac-4c63-adfc-50332d7217f2\",\"type\":\"ColumnDataSource\"},\"glyph\":{\"id\":\"9c961d2f-3256-43d2-a8a3-348ad797928f\",\"type\":\"Line\"},\"hover_glyph\":null,\"nonselection_glyph\":{\"id\":\"8db8290c-ed3d-4f68-a14a-19f67acaeefc\",\"type\":\"Line\"},\"selection_glyph\":null},\"id\":\"25288f46-f7c6-4a55-a4cf-9ed02128ab9b\",\"type\":\"GlyphRenderer\"},{\"attributes\":{\"callback\":null,\"column_names\":[\"x\",\"y\"],\"data\":{\"x\":{\"__ndarray__\":\"AAAAAAAAAAAAAAAAAAAAAADhAXz4D24/AOEBfPgPbj+gLIFN+8mCP6AsgU37yYI/wGgBXfqLhj/AaAFd+ouGP5AOwcX76KA/kA7BxfvooD+gLIFN+8nCP+Y3aSBbfsM/sEpB1fqqxD80UjG3OiPFP/5kCWzaT8Y/gmz5TRrIxj9Mf9ECuvTHP5KKudUZqcg/6LNhMHk+yz9su1ESubbLP3zZEZq4l80/AOEBfPgPzj8I8OE/eADPP2kBXfqLFtA/SgPZ8ps00D8MB9Hju3DQPxQWsac7YdE/mB2hiXvZ0T95Hx2Ci/fRPzsjFXOrM9I/QzL1Nisk0z/HOeUYa5zTP4k93QmL2NM/aj9ZApv20z+RTL3NCsnUP3JOOcYa59Q/11eloGp91T+ZW52RirnVP4Js+U0ayNY/yHfhIHp81z9Mf9ECuvTXP1SOscY55dg/2JWhqHld2T+5lx2hiXvZP3ubFZKpt9k/HqGJe9kR2j/Bpv1kCWzaP6KoeV0Zito/Ra7tRknk2j8msGk/WQLbP+izYTB5Pts/i7nVGamY2z9VzK3OSMXcPzbOKcdY49w/m9eVoah53T8+3QmL2NPdPx/fhYPo8d0/ZeptVkim3j/p8V04iB7fP4z30SG4eN8/TvvJEti03z8rBVXrq1LgPxsGk+ezYeA/vgsH0eO74D+QDsHF++jgP3EQPb4LB+E/UhK5thsl4T/GGueUY6zhP6ccY41zyuE/aSBbfpMG4j9KItd2oyTiPzsjFXOrM+I/vyoFVeur4j+gLIFN+8niPyQ0cS87QuM/S0HV+qoU5D8sQ1HzujLkPxxEj+/CQeQ/3keH4OJ95D/PSMXc6ozkP0NR87oyFOU/NFIxtzoj5T/HWOOccozlP4lc242SyOU/al5XhqLm5T88YRF7uhPmPyxiT3fCIuY/7mVHaOJe5j/AaAFd+ovmP7BpP1kCm+Y/FXOrM1Ix5z8GdOkvWkDnPzyAD//BA+g/gov30SG46D9UjrHGOeXoP7mXHaGJe+k/76NDcPE+6j/gpIFs+U3qP7GnO2ERe+o/2LSfLIFN6z+5thslkWvrP6q3WSGZeus/XLyPDsHF6z/wwkH0+C7sP+DDf/AAPuw/wcX76BBc7D+yxjnlGGvsP6rWV6Wgau0/i9jTnbCI7T9s2k+WwKbtP13bjZLIte0/H9+Fg+jx7T8v/UUL6NLvPxD/wQP48O8/AAAAAAAA8D8=\",\"dtype\":\"float64\",\"shape\":[115]},\"y\":{\"__ndarray__\":\"kiRJkiRJkj8AAAAAAADsPwAAAAAAAOw/JUmSJEmS7D8lSZIkSZLsP0mSJEmSJO0/SZIkSZIk7T/btm3btm3vP9u2bdu2be8/AAAAAAAA8D8AAAAAAADwPwAAAAAAAPA/AAAAAAAA8D8AAAAAAADwPwAAAAAAAPA/AAAAAAAA8D8AAAAAAADwPwAAAAAAAPA/AAAAAAAA8D8AAAAAAADwPwAAAAAAAPA/AAAAAAAA8D8AAAAAAADwPwAAAAAAAPA/AAAAAAAA8D8AAAAAAADwPwAAAAAAAPA/AAAAAAAA8D8AAAAAAADwPwAAAAAAAPA/AAAAAAAA8D8AAAAAAADwPwAAAAAAAPA/AAAAAAAA8D8AAAAAAADwPwAAAAAAAPA/AAAAAAAA8D8AAAAAAADwPwAAAAAAAPA/AAAAAAAA8D8AAAAAAADwPwAAAAAAAPA/AAAAAAAA8D8AAAAAAADwPwAAAAAAAPA/AAAAAAAA8D8AAAAAAADwPwAAAAAAAPA/AAAAAAAA8D8AAAAAAADwPwAAAAAAAPA/AAAAAAAA8D8AAAAAAADwPwAAAAAAAPA/AAAAAAAA8D8AAAAAAADwPwAAAAAAAPA/AAAAAAAA8D8AAAAAAADwPwAAAAAAAPA/AAAAAAAA8D8AAAAAAADwPwAAAAAAAPA/AAAAAAAA8D8AAAAAAADwPwAAAAAAAPA/AAAAAAAA8D8AAAAAAADwPwAAAAAAAPA/AAAAAAAA8D8AAAAAAADwPwAAAAAAAPA/AAAAAAAA8D8AAAAAAADwPwAAAAAAAPA/AAAAAAAA8D8AAAAAAADwPwAAAAAAAPA/AAAAAAAA8D8AAAAAAADwPwAAAAAAAPA/AAAAAAAA8D8AAAAAAADwPwAAAAAAAPA/AAAAAAAA8D8AAAAAAADwPwAAAAAAAPA/AAAAAAAA8D8AAAAAAADwPwAAAAAAAPA/AAAAAAAA8D8AAAAAAADwPwAAAAAAAPA/AAAAAAAA8D8AAAAAAADwPwAAAAAAAPA/AAAAAAAA8D8AAAAAAADwPwAAAAAAAPA/AAAAAAAA8D8AAAAAAADwPwAAAAAAAPA/AAAAAAAA8D8AAAAAAADwPwAAAAAAAPA/AAAAAAAA8D8AAAAAAADwPwAAAAAAAPA/AAAAAAAA8D8AAAAAAADwPwAAAAAAAPA/AAAAAAAA8D8AAAAAAADwPwAAAAAAAPA/AAAAAAAA8D8=\",\"dtype\":\"float64\",\"shape\":[115]}}},\"id\":\"a8ff8d24-9941-430a-b389-cd2f4a9e2a2a\",\"type\":\"ColumnDataSource\"},{\"attributes\":{\"line_color\":{\"value\":\"#1f77b4\"},\"x\":{\"field\":\"x\"},\"y\":{\"field\":\"y\"}},\"id\":\"7a5d5afb-0017-48f1-827a-a4dd7fe0a86d\",\"type\":\"Line\"},{\"attributes\":{\"axis_label\":\"recall\",\"formatter\":{\"id\":\"92a3c27c-133b-403b-bd22-c369cb206e3f\",\"type\":\"BasicTickFormatter\"},\"plot\":{\"id\":\"c9c6208d-03e6-4fcd-96d4-41f65d2c773a\",\"subtype\":\"Figure\",\"type\":\"Plot\"},\"ticker\":{\"id\":\"f7b301d9-2310-47f9-993c-b4fd6da4877d\",\"type\":\"BasicTicker\"}},\"id\":\"0432e7b4-a8f1-4a89-8827-74989c9e2335\",\"type\":\"LinearAxis\"},{\"attributes\":{},\"id\":\"92c35938-cf42-43ca-a248-47ec8f462f89\",\"type\":\"BasicTickFormatter\"},{\"attributes\":{\"below\":[{\"id\":\"c20071a5-bc67-4f65-b456-65a8220d0140\",\"type\":\"LinearAxis\"}],\"left\":[{\"id\":\"ec99dabc-2827-49bc-82fc-69c42dd1f59a\",\"type\":\"LinearAxis\"}],\"plot_height\":400,\"plot_width\":400,\"renderers\":[{\"id\":\"c20071a5-bc67-4f65-b456-65a8220d0140\",\"type\":\"LinearAxis\"},{\"id\":\"88c84649-d173-4b5d-ae14-e0fa318b3bf4\",\"type\":\"Grid\"},{\"id\":\"ec99dabc-2827-49bc-82fc-69c42dd1f59a\",\"type\":\"LinearAxis\"},{\"id\":\"1bfd2a6b-c16c-4101-9bbd-09ae321bcb84\",\"type\":\"Grid\"},{\"id\":\"c2c1ef52-b108-4eb8-98ea-e76ff8c06b9f\",\"type\":\"BoxAnnotation\"},{\"id\":\"38908728-98b4-49e6-b5c8-be5d233a9e42\",\"type\":\"GlyphRenderer\"},{\"id\":\"14987ffe-28fa-4ed8-b6e3-3ad2aa2bc947\",\"type\":\"Legend\"},{\"id\":\"85af8437-6869-4329-ab74-a9d47d9cee3f\",\"type\":\"GlyphRenderer\"},{\"id\":\"690873f9-8acd-472f-ada5-ec770c4f4a56\",\"type\":\"GlyphRenderer\"},{\"id\":\"c5953032-d2ef-4c05-810c-0fc30382c29c\",\"type\":\"GlyphRenderer\"},{\"id\":\"25288f46-f7c6-4a55-a4cf-9ed02128ab9b\",\"type\":\"GlyphRenderer\"}],\"title\":{\"id\":\"248b38dd-9e8e-4ee3-bd14-585e60537fac\",\"type\":\"Title\"},\"tool_events\":{\"id\":\"ba0cdf05-e8fd-4cf0-8474-ff6359882883\",\"type\":\"ToolEvents\"},\"toolbar\":{\"id\":\"f8411a3a-64a7-4d99-acb7-99f8cc7ab0a7\",\"type\":\"Toolbar\"},\"x_range\":{\"id\":\"45f6b392-7ed7-42c0-9b08-9e690ffeffe4\",\"type\":\"Range1d\"},\"y_range\":{\"id\":\"45f6b392-7ed7-42c0-9b08-9e690ffeffe4\",\"type\":\"Range1d\"}},\"id\":\"65be3d3b-1909-4fb4-8b1a-a428de28d757\",\"subtype\":\"Figure\",\"type\":\"Plot\"},{\"attributes\":{},\"id\":\"36dea971-e792-4ad1-9ba5-59f6b4c6813e\",\"type\":\"BasicTickFormatter\"},{\"attributes\":{\"callback\":null,\"column_names\":[\"x\",\"y\"],\"data\":{\"x\":[0,1],\"y\":[0,1]}},\"id\":\"b37ca1c9-6aac-4c63-adfc-50332d7217f2\",\"type\":\"ColumnDataSource\"},{\"attributes\":{\"callback\":null,\"column_names\":[\"y\",\"x\"],\"data\":{\"x\":{\"__ndarray__\":\"AAAAAAAA8D9HWO5phOXuP0dY7mmE5e4/R1juaYTl7j9HWO5phOXuP0dY7mmE5e4/R1juaYTl7j9HWO5phOXuP0dY7mmE5e4/R1juaYTl7j9HWO5phOXuP0dY7mmE5e4/R1juaYTl7j9HWO5phOXuP0dY7mmE5e4/R1juaYTl7j9HWO5phOXuP0dY7mmE5e4/R1juaYTl7j9HWO5phOXuP0dY7mmE5e4/R1juaYTl7j9HWO5phOXuP0dY7mmE5e4/R1juaYTl7j9HWO5phOXuP0dY7mmE5e4/R1juaYTl7j+NsNzTCMvtP42w3NMIy+0/jbDc0wjL7T+NsNzTCMvtP42w3NMIy+0/jbDc0wjL7T+NsNzTCMvtP42w3NMIy+0/jbDc0wjL7T+NsNzTCMvtP42w3NMIy+0/jbDc0wjL7T+NsNzTCMvtP42w3NMIy+0/jbDc0wjL7T+NsNzTCMvtP42w3NMIy+0/jbDc0wjL7T+NsNzTCMvtP42w3NMIy+0/jbDc0wjL7T+NsNzTCMvtP42w3NMIy+0/1AjLPY2w7D/UCMs9jbDsP9QIyz2NsOw/1AjLPY2w7D/UCMs9jbDsP9QIyz2NsOw/1AjLPY2w7D8aYbmnEZbrPxphuacRlus/GmG5pxGW6z8aYbmnEZbrPxphuacRlus/GmG5pxGW6z9huacRlnvqP2G5pxGWe+o/YbmnEZZ76j9huacRlnvqP2G5pxGWe+o/YbmnEZZ76j9huacRlnvqP2G5pxGWe+o/YbmnEZZ76j9huacRlnvqP6gRlnsaYek/7mmE5Z5G6D/uaYTlnkboP+5phOWeRug/7mmE5Z5G6D/uaYTlnkboP+5phOWeRug/7mmE5Z5G6D/uaYTlnkboPzXCck8jLOc/fBphuacR5j98GmG5pxHmP3waYbmnEeY/fBphuacR5j98GmG5pxHmP3waYbmnEeY/fBphuacR5j/Cck8jLPfkP8JyTyMs9+Q/wnJPIyz35D/Cck8jLPfkP8JyTyMs9+Q/wnJPIyz35D/Cck8jLPfkP8JyTyMs9+Q/Ccs9jbDc4z8Jyz2NsNzjPwnLPY2w3OM/Ccs9jbDc4z8Jyz2NsNzjPwnLPY2w3OM/Ccs9jbDc4z8Jyz2NsNzjPwnLPY2w3OM/Ccs9jbDc4z8Jyz2NsNzjP08jLPc0wuI/TyMs9zTC4j9PIyz3NMLiP08jLPc0wuI/TyMs9zTC4j9PIyz3NMLiP08jLPc0wuI/TyMs9zTC4j+WexphuafhP5Z7GmG5p+E/3dMIyz2N4D/d0wjLPY3gP0dY7mmE5d4/1AjLPY2w3D9huacRlnvaP+5phOWeRtg/7mmE5Z5G2D/uaYTlnkbYP+5phOWeRtg/7mmE5Z5G2D/uaYTlnkbYP3waYbmnEdY/Ccs9jbDc0z8Jyz2NsNzTP5Z7GmG5p9E/R1juaYTlzj9huacRlnvKP2G5pxGWe8o/fBphuacRxj+WexphuafBP2G5pxGWe7o/lnsaYbmnsT+WexphuaehP5Z7GmG5p6E/AAAAAAAAAAA=\",\"dtype\":\"float64\",\"shape\":[145]},\"y\":{\"__ndarray__\":\"LOGo/j5vwz9MriAmVxDDPyoTtkFwKsM/RRNNNNFEwz/4NSEoe1/DP5Q+6ZM+6cM/ztDafbgFxD/lAl5voz/EPyvPxMd9t8Q/NmVNWVPWxD8VFRUVFRXFPwJnXIsENcU/uRWKW6G4xT/kxZbg2/zFP2QhC1nIQsY/ZmZmZmZmxj9eLW7C/K7GP6EBS3r508Y/l2/5lm/5xj8YhmEYhmHIP9J5iyGdt8g/OY7jOI7jyD9fBbOkHBDJP6kn47dLPck/ZuiA3R5ryT9aWlpaWlrKPyP6gOrYW8s/HLmRG7mRyz+zpqwpa8rKPwAAAAAAAMs/zmaz2Ww2yz/btm3btm3LP9nO91Pjpcs/GZyPwfkYzD+e2Imd2InNP1tY6amFlc4/t23btm3bzj8q8lk3mCLPP2vfsPYNa88/TvvJEti0zz8AAAAAAADQPyFWlMZHJtA/463sc0hN0D/ZiZ3YiZ3QP5ruYL/VxtA/8fDw8PDw0D/sZ4uV4RvRP3TRRRdddNE/aKwPjfWh0T9SgS+uftDRPwgj7ViBMNI/R31no76z0T/kkUceeeTRPyELWchCFtI/kiRJkiRJ0j/SJ33SJ33SPytZyUpWstI/6aKLLrro0j+8QCbFC2TSP6esKWvKmtI/09LS0tLS0j/DMAzDMAzTP11WDJTwRtM/g/MxOB+D0z9oL6G9hPbSPzMzMzMzM9M/4ybM72px0z8UO7ETO7HTP87KT4iz8tM/XkN5DeU11D97FK5H4XrUPxxMkc+6wdQ/qFChQoUK1T9VVVVVVVXVP3CXejJ+u9Q/1EEd1EEd1D9GiZ9R4mfUP7W0tLS0tNQ/F341JtID1T9VVVVVVVXVP5ZaqZVaqdU/AAAAAAAA1j+WZVmWZVnWP6211lprrdU/yRCso8371D9VVVVVVVXVP9BwUvflsdU/fBphuacR1j9MZzGdxXTWP7dt27Zt29Y/RhdddNFF1z9MaC+hvYTWP2WfQ2qC8dY/J3ZiJ3Zi1z/Y19fX19fXP1K4HoXrUdg/NNaHxvrQ2D9VVVVVVVXZP2ejvrNR39k/kYUsZCEL2T+amZmZmZnZPy+66KKLLto/s6asKWvK2j/btm3btm3bPxmcj8H5GNw/zczMzMzM3D+e2Imd2IndPw3lNZTXUN4/KvJZN5gi3z8AAAAAAADgP1/xFV/xFd8/AAAAAAAA4D988MEHH3zgPwAAAAAAAOE/jDHGGGOM4T8iIiIiIiLiP08jLPc0wuI/27Zt27Zt4z9oL6G9hPbiPxQ7sRM7seM/MzMzMzMz4z8AAAAAAADkPzi96U1veuM/6aKLLrro4j+SJEmSJEniP5qZmZmZmeE/bCivobyG4j/kOI7jOI7jP7W0tLS0tOQ/AAAAAAAA5j93d3d3d3fnP7dt27Zt2+Y/dmIndmIn5j8vuuiiiy7qP5qZmZmZmek/OY7jOI7j6D8AAAAAAADoP9u2bdu2bes/q6qqqqqq6j+amZmZmZnpPwAAAAAAAOg/VVVVVVVV5T8AAAAAAADgPwAAAAAAAPA/AAAAAAAA8D8=\",\"dtype\":\"float64\",\"shape\":[145]}}},\"id\":\"58424381-8120-4f88-9ee9-50fdfc2363c5\",\"type\":\"ColumnDataSource\"},{\"attributes\":{\"plot\":{\"id\":\"65be3d3b-1909-4fb4-8b1a-a428de28d757\",\"subtype\":\"Figure\",\"type\":\"Plot\"}},\"id\":\"f261fd6e-ec63-4f45-9cea-f3a110794124\",\"type\":\"HelpTool\"},{\"attributes\":{\"below\":[{\"id\":\"0432e7b4-a8f1-4a89-8827-74989c9e2335\",\"type\":\"LinearAxis\"}],\"left\":[{\"id\":\"93aee3bf-1531-4c8b-8913-982aa18bbb06\",\"type\":\"LinearAxis\"}],\"plot_height\":400,\"plot_width\":400,\"renderers\":[{\"id\":\"0432e7b4-a8f1-4a89-8827-74989c9e2335\",\"type\":\"LinearAxis\"},{\"id\":\"ff12033c-a542-4c23-8603-bd73405ffbb8\",\"type\":\"Grid\"},{\"id\":\"93aee3bf-1531-4c8b-8913-982aa18bbb06\",\"type\":\"LinearAxis\"},{\"id\":\"34b28df7-40e8-49f4-b131-06c369c0d84a\",\"type\":\"Grid\"},{\"id\":\"5561f1a8-47c7-471f-9968-159eab859b35\",\"type\":\"BoxAnnotation\"},{\"id\":\"66aecdd8-fe05-4248-a4e0-189248f5a219\",\"type\":\"GlyphRenderer\"},{\"id\":\"a9b2727b-3058-4668-86ea-b2dcbb74e403\",\"type\":\"Legend\"},{\"id\":\"069c12a7-085c-434a-9bb4-437834105810\",\"type\":\"GlyphRenderer\"},{\"id\":\"1b6b3462-4ec5-4f6d-bcc8-28323a494485\",\"type\":\"GlyphRenderer\"},{\"id\":\"e7bb4d9c-d5e3-44e2-ae68-e39e27e5e785\",\"type\":\"GlyphRenderer\"}],\"title\":{\"id\":\"1e62c3a8-95ce-4042-83ec-94e6d29daef4\",\"type\":\"Title\"},\"tool_events\":{\"id\":\"67969d4a-9966-4874-8eee-142a70d0508d\",\"type\":\"ToolEvents\"},\"toolbar\":{\"id\":\"76e82c28-249e-4cc9-bbe8-312d75394d23\",\"type\":\"Toolbar\"},\"x_range\":{\"id\":\"32ef2a4e-4ca1-443d-bed6-e025395d0200\",\"type\":\"DataRange1d\"},\"y_range\":{\"id\":\"4e76a7bc-eca2-4f40-ba51-a89466105fef\",\"type\":\"DataRange1d\"}},\"id\":\"c9c6208d-03e6-4fcd-96d4-41f65d2c773a\",\"subtype\":\"Figure\",\"type\":\"Plot\"},{\"attributes\":{\"label\":{\"value\":\"roc\"},\"renderers\":[{\"id\":\"85af8437-6869-4329-ab74-a9d47d9cee3f\",\"type\":\"GlyphRenderer\"}]},\"id\":\"a9171115-7afa-4d7c-8bf6-8c53f54fe336\",\"type\":\"LegendItem\"},{\"attributes\":{\"plot\":{\"id\":\"c9c6208d-03e6-4fcd-96d4-41f65d2c773a\",\"subtype\":\"Figure\",\"type\":\"Plot\"}},\"id\":\"005c7527-20a7-40a9-a05c-76ce32b5ffed\",\"type\":\"PanTool\"},{\"attributes\":{\"plot\":{\"id\":\"65be3d3b-1909-4fb4-8b1a-a428de28d757\",\"subtype\":\"Figure\",\"type\":\"Plot\"},\"ticker\":{\"id\":\"14943313-c4df-4db9-896b-51aa0ffa1158\",\"type\":\"BasicTicker\"}},\"id\":\"88c84649-d173-4b5d-ae14-e0fa318b3bf4\",\"type\":\"Grid\"},{\"attributes\":{\"data_source\":{\"id\":\"f8cf9871-7333-4b04-b25b-0efabd80a35c\",\"type\":\"ColumnDataSource\"},\"glyph\":{\"id\":\"1b054608-ed4b-4bc5-978d-18af28ffa551\",\"type\":\"Circle\"},\"hover_glyph\":null,\"nonselection_glyph\":{\"id\":\"cf45053b-0476-4ccd-8f97-afb2eb7043d8\",\"type\":\"Circle\"},\"selection_glyph\":null},\"id\":\"1b6b3462-4ec5-4f6d-bcc8-28323a494485\",\"type\":\"GlyphRenderer\"},{\"attributes\":{\"line_color\":{\"value\":\"red\"},\"x\":{\"field\":\"x\"},\"y\":{\"field\":\"y\"}},\"id\":\"f92540a6-067d-429f-9ffa-9c999e3e5cad\",\"type\":\"Line\"},{\"attributes\":{\"label\":{\"value\":\"roc on train\"},\"renderers\":[{\"id\":\"c5953032-d2ef-4c05-810c-0fc30382c29c\",\"type\":\"GlyphRenderer\"}]},\"id\":\"1ab24612-6e36-4383-9fb3-17cb3524abca\",\"type\":\"LegendItem\"},{\"attributes\":{\"line_alpha\":{\"value\":0.1},\"line_color\":{\"value\":\"#1f77b4\"},\"x\":{\"field\":\"x\"},\"y\":{\"field\":\"y\"}},\"id\":\"64301916-c396-445c-afb5-fca284eb8a77\",\"type\":\"Line\"},{\"attributes\":{\"overlay\":{\"id\":\"c2c1ef52-b108-4eb8-98ea-e76ff8c06b9f\",\"type\":\"BoxAnnotation\"},\"plot\":{\"id\":\"65be3d3b-1909-4fb4-8b1a-a428de28d757\",\"subtype\":\"Figure\",\"type\":\"Plot\"}},\"id\":\"1e9ad8ce-83aa-41d5-87d8-a14b223cc7fd\",\"type\":\"BoxZoomTool\"},{\"attributes\":{\"plot\":{\"id\":\"65be3d3b-1909-4fb4-8b1a-a428de28d757\",\"subtype\":\"Figure\",\"type\":\"Plot\"}},\"id\":\"c7482e03-c702-45dc-8f30-9d06350be576\",\"type\":\"PanTool\"},{\"attributes\":{\"line_alpha\":{\"value\":0.1},\"line_color\":{\"value\":\"#1f77b4\"},\"x\":{\"field\":\"x\"},\"y\":{\"field\":\"y\"}},\"id\":\"8db8290c-ed3d-4f68-a14a-19f67acaeefc\",\"type\":\"Line\"},{\"attributes\":{\"label\":{\"value\":\"PR\"},\"renderers\":[{\"id\":\"069c12a7-085c-434a-9bb4-437834105810\",\"type\":\"GlyphRenderer\"}]},\"id\":\"98c7fe35-1db5-4f7d-b022-8491ecfa02b7\",\"type\":\"LegendItem\"},{\"attributes\":{\"fill_alpha\":{\"value\":0.1},\"fill_color\":{\"value\":\"#1f77b4\"},\"line_alpha\":{\"value\":0.1},\"line_color\":{\"value\":\"#1f77b4\"},\"size\":{\"units\":\"screen\",\"value\":5},\"x\":{\"field\":\"x\"},\"y\":{\"field\":\"y\"}},\"id\":\"ddc3ca7a-a244-4117-a9c8-83d52c4836cb\",\"type\":\"Cross\"},{\"attributes\":{\"callback\":null},\"id\":\"45f6b392-7ed7-42c0-9b08-9e690ffeffe4\",\"type\":\"Range1d\"},{\"attributes\":{\"dimension\":1,\"plot\":{\"id\":\"65be3d3b-1909-4fb4-8b1a-a428de28d757\",\"subtype\":\"Figure\",\"type\":\"Plot\"},\"ticker\":{\"id\":\"1820a6ed-3cfb-45a8-9cf3-370483b53e3d\",\"type\":\"BasicTicker\"}},\"id\":\"1bfd2a6b-c16c-4101-9bbd-09ae321bcb84\",\"type\":\"Grid\"},{\"attributes\":{\"line_color\":{\"value\":\"#1f77b4\"},\"x\":{\"field\":\"x\"},\"y\":{\"field\":\"y\"}},\"id\":\"6b64fc16-67cf-40f4-9992-f946231dc50b\",\"type\":\"Line\"},{\"attributes\":{\"plot\":{\"id\":\"65be3d3b-1909-4fb4-8b1a-a428de28d757\",\"subtype\":\"Figure\",\"type\":\"Plot\"}},\"id\":\"b7b05b9c-fd62-49d5-ba70-f8d5f54f1bae\",\"type\":\"SaveTool\"},{\"attributes\":{\"callback\":null},\"id\":\"32ef2a4e-4ca1-443d-bed6-e025395d0200\",\"type\":\"DataRange1d\"},{\"attributes\":{\"plot\":{\"id\":\"65be3d3b-1909-4fb4-8b1a-a428de28d757\",\"subtype\":\"Figure\",\"type\":\"Plot\"}},\"id\":\"54bc3646-080c-47c3-a145-996f5e0b1d45\",\"type\":\"WheelZoomTool\"},{\"attributes\":{\"plot\":{\"id\":\"65be3d3b-1909-4fb4-8b1a-a428de28d757\",\"subtype\":\"Figure\",\"type\":\"Plot\"}},\"id\":\"e36862fe-d1ab-4676-9ca6-cad728dfe4c8\",\"type\":\"ResetTool\"},{\"attributes\":{\"data_source\":{\"id\":\"9ce47b0a-af6b-44e9-95ac-7740022341a2\",\"type\":\"ColumnDataSource\"},\"glyph\":{\"id\":\"7a5d5afb-0017-48f1-827a-a4dd7fe0a86d\",\"type\":\"Line\"},\"hover_glyph\":null,\"nonselection_glyph\":{\"id\":\"3741ec69-3fc0-4edd-b75e-04595a8188af\",\"type\":\"Line\"},\"selection_glyph\":null},\"id\":\"85af8437-6869-4329-ab74-a9d47d9cee3f\",\"type\":\"GlyphRenderer\"},{\"attributes\":{\"plot\":{\"id\":\"c9c6208d-03e6-4fcd-96d4-41f65d2c773a\",\"subtype\":\"Figure\",\"type\":\"Plot\"},\"ticker\":{\"id\":\"f7b301d9-2310-47f9-993c-b4fd6da4877d\",\"type\":\"BasicTicker\"}},\"id\":\"ff12033c-a542-4c23-8603-bd73405ffbb8\",\"type\":\"Grid\"},{\"attributes\":{\"data_source\":{\"id\":\"b348f88b-06f3-4305-a1c3-745f152bd9fe\",\"type\":\"ColumnDataSource\"},\"glyph\":{\"id\":\"eee55dc3-cbc5-496d-bbfb-efac2eb849f4\",\"type\":\"Cross\"},\"hover_glyph\":null,\"nonselection_glyph\":{\"id\":\"ddc3ca7a-a244-4117-a9c8-83d52c4836cb\",\"type\":\"Cross\"},\"selection_glyph\":null},\"id\":\"38908728-98b4-49e6-b5c8-be5d233a9e42\",\"type\":\"GlyphRenderer\"},{\"attributes\":{\"line_color\":{\"value\":\"grey\"},\"x\":{\"field\":\"x\"},\"y\":{\"field\":\"y\"}},\"id\":\"9c961d2f-3256-43d2-a8a3-348ad797928f\",\"type\":\"Line\"},{\"attributes\":{\"plot\":null,\"text\":\"PR curve\"},\"id\":\"1e62c3a8-95ce-4042-83ec-94e6d29daef4\",\"type\":\"Title\"},{\"attributes\":{},\"id\":\"67969d4a-9966-4874-8eee-142a70d0508d\",\"type\":\"ToolEvents\"},{\"attributes\":{\"bottom_units\":\"screen\",\"fill_alpha\":{\"value\":0.5},\"fill_color\":{\"value\":\"lightgrey\"},\"left_units\":\"screen\",\"level\":\"overlay\",\"line_alpha\":{\"value\":1.0},\"line_color\":{\"value\":\"black\"},\"line_dash\":[4,4],\"line_width\":{\"value\":2},\"plot\":null,\"render_mode\":\"css\",\"right_units\":\"screen\",\"top_units\":\"screen\"},\"id\":\"5561f1a8-47c7-471f-9968-159eab859b35\",\"type\":\"BoxAnnotation\"},{\"attributes\":{\"line_color\":{\"value\":\"red\"},\"x\":{\"field\":\"x\"},\"y\":{\"field\":\"y\"}},\"id\":\"ce68c579-196e-489c-8308-8e7c9eeabfc7\",\"type\":\"Line\"},{\"attributes\":{},\"id\":\"14943313-c4df-4db9-896b-51aa0ffa1158\",\"type\":\"BasicTicker\"},{\"attributes\":{\"axis_label\":\"precision\",\"formatter\":{\"id\":\"92c35938-cf42-43ca-a248-47ec8f462f89\",\"type\":\"BasicTickFormatter\"},\"plot\":{\"id\":\"c9c6208d-03e6-4fcd-96d4-41f65d2c773a\",\"subtype\":\"Figure\",\"type\":\"Plot\"},\"ticker\":{\"id\":\"c544f58f-0731-4218-8152-6ea05275e4c4\",\"type\":\"BasicTicker\"}},\"id\":\"93aee3bf-1531-4c8b-8913-982aa18bbb06\",\"type\":\"LinearAxis\"},{\"attributes\":{\"data_source\":{\"id\":\"bbf7cc17-f139-419e-892d-9c26c61aa9f4\",\"type\":\"ColumnDataSource\"},\"glyph\":{\"id\":\"41c16e31-aed1-47c0-885d-a14122d344fd\",\"type\":\"Circle\"},\"hover_glyph\":null,\"nonselection_glyph\":{\"id\":\"99c6d674-e295-4e10-876a-3c28927f4d4f\",\"type\":\"Circle\"},\"selection_glyph\":null},\"id\":\"690873f9-8acd-472f-ada5-ec770c4f4a56\",\"type\":\"GlyphRenderer\"},{\"attributes\":{},\"id\":\"92a3c27c-133b-403b-bd22-c369cb206e3f\",\"type\":\"BasicTickFormatter\"},{\"attributes\":{\"items\":[{\"id\":\"98c7fe35-1db5-4f7d-b022-8491ecfa02b7\",\"type\":\"LegendItem\"},{\"id\":\"89aa4a09-0b79-445a-bd5e-dfe98651f6d9\",\"type\":\"LegendItem\"}],\"plot\":{\"id\":\"c9c6208d-03e6-4fcd-96d4-41f65d2c773a\",\"subtype\":\"Figure\",\"type\":\"Plot\"}},\"id\":\"a9b2727b-3058-4668-86ea-b2dcbb74e403\",\"type\":\"Legend\"},{\"attributes\":{},\"id\":\"1820a6ed-3cfb-45a8-9cf3-370483b53e3d\",\"type\":\"BasicTicker\"},{\"attributes\":{\"fill_alpha\":{\"value\":0.1},\"fill_color\":{\"value\":\"#1f77b4\"},\"line_alpha\":{\"value\":0.1},\"line_color\":{\"value\":\"#1f77b4\"},\"size\":{\"units\":\"screen\",\"value\":5},\"x\":{\"field\":\"x\"},\"y\":{\"field\":\"y\"}},\"id\":\"168690fc-e2b2-4eab-b7ba-4e28d6ccf108\",\"type\":\"Cross\"},{\"attributes\":{\"callback\":null,\"column_names\":[\"y\",\"x\"],\"data\":{\"x\":{\"__ndarray__\":\"AAAAAAAA8D/btm3btm3vP9u2bdu2be8/27Zt27Zt7z/btm3btm3vP9u2bdu2be8/27Zt27Zt7z/btm3btm3vP9u2bdu2be8/27Zt27Zt7z/btm3btm3vP9u2bdu2be8/27Zt27Zt7z/btm3btm3vP7dt27Zt2+4/kiRJkiRJ7j9u27Zt27btP0mSJEmSJO0/SZIkSZIk7T8lSZIkSZLsPyVJkiRJkuw/JUmSJEmS7D8lSZIkSZLsPwAAAAAAAOw/AAAAAAAA7D8AAAAAAADsP9u2bdu2bes/t23btm3b6j+SJEmSJEnqP27btm3btuk/SZIkSZIk6T8lSZIkSZLoPwAAAAAAAOg/27Zt27Zt5z+3bdu2bdvmP5IkSZIkSeY/btu2bdu25T9JkiRJkiTlPyVJkiRJkuQ/AAAAAAAA5D/btm3btm3jP7dt27Zt2+I/kiRJkiRJ4j9u27Zt27bhP0mSJEmSJOE/JUmSJEmS4D8AAAAAAADgP7dt27Zt294/btu2bdu23T8lSZIkSZLcP9u2bdu2bds/kiRJkiRJ2j9JkiRJkiTZPwAAAAAAANg/t23btm3b1j9u27Zt27bVPyVJkiRJktQ/27Zt27Zt0z+SJEmSJEnSP0mSJEmSJNE/AAAAAAAA0D9u27Zt27bNP9u2bdu2bcs/SZIkSZIkyT+3bdu2bdvGPyVJkiRJksQ/kiRJkiRJwj8AAAAAAADAP9u2bdu2bbs/t23btm3btj+SJEmSJEmyP9u2bdu2bas/kiRJkiRJoj+SJEmSJEmSPwAAAAAAAAAA\",\"dtype\":\"float64\",\"shape\":[75]},\"y\":{\"__ndarray__\":\"doMp8lk36D/BgQMHDhzoPxzHcRzHceg/PRm/XerJ6D9JkiRJkiTpP5hrB+bagek/4uHh4eHh6T+d3cKvxkTqP6uqqqqqquo/O7ETO7ET6z8AAAAAAIDrP/y+7/u+7+s/Y4wxxhhj7D8VlwzBOtrsP83MzMzMzOw/rggaTuq+7D/UCMs9jbDsPxvKayivoew/SZIkSZIk7T8XXXTRRRftPxPaS2gvoe0/ruxzSE0w7j9P7MRO7MTuP7++vr6+vu4/XI/C9Shc7z8AAAAAAADwPwAAAAAAAPA/AAAAAAAA8D8AAAAAAADwPwAAAAAAAPA/AAAAAAAA8D8AAAAAAADwPwAAAAAAAPA/AAAAAAAA8D8AAAAAAADwPwAAAAAAAPA/AAAAAAAA8D8AAAAAAADwPwAAAAAAAPA/AAAAAAAA8D8AAAAAAADwPwAAAAAAAPA/AAAAAAAA8D8AAAAAAADwPwAAAAAAAPA/AAAAAAAA8D8AAAAAAADwPwAAAAAAAPA/AAAAAAAA8D8AAAAAAADwPwAAAAAAAPA/AAAAAAAA8D8AAAAAAADwPwAAAAAAAPA/AAAAAAAA8D8AAAAAAADwPwAAAAAAAPA/AAAAAAAA8D8AAAAAAADwPwAAAAAAAPA/AAAAAAAA8D8AAAAAAADwPwAAAAAAAPA/AAAAAAAA8D8AAAAAAADwPwAAAAAAAPA/AAAAAAAA8D8AAAAAAADwPwAAAAAAAPA/AAAAAAAA8D8AAAAAAADwPwAAAAAAAPA/AAAAAAAA8D8AAAAAAADwPwAAAAAAAPA/\",\"dtype\":\"float64\",\"shape\":[75]}}},\"id\":\"f8cf9871-7333-4b04-b25b-0efabd80a35c\",\"type\":\"ColumnDataSource\"},{\"attributes\":{\"plot\":{\"id\":\"c9c6208d-03e6-4fcd-96d4-41f65d2c773a\",\"subtype\":\"Figure\",\"type\":\"Plot\"}},\"id\":\"14719ae8-6ee7-4a0d-b437-ba0ca81a2459\",\"type\":\"SaveTool\"},{\"attributes\":{\"callback\":null,\"column_names\":[\"y\",\"x\"],\"data\":{\"x\":{\"__ndarray__\":\"AAAAAAAAAAAAAAAAAAAAAADhAXz4D24/AOEBfPgPbj+gLIFN+8mCP6AsgU37yYI/wGgBXfqLhj/AaAFd+ouGP5AOwcX76KA/kA7BxfvooD+gLIFN+8nCP+Y3aSBbfsM/sEpB1fqqxD80UjG3OiPFP/5kCWzaT8Y/gmz5TRrIxj9Mf9ECuvTHP5KKudUZqcg/6LNhMHk+yz9su1ESubbLP3zZEZq4l80/AOEBfPgPzj8I8OE/eADPP2kBXfqLFtA/SgPZ8ps00D8MB9Hju3DQPxQWsac7YdE/mB2hiXvZ0T95Hx2Ci/fRPzsjFXOrM9I/QzL1Nisk0z/HOeUYa5zTP4k93QmL2NM/aj9ZApv20z+RTL3NCsnUP3JOOcYa59Q/11eloGp91T+ZW52RirnVP4Js+U0ayNY/yHfhIHp81z9Mf9ECuvTXP1SOscY55dg/2JWhqHld2T+5lx2hiXvZP3ubFZKpt9k/HqGJe9kR2j/Bpv1kCWzaP6KoeV0Zito/Ra7tRknk2j8msGk/WQLbP+izYTB5Pts/i7nVGamY2z9VzK3OSMXcPzbOKcdY49w/m9eVoah53T8+3QmL2NPdPx/fhYPo8d0/ZeptVkim3j/p8V04iB7fP4z30SG4eN8/TvvJEti03z8rBVXrq1LgPxsGk+ezYeA/vgsH0eO74D+QDsHF++jgP3EQPb4LB+E/UhK5thsl4T/GGueUY6zhP6ccY41zyuE/aSBbfpMG4j9KItd2oyTiPzsjFXOrM+I/vyoFVeur4j+gLIFN+8niPyQ0cS87QuM/S0HV+qoU5D8sQ1HzujLkPxxEj+/CQeQ/3keH4OJ95D/PSMXc6ozkP0NR87oyFOU/NFIxtzoj5T/HWOOccozlP4lc242SyOU/al5XhqLm5T88YRF7uhPmPyxiT3fCIuY/7mVHaOJe5j/AaAFd+ovmP7BpP1kCm+Y/FXOrM1Ix5z8GdOkvWkDnPzyAD//BA+g/gov30SG46D9UjrHGOeXoP7mXHaGJe+k/76NDcPE+6j/gpIFs+U3qP7GnO2ERe+o/2LSfLIFN6z+5thslkWvrP6q3WSGZeus/XLyPDsHF6z/wwkH0+C7sP+DDf/AAPuw/wcX76BBc7D+yxjnlGGvsP6rWV6Wgau0/i9jTnbCI7T9s2k+WwKbtP13bjZLIte0/H9+Fg+jx7T8v/UUL6NLvPxD/wQP48O8/AAAAAAAA8D8=\",\"dtype\":\"float64\",\"shape\":[115]},\"y\":{\"__ndarray__\":\"kiRJkiRJkj8AAAAAAADsPwAAAAAAAOw/JUmSJEmS7D8lSZIkSZLsP0mSJEmSJO0/SZIkSZIk7T/btm3btm3vP9u2bdu2be8/AAAAAAAA8D8AAAAAAADwPwAAAAAAAPA/AAAAAAAA8D8AAAAAAADwPwAAAAAAAPA/AAAAAAAA8D8AAAAAAADwPwAAAAAAAPA/AAAAAAAA8D8AAAAAAADwPwAAAAAAAPA/AAAAAAAA8D8AAAAAAADwPwAAAAAAAPA/AAAAAAAA8D8AAAAAAADwPwAAAAAAAPA/AAAAAAAA8D8AAAAAAADwPwAAAAAAAPA/AAAAAAAA8D8AAAAAAADwPwAAAAAAAPA/AAAAAAAA8D8AAAAAAADwPwAAAAAAAPA/AAAAAAAA8D8AAAAAAADwPwAAAAAAAPA/AAAAAAAA8D8AAAAAAADwPwAAAAAAAPA/AAAAAAAA8D8AAAAAAADwPwAAAAAAAPA/AAAAAAAA8D8AAAAAAADwPwAAAAAAAPA/AAAAAAAA8D8AAAAAAADwPwAAAAAAAPA/AAAAAAAA8D8AAAAAAADwPwAAAAAAAPA/AAAAAAAA8D8AAAAAAADwPwAAAAAAAPA/AAAAAAAA8D8AAAAAAADwPwAAAAAAAPA/AAAAAAAA8D8AAAAAAADwPwAAAAAAAPA/AAAAAAAA8D8AAAAAAADwPwAAAAAAAPA/AAAAAAAA8D8AAAAAAADwPwAAAAAAAPA/AAAAAAAA8D8AAAAAAADwPwAAAAAAAPA/AAAAAAAA8D8AAAAAAADwPwAAAAAAAPA/AAAAAAAA8D8AAAAAAADwPwAAAAAAAPA/AAAAAAAA8D8AAAAAAADwPwAAAAAAAPA/AAAAAAAA8D8AAAAAAADwPwAAAAAAAPA/AAAAAAAA8D8AAAAAAADwPwAAAAAAAPA/AAAAAAAA8D8AAAAAAADwPwAAAAAAAPA/AAAAAAAA8D8AAAAAAADwPwAAAAAAAPA/AAAAAAAA8D8AAAAAAADwPwAAAAAAAPA/AAAAAAAA8D8AAAAAAADwPwAAAAAAAPA/AAAAAAAA8D8AAAAAAADwPwAAAAAAAPA/AAAAAAAA8D8AAAAAAADwPwAAAAAAAPA/AAAAAAAA8D8AAAAAAADwPwAAAAAAAPA/AAAAAAAA8D8AAAAAAADwPwAAAAAAAPA/AAAAAAAA8D8AAAAAAADwPwAAAAAAAPA/AAAAAAAA8D8=\",\"dtype\":\"float64\",\"shape\":[115]}}},\"id\":\"bbf7cc17-f139-419e-892d-9c26c61aa9f4\",\"type\":\"ColumnDataSource\"},{\"attributes\":{\"fill_alpha\":{\"value\":0.1},\"fill_color\":{\"value\":\"#1f77b4\"},\"line_alpha\":{\"value\":0.1},\"line_color\":{\"value\":\"#1f77b4\"},\"size\":{\"units\":\"screen\",\"value\":5},\"x\":{\"field\":\"x\"},\"y\":{\"field\":\"y\"}},\"id\":\"cf45053b-0476-4ccd-8f97-afb2eb7043d8\",\"type\":\"Circle\"}],\"root_ids\":[\"8a051ea4-9187-4417-bb05-eff5e7dddbe7\"]},\"title\":\"Bokeh Application\",\"version\":\"0.12.4\"}};\n",
       "            var render_items = [{\"docid\":\"7779ab82-3aa1-4bee-b9cb-aa5e918a40ad\",\"elementid\":\"c77f939d-2286-4db9-93cd-98d4ef49b521\",\"modelid\":\"8a051ea4-9187-4417-bb05-eff5e7dddbe7\"}];\n",
       "            \n",
       "            Bokeh.embed.embed_items(docs_json, render_items);\n",
       "          };\n",
       "          if (document.readyState != \"loading\") fn();\n",
       "          else document.addEventListener(\"DOMContentLoaded\", fn);\n",
       "        })();\n",
       "      },\n",
       "      function(Bokeh) {\n",
       "      }\n",
       "    ];\n",
       "  \n",
       "    function run_inline_js() {\n",
       "      \n",
       "      if ((window.Bokeh !== undefined) || (force === true)) {\n",
       "        for (var i = 0; i < inline_js.length; i++) {\n",
       "          inline_js[i](window.Bokeh);\n",
       "        }if (force === true) {\n",
       "          display_loaded();\n",
       "        }} else if (Date.now() < window._bokeh_timeout) {\n",
       "        setTimeout(run_inline_js, 100);\n",
       "      } else if (!window._bokeh_failed_load) {\n",
       "        console.log(\"Bokeh: BokehJS failed to load within specified timeout.\");\n",
       "        window._bokeh_failed_load = true;\n",
       "      } else if (force !== true) {\n",
       "        var cell = $(document.getElementById(\"c77f939d-2286-4db9-93cd-98d4ef49b521\")).parents('.cell').data().cell;\n",
       "        cell.output_area.append_execute_result(NB_LOAD_WARNING)\n",
       "      }\n",
       "  \n",
       "    }\n",
       "  \n",
       "    if (window._bokeh_is_loading === 0) {\n",
       "      console.log(\"Bokeh: BokehJS loaded, going straight to plotting\");\n",
       "      run_inline_js();\n",
       "    } else {\n",
       "      load_libs(js_urls, function() {\n",
       "        console.log(\"Bokeh: BokehJS plotting callback run at\", now());\n",
       "        run_inline_js();\n",
       "      });\n",
       "    }\n",
       "  }(this));\n",
       "</script>"
      ]
     },
     "metadata": {},
     "output_type": "display_data"
    }
   ],
   "source": [
    "from bokeh.models.ranges import Range1d\n",
    "#print \"auc: %.2g, on train: %.2g\" %(roc_auc, roc_auc_train)\n",
    "roc_df = pd.DataFrame({\"fpr\":fpr,\"tpr\":tpr}).set_index(\"fpr\")\n",
    "pr_df = pd.DataFrame({\"precision\": precision, \"recall\":recall}).set_index(\"recall\")\n",
    "roc_df[\"diag\"] = roc_df.index\n",
    "pr_df[\"random\"] = pr_df.precision.iloc[0]\n",
    "\n",
    "# roc curve\n",
    "roc_f = figure(width=400,height=400,title=\"roc, auc: %.2g, on train: %.2g\"  %(roc_auc, roc_auc_train) )\n",
    "roc_f.xaxis.axis_label = \"tpr\"\n",
    "auc_range= Range1d(0,1)\n",
    "roc_f.x_range = auc_range \n",
    "roc_f.y_range = auc_range \n",
    "roc_f.yaxis.axis_label = \"fpr\"\n",
    "roc_f.cross(fpr,tpr,size=5)\n",
    "roc_f.line(fpr,tpr,legend=\"roc\")\n",
    "roc_f.circle(fpr_train,tpr_train,size=5,color=\"red\", line_width=1)\n",
    "roc_f.line(fpr_train,tpr_train,color=\"red\",legend=\"roc on train\")\n",
    "roc_f.line([0,1],[0,1], color=\"grey\")\n",
    "\n",
    "# pr curve\n",
    "pr_f = figure(width=400,height=400,title=\"PR curve\")\n",
    "pr_f.xaxis.axis_label = \"recall\"\n",
    "pr_f.yaxis.axis_label = \"precision\"\n",
    "pr_f.cross(recall,precision,size=5)\n",
    "pr_f.line(recall,precision,legend=\"PR\")\n",
    "pr_f.circle(recall_train,precision_train,size=5,color=\"red\", line_width=1)\n",
    "pr_f.line(recall_train,precision_train,color=\"red\",legend=\"PR on train\")\n",
    "\n",
    "show(row(\n",
    "    pr_f,\n",
    "    roc_f\n",
    "))"
   ]
  },
  {
   "cell_type": "markdown",
   "metadata": {},
   "source": [
    "### Feature Importance"
   ]
  },
  {
   "cell_type": "code",
   "execution_count": 11,
   "metadata": {
    "ExecuteTime": {
     "end_time": "2017-01-26T01:08:45.758115",
     "start_time": "2017-01-26T01:08:45.737227"
    },
    "collapsed": true
   },
   "outputs": [
    {
     "data": {
      "text/html": [
       "<div>\n",
       "<table border=\"1\" class=\"dataframe\">\n",
       "  <thead>\n",
       "    <tr style=\"text-align: right;\">\n",
       "      <th></th>\n",
       "      <th>importance</th>\n",
       "    </tr>\n",
       "  </thead>\n",
       "  <tbody>\n",
       "    <tr>\n",
       "      <th>max_attribute4</th>\n",
       "      <td>0.111504</td>\n",
       "    </tr>\n",
       "    <tr>\n",
       "      <th>max_attribute5</th>\n",
       "      <td>0.103783</td>\n",
       "    </tr>\n",
       "    <tr>\n",
       "      <th>dft_p0_valattribute7</th>\n",
       "      <td>0.062484</td>\n",
       "    </tr>\n",
       "    <tr>\n",
       "      <th>max_attribute2</th>\n",
       "      <td>0.060075</td>\n",
       "    </tr>\n",
       "    <tr>\n",
       "      <th>max_attribute8</th>\n",
       "      <td>0.053328</td>\n",
       "    </tr>\n",
       "    <tr>\n",
       "      <th>max_attribute7</th>\n",
       "      <td>0.051345</td>\n",
       "    </tr>\n",
       "    <tr>\n",
       "      <th>dft_p0_valattribute4</th>\n",
       "      <td>0.048827</td>\n",
       "    </tr>\n",
       "    <tr>\n",
       "      <th>mean_attribute9</th>\n",
       "      <td>0.046718</td>\n",
       "    </tr>\n",
       "    <tr>\n",
       "      <th>mean_attribute7</th>\n",
       "      <td>0.039789</td>\n",
       "    </tr>\n",
       "    <tr>\n",
       "      <th>dft_p0_indattribute4</th>\n",
       "      <td>0.039782</td>\n",
       "    </tr>\n",
       "    <tr>\n",
       "      <th>max_attribute6</th>\n",
       "      <td>0.039444</td>\n",
       "    </tr>\n",
       "    <tr>\n",
       "      <th>mean_dt2_attribute2</th>\n",
       "      <td>0.037939</td>\n",
       "    </tr>\n",
       "    <tr>\n",
       "      <th>max_attribute9</th>\n",
       "      <td>0.035935</td>\n",
       "    </tr>\n",
       "    <tr>\n",
       "      <th>mean_attribute6</th>\n",
       "      <td>0.035741</td>\n",
       "    </tr>\n",
       "    <tr>\n",
       "      <th>dft_p0_indattribute9</th>\n",
       "      <td>0.032395</td>\n",
       "    </tr>\n",
       "    <tr>\n",
       "      <th>mean_dt_attribute2</th>\n",
       "      <td>0.030649</td>\n",
       "    </tr>\n",
       "    <tr>\n",
       "      <th>mean_attribute2</th>\n",
       "      <td>0.028052</td>\n",
       "    </tr>\n",
       "    <tr>\n",
       "      <th>dft_p0_valattribute6</th>\n",
       "      <td>0.024627</td>\n",
       "    </tr>\n",
       "    <tr>\n",
       "      <th>max_dt2_attribute2</th>\n",
       "      <td>0.020886</td>\n",
       "    </tr>\n",
       "    <tr>\n",
       "      <th>dft_p0_indattribute6</th>\n",
       "      <td>0.018570</td>\n",
       "    </tr>\n",
       "    <tr>\n",
       "      <th>mean_attribute4</th>\n",
       "      <td>0.017630</td>\n",
       "    </tr>\n",
       "    <tr>\n",
       "      <th>dft_p0_valattribute9</th>\n",
       "      <td>0.017442</td>\n",
       "    </tr>\n",
       "    <tr>\n",
       "      <th>dft_p0_indattribute7</th>\n",
       "      <td>0.012758</td>\n",
       "    </tr>\n",
       "    <tr>\n",
       "      <th>max_dt_attribute2</th>\n",
       "      <td>0.011510</td>\n",
       "    </tr>\n",
       "    <tr>\n",
       "      <th>mean_attribute8</th>\n",
       "      <td>0.010386</td>\n",
       "    </tr>\n",
       "    <tr>\n",
       "      <th>mean_attribute5</th>\n",
       "      <td>0.008401</td>\n",
       "    </tr>\n",
       "    <tr>\n",
       "      <th>dft_p0_indattribute5</th>\n",
       "      <td>0.000000</td>\n",
       "    </tr>\n",
       "    <tr>\n",
       "      <th>dft_p0_valattribute5</th>\n",
       "      <td>0.000000</td>\n",
       "    </tr>\n",
       "  </tbody>\n",
       "</table>\n",
       "</div>"
      ],
      "text/plain": [
       "                      importance\n",
       "max_attribute4          0.111504\n",
       "max_attribute5          0.103783\n",
       "dft_p0_valattribute7    0.062484\n",
       "max_attribute2          0.060075\n",
       "max_attribute8          0.053328\n",
       "max_attribute7          0.051345\n",
       "dft_p0_valattribute4    0.048827\n",
       "mean_attribute9         0.046718\n",
       "mean_attribute7         0.039789\n",
       "dft_p0_indattribute4    0.039782\n",
       "max_attribute6          0.039444\n",
       "mean_dt2_attribute2     0.037939\n",
       "max_attribute9          0.035935\n",
       "mean_attribute6         0.035741\n",
       "dft_p0_indattribute9    0.032395\n",
       "mean_dt_attribute2      0.030649\n",
       "mean_attribute2         0.028052\n",
       "dft_p0_valattribute6    0.024627\n",
       "max_dt2_attribute2      0.020886\n",
       "dft_p0_indattribute6    0.018570\n",
       "mean_attribute4         0.017630\n",
       "dft_p0_valattribute9    0.017442\n",
       "dft_p0_indattribute7    0.012758\n",
       "max_dt_attribute2       0.011510\n",
       "mean_attribute8         0.010386\n",
       "mean_attribute5         0.008401\n",
       "dft_p0_indattribute5    0.000000\n",
       "dft_p0_valattribute5    0.000000"
      ]
     },
     "execution_count": 11,
     "metadata": {},
     "output_type": "execute_result"
    }
   ],
   "source": [
    "feature_imp = pd.DataFrame({\"importance\":model.feature_importances_}).set_index(feature_set.columns)\n",
    "feature_imp.sort_values(by=\"importance\",ascending=False)"
   ]
  },
  {
   "cell_type": "markdown",
   "metadata": {},
   "source": [
    "### Hyperparameter optimisation\n",
    "\n",
    "\n"
   ]
  },
  {
   "cell_type": "code",
   "execution_count": 12,
   "metadata": {
    "ExecuteTime": {
     "end_time": "2017-01-26T01:08:48.721197",
     "start_time": "2017-01-26T01:08:48.716818"
    },
    "collapsed": false
   },
   "outputs": [],
   "source": [
    "# model : GradientBoostingClassifier, parameters: \n",
    "#loss : {‘deviance’, ‘exponential’},\n",
    "#learning_rate : float, optional (default=0.1)\n",
    "#n_estimators : int (default=100)\n",
    "#max_depth : integer, optional (default=3)\n",
    "#min_samples_split : int, float, optional (default=2)\n",
    "grids=dict()\n",
    "XDB_param_grid = {\n",
    "    #\"model__loss\":  [\"deviance\", 'exponential'],\n",
    "    \"model__learning_rate\" : [1e-3,0.01, 0.1],\n",
    "    \"model__n_estimators\" : [10, 50, 100, 150],\n",
    "    \"model__max_depth\" : [5,10,15],\n",
    "    \"model__min_samples_split\" : [5,10,20]\n",
    "}\n",
    "grids[GradientBoostingClassifier] = XDB_param_grid"
   ]
  },
  {
   "cell_type": "code",
   "execution_count": 13,
   "metadata": {
    "ExecuteTime": {
     "end_time": "2017-01-26T01:08:49.649629",
     "start_time": "2017-01-26T01:08:49.642838"
    },
    "collapsed": true
   },
   "outputs": [],
   "source": [
    "# model : RandomForestClassifier, parameters: \n",
    "# n_estimators : int (default=100)\n",
    "# criterion : \"gini\",\"entropy\"\n",
    "# max_features : auto , fraction\n",
    "# max_depth : integer, optional (default=3)\n",
    "# min_samples_split : int, float, optional (default=2)\n",
    "\n",
    "RF_param_grid = {\n",
    "    #\"model__criterion\":  [\"gini\", \"entropy\"],\n",
    "    \"model__n_estimators\" : [75,100,150,200],\n",
    "    #\"model__max_features\" : [\"auto\",0.5,0.25,0.1],\n",
    "    \"model__max_depth\" : [2,5,10,20],\n",
    "    \"model__min_samples_split\" : [5,10,20]\n",
    "}\n",
    "grids[RandomForestClassifier] = RF_param_grid"
   ]
  },
  {
   "cell_type": "code",
   "execution_count": 14,
   "metadata": {
    "ExecuteTime": {
     "end_time": "2017-01-26T01:08:50.914995",
     "start_time": "2017-01-26T01:08:50.911057"
    },
    "collapsed": true
   },
   "outputs": [],
   "source": [
    "# C :penalty\n",
    "# kernel : ‘linear’, ‘poly’, ‘rbf’, ‘sigmoid’, ‘precomputed’ \n",
    "SVC_param_grid = {\n",
    "   'model__C': [1e-7,1e-6,1e-5,0.1],\n",
    "    \"model__kernel\": [\"rbf\",\"linear\"],\n",
    "    #\"model_degree\" : [1,3,5], # polynomial degrees\n",
    "    \"model__gamma\" : [\"auto\"], # kernel coef (rbf)\n",
    "    #\"coef0\" # for poly, signmoid\n",
    "    \"model__tol\" : [1e-7,1e-6,1e-5, 1e-4,1e-3]\n",
    "}\n",
    "grids[SVC] = SVC_param_grid"
   ]
  },
  {
   "cell_type": "code",
   "execution_count": 15,
   "metadata": {
    "ExecuteTime": {
     "end_time": "2017-01-26T01:09:50.130054",
     "start_time": "2017-01-26T01:08:55.502088"
    },
    "collapsed": false
   },
   "outputs": [
    {
     "name": "stdout",
     "output_type": "stream",
     "text": [
      "Fitting 6 folds for each of 48 candidates, totalling 288 fits\n"
     ]
    },
    {
     "name": "stderr",
     "output_type": "stream",
     "text": [
      "[Parallel(n_jobs=-1)]: Done  34 tasks      | elapsed:    4.6s\n",
      "[Parallel(n_jobs=-1)]: Done 184 tasks      | elapsed:   32.8s\n",
      "[Parallel(n_jobs=-1)]: Done 288 out of 288 | elapsed:   54.1s finished\n"
     ]
    },
    {
     "name": "stdout",
     "output_type": "stream",
     "text": [
      "Best: 0.926659 using {'model__min_samples_split': 5, 'model__max_depth': 10, 'model__n_estimators': 75}\n"
     ]
    }
   ],
   "source": [
    "m  = type(dict(pipeline.steps)[\"model\"])\n",
    "param_grid=grids[m]\n",
    "\n",
    "from sklearn.model_selection import GridSearchCV\n",
    "from sklearn.model_selection import StratifiedKFold\n",
    "\n",
    "kfold = StratifiedKFold(n_splits=6, shuffle=True)\n",
    "grid_search = GridSearchCV(pipeline, param_grid, scoring=\"accuracy\", n_jobs=-1, verbose=1,cv=kfold)\n",
    "grid_result = grid_search.fit(feature_mat,label_mat)\n",
    "\n",
    "\n",
    "# summarize results\n",
    "print(\"Best: %f using %s\" % (grid_result.best_score_, grid_result.best_params_))\n",
    "means = grid_result.cv_results_['mean_test_score']\n",
    "stds = grid_result.cv_results_['std_test_score']\n",
    "params = grid_result.cv_results_['params']\n",
    "#for mean, stdev, param in zip(means, stds, params):\n",
    "#    print(\"%f (%f) with: %r\" % (mean, stdev, param))"
   ]
  },
  {
   "cell_type": "code",
   "execution_count": 20,
   "metadata": {
    "ExecuteTime": {
     "end_time": "2017-01-26T03:22:47.467118",
     "start_time": "2017-01-26T03:19:16.805679"
    },
    "collapsed": false
   },
   "outputs": [
    {
     "name": "stderr",
     "output_type": "stream",
     "text": [
      "Optimization Progress:  33%|███▎      | 20/60 [00:29<00:30,  1.30pipeline/s]ion Progress:   3%|▎         | 2/60 [00:00<00:07,  7.47pipeline/s]          "
     ]
    },
    {
     "name": "stdout",
     "output_type": "stream",
     "text": [
      "Generation 1 - Current best internal CV score: 0.955780798458\n"
     ]
    },
    {
     "name": "stderr",
     "output_type": "stream",
     "text": [
      "Optimization Progress:  65%|██████▌   | 39/60 [01:39<01:12,  3.48s/pipeline]Optimization Progress:  37%|███▋      | 22/60 [00:35<01:06,  1.76s/pipeline]          "
     ]
    },
    {
     "name": "stdout",
     "output_type": "stream",
     "text": [
      "Generation 2 - Current best internal CV score: 0.956938155554\n"
     ]
    },
    {
     "name": "stderr",
     "output_type": "stream",
     "text": [
      "                                                                            Optimization Progress:  70%|███████   | 42/60 [01:51<01:13,  4.08s/pipeline]"
     ]
    },
    {
     "name": "stdout",
     "output_type": "stream",
     "text": [
      "\n",
      "Best pipeline: ExtraTreesClassifier(input_matrix, 17, 0.98999999999999999)\n",
      "1.0\n"
     ]
    }
   ],
   "source": [
    "from tpot import TPOTClassifier\n",
    "pipeline_optimizer = TPOTClassifier(\n",
    "    generations=2,\n",
    "    population_size=20,\n",
    "    #generations=10, # the more generatiion, the more optimized you get\n",
    "    #population_size=200,\n",
    "    num_cv_folds=4,\n",
    "    scoring=\"accuracy\",\n",
    "    random_state=42,\n",
    "    verbosity=2)\n",
    "\n",
    "pipeline_optimizer.fit(feature_mat, label_mat)\n",
    "print pipeline_optimizer.score(feature_mat, label_mat)\n",
    "#pipeline_optimizer.export('tpot_longrun_exported_pipeline.py')"
   ]
  },
  {
   "cell_type": "markdown",
   "metadata": {},
   "source": [
    "## Serialization"
   ]
  },
  {
   "cell_type": "code",
   "execution_count": 19,
   "metadata": {
    "ExecuteTime": {
     "end_time": "2017-01-26T03:17:46.011849",
     "start_time": "2017-01-26T03:17:45.798619"
    },
    "collapsed": false
   },
   "outputs": [],
   "source": [
    "model_name = \"device\"\n",
    "\n",
    "from sklearn.externals import joblib\n",
    "import pickle\n",
    "joblib.dump(pipeline_optimizer._fitted_pipeline, 'model_%s.pkl' % model_name) \n",
    "features = feature_set.columns\n",
    "with open('model_%s.feat' % model_name, \"w+\") as f: \n",
    "    pickle.dump(features,f)"
   ]
  },
  {
   "cell_type": "code",
   "execution_count": null,
   "metadata": {
    "collapsed": true
   },
   "outputs": [],
   "source": []
  }
 ],
 "metadata": {
  "hide_input": false,
  "kernelspec": {
   "display_name": "Python 2",
   "language": "python",
   "name": "python2"
  },
  "language_info": {
   "codemirror_mode": {
    "name": "ipython",
    "version": 2
   },
   "file_extension": ".py",
   "mimetype": "text/x-python",
   "name": "python",
   "nbconvert_exporter": "python",
   "pygments_lexer": "ipython2",
   "version": "2.7.12"
  }
 },
 "nbformat": 4,
 "nbformat_minor": 2
}
