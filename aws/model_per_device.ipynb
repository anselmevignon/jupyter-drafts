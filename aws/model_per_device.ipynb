{
 "cells": [
  {
   "cell_type": "code",
   "execution_count": 1,
   "metadata": {
    "collapsed": true
   },
   "outputs": [],
   "source": [
    "import pandas as pd\n",
    "import numpy as np\n",
    "import calendar\n",
    "\n",
    "from bokeh.charts import output_notebook, Scatter, Bar, show, output_file, Line, BoxPlot, Scatter\n",
    "from bokeh.plotting import figure\n",
    "from bokeh.layouts import row, column, gridplot"
   ]
  },
  {
   "cell_type": "code",
   "execution_count": 2,
   "metadata": {
    "collapsed": false,
    "hide_input": true
   },
   "outputs": [
    {
     "data": {
      "text/html": [
       "\n",
       "    <div class=\"bk-root\">\n",
       "        <a href=\"http://bokeh.pydata.org\" target=\"_blank\" class=\"bk-logo bk-logo-small bk-logo-notebook\"></a>\n",
       "        <span id=\"93d95b86-2e75-4ac9-b271-175f20bb574c\">Loading BokehJS ...</span>\n",
       "    </div>"
      ]
     },
     "metadata": {},
     "output_type": "display_data"
    },
    {
     "data": {
      "application/javascript": [
       "\n",
       "(function(global) {\n",
       "  function now() {\n",
       "    return new Date();\n",
       "  }\n",
       "\n",
       "  var force = true;\n",
       "\n",
       "  if (typeof (window._bokeh_onload_callbacks) === \"undefined\" || force === true) {\n",
       "    window._bokeh_onload_callbacks = [];\n",
       "    window._bokeh_is_loading = undefined;\n",
       "  }\n",
       "\n",
       "\n",
       "  \n",
       "  if (typeof (window._bokeh_timeout) === \"undefined\" || force === true) {\n",
       "    window._bokeh_timeout = Date.now() + 5000;\n",
       "    window._bokeh_failed_load = false;\n",
       "  }\n",
       "\n",
       "  var NB_LOAD_WARNING = {'data': {'text/html':\n",
       "     \"<div style='background-color: #fdd'>\\n\"+\n",
       "     \"<p>\\n\"+\n",
       "     \"BokehJS does not appear to have successfully loaded. If loading BokehJS from CDN, this \\n\"+\n",
       "     \"may be due to a slow or bad network connection. Possible fixes:\\n\"+\n",
       "     \"</p>\\n\"+\n",
       "     \"<ul>\\n\"+\n",
       "     \"<li>re-rerun `output_notebook()` to attempt to load from CDN again, or</li>\\n\"+\n",
       "     \"<li>use INLINE resources instead, as so:</li>\\n\"+\n",
       "     \"</ul>\\n\"+\n",
       "     \"<code>\\n\"+\n",
       "     \"from bokeh.resources import INLINE\\n\"+\n",
       "     \"output_notebook(resources=INLINE)\\n\"+\n",
       "     \"</code>\\n\"+\n",
       "     \"</div>\"}};\n",
       "\n",
       "  function display_loaded() {\n",
       "    if (window.Bokeh !== undefined) {\n",
       "      document.getElementById(\"93d95b86-2e75-4ac9-b271-175f20bb574c\").textContent = \"BokehJS successfully loaded.\";\n",
       "    } else if (Date.now() < window._bokeh_timeout) {\n",
       "      setTimeout(display_loaded, 100)\n",
       "    }\n",
       "  }\n",
       "\n",
       "  function run_callbacks() {\n",
       "    window._bokeh_onload_callbacks.forEach(function(callback) { callback() });\n",
       "    delete window._bokeh_onload_callbacks\n",
       "    console.info(\"Bokeh: all callbacks have finished\");\n",
       "  }\n",
       "\n",
       "  function load_libs(js_urls, callback) {\n",
       "    window._bokeh_onload_callbacks.push(callback);\n",
       "    if (window._bokeh_is_loading > 0) {\n",
       "      console.log(\"Bokeh: BokehJS is being loaded, scheduling callback at\", now());\n",
       "      return null;\n",
       "    }\n",
       "    if (js_urls == null || js_urls.length === 0) {\n",
       "      run_callbacks();\n",
       "      return null;\n",
       "    }\n",
       "    console.log(\"Bokeh: BokehJS not loaded, scheduling load and callback at\", now());\n",
       "    window._bokeh_is_loading = js_urls.length;\n",
       "    for (var i = 0; i < js_urls.length; i++) {\n",
       "      var url = js_urls[i];\n",
       "      var s = document.createElement('script');\n",
       "      s.src = url;\n",
       "      s.async = false;\n",
       "      s.onreadystatechange = s.onload = function() {\n",
       "        window._bokeh_is_loading--;\n",
       "        if (window._bokeh_is_loading === 0) {\n",
       "          console.log(\"Bokeh: all BokehJS libraries loaded\");\n",
       "          run_callbacks()\n",
       "        }\n",
       "      };\n",
       "      s.onerror = function() {\n",
       "        console.warn(\"failed to load library \" + url);\n",
       "      };\n",
       "      console.log(\"Bokeh: injecting script tag for BokehJS library: \", url);\n",
       "      document.getElementsByTagName(\"head\")[0].appendChild(s);\n",
       "    }\n",
       "  };var element = document.getElementById(\"93d95b86-2e75-4ac9-b271-175f20bb574c\");\n",
       "  if (element == null) {\n",
       "    console.log(\"Bokeh: ERROR: autoload.js configured with elementid '93d95b86-2e75-4ac9-b271-175f20bb574c' but no matching script tag was found. \")\n",
       "    return false;\n",
       "  }\n",
       "\n",
       "  var js_urls = [\"https://cdn.pydata.org/bokeh/release/bokeh-0.12.4.min.js\", \"https://cdn.pydata.org/bokeh/release/bokeh-widgets-0.12.4.min.js\"];\n",
       "\n",
       "  var inline_js = [\n",
       "    function(Bokeh) {\n",
       "      Bokeh.set_log_level(\"info\");\n",
       "    },\n",
       "    \n",
       "    function(Bokeh) {\n",
       "      \n",
       "      document.getElementById(\"93d95b86-2e75-4ac9-b271-175f20bb574c\").textContent = \"BokehJS is loading...\";\n",
       "    },\n",
       "    function(Bokeh) {\n",
       "      console.log(\"Bokeh: injecting CSS: https://cdn.pydata.org/bokeh/release/bokeh-0.12.4.min.css\");\n",
       "      Bokeh.embed.inject_css(\"https://cdn.pydata.org/bokeh/release/bokeh-0.12.4.min.css\");\n",
       "      console.log(\"Bokeh: injecting CSS: https://cdn.pydata.org/bokeh/release/bokeh-widgets-0.12.4.min.css\");\n",
       "      Bokeh.embed.inject_css(\"https://cdn.pydata.org/bokeh/release/bokeh-widgets-0.12.4.min.css\");\n",
       "    }\n",
       "  ];\n",
       "\n",
       "  function run_inline_js() {\n",
       "    \n",
       "    if ((window.Bokeh !== undefined) || (force === true)) {\n",
       "      for (var i = 0; i < inline_js.length; i++) {\n",
       "        inline_js[i](window.Bokeh);\n",
       "      }if (force === true) {\n",
       "        display_loaded();\n",
       "      }} else if (Date.now() < window._bokeh_timeout) {\n",
       "      setTimeout(run_inline_js, 100);\n",
       "    } else if (!window._bokeh_failed_load) {\n",
       "      console.log(\"Bokeh: BokehJS failed to load within specified timeout.\");\n",
       "      window._bokeh_failed_load = true;\n",
       "    } else if (force !== true) {\n",
       "      var cell = $(document.getElementById(\"93d95b86-2e75-4ac9-b271-175f20bb574c\")).parents('.cell').data().cell;\n",
       "      cell.output_area.append_execute_result(NB_LOAD_WARNING)\n",
       "    }\n",
       "\n",
       "  }\n",
       "\n",
       "  if (window._bokeh_is_loading === 0) {\n",
       "    console.log(\"Bokeh: BokehJS loaded, going straight to plotting\");\n",
       "    run_inline_js();\n",
       "  } else {\n",
       "    load_libs(js_urls, function() {\n",
       "      console.log(\"Bokeh: BokehJS plotting callback run at\", now());\n",
       "      run_inline_js();\n",
       "    });\n",
       "  }\n",
       "}(this));"
      ]
     },
     "metadata": {},
     "output_type": "display_data"
    }
   ],
   "source": [
    "import pandas as pd\n",
    "import numpy as np\n",
    "import calendar\n",
    "from bokeh.charts import output_notebook, Scatter, Bar, show, output_file, Line, BoxPlot, Scatter\n",
    "from bokeh.plotting import figure\n",
    "from bokeh.layouts import column, row\n",
    "from bokeh.io import hplot\n",
    "output_notebook() "
   ]
  },
  {
   "cell_type": "code",
   "execution_count": 3,
   "metadata": {
    "collapsed": false
   },
   "outputs": [],
   "source": [
    "INPUT=\"data/device_failure.csv\" \n",
    "dataset = pd.read_csv(INPUT,index_col=[0,1],parse_dates=[0])"
   ]
  },
  {
   "cell_type": "markdown",
   "metadata": {},
   "source": [
    "## per device model\n",
    "\n",
    " - Set up first model\n",
    " - Precision/recall, ROC\n",
    " - Calibration\n",
    " - PCA ?\n",
    " - feature engineering\n",
    " - data cleaning\n",
    " - Test other models"
   ]
  },
  {
   "cell_type": "markdown",
   "metadata": {},
   "source": [
    "## Build Training set"
   ]
  },
  {
   "cell_type": "code",
   "execution_count": 4,
   "metadata": {
    "collapsed": true
   },
   "outputs": [],
   "source": [
    "# fitering methods\n",
    "suspicious_positives = set([\"S1F0GPFZ\", \"S1F136J0\", \"W1F0KCP2\", \"W1F0M35B\", \"W1F11ZG9\"])\n",
    "def filter_devices(df):\n",
    "    return df.filter(axis=\"index\",items=(set(df.index) - suspicious_positives)) "
   ]
  },
  {
   "cell_type": "code",
   "execution_count": 5,
   "metadata": {
    "collapsed": true
   },
   "outputs": [],
   "source": [
    "# feature preprocessing\n",
    "def build_deriv(df,c,n=1):\n",
    "    def per_device(per_device):\n",
    "        clean_index = per_device.reset_index(level=1,drop=True)\n",
    "        resampled=clean_index.resample('1D',\"pad\")\n",
    "        \n",
    "        raw_diff = np.diff(resampled,n=n)\n",
    "        #fill the series start with zeros\n",
    "        while (len(raw_diff) < len(resampled)):\n",
    "            raw_diff = np.insert(raw_diff,0,0)\n",
    "        d = pd.Series(data=raw_diff,index = resampled.index )\n",
    "        #print d\n",
    "        return d.dropna()[d>0]\n",
    "    some_d= df[c].groupby(level=\"device\").apply(per_device)\n",
    "    return some_d.swaplevel()"
   ]
  },
  {
   "cell_type": "code",
   "execution_count": 6,
   "metadata": {
    "collapsed": false
   },
   "outputs": [],
   "source": [
    "from scipy.fftpack import fft\n",
    "#fft_df = feature_dset[[attribute]].copy()\n",
    "\n",
    "def to_fft(df):\n",
    "    resampled =  df.resample(\"1D\",level=\"date\").mean().fillna(method='pad')\n",
    "    n = len(resampled)\n",
    "    return np.abs(fft(resampled))[n//2:]\n",
    "def fft_line(df):\n",
    "    return df.groupby(level=\"device\",sort=True).transform(to_fft)\n",
    "\n",
    "def peaks(line):\n",
    "    sorted_by_used = sorted(enumerate(line),key = lambda  t: t[1], reverse=True )\n",
    "    boundaries = set()\n",
    "    peaks = []\n",
    "    for i,value in sorted_by_used:\n",
    "        if i not in boundaries:\n",
    "            peaks.append((i,value))\n",
    "        # in any case, i neighbors cannot be peaks now.\n",
    "        boundaries.add(i+1)\n",
    "        boundaries.add(i-1)\n",
    "    return peaks\n",
    "            \n",
    "    \n",
    "def fft_peak(df,p=0,index_no_value=True):\n",
    "    fft = fft_line(df)\n",
    "    all_peaks = peaks(fft.tolist())\n",
    "    if (len(all_peaks) > p):\n",
    "        return all_peaks[p][0 if index_no_value else 1]\n",
    "    else:\n",
    "        return 0"
   ]
  },
  {
   "cell_type": "code",
   "execution_count": 7,
   "metadata": {
    "collapsed": false
   },
   "outputs": [],
   "source": [
    "def pre_filter(df):\n",
    "    res = df.copy()\n",
    "    del res[\"attribute1\"]\n",
    "    del res[\"attribute3\"]\n",
    "    #del res[\"attribute5\"]\n",
    "    dt_list = [\"attribute2\"]#,\"attribute8\"]\n",
    "    for c in dt_list:\n",
    "        deriv = build_deriv(res,c)\n",
    "        res[\"dt_%s\" % c] = deriv\n",
    "        res[\"dt2_%s\" % c] =  build_deriv(res,c,2)\n",
    "    return res.fillna(0)\n",
    "\n",
    "def post_filter(df):\n",
    "    res = df.copy()\n",
    "    res = filter_devices(res)\n",
    "    for col in res.columns:\n",
    "        if \"min\" in col:\n",
    "            del res[col]\n",
    "        if \"std\" in col:\n",
    "            del res[col]\n",
    "    return res"
   ]
  },
  {
   "cell_type": "code",
   "execution_count": 8,
   "metadata": {
    "collapsed": false
   },
   "outputs": [
    {
     "name": "stderr",
     "output_type": "stream",
     "text": [
      "/home/avignon/.local/lib/python2.7/site-packages/ipykernel/__main__.py:5: FutureWarning: how in .resample() is deprecated\n",
      "the new syntax is .resample(...).pad()\n"
     ]
    }
   ],
   "source": [
    "pre_dataset = pre_filter(dataset)\n",
    "#print feature_set.columns\n",
    "\n",
    "features = [f for f in pre_dataset.columns if \"att\" in f]\n",
    "def f_to_dict(feature):\n",
    "    d = {\n",
    "            \"min_%s\" % feature:np.min,\n",
    "            \"max_%s\" % feature:np.max,\n",
    "            \"mean_%s\" % feature :np.mean,\n",
    "            \"std_%s\" % feature:np.std\n",
    "        }\n",
    "    dft_list = [\"attribute4\",\"attribute5\", \"attribute6\",\"attribute7\",\"attribute9\"]\n",
    "    if feature in dft_list:\n",
    "        d[\"dft_p0_ind%s\" % feature] = lambda r : fft_peak(r,p=0,index_no_value=True)\n",
    "        d[\"dft_p0_val%s\" % feature] = lambda r : fft_peak(r,p=0,index_no_value=False)\n",
    "        #d[\"dft_p1_ind%s\" % feature] = lambda r : fft_peak(r,p=1,index_no_value=True)\n",
    "        #d[\"dft_p1_val%s\" % feature] = lambda r : fft_peak(r,p=1,index_no_value=False)\n",
    "    return d\n",
    "\n",
    "agg_dict = dict( (f,f_to_dict(f)) for f in features )\n",
    "#print agg_dict"
   ]
  },
  {
   "cell_type": "code",
   "execution_count": 9,
   "metadata": {
    "collapsed": false
   },
   "outputs": [],
   "source": [
    "feature_set = pre_dataset.groupby(level=\"device\").agg(agg_dict)\n",
    "feature_set.columns = feature_set.columns.droplevel()\n",
    "feature_set = post_filter(feature_set)\n",
    "\n",
    "# feature filtering\n",
    "# feature filtering\n",
    "#try : \n",
    "#    filtered = feature_set.filter(items=feature_imp.index)\n",
    "#    print \"filtering devices\"\n",
    "#    feature_set = filtered\n",
    "#except:\n",
    "#    print \"no feature filtering\"\n",
    "\n",
    "label_set =  dataset[[\"failure\"]].groupby(level=\"device\").sum()\n",
    "label_set = filter_devices(label_set)\n",
    "feature_mat = feature_set.to_sparse().as_matrix()\n",
    "label_mat = label_set.as_matrix().ravel()"
   ]
  },
  {
   "cell_type": "markdown",
   "metadata": {},
   "source": [
    "## Run model"
   ]
  },
  {
   "cell_type": "code",
   "execution_count": 11,
   "metadata": {
    "collapsed": false
   },
   "outputs": [
    {
     "name": "stdout",
     "output_type": "stream",
     "text": [
      "using last optimized model\n",
      "accurracy: 0.926039, std(0.0137847))\n"
     ]
    },
    {
     "name": "stderr",
     "output_type": "stream",
     "text": [
      "[Parallel(n_jobs=6)]: Done   3 out of   3 | elapsed:    0.1s finished\n"
     ]
    }
   ],
   "source": [
    "from sklearn.model_selection import cross_val_score\n",
    "from sklearn.ensemble import GradientBoostingClassifier, RandomForestClassifier\n",
    "from sklearn.pipeline import Pipeline\n",
    "from sklearn.decomposition import PCA\n",
    "from sklearn.preprocessing import Normalizer\n",
    "from sklearn.metrics import roc_curve, auc\n",
    "from sklearn.svm import SVC, NuSVC\n",
    "\n",
    "#model = GradientBoostingClassifier()\n",
    "pca = PCA()#n_components=\"mle\",svd_solver=\"full\")\n",
    "norm = Normalizer()\n",
    "#model=GradientBoostingClassifier()\n",
    "model = RandomForestClassifier()\n",
    "#model = SVC(probability=True)\n",
    "pipeline= Pipeline([('normalize', norm),('reduce_dim', pca),(\"model\",model)])\n",
    "try:\n",
    "    # use best parameters if available\n",
    "    #\n",
    "    #pipeline.set_params(**grid_result.best_params_)\n",
    "    print \"using last optimized model\"\n",
    "except:\n",
    "    print \"no optim result, or bad ones: let's keep the default ones\"\n",
    "    pass\n",
    "scores = cross_val_score(pipeline, feature_mat, label_mat,cv=3,verbose=1,scoring=\"accuracy\",n_jobs=6)                          \n",
    "print \"accurracy: %g, std(%g))\" % (scores.mean(), scores.std())"
   ]
  },
  {
   "cell_type": "code",
   "execution_count": 12,
   "metadata": {
    "collapsed": true
   },
   "outputs": [
    {
     "data": {
      "text/plain": [
       "{'model': RandomForestClassifier(bootstrap=True, class_weight=None, criterion='gini',\n",
       "             max_depth=None, max_features='auto', max_leaf_nodes=None,\n",
       "             min_impurity_split=1e-07, min_samples_leaf=1,\n",
       "             min_samples_split=2, min_weight_fraction_leaf=0.0,\n",
       "             n_estimators=10, n_jobs=1, oob_score=False, random_state=None,\n",
       "             verbose=0, warm_start=False),\n",
       " 'model__bootstrap': True,\n",
       " 'model__class_weight': None,\n",
       " 'model__criterion': 'gini',\n",
       " 'model__max_depth': None,\n",
       " 'model__max_features': 'auto',\n",
       " 'model__max_leaf_nodes': None,\n",
       " 'model__min_impurity_split': 1e-07,\n",
       " 'model__min_samples_leaf': 1,\n",
       " 'model__min_samples_split': 2,\n",
       " 'model__min_weight_fraction_leaf': 0.0,\n",
       " 'model__n_estimators': 10,\n",
       " 'model__n_jobs': 1,\n",
       " 'model__oob_score': False,\n",
       " 'model__random_state': None,\n",
       " 'model__verbose': 0,\n",
       " 'model__warm_start': False,\n",
       " 'normalize': Normalizer(copy=True, norm='l2'),\n",
       " 'normalize__copy': True,\n",
       " 'normalize__norm': 'l2',\n",
       " 'reduce_dim': PCA(copy=True, iterated_power='auto', n_components=None, random_state=None,\n",
       "   svd_solver='auto', tol=0.0, whiten=False),\n",
       " 'reduce_dim__copy': True,\n",
       " 'reduce_dim__iterated_power': 'auto',\n",
       " 'reduce_dim__n_components': None,\n",
       " 'reduce_dim__random_state': None,\n",
       " 'reduce_dim__svd_solver': 'auto',\n",
       " 'reduce_dim__tol': 0.0,\n",
       " 'reduce_dim__whiten': False,\n",
       " 'steps': [('normalize', Normalizer(copy=True, norm='l2')),\n",
       "  ('reduce_dim',\n",
       "   PCA(copy=True, iterated_power='auto', n_components=None, random_state=None,\n",
       "     svd_solver='auto', tol=0.0, whiten=False)),\n",
       "  ('model',\n",
       "   RandomForestClassifier(bootstrap=True, class_weight=None, criterion='gini',\n",
       "               max_depth=None, max_features='auto', max_leaf_nodes=None,\n",
       "               min_impurity_split=1e-07, min_samples_leaf=1,\n",
       "               min_samples_split=2, min_weight_fraction_leaf=0.0,\n",
       "               n_estimators=10, n_jobs=1, oob_score=False, random_state=None,\n",
       "               verbose=0, warm_start=False))]}"
      ]
     },
     "execution_count": 12,
     "metadata": {},
     "output_type": "execute_result"
    }
   ],
   "source": [
    "pipeline.get_params()"
   ]
  },
  {
   "cell_type": "markdown",
   "metadata": {},
   "source": [
    "### Eval Model"
   ]
  },
  {
   "cell_type": "code",
   "execution_count": 13,
   "metadata": {
    "collapsed": false,
    "hide_input": false
   },
   "outputs": [],
   "source": [
    "from sklearn.model_selection import train_test_split\n",
    "from sklearn.metrics import roc_curve, accuracy_score,precision_recall_curve, auc\n",
    "\n",
    "X_train, X_test, Y_train, Y_test = train_test_split(feature_mat,label_mat,test_size=0.3)\n",
    "# calculate the fpr and tpr for all thresholds of the classification\n",
    "\n",
    "fitted = pipeline.fit(X_train,Y_train)\n",
    "probs = fitted.predict_proba(X_test)\n",
    "preds = probs[:,1]\n",
    "preds_train = fitted.predict_proba(X_train)[:,1]\n",
    "fpr, tpr, threshold = roc_curve(Y_test, preds)\n",
    "fpr_train, tpr_train, threshold_train = roc_curve(Y_train, preds_train)\n",
    "roc_auc = auc(fpr, tpr)\n",
    "roc_auc_train = auc(fpr_train, tpr_train)\n",
    "precision, recall, ths = precision_recall_curve(Y_test, preds)\n",
    "precision_train, recall_train, ths_train = precision_recall_curve(Y_train, preds_train)"
   ]
  },
  {
   "cell_type": "code",
   "execution_count": 14,
   "metadata": {
    "collapsed": false
   },
   "outputs": [
    {
     "data": {
      "text/html": [
       "\n",
       "\n",
       "    <div class=\"bk-root\">\n",
       "        <div class=\"bk-plotdiv\" id=\"00e00885-7ae3-417c-a149-8773bbbe1697\"></div>\n",
       "    </div>\n",
       "<script type=\"text/javascript\">\n",
       "  \n",
       "  (function(global) {\n",
       "    function now() {\n",
       "      return new Date();\n",
       "    }\n",
       "  \n",
       "    var force = false;\n",
       "  \n",
       "    if (typeof (window._bokeh_onload_callbacks) === \"undefined\" || force === true) {\n",
       "      window._bokeh_onload_callbacks = [];\n",
       "      window._bokeh_is_loading = undefined;\n",
       "    }\n",
       "  \n",
       "  \n",
       "    \n",
       "    if (typeof (window._bokeh_timeout) === \"undefined\" || force === true) {\n",
       "      window._bokeh_timeout = Date.now() + 0;\n",
       "      window._bokeh_failed_load = false;\n",
       "    }\n",
       "  \n",
       "    var NB_LOAD_WARNING = {'data': {'text/html':\n",
       "       \"<div style='background-color: #fdd'>\\n\"+\n",
       "       \"<p>\\n\"+\n",
       "       \"BokehJS does not appear to have successfully loaded. If loading BokehJS from CDN, this \\n\"+\n",
       "       \"may be due to a slow or bad network connection. Possible fixes:\\n\"+\n",
       "       \"</p>\\n\"+\n",
       "       \"<ul>\\n\"+\n",
       "       \"<li>re-rerun `output_notebook()` to attempt to load from CDN again, or</li>\\n\"+\n",
       "       \"<li>use INLINE resources instead, as so:</li>\\n\"+\n",
       "       \"</ul>\\n\"+\n",
       "       \"<code>\\n\"+\n",
       "       \"from bokeh.resources import INLINE\\n\"+\n",
       "       \"output_notebook(resources=INLINE)\\n\"+\n",
       "       \"</code>\\n\"+\n",
       "       \"</div>\"}};\n",
       "  \n",
       "    function display_loaded() {\n",
       "      if (window.Bokeh !== undefined) {\n",
       "        document.getElementById(\"00e00885-7ae3-417c-a149-8773bbbe1697\").textContent = \"BokehJS successfully loaded.\";\n",
       "      } else if (Date.now() < window._bokeh_timeout) {\n",
       "        setTimeout(display_loaded, 100)\n",
       "      }\n",
       "    }\n",
       "  \n",
       "    function run_callbacks() {\n",
       "      window._bokeh_onload_callbacks.forEach(function(callback) { callback() });\n",
       "      delete window._bokeh_onload_callbacks\n",
       "      console.info(\"Bokeh: all callbacks have finished\");\n",
       "    }\n",
       "  \n",
       "    function load_libs(js_urls, callback) {\n",
       "      window._bokeh_onload_callbacks.push(callback);\n",
       "      if (window._bokeh_is_loading > 0) {\n",
       "        console.log(\"Bokeh: BokehJS is being loaded, scheduling callback at\", now());\n",
       "        return null;\n",
       "      }\n",
       "      if (js_urls == null || js_urls.length === 0) {\n",
       "        run_callbacks();\n",
       "        return null;\n",
       "      }\n",
       "      console.log(\"Bokeh: BokehJS not loaded, scheduling load and callback at\", now());\n",
       "      window._bokeh_is_loading = js_urls.length;\n",
       "      for (var i = 0; i < js_urls.length; i++) {\n",
       "        var url = js_urls[i];\n",
       "        var s = document.createElement('script');\n",
       "        s.src = url;\n",
       "        s.async = false;\n",
       "        s.onreadystatechange = s.onload = function() {\n",
       "          window._bokeh_is_loading--;\n",
       "          if (window._bokeh_is_loading === 0) {\n",
       "            console.log(\"Bokeh: all BokehJS libraries loaded\");\n",
       "            run_callbacks()\n",
       "          }\n",
       "        };\n",
       "        s.onerror = function() {\n",
       "          console.warn(\"failed to load library \" + url);\n",
       "        };\n",
       "        console.log(\"Bokeh: injecting script tag for BokehJS library: \", url);\n",
       "        document.getElementsByTagName(\"head\")[0].appendChild(s);\n",
       "      }\n",
       "    };var element = document.getElementById(\"00e00885-7ae3-417c-a149-8773bbbe1697\");\n",
       "    if (element == null) {\n",
       "      console.log(\"Bokeh: ERROR: autoload.js configured with elementid '00e00885-7ae3-417c-a149-8773bbbe1697' but no matching script tag was found. \")\n",
       "      return false;\n",
       "    }\n",
       "  \n",
       "    var js_urls = [];\n",
       "  \n",
       "    var inline_js = [\n",
       "      function(Bokeh) {\n",
       "        (function() {\n",
       "          var fn = function() {\n",
       "            var docs_json = {\"e200004b-047a-428e-96f9-c7dfffa9615b\":{\"roots\":{\"references\":[{\"attributes\":{\"bottom_units\":\"screen\",\"fill_alpha\":{\"value\":0.5},\"fill_color\":{\"value\":\"lightgrey\"},\"left_units\":\"screen\",\"level\":\"overlay\",\"line_alpha\":{\"value\":1.0},\"line_color\":{\"value\":\"black\"},\"line_dash\":[4,4],\"line_width\":{\"value\":2},\"plot\":null,\"render_mode\":\"css\",\"right_units\":\"screen\",\"top_units\":\"screen\"},\"id\":\"a8daec3f-3cba-41d9-8856-06beb545fc7f\",\"type\":\"BoxAnnotation\"},{\"attributes\":{\"dimension\":1,\"plot\":{\"id\":\"e988507c-ee90-4d69-8839-2b6e468d9e74\",\"subtype\":\"Figure\",\"type\":\"Plot\"},\"ticker\":{\"id\":\"576d40b7-8d31-4bf6-9555-9d395f17dc5a\",\"type\":\"BasicTicker\"}},\"id\":\"df39b72d-702b-4cab-8742-d121600fe79c\",\"type\":\"Grid\"},{\"attributes\":{\"callback\":null,\"column_names\":[\"y\",\"x\"],\"data\":{\"x\":{\"__ndarray__\":\"AAAAAAAA8D8AAAAAAADtPwAAAAAAAOk/AAAAAAAA5z8AAAAAAADlPwAAAAAAAOQ/AAAAAAAA4z8AAAAAAADgPwAAAAAAANY/AAAAAAAAsD8AAAAAAACgPwAAAAAAAAAA\",\"dtype\":\"float64\",\"shape\":[12]},\"y\":{\"__ndarray__\":\"DcaaEQh5tz+idiVqV6LWPxdddNFFF90/uuiiiy664D/Ew8PDw8PjP0J7Ce0ltOc/UrgehetR6D8YhmEYhmHoP0mSJEmSJOk/AAAAAAAA4D8AAAAAAADgPwAAAAAAAPA/\",\"dtype\":\"float64\",\"shape\":[12]}}},\"id\":\"31212fb0-5773-4e83-a275-a609ef4c58b7\",\"type\":\"ColumnDataSource\"},{\"attributes\":{\"below\":[{\"id\":\"9579926a-f277-45eb-a39a-309270cd5a78\",\"type\":\"LinearAxis\"}],\"left\":[{\"id\":\"eb143a56-078e-4de4-8d58-06a9fe625953\",\"type\":\"LinearAxis\"}],\"plot_height\":400,\"plot_width\":400,\"renderers\":[{\"id\":\"9579926a-f277-45eb-a39a-309270cd5a78\",\"type\":\"LinearAxis\"},{\"id\":\"8533ff67-7543-4c0c-aca8-926d0fffc174\",\"type\":\"Grid\"},{\"id\":\"eb143a56-078e-4de4-8d58-06a9fe625953\",\"type\":\"LinearAxis\"},{\"id\":\"f66cb359-64ee-4953-84af-3a397ffb2a8a\",\"type\":\"Grid\"},{\"id\":\"a8daec3f-3cba-41d9-8856-06beb545fc7f\",\"type\":\"BoxAnnotation\"},{\"id\":\"9117ab7a-68d6-47bd-a55d-062ebf3ae263\",\"type\":\"GlyphRenderer\"},{\"id\":\"78224886-55e2-4080-bef5-dd208d8e6dc7\",\"type\":\"Legend\"},{\"id\":\"a300ae96-3d72-4d94-924e-59296ee8fc39\",\"type\":\"GlyphRenderer\"},{\"id\":\"9a34436f-0236-4f46-ad13-14e2e8c6a9b3\",\"type\":\"GlyphRenderer\"},{\"id\":\"6614bd39-145a-4352-bb4f-ac7d9f70a56f\",\"type\":\"GlyphRenderer\"}],\"title\":{\"id\":\"437536d6-ba27-445a-b45d-08a293242c26\",\"type\":\"Title\"},\"tool_events\":{\"id\":\"49dcc080-ddd6-4eea-9361-6d9b96da7f2d\",\"type\":\"ToolEvents\"},\"toolbar\":{\"id\":\"7aa7cebb-4396-493d-ab75-e17f8a0c5226\",\"type\":\"Toolbar\"},\"x_range\":{\"id\":\"e917292c-ef5d-4f79-b4b4-5f418d9a887b\",\"type\":\"DataRange1d\"},\"y_range\":{\"id\":\"05ce8b24-68d5-46f2-9303-47bceac7e1c1\",\"type\":\"DataRange1d\"}},\"id\":\"441160dc-ef87-4957-8064-73ba0796e5e3\",\"subtype\":\"Figure\",\"type\":\"Plot\"},{\"attributes\":{\"fill_alpha\":{\"value\":0.1},\"fill_color\":{\"value\":\"#1f77b4\"},\"line_alpha\":{\"value\":0.1},\"line_color\":{\"value\":\"#1f77b4\"},\"size\":{\"units\":\"screen\",\"value\":5},\"x\":{\"field\":\"x\"},\"y\":{\"field\":\"y\"}},\"id\":\"70e5355e-d699-4a35-a816-2c5453ca0cc6\",\"type\":\"Cross\"},{\"attributes\":{\"plot\":null,\"text\":\"roc, auc: 0.91, on train: 1\"},\"id\":\"fcd6f54d-32ec-4318-80c0-d634d000f984\",\"type\":\"Title\"},{\"attributes\":{\"data_source\":{\"id\":\"acffac2f-c194-4a74-acbf-603e494ec46c\",\"type\":\"ColumnDataSource\"},\"glyph\":{\"id\":\"706029c4-99d6-420e-9c04-228419ca019f\",\"type\":\"Line\"},\"hover_glyph\":null,\"nonselection_glyph\":{\"id\":\"783d3c6c-bc7f-4c5e-b5db-80a6a2c2f183\",\"type\":\"Line\"},\"selection_glyph\":null},\"id\":\"a8538c94-127a-48e6-9c50-aa3fdf84b4ab\",\"type\":\"GlyphRenderer\"},{\"attributes\":{\"active_drag\":\"auto\",\"active_scroll\":\"auto\",\"active_tap\":\"auto\",\"tools\":[{\"id\":\"ad20fc07-8e9b-4bc9-8215-b0fc76e5afa5\",\"type\":\"PanTool\"},{\"id\":\"26b5d842-1def-4965-9d58-96c611ec971d\",\"type\":\"WheelZoomTool\"},{\"id\":\"4cf62443-5d4e-4071-a1cd-5f454d70abbd\",\"type\":\"BoxZoomTool\"},{\"id\":\"d5f69cfc-ade6-4ac6-b96b-98a1ae9f321c\",\"type\":\"SaveTool\"},{\"id\":\"1baf7f1c-e54a-426e-85dc-ddbb4ccc041a\",\"type\":\"ResetTool\"},{\"id\":\"4ee85c42-add2-4cdc-a566-c5d5528055e3\",\"type\":\"HelpTool\"}]},\"id\":\"57a87c28-1a0a-4480-b4fd-945809c19d0e\",\"type\":\"Toolbar\"},{\"attributes\":{\"plot\":{\"id\":\"441160dc-ef87-4957-8064-73ba0796e5e3\",\"subtype\":\"Figure\",\"type\":\"Plot\"}},\"id\":\"1cfc1a73-7376-4a11-b973-2d59bd9500f2\",\"type\":\"HelpTool\"},{\"attributes\":{\"line_color\":{\"value\":\"red\"},\"x\":{\"field\":\"x\"},\"y\":{\"field\":\"y\"}},\"id\":\"525e0bca-3f82-408c-b416-2a434677f070\",\"type\":\"Line\"},{\"attributes\":{\"axis_label\":\"precision\",\"formatter\":{\"id\":\"7962e069-6a11-4f2e-9ea0-57ce7da568e6\",\"type\":\"BasicTickFormatter\"},\"plot\":{\"id\":\"441160dc-ef87-4957-8064-73ba0796e5e3\",\"subtype\":\"Figure\",\"type\":\"Plot\"},\"ticker\":{\"id\":\"21c5499e-f2b9-472f-810a-0812c5f82132\",\"type\":\"BasicTicker\"}},\"id\":\"eb143a56-078e-4de4-8d58-06a9fe625953\",\"type\":\"LinearAxis\"},{\"attributes\":{\"callback\":null},\"id\":\"05ce8b24-68d5-46f2-9303-47bceac7e1c1\",\"type\":\"DataRange1d\"},{\"attributes\":{\"callback\":null,\"column_names\":[\"y\",\"x\"],\"data\":{\"x\":{\"__ndarray__\":\"AAAAAAAAAAAAAAAAAAAAAAAAAAAAAAAAb1x7MfD9VT9vXHsx8P1VP1SFHCV0fnA/izPaPWx9iz/Fy9esIe6jP6hYTrx8zbo/AAAAAAAA8D8=\",\"dtype\":\"float64\",\"shape\":[10]},\"y\":{\"__ndarray__\":\"ZCELWchCxj/bgbl2YK7dP64dmGsH5uo/8TNK/IwS7z8AAAAAAADwPwAAAAAAAPA/AAAAAAAA8D8AAAAAAADwPwAAAAAAAPA/AAAAAAAA8D8=\",\"dtype\":\"float64\",\"shape\":[10]}}},\"id\":\"cc1e96fa-4677-485e-bd60-76952013a01c\",\"type\":\"ColumnDataSource\"},{\"attributes\":{\"callback\":null},\"id\":\"c3b56372-0ca6-49b2-b1c6-50d9ede0ae73\",\"type\":\"Range1d\"},{\"attributes\":{\"plot\":{\"id\":\"e988507c-ee90-4d69-8839-2b6e468d9e74\",\"subtype\":\"Figure\",\"type\":\"Plot\"}},\"id\":\"1baf7f1c-e54a-426e-85dc-ddbb4ccc041a\",\"type\":\"ResetTool\"},{\"attributes\":{\"plot\":null,\"text\":\"PR curve\"},\"id\":\"437536d6-ba27-445a-b45d-08a293242c26\",\"type\":\"Title\"},{\"attributes\":{\"fill_alpha\":{\"value\":0.1},\"fill_color\":{\"value\":\"#1f77b4\"},\"line_alpha\":{\"value\":0.1},\"line_color\":{\"value\":\"#1f77b4\"},\"size\":{\"units\":\"screen\",\"value\":5},\"x\":{\"field\":\"x\"},\"y\":{\"field\":\"y\"}},\"id\":\"515c5541-722e-4b0b-926b-fbfb5404968d\",\"type\":\"Circle\"},{\"attributes\":{\"data_source\":{\"id\":\"4fdb3355-75b5-415b-8636-314984754e67\",\"type\":\"ColumnDataSource\"},\"glyph\":{\"id\":\"f1a1276d-b974-4386-9847-3756044461a2\",\"type\":\"Line\"},\"hover_glyph\":null,\"nonselection_glyph\":{\"id\":\"e4c14036-b560-44e3-bc11-a8a5557aeae7\",\"type\":\"Line\"},\"selection_glyph\":null},\"id\":\"269a8ca1-7cbb-4298-ba2e-128d8d6f56de\",\"type\":\"GlyphRenderer\"},{\"attributes\":{\"plot\":{\"id\":\"441160dc-ef87-4957-8064-73ba0796e5e3\",\"subtype\":\"Figure\",\"type\":\"Plot\"}},\"id\":\"e44ac989-8068-4dcf-a9f4-4798764044be\",\"type\":\"PanTool\"},{\"attributes\":{\"line_alpha\":{\"value\":0.1},\"line_color\":{\"value\":\"#1f77b4\"},\"x\":{\"field\":\"x\"},\"y\":{\"field\":\"y\"}},\"id\":\"12f0c570-0cb0-4804-a6da-4214b6049b42\",\"type\":\"Line\"},{\"attributes\":{\"items\":[{\"id\":\"b5c58476-ded5-4878-9852-b73b06cb7c32\",\"type\":\"LegendItem\"},{\"id\":\"a7f12708-df46-4ea9-bb6e-164a7c3d116d\",\"type\":\"LegendItem\"}],\"plot\":{\"id\":\"441160dc-ef87-4957-8064-73ba0796e5e3\",\"subtype\":\"Figure\",\"type\":\"Plot\"}},\"id\":\"78224886-55e2-4080-bef5-dd208d8e6dc7\",\"type\":\"Legend\"},{\"attributes\":{\"plot\":{\"id\":\"e988507c-ee90-4d69-8839-2b6e468d9e74\",\"subtype\":\"Figure\",\"type\":\"Plot\"}},\"id\":\"4ee85c42-add2-4cdc-a566-c5d5528055e3\",\"type\":\"HelpTool\"},{\"attributes\":{\"label\":{\"value\":\"roc on train\"},\"renderers\":[{\"id\":\"dfb6256c-4c6c-45e8-9aaf-26d8a6163528\",\"type\":\"GlyphRenderer\"}]},\"id\":\"ffeee68a-422f-417c-8a10-2e11b180d625\",\"type\":\"LegendItem\"},{\"attributes\":{\"axis_label\":\"fpr\",\"formatter\":{\"id\":\"7026dfb9-4dff-4d86-bc5a-9aae439ffc36\",\"type\":\"BasicTickFormatter\"},\"plot\":{\"id\":\"e988507c-ee90-4d69-8839-2b6e468d9e74\",\"subtype\":\"Figure\",\"type\":\"Plot\"},\"ticker\":{\"id\":\"576d40b7-8d31-4bf6-9555-9d395f17dc5a\",\"type\":\"BasicTicker\"}},\"id\":\"8fadb5f9-b268-4062-8b05-98bc0668e428\",\"type\":\"LinearAxis\"},{\"attributes\":{},\"id\":\"49dcc080-ddd6-4eea-9361-6d9b96da7f2d\",\"type\":\"ToolEvents\"},{\"attributes\":{},\"id\":\"576d40b7-8d31-4bf6-9555-9d395f17dc5a\",\"type\":\"BasicTicker\"},{\"attributes\":{},\"id\":\"a15b2339-6ac9-41f0-93df-8fec5d40f9d3\",\"type\":\"BasicTicker\"},{\"attributes\":{\"fill_alpha\":{\"value\":0.1},\"fill_color\":{\"value\":\"#1f77b4\"},\"line_alpha\":{\"value\":0.1},\"line_color\":{\"value\":\"#1f77b4\"},\"size\":{\"units\":\"screen\",\"value\":5},\"x\":{\"field\":\"x\"},\"y\":{\"field\":\"y\"}},\"id\":\"f005b4a6-fdda-42f1-af3d-9d15a33db730\",\"type\":\"Circle\"},{\"attributes\":{\"fill_color\":{\"value\":\"#1f77b4\"},\"line_color\":{\"value\":\"#1f77b4\"},\"size\":{\"units\":\"screen\",\"value\":5},\"x\":{\"field\":\"x\"},\"y\":{\"field\":\"y\"}},\"id\":\"4ce775fa-8347-47e7-8ea7-375b821226d5\",\"type\":\"Cross\"},{\"attributes\":{\"line_color\":{\"value\":\"red\"},\"x\":{\"field\":\"x\"},\"y\":{\"field\":\"y\"}},\"id\":\"6089bef7-3e7d-4cf4-af68-01b75128301b\",\"type\":\"Line\"},{\"attributes\":{\"data_source\":{\"id\":\"e5e67c3b-2b84-4ea1-84a9-1b6649732012\",\"type\":\"ColumnDataSource\"},\"glyph\":{\"id\":\"525e0bca-3f82-408c-b416-2a434677f070\",\"type\":\"Line\"},\"hover_glyph\":null,\"nonselection_glyph\":{\"id\":\"12f0c570-0cb0-4804-a6da-4214b6049b42\",\"type\":\"Line\"},\"selection_glyph\":null},\"id\":\"6614bd39-145a-4352-bb4f-ac7d9f70a56f\",\"type\":\"GlyphRenderer\"},{\"attributes\":{\"line_color\":{\"value\":\"#1f77b4\"},\"x\":{\"field\":\"x\"},\"y\":{\"field\":\"y\"}},\"id\":\"706029c4-99d6-420e-9c04-228419ca019f\",\"type\":\"Line\"},{\"attributes\":{\"label\":{\"value\":\"PR\"},\"renderers\":[{\"id\":\"a300ae96-3d72-4d94-924e-59296ee8fc39\",\"type\":\"GlyphRenderer\"}]},\"id\":\"b5c58476-ded5-4878-9852-b73b06cb7c32\",\"type\":\"LegendItem\"},{\"attributes\":{\"items\":[{\"id\":\"4850cd2b-1946-4daa-9bf1-0d0e101b283c\",\"type\":\"LegendItem\"},{\"id\":\"ffeee68a-422f-417c-8a10-2e11b180d625\",\"type\":\"LegendItem\"}],\"plot\":{\"id\":\"e988507c-ee90-4d69-8839-2b6e468d9e74\",\"subtype\":\"Figure\",\"type\":\"Plot\"}},\"id\":\"5ab48887-4028-47f1-9062-368001470072\",\"type\":\"Legend\"},{\"attributes\":{\"callback\":null,\"column_names\":[\"y\",\"x\"],\"data\":{\"x\":{\"__ndarray__\":\"AAAAAAAAAAAtaGsXn9dpPy1oaxef13k/Io6QUbdhgz8cIaNuwyaQPyKOkFG3YZM/KPt9NKuclj+lRAdDMf+kP158XmeA9bA/qrH0JSU6uD9F8mS/j2bFPwAAAAAAAPA/\",\"dtype\":\"float64\",\"shape\":[12]},\"y\":{\"__ndarray__\":\"AAAAAAAAAAAAAAAAAACgPwAAAAAAALA/AAAAAAAA1j8AAAAAAADgPwAAAAAAAOM/AAAAAAAA5D8AAAAAAADlPwAAAAAAAOc/AAAAAAAA6T8AAAAAAADtPwAAAAAAAPA/\",\"dtype\":\"float64\",\"shape\":[12]}}},\"id\":\"acffac2f-c194-4a74-acbf-603e494ec46c\",\"type\":\"ColumnDataSource\"},{\"attributes\":{\"plot\":{\"id\":\"e988507c-ee90-4d69-8839-2b6e468d9e74\",\"subtype\":\"Figure\",\"type\":\"Plot\"}},\"id\":\"d5f69cfc-ade6-4ac6-b96b-98a1ae9f321c\",\"type\":\"SaveTool\"},{\"attributes\":{\"callback\":null,\"column_names\":[\"y\",\"x\"],\"data\":{\"x\":{\"__ndarray__\":\"AAAAAAAA8D8AAAAAAADtPwAAAAAAAOk/AAAAAAAA5z8AAAAAAADlPwAAAAAAAOQ/AAAAAAAA4z8AAAAAAADgPwAAAAAAANY/AAAAAAAAsD8AAAAAAACgPwAAAAAAAAAA\",\"dtype\":\"float64\",\"shape\":[12]},\"y\":{\"__ndarray__\":\"DcaaEQh5tz+idiVqV6LWPxdddNFFF90/uuiiiy664D/Ew8PDw8PjP0J7Ce0ltOc/UrgehetR6D8YhmEYhmHoP0mSJEmSJOk/AAAAAAAA4D8AAAAAAADgPwAAAAAAAPA/\",\"dtype\":\"float64\",\"shape\":[12]}}},\"id\":\"7c520e22-460d-4290-89ca-ccd12cec6bbd\",\"type\":\"ColumnDataSource\"},{\"attributes\":{\"overlay\":{\"id\":\"a8daec3f-3cba-41d9-8856-06beb545fc7f\",\"type\":\"BoxAnnotation\"},\"plot\":{\"id\":\"441160dc-ef87-4957-8064-73ba0796e5e3\",\"subtype\":\"Figure\",\"type\":\"Plot\"}},\"id\":\"da440cfc-466f-4aac-8b94-a8307d2792b1\",\"type\":\"BoxZoomTool\"},{\"attributes\":{\"data_source\":{\"id\":\"3c7e8436-31a7-47b8-8795-2000337a7672\",\"type\":\"ColumnDataSource\"},\"glyph\":{\"id\":\"6089bef7-3e7d-4cf4-af68-01b75128301b\",\"type\":\"Line\"},\"hover_glyph\":null,\"nonselection_glyph\":{\"id\":\"3410effe-248d-4532-a437-04bd5145c7d6\",\"type\":\"Line\"},\"selection_glyph\":null},\"id\":\"dfb6256c-4c6c-45e8-9aaf-26d8a6163528\",\"type\":\"GlyphRenderer\"},{\"attributes\":{\"fill_alpha\":{\"value\":0.1},\"fill_color\":{\"value\":\"#1f77b4\"},\"line_alpha\":{\"value\":0.1},\"line_color\":{\"value\":\"#1f77b4\"},\"size\":{\"units\":\"screen\",\"value\":5},\"x\":{\"field\":\"x\"},\"y\":{\"field\":\"y\"}},\"id\":\"afa972be-7cef-449a-beef-51889d778ee2\",\"type\":\"Cross\"},{\"attributes\":{\"fill_color\":{\"value\":\"red\"},\"line_color\":{\"value\":\"red\"},\"size\":{\"units\":\"screen\",\"value\":5},\"x\":{\"field\":\"x\"},\"y\":{\"field\":\"y\"}},\"id\":\"eb6546e6-9834-4370-9cd8-434908775d7c\",\"type\":\"Circle\"},{\"attributes\":{},\"id\":\"bfcaa246-751e-4b2b-9239-fac586aba9e3\",\"type\":\"BasicTickFormatter\"},{\"attributes\":{\"data_source\":{\"id\":\"1540f2c6-b976-46c2-933f-106349d846e4\",\"type\":\"ColumnDataSource\"},\"glyph\":{\"id\":\"3998eaa7-1043-4583-a961-a169fa1aecde\",\"type\":\"Circle\"},\"hover_glyph\":null,\"nonselection_glyph\":{\"id\":\"f005b4a6-fdda-42f1-af3d-9d15a33db730\",\"type\":\"Circle\"},\"selection_glyph\":null},\"id\":\"9a34436f-0236-4f46-ad13-14e2e8c6a9b3\",\"type\":\"GlyphRenderer\"},{\"attributes\":{\"below\":[{\"id\":\"24e582de-d0be-4412-b8e4-55f8f0d76253\",\"type\":\"LinearAxis\"}],\"left\":[{\"id\":\"8fadb5f9-b268-4062-8b05-98bc0668e428\",\"type\":\"LinearAxis\"}],\"plot_height\":400,\"plot_width\":400,\"renderers\":[{\"id\":\"24e582de-d0be-4412-b8e4-55f8f0d76253\",\"type\":\"LinearAxis\"},{\"id\":\"b42b33bf-ac83-4f35-a3da-d0eb93a5aadc\",\"type\":\"Grid\"},{\"id\":\"8fadb5f9-b268-4062-8b05-98bc0668e428\",\"type\":\"LinearAxis\"},{\"id\":\"df39b72d-702b-4cab-8742-d121600fe79c\",\"type\":\"Grid\"},{\"id\":\"2fc41cfb-939f-4793-b50f-03e06a04116a\",\"type\":\"BoxAnnotation\"},{\"id\":\"7c5da651-8d3b-4472-abf3-fbf39fc652b0\",\"type\":\"GlyphRenderer\"},{\"id\":\"5ab48887-4028-47f1-9062-368001470072\",\"type\":\"Legend\"},{\"id\":\"a8538c94-127a-48e6-9c50-aa3fdf84b4ab\",\"type\":\"GlyphRenderer\"},{\"id\":\"ae7e22a8-5f1d-42a6-a48a-8c951f6e4111\",\"type\":\"GlyphRenderer\"},{\"id\":\"dfb6256c-4c6c-45e8-9aaf-26d8a6163528\",\"type\":\"GlyphRenderer\"},{\"id\":\"269a8ca1-7cbb-4298-ba2e-128d8d6f56de\",\"type\":\"GlyphRenderer\"}],\"title\":{\"id\":\"fcd6f54d-32ec-4318-80c0-d634d000f984\",\"type\":\"Title\"},\"tool_events\":{\"id\":\"8e79d51b-193f-4f68-bf22-7f7ac1c99963\",\"type\":\"ToolEvents\"},\"toolbar\":{\"id\":\"57a87c28-1a0a-4480-b4fd-945809c19d0e\",\"type\":\"Toolbar\"},\"x_range\":{\"id\":\"c3b56372-0ca6-49b2-b1c6-50d9ede0ae73\",\"type\":\"Range1d\"},\"y_range\":{\"id\":\"c3b56372-0ca6-49b2-b1c6-50d9ede0ae73\",\"type\":\"Range1d\"}},\"id\":\"e988507c-ee90-4d69-8839-2b6e468d9e74\",\"subtype\":\"Figure\",\"type\":\"Plot\"},{\"attributes\":{\"plot\":{\"id\":\"e988507c-ee90-4d69-8839-2b6e468d9e74\",\"subtype\":\"Figure\",\"type\":\"Plot\"}},\"id\":\"ad20fc07-8e9b-4bc9-8215-b0fc76e5afa5\",\"type\":\"PanTool\"},{\"attributes\":{\"line_color\":{\"value\":\"#1f77b4\"},\"x\":{\"field\":\"x\"},\"y\":{\"field\":\"y\"}},\"id\":\"f4c8e225-8c64-4bbc-9857-c667fdcb20c1\",\"type\":\"Line\"},{\"attributes\":{},\"id\":\"8e79d51b-193f-4f68-bf22-7f7ac1c99963\",\"type\":\"ToolEvents\"},{\"attributes\":{\"children\":[{\"id\":\"441160dc-ef87-4957-8064-73ba0796e5e3\",\"subtype\":\"Figure\",\"type\":\"Plot\"},{\"id\":\"e988507c-ee90-4d69-8839-2b6e468d9e74\",\"subtype\":\"Figure\",\"type\":\"Plot\"}]},\"id\":\"5bccb7da-7e0c-4b36-9445-c0e6bdf3b77e\",\"type\":\"Row\"},{\"attributes\":{\"callback\":null},\"id\":\"e917292c-ef5d-4f79-b4b4-5f418d9a887b\",\"type\":\"DataRange1d\"},{\"attributes\":{\"line_alpha\":{\"value\":0.1},\"line_color\":{\"value\":\"#1f77b4\"},\"x\":{\"field\":\"x\"},\"y\":{\"field\":\"y\"}},\"id\":\"e4c14036-b560-44e3-bc11-a8a5557aeae7\",\"type\":\"Line\"},{\"attributes\":{\"line_alpha\":{\"value\":0.1},\"line_color\":{\"value\":\"#1f77b4\"},\"x\":{\"field\":\"x\"},\"y\":{\"field\":\"y\"}},\"id\":\"3410effe-248d-4532-a437-04bd5145c7d6\",\"type\":\"Line\"},{\"attributes\":{\"callback\":null,\"column_names\":[\"x\",\"y\"],\"data\":{\"x\":{\"__ndarray__\":\"AAAAAAAAAAAAAAAAAAAAAAAAAAAAAAAAb1x7MfD9VT9vXHsx8P1VP1SFHCV0fnA/izPaPWx9iz/Fy9esIe6jP6hYTrx8zbo/AAAAAAAA8D8=\",\"dtype\":\"float64\",\"shape\":[10]},\"y\":{\"__ndarray__\":\"ZCELWchCxj/bgbl2YK7dP64dmGsH5uo/8TNK/IwS7z8AAAAAAADwPwAAAAAAAPA/AAAAAAAA8D8AAAAAAADwPwAAAAAAAPA/AAAAAAAA8D8=\",\"dtype\":\"float64\",\"shape\":[10]}}},\"id\":\"3c7e8436-31a7-47b8-8795-2000337a7672\",\"type\":\"ColumnDataSource\"},{\"attributes\":{\"fill_color\":{\"value\":\"#1f77b4\"},\"line_color\":{\"value\":\"#1f77b4\"},\"size\":{\"units\":\"screen\",\"value\":5},\"x\":{\"field\":\"x\"},\"y\":{\"field\":\"y\"}},\"id\":\"c2080a50-1077-4cdc-8302-ad2f6da2b91a\",\"type\":\"Cross\"},{\"attributes\":{\"callback\":null,\"column_names\":[\"y\",\"x\"],\"data\":{\"x\":{\"__ndarray__\":\"AAAAAAAA8D/xM0r8jBLvP64dmGsH5uo/Tm9605ve5D/bgbl2YK7dP2QhC1nIQsY/AAAAAAAAAAA=\",\"dtype\":\"float64\",\"shape\":[7]},\"y\":{\"__ndarray__\":\"sPiKr/iK7z+Ih4eHh4fvPwAAAAAAAPA/AAAAAAAA8D8AAAAAAADwPwAAAAAAAPA/AAAAAAAA8D8=\",\"dtype\":\"float64\",\"shape\":[7]}}},\"id\":\"1540f2c6-b976-46c2-933f-106349d846e4\",\"type\":\"ColumnDataSource\"},{\"attributes\":{\"fill_color\":{\"value\":\"red\"},\"line_color\":{\"value\":\"red\"},\"size\":{\"units\":\"screen\",\"value\":5},\"x\":{\"field\":\"x\"},\"y\":{\"field\":\"y\"}},\"id\":\"3998eaa7-1043-4583-a961-a169fa1aecde\",\"type\":\"Circle\"},{\"attributes\":{\"axis_label\":\"recall\",\"formatter\":{\"id\":\"bfcaa246-751e-4b2b-9239-fac586aba9e3\",\"type\":\"BasicTickFormatter\"},\"plot\":{\"id\":\"441160dc-ef87-4957-8064-73ba0796e5e3\",\"subtype\":\"Figure\",\"type\":\"Plot\"},\"ticker\":{\"id\":\"a200be95-1c43-47cb-ae73-aa69ad6af530\",\"type\":\"BasicTicker\"}},\"id\":\"9579926a-f277-45eb-a39a-309270cd5a78\",\"type\":\"LinearAxis\"},{\"attributes\":{\"active_drag\":\"auto\",\"active_scroll\":\"auto\",\"active_tap\":\"auto\",\"tools\":[{\"id\":\"e44ac989-8068-4dcf-a9f4-4798764044be\",\"type\":\"PanTool\"},{\"id\":\"b9795373-87e7-4fec-884d-8e5108b00d72\",\"type\":\"WheelZoomTool\"},{\"id\":\"da440cfc-466f-4aac-8b94-a8307d2792b1\",\"type\":\"BoxZoomTool\"},{\"id\":\"07a574fc-74c1-4baf-b1ed-0bd6cec0e57e\",\"type\":\"SaveTool\"},{\"id\":\"c5b3c141-3f6d-4393-9b7e-d81aad2256d8\",\"type\":\"ResetTool\"},{\"id\":\"1cfc1a73-7376-4a11-b973-2d59bd9500f2\",\"type\":\"HelpTool\"}]},\"id\":\"7aa7cebb-4396-493d-ab75-e17f8a0c5226\",\"type\":\"Toolbar\"},{\"attributes\":{\"data_source\":{\"id\":\"31212fb0-5773-4e83-a275-a609ef4c58b7\",\"type\":\"ColumnDataSource\"},\"glyph\":{\"id\":\"4ce775fa-8347-47e7-8ea7-375b821226d5\",\"type\":\"Cross\"},\"hover_glyph\":null,\"nonselection_glyph\":{\"id\":\"afa972be-7cef-449a-beef-51889d778ee2\",\"type\":\"Cross\"},\"selection_glyph\":null},\"id\":\"9117ab7a-68d6-47bd-a55d-062ebf3ae263\",\"type\":\"GlyphRenderer\"},{\"attributes\":{},\"id\":\"7962e069-6a11-4f2e-9ea0-57ce7da568e6\",\"type\":\"BasicTickFormatter\"},{\"attributes\":{\"plot\":{\"id\":\"441160dc-ef87-4957-8064-73ba0796e5e3\",\"subtype\":\"Figure\",\"type\":\"Plot\"}},\"id\":\"b9795373-87e7-4fec-884d-8e5108b00d72\",\"type\":\"WheelZoomTool\"},{\"attributes\":{\"label\":{\"value\":\"PR on train\"},\"renderers\":[{\"id\":\"6614bd39-145a-4352-bb4f-ac7d9f70a56f\",\"type\":\"GlyphRenderer\"}]},\"id\":\"a7f12708-df46-4ea9-bb6e-164a7c3d116d\",\"type\":\"LegendItem\"},{\"attributes\":{},\"id\":\"e53fe59c-cc3a-4b49-8f6b-77fe3c2f883b\",\"type\":\"BasicTickFormatter\"},{\"attributes\":{\"data_source\":{\"id\":\"7c520e22-460d-4290-89ca-ccd12cec6bbd\",\"type\":\"ColumnDataSource\"},\"glyph\":{\"id\":\"f4c8e225-8c64-4bbc-9857-c667fdcb20c1\",\"type\":\"Line\"},\"hover_glyph\":null,\"nonselection_glyph\":{\"id\":\"956a7d9e-d337-48ae-8b39-f903711e7b3b\",\"type\":\"Line\"},\"selection_glyph\":null},\"id\":\"a300ae96-3d72-4d94-924e-59296ee8fc39\",\"type\":\"GlyphRenderer\"},{\"attributes\":{\"callback\":null,\"column_names\":[\"x\",\"y\"],\"data\":{\"x\":{\"__ndarray__\":\"AAAAAAAA8D/xM0r8jBLvP64dmGsH5uo/Tm9605ve5D/bgbl2YK7dP2QhC1nIQsY/AAAAAAAAAAA=\",\"dtype\":\"float64\",\"shape\":[7]},\"y\":{\"__ndarray__\":\"sPiKr/iK7z+Ih4eHh4fvPwAAAAAAAPA/AAAAAAAA8D8AAAAAAADwPwAAAAAAAPA/AAAAAAAA8D8=\",\"dtype\":\"float64\",\"shape\":[7]}}},\"id\":\"e5e67c3b-2b84-4ea1-84a9-1b6649732012\",\"type\":\"ColumnDataSource\"},{\"attributes\":{\"line_alpha\":{\"value\":0.1},\"line_color\":{\"value\":\"#1f77b4\"},\"x\":{\"field\":\"x\"},\"y\":{\"field\":\"y\"}},\"id\":\"956a7d9e-d337-48ae-8b39-f903711e7b3b\",\"type\":\"Line\"},{\"attributes\":{\"data_source\":{\"id\":\"22eddd69-7f77-4118-8968-95261f1df936\",\"type\":\"ColumnDataSource\"},\"glyph\":{\"id\":\"c2080a50-1077-4cdc-8302-ad2f6da2b91a\",\"type\":\"Cross\"},\"hover_glyph\":null,\"nonselection_glyph\":{\"id\":\"70e5355e-d699-4a35-a816-2c5453ca0cc6\",\"type\":\"Cross\"},\"selection_glyph\":null},\"id\":\"7c5da651-8d3b-4472-abf3-fbf39fc652b0\",\"type\":\"GlyphRenderer\"},{\"attributes\":{\"line_color\":{\"value\":\"grey\"},\"x\":{\"field\":\"x\"},\"y\":{\"field\":\"y\"}},\"id\":\"f1a1276d-b974-4386-9847-3756044461a2\",\"type\":\"Line\"},{\"attributes\":{\"plot\":{\"id\":\"e988507c-ee90-4d69-8839-2b6e468d9e74\",\"subtype\":\"Figure\",\"type\":\"Plot\"},\"ticker\":{\"id\":\"a15b2339-6ac9-41f0-93df-8fec5d40f9d3\",\"type\":\"BasicTicker\"}},\"id\":\"b42b33bf-ac83-4f35-a3da-d0eb93a5aadc\",\"type\":\"Grid\"},{\"attributes\":{\"callback\":null,\"column_names\":[\"x\",\"y\"],\"data\":{\"x\":[0,1],\"y\":[0,1]}},\"id\":\"4fdb3355-75b5-415b-8636-314984754e67\",\"type\":\"ColumnDataSource\"},{\"attributes\":{\"data_source\":{\"id\":\"cc1e96fa-4677-485e-bd60-76952013a01c\",\"type\":\"ColumnDataSource\"},\"glyph\":{\"id\":\"eb6546e6-9834-4370-9cd8-434908775d7c\",\"type\":\"Circle\"},\"hover_glyph\":null,\"nonselection_glyph\":{\"id\":\"515c5541-722e-4b0b-926b-fbfb5404968d\",\"type\":\"Circle\"},\"selection_glyph\":null},\"id\":\"ae7e22a8-5f1d-42a6-a48a-8c951f6e4111\",\"type\":\"GlyphRenderer\"},{\"attributes\":{\"overlay\":{\"id\":\"2fc41cfb-939f-4793-b50f-03e06a04116a\",\"type\":\"BoxAnnotation\"},\"plot\":{\"id\":\"e988507c-ee90-4d69-8839-2b6e468d9e74\",\"subtype\":\"Figure\",\"type\":\"Plot\"}},\"id\":\"4cf62443-5d4e-4071-a1cd-5f454d70abbd\",\"type\":\"BoxZoomTool\"},{\"attributes\":{\"callback\":null,\"column_names\":[\"y\",\"x\"],\"data\":{\"x\":{\"__ndarray__\":\"AAAAAAAAAAAtaGsXn9dpPy1oaxef13k/Io6QUbdhgz8cIaNuwyaQPyKOkFG3YZM/KPt9NKuclj+lRAdDMf+kP158XmeA9bA/qrH0JSU6uD9F8mS/j2bFPwAAAAAAAPA/\",\"dtype\":\"float64\",\"shape\":[12]},\"y\":{\"__ndarray__\":\"AAAAAAAAAAAAAAAAAACgPwAAAAAAALA/AAAAAAAA1j8AAAAAAADgPwAAAAAAAOM/AAAAAAAA5D8AAAAAAADlPwAAAAAAAOc/AAAAAAAA6T8AAAAAAADtPwAAAAAAAPA/\",\"dtype\":\"float64\",\"shape\":[12]}}},\"id\":\"22eddd69-7f77-4118-8968-95261f1df936\",\"type\":\"ColumnDataSource\"},{\"attributes\":{},\"id\":\"a200be95-1c43-47cb-ae73-aa69ad6af530\",\"type\":\"BasicTicker\"},{\"attributes\":{},\"id\":\"7026dfb9-4dff-4d86-bc5a-9aae439ffc36\",\"type\":\"BasicTickFormatter\"},{\"attributes\":{\"line_alpha\":{\"value\":0.1},\"line_color\":{\"value\":\"#1f77b4\"},\"x\":{\"field\":\"x\"},\"y\":{\"field\":\"y\"}},\"id\":\"783d3c6c-bc7f-4c5e-b5db-80a6a2c2f183\",\"type\":\"Line\"},{\"attributes\":{\"label\":{\"value\":\"roc\"},\"renderers\":[{\"id\":\"a8538c94-127a-48e6-9c50-aa3fdf84b4ab\",\"type\":\"GlyphRenderer\"}]},\"id\":\"4850cd2b-1946-4daa-9bf1-0d0e101b283c\",\"type\":\"LegendItem\"},{\"attributes\":{\"plot\":{\"id\":\"441160dc-ef87-4957-8064-73ba0796e5e3\",\"subtype\":\"Figure\",\"type\":\"Plot\"}},\"id\":\"07a574fc-74c1-4baf-b1ed-0bd6cec0e57e\",\"type\":\"SaveTool\"},{\"attributes\":{\"dimension\":1,\"plot\":{\"id\":\"441160dc-ef87-4957-8064-73ba0796e5e3\",\"subtype\":\"Figure\",\"type\":\"Plot\"},\"ticker\":{\"id\":\"21c5499e-f2b9-472f-810a-0812c5f82132\",\"type\":\"BasicTicker\"}},\"id\":\"f66cb359-64ee-4953-84af-3a397ffb2a8a\",\"type\":\"Grid\"},{\"attributes\":{\"plot\":{\"id\":\"441160dc-ef87-4957-8064-73ba0796e5e3\",\"subtype\":\"Figure\",\"type\":\"Plot\"}},\"id\":\"c5b3c141-3f6d-4393-9b7e-d81aad2256d8\",\"type\":\"ResetTool\"},{\"attributes\":{},\"id\":\"21c5499e-f2b9-472f-810a-0812c5f82132\",\"type\":\"BasicTicker\"},{\"attributes\":{\"axis_label\":\"tpr\",\"formatter\":{\"id\":\"e53fe59c-cc3a-4b49-8f6b-77fe3c2f883b\",\"type\":\"BasicTickFormatter\"},\"plot\":{\"id\":\"e988507c-ee90-4d69-8839-2b6e468d9e74\",\"subtype\":\"Figure\",\"type\":\"Plot\"},\"ticker\":{\"id\":\"a15b2339-6ac9-41f0-93df-8fec5d40f9d3\",\"type\":\"BasicTicker\"}},\"id\":\"24e582de-d0be-4412-b8e4-55f8f0d76253\",\"type\":\"LinearAxis\"},{\"attributes\":{\"bottom_units\":\"screen\",\"fill_alpha\":{\"value\":0.5},\"fill_color\":{\"value\":\"lightgrey\"},\"left_units\":\"screen\",\"level\":\"overlay\",\"line_alpha\":{\"value\":1.0},\"line_color\":{\"value\":\"black\"},\"line_dash\":[4,4],\"line_width\":{\"value\":2},\"plot\":null,\"render_mode\":\"css\",\"right_units\":\"screen\",\"top_units\":\"screen\"},\"id\":\"2fc41cfb-939f-4793-b50f-03e06a04116a\",\"type\":\"BoxAnnotation\"},{\"attributes\":{\"plot\":{\"id\":\"441160dc-ef87-4957-8064-73ba0796e5e3\",\"subtype\":\"Figure\",\"type\":\"Plot\"},\"ticker\":{\"id\":\"a200be95-1c43-47cb-ae73-aa69ad6af530\",\"type\":\"BasicTicker\"}},\"id\":\"8533ff67-7543-4c0c-aca8-926d0fffc174\",\"type\":\"Grid\"},{\"attributes\":{\"plot\":{\"id\":\"e988507c-ee90-4d69-8839-2b6e468d9e74\",\"subtype\":\"Figure\",\"type\":\"Plot\"}},\"id\":\"26b5d842-1def-4965-9d58-96c611ec971d\",\"type\":\"WheelZoomTool\"}],\"root_ids\":[\"5bccb7da-7e0c-4b36-9445-c0e6bdf3b77e\"]},\"title\":\"Bokeh Application\",\"version\":\"0.12.4\"}};\n",
       "            var render_items = [{\"docid\":\"e200004b-047a-428e-96f9-c7dfffa9615b\",\"elementid\":\"00e00885-7ae3-417c-a149-8773bbbe1697\",\"modelid\":\"5bccb7da-7e0c-4b36-9445-c0e6bdf3b77e\"}];\n",
       "            \n",
       "            Bokeh.embed.embed_items(docs_json, render_items);\n",
       "          };\n",
       "          if (document.readyState != \"loading\") fn();\n",
       "          else document.addEventListener(\"DOMContentLoaded\", fn);\n",
       "        })();\n",
       "      },\n",
       "      function(Bokeh) {\n",
       "      }\n",
       "    ];\n",
       "  \n",
       "    function run_inline_js() {\n",
       "      \n",
       "      if ((window.Bokeh !== undefined) || (force === true)) {\n",
       "        for (var i = 0; i < inline_js.length; i++) {\n",
       "          inline_js[i](window.Bokeh);\n",
       "        }if (force === true) {\n",
       "          display_loaded();\n",
       "        }} else if (Date.now() < window._bokeh_timeout) {\n",
       "        setTimeout(run_inline_js, 100);\n",
       "      } else if (!window._bokeh_failed_load) {\n",
       "        console.log(\"Bokeh: BokehJS failed to load within specified timeout.\");\n",
       "        window._bokeh_failed_load = true;\n",
       "      } else if (force !== true) {\n",
       "        var cell = $(document.getElementById(\"00e00885-7ae3-417c-a149-8773bbbe1697\")).parents('.cell').data().cell;\n",
       "        cell.output_area.append_execute_result(NB_LOAD_WARNING)\n",
       "      }\n",
       "  \n",
       "    }\n",
       "  \n",
       "    if (window._bokeh_is_loading === 0) {\n",
       "      console.log(\"Bokeh: BokehJS loaded, going straight to plotting\");\n",
       "      run_inline_js();\n",
       "    } else {\n",
       "      load_libs(js_urls, function() {\n",
       "        console.log(\"Bokeh: BokehJS plotting callback run at\", now());\n",
       "        run_inline_js();\n",
       "      });\n",
       "    }\n",
       "  }(this));\n",
       "</script>"
      ]
     },
     "metadata": {},
     "output_type": "display_data"
    }
   ],
   "source": [
    "from bokeh.models.ranges import Range1d\n",
    "#print \"auc: %.2g, on train: %.2g\" %(roc_auc, roc_auc_train)\n",
    "roc_df = pd.DataFrame({\"fpr\":fpr,\"tpr\":tpr}).set_index(\"fpr\")\n",
    "pr_df = pd.DataFrame({\"precision\": precision, \"recall\":recall}).set_index(\"recall\")\n",
    "roc_df[\"diag\"] = roc_df.index\n",
    "pr_df[\"random\"] = pr_df.precision.iloc[0]\n",
    "\n",
    "# roc curve\n",
    "roc_f = figure(width=400,height=400,title=\"roc, auc: %.2g, on train: %.2g\"  %(roc_auc, roc_auc_train) )\n",
    "roc_f.xaxis.axis_label = \"tpr\"\n",
    "auc_range= Range1d(0,1)\n",
    "roc_f.x_range = auc_range \n",
    "roc_f.y_range = auc_range \n",
    "roc_f.yaxis.axis_label = \"fpr\"\n",
    "roc_f.cross(fpr,tpr,size=5)\n",
    "roc_f.line(fpr,tpr,legend=\"roc\")\n",
    "roc_f.circle(fpr_train,tpr_train,size=5,color=\"red\", line_width=1)\n",
    "roc_f.line(fpr_train,tpr_train,color=\"red\",legend=\"roc on train\")\n",
    "roc_f.line([0,1],[0,1], color=\"grey\")\n",
    "\n",
    "# pr curve\n",
    "pr_f = figure(width=400,height=400,title=\"PR curve\")\n",
    "pr_f.xaxis.axis_label = \"recall\"\n",
    "pr_f.yaxis.axis_label = \"precision\"\n",
    "pr_f.cross(recall,precision,size=5)\n",
    "pr_f.line(recall,precision,legend=\"PR\")\n",
    "pr_f.circle(recall_train,precision_train,size=5,color=\"red\", line_width=1)\n",
    "pr_f.line(recall_train,precision_train,color=\"red\",legend=\"PR on train\")\n",
    "\n",
    "show(row(\n",
    "    pr_f,\n",
    "    roc_f\n",
    "))"
   ]
  },
  {
   "cell_type": "markdown",
   "metadata": {},
   "source": [
    "### Feature Importance"
   ]
  },
  {
   "cell_type": "code",
   "execution_count": 15,
   "metadata": {
    "collapsed": false
   },
   "outputs": [
    {
     "data": {
      "text/html": [
       "<div>\n",
       "<table border=\"1\" class=\"dataframe\">\n",
       "  <thead>\n",
       "    <tr style=\"text-align: right;\">\n",
       "      <th></th>\n",
       "      <th>importance</th>\n",
       "    </tr>\n",
       "  </thead>\n",
       "  <tbody>\n",
       "    <tr>\n",
       "      <th>mean_attribute4</th>\n",
       "      <td>0.123525</td>\n",
       "    </tr>\n",
       "    <tr>\n",
       "      <th>dft_p0_indattribute4</th>\n",
       "      <td>0.088753</td>\n",
       "    </tr>\n",
       "    <tr>\n",
       "      <th>max_attribute7</th>\n",
       "      <td>0.065422</td>\n",
       "    </tr>\n",
       "    <tr>\n",
       "      <th>max_attribute4</th>\n",
       "      <td>0.061774</td>\n",
       "    </tr>\n",
       "    <tr>\n",
       "      <th>mean_attribute7</th>\n",
       "      <td>0.060553</td>\n",
       "    </tr>\n",
       "    <tr>\n",
       "      <th>dft_p0_indattribute9</th>\n",
       "      <td>0.060123</td>\n",
       "    </tr>\n",
       "    <tr>\n",
       "      <th>dft_p0_valattribute6</th>\n",
       "      <td>0.049080</td>\n",
       "    </tr>\n",
       "    <tr>\n",
       "      <th>max_attribute6</th>\n",
       "      <td>0.045222</td>\n",
       "    </tr>\n",
       "    <tr>\n",
       "      <th>max_dt2_attribute2</th>\n",
       "      <td>0.044720</td>\n",
       "    </tr>\n",
       "    <tr>\n",
       "      <th>dft_p0_valattribute7</th>\n",
       "      <td>0.035299</td>\n",
       "    </tr>\n",
       "    <tr>\n",
       "      <th>mean_attribute9</th>\n",
       "      <td>0.035256</td>\n",
       "    </tr>\n",
       "    <tr>\n",
       "      <th>dft_p0_valattribute9</th>\n",
       "      <td>0.032261</td>\n",
       "    </tr>\n",
       "    <tr>\n",
       "      <th>max_dt_attribute2</th>\n",
       "      <td>0.029567</td>\n",
       "    </tr>\n",
       "    <tr>\n",
       "      <th>mean_attribute8</th>\n",
       "      <td>0.029286</td>\n",
       "    </tr>\n",
       "    <tr>\n",
       "      <th>dft_p0_valattribute4</th>\n",
       "      <td>0.028495</td>\n",
       "    </tr>\n",
       "    <tr>\n",
       "      <th>max_attribute9</th>\n",
       "      <td>0.026590</td>\n",
       "    </tr>\n",
       "    <tr>\n",
       "      <th>dft_p0_indattribute7</th>\n",
       "      <td>0.025900</td>\n",
       "    </tr>\n",
       "    <tr>\n",
       "      <th>mean_dt_attribute2</th>\n",
       "      <td>0.024755</td>\n",
       "    </tr>\n",
       "    <tr>\n",
       "      <th>dft_p0_indattribute6</th>\n",
       "      <td>0.023984</td>\n",
       "    </tr>\n",
       "    <tr>\n",
       "      <th>max_attribute2</th>\n",
       "      <td>0.021587</td>\n",
       "    </tr>\n",
       "    <tr>\n",
       "      <th>mean_dt2_attribute2</th>\n",
       "      <td>0.017985</td>\n",
       "    </tr>\n",
       "    <tr>\n",
       "      <th>mean_attribute2</th>\n",
       "      <td>0.017073</td>\n",
       "    </tr>\n",
       "    <tr>\n",
       "      <th>mean_attribute6</th>\n",
       "      <td>0.016264</td>\n",
       "    </tr>\n",
       "    <tr>\n",
       "      <th>max_attribute5</th>\n",
       "      <td>0.015103</td>\n",
       "    </tr>\n",
       "    <tr>\n",
       "      <th>max_attribute8</th>\n",
       "      <td>0.014284</td>\n",
       "    </tr>\n",
       "    <tr>\n",
       "      <th>mean_attribute5</th>\n",
       "      <td>0.007138</td>\n",
       "    </tr>\n",
       "    <tr>\n",
       "      <th>dft_p0_indattribute5</th>\n",
       "      <td>0.000000</td>\n",
       "    </tr>\n",
       "    <tr>\n",
       "      <th>dft_p0_valattribute5</th>\n",
       "      <td>0.000000</td>\n",
       "    </tr>\n",
       "  </tbody>\n",
       "</table>\n",
       "</div>"
      ],
      "text/plain": [
       "                      importance\n",
       "mean_attribute4         0.123525\n",
       "dft_p0_indattribute4    0.088753\n",
       "max_attribute7          0.065422\n",
       "max_attribute4          0.061774\n",
       "mean_attribute7         0.060553\n",
       "dft_p0_indattribute9    0.060123\n",
       "dft_p0_valattribute6    0.049080\n",
       "max_attribute6          0.045222\n",
       "max_dt2_attribute2      0.044720\n",
       "dft_p0_valattribute7    0.035299\n",
       "mean_attribute9         0.035256\n",
       "dft_p0_valattribute9    0.032261\n",
       "max_dt_attribute2       0.029567\n",
       "mean_attribute8         0.029286\n",
       "dft_p0_valattribute4    0.028495\n",
       "max_attribute9          0.026590\n",
       "dft_p0_indattribute7    0.025900\n",
       "mean_dt_attribute2      0.024755\n",
       "dft_p0_indattribute6    0.023984\n",
       "max_attribute2          0.021587\n",
       "mean_dt2_attribute2     0.017985\n",
       "mean_attribute2         0.017073\n",
       "mean_attribute6         0.016264\n",
       "max_attribute5          0.015103\n",
       "max_attribute8          0.014284\n",
       "mean_attribute5         0.007138\n",
       "dft_p0_indattribute5    0.000000\n",
       "dft_p0_valattribute5    0.000000"
      ]
     },
     "execution_count": 15,
     "metadata": {},
     "output_type": "execute_result"
    }
   ],
   "source": [
    "feature_imp = pd.DataFrame({\"importance\":model.feature_importances_}).set_index(feature_set.columns)\n",
    "feature_imp.sort_values(by=\"importance\",ascending=False)"
   ]
  },
  {
   "cell_type": "markdown",
   "metadata": {},
   "source": [
    "### Hyperparameter optimisation\n",
    "\n",
    "\n"
   ]
  },
  {
   "cell_type": "code",
   "execution_count": 16,
   "metadata": {
    "collapsed": false
   },
   "outputs": [],
   "source": [
    "# model : GradientBoostingClassifier, parameters: \n",
    "#loss : {‘deviance’, ‘exponential’},\n",
    "#learning_rate : float, optional (default=0.1)\n",
    "#n_estimators : int (default=100)\n",
    "#max_depth : integer, optional (default=3)\n",
    "#min_samples_split : int, float, optional (default=2)\n",
    "grids=dict()\n",
    "XDB_param_grid = {\n",
    "    #\"model__loss\":  [\"deviance\", 'exponential'],\n",
    "    \"model__learning_rate\" : [1e-3,0.01, 0.1],\n",
    "    \"model__n_estimators\" : [10, 50, 100, 150],\n",
    "    \"model__max_depth\" : [5,10,15],\n",
    "    \"model__min_samples_split\" : [5,10,20]\n",
    "}\n",
    "grids[GradientBoostingClassifier] = XDB_param_grid"
   ]
  },
  {
   "cell_type": "code",
   "execution_count": 17,
   "metadata": {
    "collapsed": true
   },
   "outputs": [],
   "source": [
    "# model : RandomForestClassifier, parameters: \n",
    "# n_estimators : int (default=100)\n",
    "# criterion : \"gini\",\"entropy\"\n",
    "# max_features : auto , fraction\n",
    "# max_depth : integer, optional (default=3)\n",
    "# min_samples_split : int, float, optional (default=2)\n",
    "\n",
    "RF_param_grid = {\n",
    "    #\"model__criterion\":  [\"gini\", \"entropy\"],\n",
    "    \"model__n_estimators\" : [75,100,150,200],\n",
    "    #\"model__max_features\" : [\"auto\",0.5,0.25,0.1],\n",
    "    \"model__max_depth\" : [2,5,10,20],\n",
    "    \"model__min_samples_split\" : [5,10,20]\n",
    "}\n",
    "grids[RandomForestClassifier] = RF_param_grid"
   ]
  },
  {
   "cell_type": "code",
   "execution_count": 18,
   "metadata": {
    "collapsed": true
   },
   "outputs": [],
   "source": [
    "# C :penalty\n",
    "# kernel : ‘linear’, ‘poly’, ‘rbf’, ‘sigmoid’, ‘precomputed’ \n",
    "SVC_param_grid = {\n",
    "   'model__C': [1e-7,1e-6,1e-5,0.1],\n",
    "    \"model__kernel\": [\"rbf\",\"linear\"],\n",
    "    #\"model_degree\" : [1,3,5], # polynomial degrees\n",
    "    \"model__gamma\" : [\"auto\"], # kernel coef (rbf)\n",
    "    #\"coef0\" # for poly, signmoid\n",
    "    \"model__tol\" : [1e-7,1e-6,1e-5, 1e-4,1e-3]\n",
    "}\n",
    "grids[SVC] = SVC_param_grid"
   ]
  },
  {
   "cell_type": "code",
   "execution_count": 19,
   "metadata": {
    "collapsed": false
   },
   "outputs": [
    {
     "name": "stdout",
     "output_type": "stream",
     "text": [
      "Fitting 6 folds for each of 48 candidates, totalling 288 fits\n"
     ]
    },
    {
     "name": "stderr",
     "output_type": "stream",
     "text": [
      "[Parallel(n_jobs=-1)]: Done  34 tasks      | elapsed:    4.7s\n",
      "[Parallel(n_jobs=-1)]: Done 184 tasks      | elapsed:   33.1s\n",
      "[Parallel(n_jobs=-1)]: Done 288 out of 288 | elapsed:   55.4s finished\n"
     ]
    },
    {
     "name": "stdout",
     "output_type": "stream",
     "text": [
      "Best: 0.941531 using {'model__min_samples_split': 5, 'model__max_depth': 10, 'model__n_estimators': 100}\n"
     ]
    }
   ],
   "source": [
    "m  = type(dict(pipeline.steps)[\"model\"])\n",
    "param_grid=grids[m]\n",
    "\n",
    "from sklearn.model_selection import GridSearchCV\n",
    "from sklearn.model_selection import StratifiedKFold\n",
    "\n",
    "kfold = StratifiedKFold(n_splits=6, shuffle=True)\n",
    "grid_search = GridSearchCV(pipeline, param_grid, scoring=\"accuracy\", n_jobs=-1, verbose=1,cv=kfold)\n",
    "grid_result = grid_search.fit(feature_mat,label_mat)\n",
    "\n",
    "\n",
    "# summarize results\n",
    "print(\"Best: %f using %s\" % (grid_result.best_score_, grid_result.best_params_))\n",
    "means = grid_result.cv_results_['mean_test_score']\n",
    "stds = grid_result.cv_results_['std_test_score']\n",
    "params = grid_result.cv_results_['params']\n",
    "#for mean, stdev, param in zip(means, stds, params):\n",
    "#    print(\"%f (%f) with: %r\" % (mean, stdev, param))"
   ]
  },
  {
   "cell_type": "code",
   "execution_count": null,
   "metadata": {
    "collapsed": true
   },
   "outputs": [],
   "source": [
    "pipeline.get_params()"
   ]
  },
  {
   "cell_type": "code",
   "execution_count": 28,
   "metadata": {
    "collapsed": false
   },
   "outputs": [
    {
     "name": "stderr",
     "output_type": "stream",
     "text": [
      "          n Progress:   5%|▍         | 100/2100 [03:17<57:09,  1.71s/pipeline]n Progress:   0%|          | 3/2100 [00:06<1:13:39,  2.11s/pipeline]                    Optimization Progress:   5%|▍         | 100/2100 [03:17<57:09,  1.71s/pipeline]                    Optimization Progress:   5%|▍         | 100/2100 [03:17<57:09,  1.71s/pipeline]"
     ]
    },
    {
     "name": "stdout",
     "output_type": "stream",
     "text": [
      "Generation 1 - Current Pareto front scores:\n",
      "1\t0.956155658578\tXGBClassifier(input_matrix, 23, 4, 12.0, 0.93000000000000005)\n",
      "2\t0.960460098824\tGradientBoostingClassifier(MultinomialNB(input_matrix, 0.029999999999999999), 0.29999999999999999, 0.76000000000000001)\n",
      "\n"
     ]
    },
    {
     "name": "stderr",
     "output_type": "stream",
     "text": [
      "          n Progress:   9%|▉         | 190/2100 [08:43<2:33:29,  4.82s/pipeline]imization Progress:   5%|▍         | 102/2100 [03:20<52:40,  1.58s/pipeline]                    Optimization Progress:   9%|▉         | 190/2100 [08:43<2:33:29,  4.82s/pipeline]                    Optimization Progress:   9%|▉         | 190/2100 [08:43<2:33:29,  4.82s/pipeline]"
     ]
    },
    {
     "name": "stdout",
     "output_type": "stream",
     "text": [
      "Generation 2 - Current Pareto front scores:\n",
      "1\t0.957867987345\tXGBClassifier(input_matrix, 23, 4, 0.16, 0.93000000000000005)\n",
      "2\t0.960460098824\tGradientBoostingClassifier(MultinomialNB(input_matrix, 0.029999999999999999), 0.29999999999999999, 0.76000000000000001)\n",
      "\n"
     ]
    },
    {
     "name": "stderr",
     "output_type": "stream",
     "text": [
      "          n Progress:  14%|█▍        | 297/2100 [11:07<42:03,  1.40s/pipeline] Optimization Progress:  10%|▉         | 202/2100 [08:44<1:22:10,  2.60s/pipeline]                    Optimization Progress:  14%|█▍        | 297/2100 [11:07<42:03,  1.40s/pipeline]                    Optimization Progress:  14%|█▍        | 297/2100 [11:07<42:03,  1.40s/pipeline]"
     ]
    },
    {
     "name": "stdout",
     "output_type": "stream",
     "text": [
      "Generation 3 - Current Pareto front scores:\n",
      "1\t0.95960393444\tXGBClassifier(input_matrix, 23, 4, 0.33000000000000002, 0.93000000000000005)\n",
      "2\t0.960460098824\tGradientBoostingClassifier(MultinomialNB(input_matrix, 0.029999999999999999), 0.29999999999999999, 0.76000000000000001)\n",
      "\n"
     ]
    },
    {
     "name": "stderr",
     "output_type": "stream",
     "text": [
      "Optimization Progress:  19%|█▉        | 394/2100 [12:36<26:28,  1.07pipeline/s]timization Progress:  14%|█▍        | 302/2100 [11:09<28:34,  1.05pipeline/s]                    Optimization Progress:  19%|█▉        | 394/2100 [12:36<26:28,  1.07pipeline/s]                    Optimization Progress:  19%|█▉        | 394/2100 [12:36<26:28,  1.07pipeline/s]          "
     ]
    },
    {
     "name": "stdout",
     "output_type": "stream",
     "text": [
      "Generation 4 - Current Pareto front scores:\n",
      "1\t0.95960393444\tXGBClassifier(input_matrix, 23, 4, 0.33000000000000002, 0.93000000000000005)\n",
      "2\t0.960460098824\tGradientBoostingClassifier(MultinomialNB(input_matrix, 0.029999999999999999), 0.29999999999999999, 0.76000000000000001)\n",
      "3\t0.960468965842\tGradientBoostingClassifier(XGBClassifier(GaussianNB(input_matrix), 39, 0, 0.65000000000000002, 47.0), 0.58999999999999997, 0.37)\n",
      "\n"
     ]
    },
    {
     "name": "stderr",
     "output_type": "stream",
     "text": [
      "          n Progress:  23%|██▎       | 487/2100 [13:40<15:45,  1.71pipeline/s] timization Progress:  19%|█▉        | 403/2100 [12:37<18:01,  1.57pipeline/s]                    Optimization Progress:  23%|██▎       | 487/2100 [13:40<15:45,  1.71pipeline/s]                    Optimization Progress:  23%|██▎       | 487/2100 [13:40<15:45,  1.71pipeline/s]"
     ]
    },
    {
     "name": "stdout",
     "output_type": "stream",
     "text": [
      "Generation 5 - Current Pareto front scores:\n",
      "1\t0.95960393444\tXGBClassifier(input_matrix, 23, 4, 0.33000000000000002, 0.93000000000000005)\n",
      "2\t0.96303153412\tGradientBoostingClassifier(XGBClassifier(input_matrix, 39, 0, 0.65000000000000002, 47.0), 0.58999999999999997, 0.37)\n",
      "\n"
     ]
    },
    {
     "name": "stderr",
     "output_type": "stream",
     "text": [
      "          n Progress:  28%|██▊       | 593/2100 [15:25<19:04,  1.32pipeline/s] timization Progress:  24%|██▍       | 502/2100 [13:41<12:14,  2.18pipeline/s]                    Optimization Progress:  28%|██▊       | 593/2100 [15:25<19:04,  1.32pipeline/s]                    Optimization Progress:  28%|██▊       | 593/2100 [15:25<19:04,  1.32pipeline/s]"
     ]
    },
    {
     "name": "stdout",
     "output_type": "stream",
     "text": [
      "Generation 6 - Current Pareto front scores:\n",
      "1\t0.959606876586\tXGBClassifier(input_matrix, 23, 4, 0.62, 0.93000000000000005)\n",
      "2\t0.96303153412\tGradientBoostingClassifier(XGBClassifier(input_matrix, 39, 0, 0.65000000000000002, 47.0), 0.58999999999999997, 0.37)\n",
      "\n"
     ]
    },
    {
     "name": "stderr",
     "output_type": "stream",
     "text": [
      "          n Progress:  33%|███▎      | 690/2100 [16:38<16:15,  1.45pipeline/s] timization Progress:  29%|██▊       | 602/2100 [15:26<14:13,  1.76pipeline/s]                    Optimization Progress:  33%|███▎      | 690/2100 [16:38<16:15,  1.45pipeline/s]                    Optimization Progress:  33%|███▎      | 690/2100 [16:38<16:15,  1.45pipeline/s]"
     ]
    },
    {
     "name": "stdout",
     "output_type": "stream",
     "text": [
      "Generation 7 - Current Pareto front scores:\n",
      "1\t0.963028571684\tXGBClassifier(input_matrix, 23, 4, 0.94000000000000006, 0.93000000000000005)\n",
      "2\t0.96303153412\tGradientBoostingClassifier(XGBClassifier(input_matrix, 39, 0, 0.65000000000000002, 47.0), 0.58999999999999997, 0.37)\n",
      "\n"
     ]
    },
    {
     "name": "stderr",
     "output_type": "stream",
     "text": [
      "          n Progress:  38%|███▊      | 790/2100 [18:19<21:02,  1.04pipeline/s] timization Progress:  33%|███▎      | 702/2100 [16:39<14:25,  1.62pipeline/s]                    Optimization Progress:  38%|███▊      | 790/2100 [18:19<21:02,  1.04pipeline/s]                    Optimization Progress:  38%|███▊      | 790/2100 [18:19<21:02,  1.04pipeline/s]"
     ]
    },
    {
     "name": "stdout",
     "output_type": "stream",
     "text": [
      "Generation 8 - Current Pareto front scores:\n",
      "1\t0.963028571684\tXGBClassifier(input_matrix, 23, 4, 0.94000000000000006, 0.93000000000000005)\n",
      "2\t0.96303153412\tGradientBoostingClassifier(XGBClassifier(input_matrix, 39, 0, 0.65000000000000002, 47.0), 0.58999999999999997, 0.37)\n",
      "\n"
     ]
    },
    {
     "name": "stderr",
     "output_type": "stream",
     "text": [
      "          n Progress:  42%|████▏     | 890/2100 [19:59<1:01:35,  3.05s/pipeline]imization Progress:  38%|███▊      | 802/2100 [18:21<16:08,  1.34pipeline/s]                    Optimization Progress:  42%|████▏     | 890/2100 [19:59<1:01:35,  3.05s/pipeline]                    Optimization Progress:  42%|████▏     | 890/2100 [19:59<1:01:35,  3.05s/pipeline]"
     ]
    },
    {
     "name": "stdout",
     "output_type": "stream",
     "text": [
      "Generation 9 - Current Pareto front scores:\n",
      "1\t0.963028571684\tXGBClassifier(input_matrix, 23, 4, 0.94000000000000006, 0.93000000000000005)\n",
      "2\t0.963043343284\tGradientBoostingClassifier(XGBClassifier(input_matrix, 39, 0, 0.65000000000000002, 0.91000000000000003), 0.80000000000000004, 0.070000000000000007)\n",
      "\n"
     ]
    },
    {
     "name": "stderr",
     "output_type": "stream",
     "text": [
      "          n Progress:  47%|████▋     | 991/2100 [21:03<09:17,  1.99pipeline/s] Optimization Progress:  43%|████▎     | 902/2100 [20:01<32:44,  1.64s/pipeline]                    Optimization Progress:  47%|████▋     | 991/2100 [21:03<09:17,  1.99pipeline/s]                    Optimization Progress:  47%|████▋     | 991/2100 [21:03<09:17,  1.99pipeline/s]"
     ]
    },
    {
     "name": "stdout",
     "output_type": "stream",
     "text": [
      "Generation 10 - Current Pareto front scores:\n",
      "1\t0.963028571684\tXGBClassifier(input_matrix, 23, 4, 0.94000000000000006, 0.93000000000000005)\n",
      "2\t0.963043343284\tGradientBoostingClassifier(XGBClassifier(input_matrix, 39, 0, 0.65000000000000002, 0.91000000000000003), 0.80000000000000004, 0.070000000000000007)\n",
      "\n"
     ]
    },
    {
     "name": "stderr",
     "output_type": "stream",
     "text": [
      "          n Progress:  52%|█████▏    | 1092/2100 [22:10<07:04,  2.37pipeline/s] timization Progress:  48%|████▊     | 1002/2100 [21:05<07:12,  2.54pipeline/s]                    Optimization Progress:  52%|█████▏    | 1092/2100 [22:10<07:04,  2.37pipeline/s]                    Optimization Progress:  52%|█████▏    | 1092/2100 [22:10<07:04,  2.37pipeline/s]"
     ]
    },
    {
     "name": "stdout",
     "output_type": "stream",
     "text": [
      "Generation 11 - Current Pareto front scores:\n",
      "1\t0.963028571684\tXGBClassifier(input_matrix, 23, 4, 0.94000000000000006, 0.93000000000000005)\n",
      "2\t0.963881793922\tGradientBoostingClassifier(XGBClassifier(input_matrix, 39, 0, 0.65000000000000002, 0.87), 0.80000000000000004, 0.070000000000000007)\n",
      "\n"
     ]
    },
    {
     "name": "stderr",
     "output_type": "stream",
     "text": [
      "Optimization Progress:  57%|█████▋    | 1187/2100 [23:30<09:19,  1.63pipeline/s]timization Progress:  52%|█████▏    | 1102/2100 [22:13<12:46,  1.30pipeline/s]                    Optimization Progress:  57%|█████▋    | 1187/2100 [23:30<09:19,  1.63pipeline/s]                    Optimization Progress:  57%|█████▋    | 1187/2100 [23:30<09:19,  1.63pipeline/s]          "
     ]
    },
    {
     "name": "stdout",
     "output_type": "stream",
     "text": [
      "Generation 12 - Current Pareto front scores:\n",
      "1\t0.963028571684\tXGBClassifier(input_matrix, 23, 4, 0.94000000000000006, 0.93000000000000005)\n",
      "2\t0.963881793922\tGradientBoostingClassifier(XGBClassifier(input_matrix, 39, 0, 0.65000000000000002, 0.87), 0.80000000000000004, 0.070000000000000007)\n",
      "3\t0.964740920741\tXGBClassifier(CombineDFs(VarianceThreshold(input_matrix, 100.0), LinearSVC(input_matrix, 0.78000000000000003, 8, True)), 23, 4, 0.94000000000000006, 0.93000000000000005)\n",
      "\n"
     ]
    },
    {
     "name": "stderr",
     "output_type": "stream",
     "text": [
      "Optimization Progress:  61%|██████▏   | 1289/2100 [24:37<05:40,  2.38pipeline/s]timization Progress:  57%|█████▋    | 1202/2100 [23:31<08:15,  1.81pipeline/s]                    Optimization Progress:  61%|██████▏   | 1289/2100 [24:37<05:40,  2.38pipeline/s]                    Optimization Progress:  61%|██████▏   | 1289/2100 [24:37<05:40,  2.38pipeline/s]          "
     ]
    },
    {
     "name": "stdout",
     "output_type": "stream",
     "text": [
      "Generation 13 - Current Pareto front scores:\n",
      "1\t0.963028571684\tXGBClassifier(input_matrix, 23, 4, 0.94000000000000006, 0.93000000000000005)\n",
      "2\t0.963881793922\tGradientBoostingClassifier(XGBClassifier(input_matrix, 39, 0, 0.65000000000000002, 0.87), 0.80000000000000004, 0.070000000000000007)\n",
      "3\t0.964740920741\tXGBClassifier(CombineDFs(VarianceThreshold(input_matrix, 100.0), LinearSVC(input_matrix, 0.78000000000000003, 8, True)), 23, 4, 0.94000000000000006, 0.93000000000000005)\n",
      "\n"
     ]
    },
    {
     "name": "stderr",
     "output_type": "stream",
     "text": [
      "Optimization Progress:  66%|██████▋   | 1395/2100 [26:03<07:48,  1.51pipeline/s]timization Progress:  62%|██████▏   | 1302/2100 [24:38<04:52,  2.73pipeline/s]                    Optimization Progress:  66%|██████▋   | 1395/2100 [26:03<07:48,  1.51pipeline/s]                    Optimization Progress:  66%|██████▋   | 1395/2100 [26:03<07:48,  1.51pipeline/s]          "
     ]
    },
    {
     "name": "stdout",
     "output_type": "stream",
     "text": [
      "Generation 14 - Current Pareto front scores:\n",
      "1\t0.963028571684\tXGBClassifier(input_matrix, 23, 4, 0.94000000000000006, 0.93000000000000005)\n",
      "2\t0.963881814212\tXGBClassifier(CombineDFs(input_matrix, LinearSVC(input_matrix, 0.78000000000000003, 8, True)), 23, 4, 0.94000000000000006, 0.93000000000000005)\n",
      "3\t0.964740920741\tXGBClassifier(CombineDFs(VarianceThreshold(input_matrix, 100.0), LinearSVC(input_matrix, 0.78000000000000003, 8, True)), 23, 4, 0.94000000000000006, 0.93000000000000005)\n",
      "\n"
     ]
    },
    {
     "name": "stderr",
     "output_type": "stream",
     "text": [
      "Optimization Progress:  71%|███████   | 1489/2100 [27:49<04:53,  2.08pipeline/s]timization Progress:  67%|██████▋   | 1402/2100 [26:04<05:49,  1.99pipeline/s]                    Optimization Progress:  71%|███████   | 1489/2100 [27:49<04:53,  2.08pipeline/s]                    Optimization Progress:  71%|███████   | 1489/2100 [27:49<04:53,  2.08pipeline/s]          "
     ]
    },
    {
     "name": "stdout",
     "output_type": "stream",
     "text": [
      "Generation 15 - Current Pareto front scores:\n",
      "1\t0.963028571684\tXGBClassifier(input_matrix, 23, 4, 0.94000000000000006, 0.93000000000000005)\n",
      "2\t0.963881814212\tXGBClassifier(CombineDFs(input_matrix, LinearSVC(input_matrix, 0.78000000000000003, 8, True)), 23, 4, 0.94000000000000006, 0.93000000000000005)\n",
      "3\t0.964740920741\tXGBClassifier(CombineDFs(VarianceThreshold(input_matrix, 100.0), LinearSVC(input_matrix, 0.78000000000000003, 8, True)), 23, 4, 0.94000000000000006, 0.93000000000000005)\n",
      "\n"
     ]
    },
    {
     "name": "stderr",
     "output_type": "stream",
     "text": [
      "Optimization Progress:  75%|███████▌  | 1585/2100 [29:07<03:57,  2.17pipeline/s]timization Progress:  72%|███████▏  | 1502/2100 [27:53<07:46,  1.28pipeline/s]                    Optimization Progress:  75%|███████▌  | 1585/2100 [29:07<03:57,  2.17pipeline/s]                    Optimization Progress:  75%|███████▌  | 1585/2100 [29:07<03:57,  2.17pipeline/s]          "
     ]
    },
    {
     "name": "stdout",
     "output_type": "stream",
     "text": [
      "Generation 16 - Current Pareto front scores:\n",
      "1\t0.963028571684\tXGBClassifier(input_matrix, 23, 4, 0.94000000000000006, 0.93000000000000005)\n",
      "2\t0.963881814212\tXGBClassifier(CombineDFs(input_matrix, LinearSVC(input_matrix, 0.78000000000000003, 8, True)), 23, 4, 0.94000000000000006, 0.93000000000000005)\n",
      "3\t0.964740920741\tXGBClassifier(CombineDFs(VarianceThreshold(input_matrix, 100.0), LinearSVC(input_matrix, 0.78000000000000003, 8, True)), 23, 4, 0.94000000000000006, 0.93000000000000005)\n",
      "\n"
     ]
    },
    {
     "name": "stderr",
     "output_type": "stream",
     "text": [
      "Optimization Progress:  81%|████████  | 1694/2100 [31:03<06:11,  1.09pipeline/s]timization Progress:  76%|███████▋  | 1602/2100 [29:09<03:10,  2.61pipeline/s]                    Optimization Progress:  81%|████████  | 1694/2100 [31:03<06:11,  1.09pipeline/s]                    Optimization Progress:  81%|████████  | 1694/2100 [31:03<06:11,  1.09pipeline/s]          "
     ]
    },
    {
     "name": "stdout",
     "output_type": "stream",
     "text": [
      "Generation 17 - Current Pareto front scores:\n",
      "1\t0.963028571684\tXGBClassifier(input_matrix, 23, 4, 0.94000000000000006, 0.93000000000000005)\n",
      "2\t0.963881814212\tXGBClassifier(CombineDFs(input_matrix, LinearSVC(input_matrix, 0.78000000000000003, 8, True)), 23, 4, 0.94000000000000006, 0.93000000000000005)\n",
      "3\t0.964740920741\tXGBClassifier(CombineDFs(VarianceThreshold(input_matrix, 100.0), LinearSVC(input_matrix, 0.78000000000000003, 8, True)), 23, 4, 0.94000000000000006, 0.93000000000000005)\n",
      "\n"
     ]
    },
    {
     "name": "stderr",
     "output_type": "stream",
     "text": [
      "          n Progress:  85%|████████▌ | 1795/2100 [33:37<06:33,  1.29s/pipeline]ptimization Progress:  81%|████████  | 1702/2100 [31:11<16:19,  2.46s/pipeline]                    Optimization Progress:  85%|████████▌ | 1795/2100 [33:37<06:33,  1.29s/pipeline]                    Optimization Progress:  85%|████████▌ | 1795/2100 [33:37<06:33,  1.29s/pipeline]"
     ]
    },
    {
     "name": "stdout",
     "output_type": "stream",
     "text": [
      "Generation 18 - Current Pareto front scores:\n",
      "1\t0.963028571684\tXGBClassifier(input_matrix, 23, 4, 0.94000000000000006, 0.93000000000000005)\n",
      "2\t0.964740920741\tXGBClassifier(CombineDFs(input_matrix, LinearSVC(input_matrix, 0.17999999999999999, 8, True)), 23, 4, 0.94000000000000006, 0.93000000000000005)\n",
      "\n"
     ]
    },
    {
     "name": "stderr",
     "output_type": "stream",
     "text": [
      "          n Progress:  90%|████████▉ | 1889/2100 [36:02<04:04,  1.16s/pipeline]ptimization Progress:  86%|████████▌ | 1802/2100 [33:40<04:39,  1.07pipeline/s]                    Optimization Progress:  90%|████████▉ | 1889/2100 [36:02<04:04,  1.16s/pipeline]                    Optimization Progress:  90%|████████▉ | 1889/2100 [36:02<04:04,  1.16s/pipeline]"
     ]
    },
    {
     "name": "stdout",
     "output_type": "stream",
     "text": [
      "Generation 19 - Current Pareto front scores:\n",
      "1\t0.963028571684\tXGBClassifier(input_matrix, 23, 4, 0.94000000000000006, 0.93000000000000005)\n",
      "2\t0.964740920741\tXGBClassifier(CombineDFs(input_matrix, LinearSVC(input_matrix, 0.17999999999999999, 8, True)), 23, 4, 0.94000000000000006, 0.93000000000000005)\n",
      "\n"
     ]
    },
    {
     "name": "stderr",
     "output_type": "stream",
     "text": [
      "          n Progress:  95%|█████████▍| 1991/2100 [37:03<00:44,  2.45pipeline/s]ptimization Progress:  91%|█████████ | 1902/2100 [36:04<03:53,  1.18s/pipeline]                    Optimization Progress:  95%|█████████▍| 1991/2100 [37:03<00:44,  2.45pipeline/s]                    Optimization Progress:  95%|█████████▍| 1991/2100 [37:03<00:44,  2.45pipeline/s]"
     ]
    },
    {
     "name": "stdout",
     "output_type": "stream",
     "text": [
      "Generation 20 - Current Pareto front scores:\n",
      "1\t0.963028571684\tXGBClassifier(input_matrix, 23, 4, 0.94000000000000006, 0.93000000000000005)\n",
      "2\t0.964740920741\tXGBClassifier(CombineDFs(input_matrix, LinearSVC(input_matrix, 0.17999999999999999, 8, True)), 23, 4, 0.94000000000000006, 0.93000000000000005)\n",
      "\n"
     ]
    },
    {
     "name": "stderr",
     "output_type": "stream",
     "text": [
      "                                                                                Optimization Progress:  95%|█████████▌| 2002/2100 [37:05<00:57,  1.70pipeline/s]"
     ]
    },
    {
     "name": "stdout",
     "output_type": "stream",
     "text": [
      "1.0\n"
     ]
    }
   ],
   "source": [
    "from tpot import TPOTClassifier\n",
    "pipeline_optimizer = TPOTClassifier(\n",
    "    generations=20, # the more generatiion, the more optimized you get\n",
    "    population_size=100,\n",
    "    num_cv_folds=4,\n",
    "    scoring=\"accuracy\",\n",
    "    random_state=42,\n",
    "    verbosity=3)\n",
    "\n",
    "pipeline_optimizer.fit(feature_mat, label_mat)\n",
    "print pipeline_optimizer.score(feature_mat, label_mat)\n",
    "pipeline_optimizer.export('tpot_longrun_exported_pipeline.py')"
   ]
  },
  {
   "cell_type": "code",
   "execution_count": 26,
   "metadata": {
    "collapsed": false
   },
   "outputs": [
    {
     "data": {
      "text/plain": [
       "<bound method TPOTClassifier.get_params of TPOTClassifier(crossover_rate=0.05, disable_update_check=False, generations=1,\n",
       "        max_eval_time_mins=5, max_time_mins=None, mutation_rate=0.9,\n",
       "        num_cv_folds=4, population_size=20, random_state=42, scoring=None,\n",
       "        verbosity=2)>"
      ]
     },
     "execution_count": 26,
     "metadata": {},
     "output_type": "execute_result"
    }
   ],
   "source": [
    "pipeline_optimizer.get_params"
   ]
  },
  {
   "cell_type": "code",
   "execution_count": null,
   "metadata": {
    "collapsed": true
   },
   "outputs": [],
   "source": []
  }
 ],
 "metadata": {
  "kernelspec": {
   "display_name": "Python 2",
   "language": "python",
   "name": "python2"
  },
  "language_info": {
   "codemirror_mode": {
    "name": "ipython",
    "version": 2
   },
   "file_extension": ".py",
   "mimetype": "text/x-python",
   "name": "python",
   "nbconvert_exporter": "python",
   "pygments_lexer": "ipython2",
   "version": "2.7.12"
  }
 },
 "nbformat": 4,
 "nbformat_minor": 2
}
