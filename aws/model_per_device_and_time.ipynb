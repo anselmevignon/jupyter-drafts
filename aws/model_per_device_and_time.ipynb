{
 "cells": [
  {
   "cell_type": "code",
   "execution_count": 273,
   "metadata": {
    "ExecuteTime": {
     "end_time": "2017-01-25T00:03:15.784800",
     "start_time": "2017-01-25T00:03:15.769838"
    },
    "collapsed": false
   },
   "outputs": [
    {
     "data": {
      "text/html": [
       "\n",
       "    <div class=\"bk-root\">\n",
       "        <a href=\"http://bokeh.pydata.org\" target=\"_blank\" class=\"bk-logo bk-logo-small bk-logo-notebook\"></a>\n",
       "        <span id=\"0c822817-8485-4354-b2a2-98ced5aefd42\">Loading BokehJS ...</span>\n",
       "    </div>"
      ]
     },
     "metadata": {},
     "output_type": "display_data"
    },
    {
     "data": {
      "application/javascript": [
       "\n",
       "(function(global) {\n",
       "  function now() {\n",
       "    return new Date();\n",
       "  }\n",
       "\n",
       "  var force = true;\n",
       "\n",
       "  if (typeof (window._bokeh_onload_callbacks) === \"undefined\" || force === true) {\n",
       "    window._bokeh_onload_callbacks = [];\n",
       "    window._bokeh_is_loading = undefined;\n",
       "  }\n",
       "\n",
       "\n",
       "  \n",
       "  if (typeof (window._bokeh_timeout) === \"undefined\" || force === true) {\n",
       "    window._bokeh_timeout = Date.now() + 5000;\n",
       "    window._bokeh_failed_load = false;\n",
       "  }\n",
       "\n",
       "  var NB_LOAD_WARNING = {'data': {'text/html':\n",
       "     \"<div style='background-color: #fdd'>\\n\"+\n",
       "     \"<p>\\n\"+\n",
       "     \"BokehJS does not appear to have successfully loaded. If loading BokehJS from CDN, this \\n\"+\n",
       "     \"may be due to a slow or bad network connection. Possible fixes:\\n\"+\n",
       "     \"</p>\\n\"+\n",
       "     \"<ul>\\n\"+\n",
       "     \"<li>re-rerun `output_notebook()` to attempt to load from CDN again, or</li>\\n\"+\n",
       "     \"<li>use INLINE resources instead, as so:</li>\\n\"+\n",
       "     \"</ul>\\n\"+\n",
       "     \"<code>\\n\"+\n",
       "     \"from bokeh.resources import INLINE\\n\"+\n",
       "     \"output_notebook(resources=INLINE)\\n\"+\n",
       "     \"</code>\\n\"+\n",
       "     \"</div>\"}};\n",
       "\n",
       "  function display_loaded() {\n",
       "    if (window.Bokeh !== undefined) {\n",
       "      document.getElementById(\"0c822817-8485-4354-b2a2-98ced5aefd42\").textContent = \"BokehJS successfully loaded.\";\n",
       "    } else if (Date.now() < window._bokeh_timeout) {\n",
       "      setTimeout(display_loaded, 100)\n",
       "    }\n",
       "  }\n",
       "\n",
       "  function run_callbacks() {\n",
       "    window._bokeh_onload_callbacks.forEach(function(callback) { callback() });\n",
       "    delete window._bokeh_onload_callbacks\n",
       "    console.info(\"Bokeh: all callbacks have finished\");\n",
       "  }\n",
       "\n",
       "  function load_libs(js_urls, callback) {\n",
       "    window._bokeh_onload_callbacks.push(callback);\n",
       "    if (window._bokeh_is_loading > 0) {\n",
       "      console.log(\"Bokeh: BokehJS is being loaded, scheduling callback at\", now());\n",
       "      return null;\n",
       "    }\n",
       "    if (js_urls == null || js_urls.length === 0) {\n",
       "      run_callbacks();\n",
       "      return null;\n",
       "    }\n",
       "    console.log(\"Bokeh: BokehJS not loaded, scheduling load and callback at\", now());\n",
       "    window._bokeh_is_loading = js_urls.length;\n",
       "    for (var i = 0; i < js_urls.length; i++) {\n",
       "      var url = js_urls[i];\n",
       "      var s = document.createElement('script');\n",
       "      s.src = url;\n",
       "      s.async = false;\n",
       "      s.onreadystatechange = s.onload = function() {\n",
       "        window._bokeh_is_loading--;\n",
       "        if (window._bokeh_is_loading === 0) {\n",
       "          console.log(\"Bokeh: all BokehJS libraries loaded\");\n",
       "          run_callbacks()\n",
       "        }\n",
       "      };\n",
       "      s.onerror = function() {\n",
       "        console.warn(\"failed to load library \" + url);\n",
       "      };\n",
       "      console.log(\"Bokeh: injecting script tag for BokehJS library: \", url);\n",
       "      document.getElementsByTagName(\"head\")[0].appendChild(s);\n",
       "    }\n",
       "  };var element = document.getElementById(\"0c822817-8485-4354-b2a2-98ced5aefd42\");\n",
       "  if (element == null) {\n",
       "    console.log(\"Bokeh: ERROR: autoload.js configured with elementid '0c822817-8485-4354-b2a2-98ced5aefd42' but no matching script tag was found. \")\n",
       "    return false;\n",
       "  }\n",
       "\n",
       "  var js_urls = [\"https://cdn.pydata.org/bokeh/release/bokeh-0.12.4.min.js\", \"https://cdn.pydata.org/bokeh/release/bokeh-widgets-0.12.4.min.js\"];\n",
       "\n",
       "  var inline_js = [\n",
       "    function(Bokeh) {\n",
       "      Bokeh.set_log_level(\"info\");\n",
       "    },\n",
       "    \n",
       "    function(Bokeh) {\n",
       "      \n",
       "      document.getElementById(\"0c822817-8485-4354-b2a2-98ced5aefd42\").textContent = \"BokehJS is loading...\";\n",
       "    },\n",
       "    function(Bokeh) {\n",
       "      console.log(\"Bokeh: injecting CSS: https://cdn.pydata.org/bokeh/release/bokeh-0.12.4.min.css\");\n",
       "      Bokeh.embed.inject_css(\"https://cdn.pydata.org/bokeh/release/bokeh-0.12.4.min.css\");\n",
       "      console.log(\"Bokeh: injecting CSS: https://cdn.pydata.org/bokeh/release/bokeh-widgets-0.12.4.min.css\");\n",
       "      Bokeh.embed.inject_css(\"https://cdn.pydata.org/bokeh/release/bokeh-widgets-0.12.4.min.css\");\n",
       "    }\n",
       "  ];\n",
       "\n",
       "  function run_inline_js() {\n",
       "    \n",
       "    if ((window.Bokeh !== undefined) || (force === true)) {\n",
       "      for (var i = 0; i < inline_js.length; i++) {\n",
       "        inline_js[i](window.Bokeh);\n",
       "      }if (force === true) {\n",
       "        display_loaded();\n",
       "      }} else if (Date.now() < window._bokeh_timeout) {\n",
       "      setTimeout(run_inline_js, 100);\n",
       "    } else if (!window._bokeh_failed_load) {\n",
       "      console.log(\"Bokeh: BokehJS failed to load within specified timeout.\");\n",
       "      window._bokeh_failed_load = true;\n",
       "    } else if (force !== true) {\n",
       "      var cell = $(document.getElementById(\"0c822817-8485-4354-b2a2-98ced5aefd42\")).parents('.cell').data().cell;\n",
       "      cell.output_area.append_execute_result(NB_LOAD_WARNING)\n",
       "    }\n",
       "\n",
       "  }\n",
       "\n",
       "  if (window._bokeh_is_loading === 0) {\n",
       "    console.log(\"Bokeh: BokehJS loaded, going straight to plotting\");\n",
       "    run_inline_js();\n",
       "  } else {\n",
       "    load_libs(js_urls, function() {\n",
       "      console.log(\"Bokeh: BokehJS plotting callback run at\", now());\n",
       "      run_inline_js();\n",
       "    });\n",
       "  }\n",
       "}(this));"
      ]
     },
     "metadata": {},
     "output_type": "display_data"
    }
   ],
   "source": [
    "import pandas as pd\n",
    "import numpy as np\n",
    "import calendar\n",
    "\n",
    "from bokeh.charts import output_notebook, Scatter, Bar, show, output_file, Line, BoxPlot, Scatter\n",
    "from bokeh.plotting import figure\n",
    "from bokeh.layouts import row, column, gridplot\n",
    "from bokeh.charts import output_notebook, Scatter, Bar, show, output_file, Line, BoxPlot, Scatter\n",
    "from bokeh.io import hplot\n",
    "\n",
    "output_notebook() "
   ]
  },
  {
   "cell_type": "code",
   "execution_count": 274,
   "metadata": {
    "ExecuteTime": {
     "end_time": "2017-01-25T00:03:34.338390",
     "start_time": "2017-01-25T00:03:34.183051"
    },
    "collapsed": false
   },
   "outputs": [],
   "source": [
    "INPUT=\"data/device_failure.csv\" \n",
    "dataset = pd.read_csv(INPUT,index_col=[0,1],parse_dates=[0])"
   ]
  },
  {
   "cell_type": "markdown",
   "metadata": {},
   "source": [
    "## per device and time model\n",
    "\n",
    " - Set up first model:\n",
    "     - windowing group by\n",
    "     - per device test/train split strategy\n",
    " - Precision/recall, ROC\n",
    " - Calibration\n",
    " - feature engineering\n",
    "     - last n values ?\n",
    " - Test other models\n",
    " - TPOT"
   ]
  },
  {
   "cell_type": "markdown",
   "metadata": {},
   "source": [
    "## Build Training set"
   ]
  },
  {
   "cell_type": "code",
   "execution_count": 53,
   "metadata": {
    "ExecuteTime": {
     "end_time": "2017-01-24T22:08:52.219067",
     "start_time": "2017-01-24T22:08:52.212634"
    },
    "collapsed": true
   },
   "outputs": [],
   "source": [
    "# fitering methods\n",
    "suspicious_positives = set([\"S1F0GPFZ\", \"S1F136J0\", \"W1F0KCP2\", \"W1F0M35B\", \"W1F11ZG9\"])\n",
    "def filter_devices(df):\n",
    "    return df.filter(axis=\"index\",items=(set(df.index) - suspicious_positives)) "
   ]
  },
  {
   "cell_type": "code",
   "execution_count": 54,
   "metadata": {
    "ExecuteTime": {
     "end_time": "2017-01-24T22:08:52.948408",
     "start_time": "2017-01-24T22:08:52.941698"
    },
    "collapsed": true
   },
   "outputs": [],
   "source": [
    "# feature preprocessing\n",
    "def build_deriv(df,c,n=1):\n",
    "    def per_device(per_device):\n",
    "        clean_index = per_device.reset_index(level=1,drop=True)\n",
    "        resampled=clean_index.resample('1D').pad()\n",
    "        \n",
    "        raw_diff = np.diff(resampled,n=n)\n",
    "        #fill the series start with zeros\n",
    "        while (len(raw_diff) < len(resampled)):\n",
    "            raw_diff = np.insert(raw_diff,0,0)\n",
    "        d = pd.Series(data=raw_diff,index = resampled.index )\n",
    "        #print d\n",
    "        return d.dropna()[d>0]\n",
    "    some_d= df[c].groupby(level=\"device\").apply(per_device)\n",
    "    return some_d.swaplevel()"
   ]
  },
  {
   "cell_type": "code",
   "execution_count": 55,
   "metadata": {
    "ExecuteTime": {
     "end_time": "2017-01-24T22:08:53.631754",
     "start_time": "2017-01-24T22:08:53.615152"
    },
    "collapsed": false
   },
   "outputs": [],
   "source": [
    "from scipy.fftpack import fft\n",
    "#fft_df = feature_dset[[attribute]].copy()\n",
    "\n",
    "def to_fft(df):\n",
    "    try:\n",
    "        resampled =  df.resample(\"1D\",level=\"date\").mean().fillna(method='pad')\n",
    "    except:\n",
    "        #if we cannot resample, this (usually) means that we are using a rolling aggregation, outputing\n",
    "        #an nd.array rather than a df. the good news is, in this case I shoudl already have resampled.\n",
    "        resampled = df.copy()\n",
    "    n = len(resampled)\n",
    "    return np.abs(fft(resampled))[n//2:]\n",
    "\n",
    "def fft_line(df):\n",
    "    print df\n",
    "    return df.groupby(level=\"device\",sort=True).transform(to_fft)\n",
    "\n",
    "def peaks(line):\n",
    "    sorted_by_used = sorted(enumerate(line),key = lambda  t: t[1], reverse=True )\n",
    "    boundaries = set()\n",
    "    peaks = []\n",
    "    for i,value in sorted_by_used:\n",
    "        if i not in boundaries:\n",
    "            peaks.append((i,value))\n",
    "        # in any case, i neighbors cannot be peaks now.\n",
    "        boundaries.add(i+1)\n",
    "        boundaries.add(i-1)\n",
    "    return peaks\n",
    "            \n",
    "    \n",
    "def fft_peak(df,p=0,index_no_value=True):\n",
    "    fft = to_fft(df)\n",
    "    #fft = fft_line(df)\n",
    "    all_peaks = peaks(fft.tolist())\n",
    "    if (len(all_peaks) > p):\n",
    "        return all_peaks[p][0 if index_no_value else 1]\n",
    "    else:\n",
    "        return 0"
   ]
  },
  {
   "cell_type": "code",
   "execution_count": 56,
   "metadata": {
    "ExecuteTime": {
     "end_time": "2017-01-24T22:08:54.229398",
     "start_time": "2017-01-24T22:08:54.221511"
    },
    "collapsed": false
   },
   "outputs": [],
   "source": [
    "def pre_filter(df):\n",
    "    res = df.copy()\n",
    "    del res[\"attribute1\"]\n",
    "    del res[\"attribute3\"]\n",
    "    #del res[\"attribute5\"]\n",
    "    dt_list = [\"attribute2\"]#,\"attribute8\"]\n",
    "    for c in dt_list:\n",
    "        deriv = build_deriv(res,c)\n",
    "        res[\"dt_%s\" % c] = deriv\n",
    "        res[\"dt2_%s\" % c] =  build_deriv(res,c,2)\n",
    "    return res.fillna(0)\n",
    "\n",
    "def post_filter(df):\n",
    "    res = df.copy()\n",
    "    res = filter_devices(res)\n",
    "    for col in res.columns:\n",
    "        if \"min\" in col:\n",
    "            del res[col]\n",
    "        if \"std\" in col:\n",
    "            del res[col]\n",
    "    return res"
   ]
  },
  {
   "cell_type": "code",
   "execution_count": 330,
   "metadata": {
    "ExecuteTime": {
     "end_time": "2017-01-25T00:34:34.555436",
     "start_time": "2017-01-25T00:34:28.931298"
    },
    "collapsed": false
   },
   "outputs": [],
   "source": [
    "pre_dataset = pre_filter(dataset)\n",
    "#print feature_set.columns\n",
    "\n",
    "features = [f for f in pre_dataset.columns if \"att\" in f]\n",
    "def f_to_dict(feature):\n",
    "    indexes = dict( (\"avg_over%i_%s\" % (i,feature), lambda df: df[:(i+1)].mean()) for i in [0,1,2,3,4,7,14])\n",
    "    d = {\n",
    "            \"min_%s\" % feature:np.min,\n",
    "            \"max_%s\" % feature:np.max,\n",
    "            \"mean_%s\" % feature :np.mean,\n",
    "            \"std_%s\" % feature:np.std\n",
    "        }\n",
    "    d.update(indexes)\n",
    "    dft_list = [\"attribute4\",\"attribute5\", \"attribute6\",\"attribute7\",\"attribute9\"]\n",
    "    if feature in dft_list:\n",
    "        d[\"dft_p0_ind%s\" % feature] = lambda r : fft_peak(r,p=0,index_no_value=True)\n",
    "        d[\"dft_p0_val%s\" % feature] = lambda r : fft_peak(r,p=0,index_no_value=False)\n",
    "        #d[\"dft_p1_ind%s\" % feature] = lambda r : fft_peak(r,p=1,index_no_value=True)\n",
    "        #d[\"dft_p1_val%s\" % feature] = lambda r : fft_peak(r,p=1,index_no_value=False)\n",
    "    return d\n",
    "\n",
    "agg_dict = dict( (f,f_to_dict(f)) for f in features )\n",
    "#print agg_dict"
   ]
  },
  {
   "cell_type": "code",
   "execution_count": 331,
   "metadata": {
    "ExecuteTime": {
     "end_time": "2017-01-25T00:34:34.692357",
     "start_time": "2017-01-25T00:34:34.557013"
    },
    "collapsed": false
   },
   "outputs": [],
   "source": [
    "# bugfix: rolling aggregation after group by does not handle multiple aggregation per column..\n",
    "# we fix this by flattening the aggregation dict and repeating the data within the dataframe\n",
    "final_columns = [k for c in agg_dict for k in agg_dict[c]]\n",
    "input_columns = [c for c in agg_dict for k in agg_dict[c]]\n",
    "flat_agg_dict = dict( (k,agg_dict[c][k]) for c in agg_dict for k in agg_dict[c])\n",
    "dup_dataset = pre_dataset[input_columns].sort_index(level=\"date\").sort_index(level=\"device\")\n",
    "dup_dataset.columns = final_columns"
   ]
  },
  {
   "cell_type": "code",
   "execution_count": 332,
   "metadata": {
    "ExecuteTime": {
     "end_time": "2017-01-25T00:34:34.697986",
     "start_time": "2017-01-25T00:34:34.693874"
    },
    "collapsed": true
   },
   "outputs": [],
   "source": [
    "def resample_per_device(df):\n",
    "    if dataset.index.names == [\"device\",\"date\"]:\n",
    "        df = df.swaplevel().sort_index()\n",
    "    groups = df.groupby(level=\"device\")\n",
    "    sampled = (\n",
    "        groups.get_group(g).reset_index(level=\"device\").resample(\"1D\").pad().reset_index()\n",
    "        for g in groups.groups)\n",
    "    return pd.concat(sampled).set_index([\"date\",\"device\"])"
   ]
  },
  {
   "cell_type": "code",
   "execution_count": null,
   "metadata": {
    "collapsed": true
   },
   "outputs": [],
   "source": [
    "#\n",
    "# This is where magic happens  !!!\n",
    "# instead of simply grouping by, we roll over the dataset...\n",
    "# using the \"hacky\" flat version, to avoid issues.\n",
    "# The hack increase the memory consumption quite a lot, but it should still be better than\n",
    "# explicitely building the windowed lines before aggregating over it. \n",
    "#\n",
    "\n",
    "feature_set = resample_per_device(dup_dataset) \\\n",
    "    .groupby(level=\"device\",as_index=False) \\\n",
    "    .rolling(window=360,min_periods=1) \\\n",
    "    .agg(flat_agg_dict) \\\n",
    "    .reset_index(level=0,drop=True) \n",
    "feature_set = post_filter(feature_set).sortlevel(level=\"device\")"
   ]
  },
  {
   "cell_type": "code",
   "execution_count": 360,
   "metadata": {
    "ExecuteTime": {
     "end_time": "2017-01-25T00:59:46.032379",
     "start_time": "2017-01-25T00:56:59.856428"
    },
    "collapsed": false
   },
   "outputs": [
    {
     "name": "stdout",
     "output_type": "stream",
     "text": [
      "threshold : 0.005, kept: 43 features\n",
      "filtering devices\n"
     ]
    }
   ],
   "source": [
    "# feature filtering\n",
    "# feature filtering\n",
    "feat_filtering_thres = 5e-3\n",
    "try : \n",
    "    kept_features = feature_imp[feature_imp.importance > feat_filtering_thres]\n",
    "    print \"threshold : %g, kept: %i features\" % (feat_filtering_thres,kept_features.size)\n",
    "    filtered = feature_set.filter(items=feature_imp.index.sort_values())\n",
    "    print \"filtering devices\"\n",
    "    feature_set = filtered\n",
    "except:\n",
    "    print \"no feature filtering\""
   ]
  },
  {
   "cell_type": "code",
   "execution_count": 361,
   "metadata": {
    "ExecuteTime": {
     "end_time": "2017-01-25T00:59:50.618754",
     "start_time": "2017-01-25T00:59:46.033687"
    },
    "collapsed": false
   },
   "outputs": [],
   "source": [
    "#\n",
    "# use label_window to expand label to neighboring days.\n",
    "# basically, a mainrtenance x days before failure is still OK\n",
    "#\n",
    "label_window = 7\n",
    "\n",
    "label_set =  resample_per_device(dataset[[\"failure\"]]) \\\n",
    "    .sortlevel(level=\"date\",ascending=False) \\\n",
    "    .groupby(level=\"device\",as_index=False) \\\n",
    "    .rolling(window=label_window, min_periods=1) \\\n",
    "    .sum() \\\n",
    "    .reset_index(level=0,drop=True) \n",
    "label_set = filter_devices(label_set).sortlevel(level=\"device\")\n"
   ]
  },
  {
   "cell_type": "code",
   "execution_count": 362,
   "metadata": {
    "ExecuteTime": {
     "end_time": "2017-01-25T00:59:50.820458",
     "start_time": "2017-01-25T00:59:50.619984"
    },
    "collapsed": false
   },
   "outputs": [
    {
     "name": "stdout",
     "output_type": "stream",
     "text": [
      "131479, with 740 positives\n",
      "new size 7277\n"
     ]
    }
   ],
   "source": [
    "negative_subsampling_fraction = 5e-2\n",
    "idx = pd.IndexSlice\n",
    "\n",
    "def subsample_negatives(frac,label_set,feature_set):\n",
    "    set_size = label_set.shape[0]\n",
    "    pos_size = label_set[label_set[\"failure\"]>0].shape[0]\n",
    "    print \"%i, with %i positives\" % (set_size,pos_size)\n",
    "    sub_label = label_set[label_set[\"failure\"]>0].append(label_set[label_set[\"failure\"]==0].sample(frac=frac))\n",
    "    sub_feature = feature_set.loc[idx[sub_label_set.index]]\n",
    "    sub_size = sub_label.shape[0]\n",
    "    sub_size_0 = sub_feature.shape[0]\n",
    "    print \"new size %i\" % sub_size_0 \n",
    "    return sub_label, sub_feature\n",
    "sub_label_set , sub_feature_set = subsample_negatives(negative_subsampling_fraction,label_set,feature_set)\n"
   ]
  },
  {
   "cell_type": "code",
   "execution_count": 364,
   "metadata": {
    "ExecuteTime": {
     "end_time": "2017-01-25T01:04:02.280603",
     "start_time": "2017-01-25T01:04:02.265187"
    },
    "collapsed": false
   },
   "outputs": [],
   "source": [
    "# compute groups (devices), to be used when splitting the training set (train/test)\n",
    "# This is useful to avoid the bias selection generated by a temporal model\n",
    "# (Basically, a device used in train cannot also be in test, because its attributes will be very similar)\n",
    "# this is why the cross-val strategy must split by device, and not merely at random\n",
    "devices = sub_label_set.index.get_level_values(\"device\")\n",
    "device_index = dict((device,i) for i,device in enumerate(devices.unique()))\n",
    "n_dev = len(device_index)\n",
    "device_groups = np.array(devices.to_series().map(device_index).tolist())"
   ]
  },
  {
   "cell_type": "markdown",
   "metadata": {},
   "source": [
    "## Run model"
   ]
  },
  {
   "cell_type": "code",
   "execution_count": 429,
   "metadata": {
    "ExecuteTime": {
     "end_time": "2017-01-25T02:00:24.470664",
     "start_time": "2017-01-25T02:00:23.911203"
    },
    "collapsed": false
   },
   "outputs": [
    {
     "name": "stdout",
     "output_type": "stream",
     "text": [
      "no optim result, or bad ones: let's keep the default ones\n",
      "[CV]  ................................................................\n",
      "[CV]  ................................................................\n",
      "[CV]  ................................................................\n",
      "[CV]  ................................................................\n",
      "[CV] ................................. , score=0.519481, total=   0.1s\n",
      "[CV] ................................. , score=0.509240, total=   0.1s\n",
      "[CV] ................................. , score=0.614876, total=   0.2s\n",
      "[CV] ................................. , score=0.522727, total=   0.2s\n",
      "accurracy: 0.541581, std(0.0426086))\n"
     ]
    },
    {
     "name": "stderr",
     "output_type": "stream",
     "text": [
      "[Parallel(n_jobs=6)]: Done   1 tasks      | elapsed:    0.2s\n",
      "[Parallel(n_jobs=6)]: Batch computation too fast (0.1604s.) Setting batch_size=2.\n",
      "[Parallel(n_jobs=6)]: Done   2 out of   4 | elapsed:    0.2s remaining:    0.2s\n",
      "[Parallel(n_jobs=6)]: Done   4 out of   4 | elapsed:    0.2s remaining:    0.0s\n",
      "[Parallel(n_jobs=6)]: Done   4 out of   4 | elapsed:    0.2s finished\n"
     ]
    }
   ],
   "source": [
    "from sklearn.model_selection import cross_val_score\n",
    "from sklearn.ensemble import GradientBoostingClassifier, RandomForestClassifier\n",
    "from sklearn.pipeline import Pipeline\n",
    "from sklearn.decomposition import PCA\n",
    "from sklearn.preprocessing import Normalizer\n",
    "from sklearn.metrics import roc_curve, auc\n",
    "from sklearn.svm import SVC, NuSVC\n",
    "from sklearn.model_selection import LeavePGroupsOut, GroupShuffleSplit\n",
    "\n",
    "feature_mat = sub_feature_set.as_matrix()\n",
    "label_mat = sub_label_set.as_matrix().ravel()\n",
    "\n",
    "#splitting_strategy = LeavePGroupsOut(n_groups=n_dev/4)\n",
    "splitting_strategy = GroupShuffleSplit(n_splits=4,test_size=0.33)\n",
    "                                     \n",
    "#model = GradientBoostingClassifier()\n",
    "pca = PCA()#n_components=\"mle\",svd_solver=\"full\")\n",
    "norm = Normalizer()\n",
    "#model=GradientBoostingClassifier()\n",
    "model = RandomForestClassifier()\n",
    "#model = SVC(probability=True)\n",
    "pipeline= Pipeline([('normalize', norm),('reduce_dim', pca),(\"model\",model)])\n",
    "pipeline = pipeline_optimizer._fitted_pipeline\n",
    "#pipeline= Pipeline([(\"model\",model)])\n",
    "try:\n",
    "    # use best parameters if available\n",
    "    #\n",
    "    pipeline.set_params(**grid_result.best_params_)\n",
    "    print \"using last optimized model\"\n",
    "except:\n",
    "    print \"no optim result, or bad ones: let's keep the default ones\"\n",
    "    pass\n",
    "scores = cross_val_score(\n",
    "    pipeline,\n",
    "    feature_mat,\n",
    "    label_mat,\n",
    "    cv=splitting_strategy,\n",
    "    groups = device_groups,\n",
    "    verbose=10,\n",
    "    scoring=\"f1\",\n",
    "    n_jobs=6)                          \n",
    "print \"accurracy: %g, std(%g))\" % (scores.mean(), scores.std())"
   ]
  },
  {
   "cell_type": "code",
   "execution_count": 430,
   "metadata": {
    "ExecuteTime": {
     "end_time": "2017-01-25T02:00:27.647626",
     "start_time": "2017-01-25T02:00:27.639227"
    },
    "collapsed": true
   },
   "outputs": [
    {
     "data": {
      "text/plain": [
       "{'binarizer': Binarizer(copy=True, threshold=0.3),\n",
       " 'binarizer__copy': True,\n",
       " 'binarizer__threshold': 0.3,\n",
       " 'gaussiannb': GaussianNB(priors=None),\n",
       " 'gaussiannb__priors': None,\n",
       " 'robustscaler': RobustScaler(copy=True, quantile_range=(25.0, 75.0), with_centering=True,\n",
       "        with_scaling=True),\n",
       " 'robustscaler__copy': True,\n",
       " 'robustscaler__quantile_range': (25.0, 75.0),\n",
       " 'robustscaler__with_centering': True,\n",
       " 'robustscaler__with_scaling': True,\n",
       " 'selectfwe': SelectFwe(alpha=0.05, score_func=<function f_classif at 0x7fefd403c230>),\n",
       " 'selectfwe__alpha': 0.05,\n",
       " 'selectfwe__score_func': <function sklearn.feature_selection.univariate_selection.f_classif>,\n",
       " 'steps': [('robustscaler',\n",
       "   RobustScaler(copy=True, quantile_range=(25.0, 75.0), with_centering=True,\n",
       "          with_scaling=True)),\n",
       "  ('binarizer', Binarizer(copy=True, threshold=0.3)),\n",
       "  ('selectfwe',\n",
       "   SelectFwe(alpha=0.05, score_func=<function f_classif at 0x7fefd403c230>)),\n",
       "  ('gaussiannb', GaussianNB(priors=None))]}"
      ]
     },
     "execution_count": 430,
     "metadata": {},
     "output_type": "execute_result"
    }
   ],
   "source": [
    "pipeline.get_params()"
   ]
  },
  {
   "cell_type": "markdown",
   "metadata": {},
   "source": [
    "### Eval Model"
   ]
  },
  {
   "cell_type": "code",
   "execution_count": 431,
   "metadata": {
    "ExecuteTime": {
     "end_time": "2017-01-25T02:00:34.220041",
     "start_time": "2017-01-25T02:00:34.137608"
    },
    "collapsed": false,
    "hide_input": false
   },
   "outputs": [],
   "source": [
    "from sklearn.model_selection import train_test_split\n",
    "from sklearn.metrics import roc_curve, accuracy_score,precision_recall_curve, auc\n",
    "\n",
    "X_train, X_test, Y_train, Y_test = train_test_split(feature_mat,label_mat,test_size=0.3)\n",
    "# calculate the fpr and tpr for all thresholds of the classification\n",
    "\n",
    "fitted = pipeline.fit(X_train,Y_train)\n",
    "probs = fitted.predict_proba(X_test)\n",
    "preds = probs[:,1]\n",
    "preds_train = fitted.predict_proba(X_train)[:,1]\n",
    "fpr, tpr, threshold = roc_curve(Y_test, preds)\n",
    "fpr_train, tpr_train, threshold_train = roc_curve(Y_train, preds_train)\n",
    "roc_auc = auc(fpr, tpr)\n",
    "roc_auc_train = auc(fpr_train, tpr_train)\n",
    "precision, recall, ths = precision_recall_curve(Y_test, preds)\n",
    "precision_train, recall_train, ths_train = precision_recall_curve(Y_train, preds_train)"
   ]
  },
  {
   "cell_type": "code",
   "execution_count": 432,
   "metadata": {
    "ExecuteTime": {
     "end_time": "2017-01-25T02:00:35.412584",
     "start_time": "2017-01-25T02:00:35.240601"
    },
    "collapsed": false
   },
   "outputs": [
    {
     "data": {
      "text/html": [
       "\n",
       "\n",
       "    <div class=\"bk-root\">\n",
       "        <div class=\"bk-plotdiv\" id=\"d9a3becf-cff9-4b7e-8ec7-439fa86df43a\"></div>\n",
       "    </div>\n",
       "<script type=\"text/javascript\">\n",
       "  \n",
       "  (function(global) {\n",
       "    function now() {\n",
       "      return new Date();\n",
       "    }\n",
       "  \n",
       "    var force = false;\n",
       "  \n",
       "    if (typeof (window._bokeh_onload_callbacks) === \"undefined\" || force === true) {\n",
       "      window._bokeh_onload_callbacks = [];\n",
       "      window._bokeh_is_loading = undefined;\n",
       "    }\n",
       "  \n",
       "  \n",
       "    \n",
       "    if (typeof (window._bokeh_timeout) === \"undefined\" || force === true) {\n",
       "      window._bokeh_timeout = Date.now() + 0;\n",
       "      window._bokeh_failed_load = false;\n",
       "    }\n",
       "  \n",
       "    var NB_LOAD_WARNING = {'data': {'text/html':\n",
       "       \"<div style='background-color: #fdd'>\\n\"+\n",
       "       \"<p>\\n\"+\n",
       "       \"BokehJS does not appear to have successfully loaded. If loading BokehJS from CDN, this \\n\"+\n",
       "       \"may be due to a slow or bad network connection. Possible fixes:\\n\"+\n",
       "       \"</p>\\n\"+\n",
       "       \"<ul>\\n\"+\n",
       "       \"<li>re-rerun `output_notebook()` to attempt to load from CDN again, or</li>\\n\"+\n",
       "       \"<li>use INLINE resources instead, as so:</li>\\n\"+\n",
       "       \"</ul>\\n\"+\n",
       "       \"<code>\\n\"+\n",
       "       \"from bokeh.resources import INLINE\\n\"+\n",
       "       \"output_notebook(resources=INLINE)\\n\"+\n",
       "       \"</code>\\n\"+\n",
       "       \"</div>\"}};\n",
       "  \n",
       "    function display_loaded() {\n",
       "      if (window.Bokeh !== undefined) {\n",
       "        document.getElementById(\"d9a3becf-cff9-4b7e-8ec7-439fa86df43a\").textContent = \"BokehJS successfully loaded.\";\n",
       "      } else if (Date.now() < window._bokeh_timeout) {\n",
       "        setTimeout(display_loaded, 100)\n",
       "      }\n",
       "    }\n",
       "  \n",
       "    function run_callbacks() {\n",
       "      window._bokeh_onload_callbacks.forEach(function(callback) { callback() });\n",
       "      delete window._bokeh_onload_callbacks\n",
       "      console.info(\"Bokeh: all callbacks have finished\");\n",
       "    }\n",
       "  \n",
       "    function load_libs(js_urls, callback) {\n",
       "      window._bokeh_onload_callbacks.push(callback);\n",
       "      if (window._bokeh_is_loading > 0) {\n",
       "        console.log(\"Bokeh: BokehJS is being loaded, scheduling callback at\", now());\n",
       "        return null;\n",
       "      }\n",
       "      if (js_urls == null || js_urls.length === 0) {\n",
       "        run_callbacks();\n",
       "        return null;\n",
       "      }\n",
       "      console.log(\"Bokeh: BokehJS not loaded, scheduling load and callback at\", now());\n",
       "      window._bokeh_is_loading = js_urls.length;\n",
       "      for (var i = 0; i < js_urls.length; i++) {\n",
       "        var url = js_urls[i];\n",
       "        var s = document.createElement('script');\n",
       "        s.src = url;\n",
       "        s.async = false;\n",
       "        s.onreadystatechange = s.onload = function() {\n",
       "          window._bokeh_is_loading--;\n",
       "          if (window._bokeh_is_loading === 0) {\n",
       "            console.log(\"Bokeh: all BokehJS libraries loaded\");\n",
       "            run_callbacks()\n",
       "          }\n",
       "        };\n",
       "        s.onerror = function() {\n",
       "          console.warn(\"failed to load library \" + url);\n",
       "        };\n",
       "        console.log(\"Bokeh: injecting script tag for BokehJS library: \", url);\n",
       "        document.getElementsByTagName(\"head\")[0].appendChild(s);\n",
       "      }\n",
       "    };var element = document.getElementById(\"d9a3becf-cff9-4b7e-8ec7-439fa86df43a\");\n",
       "    if (element == null) {\n",
       "      console.log(\"Bokeh: ERROR: autoload.js configured with elementid 'd9a3becf-cff9-4b7e-8ec7-439fa86df43a' but no matching script tag was found. \")\n",
       "      return false;\n",
       "    }\n",
       "  \n",
       "    var js_urls = [];\n",
       "  \n",
       "    var inline_js = [\n",
       "      function(Bokeh) {\n",
       "        (function() {\n",
       "          var fn = function() {\n",
       "            var docs_json = {\"68b2cde9-8f57-49e7-b6ab-5fa2960b02c9\":{\"roots\":{\"references\":[{\"attributes\":{\"axis_label\":\"recall\",\"formatter\":{\"id\":\"55932754-0c6a-4a01-82fd-35d4abe90003\",\"type\":\"BasicTickFormatter\"},\"plot\":{\"id\":\"e3d4e559-d3cd-4a96-ba00-540ccedf26f6\",\"subtype\":\"Figure\",\"type\":\"Plot\"},\"ticker\":{\"id\":\"cad82ca8-e302-4439-9aab-0a50eb0d8f03\",\"type\":\"BasicTicker\"}},\"id\":\"f1812c0f-ebde-4a03-87b2-36453bed007e\",\"type\":\"LinearAxis\"},{\"attributes\":{\"data_source\":{\"id\":\"12136881-5a70-4ee3-91ab-8376688f6dfa\",\"type\":\"ColumnDataSource\"},\"glyph\":{\"id\":\"41156bf3-1e8f-4fdd-95e0-1a3ff229e457\",\"type\":\"Cross\"},\"hover_glyph\":null,\"nonselection_glyph\":{\"id\":\"4f5366ba-7a21-4168-aa7b-4499248c66a2\",\"type\":\"Cross\"},\"selection_glyph\":null},\"id\":\"45dff218-3b7a-4353-88e7-ea492dbdf363\",\"type\":\"GlyphRenderer\"},{\"attributes\":{\"fill_color\":{\"value\":\"red\"},\"line_color\":{\"value\":\"red\"},\"size\":{\"units\":\"screen\",\"value\":5},\"x\":{\"field\":\"x\"},\"y\":{\"field\":\"y\"}},\"id\":\"0d9dff2d-8a13-4f63-8675-fffd5b96a342\",\"type\":\"Circle\"},{\"attributes\":{\"data_source\":{\"id\":\"7fc659a8-6d0c-4f7a-878d-99a04e681f32\",\"type\":\"ColumnDataSource\"},\"glyph\":{\"id\":\"e63e2f68-58df-45ce-82b2-d36932879b34\",\"type\":\"Line\"},\"hover_glyph\":null,\"nonselection_glyph\":{\"id\":\"b3adba3b-9921-4de7-9315-f9632f0c98fc\",\"type\":\"Line\"},\"selection_glyph\":null},\"id\":\"d14a3d80-b49d-48cb-8b66-85164d17921a\",\"type\":\"GlyphRenderer\"},{\"attributes\":{\"bottom_units\":\"screen\",\"fill_alpha\":{\"value\":0.5},\"fill_color\":{\"value\":\"lightgrey\"},\"left_units\":\"screen\",\"level\":\"overlay\",\"line_alpha\":{\"value\":1.0},\"line_color\":{\"value\":\"black\"},\"line_dash\":[4,4],\"line_width\":{\"value\":2},\"plot\":null,\"render_mode\":\"css\",\"right_units\":\"screen\",\"top_units\":\"screen\"},\"id\":\"efed4cc4-4312-4392-87c6-4ec48df6f1d5\",\"type\":\"BoxAnnotation\"},{\"attributes\":{\"items\":[{\"id\":\"3f7bda45-ea45-459f-92f9-e7ad6da1d0b7\",\"type\":\"LegendItem\"},{\"id\":\"20d1dfe4-b1c7-4c42-9c16-082cda20a0e6\",\"type\":\"LegendItem\"}],\"plot\":{\"id\":\"2d97759c-421d-49dd-b3a0-f9f59602dd33\",\"subtype\":\"Figure\",\"type\":\"Plot\"}},\"id\":\"08d8cb41-ec9f-47c7-b8ea-a82ba41ca747\",\"type\":\"Legend\"},{\"attributes\":{},\"id\":\"1e25618f-77dd-4030-b0f5-d531f9f8d157\",\"type\":\"ToolEvents\"},{\"attributes\":{\"callback\":null,\"column_names\":[\"y\",\"x\"],\"data\":{\"x\":{\"__ndarray__\":\"AAAAAAAAAABn0LLjOZWkPxGWJWBpJKU/M1cJeQxBpT8O533V99GmP1JpRQc+C6c/6XbyMeNiqD9Pup18zLioP/l/EPn7R6k/PQLYKkKBqT+jRYN1K9epP+bHSqdxEKo/sk6hPES8qj/UD4VV59iqP1wUFLlzS6s/oJbb6rmEqz/CV78DXaGrP47eFZkvTaw/FeOk/Lu/rD+d5zNgSDKtPwMr36oxiK0/AyvfqjGIrT/PsTVABDSuP4iAxoNMqK8/f+bHSqdxsD+Yy8g6hfKwP2wuAvkcOrE/ju/lEcBWsT+e+APZ2DuyPxNFzeradrM/6KcGqXK+sz/opwapcr6zP5iatMP1lrU/KXsmUEeltT8peyZQR6W1P/7dXw7f7LU/huLucWtftj+oo9KKDny2PzmERBdgirY/0JHxQQXitz8UFLlzSxu4P6X0KgCdKbg/6XbyMeNiuD/5fxD5+0e5PxtB9BGfZLk/G0H0EZ9kuT/woy3QNqy5PxJlEenZyLk/EmUR6dnIuT9MC/bxWma6P0wL9vFaZro/TAv28Vpmuj/d62d+rHS6P/+sS5dPkbo//6xLl0+Ruj8hbi+w8q26PyFuL7Dyrbo/GnIIiS7AxD+AtbPTFxbFPymLSM9Gzsg/rvmQ4HGM0T/vzLCHRnPTP8J4sfvs09M/cKyVDP8w1D+vwOupYpzUP9Q4CA33n9Q/iyfdTj5m3D+gMwUDCu3iPyr3XXAH2+Q/kDoJu/Aw5T+h+l/M+vzlPwAAAAAAAPA/\",\"dtype\":\"float64\",\"shape\":[72]},\"y\":{\"__ndarray__\":\"AAAAAAAAAABvyBvyhrzhP2/IG/KGvOE/b8gb8oa84T+HvCFvyBviP4u6oq6oK+I/m7KmrClr4j+7oq6oK+riP7uirqgr6uI/v6Av6Av64j+/oC/oC/riP7+gL+gL+uI/v6Av6Av64j+/oC/oC/riP86YM+aMOeM/zpgz5ow54z/OmDPmjDnjP96QN+QNeeM/7og74o644z/uiDvijrjjP+6IO+KOuOM/9oQ9YU/Y4z8OeUPekDfkPw55Q96QN+Q/DnlD3pA35D8ecUfcEXfkPx5xR9wRd+Q/HnFH3BF35D8ecUfcEXfkPyZtSVvSluQ/Jm1JW9KW5D8qa8qasqbkPyprypqypuQ/KmvKmrKm5D8uaUvakrbkPy5pS9qStuQ/MmfMGXPG5D8yZ8wZc8bkPzJnzBlzxuQ/MmfMGXPG5D8yZ8wZc8bkPzJnzBlzxuQ/MmfMGXPG5D9FXVFX1BXlP2FP2BP2hOU/bUlb0pa05T99QV/QF/TlP4E/4A/4A+Y/iTvijrgj5j+NOWPOmDPmP5U1ZU1ZU+Y/mTPmjDlj5j+dMWfMGXPmP50xZ8wZc+Y/tSVtSVvS5j+1JW1JW9LmP70hb8gb8uY//AF/wB/w5z/8AX/AH/DnPxzyhrwhb+g/o66oK+qK6j/KmrKmrCnrP9qStqQtaes/6oq6oq6o6z/qirqirqjrP+qKuqKuqOs/KmvKmrKm7D+pK+qKuqLuP6kr6oq6ou4/qSvqirqi7j+1JW1JW9LuPwAAAAAAAPA/\",\"dtype\":\"float64\",\"shape\":[72]}}},\"id\":\"44d4f478-29f0-451c-a804-24607e45e142\",\"type\":\"ColumnDataSource\"},{\"attributes\":{\"callback\":null},\"id\":\"0e58ca90-50c4-4143-81da-636b90ca9228\",\"type\":\"Range1d\"},{\"attributes\":{},\"id\":\"cad82ca8-e302-4439-9aab-0a50eb0d8f03\",\"type\":\"BasicTicker\"},{\"attributes\":{\"overlay\":{\"id\":\"565eed44-7059-49eb-89a4-4ebfe38ad45c\",\"type\":\"BoxAnnotation\"},\"plot\":{\"id\":\"e3d4e559-d3cd-4a96-ba00-540ccedf26f6\",\"subtype\":\"Figure\",\"type\":\"Plot\"}},\"id\":\"b8ff94df-d8e7-4bae-b1f6-c9418f2c3e40\",\"type\":\"BoxZoomTool\"},{\"attributes\":{\"callback\":null},\"id\":\"935de538-fcbf-4def-9d1f-818fcad7fffc\",\"type\":\"DataRange1d\"},{\"attributes\":{\"items\":[{\"id\":\"dcd16762-2de9-451f-93eb-76a53ee1d340\",\"type\":\"LegendItem\"},{\"id\":\"5f6a8fdc-17fc-45b3-b3c0-f6165c4dc46a\",\"type\":\"LegendItem\"}],\"plot\":{\"id\":\"e3d4e559-d3cd-4a96-ba00-540ccedf26f6\",\"subtype\":\"Figure\",\"type\":\"Plot\"}},\"id\":\"967ea1b4-d673-47d0-a596-99626979291d\",\"type\":\"Legend\"},{\"attributes\":{\"label\":{\"value\":\"PR on train\"},\"renderers\":[{\"id\":\"a19209a3-2fd1-44eb-9032-698726fb6b38\",\"type\":\"GlyphRenderer\"}]},\"id\":\"5f6a8fdc-17fc-45b3-b3c0-f6165c4dc46a\",\"type\":\"LegendItem\"},{\"attributes\":{\"active_drag\":\"auto\",\"active_scroll\":\"auto\",\"active_tap\":\"auto\",\"tools\":[{\"id\":\"c0ba3e93-303f-4158-94a3-b0aec63baab0\",\"type\":\"PanTool\"},{\"id\":\"45f9486c-d251-4f98-bc71-05115d877f11\",\"type\":\"WheelZoomTool\"},{\"id\":\"8f43e27c-5539-4ab4-a9c5-951951344a93\",\"type\":\"BoxZoomTool\"},{\"id\":\"47d8a418-1d4f-4202-9239-d6bed8711d67\",\"type\":\"SaveTool\"},{\"id\":\"2deb9690-5c81-4bce-ba7e-e8239f656b97\",\"type\":\"ResetTool\"},{\"id\":\"4119dbf8-a506-4519-bbbd-525aad4ed19c\",\"type\":\"HelpTool\"}]},\"id\":\"efe20103-2a7e-451f-bf0e-b85ebe7c8a34\",\"type\":\"Toolbar\"},{\"attributes\":{},\"id\":\"62879351-142a-4d7f-a949-457786824af5\",\"type\":\"ToolEvents\"},{\"attributes\":{\"plot\":null,\"text\":\"roc, auc: 0.84, on train: 0.87\"},\"id\":\"7b6fd07a-0095-4637-ae5f-67f3f6dda611\",\"type\":\"Title\"},{\"attributes\":{\"plot\":{\"id\":\"2d97759c-421d-49dd-b3a0-f9f59602dd33\",\"subtype\":\"Figure\",\"type\":\"Plot\"}},\"id\":\"47d8a418-1d4f-4202-9239-d6bed8711d67\",\"type\":\"SaveTool\"},{\"attributes\":{\"data_source\":{\"id\":\"a3f80a49-11cd-4492-a232-6b1dac5652f0\",\"type\":\"ColumnDataSource\"},\"glyph\":{\"id\":\"0c711c82-fa9f-463b-b6e2-61b82207a207\",\"type\":\"Line\"},\"hover_glyph\":null,\"nonselection_glyph\":{\"id\":\"6d11a375-118d-48fa-b7c4-d4bac67db148\",\"type\":\"Line\"},\"selection_glyph\":null},\"id\":\"a19209a3-2fd1-44eb-9032-698726fb6b38\",\"type\":\"GlyphRenderer\"},{\"attributes\":{\"axis_label\":\"tpr\",\"formatter\":{\"id\":\"a235333b-6b3f-4370-94cc-1ecbe9ecd53c\",\"type\":\"BasicTickFormatter\"},\"plot\":{\"id\":\"2d97759c-421d-49dd-b3a0-f9f59602dd33\",\"subtype\":\"Figure\",\"type\":\"Plot\"},\"ticker\":{\"id\":\"af3458f5-1b5d-4645-98e6-f55a7a4aeae9\",\"type\":\"BasicTicker\"}},\"id\":\"c6c2722e-485b-4eb1-8afd-27132a9b5dd2\",\"type\":\"LinearAxis\"},{\"attributes\":{\"callback\":null,\"column_names\":[\"y\",\"x\"],\"data\":{\"x\":{\"__ndarray__\":\"AAAAAAAAAAB7IgPp/bmmP+HlFLycgqc/zxJ281sIqD/PEnbzWwioP70/1yobjqg/dvNbCBilqj9kIL0/1yqrP9u2bdu2bas/yuPOEnbzqz8vp+DlFLysP6Y9kYH0/qw/X/EVX/EVrz/ZcMS0JzKwPxW8nIKXU7A/FbycgpdTsD+MUk0ed5awPwPp/blW2bA/pPfnWmXDsT+SJEmSJEmyP/jnWmXDEbM/qsnjzhJ2sz/mFLycgpezPxCN9aGxPrQ/sZvfQsAotT9jfWisD421P2N9aKwPjbU/n8hAen+utT9qT2QgvT+3P6WaPO4sYbc/HDHtiQyktz+C9P5cq2y4P/mKr/iKr7g/1eRxZwm7uT9MeyID6f25P8MR057IQLo/wxHTnshAuj/tiQyk9+e6P2QgvT/XKrs/27Zt27Ztuz/btm3btm27P9u2bdu2bbs/fMVXfMVXvD98xVd8xVe8P3zFV3zFV7w/uBAwSjV5vD/zWwgYpZq8P/NbCBilmrw/jfWhsT40xj9A1yobjpjGP5qZmZmZmck/1eRxZwm70T8svuIrvuLTP62y4YhpT9Q//rlW2XDE1D+KDKT351rVPzKQ3p9rld0/X/EVX/EV4z/InSXs5rfkP3VQB3VQB+U/btu2bdu25T8AAAAAAADwPw==\",\"dtype\":\"float64\",\"shape\":[62]},\"y\":{\"__ndarray__\":\"AAAAAAAAAAAlSZIkSZLePyVJkiRJkt4/JUmSJEmS3j+3bdu2bdveP7dt27Zt294/27Zt27Zt3z/btm3btm3fP9u2bdu2beA/27Zt27Zt4D/btm3btm3gP7dt27Zt2+A/kiRJkiRJ4T+SJEmSJEnhP5IkSZIkSeE/27Zt27Zt4T/btm3btm3hP7dt27Zt2+E/t23btm3b4T+3bdu2bdvhP0mSJEmSJOI/SZIkSZIk4j9JkiRJkiTiP0mSJEmSJOI/SZIkSZIk4j9JkiRJkiTiP9u2bdu2beI/JUmSJEmS4j8lSZIkSZLiPyVJkiRJkuI/JUmSJEmS4j8lSZIkSZLiPyVJkiRJkuI/JUmSJEmS4j8lSZIkSZLiPyVJkiRJkuI/btu2bdu24j8AAAAAAADjP5IkSZIkSeM/t23btm3b4z8AAAAAAADkP5IkSZIkSeQ/kiRJkiRJ5D8lSZIkSZLkP7dt27Zt2+Q/t23btm3b5D8AAAAAAADlP5IkSZIkSeU/SZIkSZIk5j9JkiRJkiTmPyVJkiRJkuY/btu2bdu26T8lSZIkSZLqP27btm3btuo/AAAAAAAA6z+SJEmSJEnrPyVJkiRJkus/JUmSJEmS7T9JkiRJkiTuP5IkSZIkSe4/btu2bdu27j8AAAAAAADwPw==\",\"dtype\":\"float64\",\"shape\":[62]}}},\"id\":\"cba1cea0-70dd-41b2-abd0-e5e4f43a1efc\",\"type\":\"ColumnDataSource\"},{\"attributes\":{\"callback\":null,\"column_names\":[\"x\",\"y\"],\"data\":{\"x\":{\"__ndarray__\":\"AAAAAAAA8D+1JW1JW9LuP6kr6oq6ou4/qSvqirqi7j+pK+qKuqLuPyprypqypuw/6oq6oq6o6z/qirqirqjrP+qKuqKuqOs/2pK2pC1p6z/KmrKmrCnrP6OuqCvqiuo/HPKGvCFv6D/8AX/AH/DnP/wBf8Af8Oc/vSFvyBvy5j+5I+6IO+LmP7UlbUlb0uY/tSVtSVvS5j+1JW1JW9LmP6kr6oq6ouY/nTFnzBlz5j+dMWfMGXPmP50xZ8wZc+Y/mTPmjDlj5j+VNWVNWVPmP405Y86YM+Y/iTvijrgj5j+FPWFP2BPmP4E/4A/4A+Y/fUFf0Bf05T9tSVvSlrTlP2FP2BP2hOU/RV1RV9QV5T8yZ8wZc8bkPzJnzBlzxuQ/MmfMGXPG5D8yZ8wZc8bkPzJnzBlzxuQ/MmfMGXPG5D8yZ8wZc8bkPzJnzBlzxuQ/LmlL2pK25D8uaUvakrbkPyprypqypuQ/KmvKmrKm5D8qa8qasqbkPyZtSVvSluQ/Jm1JW9KW5D8ecUfcEXfkPx5xR9wRd+Q/HnFH3BF35D8ecUfcEXfkPx5xR9wRd+Q/DnlD3pA35D8OeUPekDfkPw55Q96QN+Q/9oQ9YU/Y4z/uiDvijrjjP+6IO+KOuOM/7og74o644z/ekDfkDXnjP86YM+aMOeM/zpgz5ow54z/OmDPmjDnjP7+gL+gL+uI/v6Av6Av64j+/oC/oC/riP7+gL+gL+uI/v6Av6Av64j+7oq6oK+riP7uirqgr6uI/m7KmrClr4j+LuqKuqCviP4e8IW/IG+I/b8gb8oa84T9vyBvyhrzhP2/IG/KGvOE/AAAAAAAAAAA=\",\"dtype\":\"float64\",\"shape\":[79]},\"y\":{\"__ndarray__\":\"gQC+jNDvuT8l7kqnonfBP6RjVP4q8ME/auxhFpAvwj9CQzfN+sDDP/YgK4yHuMc/occmXcW3zT+8u7u7u7vNP0njifONNM4/a96s5s1qzj+EtsjuHqfOP5xljCeURtA/wjbuWEOv0z+5WheekKvVPxh/IuGU5tU/wOvMhh712z/wbNR3NurbP35bGs1H39s/dyqPDrzn2z/5gXxyNfDbP/Q8z/M8z9s/dQ3E8weu2z8ipFrWgbbbPzpsdesAv9s/SdGXkmO82z8UO7ETO7HbP8wrp2/Vmts/ZxOJbXnu2z/r4V8uLOPbP9jX19fX19s/YuhWHP7d2z/VEWKbVtzbPxFrkRmwuds/JObtDIl52z/cztvO287bPxe60Ypf4ds/vjiq/vvz2z92sAiNU/3bPwkvwovwItw/Y5J9ey4N3T8XXXTRRRfdP0v3BpSJK90/WoBe7opx3T+UYPBr0KXdP5qZmZmZmd0/WrzhmiOk3T/peNKKKhHfP8k+uL/bBN8/Pz8/Pz8/3z8ZnI/B+RjgPwAAAAAAgOA/KWZ/PpyG4D/d0wjLPY3gP0LOkv21ruA/04A2DWjT4D/E7shiNSHhP9LuYevbgOE/jBgxYsSI4T9x9YOOCnzhPy4darA7k+E/TrCMPIiy4T81xn/DqbjhP2f7cShIz+E/w4JLZXvX4T84d0Ob+OfhP/Ie7/Ee7+E/eR8dgov34T9FPW3uviriP3KQeSkRPOI/JStZyUpW4j+UnxfVYmHiP+HfljMdjuI/3Wy3hVF04j+6khbcIcriP9daa6211uI/gxU6gxU64z96Z8BBckTjPwE9WE3reOM/AAAAAAAA8D8=\",\"dtype\":\"float64\",\"shape\":[79]}}},\"id\":\"a3f80a49-11cd-4492-a232-6b1dac5652f0\",\"type\":\"ColumnDataSource\"},{\"attributes\":{\"plot\":{\"id\":\"2d97759c-421d-49dd-b3a0-f9f59602dd33\",\"subtype\":\"Figure\",\"type\":\"Plot\"}},\"id\":\"c0ba3e93-303f-4158-94a3-b0aec63baab0\",\"type\":\"PanTool\"},{\"attributes\":{\"plot\":null,\"text\":\"PR curve\"},\"id\":\"84fbad4d-8529-4380-8caa-280f01ea0fd7\",\"type\":\"Title\"},{\"attributes\":{\"callback\":null,\"column_names\":[\"y\",\"x\"],\"data\":{\"x\":{\"__ndarray__\":\"AAAAAAAA8D+1JW1JW9LuP6kr6oq6ou4/qSvqirqi7j+pK+qKuqLuPyprypqypuw/6oq6oq6o6z/qirqirqjrP+qKuqKuqOs/2pK2pC1p6z/KmrKmrCnrP6OuqCvqiuo/HPKGvCFv6D/8AX/AH/DnP/wBf8Af8Oc/vSFvyBvy5j+5I+6IO+LmP7UlbUlb0uY/tSVtSVvS5j+1JW1JW9LmP6kr6oq6ouY/nTFnzBlz5j+dMWfMGXPmP50xZ8wZc+Y/mTPmjDlj5j+VNWVNWVPmP405Y86YM+Y/iTvijrgj5j+FPWFP2BPmP4E/4A/4A+Y/fUFf0Bf05T9tSVvSlrTlP2FP2BP2hOU/RV1RV9QV5T8yZ8wZc8bkPzJnzBlzxuQ/MmfMGXPG5D8yZ8wZc8bkPzJnzBlzxuQ/MmfMGXPG5D8yZ8wZc8bkPzJnzBlzxuQ/LmlL2pK25D8uaUvakrbkPyprypqypuQ/KmvKmrKm5D8qa8qasqbkPyZtSVvSluQ/Jm1JW9KW5D8ecUfcEXfkPx5xR9wRd+Q/HnFH3BF35D8ecUfcEXfkPx5xR9wRd+Q/DnlD3pA35D8OeUPekDfkPw55Q96QN+Q/9oQ9YU/Y4z/uiDvijrjjP+6IO+KOuOM/7og74o644z/ekDfkDXnjP86YM+aMOeM/zpgz5ow54z/OmDPmjDnjP7+gL+gL+uI/v6Av6Av64j+/oC/oC/riP7+gL+gL+uI/v6Av6Av64j+7oq6oK+riP7uirqgr6uI/m7KmrClr4j+LuqKuqCviP4e8IW/IG+I/b8gb8oa84T9vyBvyhrzhP2/IG/KGvOE/AAAAAAAAAAA=\",\"dtype\":\"float64\",\"shape\":[79]},\"y\":{\"__ndarray__\":\"gQC+jNDvuT8l7kqnonfBP6RjVP4q8ME/auxhFpAvwj9CQzfN+sDDP/YgK4yHuMc/occmXcW3zT+8u7u7u7vNP0njifONNM4/a96s5s1qzj+EtsjuHqfOP5xljCeURtA/wjbuWEOv0z+5WheekKvVPxh/IuGU5tU/wOvMhh712z/wbNR3NurbP35bGs1H39s/dyqPDrzn2z/5gXxyNfDbP/Q8z/M8z9s/dQ3E8weu2z8ipFrWgbbbPzpsdesAv9s/SdGXkmO82z8UO7ETO7HbP8wrp2/Vmts/ZxOJbXnu2z/r4V8uLOPbP9jX19fX19s/YuhWHP7d2z/VEWKbVtzbPxFrkRmwuds/JObtDIl52z/cztvO287bPxe60Ypf4ds/vjiq/vvz2z92sAiNU/3bPwkvwovwItw/Y5J9ey4N3T8XXXTRRRfdP0v3BpSJK90/WoBe7opx3T+UYPBr0KXdP5qZmZmZmd0/WrzhmiOk3T/peNKKKhHfP8k+uL/bBN8/Pz8/Pz8/3z8ZnI/B+RjgPwAAAAAAgOA/KWZ/PpyG4D/d0wjLPY3gP0LOkv21ruA/04A2DWjT4D/E7shiNSHhP9LuYevbgOE/jBgxYsSI4T9x9YOOCnzhPy4darA7k+E/TrCMPIiy4T81xn/DqbjhP2f7cShIz+E/w4JLZXvX4T84d0Ob+OfhP/Ie7/Ee7+E/eR8dgov34T9FPW3uviriP3KQeSkRPOI/JStZyUpW4j+UnxfVYmHiP+HfljMdjuI/3Wy3hVF04j+6khbcIcriP9daa6211uI/gxU6gxU64z96Z8BBckTjPwE9WE3reOM/AAAAAAAA8D8=\",\"dtype\":\"float64\",\"shape\":[79]}}},\"id\":\"2d787191-7ce6-486a-b746-03f97aa5d23a\",\"type\":\"ColumnDataSource\"},{\"attributes\":{\"fill_color\":{\"value\":\"red\"},\"line_color\":{\"value\":\"red\"},\"size\":{\"units\":\"screen\",\"value\":5},\"x\":{\"field\":\"x\"},\"y\":{\"field\":\"y\"}},\"id\":\"bd15a306-4ffa-4a94-a3ec-53cb1ad38002\",\"type\":\"Circle\"},{\"attributes\":{\"line_color\":{\"value\":\"red\"},\"x\":{\"field\":\"x\"},\"y\":{\"field\":\"y\"}},\"id\":\"0c711c82-fa9f-463b-b6e2-61b82207a207\",\"type\":\"Line\"},{\"attributes\":{},\"id\":\"c8119856-80a9-44f0-a382-dce58279b74c\",\"type\":\"BasicTickFormatter\"},{\"attributes\":{\"overlay\":{\"id\":\"efed4cc4-4312-4392-87c6-4ec48df6f1d5\",\"type\":\"BoxAnnotation\"},\"plot\":{\"id\":\"2d97759c-421d-49dd-b3a0-f9f59602dd33\",\"subtype\":\"Figure\",\"type\":\"Plot\"}},\"id\":\"8f43e27c-5539-4ab4-a9c5-951951344a93\",\"type\":\"BoxZoomTool\"},{\"attributes\":{\"plot\":{\"id\":\"e3d4e559-d3cd-4a96-ba00-540ccedf26f6\",\"subtype\":\"Figure\",\"type\":\"Plot\"}},\"id\":\"6c6f3fe2-aaa4-4a93-a7aa-89ff0dcc2b62\",\"type\":\"PanTool\"},{\"attributes\":{\"plot\":{\"id\":\"2d97759c-421d-49dd-b3a0-f9f59602dd33\",\"subtype\":\"Figure\",\"type\":\"Plot\"}},\"id\":\"45f9486c-d251-4f98-bc71-05115d877f11\",\"type\":\"WheelZoomTool\"},{\"attributes\":{\"callback\":null},\"id\":\"557307da-a18b-4775-9885-e57c26052bde\",\"type\":\"DataRange1d\"},{\"attributes\":{},\"id\":\"a235333b-6b3f-4370-94cc-1ecbe9ecd53c\",\"type\":\"BasicTickFormatter\"},{\"attributes\":{\"active_drag\":\"auto\",\"active_scroll\":\"auto\",\"active_tap\":\"auto\",\"tools\":[{\"id\":\"6c6f3fe2-aaa4-4a93-a7aa-89ff0dcc2b62\",\"type\":\"PanTool\"},{\"id\":\"81f81d3c-404f-491c-8e0d-83d7cda05cd8\",\"type\":\"WheelZoomTool\"},{\"id\":\"b8ff94df-d8e7-4bae-b1f6-c9418f2c3e40\",\"type\":\"BoxZoomTool\"},{\"id\":\"b67db0b3-0b33-41b7-93b3-f01ccc185b2c\",\"type\":\"SaveTool\"},{\"id\":\"ff137347-1703-44c7-9acc-c8370a6c040b\",\"type\":\"ResetTool\"},{\"id\":\"c4a4065c-2368-4c11-af30-415dab715ad7\",\"type\":\"HelpTool\"}]},\"id\":\"69ac7be1-b3b1-4c34-8dea-4b51a598daf6\",\"type\":\"Toolbar\"},{\"attributes\":{\"callback\":null,\"column_names\":[\"y\",\"x\"],\"data\":{\"x\":{\"__ndarray__\":\"AAAAAAAA8D9u27Zt27buP5IkSZIkSe4/SZIkSZIk7j8lSZIkSZLtPyVJkiRJkus/kiRJkiRJ6z8AAAAAAADrP27btm3btuo/JUmSJEmS6j9u27Zt27bpPyVJkiRJkuY/SZIkSZIk5j9JkiRJkiTmP5IkSZIkSeU/SZIkSZIk5T8AAAAAAADlP7dt27Zt2+Q/t23btm3b5D8lSZIkSZLkP9u2bdu2beQ/kiRJkiRJ5D+SJEmSJEnkPwAAAAAAAOQ/t23btm3b4z+SJEmSJEnjPwAAAAAAAOM/btu2bdu24j8lSZIkSZLiPyVJkiRJkuI/JUmSJEmS4j8lSZIkSZLiPyVJkiRJkuI/JUmSJEmS4j8lSZIkSZLiPyVJkiRJkuI/JUmSJEmS4j8lSZIkSZLiP9u2bdu2beI/SZIkSZIk4j9JkiRJkiTiP0mSJEmSJOI/SZIkSZIk4j9JkiRJkiTiP0mSJEmSJOI/t23btm3b4T+3bdu2bdvhP7dt27Zt2+E/27Zt27Zt4T/btm3btm3hP5IkSZIkSeE/kiRJkiRJ4T+SJEmSJEnhP7dt27Zt2+A/27Zt27Zt4D/btm3btm3gP9u2bdu2beA/27Zt27Zt3z/btm3btm3fP7dt27Zt294/t23btm3b3j8lSZIkSZLePyVJkiRJkt4/JUmSJEmS3j8lSZIkSZLePyVJkiRJkt4/AAAAAAAAAAA=\",\"dtype\":\"float64\",\"shape\":[67]},\"y\":{\"__ndarray__\":\"GqRBGqRBuj9o14y+8s/BP7ErQO41F8I/+iMWcKc/wj/QF/QFfUHDP6DwhaOGesY/2JN4OrvuzD9TnS3V2VLNPyTFKRxPls0/kmGDuHnyzT8gAt4fAt7PP2PSKiatYtI/UZpK9ubM0z9gKVDrVwrUP9/0pje96dk/TY4M8ivP2T8qLhmCdbTZP7qaq7maq9k/Gw7EPrW92T+FffcrcofZP8EWbMEWbNk/TPq3UpRQ2T/RRRdddNHZP5qZmZmZmdk/EhMew2592T9xP81bgzDZPw6/keXwG9k/YHvIZcVA2T83i2S6zSLZPxz83MTrSdk/Xonalahd2T8Yl0lOhHHZPx5l/n3dFNo/zhXJk/0+2j9zLIYLnsDaP96kderx7No/TA3sHVMD2z+7wRT5rBvcPwUvp+DlFNw/X7169erV2z/zLmun4x/cP/PiTySc0tw/i0LYPsxX3T/XDsy1A3PdP17cxV3cxd0/ruxzSE0w3j+PFpVIvqbeP+Dv9/v9ft8/UjCZg4Bb3z/I+amEgJzfP3u/rPfLet8/TR53lrCb3z8iIiIiIiLgPwu+noo0feA/sAVbsAVb4D86CcSFmpPgP7rooosuuuA/ZAK9U9dy4D/GW9nnkJrgP+xni5XhG+E/SOF6FK5H4T82eldkvjThP6aA+UB2YeE/Xk7Byyl44T/yGI/xGI/hP2K7WZ5EpuE/AAAAAAAA8D8=\",\"dtype\":\"float64\",\"shape\":[67]}}},\"id\":\"c76232d7-e82b-4be3-919c-7facfea53670\",\"type\":\"ColumnDataSource\"},{\"attributes\":{\"label\":{\"value\":\"PR\"},\"renderers\":[{\"id\":\"455178bf-75cb-4783-b02c-1c101345690a\",\"type\":\"GlyphRenderer\"}]},\"id\":\"dcd16762-2de9-451f-93eb-76a53ee1d340\",\"type\":\"LegendItem\"},{\"attributes\":{\"fill_alpha\":{\"value\":0.1},\"fill_color\":{\"value\":\"#1f77b4\"},\"line_alpha\":{\"value\":0.1},\"line_color\":{\"value\":\"#1f77b4\"},\"size\":{\"units\":\"screen\",\"value\":5},\"x\":{\"field\":\"x\"},\"y\":{\"field\":\"y\"}},\"id\":\"c153d054-5aa1-484d-90ac-8453ceab05e0\",\"type\":\"Cross\"},{\"attributes\":{},\"id\":\"af3458f5-1b5d-4645-98e6-f55a7a4aeae9\",\"type\":\"BasicTicker\"},{\"attributes\":{\"line_alpha\":{\"value\":0.1},\"line_color\":{\"value\":\"#1f77b4\"},\"x\":{\"field\":\"x\"},\"y\":{\"field\":\"y\"}},\"id\":\"db0ac49e-2824-4c16-9698-0639b0d216f6\",\"type\":\"Line\"},{\"attributes\":{\"callback\":null,\"column_names\":[\"y\",\"x\"],\"data\":{\"x\":{\"__ndarray__\":\"AAAAAAAA8D9u27Zt27buP5IkSZIkSe4/SZIkSZIk7j8lSZIkSZLtPyVJkiRJkus/kiRJkiRJ6z8AAAAAAADrP27btm3btuo/JUmSJEmS6j9u27Zt27bpPyVJkiRJkuY/SZIkSZIk5j9JkiRJkiTmP5IkSZIkSeU/SZIkSZIk5T8AAAAAAADlP7dt27Zt2+Q/t23btm3b5D8lSZIkSZLkP9u2bdu2beQ/kiRJkiRJ5D+SJEmSJEnkPwAAAAAAAOQ/t23btm3b4z+SJEmSJEnjPwAAAAAAAOM/btu2bdu24j8lSZIkSZLiPyVJkiRJkuI/JUmSJEmS4j8lSZIkSZLiPyVJkiRJkuI/JUmSJEmS4j8lSZIkSZLiPyVJkiRJkuI/JUmSJEmS4j8lSZIkSZLiP9u2bdu2beI/SZIkSZIk4j9JkiRJkiTiP0mSJEmSJOI/SZIkSZIk4j9JkiRJkiTiP0mSJEmSJOI/t23btm3b4T+3bdu2bdvhP7dt27Zt2+E/27Zt27Zt4T/btm3btm3hP5IkSZIkSeE/kiRJkiRJ4T+SJEmSJEnhP7dt27Zt2+A/27Zt27Zt4D/btm3btm3gP9u2bdu2beA/27Zt27Zt3z/btm3btm3fP7dt27Zt294/t23btm3b3j8lSZIkSZLePyVJkiRJkt4/JUmSJEmS3j8lSZIkSZLePyVJkiRJkt4/AAAAAAAAAAA=\",\"dtype\":\"float64\",\"shape\":[67]},\"y\":{\"__ndarray__\":\"GqRBGqRBuj9o14y+8s/BP7ErQO41F8I/+iMWcKc/wj/QF/QFfUHDP6DwhaOGesY/2JN4OrvuzD9TnS3V2VLNPyTFKRxPls0/kmGDuHnyzT8gAt4fAt7PP2PSKiatYtI/UZpK9ubM0z9gKVDrVwrUP9/0pje96dk/TY4M8ivP2T8qLhmCdbTZP7qaq7maq9k/Gw7EPrW92T+FffcrcofZP8EWbMEWbNk/TPq3UpRQ2T/RRRdddNHZP5qZmZmZmdk/EhMew2592T9xP81bgzDZPw6/keXwG9k/YHvIZcVA2T83i2S6zSLZPxz83MTrSdk/Xonalahd2T8Yl0lOhHHZPx5l/n3dFNo/zhXJk/0+2j9zLIYLnsDaP96kderx7No/TA3sHVMD2z+7wRT5rBvcPwUvp+DlFNw/X7169erV2z/zLmun4x/cP/PiTySc0tw/i0LYPsxX3T/XDsy1A3PdP17cxV3cxd0/ruxzSE0w3j+PFpVIvqbeP+Dv9/v9ft8/UjCZg4Bb3z/I+amEgJzfP3u/rPfLet8/TR53lrCb3z8iIiIiIiLgPwu+noo0feA/sAVbsAVb4D86CcSFmpPgP7rooosuuuA/ZAK9U9dy4D/GW9nnkJrgP+xni5XhG+E/SOF6FK5H4T82eldkvjThP6aA+UB2YeE/Xk7Byyl44T/yGI/xGI/hP2K7WZ5EpuE/AAAAAAAA8D8=\",\"dtype\":\"float64\",\"shape\":[67]}}},\"id\":\"98eb4e50-fb78-40a9-b9c8-ec305957d5d7\",\"type\":\"ColumnDataSource\"},{\"attributes\":{\"plot\":{\"id\":\"e3d4e559-d3cd-4a96-ba00-540ccedf26f6\",\"subtype\":\"Figure\",\"type\":\"Plot\"}},\"id\":\"ff137347-1703-44c7-9acc-c8370a6c040b\",\"type\":\"ResetTool\"},{\"attributes\":{\"fill_alpha\":{\"value\":0.1},\"fill_color\":{\"value\":\"#1f77b4\"},\"line_alpha\":{\"value\":0.1},\"line_color\":{\"value\":\"#1f77b4\"},\"size\":{\"units\":\"screen\",\"value\":5},\"x\":{\"field\":\"x\"},\"y\":{\"field\":\"y\"}},\"id\":\"4f5366ba-7a21-4168-aa7b-4499248c66a2\",\"type\":\"Cross\"},{\"attributes\":{},\"id\":\"5d9a2403-ec75-4560-a328-ecdaefd79cbf\",\"type\":\"BasicTicker\"},{\"attributes\":{\"dimension\":1,\"plot\":{\"id\":\"e3d4e559-d3cd-4a96-ba00-540ccedf26f6\",\"subtype\":\"Figure\",\"type\":\"Plot\"},\"ticker\":{\"id\":\"5d9a2403-ec75-4560-a328-ecdaefd79cbf\",\"type\":\"BasicTicker\"}},\"id\":\"a77edcbf-f9ab-4a49-9de6-ce5a86a8ed66\",\"type\":\"Grid\"},{\"attributes\":{\"line_alpha\":{\"value\":0.1},\"line_color\":{\"value\":\"#1f77b4\"},\"x\":{\"field\":\"x\"},\"y\":{\"field\":\"y\"}},\"id\":\"cc443f2e-32a8-436c-88ce-9fb39e2c0b15\",\"type\":\"Line\"},{\"attributes\":{\"fill_color\":{\"value\":\"#1f77b4\"},\"line_color\":{\"value\":\"#1f77b4\"},\"size\":{\"units\":\"screen\",\"value\":5},\"x\":{\"field\":\"x\"},\"y\":{\"field\":\"y\"}},\"id\":\"41156bf3-1e8f-4fdd-95e0-1a3ff229e457\",\"type\":\"Cross\"},{\"attributes\":{\"fill_color\":{\"value\":\"#1f77b4\"},\"line_color\":{\"value\":\"#1f77b4\"},\"size\":{\"units\":\"screen\",\"value\":5},\"x\":{\"field\":\"x\"},\"y\":{\"field\":\"y\"}},\"id\":\"d8c285e6-ec10-4853-8a96-3d4d7382bb61\",\"type\":\"Cross\"},{\"attributes\":{\"plot\":{\"id\":\"e3d4e559-d3cd-4a96-ba00-540ccedf26f6\",\"subtype\":\"Figure\",\"type\":\"Plot\"},\"ticker\":{\"id\":\"cad82ca8-e302-4439-9aab-0a50eb0d8f03\",\"type\":\"BasicTicker\"}},\"id\":\"40f8f553-fbe7-45db-9a15-08fcec6da75f\",\"type\":\"Grid\"},{\"attributes\":{\"callback\":null,\"column_names\":[\"y\",\"x\"],\"data\":{\"x\":{\"__ndarray__\":\"AAAAAAAAAAB7IgPp/bmmP+HlFLycgqc/zxJ281sIqD/PEnbzWwioP70/1yobjqg/dvNbCBilqj9kIL0/1yqrP9u2bdu2bas/yuPOEnbzqz8vp+DlFLysP6Y9kYH0/qw/X/EVX/EVrz/ZcMS0JzKwPxW8nIKXU7A/FbycgpdTsD+MUk0ed5awPwPp/blW2bA/pPfnWmXDsT+SJEmSJEmyP/jnWmXDEbM/qsnjzhJ2sz/mFLycgpezPxCN9aGxPrQ/sZvfQsAotT9jfWisD421P2N9aKwPjbU/n8hAen+utT9qT2QgvT+3P6WaPO4sYbc/HDHtiQyktz+C9P5cq2y4P/mKr/iKr7g/1eRxZwm7uT9MeyID6f25P8MR057IQLo/wxHTnshAuj/tiQyk9+e6P2QgvT/XKrs/27Zt27Ztuz/btm3btm27P9u2bdu2bbs/fMVXfMVXvD98xVd8xVe8P3zFV3zFV7w/uBAwSjV5vD/zWwgYpZq8P/NbCBilmrw/jfWhsT40xj9A1yobjpjGP5qZmZmZmck/1eRxZwm70T8svuIrvuLTP62y4YhpT9Q//rlW2XDE1D+KDKT351rVPzKQ3p9rld0/X/EVX/EV4z/InSXs5rfkP3VQB3VQB+U/btu2bdu25T8AAAAAAADwPw==\",\"dtype\":\"float64\",\"shape\":[62]},\"y\":{\"__ndarray__\":\"AAAAAAAAAAAlSZIkSZLePyVJkiRJkt4/JUmSJEmS3j+3bdu2bdveP7dt27Zt294/27Zt27Zt3z/btm3btm3fP9u2bdu2beA/27Zt27Zt4D/btm3btm3gP7dt27Zt2+A/kiRJkiRJ4T+SJEmSJEnhP5IkSZIkSeE/27Zt27Zt4T/btm3btm3hP7dt27Zt2+E/t23btm3b4T+3bdu2bdvhP0mSJEmSJOI/SZIkSZIk4j9JkiRJkiTiP0mSJEmSJOI/SZIkSZIk4j9JkiRJkiTiP9u2bdu2beI/JUmSJEmS4j8lSZIkSZLiPyVJkiRJkuI/JUmSJEmS4j8lSZIkSZLiPyVJkiRJkuI/JUmSJEmS4j8lSZIkSZLiPyVJkiRJkuI/btu2bdu24j8AAAAAAADjP5IkSZIkSeM/t23btm3b4z8AAAAAAADkP5IkSZIkSeQ/kiRJkiRJ5D8lSZIkSZLkP7dt27Zt2+Q/t23btm3b5D8AAAAAAADlP5IkSZIkSeU/SZIkSZIk5j9JkiRJkiTmPyVJkiRJkuY/btu2bdu26T8lSZIkSZLqP27btm3btuo/AAAAAAAA6z+SJEmSJEnrPyVJkiRJkus/JUmSJEmS7T9JkiRJkiTuP5IkSZIkSe4/btu2bdu27j8AAAAAAADwPw==\",\"dtype\":\"float64\",\"shape\":[62]}}},\"id\":\"12136881-5a70-4ee3-91ab-8376688f6dfa\",\"type\":\"ColumnDataSource\"},{\"attributes\":{\"line_color\":{\"value\":\"#1f77b4\"},\"x\":{\"field\":\"x\"},\"y\":{\"field\":\"y\"}},\"id\":\"64f7c31d-80e1-4417-9587-a27e7c9a952e\",\"type\":\"Line\"},{\"attributes\":{},\"id\":\"1023d362-297f-4fbb-8325-94282bc21af9\",\"type\":\"BasicTickFormatter\"},{\"attributes\":{\"data_source\":{\"id\":\"44d4f478-29f0-451c-a804-24607e45e142\",\"type\":\"ColumnDataSource\"},\"glyph\":{\"id\":\"0d9dff2d-8a13-4f63-8675-fffd5b96a342\",\"type\":\"Circle\"},\"hover_glyph\":null,\"nonselection_glyph\":{\"id\":\"bd2d6e2d-fde8-41de-a188-62916ab37d33\",\"type\":\"Circle\"},\"selection_glyph\":null},\"id\":\"0671983b-f12f-49ef-9ab1-430d141c1c4f\",\"type\":\"GlyphRenderer\"},{\"attributes\":{\"label\":{\"value\":\"roc on train\"},\"renderers\":[{\"id\":\"d14a3d80-b49d-48cb-8b66-85164d17921a\",\"type\":\"GlyphRenderer\"}]},\"id\":\"20d1dfe4-b1c7-4c42-9c16-082cda20a0e6\",\"type\":\"LegendItem\"},{\"attributes\":{\"dimension\":1,\"plot\":{\"id\":\"2d97759c-421d-49dd-b3a0-f9f59602dd33\",\"subtype\":\"Figure\",\"type\":\"Plot\"},\"ticker\":{\"id\":\"9f74b431-a586-45f7-b718-dda64747e7ac\",\"type\":\"BasicTicker\"}},\"id\":\"593210b6-e8ba-4fa7-b2ac-a3bbfc165ff8\",\"type\":\"Grid\"},{\"attributes\":{\"callback\":null,\"column_names\":[\"x\",\"y\"],\"data\":{\"x\":[0,1],\"y\":[0,1]}},\"id\":\"5d1c3a1d-f86c-4b8c-9978-94847ff7394e\",\"type\":\"ColumnDataSource\"},{\"attributes\":{\"line_color\":{\"value\":\"red\"},\"x\":{\"field\":\"x\"},\"y\":{\"field\":\"y\"}},\"id\":\"e63e2f68-58df-45ce-82b2-d36932879b34\",\"type\":\"Line\"},{\"attributes\":{\"line_color\":{\"value\":\"#1f77b4\"},\"x\":{\"field\":\"x\"},\"y\":{\"field\":\"y\"}},\"id\":\"d1558b0d-4585-4297-9679-6c65b47bf15f\",\"type\":\"Line\"},{\"attributes\":{\"axis_label\":\"fpr\",\"formatter\":{\"id\":\"c8119856-80a9-44f0-a382-dce58279b74c\",\"type\":\"BasicTickFormatter\"},\"plot\":{\"id\":\"2d97759c-421d-49dd-b3a0-f9f59602dd33\",\"subtype\":\"Figure\",\"type\":\"Plot\"},\"ticker\":{\"id\":\"9f74b431-a586-45f7-b718-dda64747e7ac\",\"type\":\"BasicTicker\"}},\"id\":\"b75315bf-6342-4bae-b65f-8b601ffa0a52\",\"type\":\"LinearAxis\"},{\"attributes\":{\"data_source\":{\"id\":\"98eb4e50-fb78-40a9-b9c8-ec305957d5d7\",\"type\":\"ColumnDataSource\"},\"glyph\":{\"id\":\"64f7c31d-80e1-4417-9587-a27e7c9a952e\",\"type\":\"Line\"},\"hover_glyph\":null,\"nonselection_glyph\":{\"id\":\"cac86010-e12a-40ce-8588-83142c559b1d\",\"type\":\"Line\"},\"selection_glyph\":null},\"id\":\"455178bf-75cb-4783-b02c-1c101345690a\",\"type\":\"GlyphRenderer\"},{\"attributes\":{},\"id\":\"9f74b431-a586-45f7-b718-dda64747e7ac\",\"type\":\"BasicTicker\"},{\"attributes\":{\"line_color\":{\"value\":\"grey\"},\"x\":{\"field\":\"x\"},\"y\":{\"field\":\"y\"}},\"id\":\"a1036d7a-ab18-4493-b768-d5b3370834e0\",\"type\":\"Line\"},{\"attributes\":{\"data_source\":{\"id\":\"5d1c3a1d-f86c-4b8c-9978-94847ff7394e\",\"type\":\"ColumnDataSource\"},\"glyph\":{\"id\":\"a1036d7a-ab18-4493-b768-d5b3370834e0\",\"type\":\"Line\"},\"hover_glyph\":null,\"nonselection_glyph\":{\"id\":\"cc443f2e-32a8-436c-88ce-9fb39e2c0b15\",\"type\":\"Line\"},\"selection_glyph\":null},\"id\":\"5943cbe2-a1ce-4a68-af6e-68f5a27f6d8a\",\"type\":\"GlyphRenderer\"},{\"attributes\":{\"children\":[{\"id\":\"e3d4e559-d3cd-4a96-ba00-540ccedf26f6\",\"subtype\":\"Figure\",\"type\":\"Plot\"},{\"id\":\"2d97759c-421d-49dd-b3a0-f9f59602dd33\",\"subtype\":\"Figure\",\"type\":\"Plot\"}]},\"id\":\"0810d5d1-af80-4197-af81-af13112894ef\",\"type\":\"Row\"},{\"attributes\":{\"bottom_units\":\"screen\",\"fill_alpha\":{\"value\":0.5},\"fill_color\":{\"value\":\"lightgrey\"},\"left_units\":\"screen\",\"level\":\"overlay\",\"line_alpha\":{\"value\":1.0},\"line_color\":{\"value\":\"black\"},\"line_dash\":[4,4],\"line_width\":{\"value\":2},\"plot\":null,\"render_mode\":\"css\",\"right_units\":\"screen\",\"top_units\":\"screen\"},\"id\":\"565eed44-7059-49eb-89a4-4ebfe38ad45c\",\"type\":\"BoxAnnotation\"},{\"attributes\":{\"callback\":null,\"column_names\":[\"x\",\"y\"],\"data\":{\"x\":{\"__ndarray__\":\"AAAAAAAAAABn0LLjOZWkPxGWJWBpJKU/M1cJeQxBpT8O533V99GmP1JpRQc+C6c/6XbyMeNiqD9Pup18zLioP/l/EPn7R6k/PQLYKkKBqT+jRYN1K9epP+bHSqdxEKo/sk6hPES8qj/UD4VV59iqP1wUFLlzS6s/oJbb6rmEqz/CV78DXaGrP47eFZkvTaw/FeOk/Lu/rD+d5zNgSDKtPwMr36oxiK0/AyvfqjGIrT/PsTVABDSuP4iAxoNMqK8/f+bHSqdxsD+Yy8g6hfKwP2wuAvkcOrE/ju/lEcBWsT+e+APZ2DuyPxNFzeradrM/6KcGqXK+sz/opwapcr6zP5iatMP1lrU/KXsmUEeltT8peyZQR6W1P/7dXw7f7LU/huLucWtftj+oo9KKDny2PzmERBdgirY/0JHxQQXitz8UFLlzSxu4P6X0KgCdKbg/6XbyMeNiuD/5fxD5+0e5PxtB9BGfZLk/G0H0EZ9kuT/woy3QNqy5PxJlEenZyLk/EmUR6dnIuT9MC/bxWma6P0wL9vFaZro/TAv28Vpmuj/d62d+rHS6P/+sS5dPkbo//6xLl0+Ruj8hbi+w8q26PyFuL7Dyrbo/GnIIiS7AxD+AtbPTFxbFPymLSM9Gzsg/rvmQ4HGM0T/vzLCHRnPTP8J4sfvs09M/cKyVDP8w1D+vwOupYpzUP9Q4CA33n9Q/iyfdTj5m3D+gMwUDCu3iPyr3XXAH2+Q/kDoJu/Aw5T+h+l/M+vzlPwAAAAAAAPA/\",\"dtype\":\"float64\",\"shape\":[72]},\"y\":{\"__ndarray__\":\"AAAAAAAAAABvyBvyhrzhP2/IG/KGvOE/b8gb8oa84T+HvCFvyBviP4u6oq6oK+I/m7KmrClr4j+7oq6oK+riP7uirqgr6uI/v6Av6Av64j+/oC/oC/riP7+gL+gL+uI/v6Av6Av64j+/oC/oC/riP86YM+aMOeM/zpgz5ow54z/OmDPmjDnjP96QN+QNeeM/7og74o644z/uiDvijrjjP+6IO+KOuOM/9oQ9YU/Y4z8OeUPekDfkPw55Q96QN+Q/DnlD3pA35D8ecUfcEXfkPx5xR9wRd+Q/HnFH3BF35D8ecUfcEXfkPyZtSVvSluQ/Jm1JW9KW5D8qa8qasqbkPyprypqypuQ/KmvKmrKm5D8uaUvakrbkPy5pS9qStuQ/MmfMGXPG5D8yZ8wZc8bkPzJnzBlzxuQ/MmfMGXPG5D8yZ8wZc8bkPzJnzBlzxuQ/MmfMGXPG5D9FXVFX1BXlP2FP2BP2hOU/bUlb0pa05T99QV/QF/TlP4E/4A/4A+Y/iTvijrgj5j+NOWPOmDPmP5U1ZU1ZU+Y/mTPmjDlj5j+dMWfMGXPmP50xZ8wZc+Y/tSVtSVvS5j+1JW1JW9LmP70hb8gb8uY//AF/wB/w5z/8AX/AH/DnPxzyhrwhb+g/o66oK+qK6j/KmrKmrCnrP9qStqQtaes/6oq6oq6o6z/qirqirqjrP+qKuqKuqOs/KmvKmrKm7D+pK+qKuqLuP6kr6oq6ou4/qSvqirqi7j+1JW1JW9LuPwAAAAAAAPA/\",\"dtype\":\"float64\",\"shape\":[72]}}},\"id\":\"7fc659a8-6d0c-4f7a-878d-99a04e681f32\",\"type\":\"ColumnDataSource\"},{\"attributes\":{\"fill_alpha\":{\"value\":0.1},\"fill_color\":{\"value\":\"#1f77b4\"},\"line_alpha\":{\"value\":0.1},\"line_color\":{\"value\":\"#1f77b4\"},\"size\":{\"units\":\"screen\",\"value\":5},\"x\":{\"field\":\"x\"},\"y\":{\"field\":\"y\"}},\"id\":\"0ed82e88-b1a8-4d38-9b75-10844bec10e9\",\"type\":\"Circle\"},{\"attributes\":{\"line_alpha\":{\"value\":0.1},\"line_color\":{\"value\":\"#1f77b4\"},\"x\":{\"field\":\"x\"},\"y\":{\"field\":\"y\"}},\"id\":\"cac86010-e12a-40ce-8588-83142c559b1d\",\"type\":\"Line\"},{\"attributes\":{\"plot\":{\"id\":\"e3d4e559-d3cd-4a96-ba00-540ccedf26f6\",\"subtype\":\"Figure\",\"type\":\"Plot\"}},\"id\":\"b67db0b3-0b33-41b7-93b3-f01ccc185b2c\",\"type\":\"SaveTool\"},{\"attributes\":{\"fill_alpha\":{\"value\":0.1},\"fill_color\":{\"value\":\"#1f77b4\"},\"line_alpha\":{\"value\":0.1},\"line_color\":{\"value\":\"#1f77b4\"},\"size\":{\"units\":\"screen\",\"value\":5},\"x\":{\"field\":\"x\"},\"y\":{\"field\":\"y\"}},\"id\":\"bd2d6e2d-fde8-41de-a188-62916ab37d33\",\"type\":\"Circle\"},{\"attributes\":{\"line_alpha\":{\"value\":0.1},\"line_color\":{\"value\":\"#1f77b4\"},\"x\":{\"field\":\"x\"},\"y\":{\"field\":\"y\"}},\"id\":\"b3adba3b-9921-4de7-9315-f9632f0c98fc\",\"type\":\"Line\"},{\"attributes\":{\"line_alpha\":{\"value\":0.1},\"line_color\":{\"value\":\"#1f77b4\"},\"x\":{\"field\":\"x\"},\"y\":{\"field\":\"y\"}},\"id\":\"6d11a375-118d-48fa-b7c4-d4bac67db148\",\"type\":\"Line\"},{\"attributes\":{\"plot\":{\"id\":\"2d97759c-421d-49dd-b3a0-f9f59602dd33\",\"subtype\":\"Figure\",\"type\":\"Plot\"},\"ticker\":{\"id\":\"af3458f5-1b5d-4645-98e6-f55a7a4aeae9\",\"type\":\"BasicTicker\"}},\"id\":\"9f9d64c5-86e7-4a40-8264-6eaadbf90518\",\"type\":\"Grid\"},{\"attributes\":{\"plot\":{\"id\":\"2d97759c-421d-49dd-b3a0-f9f59602dd33\",\"subtype\":\"Figure\",\"type\":\"Plot\"}},\"id\":\"4119dbf8-a506-4519-bbbd-525aad4ed19c\",\"type\":\"HelpTool\"},{\"attributes\":{\"data_source\":{\"id\":\"cba1cea0-70dd-41b2-abd0-e5e4f43a1efc\",\"type\":\"ColumnDataSource\"},\"glyph\":{\"id\":\"d1558b0d-4585-4297-9679-6c65b47bf15f\",\"type\":\"Line\"},\"hover_glyph\":null,\"nonselection_glyph\":{\"id\":\"db0ac49e-2824-4c16-9698-0639b0d216f6\",\"type\":\"Line\"},\"selection_glyph\":null},\"id\":\"1048b48f-2de8-40d6-885d-5cbc226ee8fc\",\"type\":\"GlyphRenderer\"},{\"attributes\":{},\"id\":\"55932754-0c6a-4a01-82fd-35d4abe90003\",\"type\":\"BasicTickFormatter\"},{\"attributes\":{\"plot\":{\"id\":\"2d97759c-421d-49dd-b3a0-f9f59602dd33\",\"subtype\":\"Figure\",\"type\":\"Plot\"}},\"id\":\"2deb9690-5c81-4bce-ba7e-e8239f656b97\",\"type\":\"ResetTool\"},{\"attributes\":{\"data_source\":{\"id\":\"c76232d7-e82b-4be3-919c-7facfea53670\",\"type\":\"ColumnDataSource\"},\"glyph\":{\"id\":\"d8c285e6-ec10-4853-8a96-3d4d7382bb61\",\"type\":\"Cross\"},\"hover_glyph\":null,\"nonselection_glyph\":{\"id\":\"c153d054-5aa1-484d-90ac-8453ceab05e0\",\"type\":\"Cross\"},\"selection_glyph\":null},\"id\":\"ce13b0dc-0b66-430c-b8b3-408fe4e21a28\",\"type\":\"GlyphRenderer\"},{\"attributes\":{\"below\":[{\"id\":\"c6c2722e-485b-4eb1-8afd-27132a9b5dd2\",\"type\":\"LinearAxis\"}],\"left\":[{\"id\":\"b75315bf-6342-4bae-b65f-8b601ffa0a52\",\"type\":\"LinearAxis\"}],\"plot_height\":400,\"plot_width\":400,\"renderers\":[{\"id\":\"c6c2722e-485b-4eb1-8afd-27132a9b5dd2\",\"type\":\"LinearAxis\"},{\"id\":\"9f9d64c5-86e7-4a40-8264-6eaadbf90518\",\"type\":\"Grid\"},{\"id\":\"b75315bf-6342-4bae-b65f-8b601ffa0a52\",\"type\":\"LinearAxis\"},{\"id\":\"593210b6-e8ba-4fa7-b2ac-a3bbfc165ff8\",\"type\":\"Grid\"},{\"id\":\"efed4cc4-4312-4392-87c6-4ec48df6f1d5\",\"type\":\"BoxAnnotation\"},{\"id\":\"45dff218-3b7a-4353-88e7-ea492dbdf363\",\"type\":\"GlyphRenderer\"},{\"id\":\"08d8cb41-ec9f-47c7-b8ea-a82ba41ca747\",\"type\":\"Legend\"},{\"id\":\"1048b48f-2de8-40d6-885d-5cbc226ee8fc\",\"type\":\"GlyphRenderer\"},{\"id\":\"0671983b-f12f-49ef-9ab1-430d141c1c4f\",\"type\":\"GlyphRenderer\"},{\"id\":\"d14a3d80-b49d-48cb-8b66-85164d17921a\",\"type\":\"GlyphRenderer\"},{\"id\":\"5943cbe2-a1ce-4a68-af6e-68f5a27f6d8a\",\"type\":\"GlyphRenderer\"}],\"title\":{\"id\":\"7b6fd07a-0095-4637-ae5f-67f3f6dda611\",\"type\":\"Title\"},\"tool_events\":{\"id\":\"1e25618f-77dd-4030-b0f5-d531f9f8d157\",\"type\":\"ToolEvents\"},\"toolbar\":{\"id\":\"efe20103-2a7e-451f-bf0e-b85ebe7c8a34\",\"type\":\"Toolbar\"},\"x_range\":{\"id\":\"0e58ca90-50c4-4143-81da-636b90ca9228\",\"type\":\"Range1d\"},\"y_range\":{\"id\":\"0e58ca90-50c4-4143-81da-636b90ca9228\",\"type\":\"Range1d\"}},\"id\":\"2d97759c-421d-49dd-b3a0-f9f59602dd33\",\"subtype\":\"Figure\",\"type\":\"Plot\"},{\"attributes\":{\"plot\":{\"id\":\"e3d4e559-d3cd-4a96-ba00-540ccedf26f6\",\"subtype\":\"Figure\",\"type\":\"Plot\"}},\"id\":\"81f81d3c-404f-491c-8e0d-83d7cda05cd8\",\"type\":\"WheelZoomTool\"},{\"attributes\":{\"below\":[{\"id\":\"f1812c0f-ebde-4a03-87b2-36453bed007e\",\"type\":\"LinearAxis\"}],\"left\":[{\"id\":\"1d0b200b-ad89-479a-ac47-208369c686f5\",\"type\":\"LinearAxis\"}],\"plot_height\":400,\"plot_width\":400,\"renderers\":[{\"id\":\"f1812c0f-ebde-4a03-87b2-36453bed007e\",\"type\":\"LinearAxis\"},{\"id\":\"40f8f553-fbe7-45db-9a15-08fcec6da75f\",\"type\":\"Grid\"},{\"id\":\"1d0b200b-ad89-479a-ac47-208369c686f5\",\"type\":\"LinearAxis\"},{\"id\":\"a77edcbf-f9ab-4a49-9de6-ce5a86a8ed66\",\"type\":\"Grid\"},{\"id\":\"565eed44-7059-49eb-89a4-4ebfe38ad45c\",\"type\":\"BoxAnnotation\"},{\"id\":\"ce13b0dc-0b66-430c-b8b3-408fe4e21a28\",\"type\":\"GlyphRenderer\"},{\"id\":\"967ea1b4-d673-47d0-a596-99626979291d\",\"type\":\"Legend\"},{\"id\":\"455178bf-75cb-4783-b02c-1c101345690a\",\"type\":\"GlyphRenderer\"},{\"id\":\"429b9927-5ac7-4859-aff1-42d7425900db\",\"type\":\"GlyphRenderer\"},{\"id\":\"a19209a3-2fd1-44eb-9032-698726fb6b38\",\"type\":\"GlyphRenderer\"}],\"title\":{\"id\":\"84fbad4d-8529-4380-8caa-280f01ea0fd7\",\"type\":\"Title\"},\"tool_events\":{\"id\":\"62879351-142a-4d7f-a949-457786824af5\",\"type\":\"ToolEvents\"},\"toolbar\":{\"id\":\"69ac7be1-b3b1-4c34-8dea-4b51a598daf6\",\"type\":\"Toolbar\"},\"x_range\":{\"id\":\"935de538-fcbf-4def-9d1f-818fcad7fffc\",\"type\":\"DataRange1d\"},\"y_range\":{\"id\":\"557307da-a18b-4775-9885-e57c26052bde\",\"type\":\"DataRange1d\"}},\"id\":\"e3d4e559-d3cd-4a96-ba00-540ccedf26f6\",\"subtype\":\"Figure\",\"type\":\"Plot\"},{\"attributes\":{\"data_source\":{\"id\":\"2d787191-7ce6-486a-b746-03f97aa5d23a\",\"type\":\"ColumnDataSource\"},\"glyph\":{\"id\":\"bd15a306-4ffa-4a94-a3ec-53cb1ad38002\",\"type\":\"Circle\"},\"hover_glyph\":null,\"nonselection_glyph\":{\"id\":\"0ed82e88-b1a8-4d38-9b75-10844bec10e9\",\"type\":\"Circle\"},\"selection_glyph\":null},\"id\":\"429b9927-5ac7-4859-aff1-42d7425900db\",\"type\":\"GlyphRenderer\"},{\"attributes\":{\"axis_label\":\"precision\",\"formatter\":{\"id\":\"1023d362-297f-4fbb-8325-94282bc21af9\",\"type\":\"BasicTickFormatter\"},\"plot\":{\"id\":\"e3d4e559-d3cd-4a96-ba00-540ccedf26f6\",\"subtype\":\"Figure\",\"type\":\"Plot\"},\"ticker\":{\"id\":\"5d9a2403-ec75-4560-a328-ecdaefd79cbf\",\"type\":\"BasicTicker\"}},\"id\":\"1d0b200b-ad89-479a-ac47-208369c686f5\",\"type\":\"LinearAxis\"},{\"attributes\":{\"plot\":{\"id\":\"e3d4e559-d3cd-4a96-ba00-540ccedf26f6\",\"subtype\":\"Figure\",\"type\":\"Plot\"}},\"id\":\"c4a4065c-2368-4c11-af30-415dab715ad7\",\"type\":\"HelpTool\"},{\"attributes\":{\"label\":{\"value\":\"roc\"},\"renderers\":[{\"id\":\"1048b48f-2de8-40d6-885d-5cbc226ee8fc\",\"type\":\"GlyphRenderer\"}]},\"id\":\"3f7bda45-ea45-459f-92f9-e7ad6da1d0b7\",\"type\":\"LegendItem\"}],\"root_ids\":[\"0810d5d1-af80-4197-af81-af13112894ef\"]},\"title\":\"Bokeh Application\",\"version\":\"0.12.4\"}};\n",
       "            var render_items = [{\"docid\":\"68b2cde9-8f57-49e7-b6ab-5fa2960b02c9\",\"elementid\":\"d9a3becf-cff9-4b7e-8ec7-439fa86df43a\",\"modelid\":\"0810d5d1-af80-4197-af81-af13112894ef\"}];\n",
       "            \n",
       "            Bokeh.embed.embed_items(docs_json, render_items);\n",
       "          };\n",
       "          if (document.readyState != \"loading\") fn();\n",
       "          else document.addEventListener(\"DOMContentLoaded\", fn);\n",
       "        })();\n",
       "      },\n",
       "      function(Bokeh) {\n",
       "      }\n",
       "    ];\n",
       "  \n",
       "    function run_inline_js() {\n",
       "      \n",
       "      if ((window.Bokeh !== undefined) || (force === true)) {\n",
       "        for (var i = 0; i < inline_js.length; i++) {\n",
       "          inline_js[i](window.Bokeh);\n",
       "        }if (force === true) {\n",
       "          display_loaded();\n",
       "        }} else if (Date.now() < window._bokeh_timeout) {\n",
       "        setTimeout(run_inline_js, 100);\n",
       "      } else if (!window._bokeh_failed_load) {\n",
       "        console.log(\"Bokeh: BokehJS failed to load within specified timeout.\");\n",
       "        window._bokeh_failed_load = true;\n",
       "      } else if (force !== true) {\n",
       "        var cell = $(document.getElementById(\"d9a3becf-cff9-4b7e-8ec7-439fa86df43a\")).parents('.cell').data().cell;\n",
       "        cell.output_area.append_execute_result(NB_LOAD_WARNING)\n",
       "      }\n",
       "  \n",
       "    }\n",
       "  \n",
       "    if (window._bokeh_is_loading === 0) {\n",
       "      console.log(\"Bokeh: BokehJS loaded, going straight to plotting\");\n",
       "      run_inline_js();\n",
       "    } else {\n",
       "      load_libs(js_urls, function() {\n",
       "        console.log(\"Bokeh: BokehJS plotting callback run at\", now());\n",
       "        run_inline_js();\n",
       "      });\n",
       "    }\n",
       "  }(this));\n",
       "</script>"
      ]
     },
     "metadata": {},
     "output_type": "display_data"
    }
   ],
   "source": [
    "from bokeh.models.ranges import Range1d\n",
    "#print \"auc: %.2g, on train: %.2g\" %(roc_auc, roc_auc_train)\n",
    "roc_df = pd.DataFrame({\"fpr\":fpr,\"tpr\":tpr}).set_index(\"fpr\")\n",
    "pr_df = pd.DataFrame({\"precision\": precision, \"recall\":recall}).set_index(\"recall\")\n",
    "roc_df[\"diag\"] = roc_df.index\n",
    "pr_df[\"random\"] = pr_df.precision.iloc[0]\n",
    "\n",
    "# roc curve\n",
    "roc_f = figure(width=400,height=400,title=\"roc, auc: %.2g, on train: %.2g\"  %(roc_auc, roc_auc_train) )\n",
    "roc_f.xaxis.axis_label = \"tpr\"\n",
    "auc_range= Range1d(0,1)\n",
    "roc_f.x_range = auc_range \n",
    "roc_f.y_range = auc_range \n",
    "roc_f.yaxis.axis_label = \"fpr\"\n",
    "roc_f.cross(fpr,tpr,size=5)\n",
    "roc_f.line(fpr,tpr,legend=\"roc\")\n",
    "roc_f.circle(fpr_train,tpr_train,size=5,color=\"red\", line_width=1)\n",
    "roc_f.line(fpr_train,tpr_train,color=\"red\",legend=\"roc on train\")\n",
    "roc_f.line([0,1],[0,1], color=\"grey\")\n",
    "\n",
    "# pr curve\n",
    "pr_f = figure(width=400,height=400,title=\"PR curve\")\n",
    "pr_f.xaxis.axis_label = \"recall\"\n",
    "pr_f.yaxis.axis_label = \"precision\"\n",
    "pr_f.cross(recall,precision,size=5)\n",
    "pr_f.line(recall,precision,legend=\"PR\")\n",
    "pr_f.circle(recall_train,precision_train,size=5,color=\"red\", line_width=1)\n",
    "pr_f.line(recall_train,precision_train,color=\"red\",legend=\"PR on train\")\n",
    "\n",
    "show(row(\n",
    "    pr_f,\n",
    "    roc_f\n",
    "))"
   ]
  },
  {
   "cell_type": "markdown",
   "metadata": {},
   "source": [
    "### Feature Importance"
   ]
  },
  {
   "cell_type": "code",
   "execution_count": 370,
   "metadata": {
    "ExecuteTime": {
     "end_time": "2017-01-25T01:04:29.098340",
     "start_time": "2017-01-25T01:04:29.037369"
    },
    "collapsed": true
   },
   "outputs": [
    {
     "data": {
      "text/html": [
       "<div>\n",
       "<table border=\"1\" class=\"dataframe\">\n",
       "  <thead>\n",
       "    <tr style=\"text-align: right;\">\n",
       "      <th></th>\n",
       "      <th>importance</th>\n",
       "    </tr>\n",
       "  </thead>\n",
       "  <tbody>\n",
       "    <tr>\n",
       "      <th>avg_over2_attribute7</th>\n",
       "      <td>0.075044</td>\n",
       "    </tr>\n",
       "    <tr>\n",
       "      <th>avg_over2_attribute2</th>\n",
       "      <td>0.052664</td>\n",
       "    </tr>\n",
       "    <tr>\n",
       "      <th>avg_over1_dt2_attribute2</th>\n",
       "      <td>0.047126</td>\n",
       "    </tr>\n",
       "    <tr>\n",
       "      <th>avg_over1_attribute7</th>\n",
       "      <td>0.041062</td>\n",
       "    </tr>\n",
       "    <tr>\n",
       "      <th>avg_over0_dt2_attribute2</th>\n",
       "      <td>0.040053</td>\n",
       "    </tr>\n",
       "    <tr>\n",
       "      <th>avg_over1_attribute5</th>\n",
       "      <td>0.037641</td>\n",
       "    </tr>\n",
       "    <tr>\n",
       "      <th>avg_over14_attribute9</th>\n",
       "      <td>0.037396</td>\n",
       "    </tr>\n",
       "    <tr>\n",
       "      <th>avg_over1_attribute4</th>\n",
       "      <td>0.035768</td>\n",
       "    </tr>\n",
       "    <tr>\n",
       "      <th>avg_over2_attribute5</th>\n",
       "      <td>0.035039</td>\n",
       "    </tr>\n",
       "    <tr>\n",
       "      <th>avg_over0_attribute7</th>\n",
       "      <td>0.034961</td>\n",
       "    </tr>\n",
       "    <tr>\n",
       "      <th>avg_over1_attribute9</th>\n",
       "      <td>0.034629</td>\n",
       "    </tr>\n",
       "    <tr>\n",
       "      <th>avg_over14_dt2_attribute2</th>\n",
       "      <td>0.032872</td>\n",
       "    </tr>\n",
       "    <tr>\n",
       "      <th>avg_over14_dt_attribute2</th>\n",
       "      <td>0.032737</td>\n",
       "    </tr>\n",
       "    <tr>\n",
       "      <th>avg_over0_dt_attribute2</th>\n",
       "      <td>0.030614</td>\n",
       "    </tr>\n",
       "    <tr>\n",
       "      <th>avg_over0_attribute9</th>\n",
       "      <td>0.029279</td>\n",
       "    </tr>\n",
       "    <tr>\n",
       "      <th>avg_over0_attribute5</th>\n",
       "      <td>0.029120</td>\n",
       "    </tr>\n",
       "    <tr>\n",
       "      <th>avg_over1_attribute6</th>\n",
       "      <td>0.028040</td>\n",
       "    </tr>\n",
       "    <tr>\n",
       "      <th>avg_over14_attribute6</th>\n",
       "      <td>0.027967</td>\n",
       "    </tr>\n",
       "    <tr>\n",
       "      <th>avg_over0_attribute2</th>\n",
       "      <td>0.027714</td>\n",
       "    </tr>\n",
       "    <tr>\n",
       "      <th>avg_over0_attribute4</th>\n",
       "      <td>0.026201</td>\n",
       "    </tr>\n",
       "    <tr>\n",
       "      <th>avg_over14_attribute8</th>\n",
       "      <td>0.025704</td>\n",
       "    </tr>\n",
       "    <tr>\n",
       "      <th>avg_over1_attribute8</th>\n",
       "      <td>0.025208</td>\n",
       "    </tr>\n",
       "    <tr>\n",
       "      <th>avg_over1_attribute2</th>\n",
       "      <td>0.024972</td>\n",
       "    </tr>\n",
       "    <tr>\n",
       "      <th>avg_over14_attribute5</th>\n",
       "      <td>0.024742</td>\n",
       "    </tr>\n",
       "    <tr>\n",
       "      <th>avg_over14_attribute4</th>\n",
       "      <td>0.023982</td>\n",
       "    </tr>\n",
       "    <tr>\n",
       "      <th>avg_over0_attribute8</th>\n",
       "      <td>0.023512</td>\n",
       "    </tr>\n",
       "    <tr>\n",
       "      <th>avg_over14_attribute7</th>\n",
       "      <td>0.023411</td>\n",
       "    </tr>\n",
       "    <tr>\n",
       "      <th>avg_over0_attribute6</th>\n",
       "      <td>0.022480</td>\n",
       "    </tr>\n",
       "    <tr>\n",
       "      <th>avg_over14_attribute2</th>\n",
       "      <td>0.022336</td>\n",
       "    </tr>\n",
       "    <tr>\n",
       "      <th>avg_over2_attribute6</th>\n",
       "      <td>0.018912</td>\n",
       "    </tr>\n",
       "    <tr>\n",
       "      <th>...</th>\n",
       "      <td>...</td>\n",
       "    </tr>\n",
       "    <tr>\n",
       "      <th>dft_p0_indattribute4</th>\n",
       "      <td>0.000000</td>\n",
       "    </tr>\n",
       "    <tr>\n",
       "      <th>avg_over4_attribute2</th>\n",
       "      <td>0.000000</td>\n",
       "    </tr>\n",
       "    <tr>\n",
       "      <th>avg_over7_dt2_attribute2</th>\n",
       "      <td>0.000000</td>\n",
       "    </tr>\n",
       "    <tr>\n",
       "      <th>avg_over7_attribute9</th>\n",
       "      <td>0.000000</td>\n",
       "    </tr>\n",
       "    <tr>\n",
       "      <th>avg_over2_dt2_attribute2</th>\n",
       "      <td>0.000000</td>\n",
       "    </tr>\n",
       "    <tr>\n",
       "      <th>avg_over2_dt_attribute2</th>\n",
       "      <td>0.000000</td>\n",
       "    </tr>\n",
       "    <tr>\n",
       "      <th>avg_over3_attribute2</th>\n",
       "      <td>0.000000</td>\n",
       "    </tr>\n",
       "    <tr>\n",
       "      <th>avg_over3_attribute4</th>\n",
       "      <td>0.000000</td>\n",
       "    </tr>\n",
       "    <tr>\n",
       "      <th>avg_over3_attribute5</th>\n",
       "      <td>0.000000</td>\n",
       "    </tr>\n",
       "    <tr>\n",
       "      <th>avg_over3_attribute6</th>\n",
       "      <td>0.000000</td>\n",
       "    </tr>\n",
       "    <tr>\n",
       "      <th>avg_over3_attribute7</th>\n",
       "      <td>0.000000</td>\n",
       "    </tr>\n",
       "    <tr>\n",
       "      <th>avg_over3_attribute8</th>\n",
       "      <td>0.000000</td>\n",
       "    </tr>\n",
       "    <tr>\n",
       "      <th>avg_over3_attribute9</th>\n",
       "      <td>0.000000</td>\n",
       "    </tr>\n",
       "    <tr>\n",
       "      <th>avg_over3_dt2_attribute2</th>\n",
       "      <td>0.000000</td>\n",
       "    </tr>\n",
       "    <tr>\n",
       "      <th>avg_over3_dt_attribute2</th>\n",
       "      <td>0.000000</td>\n",
       "    </tr>\n",
       "    <tr>\n",
       "      <th>avg_over4_attribute4</th>\n",
       "      <td>0.000000</td>\n",
       "    </tr>\n",
       "    <tr>\n",
       "      <th>avg_over4_attribute5</th>\n",
       "      <td>0.000000</td>\n",
       "    </tr>\n",
       "    <tr>\n",
       "      <th>avg_over4_attribute6</th>\n",
       "      <td>0.000000</td>\n",
       "    </tr>\n",
       "    <tr>\n",
       "      <th>avg_over4_attribute7</th>\n",
       "      <td>0.000000</td>\n",
       "    </tr>\n",
       "    <tr>\n",
       "      <th>avg_over4_attribute8</th>\n",
       "      <td>0.000000</td>\n",
       "    </tr>\n",
       "    <tr>\n",
       "      <th>avg_over4_attribute9</th>\n",
       "      <td>0.000000</td>\n",
       "    </tr>\n",
       "    <tr>\n",
       "      <th>avg_over4_dt2_attribute2</th>\n",
       "      <td>0.000000</td>\n",
       "    </tr>\n",
       "    <tr>\n",
       "      <th>avg_over4_dt_attribute2</th>\n",
       "      <td>0.000000</td>\n",
       "    </tr>\n",
       "    <tr>\n",
       "      <th>avg_over7_attribute2</th>\n",
       "      <td>0.000000</td>\n",
       "    </tr>\n",
       "    <tr>\n",
       "      <th>avg_over7_attribute4</th>\n",
       "      <td>0.000000</td>\n",
       "    </tr>\n",
       "    <tr>\n",
       "      <th>avg_over7_attribute5</th>\n",
       "      <td>0.000000</td>\n",
       "    </tr>\n",
       "    <tr>\n",
       "      <th>avg_over7_attribute6</th>\n",
       "      <td>0.000000</td>\n",
       "    </tr>\n",
       "    <tr>\n",
       "      <th>avg_over7_attribute7</th>\n",
       "      <td>0.000000</td>\n",
       "    </tr>\n",
       "    <tr>\n",
       "      <th>avg_over7_attribute8</th>\n",
       "      <td>0.000000</td>\n",
       "    </tr>\n",
       "    <tr>\n",
       "      <th>mean_dt_attribute2</th>\n",
       "      <td>0.000000</td>\n",
       "    </tr>\n",
       "  </tbody>\n",
       "</table>\n",
       "<p>91 rows × 1 columns</p>\n",
       "</div>"
      ],
      "text/plain": [
       "                           importance\n",
       "avg_over2_attribute7         0.075044\n",
       "avg_over2_attribute2         0.052664\n",
       "avg_over1_dt2_attribute2     0.047126\n",
       "avg_over1_attribute7         0.041062\n",
       "avg_over0_dt2_attribute2     0.040053\n",
       "avg_over1_attribute5         0.037641\n",
       "avg_over14_attribute9        0.037396\n",
       "avg_over1_attribute4         0.035768\n",
       "avg_over2_attribute5         0.035039\n",
       "avg_over0_attribute7         0.034961\n",
       "avg_over1_attribute9         0.034629\n",
       "avg_over14_dt2_attribute2    0.032872\n",
       "avg_over14_dt_attribute2     0.032737\n",
       "avg_over0_dt_attribute2      0.030614\n",
       "avg_over0_attribute9         0.029279\n",
       "avg_over0_attribute5         0.029120\n",
       "avg_over1_attribute6         0.028040\n",
       "avg_over14_attribute6        0.027967\n",
       "avg_over0_attribute2         0.027714\n",
       "avg_over0_attribute4         0.026201\n",
       "avg_over14_attribute8        0.025704\n",
       "avg_over1_attribute8         0.025208\n",
       "avg_over1_attribute2         0.024972\n",
       "avg_over14_attribute5        0.024742\n",
       "avg_over14_attribute4        0.023982\n",
       "avg_over0_attribute8         0.023512\n",
       "avg_over14_attribute7        0.023411\n",
       "avg_over0_attribute6         0.022480\n",
       "avg_over14_attribute2        0.022336\n",
       "avg_over2_attribute6         0.018912\n",
       "...                               ...\n",
       "dft_p0_indattribute4         0.000000\n",
       "avg_over4_attribute2         0.000000\n",
       "avg_over7_dt2_attribute2     0.000000\n",
       "avg_over7_attribute9         0.000000\n",
       "avg_over2_dt2_attribute2     0.000000\n",
       "avg_over2_dt_attribute2      0.000000\n",
       "avg_over3_attribute2         0.000000\n",
       "avg_over3_attribute4         0.000000\n",
       "avg_over3_attribute5         0.000000\n",
       "avg_over3_attribute6         0.000000\n",
       "avg_over3_attribute7         0.000000\n",
       "avg_over3_attribute8         0.000000\n",
       "avg_over3_attribute9         0.000000\n",
       "avg_over3_dt2_attribute2     0.000000\n",
       "avg_over3_dt_attribute2      0.000000\n",
       "avg_over4_attribute4         0.000000\n",
       "avg_over4_attribute5         0.000000\n",
       "avg_over4_attribute6         0.000000\n",
       "avg_over4_attribute7         0.000000\n",
       "avg_over4_attribute8         0.000000\n",
       "avg_over4_attribute9         0.000000\n",
       "avg_over4_dt2_attribute2     0.000000\n",
       "avg_over4_dt_attribute2      0.000000\n",
       "avg_over7_attribute2         0.000000\n",
       "avg_over7_attribute4         0.000000\n",
       "avg_over7_attribute5         0.000000\n",
       "avg_over7_attribute6         0.000000\n",
       "avg_over7_attribute7         0.000000\n",
       "avg_over7_attribute8         0.000000\n",
       "mean_dt_attribute2           0.000000\n",
       "\n",
       "[91 rows x 1 columns]"
      ]
     },
     "execution_count": 370,
     "metadata": {},
     "output_type": "execute_result"
    }
   ],
   "source": [
    "feature_imp = pd.DataFrame({\"importance\":model.feature_importances_}).set_index(feature_set.columns)\n",
    "feature_imp.sort_values(by=\"importance\",ascending=False)"
   ]
  },
  {
   "cell_type": "markdown",
   "metadata": {},
   "source": [
    "### Hyperparameter optimisation\n",
    "\n",
    "\n"
   ]
  },
  {
   "cell_type": "code",
   "execution_count": 371,
   "metadata": {
    "ExecuteTime": {
     "end_time": "2017-01-25T01:04:40.464433",
     "start_time": "2017-01-25T01:04:40.460379"
    },
    "collapsed": false
   },
   "outputs": [],
   "source": [
    "# model : GradientBoostingClassifier, parameters: \n",
    "#loss : {‘deviance’, ‘exponential’},\n",
    "#learning_rate : float, optional (default=0.1)\n",
    "#n_estimators : int (default=100)\n",
    "#max_depth : integer, optional (default=3)\n",
    "#min_samples_split : int, float, optional (default=2)\n",
    "grids=dict()\n",
    "XDB_param_grid = {\n",
    "    #\"model__loss\":  [\"deviance\", 'exponential'],\n",
    "    \"model__learning_rate\" : [1e-3,0.01, 0.1],\n",
    "    \"model__n_estimators\" : [10, 50, 100, 150],\n",
    "    \"model__max_depth\" : [5,10,15],\n",
    "    \"model__min_samples_split\" : [5,10,20]\n",
    "}\n",
    "grids[GradientBoostingClassifier] = XDB_param_grid"
   ]
  },
  {
   "cell_type": "code",
   "execution_count": 372,
   "metadata": {
    "ExecuteTime": {
     "end_time": "2017-01-25T01:04:40.825860",
     "start_time": "2017-01-25T01:04:40.822049"
    },
    "collapsed": true
   },
   "outputs": [],
   "source": [
    "# C :penalty\n",
    "# kernel : ‘linear’, ‘poly’, ‘rbf’, ‘sigmoid’, ‘precomputed’ \n",
    "SVC_param_grid = {\n",
    "   'model__C': [1e-7,1e-6,1e-5,0.1],\n",
    "    \"model__kernel\": [\"rbf\",\"linear\"],\n",
    "    #\"model_degree\" : [1,3,5], # polynomial degrees\n",
    "    \"model__gamma\" : [\"auto\"], # kernel coef (rbf)\n",
    "    #\"coef0\" # for poly, signmoid\n",
    "    \"model__tol\" : [1e-7,1e-6,1e-5, 1e-4,1e-3]\n",
    "}\n",
    "grids[SVC] = SVC_param_grid"
   ]
  },
  {
   "cell_type": "code",
   "execution_count": 373,
   "metadata": {
    "ExecuteTime": {
     "end_time": "2017-01-25T01:04:41.296692",
     "start_time": "2017-01-25T01:04:41.292516"
    },
    "collapsed": true
   },
   "outputs": [],
   "source": [
    "# model : RandomForestClassifier, parameters: \n",
    "# n_estimators : int (default=100)\n",
    "# criterion : \"gini\",\"entropy\"\n",
    "# max_features : auto , fraction\n",
    "# max_depth : integer, optional (default=3)\n",
    "# min_samples_split : int, float, optional (default=2)\n",
    "\n",
    "RF_param_grid = {\n",
    "    \"model__criterion\":  [\"entropy\"],\n",
    "    \"model__n_estimators\" : [100,200,300,400],\n",
    "    \"model__max_features\" : [\"auto\"],\n",
    "    \"model__max_depth\" : [20,30,40],\n",
    "    \"model__min_samples_split\" : [10,20,30]\n",
    "}\n",
    "grids[RandomForestClassifier] = RF_param_grid"
   ]
  },
  {
   "cell_type": "code",
   "execution_count": 374,
   "metadata": {
    "ExecuteTime": {
     "end_time": "2017-01-25T01:10:16.762396",
     "start_time": "2017-01-25T01:04:42.198537"
    },
    "collapsed": false
   },
   "outputs": [
    {
     "name": "stdout",
     "output_type": "stream",
     "text": [
      "Fitting 4 folds for each of 36 candidates, totalling 144 fits\n"
     ]
    },
    {
     "name": "stderr",
     "output_type": "stream",
     "text": [
      "[Parallel(n_jobs=-1)]: Done  34 tasks      | elapsed:  1.3min\n",
      "[Parallel(n_jobs=-1)]: Done 144 out of 144 | elapsed:  5.5min finished\n"
     ]
    },
    {
     "name": "stdout",
     "output_type": "stream",
     "text": [
      "Best: 0.380537 using {'model__n_estimators': 100, 'model__max_features': 'auto', 'model__max_depth': 40, 'model__min_samples_split': 30, 'model__criterion': 'entropy'}\n"
     ]
    }
   ],
   "source": [
    "m  = type(dict(pipeline.steps)[\"model\"])\n",
    "param_grid=grids[m]\n",
    "\n",
    "from sklearn.model_selection import GridSearchCV\n",
    "from sklearn.model_selection import StratifiedKFold\n",
    "\n",
    "splits = splitting_strategy.split(feature_mat,label_mat,device_groups)\n",
    "#kfold = StratifiedKFold(n_splits=6, shuffle=True)\n",
    "grid_search = GridSearchCV(\n",
    "    pipeline, \n",
    "    param_grid,\n",
    "    scoring=\"f1\",\n",
    "    n_jobs=-1,\n",
    "    verbose=1,\n",
    "    cv=splits\n",
    ")\n",
    "grid_result = grid_search.fit(feature_mat,label_mat)\n",
    "\n",
    "\n",
    "# summarize results\n",
    "print(\"Best: %f using %s\" % (grid_result.best_score_, grid_result.best_params_))\n",
    "means = grid_result.cv_results_['mean_test_score']\n",
    "stds = grid_result.cv_results_['std_test_score']\n",
    "params = grid_result.cv_results_['params']\n",
    "#for mean, stdev, param in zip(means, stds, params):\n",
    "#    print(\"%f (%f) with: %r\" % (mean, stdev, param))"
   ]
  },
  {
   "cell_type": "code",
   "execution_count": null,
   "metadata": {
    "collapsed": true
   },
   "outputs": [],
   "source": [
    "pipeline.get_params()"
   ]
  },
  {
   "cell_type": "code",
   "execution_count": 485,
   "metadata": {
    "ExecuteTime": {
     "end_time": "2017-01-25T06:45:05.074056",
     "start_time": "2017-01-25T02:15:35.131293"
    },
    "collapsed": false
   },
   "outputs": [
    {
     "name": "stderr",
     "output_type": "stream",
     "text": [
      "Optimization Progress:   0%|          | 6/2200 [04:23<22:12:02, 36.43s/pipeline]n Progress:   0%|          | 1/2200 [00:40<24:32:02, 40.16s/pipeline]          Optimization Progress:   0%|          | 5/2200 [04:23<31:41:28, 51.98s/pipeline]"
     ]
    },
    {
     "name": "stdout",
     "output_type": "stream",
     "text": [
      "Timeout during evaluation of pipeline #5. Skipping to the next pipeline.\n"
     ]
    },
    {
     "name": "stderr",
     "output_type": "stream",
     "text": [
      "Optimization Progress:   1%|          | 17/2200 [08:09<4:17:38,  7.08s/pipeline] ptimization Progress:   0%|          | 8/2200 [06:23<32:43:34, 53.75s/pipeline]          Optimization Progress:   1%|          | 18/2200 [08:09<14:28:24, 23.88s/pipeline]"
     ]
    },
    {
     "name": "stdout",
     "output_type": "stream",
     "text": [
      "Timeout during evaluation of pipeline #18. Skipping to the next pipeline.\n"
     ]
    },
    {
     "name": "stderr",
     "output_type": "stream",
     "text": [
      "Optimization Progress:   1%|          | 23/2200 [13:02<30:10:12, 49.89s/pipeline]Optimization Progress:   1%|          | 20/2200 [09:42<18:55:08, 31.24s/pipeline]          Optimization Progress:   1%|          | 24/2200 [13:02<36:25:49, 60.27s/pipeline]"
     ]
    },
    {
     "name": "stdout",
     "output_type": "stream",
     "text": [
      "Timeout during evaluation of pipeline #24. Skipping to the next pipeline.\n"
     ]
    },
    {
     "name": "stderr",
     "output_type": "stream",
     "text": [
      "Optimization Progress:   1%|▏         | 28/2200 [15:56<18:58:37, 31.45s/pipeline]Optimization Progress:   1%|          | 26/2200 [13:08<18:59:39, 31.45s/pipeline]          Optimization Progress:   1%|▏         | 29/2200 [15:56<29:49:14, 49.45s/pipeline]"
     ]
    },
    {
     "name": "stdout",
     "output_type": "stream",
     "text": [
      "Timeout during evaluation of pipeline #29. Skipping to the next pipeline.\n"
     ]
    },
    {
     "name": "stderr",
     "output_type": "stream",
     "text": [
      "Optimization Progress:   2%|▏         | 49/2200 [26:22<15:39:37, 26.21s/pipeline]Optimization Progress:   1%|▏         | 31/2200 [16:18<18:31:10, 30.74s/pipeline]          Optimization Progress:   2%|▏         | 48/2200 [26:22<22:20:37, 37.38s/pipeline]"
     ]
    },
    {
     "name": "stdout",
     "output_type": "stream",
     "text": [
      "Timeout during evaluation of pipeline #48. Skipping to the next pipeline.\n"
     ]
    },
    {
     "name": "stderr",
     "output_type": "stream",
     "text": [
      "Optimization Progress:   3%|▎         | 61/2200 [28:18<3:27:48,  5.83s/pipeline]]Optimization Progress:   2%|▏         | 51/2200 [26:23<7:42:10, 12.90s/pipeline]           Optimization Progress:   3%|▎         | 62/2200 [28:18<11:09:37, 18.79s/pipeline]"
     ]
    },
    {
     "name": "stdout",
     "output_type": "stream",
     "text": [
      "Timeout during evaluation of pipeline #62. Skipping to the next pipeline.\n"
     ]
    },
    {
     "name": "stderr",
     "output_type": "stream",
     "text": [
      "Optimization Progress:   4%|▎         | 77/2200 [35:35<14:11:21, 24.06s/pipeline]Optimization Progress:   3%|▎         | 65/2200 [28:41<8:17:13, 13.97s/pipeline]           Optimization Progress:   4%|▎         | 78/2200 [35:35<19:21:34, 32.84s/pipeline]"
     ]
    },
    {
     "name": "stdout",
     "output_type": "stream",
     "text": [
      "Timeout during evaluation of pipeline #78. Skipping to the next pipeline.\n"
     ]
    },
    {
     "name": "stderr",
     "output_type": "stream",
     "text": [
      "Optimization Progress:   4%|▎         | 80/2200 [36:27<15:54:15, 27.01s/pipeline]Optimization Progress:   4%|▎         | 79/2200 [36:27<22:41:51, 38.52s/pipeline]"
     ]
    },
    {
     "name": "stdout",
     "output_type": "stream",
     "text": [
      "Timeout during evaluation of pipeline #79. Skipping to the next pipeline.\n"
     ]
    },
    {
     "name": "stderr",
     "output_type": "stream",
     "text": [
      "Optimization Progress:   4%|▍         | 95/2200 [40:05<6:05:02, 10.40s/pipeline] Optimization Progress:   4%|▍         | 83/2200 [37:18<10:56:23, 18.60s/pipeline]          Optimization Progress:   4%|▍         | 96/2200 [40:05<12:50:25, 21.97s/pipeline]"
     ]
    },
    {
     "name": "stdout",
     "output_type": "stream",
     "text": [
      "Timeout during evaluation of pipeline #96. Skipping to the next pipeline.\n"
     ]
    },
    {
     "name": "stderr",
     "output_type": "stream",
     "text": [
      "Optimization Progress:   5%|▍         | 107/2200 [58:27<10:14:03, 17.60s/pipeline]ptimization Progress:   4%|▍         | 98/2200 [43:53<45:21:44, 77.69s/pipeline]          Optimization Progress:   5%|▍         | 108/2200 [58:27<117:24:05, 202.03s/pipeline]"
     ]
    },
    {
     "name": "stdout",
     "output_type": "stream",
     "text": [
      "Timeout during evaluation of pipeline #108. Skipping to the next pipeline.\n"
     ]
    },
    {
     "name": "stderr",
     "output_type": "stream",
     "text": [
      "\r",
      "          \r",
      "\r",
      "          \r",
      "Optimization Progress:   5%|▍         | 108/2200 [59:15<117:24:05, 202.03s/pipeline]\r",
      "Optimization Progress:   5%|▍         | 109/2200 [59:15<90:30:58, 155.84s/pipeline] "
     ]
    },
    {
     "name": "stdout",
     "output_type": "stream",
     "text": [
      "Timeout during evaluation of pipeline #109. Skipping to the next pipeline.\n"
     ]
    },
    {
     "name": "stderr",
     "output_type": "stream",
     "text": [
      "Optimization Progress:   5%|▌         | 116/2200 [1:02:26<15:31:12, 26.81s/pipeline] timization Progress:   5%|▌         | 111/2200 [1:00:53<60:51:57, 104.89s/pipeline]          Optimization Progress:   5%|▌         | 117/2200 [1:02:26<19:23:13, 33.51s/pipeline]"
     ]
    },
    {
     "name": "stdout",
     "output_type": "stream",
     "text": [
      "Timeout during evaluation of pipeline #117. Skipping to the next pipeline.\n"
     ]
    },
    {
     "name": "stderr",
     "output_type": "stream",
     "text": [
      "Optimization Progress:   6%|▌         | 126/2200 [1:08:25<15:49:40, 27.47s/pipeline]Optimization Progress:   5%|▌         | 119/2200 [1:02:44<12:38:32, 21.87s/pipeline]          Optimization Progress:   6%|▌         | 127/2200 [1:08:25<19:37:52, 34.09s/pipeline]"
     ]
    },
    {
     "name": "stdout",
     "output_type": "stream",
     "text": [
      "Timeout during evaluation of pipeline #127. Skipping to the next pipeline.\n"
     ]
    },
    {
     "name": "stderr",
     "output_type": "stream",
     "text": [
      "Optimization Progress:   6%|▌         | 130/2200 [1:14:00<39:13:30, 68.22s/pipeline]         Optimization Progress:   6%|▌         | 129/2200 [1:14:00<17:08:02, 29.78s/pipeline]"
     ]
    },
    {
     "name": "stdout",
     "output_type": "stream",
     "text": [
      "Timeout during evaluation of pipeline #130. Skipping to the next pipeline.\n"
     ]
    },
    {
     "name": "stderr",
     "output_type": "stream",
     "text": [
      "Optimization Progress:   6%|▌         | 134/2200 [1:15:44<14:57:13, 26.06s/pipeline]Optimization Progress:   6%|▌         | 132/2200 [1:14:39<24:54:06, 43.35s/pipeline]          Optimization Progress:   6%|▌         | 135/2200 [1:15:44<18:55:11, 32.98s/pipeline]"
     ]
    },
    {
     "name": "stdout",
     "output_type": "stream",
     "text": [
      "Timeout during evaluation of pipeline #135. Skipping to the next pipeline.\n"
     ]
    },
    {
     "name": "stderr",
     "output_type": "stream",
     "text": [
      "Optimization Progress:   7%|▋         | 145/2200 [1:18:13<9:16:58, 16.26s/pipeline] Optimization Progress:   6%|▌         | 137/2200 [1:16:59<22:02:28, 38.46s/pipeline]          Optimization Progress:   7%|▋         | 144/2200 [1:18:12<13:14:04, 23.17s/pipeline]"
     ]
    },
    {
     "name": "stdout",
     "output_type": "stream",
     "text": [
      "Timeout during evaluation of pipeline #144. Skipping to the next pipeline.\n"
     ]
    },
    {
     "name": "stderr",
     "output_type": "stream",
     "text": [
      "Optimization Progress:   7%|▋         | 153/2200 [1:19:41<2:39:58,  4.69s/pipeline]Optimization Progress:   7%|▋         | 147/2200 [1:18:42<8:56:51, 15.69s/pipeline]          Optimization Progress:   7%|▋         | 154/2200 [1:19:41<6:04:43, 10.70s/pipeline]"
     ]
    },
    {
     "name": "stdout",
     "output_type": "stream",
     "text": [
      "Timeout during evaluation of pipeline #154. Skipping to the next pipeline.\n"
     ]
    },
    {
     "name": "stderr",
     "output_type": "stream",
     "text": [
      "Optimization Progress:   8%|▊         | 165/2200 [1:22:10<7:54:16, 13.98s/pipeline] ptimization Progress:   7%|▋         | 156/2200 [1:19:43<3:08:56,  5.55s/pipeline]          Optimization Progress:   8%|▊         | 166/2200 [1:22:10<9:44:21, 17.24s/pipeline]"
     ]
    },
    {
     "name": "stdout",
     "output_type": "stream",
     "text": [
      "Timeout during evaluation of pipeline #166. Skipping to the next pipeline.\n"
     ]
    },
    {
     "name": "stderr",
     "output_type": "stream",
     "text": [
      "Optimization Progress:   8%|▊         | 174/2200 [1:24:26<5:39:32, 10.06s/pipeline] Optimization Progress:   8%|▊         | 169/2200 [1:23:11<11:59:02, 21.24s/pipeline]          Optimization Progress:   8%|▊         | 175/2200 [1:24:26<12:36:55, 22.43s/pipeline]"
     ]
    },
    {
     "name": "stdout",
     "output_type": "stream",
     "text": [
      "Timeout during evaluation of pipeline #175. Skipping to the next pipeline.\n"
     ]
    },
    {
     "name": "stderr",
     "output_type": "stream",
     "text": [
      "\r",
      "          \r",
      "\r",
      "          \r",
      "Optimization Progress:   8%|▊         | 175/2200 [1:25:17<12:36:55, 22.43s/pipeline]\r",
      "Optimization Progress:   8%|▊         | 176/2200 [1:25:17<17:26:44, 31.03s/pipeline]"
     ]
    },
    {
     "name": "stdout",
     "output_type": "stream",
     "text": [
      "Timeout during evaluation of pipeline #176. Skipping to the next pipeline.\n"
     ]
    },
    {
     "name": "stderr",
     "output_type": "stream",
     "text": [
      "Optimization Progress:   9%|▉         | 201/2200 [1:29:43<14:50:37, 26.73s/pipeline]timization Progress:   8%|▊         | 178/2200 [1:25:51<13:14:25, 23.57s/pipeline]                    Optimization Progress:   9%|▉         | 200/2200 [1:29:43<21:10:47, 38.12s/pipeline]                    Optimization Progress:   9%|▉         | 200/2200 [1:29:43<21:10:47, 38.12s/pipeline]"
     ]
    },
    {
     "name": "stdout",
     "output_type": "stream",
     "text": [
      "Generation 1 - Current Pareto front scores:\n",
      "1\t0.546564102675\tBernoulliNB(input_matrix, 0.77000000000000002, 11.0)\n",
      "2\t0.54704102246\tBernoulliNB(DecisionTreeClassifier(input_matrix), 0.85999999999999999, 0.84999999999999998)\n",
      "\n"
     ]
    },
    {
     "name": "stderr",
     "output_type": "stream",
     "text": [
      "Optimization Progress:  12%|█▏        | 260/2200 [1:50:11<23:30:18, 43.62s/pipeline]Optimization Progress:   9%|▉         | 204/2200 [1:30:26<12:04:43, 21.79s/pipeline]          Optimization Progress:  12%|█▏        | 261/2200 [1:50:11<24:38:27, 45.75s/pipeline]"
     ]
    },
    {
     "name": "stdout",
     "output_type": "stream",
     "text": [
      "Timeout during evaluation of pipeline #261. Skipping to the next pipeline.\n"
     ]
    },
    {
     "name": "stderr",
     "output_type": "stream",
     "text": [
      "Optimization Progress:  12%|█▏        | 269/2200 [1:53:20<10:59:46, 20.50s/pipeline]Optimization Progress:  12%|█▏        | 263/2200 [1:50:13<12:18:51, 22.89s/pipeline]          Optimization Progress:  12%|█▏        | 270/2200 [1:53:20<16:02:32, 29.92s/pipeline]"
     ]
    },
    {
     "name": "stdout",
     "output_type": "stream",
     "text": [
      "Timeout during evaluation of pipeline #270. Skipping to the next pipeline.\n"
     ]
    },
    {
     "name": "stderr",
     "output_type": "stream",
     "text": [
      "Optimization Progress:  16%|█▋        | 360/2200 [2:21:23<8:28:49, 16.59s/pipeline] Optimization Progress:  12%|█▏        | 272/2200 [1:54:41<20:47:54, 38.84s/pipeline]Optimization Progress:  13%|█▎        | 286/2200 [1:54:56<1:44:49,  3.29s/pipeline]Optimization Progress:  16%|█▋        | 359/2200 [2:19:07<50:36,  1.65s/pipeline]          Optimization Progress:  16%|█▋        | 361/2200 [2:21:23<14:03:30, 27.52s/pipeline]"
     ]
    },
    {
     "name": "stdout",
     "output_type": "stream",
     "text": [
      "Timeout during evaluation of pipeline #361. Skipping to the next pipeline.\n"
     ]
    },
    {
     "name": "stderr",
     "output_type": "stream",
     "text": [
      "Optimization Progress:  18%|█▊        | 401/2200 [2:29:16<7:15:51, 14.54s/pipeline] timization Progress:  17%|█▋        | 364/2200 [2:21:28<7:20:02, 14.38s/pipeline]                     Optimization Progress:  17%|█▋        | 383/2200 [2:29:16<10:28:47, 20.76s/pipeline]                    Optimization Progress:  17%|█▋        | 383/2200 [2:29:16<10:28:47, 20.76s/pipeline]"
     ]
    },
    {
     "name": "stdout",
     "output_type": "stream",
     "text": [
      "Generation 2 - Current Pareto front scores:\n",
      "1\t0.546564102675\tBernoulliNB(input_matrix, 0.77000000000000002, 11.0)\n",
      "2\t0.551495349613\tBernoulliNB(DecisionTreeClassifier(input_matrix), 0.85999999999999999, 0.5)\n",
      "\n"
     ]
    },
    {
     "name": "stderr",
     "output_type": "stream",
     "text": [
      "Optimization Progress:  19%|█▉        | 416/2200 [2:30:43<2:11:04,  4.41s/pipeline]Optimization Progress:  19%|█▊        | 408/2200 [2:29:32<4:14:33,  8.52s/pipeline]          Optimization Progress:  19%|█▉        | 417/2200 [2:30:43<5:27:14, 11.01s/pipeline]"
     ]
    },
    {
     "name": "stdout",
     "output_type": "stream",
     "text": [
      "Timeout during evaluation of pipeline #417. Skipping to the next pipeline.\n"
     ]
    },
    {
     "name": "stderr",
     "output_type": "stream",
     "text": [
      "Optimization Progress:  22%|██▏       | 492/2200 [2:33:19<5:40:39, 11.97s/pipeline]Optimization Progress:  19%|█▉        | 420/2200 [2:30:44<2:43:13,  5.50s/pipeline]Optimization Progress:  20%|█▉        | 429/2200 [2:30:58<40:25,  1.37s/pipeline]          Optimization Progress:  22%|██▏       | 490/2200 [2:33:19<8:06:23, 17.07s/pipeline]"
     ]
    },
    {
     "name": "stdout",
     "output_type": "stream",
     "text": [
      "Timeout during evaluation of pipeline #490. Skipping to the next pipeline.\n"
     ]
    },
    {
     "name": "stderr",
     "output_type": "stream",
     "text": [
      "Optimization Progress:  26%|██▌       | 577/2200 [2:34:34<05:21,  5.05pipeline/s] Optimization Progress:  22%|██▏       | 494/2200 [2:33:30<3:48:37,  8.04s/pipeline]                    Optimization Progress:  26%|██▌       | 577/2200 [2:34:34<05:21,  5.05pipeline/s]          "
     ]
    },
    {
     "name": "stdout",
     "output_type": "stream",
     "text": [
      "Generation 3 - Current Pareto front scores:\n",
      "1\t0.551891875346\tBernoulliNB(CombineDFs(input_matrix, input_matrix), 0.83999999999999997, 13.0)\n",
      "\n"
     ]
    },
    {
     "name": "stderr",
     "output_type": "stream",
     "text": [
      "Optimization Progress:  32%|███▏      | 693/2200 [2:39:16<1:38:08,  3.91s/pipeline] imization Progress:  28%|██▊       | 605/2200 [2:34:35<04:06,  6.47pipeline/s]Optimization Progress:  31%|███       | 682/2200 [2:37:18<04:21,  5.82pipeline/s]Optimization Progress:  32%|███▏      | 693/2200 [2:38:28<1:38:08,  3.91s/pipeline]          Optimization Progress:  32%|███▏      | 694/2200 [2:39:16<4:54:39, 11.74s/pipeline]"
     ]
    },
    {
     "name": "stdout",
     "output_type": "stream",
     "text": [
      "Timeout during evaluation of pipeline #694. Skipping to the next pipeline.\n"
     ]
    },
    {
     "name": "stderr",
     "output_type": "stream",
     "text": [
      "Optimization Progress:  33%|███▎      | 720/2200 [2:40:35<3:35:59,  8.76s/pipeline]Optimization Progress:  32%|███▏      | 698/2200 [2:39:16<2:25:04,  5.80s/pipeline]          Optimization Progress:  33%|███▎      | 718/2200 [2:40:35<5:08:18, 12.48s/pipeline]"
     ]
    },
    {
     "name": "stdout",
     "output_type": "stream",
     "text": [
      "Timeout during evaluation of pipeline #718. Skipping to the next pipeline.\n"
     ]
    },
    {
     "name": "stderr",
     "output_type": "stream",
     "text": [
      "Optimization Progress:  34%|███▍      | 750/2200 [2:43:17<2:41:32,  6.68s/pipeline]Optimization Progress:  33%|███▎      | 723/2200 [2:40:36<1:49:16,  4.44s/pipeline]          Optimization Progress:  34%|███▍      | 751/2200 [2:43:17<8:10:51, 20.33s/pipeline]"
     ]
    },
    {
     "name": "stdout",
     "output_type": "stream",
     "text": [
      "Timeout during evaluation of pipeline #751. Skipping to the next pipeline.\n"
     ]
    },
    {
     "name": "stderr",
     "output_type": "stream",
     "text": [
      "Optimization Progress:  34%|███▍      | 754/2200 [2:54:08<58:51:26, 146.53s/pipeline]timization Progress:  34%|███▍      | 752/2200 [2:54:08<84:11:13, 209.30s/pipeline]"
     ]
    },
    {
     "name": "stdout",
     "output_type": "stream",
     "text": [
      "Timeout during evaluation of pipeline #752. Skipping to the next pipeline.\n"
     ]
    },
    {
     "name": "stderr",
     "output_type": "stream",
     "text": [
      "          n Progress:  36%|███▌      | 789/2200 [2:56:27<1:00:29,  2.57s/pipeline]]Optimization Progress:  34%|███▍      | 758/2200 [2:54:08<28:46:23, 71.83s/pipeline] Optimization Progress:  34%|███▍      | 759/2200 [2:54:19<28:45:12, 71.83s/pipeline]Optimization Progress:  35%|███▍      | 766/2200 [2:54:39<7:18:22, 18.34s/pipeline]                    Optimization Progress:  36%|███▌      | 789/2200 [2:56:27<1:00:29,  2.57s/pipeline]                    Optimization Progress:  36%|███▌      | 789/2200 [2:56:27<1:00:29,  2.57s/pipeline]"
     ]
    },
    {
     "name": "stdout",
     "output_type": "stream",
     "text": [
      "Generation 4 - Current Pareto front scores:\n",
      "1\t0.551891875346\tBernoulliNB(CombineDFs(input_matrix, input_matrix), 0.83999999999999997, 13.0)\n",
      "2\t0.555308354395\tBernoulliNB(DecisionTreeClassifier(input_matrix), 0.96999999999999997, 0.070000000000000007)\n",
      "\n"
     ]
    },
    {
     "name": "stderr",
     "output_type": "stream",
     "text": [
      "Optimization Progress:  42%|████▏     | 929/2200 [3:00:42<3:56:17, 11.15s/pipeline]Optimization Progress:  37%|███▋      | 804/2200 [2:56:27<29:58,  1.29s/pipeline]Optimization Progress:  39%|███▉      | 853/2200 [2:57:00<05:28,  4.10pipeline/s]Optimization Progress:  40%|███▉      | 879/2200 [2:57:40<08:37,  2.55pipeline/s]Optimization Progress:  41%|████      | 907/2200 [2:58:10<03:44,  5.75pipeline/s]          Optimization Progress:  42%|████▏     | 930/2200 [3:00:42<8:17:57, 23.53s/pipeline]"
     ]
    },
    {
     "name": "stdout",
     "output_type": "stream",
     "text": [
      "Timeout during evaluation of pipeline #930. Skipping to the next pipeline.\n"
     ]
    },
    {
     "name": "stderr",
     "output_type": "stream",
     "text": [
      "Optimization Progress:  44%|████▍     | 976/2200 [3:02:26<04:55,  4.14pipeline/s]  Optimization Progress:  42%|████▏     | 933/2200 [3:00:43<4:07:37, 11.73s/pipeline]Optimization Progress:  44%|████▍     | 976/2200 [3:01:40<04:55,  4.14pipeline/s]          Optimization Progress:  44%|████▍     | 977/2200 [3:02:26<6:45:59, 19.92s/pipeline]"
     ]
    },
    {
     "name": "stdout",
     "output_type": "stream",
     "text": [
      "Timeout during evaluation of pipeline #977. Skipping to the next pipeline.\n"
     ]
    },
    {
     "name": "stderr",
     "output_type": "stream",
     "text": [
      "Optimization Progress:  44%|████▍     | 978/2200 [3:02:28<4:52:03, 14.34s/pipeline]        Optimization Progress:  44%|████▍     | 978/2200 [3:02:28<4:52:03, 14.34s/pipeline]                    Optimization Progress:  44%|████▍     | 978/2200 [3:02:28<4:52:03, 14.34s/pipeline]          "
     ]
    },
    {
     "name": "stdout",
     "output_type": "stream",
     "text": [
      "Generation 5 - Current Pareto front scores:\n",
      "1\t0.551891875346\tBernoulliNB(CombineDFs(input_matrix, input_matrix), 0.83999999999999997, 13.0)\n",
      "2\t0.562297456421\tBernoulliNB(DecisionTreeClassifier(input_matrix), 0.20000000000000001, 0.070000000000000007)\n",
      "\n"
     ]
    },
    {
     "name": "stderr",
     "output_type": "stream",
     "text": [
      "Optimization Progress:  47%|████▋     | 1026/2200 [3:05:52<4:50:11, 14.83s/pipeline]Optimization Progress:  46%|████▌     | 1003/2200 [3:02:29<2:21:05,  7.07s/pipeline]          Optimization Progress:  47%|████▋     | 1027/2200 [3:05:52<12:22:26, 37.98s/pipeline]"
     ]
    },
    {
     "name": "stdout",
     "output_type": "stream",
     "text": [
      "Timeout during evaluation of pipeline #1027. Skipping to the next pipeline.\n"
     ]
    },
    {
     "name": "stderr",
     "output_type": "stream",
     "text": [
      "Optimization Progress:  49%|████▉     | 1073/2200 [3:07:47<3:44:21, 11.94s/pipeline] Optimization Progress:  47%|████▋     | 1029/2200 [3:05:52<6:05:28, 18.73s/pipeline]Optimization Progress:  48%|████▊     | 1059/2200 [3:06:50<04:15,  4.47pipeline/s]          Optimization Progress:  49%|████▊     | 1071/2200 [3:07:47<5:20:33, 17.04s/pipeline]"
     ]
    },
    {
     "name": "stdout",
     "output_type": "stream",
     "text": [
      "Timeout during evaluation of pipeline #1071. Skipping to the next pipeline.\n"
     ]
    },
    {
     "name": "stderr",
     "output_type": "stream",
     "text": [
      "Optimization Progress:  49%|████▉     | 1083/2200 [3:09:04<44:18,  2.38s/pipeline]  Optimization Progress:  49%|████▉     | 1077/2200 [3:08:09<2:50:40,  9.12s/pipeline]          Optimization Progress:  49%|████▉     | 1084/2200 [3:09:04<5:31:39, 17.83s/pipeline]"
     ]
    },
    {
     "name": "stdout",
     "output_type": "stream",
     "text": [
      "Timeout during evaluation of pipeline #1084. Skipping to the next pipeline.\n"
     ]
    },
    {
     "name": "stderr",
     "output_type": "stream",
     "text": [
      "Optimization Progress:  51%|█████     | 1114/2200 [3:11:14<3:32:47, 11.76s/pipeline]Optimization Progress:  49%|████▉     | 1087/2200 [3:09:52<5:47:29, 18.73s/pipeline]Optimization Progress:  51%|█████     | 1112/2200 [3:10:30<14:23,  1.26pipeline/s]          Optimization Progress:  51%|█████     | 1113/2200 [3:11:14<5:03:06, 16.73s/pipeline]"
     ]
    },
    {
     "name": "stdout",
     "output_type": "stream",
     "text": [
      "Timeout during evaluation of pipeline #1113. Skipping to the next pipeline.\n"
     ]
    },
    {
     "name": "stderr",
     "output_type": "stream",
     "text": [
      "Optimization Progress:  51%|█████     | 1119/2200 [3:12:10<2:58:12,  9.89s/pipeline]         Optimization Progress:  51%|█████     | 1116/2200 [3:12:10<2:31:05,  8.36s/pipeline]"
     ]
    },
    {
     "name": "stdout",
     "output_type": "stream",
     "text": [
      "Timeout during evaluation of pipeline #1117. Skipping to the next pipeline.\n"
     ]
    },
    {
     "name": "stderr",
     "output_type": "stream",
     "text": [
      "          n Progress:  54%|█████▍    | 1183/2200 [3:16:58<4:02:39, 14.32s/pipeline]ptimization Progress:  51%|█████     | 1123/2200 [3:12:11<1:29:15,  4.97s/pipeline]Optimization Progress:  52%|█████▏    | 1149/2200 [3:12:50<03:34,  4.89pipeline/s]Optimization Progress:  54%|█████▎    | 1181/2200 [3:16:11<05:17,  3.21pipeline/s]          Optimization Progress:  54%|█████▎    | 1182/2200 [3:16:58<5:46:16, 20.41s/pipeline]                    Optimization Progress:  54%|█████▍    | 1183/2200 [3:16:58<4:02:39, 14.32s/pipeline]                    Optimization Progress:  54%|█████▍    | 1183/2200 [3:16:58<4:02:39, 14.32s/pipeline]"
     ]
    },
    {
     "name": "stdout",
     "output_type": "stream",
     "text": [
      "Timeout during evaluation of pipeline #1182. Skipping to the next pipeline.\n",
      "Generation 6 - Current Pareto front scores:\n",
      "1\t0.551891875346\tBernoulliNB(CombineDFs(input_matrix, input_matrix), 0.83999999999999997, 13.0)\n",
      "2\t0.562297456421\tBernoulliNB(DecisionTreeClassifier(input_matrix), 0.20000000000000001, 0.070000000000000007)\n",
      "\n"
     ]
    },
    {
     "name": "stderr",
     "output_type": "stream",
     "text": [
      "Optimization Progress:  58%|█████▊    | 1287/2200 [3:21:29<2:39:23, 10.47s/pipeline]Optimization Progress:  55%|█████▍    | 1205/2200 [3:17:00<1:57:56,  7.11s/pipeline]Optimization Progress:  56%|█████▌    | 1226/2200 [3:17:21<10:26,  1.55pipeline/s]          Optimization Progress:  58%|█████▊    | 1285/2200 [3:21:28<3:47:36, 14.93s/pipeline]"
     ]
    },
    {
     "name": "stdout",
     "output_type": "stream",
     "text": [
      "Timeout during evaluation of pipeline #1285. Skipping to the next pipeline.\n"
     ]
    },
    {
     "name": "stderr",
     "output_type": "stream",
     "text": [
      "Optimization Progress:  59%|█████▉    | 1301/2200 [3:24:14<3:45:14, 15.03s/pipeline]Optimization Progress:  59%|█████▊    | 1290/2200 [3:23:06<6:50:23, 27.06s/pipeline]          Optimization Progress:  59%|█████▉    | 1299/2200 [3:24:14<5:22:04, 21.45s/pipeline]"
     ]
    },
    {
     "name": "stdout",
     "output_type": "stream",
     "text": [
      "Timeout during evaluation of pipeline #1299. Skipping to the next pipeline.\n"
     ]
    },
    {
     "name": "stderr",
     "output_type": "stream",
     "text": [
      "Optimization Progress:  60%|█████▉    | 1318/2200 [3:26:19<1:29:13,  6.07s/pipeline]Optimization Progress:  59%|█████▉    | 1304/2200 [3:24:35<2:51:58, 11.52s/pipeline]          Optimization Progress:  60%|█████▉    | 1319/2200 [3:26:19<5:04:02, 20.71s/pipeline]"
     ]
    },
    {
     "name": "stdout",
     "output_type": "stream",
     "text": [
      "Timeout during evaluation of pipeline #1319. Skipping to the next pipeline.\n"
     ]
    },
    {
     "name": "stderr",
     "output_type": "stream",
     "text": [
      "Optimization Progress:  61%|██████    | 1341/2200 [3:31:02<1:09:40,  4.87s/pipeline] Optimization Progress:  60%|██████    | 1322/2200 [3:28:49<10:09:49, 41.67s/pipeline]Optimization Progress:  60%|██████    | 1331/2200 [3:29:11<1:48:38,  7.50s/pipeline]Optimization Progress:  61%|██████    | 1341/2200 [3:30:21<1:09:40,  4.87s/pipeline]          Optimization Progress:  61%|██████    | 1342/2200 [3:31:02<4:51:28, 20.38s/pipeline]"
     ]
    },
    {
     "name": "stdout",
     "output_type": "stream",
     "text": [
      "Timeout during evaluation of pipeline #1342. Skipping to the next pipeline.\n"
     ]
    },
    {
     "name": "stderr",
     "output_type": "stream",
     "text": [
      "Optimization Progress:  64%|██████▎   | 1401/2200 [3:33:35<04:43,  2.82pipeline/s]Optimization Progress:  61%|██████    | 1344/2200 [3:31:03<2:25:56, 10.23s/pipeline]                    Optimization Progress:  63%|██████▎   | 1381/2200 [3:33:35<06:52,  1.98pipeline/s]                    Optimization Progress:  63%|██████▎   | 1381/2200 [3:33:35<06:52,  1.98pipeline/s]"
     ]
    },
    {
     "name": "stdout",
     "output_type": "stream",
     "text": [
      "Generation 7 - Current Pareto front scores:\n",
      "1\t0.553092147034\tBernoulliNB(CombineDFs(input_matrix, input_matrix), 0.83999999999999997, 6.0)\n",
      "2\t0.562297456421\tBernoulliNB(DecisionTreeClassifier(input_matrix), 0.20000000000000001, 0.070000000000000007)\n",
      "\n"
     ]
    },
    {
     "name": "stderr",
     "output_type": "stream",
     "text": [
      "Optimization Progress:  66%|██████▌   | 1444/2200 [3:37:02<2:29:20, 11.85s/pipeline]                  Optimization Progress:  66%|██████▌   | 1442/2200 [3:37:02<3:33:31, 16.90s/pipeline]"
     ]
    },
    {
     "name": "stdout",
     "output_type": "stream",
     "text": [
      "Timeout during evaluation of pipeline #1442. Skipping to the next pipeline.\n"
     ]
    },
    {
     "name": "stderr",
     "output_type": "stream",
     "text": [
      "Optimization Progress:  72%|███████▏  | 1587/2200 [3:43:34<18:29,  1.81s/pipeline]Optimization Progress:  66%|██████▌   | 1447/2200 [3:37:04<1:17:04,  6.14s/pipeline]Optimization Progress:  70%|███████   | 1549/2200 [3:41:12<02:17,  4.72pipeline/s]Optimization Progress:  72%|███████▏  | 1581/2200 [3:43:32<08:39,  1.19pipeline/s]                    Optimization Progress:  72%|███████▏  | 1587/2200 [3:43:34<18:29,  1.81s/pipeline]                    Optimization Progress:  72%|███████▏  | 1587/2200 [3:43:34<18:29,  1.81s/pipeline]          Optimization Progress:  73%|███████▎  | 1601/2200 [3:43:34<12:41,  1.27s/pipeline]"
     ]
    },
    {
     "name": "stdout",
     "output_type": "stream",
     "text": [
      "Generation 8 - Current Pareto front scores:\n",
      "1\t0.556803458605\tBernoulliNB(input_matrix, 0.83999999999999997, 6.0)\n",
      "2\t0.563730889172\tBernoulliNB(DecisionTreeClassifier(input_matrix), 0.12, 0.17000000000000001)\n",
      "5\t0.57105250506\tBernoulliNB(DecisionTreeClassifier(SelectPercentile(CombineDFs(Normalizer(input_matrix, 20), LinearSVC(input_matrix, 36.0, 36, False)), 16)), 0.48999999999999999, 0.050000000000000003)\n",
      "\n"
     ]
    },
    {
     "name": "stderr",
     "output_type": "stream",
     "text": [
      "Optimization Progress:  73%|███████▎  | 1609/2200 [3:45:11<20:32,  2.08s/pipeline]                    Optimization Progress:  73%|███████▎  | 1610/2200 [3:45:11<3:46:48, 23.07s/pipeline]"
     ]
    },
    {
     "name": "stdout",
     "output_type": "stream",
     "text": [
      "Timeout during evaluation of pipeline #1610. Skipping to the next pipeline.\n"
     ]
    },
    {
     "name": "stderr",
     "output_type": "stream",
     "text": [
      "Optimization Progress:  74%|███████▍  | 1623/2200 [3:46:11<12:19,  1.28s/pipeline]  Optimization Progress:  73%|███████▎  | 1613/2200 [3:45:12<1:52:13, 11.47s/pipeline]          Optimization Progress:  74%|███████▍  | 1624/2200 [3:46:11<2:51:07, 17.82s/pipeline]"
     ]
    },
    {
     "name": "stdout",
     "output_type": "stream",
     "text": [
      "Timeout during evaluation of pipeline #1624. Skipping to the next pipeline.\n"
     ]
    },
    {
     "name": "stderr",
     "output_type": "stream",
     "text": [
      "Optimization Progress:  74%|███████▍  | 1627/2200 [3:47:17<1:14:22,  7.79s/pipeline]Optimization Progress:  74%|███████▍  | 1626/2200 [3:46:18<1:44:28, 10.92s/pipeline]          Optimization Progress:  74%|███████▍  | 1628/2200 [3:47:17<3:39:54, 23.07s/pipeline]"
     ]
    },
    {
     "name": "stdout",
     "output_type": "stream",
     "text": [
      "Timeout during evaluation of pipeline #1628. Skipping to the next pipeline.\n"
     ]
    },
    {
     "name": "stderr",
     "output_type": "stream",
     "text": [
      "Optimization Progress:  80%|████████  | 1771/2200 [3:55:02<02:26,  2.94pipeline/s]  Optimization Progress:  74%|███████▍  | 1630/2200 [3:48:05<3:23:35, 21.43s/pipeline]          Optimization Progress:  81%|████████  | 1772/2200 [3:55:02<2:25:38, 20.42s/pipeline]"
     ]
    },
    {
     "name": "stdout",
     "output_type": "stream",
     "text": [
      "Timeout during evaluation of pipeline #1772. Skipping to the next pipeline.\n"
     ]
    },
    {
     "name": "stderr",
     "output_type": "stream",
     "text": [
      "Optimization Progress:  82%|████████▏ | 1801/2200 [3:56:30<24:45,  3.72s/pipeline]ptimization Progress:  81%|████████  | 1775/2200 [3:55:40<1:39:55, 14.11s/pipeline]                    Optimization Progress:  81%|████████▏ | 1791/2200 [3:56:30<36:13,  5.32s/pipeline]                    Optimization Progress:  81%|████████▏ | 1791/2200 [3:56:30<36:13,  5.32s/pipeline]                    Optimization Progress:  81%|████████▏ | 1791/2200 [3:56:30<36:13,  5.32s/pipeline]"
     ]
    },
    {
     "name": "stdout",
     "output_type": "stream",
     "text": [
      "Generation 9 - Current Pareto front scores:\n",
      "1\t0.556803458605\tBernoulliNB(input_matrix, 0.83999999999999997, 6.0)\n",
      "2\t0.564612431998\tBernoulliNB(DecisionTreeClassifier(input_matrix), 0.10000000000000001, 0.070000000000000007)\n",
      "3\t0.568044093439\tBernoulliNB(DecisionTreeClassifier(ZeroCount(input_matrix)), 0.48999999999999999, 0.050000000000000003)\n",
      "5\t0.57105250506\tBernoulliNB(DecisionTreeClassifier(SelectPercentile(CombineDFs(Normalizer(input_matrix, 20), LinearSVC(input_matrix, 36.0, 36, False)), 16)), 0.48999999999999999, 0.050000000000000003)\n",
      "\n"
     ]
    },
    {
     "name": "stderr",
     "output_type": "stream",
     "text": [
      "Optimization Progress:  84%|████████▎ | 1842/2200 [3:59:38<11:41,  1.96s/pipeline]                    Optimization Progress:  84%|████████▍ | 1843/2200 [3:59:38<1:58:47, 19.97s/pipeline]"
     ]
    },
    {
     "name": "stdout",
     "output_type": "stream",
     "text": [
      "Timeout during evaluation of pipeline #1843. Skipping to the next pipeline.\n"
     ]
    },
    {
     "name": "stderr",
     "output_type": "stream",
     "text": [
      "Optimization Progress:  84%|████████▍ | 1856/2200 [4:01:06<38:05,  6.64s/pipeline]e]Optimization Progress:  84%|████████▍ | 1846/2200 [3:59:40<59:41, 10.12s/pipeline]            Optimization Progress:  84%|████████▍ | 1857/2200 [4:01:06<2:06:56, 22.21s/pipeline]"
     ]
    },
    {
     "name": "stdout",
     "output_type": "stream",
     "text": [
      "Timeout during evaluation of pipeline #1857. Skipping to the next pipeline.\n"
     ]
    },
    {
     "name": "stderr",
     "output_type": "stream",
     "text": [
      "\r",
      "          \r",
      "\r",
      "          \r",
      "Optimization Progress:  84%|████████▍ | 1857/2200 [4:02:05<2:06:56, 22.21s/pipeline]\r",
      "Optimization Progress:  84%|████████▍ | 1858/2200 [4:02:05<3:09:21, 33.22s/pipeline]"
     ]
    },
    {
     "name": "stdout",
     "output_type": "stream",
     "text": [
      "Timeout during evaluation of pipeline #1858. Skipping to the next pipeline.\n"
     ]
    },
    {
     "name": "stderr",
     "output_type": "stream",
     "text": [
      "Optimization Progress:  85%|████████▍ | 1861/2200 [4:03:03<2:40:13, 28.36s/pipeline]Optimization Progress:  84%|████████▍ | 1859/2200 [4:03:03<3:50:06, 40.49s/pipeline]"
     ]
    },
    {
     "name": "stdout",
     "output_type": "stream",
     "text": [
      "Timeout during evaluation of pipeline #1859. Skipping to the next pipeline.\n"
     ]
    },
    {
     "name": "stderr",
     "output_type": "stream",
     "text": [
      "Optimization Progress:  85%|████████▌ | 1876/2200 [4:07:37<2:03:57, 22.96s/pipeline]Optimization Progress:  85%|████████▍ | 1863/2200 [4:03:42<2:22:24, 25.35s/pipeline]          Optimization Progress:  85%|████████▌ | 1874/2200 [4:07:37<2:58:01, 32.77s/pipeline]"
     ]
    },
    {
     "name": "stdout",
     "output_type": "stream",
     "text": [
      "Timeout during evaluation of pipeline #1874. Skipping to the next pipeline.\n"
     ]
    },
    {
     "name": "stderr",
     "output_type": "stream",
     "text": [
      "Optimization Progress:  90%|█████████ | 1984/2200 [4:14:05<09:36,  2.67s/pipeline]Optimization Progress:  85%|████████▌ | 1879/2200 [4:07:57<1:22:46, 15.47s/pipeline]                    Optimization Progress:  90%|█████████ | 1984/2200 [4:14:05<09:36,  2.67s/pipeline]                    Optimization Progress:  90%|█████████ | 1984/2200 [4:14:05<09:36,  2.67s/pipeline]          "
     ]
    },
    {
     "name": "stdout",
     "output_type": "stream",
     "text": [
      "Generation 10 - Current Pareto front scores:\n",
      "1\t0.556803458605\tBernoulliNB(input_matrix, 0.83999999999999997, 6.0)\n",
      "2\t0.564612431998\tBernoulliNB(DecisionTreeClassifier(input_matrix), 0.10000000000000001, 0.070000000000000007)\n",
      "3\t0.576280240377\tBernoulliNB(DecisionTreeClassifier(LogisticRegression(input_matrix, 0.78000000000000003, 25, False)), 0.20000000000000001, 0.070000000000000007)\n",
      "\n"
     ]
    },
    {
     "name": "stderr",
     "output_type": "stream",
     "text": [
      "Optimization Progress:  97%|█████████▋| 2143/2200 [4:28:51<14:14, 15.00s/pipeline]Optimization Progress:  91%|█████████ | 2003/2200 [4:14:05<04:22,  1.33s/pipeline]Optimization Progress:  91%|█████████▏| 2012/2200 [4:14:24<01:21,  2.31pipeline/s]Optimization Progress:  94%|█████████▎| 2057/2200 [4:14:44<00:12, 11.47pipeline/s]Optimization Progress:  94%|█████████▍| 2065/2200 [4:15:04<03:48,  1.69s/pipeline]Optimization Progress:  96%|█████████▋| 2121/2200 [4:17:04<00:15,  5.19pipeline/s]          Optimization Progress:  97%|█████████▋| 2144/2200 [4:28:51<2:19:15, 149.20s/pipeline]"
     ]
    },
    {
     "name": "stdout",
     "output_type": "stream",
     "text": [
      "Timeout during evaluation of pipeline #2144. Skipping to the next pipeline.\n"
     ]
    },
    {
     "name": "stderr",
     "output_type": "stream",
     "text": [
      "                                                                                    ]Optimization Progress:  98%|█████████▊| 2147/2200 [4:28:51<1:04:40, 73.22s/pipeline] Optimization Progress:  98%|█████████▊| 2159/2200 [4:29:06<05:55,  8.67s/pipeline]"
     ]
    },
    {
     "name": "stdout",
     "output_type": "stream",
     "text": [
      "0.679319371728\n"
     ]
    }
   ],
   "source": [
    "from tpot import TPOTClassifier\n",
    "pipeline_optimizer = TPOTClassifier(\n",
    "    generations=10, # the more generatiion, the more optimized you get\n",
    "    population_size=200,\n",
    "    num_cv_folds=4,\n",
    "    scoring=\"f1\",\n",
    "    random_state=42,\n",
    "    verbosity=3)\n",
    "\n",
    "pipeline_optimizer.fit(feature_mat, label_mat)\n",
    "print pipeline_optimizer.score(feature_mat, label_mat)\n",
    "pipeline_optimizer.export('tpot_longrun_exported_pipeline.py')"
   ]
  },
  {
   "cell_type": "code",
   "execution_count": 488,
   "metadata": {
    "ExecuteTime": {
     "end_time": "2017-01-25T07:55:32.186526",
     "start_time": "2017-01-25T07:55:32.182588"
    },
    "collapsed": false
   },
   "outputs": [],
   "source": [
    "pipeline_optimizer.export(\"device_time_export.py\")\n",
    "#with file(\"device_time-export.feat\",\"w+ as feature_mat"
   ]
  },
  {
   "cell_type": "code",
   "execution_count": 486,
   "metadata": {
    "ExecuteTime": {
     "end_time": "2017-01-25T06:45:05.227278",
     "start_time": "2017-01-25T06:45:05.076808"
    },
    "collapsed": false
   },
   "outputs": [
    {
     "ename": "PicklingError",
     "evalue": "Can't pickle <function <lambda> at 0x7fefd9f3b578>: it's not found as __main__.<lambda>",
     "output_type": "error",
     "traceback": [
      "\u001b[0;31m---------------------------------------------------------------------------\u001b[0m",
      "\u001b[0;31mPicklingError\u001b[0m                             Traceback (most recent call last)",
      "\u001b[0;32m<ipython-input-486-9478d3f9d237>\u001b[0m in \u001b[0;36m<module>\u001b[0;34m()\u001b[0m\n\u001b[1;32m      3\u001b[0m \u001b[0;32mfrom\u001b[0m \u001b[0msklearn\u001b[0m\u001b[0;34m.\u001b[0m\u001b[0mexternals\u001b[0m \u001b[0;32mimport\u001b[0m \u001b[0mjoblib\u001b[0m\u001b[0;34m\u001b[0m\u001b[0m\n\u001b[1;32m      4\u001b[0m \u001b[0;32mimport\u001b[0m \u001b[0mpickle\u001b[0m\u001b[0;34m\u001b[0m\u001b[0m\n\u001b[0;32m----> 5\u001b[0;31m \u001b[0mjoblib\u001b[0m\u001b[0;34m.\u001b[0m\u001b[0mdump\u001b[0m\u001b[0;34m(\u001b[0m\u001b[0mpipeline_optimizer\u001b[0m\u001b[0;34m.\u001b[0m\u001b[0m_fitted_pipeline\u001b[0m\u001b[0;34m,\u001b[0m \u001b[0;34m'model_%s.pkl'\u001b[0m \u001b[0;34m%\u001b[0m \u001b[0mmodel_name\u001b[0m\u001b[0;34m)\u001b[0m\u001b[0;34m\u001b[0m\u001b[0m\n\u001b[0m\u001b[1;32m      6\u001b[0m \u001b[0mfeatures\u001b[0m \u001b[0;34m=\u001b[0m \u001b[0mfeature_set\u001b[0m\u001b[0;34m.\u001b[0m\u001b[0mcolumns\u001b[0m\u001b[0;34m\u001b[0m\u001b[0m\n\u001b[1;32m      7\u001b[0m \u001b[0;32mwith\u001b[0m \u001b[0mopen\u001b[0m\u001b[0;34m(\u001b[0m\u001b[0;34m'model_%s.feat'\u001b[0m \u001b[0;34m%\u001b[0m \u001b[0mmodel_name\u001b[0m\u001b[0;34m,\u001b[0m \u001b[0;34m\"w+\"\u001b[0m\u001b[0;34m)\u001b[0m \u001b[0;32mas\u001b[0m \u001b[0mf\u001b[0m\u001b[0;34m:\u001b[0m\u001b[0;34m\u001b[0m\u001b[0m\n",
      "\u001b[0;32m/home/avignon/.local/lib/python2.7/site-packages/sklearn/externals/joblib/numpy_pickle.pyc\u001b[0m in \u001b[0;36mdump\u001b[0;34m(value, filename, compress, protocol, cache_size)\u001b[0m\n\u001b[1;32m    481\u001b[0m     \u001b[0;32melif\u001b[0m \u001b[0mis_filename\u001b[0m\u001b[0;34m:\u001b[0m\u001b[0;34m\u001b[0m\u001b[0m\n\u001b[1;32m    482\u001b[0m         \u001b[0;32mwith\u001b[0m \u001b[0mopen\u001b[0m\u001b[0;34m(\u001b[0m\u001b[0mfilename\u001b[0m\u001b[0;34m,\u001b[0m \u001b[0;34m'wb'\u001b[0m\u001b[0;34m)\u001b[0m \u001b[0;32mas\u001b[0m \u001b[0mf\u001b[0m\u001b[0;34m:\u001b[0m\u001b[0;34m\u001b[0m\u001b[0m\n\u001b[0;32m--> 483\u001b[0;31m             \u001b[0mNumpyPickler\u001b[0m\u001b[0;34m(\u001b[0m\u001b[0mf\u001b[0m\u001b[0;34m,\u001b[0m \u001b[0mprotocol\u001b[0m\u001b[0;34m=\u001b[0m\u001b[0mprotocol\u001b[0m\u001b[0;34m)\u001b[0m\u001b[0;34m.\u001b[0m\u001b[0mdump\u001b[0m\u001b[0;34m(\u001b[0m\u001b[0mvalue\u001b[0m\u001b[0;34m)\u001b[0m\u001b[0;34m\u001b[0m\u001b[0m\n\u001b[0m\u001b[1;32m    484\u001b[0m     \u001b[0;32melse\u001b[0m\u001b[0;34m:\u001b[0m\u001b[0;34m\u001b[0m\u001b[0m\n\u001b[1;32m    485\u001b[0m         \u001b[0mNumpyPickler\u001b[0m\u001b[0;34m(\u001b[0m\u001b[0mfilename\u001b[0m\u001b[0;34m,\u001b[0m \u001b[0mprotocol\u001b[0m\u001b[0;34m=\u001b[0m\u001b[0mprotocol\u001b[0m\u001b[0;34m)\u001b[0m\u001b[0;34m.\u001b[0m\u001b[0mdump\u001b[0m\u001b[0;34m(\u001b[0m\u001b[0mvalue\u001b[0m\u001b[0;34m)\u001b[0m\u001b[0;34m\u001b[0m\u001b[0m\n",
      "\u001b[0;32m/usr/lib/python2.7/pickle.pyc\u001b[0m in \u001b[0;36mdump\u001b[0;34m(self, obj)\u001b[0m\n\u001b[1;32m    222\u001b[0m         \u001b[0;32mif\u001b[0m \u001b[0mself\u001b[0m\u001b[0;34m.\u001b[0m\u001b[0mproto\u001b[0m \u001b[0;34m>=\u001b[0m \u001b[0;36m2\u001b[0m\u001b[0;34m:\u001b[0m\u001b[0;34m\u001b[0m\u001b[0m\n\u001b[1;32m    223\u001b[0m             \u001b[0mself\u001b[0m\u001b[0;34m.\u001b[0m\u001b[0mwrite\u001b[0m\u001b[0;34m(\u001b[0m\u001b[0mPROTO\u001b[0m \u001b[0;34m+\u001b[0m \u001b[0mchr\u001b[0m\u001b[0;34m(\u001b[0m\u001b[0mself\u001b[0m\u001b[0;34m.\u001b[0m\u001b[0mproto\u001b[0m\u001b[0;34m)\u001b[0m\u001b[0;34m)\u001b[0m\u001b[0;34m\u001b[0m\u001b[0m\n\u001b[0;32m--> 224\u001b[0;31m         \u001b[0mself\u001b[0m\u001b[0;34m.\u001b[0m\u001b[0msave\u001b[0m\u001b[0;34m(\u001b[0m\u001b[0mobj\u001b[0m\u001b[0;34m)\u001b[0m\u001b[0;34m\u001b[0m\u001b[0m\n\u001b[0m\u001b[1;32m    225\u001b[0m         \u001b[0mself\u001b[0m\u001b[0;34m.\u001b[0m\u001b[0mwrite\u001b[0m\u001b[0;34m(\u001b[0m\u001b[0mSTOP\u001b[0m\u001b[0;34m)\u001b[0m\u001b[0;34m\u001b[0m\u001b[0m\n\u001b[1;32m    226\u001b[0m \u001b[0;34m\u001b[0m\u001b[0m\n",
      "\u001b[0;32m/home/avignon/.local/lib/python2.7/site-packages/sklearn/externals/joblib/numpy_pickle.pyc\u001b[0m in \u001b[0;36msave\u001b[0;34m(self, obj)\u001b[0m\n\u001b[1;32m    278\u001b[0m             \u001b[0;32mreturn\u001b[0m\u001b[0;34m\u001b[0m\u001b[0m\n\u001b[1;32m    279\u001b[0m \u001b[0;34m\u001b[0m\u001b[0m\n\u001b[0;32m--> 280\u001b[0;31m         \u001b[0;32mreturn\u001b[0m \u001b[0mPickler\u001b[0m\u001b[0;34m.\u001b[0m\u001b[0msave\u001b[0m\u001b[0;34m(\u001b[0m\u001b[0mself\u001b[0m\u001b[0;34m,\u001b[0m \u001b[0mobj\u001b[0m\u001b[0;34m)\u001b[0m\u001b[0;34m\u001b[0m\u001b[0m\n\u001b[0m\u001b[1;32m    281\u001b[0m \u001b[0;34m\u001b[0m\u001b[0m\n\u001b[1;32m    282\u001b[0m \u001b[0;34m\u001b[0m\u001b[0m\n",
      "\u001b[0;32m/usr/lib/python2.7/pickle.pyc\u001b[0m in \u001b[0;36msave\u001b[0;34m(self, obj)\u001b[0m\n\u001b[1;32m    329\u001b[0m \u001b[0;34m\u001b[0m\u001b[0m\n\u001b[1;32m    330\u001b[0m         \u001b[0;31m# Save the reduce() output and finally memoize the object\u001b[0m\u001b[0;34m\u001b[0m\u001b[0;34m\u001b[0m\u001b[0m\n\u001b[0;32m--> 331\u001b[0;31m         \u001b[0mself\u001b[0m\u001b[0;34m.\u001b[0m\u001b[0msave_reduce\u001b[0m\u001b[0;34m(\u001b[0m\u001b[0mobj\u001b[0m\u001b[0;34m=\u001b[0m\u001b[0mobj\u001b[0m\u001b[0;34m,\u001b[0m \u001b[0;34m*\u001b[0m\u001b[0mrv\u001b[0m\u001b[0;34m)\u001b[0m\u001b[0;34m\u001b[0m\u001b[0m\n\u001b[0m\u001b[1;32m    332\u001b[0m \u001b[0;34m\u001b[0m\u001b[0m\n\u001b[1;32m    333\u001b[0m     \u001b[0;32mdef\u001b[0m \u001b[0mpersistent_id\u001b[0m\u001b[0;34m(\u001b[0m\u001b[0mself\u001b[0m\u001b[0;34m,\u001b[0m \u001b[0mobj\u001b[0m\u001b[0;34m)\u001b[0m\u001b[0;34m:\u001b[0m\u001b[0;34m\u001b[0m\u001b[0m\n",
      "\u001b[0;32m/usr/lib/python2.7/pickle.pyc\u001b[0m in \u001b[0;36msave_reduce\u001b[0;34m(self, func, args, state, listitems, dictitems, obj)\u001b[0m\n\u001b[1;32m    423\u001b[0m \u001b[0;34m\u001b[0m\u001b[0m\n\u001b[1;32m    424\u001b[0m         \u001b[0;32mif\u001b[0m \u001b[0mstate\u001b[0m \u001b[0;32mis\u001b[0m \u001b[0;32mnot\u001b[0m \u001b[0mNone\u001b[0m\u001b[0;34m:\u001b[0m\u001b[0;34m\u001b[0m\u001b[0m\n\u001b[0;32m--> 425\u001b[0;31m             \u001b[0msave\u001b[0m\u001b[0;34m(\u001b[0m\u001b[0mstate\u001b[0m\u001b[0;34m)\u001b[0m\u001b[0;34m\u001b[0m\u001b[0m\n\u001b[0m\u001b[1;32m    426\u001b[0m             \u001b[0mwrite\u001b[0m\u001b[0;34m(\u001b[0m\u001b[0mBUILD\u001b[0m\u001b[0;34m)\u001b[0m\u001b[0;34m\u001b[0m\u001b[0m\n\u001b[1;32m    427\u001b[0m \u001b[0;34m\u001b[0m\u001b[0m\n",
      "\u001b[0;32m/home/avignon/.local/lib/python2.7/site-packages/sklearn/externals/joblib/numpy_pickle.pyc\u001b[0m in \u001b[0;36msave\u001b[0;34m(self, obj)\u001b[0m\n\u001b[1;32m    278\u001b[0m             \u001b[0;32mreturn\u001b[0m\u001b[0;34m\u001b[0m\u001b[0m\n\u001b[1;32m    279\u001b[0m \u001b[0;34m\u001b[0m\u001b[0m\n\u001b[0;32m--> 280\u001b[0;31m         \u001b[0;32mreturn\u001b[0m \u001b[0mPickler\u001b[0m\u001b[0;34m.\u001b[0m\u001b[0msave\u001b[0m\u001b[0;34m(\u001b[0m\u001b[0mself\u001b[0m\u001b[0;34m,\u001b[0m \u001b[0mobj\u001b[0m\u001b[0;34m)\u001b[0m\u001b[0;34m\u001b[0m\u001b[0m\n\u001b[0m\u001b[1;32m    281\u001b[0m \u001b[0;34m\u001b[0m\u001b[0m\n\u001b[1;32m    282\u001b[0m \u001b[0;34m\u001b[0m\u001b[0m\n",
      "\u001b[0;32m/usr/lib/python2.7/pickle.pyc\u001b[0m in \u001b[0;36msave\u001b[0;34m(self, obj)\u001b[0m\n\u001b[1;32m    284\u001b[0m         \u001b[0mf\u001b[0m \u001b[0;34m=\u001b[0m \u001b[0mself\u001b[0m\u001b[0;34m.\u001b[0m\u001b[0mdispatch\u001b[0m\u001b[0;34m.\u001b[0m\u001b[0mget\u001b[0m\u001b[0;34m(\u001b[0m\u001b[0mt\u001b[0m\u001b[0;34m)\u001b[0m\u001b[0;34m\u001b[0m\u001b[0m\n\u001b[1;32m    285\u001b[0m         \u001b[0;32mif\u001b[0m \u001b[0mf\u001b[0m\u001b[0;34m:\u001b[0m\u001b[0;34m\u001b[0m\u001b[0m\n\u001b[0;32m--> 286\u001b[0;31m             \u001b[0mf\u001b[0m\u001b[0;34m(\u001b[0m\u001b[0mself\u001b[0m\u001b[0;34m,\u001b[0m \u001b[0mobj\u001b[0m\u001b[0;34m)\u001b[0m \u001b[0;31m# Call unbound method with explicit self\u001b[0m\u001b[0;34m\u001b[0m\u001b[0m\n\u001b[0m\u001b[1;32m    287\u001b[0m             \u001b[0;32mreturn\u001b[0m\u001b[0;34m\u001b[0m\u001b[0m\n\u001b[1;32m    288\u001b[0m \u001b[0;34m\u001b[0m\u001b[0m\n",
      "\u001b[0;32m/usr/lib/python2.7/pickle.pyc\u001b[0m in \u001b[0;36msave_dict\u001b[0;34m(self, obj)\u001b[0m\n\u001b[1;32m    653\u001b[0m \u001b[0;34m\u001b[0m\u001b[0m\n\u001b[1;32m    654\u001b[0m         \u001b[0mself\u001b[0m\u001b[0;34m.\u001b[0m\u001b[0mmemoize\u001b[0m\u001b[0;34m(\u001b[0m\u001b[0mobj\u001b[0m\u001b[0;34m)\u001b[0m\u001b[0;34m\u001b[0m\u001b[0m\n\u001b[0;32m--> 655\u001b[0;31m         \u001b[0mself\u001b[0m\u001b[0;34m.\u001b[0m\u001b[0m_batch_setitems\u001b[0m\u001b[0;34m(\u001b[0m\u001b[0mobj\u001b[0m\u001b[0;34m.\u001b[0m\u001b[0miteritems\u001b[0m\u001b[0;34m(\u001b[0m\u001b[0;34m)\u001b[0m\u001b[0;34m)\u001b[0m\u001b[0;34m\u001b[0m\u001b[0m\n\u001b[0m\u001b[1;32m    656\u001b[0m \u001b[0;34m\u001b[0m\u001b[0m\n\u001b[1;32m    657\u001b[0m     \u001b[0mdispatch\u001b[0m\u001b[0;34m[\u001b[0m\u001b[0mDictionaryType\u001b[0m\u001b[0;34m]\u001b[0m \u001b[0;34m=\u001b[0m \u001b[0msave_dict\u001b[0m\u001b[0;34m\u001b[0m\u001b[0m\n",
      "\u001b[0;32m/usr/lib/python2.7/pickle.pyc\u001b[0m in \u001b[0;36m_batch_setitems\u001b[0;34m(self, items)\u001b[0m\n\u001b[1;32m    685\u001b[0m                 \u001b[0;32mfor\u001b[0m \u001b[0mk\u001b[0m\u001b[0;34m,\u001b[0m \u001b[0mv\u001b[0m \u001b[0;32min\u001b[0m \u001b[0mtmp\u001b[0m\u001b[0;34m:\u001b[0m\u001b[0;34m\u001b[0m\u001b[0m\n\u001b[1;32m    686\u001b[0m                     \u001b[0msave\u001b[0m\u001b[0;34m(\u001b[0m\u001b[0mk\u001b[0m\u001b[0;34m)\u001b[0m\u001b[0;34m\u001b[0m\u001b[0m\n\u001b[0;32m--> 687\u001b[0;31m                     \u001b[0msave\u001b[0m\u001b[0;34m(\u001b[0m\u001b[0mv\u001b[0m\u001b[0;34m)\u001b[0m\u001b[0;34m\u001b[0m\u001b[0m\n\u001b[0m\u001b[1;32m    688\u001b[0m                 \u001b[0mwrite\u001b[0m\u001b[0;34m(\u001b[0m\u001b[0mSETITEMS\u001b[0m\u001b[0;34m)\u001b[0m\u001b[0;34m\u001b[0m\u001b[0m\n\u001b[1;32m    689\u001b[0m             \u001b[0;32melif\u001b[0m \u001b[0mn\u001b[0m\u001b[0;34m:\u001b[0m\u001b[0;34m\u001b[0m\u001b[0m\n",
      "\u001b[0;32m/home/avignon/.local/lib/python2.7/site-packages/sklearn/externals/joblib/numpy_pickle.pyc\u001b[0m in \u001b[0;36msave\u001b[0;34m(self, obj)\u001b[0m\n\u001b[1;32m    278\u001b[0m             \u001b[0;32mreturn\u001b[0m\u001b[0;34m\u001b[0m\u001b[0m\n\u001b[1;32m    279\u001b[0m \u001b[0;34m\u001b[0m\u001b[0m\n\u001b[0;32m--> 280\u001b[0;31m         \u001b[0;32mreturn\u001b[0m \u001b[0mPickler\u001b[0m\u001b[0;34m.\u001b[0m\u001b[0msave\u001b[0m\u001b[0;34m(\u001b[0m\u001b[0mself\u001b[0m\u001b[0;34m,\u001b[0m \u001b[0mobj\u001b[0m\u001b[0;34m)\u001b[0m\u001b[0;34m\u001b[0m\u001b[0m\n\u001b[0m\u001b[1;32m    281\u001b[0m \u001b[0;34m\u001b[0m\u001b[0m\n\u001b[1;32m    282\u001b[0m \u001b[0;34m\u001b[0m\u001b[0m\n",
      "\u001b[0;32m/usr/lib/python2.7/pickle.pyc\u001b[0m in \u001b[0;36msave\u001b[0;34m(self, obj)\u001b[0m\n\u001b[1;32m    284\u001b[0m         \u001b[0mf\u001b[0m \u001b[0;34m=\u001b[0m \u001b[0mself\u001b[0m\u001b[0;34m.\u001b[0m\u001b[0mdispatch\u001b[0m\u001b[0;34m.\u001b[0m\u001b[0mget\u001b[0m\u001b[0;34m(\u001b[0m\u001b[0mt\u001b[0m\u001b[0;34m)\u001b[0m\u001b[0;34m\u001b[0m\u001b[0m\n\u001b[1;32m    285\u001b[0m         \u001b[0;32mif\u001b[0m \u001b[0mf\u001b[0m\u001b[0;34m:\u001b[0m\u001b[0;34m\u001b[0m\u001b[0m\n\u001b[0;32m--> 286\u001b[0;31m             \u001b[0mf\u001b[0m\u001b[0;34m(\u001b[0m\u001b[0mself\u001b[0m\u001b[0;34m,\u001b[0m \u001b[0mobj\u001b[0m\u001b[0;34m)\u001b[0m \u001b[0;31m# Call unbound method with explicit self\u001b[0m\u001b[0;34m\u001b[0m\u001b[0m\n\u001b[0m\u001b[1;32m    287\u001b[0m             \u001b[0;32mreturn\u001b[0m\u001b[0;34m\u001b[0m\u001b[0m\n\u001b[1;32m    288\u001b[0m \u001b[0;34m\u001b[0m\u001b[0m\n",
      "\u001b[0;32m/usr/lib/python2.7/pickle.pyc\u001b[0m in \u001b[0;36msave_list\u001b[0;34m(self, obj)\u001b[0m\n\u001b[1;32m    604\u001b[0m \u001b[0;34m\u001b[0m\u001b[0m\n\u001b[1;32m    605\u001b[0m         \u001b[0mself\u001b[0m\u001b[0;34m.\u001b[0m\u001b[0mmemoize\u001b[0m\u001b[0;34m(\u001b[0m\u001b[0mobj\u001b[0m\u001b[0;34m)\u001b[0m\u001b[0;34m\u001b[0m\u001b[0m\n\u001b[0;32m--> 606\u001b[0;31m         \u001b[0mself\u001b[0m\u001b[0;34m.\u001b[0m\u001b[0m_batch_appends\u001b[0m\u001b[0;34m(\u001b[0m\u001b[0miter\u001b[0m\u001b[0;34m(\u001b[0m\u001b[0mobj\u001b[0m\u001b[0;34m)\u001b[0m\u001b[0;34m)\u001b[0m\u001b[0;34m\u001b[0m\u001b[0m\n\u001b[0m\u001b[1;32m    607\u001b[0m \u001b[0;34m\u001b[0m\u001b[0m\n\u001b[1;32m    608\u001b[0m     \u001b[0mdispatch\u001b[0m\u001b[0;34m[\u001b[0m\u001b[0mListType\u001b[0m\u001b[0;34m]\u001b[0m \u001b[0;34m=\u001b[0m \u001b[0msave_list\u001b[0m\u001b[0;34m\u001b[0m\u001b[0m\n",
      "\u001b[0;32m/usr/lib/python2.7/pickle.pyc\u001b[0m in \u001b[0;36m_batch_appends\u001b[0;34m(self, items)\u001b[0m\n\u001b[1;32m    637\u001b[0m                 \u001b[0mwrite\u001b[0m\u001b[0;34m(\u001b[0m\u001b[0mMARK\u001b[0m\u001b[0;34m)\u001b[0m\u001b[0;34m\u001b[0m\u001b[0m\n\u001b[1;32m    638\u001b[0m                 \u001b[0;32mfor\u001b[0m \u001b[0mx\u001b[0m \u001b[0;32min\u001b[0m \u001b[0mtmp\u001b[0m\u001b[0;34m:\u001b[0m\u001b[0;34m\u001b[0m\u001b[0m\n\u001b[0;32m--> 639\u001b[0;31m                     \u001b[0msave\u001b[0m\u001b[0;34m(\u001b[0m\u001b[0mx\u001b[0m\u001b[0;34m)\u001b[0m\u001b[0;34m\u001b[0m\u001b[0m\n\u001b[0m\u001b[1;32m    640\u001b[0m                 \u001b[0mwrite\u001b[0m\u001b[0;34m(\u001b[0m\u001b[0mAPPENDS\u001b[0m\u001b[0;34m)\u001b[0m\u001b[0;34m\u001b[0m\u001b[0m\n\u001b[1;32m    641\u001b[0m             \u001b[0;32melif\u001b[0m \u001b[0mn\u001b[0m\u001b[0;34m:\u001b[0m\u001b[0;34m\u001b[0m\u001b[0m\n",
      "\u001b[0;32m/home/avignon/.local/lib/python2.7/site-packages/sklearn/externals/joblib/numpy_pickle.pyc\u001b[0m in \u001b[0;36msave\u001b[0;34m(self, obj)\u001b[0m\n\u001b[1;32m    278\u001b[0m             \u001b[0;32mreturn\u001b[0m\u001b[0;34m\u001b[0m\u001b[0m\n\u001b[1;32m    279\u001b[0m \u001b[0;34m\u001b[0m\u001b[0m\n\u001b[0;32m--> 280\u001b[0;31m         \u001b[0;32mreturn\u001b[0m \u001b[0mPickler\u001b[0m\u001b[0;34m.\u001b[0m\u001b[0msave\u001b[0m\u001b[0;34m(\u001b[0m\u001b[0mself\u001b[0m\u001b[0;34m,\u001b[0m \u001b[0mobj\u001b[0m\u001b[0;34m)\u001b[0m\u001b[0;34m\u001b[0m\u001b[0m\n\u001b[0m\u001b[1;32m    281\u001b[0m \u001b[0;34m\u001b[0m\u001b[0m\n\u001b[1;32m    282\u001b[0m \u001b[0;34m\u001b[0m\u001b[0m\n",
      "\u001b[0;32m/usr/lib/python2.7/pickle.pyc\u001b[0m in \u001b[0;36msave\u001b[0;34m(self, obj)\u001b[0m\n\u001b[1;32m    284\u001b[0m         \u001b[0mf\u001b[0m \u001b[0;34m=\u001b[0m \u001b[0mself\u001b[0m\u001b[0;34m.\u001b[0m\u001b[0mdispatch\u001b[0m\u001b[0;34m.\u001b[0m\u001b[0mget\u001b[0m\u001b[0;34m(\u001b[0m\u001b[0mt\u001b[0m\u001b[0;34m)\u001b[0m\u001b[0;34m\u001b[0m\u001b[0m\n\u001b[1;32m    285\u001b[0m         \u001b[0;32mif\u001b[0m \u001b[0mf\u001b[0m\u001b[0;34m:\u001b[0m\u001b[0;34m\u001b[0m\u001b[0m\n\u001b[0;32m--> 286\u001b[0;31m             \u001b[0mf\u001b[0m\u001b[0;34m(\u001b[0m\u001b[0mself\u001b[0m\u001b[0;34m,\u001b[0m \u001b[0mobj\u001b[0m\u001b[0;34m)\u001b[0m \u001b[0;31m# Call unbound method with explicit self\u001b[0m\u001b[0;34m\u001b[0m\u001b[0m\n\u001b[0m\u001b[1;32m    287\u001b[0m             \u001b[0;32mreturn\u001b[0m\u001b[0;34m\u001b[0m\u001b[0m\n\u001b[1;32m    288\u001b[0m \u001b[0;34m\u001b[0m\u001b[0m\n",
      "\u001b[0;32m/usr/lib/python2.7/pickle.pyc\u001b[0m in \u001b[0;36msave_tuple\u001b[0;34m(self, obj)\u001b[0m\n\u001b[1;32m    552\u001b[0m         \u001b[0;32mif\u001b[0m \u001b[0mn\u001b[0m \u001b[0;34m<=\u001b[0m \u001b[0;36m3\u001b[0m \u001b[0;32mand\u001b[0m \u001b[0mproto\u001b[0m \u001b[0;34m>=\u001b[0m \u001b[0;36m2\u001b[0m\u001b[0;34m:\u001b[0m\u001b[0;34m\u001b[0m\u001b[0m\n\u001b[1;32m    553\u001b[0m             \u001b[0;32mfor\u001b[0m \u001b[0melement\u001b[0m \u001b[0;32min\u001b[0m \u001b[0mobj\u001b[0m\u001b[0;34m:\u001b[0m\u001b[0;34m\u001b[0m\u001b[0m\n\u001b[0;32m--> 554\u001b[0;31m                 \u001b[0msave\u001b[0m\u001b[0;34m(\u001b[0m\u001b[0melement\u001b[0m\u001b[0;34m)\u001b[0m\u001b[0;34m\u001b[0m\u001b[0m\n\u001b[0m\u001b[1;32m    555\u001b[0m             \u001b[0;31m# Subtle.  Same as in the big comment below.\u001b[0m\u001b[0;34m\u001b[0m\u001b[0;34m\u001b[0m\u001b[0m\n\u001b[1;32m    556\u001b[0m             \u001b[0;32mif\u001b[0m \u001b[0mid\u001b[0m\u001b[0;34m(\u001b[0m\u001b[0mobj\u001b[0m\u001b[0;34m)\u001b[0m \u001b[0;32min\u001b[0m \u001b[0mmemo\u001b[0m\u001b[0;34m:\u001b[0m\u001b[0;34m\u001b[0m\u001b[0m\n",
      "\u001b[0;32m/home/avignon/.local/lib/python2.7/site-packages/sklearn/externals/joblib/numpy_pickle.pyc\u001b[0m in \u001b[0;36msave\u001b[0;34m(self, obj)\u001b[0m\n\u001b[1;32m    278\u001b[0m             \u001b[0;32mreturn\u001b[0m\u001b[0;34m\u001b[0m\u001b[0m\n\u001b[1;32m    279\u001b[0m \u001b[0;34m\u001b[0m\u001b[0m\n\u001b[0;32m--> 280\u001b[0;31m         \u001b[0;32mreturn\u001b[0m \u001b[0mPickler\u001b[0m\u001b[0;34m.\u001b[0m\u001b[0msave\u001b[0m\u001b[0;34m(\u001b[0m\u001b[0mself\u001b[0m\u001b[0;34m,\u001b[0m \u001b[0mobj\u001b[0m\u001b[0;34m)\u001b[0m\u001b[0;34m\u001b[0m\u001b[0m\n\u001b[0m\u001b[1;32m    281\u001b[0m \u001b[0;34m\u001b[0m\u001b[0m\n\u001b[1;32m    282\u001b[0m \u001b[0;34m\u001b[0m\u001b[0m\n",
      "\u001b[0;32m/usr/lib/python2.7/pickle.pyc\u001b[0m in \u001b[0;36msave\u001b[0;34m(self, obj)\u001b[0m\n\u001b[1;32m    329\u001b[0m \u001b[0;34m\u001b[0m\u001b[0m\n\u001b[1;32m    330\u001b[0m         \u001b[0;31m# Save the reduce() output and finally memoize the object\u001b[0m\u001b[0;34m\u001b[0m\u001b[0;34m\u001b[0m\u001b[0m\n\u001b[0;32m--> 331\u001b[0;31m         \u001b[0mself\u001b[0m\u001b[0;34m.\u001b[0m\u001b[0msave_reduce\u001b[0m\u001b[0;34m(\u001b[0m\u001b[0mobj\u001b[0m\u001b[0;34m=\u001b[0m\u001b[0mobj\u001b[0m\u001b[0;34m,\u001b[0m \u001b[0;34m*\u001b[0m\u001b[0mrv\u001b[0m\u001b[0;34m)\u001b[0m\u001b[0;34m\u001b[0m\u001b[0m\n\u001b[0m\u001b[1;32m    332\u001b[0m \u001b[0;34m\u001b[0m\u001b[0m\n\u001b[1;32m    333\u001b[0m     \u001b[0;32mdef\u001b[0m \u001b[0mpersistent_id\u001b[0m\u001b[0;34m(\u001b[0m\u001b[0mself\u001b[0m\u001b[0;34m,\u001b[0m \u001b[0mobj\u001b[0m\u001b[0;34m)\u001b[0m\u001b[0;34m:\u001b[0m\u001b[0;34m\u001b[0m\u001b[0m\n",
      "\u001b[0;32m/usr/lib/python2.7/pickle.pyc\u001b[0m in \u001b[0;36msave_reduce\u001b[0;34m(self, func, args, state, listitems, dictitems, obj)\u001b[0m\n\u001b[1;32m    423\u001b[0m \u001b[0;34m\u001b[0m\u001b[0m\n\u001b[1;32m    424\u001b[0m         \u001b[0;32mif\u001b[0m \u001b[0mstate\u001b[0m \u001b[0;32mis\u001b[0m \u001b[0;32mnot\u001b[0m \u001b[0mNone\u001b[0m\u001b[0;34m:\u001b[0m\u001b[0;34m\u001b[0m\u001b[0m\n\u001b[0;32m--> 425\u001b[0;31m             \u001b[0msave\u001b[0m\u001b[0;34m(\u001b[0m\u001b[0mstate\u001b[0m\u001b[0;34m)\u001b[0m\u001b[0;34m\u001b[0m\u001b[0m\n\u001b[0m\u001b[1;32m    426\u001b[0m             \u001b[0mwrite\u001b[0m\u001b[0;34m(\u001b[0m\u001b[0mBUILD\u001b[0m\u001b[0;34m)\u001b[0m\u001b[0;34m\u001b[0m\u001b[0m\n\u001b[1;32m    427\u001b[0m \u001b[0;34m\u001b[0m\u001b[0m\n",
      "\u001b[0;32m/home/avignon/.local/lib/python2.7/site-packages/sklearn/externals/joblib/numpy_pickle.pyc\u001b[0m in \u001b[0;36msave\u001b[0;34m(self, obj)\u001b[0m\n\u001b[1;32m    278\u001b[0m             \u001b[0;32mreturn\u001b[0m\u001b[0;34m\u001b[0m\u001b[0m\n\u001b[1;32m    279\u001b[0m \u001b[0;34m\u001b[0m\u001b[0m\n\u001b[0;32m--> 280\u001b[0;31m         \u001b[0;32mreturn\u001b[0m \u001b[0mPickler\u001b[0m\u001b[0;34m.\u001b[0m\u001b[0msave\u001b[0m\u001b[0;34m(\u001b[0m\u001b[0mself\u001b[0m\u001b[0;34m,\u001b[0m \u001b[0mobj\u001b[0m\u001b[0;34m)\u001b[0m\u001b[0;34m\u001b[0m\u001b[0m\n\u001b[0m\u001b[1;32m    281\u001b[0m \u001b[0;34m\u001b[0m\u001b[0m\n\u001b[1;32m    282\u001b[0m \u001b[0;34m\u001b[0m\u001b[0m\n",
      "\u001b[0;32m/usr/lib/python2.7/pickle.pyc\u001b[0m in \u001b[0;36msave\u001b[0;34m(self, obj)\u001b[0m\n\u001b[1;32m    284\u001b[0m         \u001b[0mf\u001b[0m \u001b[0;34m=\u001b[0m \u001b[0mself\u001b[0m\u001b[0;34m.\u001b[0m\u001b[0mdispatch\u001b[0m\u001b[0;34m.\u001b[0m\u001b[0mget\u001b[0m\u001b[0;34m(\u001b[0m\u001b[0mt\u001b[0m\u001b[0;34m)\u001b[0m\u001b[0;34m\u001b[0m\u001b[0m\n\u001b[1;32m    285\u001b[0m         \u001b[0;32mif\u001b[0m \u001b[0mf\u001b[0m\u001b[0;34m:\u001b[0m\u001b[0;34m\u001b[0m\u001b[0m\n\u001b[0;32m--> 286\u001b[0;31m             \u001b[0mf\u001b[0m\u001b[0;34m(\u001b[0m\u001b[0mself\u001b[0m\u001b[0;34m,\u001b[0m \u001b[0mobj\u001b[0m\u001b[0;34m)\u001b[0m \u001b[0;31m# Call unbound method with explicit self\u001b[0m\u001b[0;34m\u001b[0m\u001b[0m\n\u001b[0m\u001b[1;32m    287\u001b[0m             \u001b[0;32mreturn\u001b[0m\u001b[0;34m\u001b[0m\u001b[0m\n\u001b[1;32m    288\u001b[0m \u001b[0;34m\u001b[0m\u001b[0m\n",
      "\u001b[0;32m/usr/lib/python2.7/pickle.pyc\u001b[0m in \u001b[0;36msave_dict\u001b[0;34m(self, obj)\u001b[0m\n\u001b[1;32m    653\u001b[0m \u001b[0;34m\u001b[0m\u001b[0m\n\u001b[1;32m    654\u001b[0m         \u001b[0mself\u001b[0m\u001b[0;34m.\u001b[0m\u001b[0mmemoize\u001b[0m\u001b[0;34m(\u001b[0m\u001b[0mobj\u001b[0m\u001b[0;34m)\u001b[0m\u001b[0;34m\u001b[0m\u001b[0m\n\u001b[0;32m--> 655\u001b[0;31m         \u001b[0mself\u001b[0m\u001b[0;34m.\u001b[0m\u001b[0m_batch_setitems\u001b[0m\u001b[0;34m(\u001b[0m\u001b[0mobj\u001b[0m\u001b[0;34m.\u001b[0m\u001b[0miteritems\u001b[0m\u001b[0;34m(\u001b[0m\u001b[0;34m)\u001b[0m\u001b[0;34m)\u001b[0m\u001b[0;34m\u001b[0m\u001b[0m\n\u001b[0m\u001b[1;32m    656\u001b[0m \u001b[0;34m\u001b[0m\u001b[0m\n\u001b[1;32m    657\u001b[0m     \u001b[0mdispatch\u001b[0m\u001b[0;34m[\u001b[0m\u001b[0mDictionaryType\u001b[0m\u001b[0;34m]\u001b[0m \u001b[0;34m=\u001b[0m \u001b[0msave_dict\u001b[0m\u001b[0;34m\u001b[0m\u001b[0m\n",
      "\u001b[0;32m/usr/lib/python2.7/pickle.pyc\u001b[0m in \u001b[0;36m_batch_setitems\u001b[0;34m(self, items)\u001b[0m\n\u001b[1;32m    685\u001b[0m                 \u001b[0;32mfor\u001b[0m \u001b[0mk\u001b[0m\u001b[0;34m,\u001b[0m \u001b[0mv\u001b[0m \u001b[0;32min\u001b[0m \u001b[0mtmp\u001b[0m\u001b[0;34m:\u001b[0m\u001b[0;34m\u001b[0m\u001b[0m\n\u001b[1;32m    686\u001b[0m                     \u001b[0msave\u001b[0m\u001b[0;34m(\u001b[0m\u001b[0mk\u001b[0m\u001b[0;34m)\u001b[0m\u001b[0;34m\u001b[0m\u001b[0m\n\u001b[0;32m--> 687\u001b[0;31m                     \u001b[0msave\u001b[0m\u001b[0;34m(\u001b[0m\u001b[0mv\u001b[0m\u001b[0;34m)\u001b[0m\u001b[0;34m\u001b[0m\u001b[0m\n\u001b[0m\u001b[1;32m    688\u001b[0m                 \u001b[0mwrite\u001b[0m\u001b[0;34m(\u001b[0m\u001b[0mSETITEMS\u001b[0m\u001b[0;34m)\u001b[0m\u001b[0;34m\u001b[0m\u001b[0m\n\u001b[1;32m    689\u001b[0m             \u001b[0;32melif\u001b[0m \u001b[0mn\u001b[0m\u001b[0;34m:\u001b[0m\u001b[0;34m\u001b[0m\u001b[0m\n",
      "\u001b[0;32m/home/avignon/.local/lib/python2.7/site-packages/sklearn/externals/joblib/numpy_pickle.pyc\u001b[0m in \u001b[0;36msave\u001b[0;34m(self, obj)\u001b[0m\n\u001b[1;32m    278\u001b[0m             \u001b[0;32mreturn\u001b[0m\u001b[0;34m\u001b[0m\u001b[0m\n\u001b[1;32m    279\u001b[0m \u001b[0;34m\u001b[0m\u001b[0m\n\u001b[0;32m--> 280\u001b[0;31m         \u001b[0;32mreturn\u001b[0m \u001b[0mPickler\u001b[0m\u001b[0;34m.\u001b[0m\u001b[0msave\u001b[0m\u001b[0;34m(\u001b[0m\u001b[0mself\u001b[0m\u001b[0;34m,\u001b[0m \u001b[0mobj\u001b[0m\u001b[0;34m)\u001b[0m\u001b[0;34m\u001b[0m\u001b[0m\n\u001b[0m\u001b[1;32m    281\u001b[0m \u001b[0;34m\u001b[0m\u001b[0m\n\u001b[1;32m    282\u001b[0m \u001b[0;34m\u001b[0m\u001b[0m\n",
      "\u001b[0;32m/usr/lib/python2.7/pickle.pyc\u001b[0m in \u001b[0;36msave\u001b[0;34m(self, obj)\u001b[0m\n\u001b[1;32m    284\u001b[0m         \u001b[0mf\u001b[0m \u001b[0;34m=\u001b[0m \u001b[0mself\u001b[0m\u001b[0;34m.\u001b[0m\u001b[0mdispatch\u001b[0m\u001b[0;34m.\u001b[0m\u001b[0mget\u001b[0m\u001b[0;34m(\u001b[0m\u001b[0mt\u001b[0m\u001b[0;34m)\u001b[0m\u001b[0;34m\u001b[0m\u001b[0m\n\u001b[1;32m    285\u001b[0m         \u001b[0;32mif\u001b[0m \u001b[0mf\u001b[0m\u001b[0;34m:\u001b[0m\u001b[0;34m\u001b[0m\u001b[0m\n\u001b[0;32m--> 286\u001b[0;31m             \u001b[0mf\u001b[0m\u001b[0;34m(\u001b[0m\u001b[0mself\u001b[0m\u001b[0;34m,\u001b[0m \u001b[0mobj\u001b[0m\u001b[0;34m)\u001b[0m \u001b[0;31m# Call unbound method with explicit self\u001b[0m\u001b[0;34m\u001b[0m\u001b[0m\n\u001b[0m\u001b[1;32m    287\u001b[0m             \u001b[0;32mreturn\u001b[0m\u001b[0;34m\u001b[0m\u001b[0m\n\u001b[1;32m    288\u001b[0m \u001b[0;34m\u001b[0m\u001b[0m\n",
      "\u001b[0;32m/usr/lib/python2.7/pickle.pyc\u001b[0m in \u001b[0;36msave_list\u001b[0;34m(self, obj)\u001b[0m\n\u001b[1;32m    604\u001b[0m \u001b[0;34m\u001b[0m\u001b[0m\n\u001b[1;32m    605\u001b[0m         \u001b[0mself\u001b[0m\u001b[0;34m.\u001b[0m\u001b[0mmemoize\u001b[0m\u001b[0;34m(\u001b[0m\u001b[0mobj\u001b[0m\u001b[0;34m)\u001b[0m\u001b[0;34m\u001b[0m\u001b[0m\n\u001b[0;32m--> 606\u001b[0;31m         \u001b[0mself\u001b[0m\u001b[0;34m.\u001b[0m\u001b[0m_batch_appends\u001b[0m\u001b[0;34m(\u001b[0m\u001b[0miter\u001b[0m\u001b[0;34m(\u001b[0m\u001b[0mobj\u001b[0m\u001b[0;34m)\u001b[0m\u001b[0;34m)\u001b[0m\u001b[0;34m\u001b[0m\u001b[0m\n\u001b[0m\u001b[1;32m    607\u001b[0m \u001b[0;34m\u001b[0m\u001b[0m\n\u001b[1;32m    608\u001b[0m     \u001b[0mdispatch\u001b[0m\u001b[0;34m[\u001b[0m\u001b[0mListType\u001b[0m\u001b[0;34m]\u001b[0m \u001b[0;34m=\u001b[0m \u001b[0msave_list\u001b[0m\u001b[0;34m\u001b[0m\u001b[0m\n",
      "\u001b[0;32m/usr/lib/python2.7/pickle.pyc\u001b[0m in \u001b[0;36m_batch_appends\u001b[0;34m(self, items)\u001b[0m\n\u001b[1;32m    637\u001b[0m                 \u001b[0mwrite\u001b[0m\u001b[0;34m(\u001b[0m\u001b[0mMARK\u001b[0m\u001b[0;34m)\u001b[0m\u001b[0;34m\u001b[0m\u001b[0m\n\u001b[1;32m    638\u001b[0m                 \u001b[0;32mfor\u001b[0m \u001b[0mx\u001b[0m \u001b[0;32min\u001b[0m \u001b[0mtmp\u001b[0m\u001b[0;34m:\u001b[0m\u001b[0;34m\u001b[0m\u001b[0m\n\u001b[0;32m--> 639\u001b[0;31m                     \u001b[0msave\u001b[0m\u001b[0;34m(\u001b[0m\u001b[0mx\u001b[0m\u001b[0;34m)\u001b[0m\u001b[0;34m\u001b[0m\u001b[0m\n\u001b[0m\u001b[1;32m    640\u001b[0m                 \u001b[0mwrite\u001b[0m\u001b[0;34m(\u001b[0m\u001b[0mAPPENDS\u001b[0m\u001b[0;34m)\u001b[0m\u001b[0;34m\u001b[0m\u001b[0m\n\u001b[1;32m    641\u001b[0m             \u001b[0;32melif\u001b[0m \u001b[0mn\u001b[0m\u001b[0;34m:\u001b[0m\u001b[0;34m\u001b[0m\u001b[0m\n",
      "\u001b[0;32m/home/avignon/.local/lib/python2.7/site-packages/sklearn/externals/joblib/numpy_pickle.pyc\u001b[0m in \u001b[0;36msave\u001b[0;34m(self, obj)\u001b[0m\n\u001b[1;32m    278\u001b[0m             \u001b[0;32mreturn\u001b[0m\u001b[0;34m\u001b[0m\u001b[0m\n\u001b[1;32m    279\u001b[0m \u001b[0;34m\u001b[0m\u001b[0m\n\u001b[0;32m--> 280\u001b[0;31m         \u001b[0;32mreturn\u001b[0m \u001b[0mPickler\u001b[0m\u001b[0;34m.\u001b[0m\u001b[0msave\u001b[0m\u001b[0;34m(\u001b[0m\u001b[0mself\u001b[0m\u001b[0;34m,\u001b[0m \u001b[0mobj\u001b[0m\u001b[0;34m)\u001b[0m\u001b[0;34m\u001b[0m\u001b[0m\n\u001b[0m\u001b[1;32m    281\u001b[0m \u001b[0;34m\u001b[0m\u001b[0m\n\u001b[1;32m    282\u001b[0m \u001b[0;34m\u001b[0m\u001b[0m\n",
      "\u001b[0;32m/usr/lib/python2.7/pickle.pyc\u001b[0m in \u001b[0;36msave\u001b[0;34m(self, obj)\u001b[0m\n\u001b[1;32m    284\u001b[0m         \u001b[0mf\u001b[0m \u001b[0;34m=\u001b[0m \u001b[0mself\u001b[0m\u001b[0;34m.\u001b[0m\u001b[0mdispatch\u001b[0m\u001b[0;34m.\u001b[0m\u001b[0mget\u001b[0m\u001b[0;34m(\u001b[0m\u001b[0mt\u001b[0m\u001b[0;34m)\u001b[0m\u001b[0;34m\u001b[0m\u001b[0m\n\u001b[1;32m    285\u001b[0m         \u001b[0;32mif\u001b[0m \u001b[0mf\u001b[0m\u001b[0;34m:\u001b[0m\u001b[0;34m\u001b[0m\u001b[0m\n\u001b[0;32m--> 286\u001b[0;31m             \u001b[0mf\u001b[0m\u001b[0;34m(\u001b[0m\u001b[0mself\u001b[0m\u001b[0;34m,\u001b[0m \u001b[0mobj\u001b[0m\u001b[0;34m)\u001b[0m \u001b[0;31m# Call unbound method with explicit self\u001b[0m\u001b[0;34m\u001b[0m\u001b[0m\n\u001b[0m\u001b[1;32m    287\u001b[0m             \u001b[0;32mreturn\u001b[0m\u001b[0;34m\u001b[0m\u001b[0m\n\u001b[1;32m    288\u001b[0m \u001b[0;34m\u001b[0m\u001b[0m\n",
      "\u001b[0;32m/usr/lib/python2.7/pickle.pyc\u001b[0m in \u001b[0;36msave_tuple\u001b[0;34m(self, obj)\u001b[0m\n\u001b[1;32m    552\u001b[0m         \u001b[0;32mif\u001b[0m \u001b[0mn\u001b[0m \u001b[0;34m<=\u001b[0m \u001b[0;36m3\u001b[0m \u001b[0;32mand\u001b[0m \u001b[0mproto\u001b[0m \u001b[0;34m>=\u001b[0m \u001b[0;36m2\u001b[0m\u001b[0;34m:\u001b[0m\u001b[0;34m\u001b[0m\u001b[0m\n\u001b[1;32m    553\u001b[0m             \u001b[0;32mfor\u001b[0m \u001b[0melement\u001b[0m \u001b[0;32min\u001b[0m \u001b[0mobj\u001b[0m\u001b[0;34m:\u001b[0m\u001b[0;34m\u001b[0m\u001b[0m\n\u001b[0;32m--> 554\u001b[0;31m                 \u001b[0msave\u001b[0m\u001b[0;34m(\u001b[0m\u001b[0melement\u001b[0m\u001b[0;34m)\u001b[0m\u001b[0;34m\u001b[0m\u001b[0m\n\u001b[0m\u001b[1;32m    555\u001b[0m             \u001b[0;31m# Subtle.  Same as in the big comment below.\u001b[0m\u001b[0;34m\u001b[0m\u001b[0;34m\u001b[0m\u001b[0m\n\u001b[1;32m    556\u001b[0m             \u001b[0;32mif\u001b[0m \u001b[0mid\u001b[0m\u001b[0;34m(\u001b[0m\u001b[0mobj\u001b[0m\u001b[0;34m)\u001b[0m \u001b[0;32min\u001b[0m \u001b[0mmemo\u001b[0m\u001b[0;34m:\u001b[0m\u001b[0;34m\u001b[0m\u001b[0m\n",
      "\u001b[0;32m/home/avignon/.local/lib/python2.7/site-packages/sklearn/externals/joblib/numpy_pickle.pyc\u001b[0m in \u001b[0;36msave\u001b[0;34m(self, obj)\u001b[0m\n\u001b[1;32m    278\u001b[0m             \u001b[0;32mreturn\u001b[0m\u001b[0;34m\u001b[0m\u001b[0m\n\u001b[1;32m    279\u001b[0m \u001b[0;34m\u001b[0m\u001b[0m\n\u001b[0;32m--> 280\u001b[0;31m         \u001b[0;32mreturn\u001b[0m \u001b[0mPickler\u001b[0m\u001b[0;34m.\u001b[0m\u001b[0msave\u001b[0m\u001b[0;34m(\u001b[0m\u001b[0mself\u001b[0m\u001b[0;34m,\u001b[0m \u001b[0mobj\u001b[0m\u001b[0;34m)\u001b[0m\u001b[0;34m\u001b[0m\u001b[0m\n\u001b[0m\u001b[1;32m    281\u001b[0m \u001b[0;34m\u001b[0m\u001b[0m\n\u001b[1;32m    282\u001b[0m \u001b[0;34m\u001b[0m\u001b[0m\n",
      "\u001b[0;32m/usr/lib/python2.7/pickle.pyc\u001b[0m in \u001b[0;36msave\u001b[0;34m(self, obj)\u001b[0m\n\u001b[1;32m    329\u001b[0m \u001b[0;34m\u001b[0m\u001b[0m\n\u001b[1;32m    330\u001b[0m         \u001b[0;31m# Save the reduce() output and finally memoize the object\u001b[0m\u001b[0;34m\u001b[0m\u001b[0;34m\u001b[0m\u001b[0m\n\u001b[0;32m--> 331\u001b[0;31m         \u001b[0mself\u001b[0m\u001b[0;34m.\u001b[0m\u001b[0msave_reduce\u001b[0m\u001b[0;34m(\u001b[0m\u001b[0mobj\u001b[0m\u001b[0;34m=\u001b[0m\u001b[0mobj\u001b[0m\u001b[0;34m,\u001b[0m \u001b[0;34m*\u001b[0m\u001b[0mrv\u001b[0m\u001b[0;34m)\u001b[0m\u001b[0;34m\u001b[0m\u001b[0m\n\u001b[0m\u001b[1;32m    332\u001b[0m \u001b[0;34m\u001b[0m\u001b[0m\n\u001b[1;32m    333\u001b[0m     \u001b[0;32mdef\u001b[0m \u001b[0mpersistent_id\u001b[0m\u001b[0;34m(\u001b[0m\u001b[0mself\u001b[0m\u001b[0;34m,\u001b[0m \u001b[0mobj\u001b[0m\u001b[0;34m)\u001b[0m\u001b[0;34m:\u001b[0m\u001b[0;34m\u001b[0m\u001b[0m\n",
      "\u001b[0;32m/usr/lib/python2.7/pickle.pyc\u001b[0m in \u001b[0;36msave_reduce\u001b[0;34m(self, func, args, state, listitems, dictitems, obj)\u001b[0m\n\u001b[1;32m    423\u001b[0m \u001b[0;34m\u001b[0m\u001b[0m\n\u001b[1;32m    424\u001b[0m         \u001b[0;32mif\u001b[0m \u001b[0mstate\u001b[0m \u001b[0;32mis\u001b[0m \u001b[0;32mnot\u001b[0m \u001b[0mNone\u001b[0m\u001b[0;34m:\u001b[0m\u001b[0;34m\u001b[0m\u001b[0m\n\u001b[0;32m--> 425\u001b[0;31m             \u001b[0msave\u001b[0m\u001b[0;34m(\u001b[0m\u001b[0mstate\u001b[0m\u001b[0;34m)\u001b[0m\u001b[0;34m\u001b[0m\u001b[0m\n\u001b[0m\u001b[1;32m    426\u001b[0m             \u001b[0mwrite\u001b[0m\u001b[0;34m(\u001b[0m\u001b[0mBUILD\u001b[0m\u001b[0;34m)\u001b[0m\u001b[0;34m\u001b[0m\u001b[0m\n\u001b[1;32m    427\u001b[0m \u001b[0;34m\u001b[0m\u001b[0m\n",
      "\u001b[0;32m/home/avignon/.local/lib/python2.7/site-packages/sklearn/externals/joblib/numpy_pickle.pyc\u001b[0m in \u001b[0;36msave\u001b[0;34m(self, obj)\u001b[0m\n\u001b[1;32m    278\u001b[0m             \u001b[0;32mreturn\u001b[0m\u001b[0;34m\u001b[0m\u001b[0m\n\u001b[1;32m    279\u001b[0m \u001b[0;34m\u001b[0m\u001b[0m\n\u001b[0;32m--> 280\u001b[0;31m         \u001b[0;32mreturn\u001b[0m \u001b[0mPickler\u001b[0m\u001b[0;34m.\u001b[0m\u001b[0msave\u001b[0m\u001b[0;34m(\u001b[0m\u001b[0mself\u001b[0m\u001b[0;34m,\u001b[0m \u001b[0mobj\u001b[0m\u001b[0;34m)\u001b[0m\u001b[0;34m\u001b[0m\u001b[0m\n\u001b[0m\u001b[1;32m    281\u001b[0m \u001b[0;34m\u001b[0m\u001b[0m\n\u001b[1;32m    282\u001b[0m \u001b[0;34m\u001b[0m\u001b[0m\n",
      "\u001b[0;32m/usr/lib/python2.7/pickle.pyc\u001b[0m in \u001b[0;36msave\u001b[0;34m(self, obj)\u001b[0m\n\u001b[1;32m    284\u001b[0m         \u001b[0mf\u001b[0m \u001b[0;34m=\u001b[0m \u001b[0mself\u001b[0m\u001b[0;34m.\u001b[0m\u001b[0mdispatch\u001b[0m\u001b[0;34m.\u001b[0m\u001b[0mget\u001b[0m\u001b[0;34m(\u001b[0m\u001b[0mt\u001b[0m\u001b[0;34m)\u001b[0m\u001b[0;34m\u001b[0m\u001b[0m\n\u001b[1;32m    285\u001b[0m         \u001b[0;32mif\u001b[0m \u001b[0mf\u001b[0m\u001b[0;34m:\u001b[0m\u001b[0;34m\u001b[0m\u001b[0m\n\u001b[0;32m--> 286\u001b[0;31m             \u001b[0mf\u001b[0m\u001b[0;34m(\u001b[0m\u001b[0mself\u001b[0m\u001b[0;34m,\u001b[0m \u001b[0mobj\u001b[0m\u001b[0;34m)\u001b[0m \u001b[0;31m# Call unbound method with explicit self\u001b[0m\u001b[0;34m\u001b[0m\u001b[0m\n\u001b[0m\u001b[1;32m    287\u001b[0m             \u001b[0;32mreturn\u001b[0m\u001b[0;34m\u001b[0m\u001b[0m\n\u001b[1;32m    288\u001b[0m \u001b[0;34m\u001b[0m\u001b[0m\n",
      "\u001b[0;32m/usr/lib/python2.7/pickle.pyc\u001b[0m in \u001b[0;36msave_dict\u001b[0;34m(self, obj)\u001b[0m\n\u001b[1;32m    653\u001b[0m \u001b[0;34m\u001b[0m\u001b[0m\n\u001b[1;32m    654\u001b[0m         \u001b[0mself\u001b[0m\u001b[0;34m.\u001b[0m\u001b[0mmemoize\u001b[0m\u001b[0;34m(\u001b[0m\u001b[0mobj\u001b[0m\u001b[0;34m)\u001b[0m\u001b[0;34m\u001b[0m\u001b[0m\n\u001b[0;32m--> 655\u001b[0;31m         \u001b[0mself\u001b[0m\u001b[0;34m.\u001b[0m\u001b[0m_batch_setitems\u001b[0m\u001b[0;34m(\u001b[0m\u001b[0mobj\u001b[0m\u001b[0;34m.\u001b[0m\u001b[0miteritems\u001b[0m\u001b[0;34m(\u001b[0m\u001b[0;34m)\u001b[0m\u001b[0;34m)\u001b[0m\u001b[0;34m\u001b[0m\u001b[0m\n\u001b[0m\u001b[1;32m    656\u001b[0m \u001b[0;34m\u001b[0m\u001b[0m\n\u001b[1;32m    657\u001b[0m     \u001b[0mdispatch\u001b[0m\u001b[0;34m[\u001b[0m\u001b[0mDictionaryType\u001b[0m\u001b[0;34m]\u001b[0m \u001b[0;34m=\u001b[0m \u001b[0msave_dict\u001b[0m\u001b[0;34m\u001b[0m\u001b[0m\n",
      "\u001b[0;32m/usr/lib/python2.7/pickle.pyc\u001b[0m in \u001b[0;36m_batch_setitems\u001b[0;34m(self, items)\u001b[0m\n\u001b[1;32m    685\u001b[0m                 \u001b[0;32mfor\u001b[0m \u001b[0mk\u001b[0m\u001b[0;34m,\u001b[0m \u001b[0mv\u001b[0m \u001b[0;32min\u001b[0m \u001b[0mtmp\u001b[0m\u001b[0;34m:\u001b[0m\u001b[0;34m\u001b[0m\u001b[0m\n\u001b[1;32m    686\u001b[0m                     \u001b[0msave\u001b[0m\u001b[0;34m(\u001b[0m\u001b[0mk\u001b[0m\u001b[0;34m)\u001b[0m\u001b[0;34m\u001b[0m\u001b[0m\n\u001b[0;32m--> 687\u001b[0;31m                     \u001b[0msave\u001b[0m\u001b[0;34m(\u001b[0m\u001b[0mv\u001b[0m\u001b[0;34m)\u001b[0m\u001b[0;34m\u001b[0m\u001b[0m\n\u001b[0m\u001b[1;32m    688\u001b[0m                 \u001b[0mwrite\u001b[0m\u001b[0;34m(\u001b[0m\u001b[0mSETITEMS\u001b[0m\u001b[0;34m)\u001b[0m\u001b[0;34m\u001b[0m\u001b[0m\n\u001b[1;32m    689\u001b[0m             \u001b[0;32melif\u001b[0m \u001b[0mn\u001b[0m\u001b[0;34m:\u001b[0m\u001b[0;34m\u001b[0m\u001b[0m\n",
      "\u001b[0;32m/home/avignon/.local/lib/python2.7/site-packages/sklearn/externals/joblib/numpy_pickle.pyc\u001b[0m in \u001b[0;36msave\u001b[0;34m(self, obj)\u001b[0m\n\u001b[1;32m    278\u001b[0m             \u001b[0;32mreturn\u001b[0m\u001b[0;34m\u001b[0m\u001b[0m\n\u001b[1;32m    279\u001b[0m \u001b[0;34m\u001b[0m\u001b[0m\n\u001b[0;32m--> 280\u001b[0;31m         \u001b[0;32mreturn\u001b[0m \u001b[0mPickler\u001b[0m\u001b[0;34m.\u001b[0m\u001b[0msave\u001b[0m\u001b[0;34m(\u001b[0m\u001b[0mself\u001b[0m\u001b[0;34m,\u001b[0m \u001b[0mobj\u001b[0m\u001b[0;34m)\u001b[0m\u001b[0;34m\u001b[0m\u001b[0m\n\u001b[0m\u001b[1;32m    281\u001b[0m \u001b[0;34m\u001b[0m\u001b[0m\n\u001b[1;32m    282\u001b[0m \u001b[0;34m\u001b[0m\u001b[0m\n",
      "\u001b[0;32m/usr/lib/python2.7/pickle.pyc\u001b[0m in \u001b[0;36msave\u001b[0;34m(self, obj)\u001b[0m\n\u001b[1;32m    284\u001b[0m         \u001b[0mf\u001b[0m \u001b[0;34m=\u001b[0m \u001b[0mself\u001b[0m\u001b[0;34m.\u001b[0m\u001b[0mdispatch\u001b[0m\u001b[0;34m.\u001b[0m\u001b[0mget\u001b[0m\u001b[0;34m(\u001b[0m\u001b[0mt\u001b[0m\u001b[0;34m)\u001b[0m\u001b[0;34m\u001b[0m\u001b[0m\n\u001b[1;32m    285\u001b[0m         \u001b[0;32mif\u001b[0m \u001b[0mf\u001b[0m\u001b[0;34m:\u001b[0m\u001b[0;34m\u001b[0m\u001b[0m\n\u001b[0;32m--> 286\u001b[0;31m             \u001b[0mf\u001b[0m\u001b[0;34m(\u001b[0m\u001b[0mself\u001b[0m\u001b[0;34m,\u001b[0m \u001b[0mobj\u001b[0m\u001b[0;34m)\u001b[0m \u001b[0;31m# Call unbound method with explicit self\u001b[0m\u001b[0;34m\u001b[0m\u001b[0m\n\u001b[0m\u001b[1;32m    287\u001b[0m             \u001b[0;32mreturn\u001b[0m\u001b[0;34m\u001b[0m\u001b[0m\n\u001b[1;32m    288\u001b[0m \u001b[0;34m\u001b[0m\u001b[0m\n",
      "\u001b[0;32m/usr/lib/python2.7/pickle.pyc\u001b[0m in \u001b[0;36msave_global\u001b[0;34m(self, obj, name, pack)\u001b[0m\n\u001b[1;32m    752\u001b[0m             raise PicklingError(\n\u001b[1;32m    753\u001b[0m                 \u001b[0;34m\"Can't pickle %r: it's not found as %s.%s\"\u001b[0m \u001b[0;34m%\u001b[0m\u001b[0;34m\u001b[0m\u001b[0m\n\u001b[0;32m--> 754\u001b[0;31m                 (obj, module, name))\n\u001b[0m\u001b[1;32m    755\u001b[0m         \u001b[0;32melse\u001b[0m\u001b[0;34m:\u001b[0m\u001b[0;34m\u001b[0m\u001b[0m\n\u001b[1;32m    756\u001b[0m             \u001b[0;32mif\u001b[0m \u001b[0mklass\u001b[0m \u001b[0;32mis\u001b[0m \u001b[0;32mnot\u001b[0m \u001b[0mobj\u001b[0m\u001b[0;34m:\u001b[0m\u001b[0;34m\u001b[0m\u001b[0m\n",
      "\u001b[0;31mPicklingError\u001b[0m: Can't pickle <function <lambda> at 0x7fefd9f3b578>: it's not found as __main__.<lambda>"
     ]
    }
   ],
   "source": [
    "model_name = \"device_time\"\n",
    "\n",
    "from sklearn.externals import joblib\n",
    "import pickle\n",
    "joblib.dump(pipeline_optimizer._fitted_pipeline, 'model_%s.pkl' % model_name) \n",
    "features = feature_set.columns\n",
    "with open('model_%s.feat' % model_name, \"w+\") as f: \n",
    "    pickle.dump(features,f)"
   ]
  },
  {
   "cell_type": "code",
   "execution_count": 397,
   "metadata": {
    "ExecuteTime": {
     "end_time": "2017-01-25T01:50:57.683522",
     "start_time": "2017-01-25T01:50:57.577166"
    },
    "collapsed": false
   },
   "outputs": [],
   "source": [
    "# mixing model_per_device and model_per_device_and_time\n",
    "model_name = \"device\"\n",
    "\n",
    "from sklearn.externals import joblib\n",
    "import pickle\n",
    "\n",
    "device_model = joblib.load(\"model.pkl\")\n",
    "device_model.named_steps\n",
    "with open('model_%s.feat' % model_name, \"r\") as f: \n",
    "    device_model_features = pickle.load(f)"
   ]
  },
  {
   "cell_type": "code",
   "execution_count": 462,
   "metadata": {
    "ExecuteTime": {
     "end_time": "2017-01-25T02:06:57.775105",
     "start_time": "2017-01-25T02:06:57.276150"
    },
    "collapsed": false
   },
   "outputs": [],
   "source": [
    "device_mat = sub_feature_set[device_model_features]\n",
    "predicted_device = device_model.predict_proba(device_mat)"
   ]
  },
  {
   "cell_type": "code",
   "execution_count": 481,
   "metadata": {
    "ExecuteTime": {
     "end_time": "2017-01-25T02:13:28.062547",
     "start_time": "2017-01-25T02:13:28.038001"
    },
    "collapsed": false
   },
   "outputs": [],
   "source": [
    "device_prediction = predicted_device[:,1]\n",
    "\n",
    "device_time_prediction = device_time_model.predict_proba(feature_mat)[:,1]\n",
    "#device_time_predictions = fitted.predict_proba(feature_mat)[:,1]\n",
    "# basic (two models) vote\n",
    "confidence_0 = np.abs(device_prediction -0.5)\n",
    "confidence_1 = np.abs(device_time_prediction -0.5)\n",
    "vote_0 = confidence_0 > confidence_1\n",
    "vote_1 =  np.invert(vote_0)\n",
    "\n",
    "#prediction = vote_0*device_prediction +vote_1*device_time_predictions\n",
    "prediction= device_time_predictions*device_prediction"
   ]
  },
  {
   "cell_type": "code",
   "execution_count": 482,
   "metadata": {
    "ExecuteTime": {
     "end_time": "2017-01-25T02:13:28.731316",
     "start_time": "2017-01-25T02:13:28.725803"
    },
    "collapsed": false
   },
   "outputs": [],
   "source": [
    "total_prec, total_recall, ths = precision_recall_curve(label_mat, prediction)\n",
    "dev_prec, dev_recall, ths = precision_recall_curve(label_mat, device_prediction)\n",
    "dev_t_prec, dev_t_recall, ths = precision_recall_curve(label_mat, device_time_prediction)"
   ]
  },
  {
   "cell_type": "code",
   "execution_count": 483,
   "metadata": {
    "ExecuteTime": {
     "end_time": "2017-01-25T02:13:29.433304",
     "start_time": "2017-01-25T02:13:29.244949"
    },
    "collapsed": false
   },
   "outputs": [
    {
     "data": {
      "text/html": [
       "\n",
       "\n",
       "    <div class=\"bk-root\">\n",
       "        <div class=\"bk-plotdiv\" id=\"0c3340ec-b9ec-46cb-b652-b2623dc8bf01\"></div>\n",
       "    </div>\n",
       "<script type=\"text/javascript\">\n",
       "  \n",
       "  (function(global) {\n",
       "    function now() {\n",
       "      return new Date();\n",
       "    }\n",
       "  \n",
       "    var force = false;\n",
       "  \n",
       "    if (typeof (window._bokeh_onload_callbacks) === \"undefined\" || force === true) {\n",
       "      window._bokeh_onload_callbacks = [];\n",
       "      window._bokeh_is_loading = undefined;\n",
       "    }\n",
       "  \n",
       "  \n",
       "    \n",
       "    if (typeof (window._bokeh_timeout) === \"undefined\" || force === true) {\n",
       "      window._bokeh_timeout = Date.now() + 0;\n",
       "      window._bokeh_failed_load = false;\n",
       "    }\n",
       "  \n",
       "    var NB_LOAD_WARNING = {'data': {'text/html':\n",
       "       \"<div style='background-color: #fdd'>\\n\"+\n",
       "       \"<p>\\n\"+\n",
       "       \"BokehJS does not appear to have successfully loaded. If loading BokehJS from CDN, this \\n\"+\n",
       "       \"may be due to a slow or bad network connection. Possible fixes:\\n\"+\n",
       "       \"</p>\\n\"+\n",
       "       \"<ul>\\n\"+\n",
       "       \"<li>re-rerun `output_notebook()` to attempt to load from CDN again, or</li>\\n\"+\n",
       "       \"<li>use INLINE resources instead, as so:</li>\\n\"+\n",
       "       \"</ul>\\n\"+\n",
       "       \"<code>\\n\"+\n",
       "       \"from bokeh.resources import INLINE\\n\"+\n",
       "       \"output_notebook(resources=INLINE)\\n\"+\n",
       "       \"</code>\\n\"+\n",
       "       \"</div>\"}};\n",
       "  \n",
       "    function display_loaded() {\n",
       "      if (window.Bokeh !== undefined) {\n",
       "        document.getElementById(\"0c3340ec-b9ec-46cb-b652-b2623dc8bf01\").textContent = \"BokehJS successfully loaded.\";\n",
       "      } else if (Date.now() < window._bokeh_timeout) {\n",
       "        setTimeout(display_loaded, 100)\n",
       "      }\n",
       "    }\n",
       "  \n",
       "    function run_callbacks() {\n",
       "      window._bokeh_onload_callbacks.forEach(function(callback) { callback() });\n",
       "      delete window._bokeh_onload_callbacks\n",
       "      console.info(\"Bokeh: all callbacks have finished\");\n",
       "    }\n",
       "  \n",
       "    function load_libs(js_urls, callback) {\n",
       "      window._bokeh_onload_callbacks.push(callback);\n",
       "      if (window._bokeh_is_loading > 0) {\n",
       "        console.log(\"Bokeh: BokehJS is being loaded, scheduling callback at\", now());\n",
       "        return null;\n",
       "      }\n",
       "      if (js_urls == null || js_urls.length === 0) {\n",
       "        run_callbacks();\n",
       "        return null;\n",
       "      }\n",
       "      console.log(\"Bokeh: BokehJS not loaded, scheduling load and callback at\", now());\n",
       "      window._bokeh_is_loading = js_urls.length;\n",
       "      for (var i = 0; i < js_urls.length; i++) {\n",
       "        var url = js_urls[i];\n",
       "        var s = document.createElement('script');\n",
       "        s.src = url;\n",
       "        s.async = false;\n",
       "        s.onreadystatechange = s.onload = function() {\n",
       "          window._bokeh_is_loading--;\n",
       "          if (window._bokeh_is_loading === 0) {\n",
       "            console.log(\"Bokeh: all BokehJS libraries loaded\");\n",
       "            run_callbacks()\n",
       "          }\n",
       "        };\n",
       "        s.onerror = function() {\n",
       "          console.warn(\"failed to load library \" + url);\n",
       "        };\n",
       "        console.log(\"Bokeh: injecting script tag for BokehJS library: \", url);\n",
       "        document.getElementsByTagName(\"head\")[0].appendChild(s);\n",
       "      }\n",
       "    };var element = document.getElementById(\"0c3340ec-b9ec-46cb-b652-b2623dc8bf01\");\n",
       "    if (element == null) {\n",
       "      console.log(\"Bokeh: ERROR: autoload.js configured with elementid '0c3340ec-b9ec-46cb-b652-b2623dc8bf01' but no matching script tag was found. \")\n",
       "      return false;\n",
       "    }\n",
       "  \n",
       "    var js_urls = [];\n",
       "  \n",
       "    var inline_js = [\n",
       "      function(Bokeh) {\n",
       "        (function() {\n",
       "          var fn = function() {\n",
       "            var docs_json = {\"c1da5b78-3654-49a2-9b79-0a93de0d7cd8\":{\"roots\":{\"references\":[{\"attributes\":{},\"id\":\"5fc55b85-2c1b-4ae0-8c3a-86dbc2633479\",\"type\":\"BasicTickFormatter\"},{\"attributes\":{\"plot\":{\"id\":\"c3ad623a-adeb-4fb1-ab5b-aa92a4ee092b\",\"subtype\":\"Figure\",\"type\":\"Plot\"}},\"id\":\"5151e073-024c-4d7b-b980-7861072c0973\",\"type\":\"HelpTool\"},{\"attributes\":{\"plot\":null,\"text\":\"PR curve\"},\"id\":\"7ccb4340-86c5-416e-9c00-703098caf4cb\",\"type\":\"Title\"},{\"attributes\":{\"data_source\":{\"id\":\"224e44e6-b06b-411e-8eef-c1df560948e7\",\"type\":\"ColumnDataSource\"},\"glyph\":{\"id\":\"d0f272b8-6adc-45f1-a424-9fa7ab7e6110\",\"type\":\"Line\"},\"hover_glyph\":null,\"nonselection_glyph\":{\"id\":\"4a4a4141-f4dc-4335-a9df-3cf33b0a795d\",\"type\":\"Line\"},\"selection_glyph\":null},\"id\":\"c7222a9d-a6dc-44d9-a0c1-9f211b263422\",\"type\":\"GlyphRenderer\"},{\"attributes\":{\"fill_alpha\":{\"value\":0.1},\"fill_color\":{\"value\":\"#1f77b4\"},\"line_alpha\":{\"value\":0.1},\"line_color\":{\"value\":\"#1f77b4\"},\"size\":{\"units\":\"screen\",\"value\":5},\"x\":{\"field\":\"x\"},\"y\":{\"field\":\"y\"}},\"id\":\"a5977687-9d59-4aea-8e31-2d6e973b2e2e\",\"type\":\"Cross\"},{\"attributes\":{\"line_alpha\":{\"value\":0.1},\"line_color\":{\"value\":\"#1f77b4\"},\"x\":{\"field\":\"x\"},\"y\":{\"field\":\"y\"}},\"id\":\"2ed29b67-f2c5-46c1-b954-94124b63d20f\",\"type\":\"Line\"},{\"attributes\":{},\"id\":\"e22ab223-f3a6-4a01-97c3-e4cbfdc18e36\",\"type\":\"ToolEvents\"},{\"attributes\":{\"bottom_units\":\"screen\",\"fill_alpha\":{\"value\":0.5},\"fill_color\":{\"value\":\"lightgrey\"},\"left_units\":\"screen\",\"level\":\"overlay\",\"line_alpha\":{\"value\":1.0},\"line_color\":{\"value\":\"black\"},\"line_dash\":[4,4],\"line_width\":{\"value\":2},\"plot\":null,\"render_mode\":\"css\",\"right_units\":\"screen\",\"top_units\":\"screen\"},\"id\":\"43c2f4d8-2b3c-4f63-b6d6-50f7fa52ab2b\",\"type\":\"BoxAnnotation\"},{\"attributes\":{\"fill_alpha\":{\"value\":0.1},\"fill_color\":{\"value\":\"#1f77b4\"},\"line_alpha\":{\"value\":0.1},\"line_color\":{\"value\":\"#1f77b4\"},\"size\":{\"units\":\"screen\",\"value\":5},\"x\":{\"field\":\"x\"},\"y\":{\"field\":\"y\"}},\"id\":\"278c5051-c885-459d-9125-f69d3f84922c\",\"type\":\"Cross\"},{\"attributes\":{\"active_drag\":\"auto\",\"active_scroll\":\"auto\",\"active_tap\":\"auto\",\"tools\":[{\"id\":\"09668465-cc3f-4f62-90d2-794f9ad8f12f\",\"type\":\"PanTool\"},{\"id\":\"bb70403d-61a2-4e32-9aa8-518f0e47ca53\",\"type\":\"WheelZoomTool\"},{\"id\":\"1a0a6acb-3601-4f0f-a060-f458df09dd44\",\"type\":\"BoxZoomTool\"},{\"id\":\"f73c7236-81d4-472d-9f46-ca55147d2489\",\"type\":\"SaveTool\"},{\"id\":\"1200b259-b592-4e0b-81e7-e065f0bf9ae0\",\"type\":\"ResetTool\"},{\"id\":\"5151e073-024c-4d7b-b980-7861072c0973\",\"type\":\"HelpTool\"}]},\"id\":\"210248d3-d03e-424e-b676-9d0176807418\",\"type\":\"Toolbar\"},{\"attributes\":{\"label\":{\"value\":\"PR\"},\"renderers\":[{\"id\":\"cef91acc-cdec-4813-99b2-f7a094196b0f\",\"type\":\"GlyphRenderer\"}]},\"id\":\"8dba4b5f-93f3-4b6d-8347-57841c8fbc04\",\"type\":\"LegendItem\"},{\"attributes\":{\"below\":[{\"id\":\"dd6263f5-2840-4b1d-9c9a-56f49720562b\",\"type\":\"LinearAxis\"}],\"left\":[{\"id\":\"2e7a8029-d249-4211-970f-9b3a4a388741\",\"type\":\"LinearAxis\"}],\"plot_height\":400,\"plot_width\":400,\"renderers\":[{\"id\":\"dd6263f5-2840-4b1d-9c9a-56f49720562b\",\"type\":\"LinearAxis\"},{\"id\":\"e7482bc0-46c6-44a3-a3cb-b7b4e2a60266\",\"type\":\"Grid\"},{\"id\":\"2e7a8029-d249-4211-970f-9b3a4a388741\",\"type\":\"LinearAxis\"},{\"id\":\"1dd43c20-8347-43c1-b1aa-ba82ca10a1d9\",\"type\":\"Grid\"},{\"id\":\"43c2f4d8-2b3c-4f63-b6d6-50f7fa52ab2b\",\"type\":\"BoxAnnotation\"},{\"id\":\"5ab3e133-b9a4-4fae-a7b1-32aa36de6fa5\",\"type\":\"GlyphRenderer\"},{\"id\":\"fe19c504-b670-4cac-b29f-3f09380ac566\",\"type\":\"Legend\"},{\"id\":\"c7222a9d-a6dc-44d9-a0c1-9f211b263422\",\"type\":\"GlyphRenderer\"},{\"id\":\"ecde8be2-d970-4539-92c4-07969e8bc439\",\"type\":\"GlyphRenderer\"},{\"id\":\"aad9eeae-6a63-4501-abf9-9f310e519954\",\"type\":\"GlyphRenderer\"},{\"id\":\"41feb0a1-8eb8-4465-acfd-610b9bc35012\",\"type\":\"GlyphRenderer\"},{\"id\":\"cef91acc-cdec-4813-99b2-f7a094196b0f\",\"type\":\"GlyphRenderer\"}],\"title\":{\"id\":\"7ccb4340-86c5-416e-9c00-703098caf4cb\",\"type\":\"Title\"},\"tool_events\":{\"id\":\"e22ab223-f3a6-4a01-97c3-e4cbfdc18e36\",\"type\":\"ToolEvents\"},\"toolbar\":{\"id\":\"210248d3-d03e-424e-b676-9d0176807418\",\"type\":\"Toolbar\"},\"x_range\":{\"id\":\"2b96bc10-53b0-4f1f-b7af-ed2c01c11926\",\"type\":\"DataRange1d\"},\"y_range\":{\"id\":\"2f1c8162-2fb4-460b-aa4d-7d318ed8dcf6\",\"type\":\"DataRange1d\"}},\"id\":\"c3ad623a-adeb-4fb1-ab5b-aa92a4ee092b\",\"subtype\":\"Figure\",\"type\":\"Plot\"},{\"attributes\":{\"axis_label\":\"recall\",\"formatter\":{\"id\":\"926a672f-8abb-4491-9775-84d6cd23dc0e\",\"type\":\"BasicTickFormatter\"},\"plot\":{\"id\":\"c3ad623a-adeb-4fb1-ab5b-aa92a4ee092b\",\"subtype\":\"Figure\",\"type\":\"Plot\"},\"ticker\":{\"id\":\"3a398f5c-ceec-4ff1-b8f7-69767f38e43e\",\"type\":\"BasicTicker\"}},\"id\":\"dd6263f5-2840-4b1d-9c9a-56f49720562b\",\"type\":\"LinearAxis\"},{\"attributes\":{\"callback\":null,\"column_names\":[\"y\",\"x\"],\"data\":{\"x\":{\"__ndarray__\":\"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\",\"dtype\":\"float64\",\"shape\":[3234]},\"y\":{\"__ndarray__\":\"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\",\"dtype\":\"float64\",\"shape\":[3234]}}},\"id\":\"737deed2-37ef-42a0-8170-0e336b1499ac\",\"type\":\"ColumnDataSource\"},{\"attributes\":{\"line_alpha\":{\"value\":0.1},\"line_color\":{\"value\":\"#1f77b4\"},\"x\":{\"field\":\"x\"},\"y\":{\"field\":\"y\"}},\"id\":\"4a4a4141-f4dc-4335-a9df-3cf33b0a795d\",\"type\":\"Line\"},{\"attributes\":{\"callback\":null},\"id\":\"2b96bc10-53b0-4f1f-b7af-ed2c01c11926\",\"type\":\"DataRange1d\"},{\"attributes\":{\"fill_color\":{\"value\":\"red\"},\"line_color\":{\"value\":\"red\"},\"size\":{\"units\":\"screen\",\"value\":5},\"x\":{\"field\":\"x\"},\"y\":{\"field\":\"y\"}},\"id\":\"e9f7dce7-a8b2-44e5-8e5d-502af1710398\",\"type\":\"Cross\"},{\"attributes\":{\"axis_label\":\"precision\",\"formatter\":{\"id\":\"5fc55b85-2c1b-4ae0-8c3a-86dbc2633479\",\"type\":\"BasicTickFormatter\"},\"plot\":{\"id\":\"c3ad623a-adeb-4fb1-ab5b-aa92a4ee092b\",\"subtype\":\"Figure\",\"type\":\"Plot\"},\"ticker\":{\"id\":\"868c7551-b326-42be-88fd-9cb0c28462bf\",\"type\":\"BasicTicker\"}},\"id\":\"2e7a8029-d249-4211-970f-9b3a4a388741\",\"type\":\"LinearAxis\"},{\"attributes\":{\"fill_color\":{\"value\":\"#1f77b4\"},\"line_color\":{\"value\":\"#1f77b4\"},\"size\":{\"units\":\"screen\",\"value\":5},\"x\":{\"field\":\"x\"},\"y\":{\"field\":\"y\"}},\"id\":\"d9f54456-d1b0-4a54-a7cb-7c2c599758fc\",\"type\":\"Cross\"},{\"attributes\":{\"fill_color\":{\"value\":\"green\"},\"line_color\":{\"value\":\"green\"},\"size\":{\"units\":\"screen\",\"value\":5},\"x\":{\"field\":\"x\"},\"y\":{\"field\":\"y\"}},\"id\":\"9e3f521b-2ee2-4cde-b9a0-c0b65e779bf0\",\"type\":\"Cross\"},{\"attributes\":{\"plot\":{\"id\":\"c3ad623a-adeb-4fb1-ab5b-aa92a4ee092b\",\"subtype\":\"Figure\",\"type\":\"Plot\"},\"ticker\":{\"id\":\"3a398f5c-ceec-4ff1-b8f7-69767f38e43e\",\"type\":\"BasicTicker\"}},\"id\":\"e7482bc0-46c6-44a3-a3cb-b7b4e2a60266\",\"type\":\"Grid\"},{\"attributes\":{\"callback\":null,\"column_names\":[\"x\",\"y\"],\"data\":{\"x\":{\"__ndarray__\":\"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\",\"dtype\":\"float64\",\"shape\":[500]},\"y\":{\"__ndarray__\":\"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\",\"dtype\":\"float64\",\"shape\":[500]}}},\"id\":\"224e44e6-b06b-411e-8eef-c1df560948e7\",\"type\":\"ColumnDataSource\"},{\"attributes\":{\"plot\":{\"id\":\"c3ad623a-adeb-4fb1-ab5b-aa92a4ee092b\",\"subtype\":\"Figure\",\"type\":\"Plot\"}},\"id\":\"bb70403d-61a2-4e32-9aa8-518f0e47ca53\",\"type\":\"WheelZoomTool\"},{\"attributes\":{},\"id\":\"926a672f-8abb-4491-9775-84d6cd23dc0e\",\"type\":\"BasicTickFormatter\"},{\"attributes\":{\"plot\":{\"id\":\"c3ad623a-adeb-4fb1-ab5b-aa92a4ee092b\",\"subtype\":\"Figure\",\"type\":\"Plot\"}},\"id\":\"f73c7236-81d4-472d-9f46-ca55147d2489\",\"type\":\"SaveTool\"},{\"attributes\":{\"dimension\":1,\"plot\":{\"id\":\"c3ad623a-adeb-4fb1-ab5b-aa92a4ee092b\",\"subtype\":\"Figure\",\"type\":\"Plot\"},\"ticker\":{\"id\":\"868c7551-b326-42be-88fd-9cb0c28462bf\",\"type\":\"BasicTicker\"}},\"id\":\"1dd43c20-8347-43c1-b1aa-ba82ca10a1d9\",\"type\":\"Grid\"},{\"attributes\":{\"data_source\":{\"id\":\"bf4a1b21-86cb-4244-9af4-88730c82d761\",\"type\":\"ColumnDataSource\"},\"glyph\":{\"id\":\"e9f7dce7-a8b2-44e5-8e5d-502af1710398\",\"type\":\"Cross\"},\"hover_glyph\":null,\"nonselection_glyph\":{\"id\":\"a5977687-9d59-4aea-8e31-2d6e973b2e2e\",\"type\":\"Cross\"},\"selection_glyph\":null},\"id\":\"ecde8be2-d970-4539-92c4-07969e8bc439\",\"type\":\"GlyphRenderer\"},{\"attributes\":{\"line_color\":{\"value\":\"#1f77b4\"},\"x\":{\"field\":\"x\"},\"y\":{\"field\":\"y\"}},\"id\":\"453edd89-b113-4af1-bb47-3ee8b4b9ae7b\",\"type\":\"Line\"},{\"attributes\":{\"data_source\":{\"id\":\"db83d58a-bc27-4952-833d-1b22598e2807\",\"type\":\"ColumnDataSource\"},\"glyph\":{\"id\":\"9e3f521b-2ee2-4cde-b9a0-c0b65e779bf0\",\"type\":\"Cross\"},\"hover_glyph\":null,\"nonselection_glyph\":{\"id\":\"278c5051-c885-459d-9125-f69d3f84922c\",\"type\":\"Cross\"},\"selection_glyph\":null},\"id\":\"5ab3e133-b9a4-4fae-a7b1-32aa36de6fa5\",\"type\":\"GlyphRenderer\"},{\"attributes\":{\"plot\":{\"id\":\"c3ad623a-adeb-4fb1-ab5b-aa92a4ee092b\",\"subtype\":\"Figure\",\"type\":\"Plot\"}},\"id\":\"1200b259-b592-4e0b-81e7-e065f0bf9ae0\",\"type\":\"ResetTool\"},{\"attributes\":{\"label\":{\"value\":\"dev PR\"},\"renderers\":[{\"id\":\"c7222a9d-a6dc-44d9-a0c1-9f211b263422\",\"type\":\"GlyphRenderer\"}]},\"id\":\"c647b09a-4470-49ec-bfc4-97a431b34c8f\",\"type\":\"LegendItem\"},{\"attributes\":{\"line_color\":{\"value\":\"green\"},\"x\":{\"field\":\"x\"},\"y\":{\"field\":\"y\"}},\"id\":\"d0f272b8-6adc-45f1-a424-9fa7ab7e6110\",\"type\":\"Line\"},{\"attributes\":{\"data_source\":{\"id\":\"4b5936c1-8088-4333-90f6-f147b6ac6354\",\"type\":\"ColumnDataSource\"},\"glyph\":{\"id\":\"453edd89-b113-4af1-bb47-3ee8b4b9ae7b\",\"type\":\"Line\"},\"hover_glyph\":null,\"nonselection_glyph\":{\"id\":\"456392fd-657c-425f-809b-9302de002edf\",\"type\":\"Line\"},\"selection_glyph\":null},\"id\":\"cef91acc-cdec-4813-99b2-f7a094196b0f\",\"type\":\"GlyphRenderer\"},{\"attributes\":{\"data_source\":{\"id\":\"05d3f175-07c0-4e60-ad03-583b9e66c827\",\"type\":\"ColumnDataSource\"},\"glyph\":{\"id\":\"4dea4fce-215d-400f-9d02-bf87f1b936b3\",\"type\":\"Line\"},\"hover_glyph\":null,\"nonselection_glyph\":{\"id\":\"2ed29b67-f2c5-46c1-b954-94124b63d20f\",\"type\":\"Line\"},\"selection_glyph\":null},\"id\":\"aad9eeae-6a63-4501-abf9-9f310e519954\",\"type\":\"GlyphRenderer\"},{\"attributes\":{\"callback\":null,\"column_names\":[\"x\",\"y\"],\"data\":{\"x\":{\"__ndarray__\":\"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\",\"dtype\":\"float64\",\"shape\":[500]},\"y\":{\"__ndarray__\":\"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\",\"dtype\":\"float64\",\"shape\":[500]}}},\"id\":\"db83d58a-bc27-4952-833d-1b22598e2807\",\"type\":\"ColumnDataSource\"},{\"attributes\":{\"overlay\":{\"id\":\"43c2f4d8-2b3c-4f63-b6d6-50f7fa52ab2b\",\"type\":\"BoxAnnotation\"},\"plot\":{\"id\":\"c3ad623a-adeb-4fb1-ab5b-aa92a4ee092b\",\"subtype\":\"Figure\",\"type\":\"Plot\"}},\"id\":\"1a0a6acb-3601-4f0f-a060-f458df09dd44\",\"type\":\"BoxZoomTool\"},{\"attributes\":{},\"id\":\"868c7551-b326-42be-88fd-9cb0c28462bf\",\"type\":\"BasicTicker\"},{\"attributes\":{\"items\":[{\"id\":\"c647b09a-4470-49ec-bfc4-97a431b34c8f\",\"type\":\"LegendItem\"},{\"id\":\"440e6957-cfa5-4937-842a-387b62067001\",\"type\":\"LegendItem\"},{\"id\":\"8dba4b5f-93f3-4b6d-8347-57841c8fbc04\",\"type\":\"LegendItem\"}],\"plot\":{\"id\":\"c3ad623a-adeb-4fb1-ab5b-aa92a4ee092b\",\"subtype\":\"Figure\",\"type\":\"Plot\"}},\"id\":\"fe19c504-b670-4cac-b29f-3f09380ac566\",\"type\":\"Legend\"},{\"attributes\":{\"callback\":null},\"id\":\"2f1c8162-2fb4-460b-aa4d-7d318ed8dcf6\",\"type\":\"DataRange1d\"},{\"attributes\":{\"label\":{\"value\":\"dev time PR\"},\"renderers\":[{\"id\":\"aad9eeae-6a63-4501-abf9-9f310e519954\",\"type\":\"GlyphRenderer\"}]},\"id\":\"440e6957-cfa5-4937-842a-387b62067001\",\"type\":\"LegendItem\"},{\"attributes\":{\"callback\":null,\"column_names\":[\"x\",\"y\"],\"data\":{\"x\":{\"__ndarray__\":\"AAAAAAAA8D+h7H1NCMruP3roGF6ch+4/yWfdYIp87j8EZe9rQlDuPzBFPusGU+w/vDgPHcOL6z+8OA8dw4vrP1o3mCKfdes/MzMzMzMz6z++rwlB2fvqP6ykUW25Suo/7X1NCMre5z9Q9r4mBGXnP1D2viYEZec/GOehY3hx5j9mZmZmZmbmP7XlKmlUW+Y/BGXva0JQ5j9T5LNuMEXmP1Pks24wReY/omN4cR465j+iY3hxHjrmP4/hxXnoGOY/GV6ch47h5T8ZXpyHjuHlPxlenIeO4eU/t1wljWrL5T8G3OmPWMDlP/JZN5gin+U/Qdn7mhCU5T8uV0mj2nLlP33WDabIZ+U/GtWWq6RR5T+Rz7rBFPnkP35NCMre1+Q/RMfw4jx05D9sQlD2vibkP7vBFPmsG+Q/u8EU+awb5D+7wRT5rBvkP7vBFPmsG+Q/u8EU+awb5D+7wRT5rBvkP7vBFPmsG+Q/u8EU+awb5D8KQdn7mhDkPwpB2fuaEOQ/WcCd/ogF5D9ZwJ3+iAXkP1nAnf6IBeQ/pz9iAXf64z+Uva8JQdnjP5S9rwlB2eM/Mrw4Dx3D4z8yvDgPHcPjPzK8OA8dw+M/Mrw4Dx3D4z8yvDgPHcPjPwu40x+xgOM/C7jTH7GA4z8LuNMfsYDjP9ExvDgPHeM/0TG8OA8d4z++rwlB2fviP76vCUHZ++I/vq8JQdn74j/5rBtMkc/iPyEoe18TguI/ISh7XxOC4j8hKHtfE4LiP0mj2nKVNOI/SaPacpU04j9Jo9pylTTiP0mj2nKVNOI/SaPacpU04j+YIp91gyniP5gin3WDKeI/mpmZmZmZ4T+amZmZmZnhP3OVNKotV+E/whT5rBtM4T/qj1jAnf7gP+qPWMCd/uA/6o9YwJ3+4D/qj1jAnf7gP+qPWMCd/uA/AAAAAAAAAAA=\",\"dtype\":\"float64\",\"shape\":[88]},\"y\":{\"__ndarray__\":\"FnkGaF8Iuj8fGUGz8JHBP/h8i47S+8E/FpsJ/l00wj9+9unJpprDP8Vnyt07V8c/KTyNs1p6zT+U1ChjFX3NPzq663T4780/umZ1GGUqzj9wPgbnY3DOP6bBxj5DLNA/YrM7I1xL0z+MWXKrbRnVP1VVVVVVVdU/FGDI95hW2z+fOqvW3U7bPwAqLXIfR9s/6dQ8yF0/2z91IsfWmDfbP/gjp/laPds/Wu2sdlY72z+NXFIa5kbbP53v/mZ0L9s/BvdyxR4I2z/esHnD5g3bPzuxEzuxE9s/JmkmBagJ2z+j3cPWtwHbP6PCGMnS6do/u7RLu7RL2z8qnmENjTPbP9AhNcF4K9s/I/DTEzcn2z/Eyei32A/bP1pSDogM99o/+lPnhgTE2j/XT9jk+gnbPw5r37D2Dds/MTYLqj0n2z/ZsmXLli3bP1nWUuXyM9s/yKzhQOxT2z/hnnBPuCfcPy+66KKLLtw/OdPhKPpJ3D+w3fZ47qLcPxD1sd7A1Nw/Do7B/gDM3D8X4dM6XNrcPxzegs/WLN4/vuIrvuIr3j+vhp4zSxHePw3lNZTXUN4/8rHShmUu3z/s5JwWM+XfPyV51QcM998/AAAAAAAA4D+skADzKiTgP1xXSiOuTuA/hWoJUKiW4D/7YMctlPrgPz801ofG+uA/ETg2sDwF4T/lCYjOV/fgP+oO9lttDOE/iOFukZ884T/RtMoXwz/hPwcNjKHIbOE/KWKjW3dy4T8cpYn1333hPzF5MXkxeeE/Ni85qgB/4T8fe6JF+bPhP9Zj6Gnqv+E/H518dPLR4T/kYBM3PtnhP7nHyTIeBOI/e9un8pXd4T+Mxcn1KurhPwGs3bUmTuI/vEAmxQtk4j9MXW5/kKHiP/NCUA29r+I/btu2bdu24j+f0GGAKMXiP4hcVgyU8OI/AAAAAAAA8D8=\",\"dtype\":\"float64\",\"shape\":[88]}}},\"id\":\"bf4a1b21-86cb-4244-9af4-88730c82d761\",\"type\":\"ColumnDataSource\"},{\"attributes\":{\"callback\":null,\"column_names\":[\"y\",\"x\"],\"data\":{\"x\":{\"__ndarray__\":\"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\",\"dtype\":\"float64\",\"shape\":[3234]},\"y\":{\"__ndarray__\":\"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\",\"dtype\":\"float64\",\"shape\":[3234]}}},\"id\":\"4b5936c1-8088-4333-90f6-f147b6ac6354\",\"type\":\"ColumnDataSource\"},{\"attributes\":{\"data_source\":{\"id\":\"737deed2-37ef-42a0-8170-0e336b1499ac\",\"type\":\"ColumnDataSource\"},\"glyph\":{\"id\":\"d9f54456-d1b0-4a54-a7cb-7c2c599758fc\",\"type\":\"Cross\"},\"hover_glyph\":null,\"nonselection_glyph\":{\"id\":\"acd94e7d-8c3e-49a1-b636-87323c9989da\",\"type\":\"Cross\"},\"selection_glyph\":null},\"id\":\"41feb0a1-8eb8-4465-acfd-610b9bc35012\",\"type\":\"GlyphRenderer\"},{\"attributes\":{\"plot\":{\"id\":\"c3ad623a-adeb-4fb1-ab5b-aa92a4ee092b\",\"subtype\":\"Figure\",\"type\":\"Plot\"}},\"id\":\"09668465-cc3f-4f62-90d2-794f9ad8f12f\",\"type\":\"PanTool\"},{\"attributes\":{\"line_alpha\":{\"value\":0.1},\"line_color\":{\"value\":\"#1f77b4\"},\"x\":{\"field\":\"x\"},\"y\":{\"field\":\"y\"}},\"id\":\"456392fd-657c-425f-809b-9302de002edf\",\"type\":\"Line\"},{\"attributes\":{\"fill_alpha\":{\"value\":0.1},\"fill_color\":{\"value\":\"#1f77b4\"},\"line_alpha\":{\"value\":0.1},\"line_color\":{\"value\":\"#1f77b4\"},\"size\":{\"units\":\"screen\",\"value\":5},\"x\":{\"field\":\"x\"},\"y\":{\"field\":\"y\"}},\"id\":\"acd94e7d-8c3e-49a1-b636-87323c9989da\",\"type\":\"Cross\"},{\"attributes\":{},\"id\":\"3a398f5c-ceec-4ff1-b8f7-69767f38e43e\",\"type\":\"BasicTicker\"},{\"attributes\":{\"line_color\":{\"value\":\"red\"},\"x\":{\"field\":\"x\"},\"y\":{\"field\":\"y\"}},\"id\":\"4dea4fce-215d-400f-9d02-bf87f1b936b3\",\"type\":\"Line\"},{\"attributes\":{\"callback\":null,\"column_names\":[\"x\",\"y\"],\"data\":{\"x\":{\"__ndarray__\":\"AAAAAAAA8D+h7H1NCMruP3roGF6ch+4/yWfdYIp87j8EZe9rQlDuPzBFPusGU+w/vDgPHcOL6z+8OA8dw4vrP1o3mCKfdes/MzMzMzMz6z++rwlB2fvqP6ykUW25Suo/7X1NCMre5z9Q9r4mBGXnP1D2viYEZec/GOehY3hx5j9mZmZmZmbmP7XlKmlUW+Y/BGXva0JQ5j9T5LNuMEXmP1Pks24wReY/omN4cR465j+iY3hxHjrmP4/hxXnoGOY/GV6ch47h5T8ZXpyHjuHlPxlenIeO4eU/t1wljWrL5T8G3OmPWMDlP/JZN5gin+U/Qdn7mhCU5T8uV0mj2nLlP33WDabIZ+U/GtWWq6RR5T+Rz7rBFPnkP35NCMre1+Q/RMfw4jx05D9sQlD2vibkP7vBFPmsG+Q/u8EU+awb5D+7wRT5rBvkP7vBFPmsG+Q/u8EU+awb5D+7wRT5rBvkP7vBFPmsG+Q/u8EU+awb5D8KQdn7mhDkPwpB2fuaEOQ/WcCd/ogF5D9ZwJ3+iAXkP1nAnf6IBeQ/pz9iAXf64z+Uva8JQdnjP5S9rwlB2eM/Mrw4Dx3D4z8yvDgPHcPjPzK8OA8dw+M/Mrw4Dx3D4z8yvDgPHcPjPwu40x+xgOM/C7jTH7GA4z8LuNMfsYDjP9ExvDgPHeM/0TG8OA8d4z++rwlB2fviP76vCUHZ++I/vq8JQdn74j/5rBtMkc/iPyEoe18TguI/ISh7XxOC4j8hKHtfE4LiP0mj2nKVNOI/SaPacpU04j9Jo9pylTTiP0mj2nKVNOI/SaPacpU04j+YIp91gyniP5gin3WDKeI/mpmZmZmZ4T+amZmZmZnhP3OVNKotV+E/whT5rBtM4T/qj1jAnf7gP+qPWMCd/uA/6o9YwJ3+4D/qj1jAnf7gP+qPWMCd/uA/AAAAAAAAAAA=\",\"dtype\":\"float64\",\"shape\":[88]},\"y\":{\"__ndarray__\":\"FnkGaF8Iuj8fGUGz8JHBP/h8i47S+8E/FpsJ/l00wj9+9unJpprDP8Vnyt07V8c/KTyNs1p6zT+U1ChjFX3NPzq663T4780/umZ1GGUqzj9wPgbnY3DOP6bBxj5DLNA/YrM7I1xL0z+MWXKrbRnVP1VVVVVVVdU/FGDI95hW2z+fOqvW3U7bPwAqLXIfR9s/6dQ8yF0/2z91IsfWmDfbP/gjp/laPds/Wu2sdlY72z+NXFIa5kbbP53v/mZ0L9s/BvdyxR4I2z/esHnD5g3bPzuxEzuxE9s/JmkmBagJ2z+j3cPWtwHbP6PCGMnS6do/u7RLu7RL2z8qnmENjTPbP9AhNcF4K9s/I/DTEzcn2z/Eyei32A/bP1pSDogM99o/+lPnhgTE2j/XT9jk+gnbPw5r37D2Dds/MTYLqj0n2z/ZsmXLli3bP1nWUuXyM9s/yKzhQOxT2z/hnnBPuCfcPy+66KKLLtw/OdPhKPpJ3D+w3fZ47qLcPxD1sd7A1Nw/Do7B/gDM3D8X4dM6XNrcPxzegs/WLN4/vuIrvuIr3j+vhp4zSxHePw3lNZTXUN4/8rHShmUu3z/s5JwWM+XfPyV51QcM998/AAAAAAAA4D+skADzKiTgP1xXSiOuTuA/hWoJUKiW4D/7YMctlPrgPz801ofG+uA/ETg2sDwF4T/lCYjOV/fgP+oO9lttDOE/iOFukZ884T/RtMoXwz/hPwcNjKHIbOE/KWKjW3dy4T8cpYn1333hPzF5MXkxeeE/Ni85qgB/4T8fe6JF+bPhP9Zj6Gnqv+E/H518dPLR4T/kYBM3PtnhP7nHyTIeBOI/e9un8pXd4T+Mxcn1KurhPwGs3bUmTuI/vEAmxQtk4j9MXW5/kKHiP/NCUA29r+I/btu2bdu24j+f0GGAKMXiP4hcVgyU8OI/AAAAAAAA8D8=\",\"dtype\":\"float64\",\"shape\":[88]}}},\"id\":\"05d3f175-07c0-4e60-ad03-583b9e66c827\",\"type\":\"ColumnDataSource\"}],\"root_ids\":[\"c3ad623a-adeb-4fb1-ab5b-aa92a4ee092b\"]},\"title\":\"Bokeh Application\",\"version\":\"0.12.4\"}};\n",
       "            var render_items = [{\"docid\":\"c1da5b78-3654-49a2-9b79-0a93de0d7cd8\",\"elementid\":\"0c3340ec-b9ec-46cb-b652-b2623dc8bf01\",\"modelid\":\"c3ad623a-adeb-4fb1-ab5b-aa92a4ee092b\"}];\n",
       "            \n",
       "            Bokeh.embed.embed_items(docs_json, render_items);\n",
       "          };\n",
       "          if (document.readyState != \"loading\") fn();\n",
       "          else document.addEventListener(\"DOMContentLoaded\", fn);\n",
       "        })();\n",
       "      },\n",
       "      function(Bokeh) {\n",
       "      }\n",
       "    ];\n",
       "  \n",
       "    function run_inline_js() {\n",
       "      \n",
       "      if ((window.Bokeh !== undefined) || (force === true)) {\n",
       "        for (var i = 0; i < inline_js.length; i++) {\n",
       "          inline_js[i](window.Bokeh);\n",
       "        }if (force === true) {\n",
       "          display_loaded();\n",
       "        }} else if (Date.now() < window._bokeh_timeout) {\n",
       "        setTimeout(run_inline_js, 100);\n",
       "      } else if (!window._bokeh_failed_load) {\n",
       "        console.log(\"Bokeh: BokehJS failed to load within specified timeout.\");\n",
       "        window._bokeh_failed_load = true;\n",
       "      } else if (force !== true) {\n",
       "        var cell = $(document.getElementById(\"0c3340ec-b9ec-46cb-b652-b2623dc8bf01\")).parents('.cell').data().cell;\n",
       "        cell.output_area.append_execute_result(NB_LOAD_WARNING)\n",
       "      }\n",
       "  \n",
       "    }\n",
       "  \n",
       "    if (window._bokeh_is_loading === 0) {\n",
       "      console.log(\"Bokeh: BokehJS loaded, going straight to plotting\");\n",
       "      run_inline_js();\n",
       "    } else {\n",
       "      load_libs(js_urls, function() {\n",
       "        console.log(\"Bokeh: BokehJS plotting callback run at\", now());\n",
       "        run_inline_js();\n",
       "      });\n",
       "    }\n",
       "  }(this));\n",
       "</script>"
      ]
     },
     "metadata": {},
     "output_type": "display_data"
    }
   ],
   "source": [
    "# pr curve\n",
    "tpr_f = figure(width=400,height=400,title=\"PR curve\")\n",
    "tpr_f.xaxis.axis_label = \"recall\"\n",
    "tpr_f.yaxis.axis_label = \"precision\"\n",
    "\n",
    "tpr_f.cross(dev_recall,dev_prec,size=5,color=\"green\")\n",
    "tpr_f.line(dev_recall,dev_prec,legend=\"dev PR\",color=\"green\")\n",
    "\n",
    "tpr_f.cross(dev_t_recall,dev_t_prec,size=5,color=\"red\")\n",
    "tpr_f.line(dev_t_recall,dev_t_prec,legend=\"dev time PR\",color=\"red\")\n",
    "\n",
    "tpr_f.cross(total_recall,total_prec,size=5)\n",
    "tpr_f.line(total_recall,total_prec,legend=\"PR\")\n",
    "\n",
    "show(tpr_f)"
   ]
  },
  {
   "cell_type": "code",
   "execution_count": null,
   "metadata": {
    "collapsed": true
   },
   "outputs": [],
   "source": []
  }
 ],
 "metadata": {
  "hide_input": false,
  "kernelspec": {
   "display_name": "Python 2",
   "language": "python",
   "name": "python2"
  },
  "language_info": {
   "codemirror_mode": {
    "name": "ipython",
    "version": 2
   },
   "file_extension": ".py",
   "mimetype": "text/x-python",
   "name": "python",
   "nbconvert_exporter": "python",
   "pygments_lexer": "ipython2",
   "version": "2.7.12"
  },
  "notify_time": "5"
 },
 "nbformat": 4,
 "nbformat_minor": 2
}
