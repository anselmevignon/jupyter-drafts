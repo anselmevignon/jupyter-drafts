{
 "cells": [
  {
   "cell_type": "code",
   "execution_count": 1,
   "metadata": {
    "ExecuteTime": {
     "end_time": "2017-01-26T02:40:23.910186",
     "start_time": "2017-01-26T02:40:23.104627"
    },
    "collapsed": false
   },
   "outputs": [
    {
     "data": {
      "text/html": [
       "\n",
       "    <div class=\"bk-root\">\n",
       "        <a href=\"http://bokeh.pydata.org\" target=\"_blank\" class=\"bk-logo bk-logo-small bk-logo-notebook\"></a>\n",
       "        <span id=\"2ee7b173-f7a3-4528-93b1-eeff4d28a538\">Loading BokehJS ...</span>\n",
       "    </div>"
      ]
     },
     "metadata": {},
     "output_type": "display_data"
    },
    {
     "data": {
      "application/javascript": [
       "\n",
       "(function(global) {\n",
       "  function now() {\n",
       "    return new Date();\n",
       "  }\n",
       "\n",
       "  var force = true;\n",
       "\n",
       "  if (typeof (window._bokeh_onload_callbacks) === \"undefined\" || force === true) {\n",
       "    window._bokeh_onload_callbacks = [];\n",
       "    window._bokeh_is_loading = undefined;\n",
       "  }\n",
       "\n",
       "\n",
       "  \n",
       "  if (typeof (window._bokeh_timeout) === \"undefined\" || force === true) {\n",
       "    window._bokeh_timeout = Date.now() + 5000;\n",
       "    window._bokeh_failed_load = false;\n",
       "  }\n",
       "\n",
       "  var NB_LOAD_WARNING = {'data': {'text/html':\n",
       "     \"<div style='background-color: #fdd'>\\n\"+\n",
       "     \"<p>\\n\"+\n",
       "     \"BokehJS does not appear to have successfully loaded. If loading BokehJS from CDN, this \\n\"+\n",
       "     \"may be due to a slow or bad network connection. Possible fixes:\\n\"+\n",
       "     \"</p>\\n\"+\n",
       "     \"<ul>\\n\"+\n",
       "     \"<li>re-rerun `output_notebook()` to attempt to load from CDN again, or</li>\\n\"+\n",
       "     \"<li>use INLINE resources instead, as so:</li>\\n\"+\n",
       "     \"</ul>\\n\"+\n",
       "     \"<code>\\n\"+\n",
       "     \"from bokeh.resources import INLINE\\n\"+\n",
       "     \"output_notebook(resources=INLINE)\\n\"+\n",
       "     \"</code>\\n\"+\n",
       "     \"</div>\"}};\n",
       "\n",
       "  function display_loaded() {\n",
       "    if (window.Bokeh !== undefined) {\n",
       "      document.getElementById(\"2ee7b173-f7a3-4528-93b1-eeff4d28a538\").textContent = \"BokehJS successfully loaded.\";\n",
       "    } else if (Date.now() < window._bokeh_timeout) {\n",
       "      setTimeout(display_loaded, 100)\n",
       "    }\n",
       "  }\n",
       "\n",
       "  function run_callbacks() {\n",
       "    window._bokeh_onload_callbacks.forEach(function(callback) { callback() });\n",
       "    delete window._bokeh_onload_callbacks\n",
       "    console.info(\"Bokeh: all callbacks have finished\");\n",
       "  }\n",
       "\n",
       "  function load_libs(js_urls, callback) {\n",
       "    window._bokeh_onload_callbacks.push(callback);\n",
       "    if (window._bokeh_is_loading > 0) {\n",
       "      console.log(\"Bokeh: BokehJS is being loaded, scheduling callback at\", now());\n",
       "      return null;\n",
       "    }\n",
       "    if (js_urls == null || js_urls.length === 0) {\n",
       "      run_callbacks();\n",
       "      return null;\n",
       "    }\n",
       "    console.log(\"Bokeh: BokehJS not loaded, scheduling load and callback at\", now());\n",
       "    window._bokeh_is_loading = js_urls.length;\n",
       "    for (var i = 0; i < js_urls.length; i++) {\n",
       "      var url = js_urls[i];\n",
       "      var s = document.createElement('script');\n",
       "      s.src = url;\n",
       "      s.async = false;\n",
       "      s.onreadystatechange = s.onload = function() {\n",
       "        window._bokeh_is_loading--;\n",
       "        if (window._bokeh_is_loading === 0) {\n",
       "          console.log(\"Bokeh: all BokehJS libraries loaded\");\n",
       "          run_callbacks()\n",
       "        }\n",
       "      };\n",
       "      s.onerror = function() {\n",
       "        console.warn(\"failed to load library \" + url);\n",
       "      };\n",
       "      console.log(\"Bokeh: injecting script tag for BokehJS library: \", url);\n",
       "      document.getElementsByTagName(\"head\")[0].appendChild(s);\n",
       "    }\n",
       "  };var element = document.getElementById(\"2ee7b173-f7a3-4528-93b1-eeff4d28a538\");\n",
       "  if (element == null) {\n",
       "    console.log(\"Bokeh: ERROR: autoload.js configured with elementid '2ee7b173-f7a3-4528-93b1-eeff4d28a538' but no matching script tag was found. \")\n",
       "    return false;\n",
       "  }\n",
       "\n",
       "  var js_urls = [\"https://cdn.pydata.org/bokeh/release/bokeh-0.12.4.min.js\", \"https://cdn.pydata.org/bokeh/release/bokeh-widgets-0.12.4.min.js\"];\n",
       "\n",
       "  var inline_js = [\n",
       "    function(Bokeh) {\n",
       "      Bokeh.set_log_level(\"info\");\n",
       "    },\n",
       "    \n",
       "    function(Bokeh) {\n",
       "      \n",
       "      document.getElementById(\"2ee7b173-f7a3-4528-93b1-eeff4d28a538\").textContent = \"BokehJS is loading...\";\n",
       "    },\n",
       "    function(Bokeh) {\n",
       "      console.log(\"Bokeh: injecting CSS: https://cdn.pydata.org/bokeh/release/bokeh-0.12.4.min.css\");\n",
       "      Bokeh.embed.inject_css(\"https://cdn.pydata.org/bokeh/release/bokeh-0.12.4.min.css\");\n",
       "      console.log(\"Bokeh: injecting CSS: https://cdn.pydata.org/bokeh/release/bokeh-widgets-0.12.4.min.css\");\n",
       "      Bokeh.embed.inject_css(\"https://cdn.pydata.org/bokeh/release/bokeh-widgets-0.12.4.min.css\");\n",
       "    }\n",
       "  ];\n",
       "\n",
       "  function run_inline_js() {\n",
       "    \n",
       "    if ((window.Bokeh !== undefined) || (force === true)) {\n",
       "      for (var i = 0; i < inline_js.length; i++) {\n",
       "        inline_js[i](window.Bokeh);\n",
       "      }if (force === true) {\n",
       "        display_loaded();\n",
       "      }} else if (Date.now() < window._bokeh_timeout) {\n",
       "      setTimeout(run_inline_js, 100);\n",
       "    } else if (!window._bokeh_failed_load) {\n",
       "      console.log(\"Bokeh: BokehJS failed to load within specified timeout.\");\n",
       "      window._bokeh_failed_load = true;\n",
       "    } else if (force !== true) {\n",
       "      var cell = $(document.getElementById(\"2ee7b173-f7a3-4528-93b1-eeff4d28a538\")).parents('.cell').data().cell;\n",
       "      cell.output_area.append_execute_result(NB_LOAD_WARNING)\n",
       "    }\n",
       "\n",
       "  }\n",
       "\n",
       "  if (window._bokeh_is_loading === 0) {\n",
       "    console.log(\"Bokeh: BokehJS loaded, going straight to plotting\");\n",
       "    run_inline_js();\n",
       "  } else {\n",
       "    load_libs(js_urls, function() {\n",
       "      console.log(\"Bokeh: BokehJS plotting callback run at\", now());\n",
       "      run_inline_js();\n",
       "    });\n",
       "  }\n",
       "}(this));"
      ]
     },
     "metadata": {},
     "output_type": "display_data"
    }
   ],
   "source": [
    "import pandas as pd\n",
    "import numpy as np\n",
    "import calendar\n",
    "\n",
    "from bokeh.charts import output_notebook, Scatter, Bar, show, output_file, Line, BoxPlot, Scatter\n",
    "from bokeh.plotting import figure\n",
    "from bokeh.layouts import row, column, gridplot\n",
    "from bokeh.charts import output_notebook, Scatter, Bar, show, output_file, Line, BoxPlot, Scatter\n",
    "from bokeh.io import hplot\n",
    "from bokeh.models.ranges import Range1d\n",
    "\n",
    "from ML import filter_devices, build_deriv, resample_per_device, subsample_negatives\n",
    "from fft import fft_peak\n",
    "\n",
    "from sklearn.model_selection import cross_val_score\n",
    "from sklearn.ensemble import GradientBoostingClassifier, RandomForestClassifier\n",
    "from sklearn.pipeline import Pipeline\n",
    "from sklearn.decomposition import PCA\n",
    "from sklearn.preprocessing import Normalizer\n",
    "from sklearn.metrics import roc_curve, auc\n",
    "from sklearn.svm import SVC, NuSVC\n",
    "from sklearn.model_selection import LeavePGroupsOut, GroupShuffleSplit\n",
    "from sklearn.model_selection import train_test_split\n",
    "from sklearn.metrics import roc_curve, accuracy_score,precision_recall_curve, auc\n",
    "from sklearn.model_selection import GridSearchCV\n",
    "from sklearn.model_selection import StratifiedKFold\n",
    "\n",
    "output_notebook() "
   ]
  },
  {
   "cell_type": "code",
   "execution_count": 2,
   "metadata": {
    "ExecuteTime": {
     "end_time": "2017-01-26T02:40:24.323820",
     "start_time": "2017-01-26T02:40:24.125327"
    },
    "collapsed": false
   },
   "outputs": [],
   "source": [
    "INPUT=\"data/train.csv\" \n",
    "dataset = pd.read_csv(INPUT,index_col=[0,1],parse_dates=[0])"
   ]
  },
  {
   "cell_type": "markdown",
   "metadata": {},
   "source": [
    "## Build Training set"
   ]
  },
  {
   "cell_type": "code",
   "execution_count": 3,
   "metadata": {
    "ExecuteTime": {
     "end_time": "2017-01-26T02:40:26.366291",
     "start_time": "2017-01-26T02:40:26.357352"
    },
    "collapsed": false
   },
   "outputs": [],
   "source": [
    "def pre_filter(df):\n",
    "    res = df.copy()\n",
    "    del res[\"attribute1\"]\n",
    "    del res[\"attribute3\"]\n",
    "    #del res[\"attribute5\"]\n",
    "    dt_list = [\"attribute2\"]#,\"attribute3\"]\n",
    "    for c in dt_list:\n",
    "        deriv = build_deriv(res,c)\n",
    "        res[\"dt_%s\" % c] = deriv\n",
    "        res[\"dt2_%s\" % c] =  build_deriv(res,c,2)\n",
    "    return res.fillna(0)\n",
    "\n",
    "def post_filter(df):\n",
    "    res = df.copy()\n",
    "    res = filter_devices(res)\n",
    "    for col in res.columns:\n",
    "        if \"min\" in col:\n",
    "            del res[col]\n",
    "        if \"std\" in col:\n",
    "            del res[col]\n",
    "    return res"
   ]
  },
  {
   "cell_type": "code",
   "execution_count": 4,
   "metadata": {
    "ExecuteTime": {
     "end_time": "2017-01-26T02:40:32.032062",
     "start_time": "2017-01-26T02:40:27.517733"
    },
    "collapsed": false
   },
   "outputs": [],
   "source": [
    "pre_dataset = pre_filter(dataset)\n",
    "#print feature_set.columns\n",
    "\n",
    "features = [f for f in pre_dataset.columns if \"att\" in f]\n",
    "def f_to_dict(feature):\n",
    "    indexes = dict( (\"avg_over%i_%s\" % (i,feature), lambda df: df[:(i+1)].mean()) for i in [0,1,2,3,4,7,14])\n",
    "    d = {\n",
    "            \"min_%s\" % feature:np.min,\n",
    "            \"max_%s\" % feature:np.max,\n",
    "            \"mean_%s\" % feature :np.mean,\n",
    "            \"std_%s\" % feature:np.std\n",
    "        }\n",
    "    d.update(indexes)\n",
    "    dft_list = [\"attribute4\",\"attribute5\", \"attribute6\",\"attribute7\",\"attribute9\"]\n",
    "    if feature in dft_list:\n",
    "        d[\"dft_p0_ind%s\" % feature] = lambda r : fft_peak(r,p=0,index_no_value=True)\n",
    "        d[\"dft_p0_val%s\" % feature] = lambda r : fft_peak(r,p=0,index_no_value=False)\n",
    "    return d\n",
    "\n",
    "agg_dict = dict( (f,f_to_dict(f)) for f in features )"
   ]
  },
  {
   "cell_type": "code",
   "execution_count": 5,
   "metadata": {
    "ExecuteTime": {
     "end_time": "2017-01-26T02:40:32.361818",
     "start_time": "2017-01-26T02:40:32.033315"
    },
    "collapsed": false
   },
   "outputs": [],
   "source": [
    "# bugfix: rolling aggregation after group by does not handle multiple aggregation per column..\n",
    "# we fix this by flattening the aggregation dict and repeating the data within the dataframe\n",
    "final_columns = [k for c in agg_dict for k in agg_dict[c]]\n",
    "input_columns = [c for c in agg_dict for k in agg_dict[c]]\n",
    "flat_agg_dict = dict( (k,agg_dict[c][k]) for c in agg_dict for k in agg_dict[c])\n",
    "dup_dataset = pre_dataset[input_columns].sort_index(level=\"date\").sort_index(level=\"device\")\n",
    "dup_dataset.columns = final_columns"
   ]
  },
  {
   "cell_type": "code",
   "execution_count": 6,
   "metadata": {
    "ExecuteTime": {
     "end_time": "2017-01-26T02:44:21.251963",
     "start_time": "2017-01-26T02:40:32.362967"
    },
    "collapsed": false,
    "scrolled": true
   },
   "outputs": [],
   "source": [
    "#\n",
    "# instead of simply grouping by, we roll over the dataset...\n",
    "# using the \"hacky\" flat version, to avoid issues.\n",
    "# The hack increase the memory consumption quite a lot, but it should still be better than\n",
    "# explicitely building the windowed lines before aggregating over it. \n",
    "#\n",
    "\n",
    "feature_set = resample_per_device(dup_dataset) \\\n",
    "    .groupby(level=\"device\",as_index=False) \\\n",
    "    .rolling(window=360,min_periods=1) \\\n",
    "    .agg(flat_agg_dict) \\\n",
    "    .reset_index(level=0,drop=True) \n",
    "feature_set = post_filter(feature_set).sortlevel(level=\"device\")"
   ]
  },
  {
   "cell_type": "code",
   "execution_count": 7,
   "metadata": {
    "ExecuteTime": {
     "end_time": "2017-01-26T02:44:21.257642",
     "start_time": "2017-01-26T02:44:21.253099"
    },
    "collapsed": false
   },
   "outputs": [
    {
     "name": "stdout",
     "output_type": "stream",
     "text": [
      "no feature filtering\n"
     ]
    }
   ],
   "source": [
    "#\n",
    "# feature filtering : removing features with a weak contribution to the last computed model\n",
    "#\n",
    "feat_filtering_thres = 5e-3\n",
    "try : \n",
    "    kept_features = feature_imp[feature_imp.importance > feat_filtering_thres]\n",
    "    print \"threshold : %g, kept: %i features\" % (feat_filtering_thres,kept_features.size)\n",
    "    filtered = feature_set.filter(items=feature_imp.index.sort_values())\n",
    "    print \"filtering devices\"\n",
    "    feature_set = filtered\n",
    "except:\n",
    "    print \"no feature filtering\""
   ]
  },
  {
   "cell_type": "code",
   "execution_count": 8,
   "metadata": {
    "ExecuteTime": {
     "end_time": "2017-01-26T02:44:25.027022",
     "start_time": "2017-01-26T02:44:21.258805"
    },
    "collapsed": false
   },
   "outputs": [],
   "source": [
    "#\n",
    "# use label_window to expand label to neighboring days.\n",
    "# basically, a mainrtenance x days before failure is still OK\n",
    "#\n",
    "label_window = 7\n",
    "\n",
    "label_set =  resample_per_device(dataset[[\"failure\"]]) \\\n",
    "    .sortlevel(level=\"date\",ascending=False) \\\n",
    "    .groupby(level=\"device\",as_index=False) \\\n",
    "    .rolling(window=label_window, min_periods=1) \\\n",
    "    .sum() \\\n",
    "    .reset_index(level=0,drop=True) \n",
    "label_set = filter_devices(label_set).sortlevel(level=\"device\")\n"
   ]
  },
  {
   "cell_type": "code",
   "execution_count": 36,
   "metadata": {
    "ExecuteTime": {
     "end_time": "2017-01-26T02:30:02.793077",
     "start_time": "2017-01-26T02:30:02.597132"
    },
    "collapsed": false
   },
   "outputs": [
    {
     "name": "stdout",
     "output_type": "stream",
     "text": [
      " 126681 with 630 positives\n",
      "new size 6933\n"
     ]
    }
   ],
   "source": [
    "#\n",
    "# subsampling the negatives, to balance classes\n",
    "#\n",
    "negative_subsampling_fraction = 5e-2\n",
    "sub_label_set , sub_feature_set = subsample_negatives(negative_subsampling_fraction,label_set,feature_set)\n"
   ]
  },
  {
   "cell_type": "code",
   "execution_count": 9,
   "metadata": {
    "ExecuteTime": {
     "end_time": "2017-01-26T02:44:25.085870",
     "start_time": "2017-01-26T02:44:25.028229"
    },
    "collapsed": false
   },
   "outputs": [
    {
     "ename": "NameError",
     "evalue": "name 'sub_label_set' is not defined",
     "output_type": "error",
     "traceback": [
      "\u001b[0;31m---------------------------------------------------------------------------\u001b[0m",
      "\u001b[0;31mNameError\u001b[0m                                 Traceback (most recent call last)",
      "\u001b[0;32m<ipython-input-9-35847931f59d>\u001b[0m in \u001b[0;36m<module>\u001b[0;34m()\u001b[0m\n\u001b[1;32m      3\u001b[0m \u001b[0;31m# (Basically, a device used in train cannot also be in test, because its attributes will be very similar)\u001b[0m\u001b[0;34m\u001b[0m\u001b[0;34m\u001b[0m\u001b[0m\n\u001b[1;32m      4\u001b[0m \u001b[0;31m# this is why the cross-val strategy must split by device, and not merely at random\u001b[0m\u001b[0;34m\u001b[0m\u001b[0;34m\u001b[0m\u001b[0m\n\u001b[0;32m----> 5\u001b[0;31m \u001b[0mdevices\u001b[0m \u001b[0;34m=\u001b[0m \u001b[0msub_label_set\u001b[0m\u001b[0;34m.\u001b[0m\u001b[0mindex\u001b[0m\u001b[0;34m.\u001b[0m\u001b[0mget_level_values\u001b[0m\u001b[0;34m(\u001b[0m\u001b[0;34m\"device\"\u001b[0m\u001b[0;34m)\u001b[0m\u001b[0;34m\u001b[0m\u001b[0m\n\u001b[0m\u001b[1;32m      6\u001b[0m \u001b[0mdevice_index\u001b[0m \u001b[0;34m=\u001b[0m \u001b[0mdict\u001b[0m\u001b[0;34m(\u001b[0m\u001b[0;34m(\u001b[0m\u001b[0mdevice\u001b[0m\u001b[0;34m,\u001b[0m\u001b[0mi\u001b[0m\u001b[0;34m)\u001b[0m \u001b[0;32mfor\u001b[0m \u001b[0mi\u001b[0m\u001b[0;34m,\u001b[0m\u001b[0mdevice\u001b[0m \u001b[0;32min\u001b[0m \u001b[0menumerate\u001b[0m\u001b[0;34m(\u001b[0m\u001b[0mdevices\u001b[0m\u001b[0;34m.\u001b[0m\u001b[0munique\u001b[0m\u001b[0;34m(\u001b[0m\u001b[0;34m)\u001b[0m\u001b[0;34m)\u001b[0m\u001b[0;34m)\u001b[0m\u001b[0;34m\u001b[0m\u001b[0m\n\u001b[1;32m      7\u001b[0m \u001b[0mn_dev\u001b[0m \u001b[0;34m=\u001b[0m \u001b[0mlen\u001b[0m\u001b[0;34m(\u001b[0m\u001b[0mdevice_index\u001b[0m\u001b[0;34m)\u001b[0m\u001b[0;34m\u001b[0m\u001b[0m\n",
      "\u001b[0;31mNameError\u001b[0m: name 'sub_label_set' is not defined"
     ]
    }
   ],
   "source": [
    "# compute groups (devices), to be used when splitting the training set (train/test)\n",
    "# This is useful to avoid the bias selection generated by a temporal model\n",
    "# (Basically, a device used in train cannot also be in test, because its attributes will be very similar)\n",
    "# this is why the cross-val strategy must split by device, and not merely at random\n",
    "devices = sub_label_set.index.get_level_values(\"device\")\n",
    "device_index = dict((device,i) for i,device in enumerate(devices.unique()))\n",
    "n_dev = len(device_index)\n",
    "device_groups = np.array(devices.to_series().map(device_index).tolist())"
   ]
  },
  {
   "cell_type": "markdown",
   "metadata": {},
   "source": [
    "## Run model"
   ]
  },
  {
   "cell_type": "code",
   "execution_count": null,
   "metadata": {
    "ExecuteTime": {
     "end_time": "2017-01-26T02:44:25.086372",
     "start_time": "2017-01-26T01:40:39.584Z"
    },
    "collapsed": false
   },
   "outputs": [],
   "source": [
    "feature_mat = sub_feature_set.as_matrix()\n",
    "label_mat = sub_label_set.as_matrix().ravel()\n",
    "\n",
    "splitting_strategy = GroupShuffleSplit(n_splits=4,test_size=0.33)\n",
    "                                     \n",
    "pca = PCA()\n",
    "norm = Normalizer()\n",
    "\n",
    "#model=GradientBoostingClassifier()\n",
    "model = RandomForestClassifier()\n",
    "#model = SVC(probability=True)\n",
    "\n",
    "#pipeline= Pipeline([('normalize', norm),('reduce_dim', pca),(\"model\",model)])\n",
    "pipeline= Pipeline([(\"model\",model)])\n",
    "#pipeline = pipeline_optimizer._fitted_pipeline\n",
    "\n",
    "try:\n",
    "    # use best parameters if available\n",
    "    #\n",
    "    pipeline.set_params(**grid_result.best_params_)\n",
    "    print \"using last optimized model\"\n",
    "except:\n",
    "    print \"no optim result, or bad ones: let's keep the default ones\"\n",
    "    pass"
   ]
  },
  {
   "cell_type": "code",
   "execution_count": null,
   "metadata": {
    "ExecuteTime": {
     "end_time": "2017-01-26T02:44:25.086635",
     "start_time": "2017-01-26T01:40:47.853Z"
    },
    "collapsed": false
   },
   "outputs": [],
   "source": [
    "scores = cross_val_score(\n",
    "    pipeline,\n",
    "    feature_mat,\n",
    "    label_mat,\n",
    "    cv=splitting_strategy,\n",
    "    groups = device_groups,\n",
    "    verbose=1,\n",
    "    scoring=\"f1\",\n",
    "    n_jobs=6)                          \n",
    "print \"accurracy: %g, std(%g))\" % (scores.mean(), scores.std())"
   ]
  },
  {
   "cell_type": "markdown",
   "metadata": {},
   "source": [
    "### Eval Model"
   ]
  },
  {
   "cell_type": "code",
   "execution_count": 15,
   "metadata": {
    "ExecuteTime": {
     "end_time": "2017-01-26T02:21:24.190697",
     "start_time": "2017-01-26T02:21:24.044545"
    },
    "collapsed": false,
    "hide_input": false
   },
   "outputs": [],
   "source": [
    "#\n",
    "# build the curve of PR, AUC on test and on train\n",
    "# \n",
    "\n",
    "X_train, X_test, Y_train, Y_test = train_test_split(feature_mat,label_mat,test_size=0.3)\n",
    "# calculate the fpr and tpr for all thresholds of the classification\n",
    "\n",
    "fitted = pipeline.fit(X_train,Y_train)\n",
    "probs = fitted.predict_proba(X_test)\n",
    "preds = probs[:,1]\n",
    "preds_train = fitted.predict_proba(X_train)[:,1]\n",
    "fpr, tpr, threshold = roc_curve(Y_test, preds)\n",
    "fpr_train, tpr_train, threshold_train = roc_curve(Y_train, preds_train)\n",
    "roc_auc = auc(fpr, tpr)\n",
    "roc_auc_train = auc(fpr_train, tpr_train)\n",
    "precision, recall, ths = precision_recall_curve(Y_test, preds)\n",
    "precision_train, recall_train, ths_train = precision_recall_curve(Y_train, preds_train)"
   ]
  },
  {
   "cell_type": "code",
   "execution_count": 16,
   "metadata": {
    "ExecuteTime": {
     "end_time": "2017-01-26T02:21:26.543671",
     "start_time": "2017-01-26T02:21:26.413809"
    },
    "collapsed": false
   },
   "outputs": [
    {
     "data": {
      "text/html": [
       "\n",
       "\n",
       "    <div class=\"bk-root\">\n",
       "        <div class=\"bk-plotdiv\" id=\"5e3a90cb-f170-486b-8862-656eac76589a\"></div>\n",
       "    </div>\n",
       "<script type=\"text/javascript\">\n",
       "  \n",
       "  (function(global) {\n",
       "    function now() {\n",
       "      return new Date();\n",
       "    }\n",
       "  \n",
       "    var force = false;\n",
       "  \n",
       "    if (typeof (window._bokeh_onload_callbacks) === \"undefined\" || force === true) {\n",
       "      window._bokeh_onload_callbacks = [];\n",
       "      window._bokeh_is_loading = undefined;\n",
       "    }\n",
       "  \n",
       "  \n",
       "    \n",
       "    if (typeof (window._bokeh_timeout) === \"undefined\" || force === true) {\n",
       "      window._bokeh_timeout = Date.now() + 0;\n",
       "      window._bokeh_failed_load = false;\n",
       "    }\n",
       "  \n",
       "    var NB_LOAD_WARNING = {'data': {'text/html':\n",
       "       \"<div style='background-color: #fdd'>\\n\"+\n",
       "       \"<p>\\n\"+\n",
       "       \"BokehJS does not appear to have successfully loaded. If loading BokehJS from CDN, this \\n\"+\n",
       "       \"may be due to a slow or bad network connection. Possible fixes:\\n\"+\n",
       "       \"</p>\\n\"+\n",
       "       \"<ul>\\n\"+\n",
       "       \"<li>re-rerun `output_notebook()` to attempt to load from CDN again, or</li>\\n\"+\n",
       "       \"<li>use INLINE resources instead, as so:</li>\\n\"+\n",
       "       \"</ul>\\n\"+\n",
       "       \"<code>\\n\"+\n",
       "       \"from bokeh.resources import INLINE\\n\"+\n",
       "       \"output_notebook(resources=INLINE)\\n\"+\n",
       "       \"</code>\\n\"+\n",
       "       \"</div>\"}};\n",
       "  \n",
       "    function display_loaded() {\n",
       "      if (window.Bokeh !== undefined) {\n",
       "        document.getElementById(\"5e3a90cb-f170-486b-8862-656eac76589a\").textContent = \"BokehJS successfully loaded.\";\n",
       "      } else if (Date.now() < window._bokeh_timeout) {\n",
       "        setTimeout(display_loaded, 100)\n",
       "      }\n",
       "    }\n",
       "  \n",
       "    function run_callbacks() {\n",
       "      window._bokeh_onload_callbacks.forEach(function(callback) { callback() });\n",
       "      delete window._bokeh_onload_callbacks\n",
       "      console.info(\"Bokeh: all callbacks have finished\");\n",
       "    }\n",
       "  \n",
       "    function load_libs(js_urls, callback) {\n",
       "      window._bokeh_onload_callbacks.push(callback);\n",
       "      if (window._bokeh_is_loading > 0) {\n",
       "        console.log(\"Bokeh: BokehJS is being loaded, scheduling callback at\", now());\n",
       "        return null;\n",
       "      }\n",
       "      if (js_urls == null || js_urls.length === 0) {\n",
       "        run_callbacks();\n",
       "        return null;\n",
       "      }\n",
       "      console.log(\"Bokeh: BokehJS not loaded, scheduling load and callback at\", now());\n",
       "      window._bokeh_is_loading = js_urls.length;\n",
       "      for (var i = 0; i < js_urls.length; i++) {\n",
       "        var url = js_urls[i];\n",
       "        var s = document.createElement('script');\n",
       "        s.src = url;\n",
       "        s.async = false;\n",
       "        s.onreadystatechange = s.onload = function() {\n",
       "          window._bokeh_is_loading--;\n",
       "          if (window._bokeh_is_loading === 0) {\n",
       "            console.log(\"Bokeh: all BokehJS libraries loaded\");\n",
       "            run_callbacks()\n",
       "          }\n",
       "        };\n",
       "        s.onerror = function() {\n",
       "          console.warn(\"failed to load library \" + url);\n",
       "        };\n",
       "        console.log(\"Bokeh: injecting script tag for BokehJS library: \", url);\n",
       "        document.getElementsByTagName(\"head\")[0].appendChild(s);\n",
       "      }\n",
       "    };var element = document.getElementById(\"5e3a90cb-f170-486b-8862-656eac76589a\");\n",
       "    if (element == null) {\n",
       "      console.log(\"Bokeh: ERROR: autoload.js configured with elementid '5e3a90cb-f170-486b-8862-656eac76589a' but no matching script tag was found. \")\n",
       "      return false;\n",
       "    }\n",
       "  \n",
       "    var js_urls = [];\n",
       "  \n",
       "    var inline_js = [\n",
       "      function(Bokeh) {\n",
       "        (function() {\n",
       "          var fn = function() {\n",
       "            var docs_json = {\"9de1e8d8-35ad-4309-8081-f96cc69414f6\":{\"roots\":{\"references\":[{\"attributes\":{\"data_source\":{\"id\":\"92132e63-e0f7-413f-a78b-2be1ae4f45c6\",\"type\":\"ColumnDataSource\"},\"glyph\":{\"id\":\"a11b4170-f9ab-4717-b4f8-e6af6fb21b91\",\"type\":\"Line\"},\"hover_glyph\":null,\"nonselection_glyph\":{\"id\":\"9695cd7e-03fa-40ca-a423-797d597effad\",\"type\":\"Line\"},\"selection_glyph\":null},\"id\":\"05788d56-ed2d-4aa5-9d04-337269fd5090\",\"type\":\"GlyphRenderer\"},{\"attributes\":{\"line_color\":{\"value\":\"grey\"},\"x\":{\"field\":\"x\"},\"y\":{\"field\":\"y\"}},\"id\":\"c7b7894e-d923-430d-b12f-b4bdbe1a1e8c\",\"type\":\"Line\"},{\"attributes\":{\"label\":{\"value\":\"PR on train\"},\"renderers\":[{\"id\":\"75fbae30-3913-4b26-b9ac-0da06b0bdcfb\",\"type\":\"GlyphRenderer\"}]},\"id\":\"ecc50248-e38b-416b-b650-a979556f8ade\",\"type\":\"LegendItem\"},{\"attributes\":{},\"id\":\"b9c559a6-c6bf-431e-ae44-16d62fb6ee15\",\"type\":\"BasicTickFormatter\"},{\"attributes\":{\"line_alpha\":{\"value\":0.1},\"line_color\":{\"value\":\"#1f77b4\"},\"x\":{\"field\":\"x\"},\"y\":{\"field\":\"y\"}},\"id\":\"e48242a1-12a0-440f-81c3-56fdd4c54357\",\"type\":\"Line\"},{\"attributes\":{\"data_source\":{\"id\":\"4b88a28d-2837-48bf-afb9-458fdb590294\",\"type\":\"ColumnDataSource\"},\"glyph\":{\"id\":\"9293a547-e497-46b9-99f1-7d6b4f1106c0\",\"type\":\"Circle\"},\"hover_glyph\":null,\"nonselection_glyph\":{\"id\":\"e93ebdff-616c-45fd-a16b-0dc897c08b5c\",\"type\":\"Circle\"},\"selection_glyph\":null},\"id\":\"6d28778e-09c1-486d-a817-20903ef340c1\",\"type\":\"GlyphRenderer\"},{\"attributes\":{\"callback\":null},\"id\":\"2e3e39c7-51fa-4511-823c-28c7c076fbf0\",\"type\":\"DataRange1d\"},{\"attributes\":{\"axis_label\":\"tpr\",\"formatter\":{\"id\":\"7d621c0c-293b-4cde-96a4-11295f3b3253\",\"type\":\"BasicTickFormatter\"},\"plot\":{\"id\":\"7cc35858-9505-445f-818d-da07770e3f97\",\"subtype\":\"Figure\",\"type\":\"Plot\"},\"ticker\":{\"id\":\"6790e3f8-1ae5-4a3b-a5a5-07cd5958fed6\",\"type\":\"BasicTicker\"}},\"id\":\"acec41a8-f4ac-46c0-976d-fdec6af3559b\",\"type\":\"LinearAxis\"},{\"attributes\":{\"plot\":{\"id\":\"7cc35858-9505-445f-818d-da07770e3f97\",\"subtype\":\"Figure\",\"type\":\"Plot\"}},\"id\":\"af5e3574-ee63-4032-a738-8ab05d8d727e\",\"type\":\"WheelZoomTool\"},{\"attributes\":{\"below\":[{\"id\":\"acec41a8-f4ac-46c0-976d-fdec6af3559b\",\"type\":\"LinearAxis\"}],\"left\":[{\"id\":\"207043eb-9952-4748-8684-613d6567088a\",\"type\":\"LinearAxis\"}],\"plot_height\":400,\"plot_width\":400,\"renderers\":[{\"id\":\"acec41a8-f4ac-46c0-976d-fdec6af3559b\",\"type\":\"LinearAxis\"},{\"id\":\"b66a2829-1493-4510-ad0a-b1c478d55cb1\",\"type\":\"Grid\"},{\"id\":\"207043eb-9952-4748-8684-613d6567088a\",\"type\":\"LinearAxis\"},{\"id\":\"b5798fa4-4296-46f5-a2b5-0e3152131b70\",\"type\":\"Grid\"},{\"id\":\"f4e1b5e1-a123-4295-8e09-d0bb20e2631d\",\"type\":\"BoxAnnotation\"},{\"id\":\"c8278d57-23b1-4cec-975a-b8d2bb73f0af\",\"type\":\"GlyphRenderer\"},{\"id\":\"862c81b7-6699-472c-a7b2-d707fc63f111\",\"type\":\"Legend\"},{\"id\":\"0b515991-0b6e-4b85-9f08-03cbe0636884\",\"type\":\"GlyphRenderer\"},{\"id\":\"e74f96e6-ad2d-4ef7-9c52-9c02ae836198\",\"type\":\"GlyphRenderer\"},{\"id\":\"536d2341-0a77-483e-9f0b-ddc2d9704395\",\"type\":\"GlyphRenderer\"},{\"id\":\"76cd786f-b372-4dc3-a23f-ab37360a9972\",\"type\":\"GlyphRenderer\"}],\"title\":{\"id\":\"cb91019e-3ac8-4ec9-8942-cadd0bce68da\",\"type\":\"Title\"},\"tool_events\":{\"id\":\"5088ec98-3ffd-4940-b015-2a167e664ced\",\"type\":\"ToolEvents\"},\"toolbar\":{\"id\":\"f4ef2ae5-6567-4c5a-a798-c21caa64c1f5\",\"type\":\"Toolbar\"},\"x_range\":{\"id\":\"6a17edd8-4f99-488d-8267-833517040775\",\"type\":\"Range1d\"},\"y_range\":{\"id\":\"6a17edd8-4f99-488d-8267-833517040775\",\"type\":\"Range1d\"}},\"id\":\"7cc35858-9505-445f-818d-da07770e3f97\",\"subtype\":\"Figure\",\"type\":\"Plot\"},{\"attributes\":{\"bottom_units\":\"screen\",\"fill_alpha\":{\"value\":0.5},\"fill_color\":{\"value\":\"lightgrey\"},\"left_units\":\"screen\",\"level\":\"overlay\",\"line_alpha\":{\"value\":1.0},\"line_color\":{\"value\":\"black\"},\"line_dash\":[4,4],\"line_width\":{\"value\":2},\"plot\":null,\"render_mode\":\"css\",\"right_units\":\"screen\",\"top_units\":\"screen\"},\"id\":\"baf54173-60d9-4d2f-aace-3e4d7872bf4d\",\"type\":\"BoxAnnotation\"},{\"attributes\":{\"data_source\":{\"id\":\"894ebf91-a7c3-4bfc-8313-7cec68b9426b\",\"type\":\"ColumnDataSource\"},\"glyph\":{\"id\":\"c8d6fe77-fe2f-41c1-825b-ee6009e992ff\",\"type\":\"Line\"},\"hover_glyph\":null,\"nonselection_glyph\":{\"id\":\"b4cc7260-424f-4731-a6f5-cf1326413e36\",\"type\":\"Line\"},\"selection_glyph\":null},\"id\":\"0b515991-0b6e-4b85-9f08-03cbe0636884\",\"type\":\"GlyphRenderer\"},{\"attributes\":{\"dimension\":1,\"plot\":{\"id\":\"96cacdaa-5637-4c71-be98-4dcc0888ed28\",\"subtype\":\"Figure\",\"type\":\"Plot\"},\"ticker\":{\"id\":\"037be417-fd15-4558-9988-983306aebd98\",\"type\":\"BasicTicker\"}},\"id\":\"9d5307f8-8afe-4f48-af79-334cb31dccf7\",\"type\":\"Grid\"},{\"attributes\":{},\"id\":\"5088ec98-3ffd-4940-b015-2a167e664ced\",\"type\":\"ToolEvents\"},{\"attributes\":{\"callback\":null,\"column_names\":[\"x\",\"y\"],\"data\":{\"x\":[0,1],\"y\":[0,1]}},\"id\":\"e06ca8b2-fb48-4f6d-9f01-7804c82281ee\",\"type\":\"ColumnDataSource\"},{\"attributes\":{},\"id\":\"037be417-fd15-4558-9988-983306aebd98\",\"type\":\"BasicTicker\"},{\"attributes\":{\"plot\":{\"id\":\"7cc35858-9505-445f-818d-da07770e3f97\",\"subtype\":\"Figure\",\"type\":\"Plot\"}},\"id\":\"92277078-80e1-4b2a-a7a7-9d9dd4e1df54\",\"type\":\"PanTool\"},{\"attributes\":{\"line_color\":{\"value\":\"#1f77b4\"},\"x\":{\"field\":\"x\"},\"y\":{\"field\":\"y\"}},\"id\":\"a11b4170-f9ab-4717-b4f8-e6af6fb21b91\",\"type\":\"Line\"},{\"attributes\":{\"axis_label\":\"fpr\",\"formatter\":{\"id\":\"40b76c8b-da08-4989-9baf-602ea5936ccc\",\"type\":\"BasicTickFormatter\"},\"plot\":{\"id\":\"7cc35858-9505-445f-818d-da07770e3f97\",\"subtype\":\"Figure\",\"type\":\"Plot\"},\"ticker\":{\"id\":\"aef86aab-ed24-41b8-b199-001802593de6\",\"type\":\"BasicTicker\"}},\"id\":\"207043eb-9952-4748-8684-613d6567088a\",\"type\":\"LinearAxis\"},{\"attributes\":{\"line_alpha\":{\"value\":0.1},\"line_color\":{\"value\":\"#1f77b4\"},\"x\":{\"field\":\"x\"},\"y\":{\"field\":\"y\"}},\"id\":\"eb28bfbb-ea30-4750-9f92-8cf55482ec4a\",\"type\":\"Line\"},{\"attributes\":{\"label\":{\"value\":\"roc\"},\"renderers\":[{\"id\":\"0b515991-0b6e-4b85-9f08-03cbe0636884\",\"type\":\"GlyphRenderer\"}]},\"id\":\"9f46f1e8-10bf-48cd-a741-283842955ba2\",\"type\":\"LegendItem\"},{\"attributes\":{\"axis_label\":\"recall\",\"formatter\":{\"id\":\"b9c559a6-c6bf-431e-ae44-16d62fb6ee15\",\"type\":\"BasicTickFormatter\"},\"plot\":{\"id\":\"96cacdaa-5637-4c71-be98-4dcc0888ed28\",\"subtype\":\"Figure\",\"type\":\"Plot\"},\"ticker\":{\"id\":\"da613b94-76d0-4cfe-b1bc-76aff712992f\",\"type\":\"BasicTicker\"}},\"id\":\"af3689fc-b7cc-471b-afcb-978e9d6f4fca\",\"type\":\"LinearAxis\"},{\"attributes\":{},\"id\":\"7d621c0c-293b-4cde-96a4-11295f3b3253\",\"type\":\"BasicTickFormatter\"},{\"attributes\":{\"fill_alpha\":{\"value\":0.1},\"fill_color\":{\"value\":\"#1f77b4\"},\"line_alpha\":{\"value\":0.1},\"line_color\":{\"value\":\"#1f77b4\"},\"size\":{\"units\":\"screen\",\"value\":5},\"x\":{\"field\":\"x\"},\"y\":{\"field\":\"y\"}},\"id\":\"967130d9-deb6-40d9-9876-aaf69c653a7d\",\"type\":\"Circle\"},{\"attributes\":{\"fill_color\":{\"value\":\"red\"},\"line_color\":{\"value\":\"red\"},\"size\":{\"units\":\"screen\",\"value\":5},\"x\":{\"field\":\"x\"},\"y\":{\"field\":\"y\"}},\"id\":\"9293a547-e497-46b9-99f1-7d6b4f1106c0\",\"type\":\"Circle\"},{\"attributes\":{\"callback\":null,\"column_names\":[\"x\",\"y\"],\"data\":{\"x\":{\"__ndarray__\":\"AAAAAAAA8D8gEnj7IYHvP0QCbz8k8O4/1cJKTy2s7D9/SODthwTmPwAAAAAAAAAA\",\"dtype\":\"float64\",\"shape\":[6]},\"y\":{\"__ndarray__\":\"qrd/hurt7z8AAAAAAADwPwAAAAAAAPA/AAAAAAAA8D8AAAAAAADwPwAAAAAAAPA/\",\"dtype\":\"float64\",\"shape\":[6]}}},\"id\":\"82f02a27-1dbf-494d-859f-d3904deff4e0\",\"type\":\"ColumnDataSource\"},{\"attributes\":{\"callback\":null,\"column_names\":[\"y\",\"x\"],\"data\":{\"x\":{\"__ndarray__\":\"AAAAAAAAAAAAAAAAAAAAAAAAAAAAAAAAAAAAAAAAAACsyYVERsgtP0FXZLM0VlY/27OsF7kyaD9KKnlthkmAP3FBi4anwJA/AQqUP6uArD8AAAAAAADwPw==\",\"dtype\":\"float64\",\"shape\":[11]},\"y\":{\"__ndarray__\":\"f0jg7YcE5j/VwkpPLazsP0QCbz8k8O4/IBJ4+yGB7z8AAAAAAADwPwAAAAAAAPA/AAAAAAAA8D8AAAAAAADwPwAAAAAAAPA/AAAAAAAA8D8AAAAAAADwPw==\",\"dtype\":\"float64\",\"shape\":[11]}}},\"id\":\"14826e7e-9d89-43bc-a9c1-5d973d1faeee\",\"type\":\"ColumnDataSource\"},{\"attributes\":{\"fill_color\":{\"value\":\"red\"},\"line_color\":{\"value\":\"red\"},\"size\":{\"units\":\"screen\",\"value\":5},\"x\":{\"field\":\"x\"},\"y\":{\"field\":\"y\"}},\"id\":\"c850ba38-5123-43b3-8897-8a3fbaec9da6\",\"type\":\"Circle\"},{\"attributes\":{\"callback\":null,\"column_names\":[\"x\",\"y\"],\"data\":{\"x\":{\"__ndarray__\":\"AAAAAAAAAAAAAAAAAAAAAAAAAAAAAAAAAAAAAAAAAACsyYVERsgtP0FXZLM0VlY/27OsF7kyaD9KKnlthkmAP3FBi4anwJA/AQqUP6uArD8AAAAAAADwPw==\",\"dtype\":\"float64\",\"shape\":[11]},\"y\":{\"__ndarray__\":\"f0jg7YcE5j/VwkpPLazsP0QCbz8k8O4/IBJ4+yGB7z8AAAAAAADwPwAAAAAAAPA/AAAAAAAA8D8AAAAAAADwPwAAAAAAAPA/AAAAAAAA8D8AAAAAAADwPw==\",\"dtype\":\"float64\",\"shape\":[11]}}},\"id\":\"d74d9a2a-4221-469f-88f5-f07389f4a136\",\"type\":\"ColumnDataSource\"},{\"attributes\":{\"below\":[{\"id\":\"af3689fc-b7cc-471b-afcb-978e9d6f4fca\",\"type\":\"LinearAxis\"}],\"left\":[{\"id\":\"ba653fab-ecc0-4d0d-9545-810d419f831a\",\"type\":\"LinearAxis\"}],\"plot_height\":400,\"plot_width\":400,\"renderers\":[{\"id\":\"af3689fc-b7cc-471b-afcb-978e9d6f4fca\",\"type\":\"LinearAxis\"},{\"id\":\"4be40d97-1d58-45cb-b9e5-3262a8b8f103\",\"type\":\"Grid\"},{\"id\":\"ba653fab-ecc0-4d0d-9545-810d419f831a\",\"type\":\"LinearAxis\"},{\"id\":\"9d5307f8-8afe-4f48-af79-334cb31dccf7\",\"type\":\"Grid\"},{\"id\":\"baf54173-60d9-4d2f-aace-3e4d7872bf4d\",\"type\":\"BoxAnnotation\"},{\"id\":\"8d62af44-b9dc-49f3-947c-0349fce787a1\",\"type\":\"GlyphRenderer\"},{\"id\":\"13583d8f-bae8-4964-9b3a-b51e2857c822\",\"type\":\"Legend\"},{\"id\":\"05788d56-ed2d-4aa5-9d04-337269fd5090\",\"type\":\"GlyphRenderer\"},{\"id\":\"6d28778e-09c1-486d-a817-20903ef340c1\",\"type\":\"GlyphRenderer\"},{\"id\":\"75fbae30-3913-4b26-b9ac-0da06b0bdcfb\",\"type\":\"GlyphRenderer\"}],\"title\":{\"id\":\"2c87110f-a18b-4ce5-a13b-137694c4f77c\",\"type\":\"Title\"},\"tool_events\":{\"id\":\"ea7ded1e-527c-47c9-a785-af97ead6ac16\",\"type\":\"ToolEvents\"},\"toolbar\":{\"id\":\"98db039d-da6d-4c02-beae-d67aaee00ae1\",\"type\":\"Toolbar\"},\"x_range\":{\"id\":\"2e3e39c7-51fa-4511-823c-28c7c076fbf0\",\"type\":\"DataRange1d\"},\"y_range\":{\"id\":\"21f83619-08d2-425b-a56a-93fb1a174d1f\",\"type\":\"DataRange1d\"}},\"id\":\"96cacdaa-5637-4c71-be98-4dcc0888ed28\",\"subtype\":\"Figure\",\"type\":\"Plot\"},{\"attributes\":{\"data_source\":{\"id\":\"d74d9a2a-4221-469f-88f5-f07389f4a136\",\"type\":\"ColumnDataSource\"},\"glyph\":{\"id\":\"3e316cd8-8b93-4c82-825b-51105488ce84\",\"type\":\"Line\"},\"hover_glyph\":null,\"nonselection_glyph\":{\"id\":\"eb28bfbb-ea30-4750-9f92-8cf55482ec4a\",\"type\":\"Line\"},\"selection_glyph\":null},\"id\":\"536d2341-0a77-483e-9f0b-ddc2d9704395\",\"type\":\"GlyphRenderer\"},{\"attributes\":{\"data_source\":{\"id\":\"ce592fed-f3a4-4a9d-b8da-9a797afc4adf\",\"type\":\"ColumnDataSource\"},\"glyph\":{\"id\":\"ced231f8-9aa5-421b-9de0-ff457d3d91af\",\"type\":\"Cross\"},\"hover_glyph\":null,\"nonselection_glyph\":{\"id\":\"493e8d35-d970-40f3-be4e-a49a3f22a222\",\"type\":\"Cross\"},\"selection_glyph\":null},\"id\":\"c8278d57-23b1-4cec-975a-b8d2bb73f0af\",\"type\":\"GlyphRenderer\"},{\"attributes\":{\"callback\":null,\"column_names\":[\"y\",\"x\"],\"data\":{\"x\":{\"__ndarray__\":\"AAAAAAAAAAAmLISTBIllPyKOkFG3YXM/MQZfWez+ez8e8JwPajqBPy1oaxef14k/HCGjbsMmkD+lRAdDMf+UP7S81UpmnJ0/Kcp31VGwpz8RQH4tYSG8PwAAAAAAAPA/\",\"dtype\":\"float64\",\"shape\":[12]},\"y\":{\"__ndarray__\":\"AAAAAAAAAAD60Y9+9KPfP3/0ox/96Oc/uMAFLnCB6z/Sj370ox/tP+YwhznMYe4/7F73ute97j/yjGc84xnvP/e6173ude8/+tGPfvSj7z/60Y9+9KPvPwAAAAAAAPA/\",\"dtype\":\"float64\",\"shape\":[12]}}},\"id\":\"ce592fed-f3a4-4a9d-b8da-9a797afc4adf\",\"type\":\"ColumnDataSource\"},{\"attributes\":{\"plot\":{\"id\":\"96cacdaa-5637-4c71-be98-4dcc0888ed28\",\"subtype\":\"Figure\",\"type\":\"Plot\"}},\"id\":\"2f6e46c3-04c1-4389-832c-58d4824acb27\",\"type\":\"SaveTool\"},{\"attributes\":{\"fill_color\":{\"value\":\"#1f77b4\"},\"line_color\":{\"value\":\"#1f77b4\"},\"size\":{\"units\":\"screen\",\"value\":5},\"x\":{\"field\":\"x\"},\"y\":{\"field\":\"y\"}},\"id\":\"03dcc964-7787-4b81-8d5d-561e49d47908\",\"type\":\"Cross\"},{\"attributes\":{\"data_source\":{\"id\":\"14826e7e-9d89-43bc-a9c1-5d973d1faeee\",\"type\":\"ColumnDataSource\"},\"glyph\":{\"id\":\"c850ba38-5123-43b3-8897-8a3fbaec9da6\",\"type\":\"Circle\"},\"hover_glyph\":null,\"nonselection_glyph\":{\"id\":\"967130d9-deb6-40d9-9876-aaf69c653a7d\",\"type\":\"Circle\"},\"selection_glyph\":null},\"id\":\"e74f96e6-ad2d-4ef7-9c52-9c02ae836198\",\"type\":\"GlyphRenderer\"},{\"attributes\":{\"children\":[{\"id\":\"96cacdaa-5637-4c71-be98-4dcc0888ed28\",\"subtype\":\"Figure\",\"type\":\"Plot\"},{\"id\":\"7cc35858-9505-445f-818d-da07770e3f97\",\"subtype\":\"Figure\",\"type\":\"Plot\"}]},\"id\":\"38c30d92-eda2-40c2-aea6-e661c35a7057\",\"type\":\"Row\"},{\"attributes\":{},\"id\":\"6790e3f8-1ae5-4a3b-a5a5-07cd5958fed6\",\"type\":\"BasicTicker\"},{\"attributes\":{\"fill_color\":{\"value\":\"#1f77b4\"},\"line_color\":{\"value\":\"#1f77b4\"},\"size\":{\"units\":\"screen\",\"value\":5},\"x\":{\"field\":\"x\"},\"y\":{\"field\":\"y\"}},\"id\":\"ced231f8-9aa5-421b-9de0-ff457d3d91af\",\"type\":\"Cross\"},{\"attributes\":{\"data_source\":{\"id\":\"82f02a27-1dbf-494d-859f-d3904deff4e0\",\"type\":\"ColumnDataSource\"},\"glyph\":{\"id\":\"b53d8297-3710-4220-a3a8-717480ff34cf\",\"type\":\"Line\"},\"hover_glyph\":null,\"nonselection_glyph\":{\"id\":\"6e7d9f2c-bc14-4795-a482-ca5bb435e550\",\"type\":\"Line\"},\"selection_glyph\":null},\"id\":\"75fbae30-3913-4b26-b9ac-0da06b0bdcfb\",\"type\":\"GlyphRenderer\"},{\"attributes\":{},\"id\":\"49873739-d033-4d76-bd2d-74218e8cd27c\",\"type\":\"BasicTickFormatter\"},{\"attributes\":{\"label\":{\"value\":\"roc on train\"},\"renderers\":[{\"id\":\"536d2341-0a77-483e-9f0b-ddc2d9704395\",\"type\":\"GlyphRenderer\"}]},\"id\":\"b04d1689-be70-4c92-83ca-e185c4b0e39d\",\"type\":\"LegendItem\"},{\"attributes\":{\"callback\":null},\"id\":\"6a17edd8-4f99-488d-8267-833517040775\",\"type\":\"Range1d\"},{\"attributes\":{\"active_drag\":\"auto\",\"active_scroll\":\"auto\",\"active_tap\":\"auto\",\"tools\":[{\"id\":\"92277078-80e1-4b2a-a7a7-9d9dd4e1df54\",\"type\":\"PanTool\"},{\"id\":\"af5e3574-ee63-4032-a738-8ab05d8d727e\",\"type\":\"WheelZoomTool\"},{\"id\":\"80c2322c-46cf-49eb-b961-2ce036085d23\",\"type\":\"BoxZoomTool\"},{\"id\":\"fa3ed256-639f-4a17-b1b7-6a4e4e258c16\",\"type\":\"SaveTool\"},{\"id\":\"a8833520-5981-4f1d-a8c8-be170cc015b5\",\"type\":\"ResetTool\"},{\"id\":\"2388621f-5323-4310-ae35-35daa0ea8a25\",\"type\":\"HelpTool\"}]},\"id\":\"f4ef2ae5-6567-4c5a-a798-c21caa64c1f5\",\"type\":\"Toolbar\"},{\"attributes\":{\"bottom_units\":\"screen\",\"fill_alpha\":{\"value\":0.5},\"fill_color\":{\"value\":\"lightgrey\"},\"left_units\":\"screen\",\"level\":\"overlay\",\"line_alpha\":{\"value\":1.0},\"line_color\":{\"value\":\"black\"},\"line_dash\":[4,4],\"line_width\":{\"value\":2},\"plot\":null,\"render_mode\":\"css\",\"right_units\":\"screen\",\"top_units\":\"screen\"},\"id\":\"f4e1b5e1-a123-4295-8e09-d0bb20e2631d\",\"type\":\"BoxAnnotation\"},{\"attributes\":{\"callback\":null,\"column_names\":[\"y\",\"x\"],\"data\":{\"x\":{\"__ndarray__\":\"AAAAAAAA8D8gEnj7IYHvP0QCbz8k8O4/1cJKTy2s7D9/SODthwTmPwAAAAAAAAAA\",\"dtype\":\"float64\",\"shape\":[6]},\"y\":{\"__ndarray__\":\"qrd/hurt7z8AAAAAAADwPwAAAAAAAPA/AAAAAAAA8D8AAAAAAADwPwAAAAAAAPA/\",\"dtype\":\"float64\",\"shape\":[6]}}},\"id\":\"4b88a28d-2837-48bf-afb9-458fdb590294\",\"type\":\"ColumnDataSource\"},{\"attributes\":{\"callback\":null},\"id\":\"21f83619-08d2-425b-a56a-93fb1a174d1f\",\"type\":\"DataRange1d\"},{\"attributes\":{\"plot\":{\"id\":\"7cc35858-9505-445f-818d-da07770e3f97\",\"subtype\":\"Figure\",\"type\":\"Plot\"},\"ticker\":{\"id\":\"6790e3f8-1ae5-4a3b-a5a5-07cd5958fed6\",\"type\":\"BasicTicker\"}},\"id\":\"b66a2829-1493-4510-ad0a-b1c478d55cb1\",\"type\":\"Grid\"},{\"attributes\":{\"label\":{\"value\":\"PR\"},\"renderers\":[{\"id\":\"05788d56-ed2d-4aa5-9d04-337269fd5090\",\"type\":\"GlyphRenderer\"}]},\"id\":\"abfb343d-ed92-4fe1-9cef-7b48c2ef7a17\",\"type\":\"LegendItem\"},{\"attributes\":{},\"id\":\"ea7ded1e-527c-47c9-a785-af97ead6ac16\",\"type\":\"ToolEvents\"},{\"attributes\":{\"line_alpha\":{\"value\":0.1},\"line_color\":{\"value\":\"#1f77b4\"},\"x\":{\"field\":\"x\"},\"y\":{\"field\":\"y\"}},\"id\":\"6e7d9f2c-bc14-4795-a482-ca5bb435e550\",\"type\":\"Line\"},{\"attributes\":{\"data_source\":{\"id\":\"e06ca8b2-fb48-4f6d-9f01-7804c82281ee\",\"type\":\"ColumnDataSource\"},\"glyph\":{\"id\":\"c7b7894e-d923-430d-b12f-b4bdbe1a1e8c\",\"type\":\"Line\"},\"hover_glyph\":null,\"nonselection_glyph\":{\"id\":\"e48242a1-12a0-440f-81c3-56fdd4c54357\",\"type\":\"Line\"},\"selection_glyph\":null},\"id\":\"76cd786f-b372-4dc3-a23f-ab37360a9972\",\"type\":\"GlyphRenderer\"},{\"attributes\":{\"axis_label\":\"precision\",\"formatter\":{\"id\":\"49873739-d033-4d76-bd2d-74218e8cd27c\",\"type\":\"BasicTickFormatter\"},\"plot\":{\"id\":\"96cacdaa-5637-4c71-be98-4dcc0888ed28\",\"subtype\":\"Figure\",\"type\":\"Plot\"},\"ticker\":{\"id\":\"037be417-fd15-4558-9988-983306aebd98\",\"type\":\"BasicTicker\"}},\"id\":\"ba653fab-ecc0-4d0d-9545-810d419f831a\",\"type\":\"LinearAxis\"},{\"attributes\":{\"plot\":{\"id\":\"7cc35858-9505-445f-818d-da07770e3f97\",\"subtype\":\"Figure\",\"type\":\"Plot\"}},\"id\":\"fa3ed256-639f-4a17-b1b7-6a4e4e258c16\",\"type\":\"SaveTool\"},{\"attributes\":{\"line_color\":{\"value\":\"red\"},\"x\":{\"field\":\"x\"},\"y\":{\"field\":\"y\"}},\"id\":\"3e316cd8-8b93-4c82-825b-51105488ce84\",\"type\":\"Line\"},{\"attributes\":{},\"id\":\"aef86aab-ed24-41b8-b199-001802593de6\",\"type\":\"BasicTicker\"},{\"attributes\":{\"dimension\":1,\"plot\":{\"id\":\"7cc35858-9505-445f-818d-da07770e3f97\",\"subtype\":\"Figure\",\"type\":\"Plot\"},\"ticker\":{\"id\":\"aef86aab-ed24-41b8-b199-001802593de6\",\"type\":\"BasicTicker\"}},\"id\":\"b5798fa4-4296-46f5-a2b5-0e3152131b70\",\"type\":\"Grid\"},{\"attributes\":{\"overlay\":{\"id\":\"f4e1b5e1-a123-4295-8e09-d0bb20e2631d\",\"type\":\"BoxAnnotation\"},\"plot\":{\"id\":\"7cc35858-9505-445f-818d-da07770e3f97\",\"subtype\":\"Figure\",\"type\":\"Plot\"}},\"id\":\"80c2322c-46cf-49eb-b961-2ce036085d23\",\"type\":\"BoxZoomTool\"},{\"attributes\":{\"plot\":{\"id\":\"7cc35858-9505-445f-818d-da07770e3f97\",\"subtype\":\"Figure\",\"type\":\"Plot\"}},\"id\":\"2388621f-5323-4310-ae35-35daa0ea8a25\",\"type\":\"HelpTool\"},{\"attributes\":{\"line_alpha\":{\"value\":0.1},\"line_color\":{\"value\":\"#1f77b4\"},\"x\":{\"field\":\"x\"},\"y\":{\"field\":\"y\"}},\"id\":\"9695cd7e-03fa-40ca-a423-797d597effad\",\"type\":\"Line\"},{\"attributes\":{\"fill_alpha\":{\"value\":0.1},\"fill_color\":{\"value\":\"#1f77b4\"},\"line_alpha\":{\"value\":0.1},\"line_color\":{\"value\":\"#1f77b4\"},\"size\":{\"units\":\"screen\",\"value\":5},\"x\":{\"field\":\"x\"},\"y\":{\"field\":\"y\"}},\"id\":\"493e8d35-d970-40f3-be4e-a49a3f22a222\",\"type\":\"Cross\"},{\"attributes\":{\"overlay\":{\"id\":\"baf54173-60d9-4d2f-aace-3e4d7872bf4d\",\"type\":\"BoxAnnotation\"},\"plot\":{\"id\":\"96cacdaa-5637-4c71-be98-4dcc0888ed28\",\"subtype\":\"Figure\",\"type\":\"Plot\"}},\"id\":\"fc65742f-b396-4ef0-83e4-35c7a986e6a1\",\"type\":\"BoxZoomTool\"},{\"attributes\":{\"data_source\":{\"id\":\"2059bb70-e6ab-4921-93eb-dbd954b0ddd2\",\"type\":\"ColumnDataSource\"},\"glyph\":{\"id\":\"03dcc964-7787-4b81-8d5d-561e49d47908\",\"type\":\"Cross\"},\"hover_glyph\":null,\"nonselection_glyph\":{\"id\":\"38c4744b-44b5-41d6-bc7d-e65bf675e5bf\",\"type\":\"Cross\"},\"selection_glyph\":null},\"id\":\"8d62af44-b9dc-49f3-947c-0349fce787a1\",\"type\":\"GlyphRenderer\"},{\"attributes\":{\"fill_alpha\":{\"value\":0.1},\"fill_color\":{\"value\":\"#1f77b4\"},\"line_alpha\":{\"value\":0.1},\"line_color\":{\"value\":\"#1f77b4\"},\"size\":{\"units\":\"screen\",\"value\":5},\"x\":{\"field\":\"x\"},\"y\":{\"field\":\"y\"}},\"id\":\"e93ebdff-616c-45fd-a16b-0dc897c08b5c\",\"type\":\"Circle\"},{\"attributes\":{},\"id\":\"40b76c8b-da08-4989-9baf-602ea5936ccc\",\"type\":\"BasicTickFormatter\"},{\"attributes\":{\"plot\":null,\"text\":\"PR curve\"},\"id\":\"2c87110f-a18b-4ce5-a13b-137694c4f77c\",\"type\":\"Title\"},{\"attributes\":{\"callback\":null,\"column_names\":[\"y\",\"x\"],\"data\":{\"x\":{\"__ndarray__\":\"AAAAAAAA8D/60Y9+9KPvP/rRj370o+8/97rXve517z/yjGc84xnvP+xe97rXve4/5jCHOcxh7j/Sj370ox/tP7jABS5wges/f/SjH/3o5z/60Y9+9KPfPwAAAAAAAAAA\",\"dtype\":\"float64\",\"shape\":[12]},\"y\":{\"__ndarray__\":\"hl7ohV7otT8d1EEd1EHdP1VVVVVVVeU/hixkIQtZ6D81wXgr+xzqP1hjIj1QOes/BD1SQk4F7D/Sj370ox/tP0EJbzR1fu0/Gb9d6sn47T9IHnnkkUfuPwAAAAAAAPA/\",\"dtype\":\"float64\",\"shape\":[12]}}},\"id\":\"92132e63-e0f7-413f-a78b-2be1ae4f45c6\",\"type\":\"ColumnDataSource\"},{\"attributes\":{},\"id\":\"da613b94-76d0-4cfe-b1bc-76aff712992f\",\"type\":\"BasicTicker\"},{\"attributes\":{\"callback\":null,\"column_names\":[\"y\",\"x\"],\"data\":{\"x\":{\"__ndarray__\":\"AAAAAAAA8D/60Y9+9KPvP/rRj370o+8/97rXve517z/yjGc84xnvP+xe97rXve4/5jCHOcxh7j/Sj370ox/tP7jABS5wges/f/SjH/3o5z/60Y9+9KPfPwAAAAAAAAAA\",\"dtype\":\"float64\",\"shape\":[12]},\"y\":{\"__ndarray__\":\"hl7ohV7otT8d1EEd1EHdP1VVVVVVVeU/hixkIQtZ6D81wXgr+xzqP1hjIj1QOes/BD1SQk4F7D/Sj370ox/tP0EJbzR1fu0/Gb9d6sn47T9IHnnkkUfuPwAAAAAAAPA/\",\"dtype\":\"float64\",\"shape\":[12]}}},\"id\":\"2059bb70-e6ab-4921-93eb-dbd954b0ddd2\",\"type\":\"ColumnDataSource\"},{\"attributes\":{\"plot\":{\"id\":\"96cacdaa-5637-4c71-be98-4dcc0888ed28\",\"subtype\":\"Figure\",\"type\":\"Plot\"}},\"id\":\"e70790b9-68e2-4d09-a0bd-a7a6cf56e178\",\"type\":\"PanTool\"},{\"attributes\":{\"fill_alpha\":{\"value\":0.1},\"fill_color\":{\"value\":\"#1f77b4\"},\"line_alpha\":{\"value\":0.1},\"line_color\":{\"value\":\"#1f77b4\"},\"size\":{\"units\":\"screen\",\"value\":5},\"x\":{\"field\":\"x\"},\"y\":{\"field\":\"y\"}},\"id\":\"38c4744b-44b5-41d6-bc7d-e65bf675e5bf\",\"type\":\"Cross\"},{\"attributes\":{\"plot\":{\"id\":\"7cc35858-9505-445f-818d-da07770e3f97\",\"subtype\":\"Figure\",\"type\":\"Plot\"}},\"id\":\"a8833520-5981-4f1d-a8c8-be170cc015b5\",\"type\":\"ResetTool\"},{\"attributes\":{\"line_alpha\":{\"value\":0.1},\"line_color\":{\"value\":\"#1f77b4\"},\"x\":{\"field\":\"x\"},\"y\":{\"field\":\"y\"}},\"id\":\"b4cc7260-424f-4731-a6f5-cf1326413e36\",\"type\":\"Line\"},{\"attributes\":{\"active_drag\":\"auto\",\"active_scroll\":\"auto\",\"active_tap\":\"auto\",\"tools\":[{\"id\":\"e70790b9-68e2-4d09-a0bd-a7a6cf56e178\",\"type\":\"PanTool\"},{\"id\":\"01253071-f0ce-40b3-aa49-296272dcc94f\",\"type\":\"WheelZoomTool\"},{\"id\":\"fc65742f-b396-4ef0-83e4-35c7a986e6a1\",\"type\":\"BoxZoomTool\"},{\"id\":\"2f6e46c3-04c1-4389-832c-58d4824acb27\",\"type\":\"SaveTool\"},{\"id\":\"c23fa6a4-9f24-40ab-9efb-8d6a69f3e2f5\",\"type\":\"ResetTool\"},{\"id\":\"065bed28-4a3c-4a63-9c65-dcf4b36af8c4\",\"type\":\"HelpTool\"}]},\"id\":\"98db039d-da6d-4c02-beae-d67aaee00ae1\",\"type\":\"Toolbar\"},{\"attributes\":{\"callback\":null,\"column_names\":[\"y\",\"x\"],\"data\":{\"x\":{\"__ndarray__\":\"AAAAAAAAAAAmLISTBIllPyKOkFG3YXM/MQZfWez+ez8e8JwPajqBPy1oaxef14k/HCGjbsMmkD+lRAdDMf+UP7S81UpmnJ0/Kcp31VGwpz8RQH4tYSG8PwAAAAAAAPA/\",\"dtype\":\"float64\",\"shape\":[12]},\"y\":{\"__ndarray__\":\"AAAAAAAAAAD60Y9+9KPfP3/0ox/96Oc/uMAFLnCB6z/Sj370ox/tP+YwhznMYe4/7F73ute97j/yjGc84xnvP/e6173ude8/+tGPfvSj7z/60Y9+9KPvPwAAAAAAAPA/\",\"dtype\":\"float64\",\"shape\":[12]}}},\"id\":\"894ebf91-a7c3-4bfc-8313-7cec68b9426b\",\"type\":\"ColumnDataSource\"},{\"attributes\":{\"plot\":null,\"text\":\"roc, auc: 0.99, on train: 1\"},\"id\":\"cb91019e-3ac8-4ec9-8942-cadd0bce68da\",\"type\":\"Title\"},{\"attributes\":{\"items\":[{\"id\":\"abfb343d-ed92-4fe1-9cef-7b48c2ef7a17\",\"type\":\"LegendItem\"},{\"id\":\"ecc50248-e38b-416b-b650-a979556f8ade\",\"type\":\"LegendItem\"}],\"plot\":{\"id\":\"96cacdaa-5637-4c71-be98-4dcc0888ed28\",\"subtype\":\"Figure\",\"type\":\"Plot\"}},\"id\":\"13583d8f-bae8-4964-9b3a-b51e2857c822\",\"type\":\"Legend\"},{\"attributes\":{\"plot\":{\"id\":\"96cacdaa-5637-4c71-be98-4dcc0888ed28\",\"subtype\":\"Figure\",\"type\":\"Plot\"}},\"id\":\"065bed28-4a3c-4a63-9c65-dcf4b36af8c4\",\"type\":\"HelpTool\"},{\"attributes\":{\"line_color\":{\"value\":\"red\"},\"x\":{\"field\":\"x\"},\"y\":{\"field\":\"y\"}},\"id\":\"b53d8297-3710-4220-a3a8-717480ff34cf\",\"type\":\"Line\"},{\"attributes\":{\"plot\":{\"id\":\"96cacdaa-5637-4c71-be98-4dcc0888ed28\",\"subtype\":\"Figure\",\"type\":\"Plot\"}},\"id\":\"01253071-f0ce-40b3-aa49-296272dcc94f\",\"type\":\"WheelZoomTool\"},{\"attributes\":{\"line_color\":{\"value\":\"#1f77b4\"},\"x\":{\"field\":\"x\"},\"y\":{\"field\":\"y\"}},\"id\":\"c8d6fe77-fe2f-41c1-825b-ee6009e992ff\",\"type\":\"Line\"},{\"attributes\":{\"plot\":{\"id\":\"96cacdaa-5637-4c71-be98-4dcc0888ed28\",\"subtype\":\"Figure\",\"type\":\"Plot\"}},\"id\":\"c23fa6a4-9f24-40ab-9efb-8d6a69f3e2f5\",\"type\":\"ResetTool\"},{\"attributes\":{\"plot\":{\"id\":\"96cacdaa-5637-4c71-be98-4dcc0888ed28\",\"subtype\":\"Figure\",\"type\":\"Plot\"},\"ticker\":{\"id\":\"da613b94-76d0-4cfe-b1bc-76aff712992f\",\"type\":\"BasicTicker\"}},\"id\":\"4be40d97-1d58-45cb-b9e5-3262a8b8f103\",\"type\":\"Grid\"},{\"attributes\":{\"items\":[{\"id\":\"9f46f1e8-10bf-48cd-a741-283842955ba2\",\"type\":\"LegendItem\"},{\"id\":\"b04d1689-be70-4c92-83ca-e185c4b0e39d\",\"type\":\"LegendItem\"}],\"plot\":{\"id\":\"7cc35858-9505-445f-818d-da07770e3f97\",\"subtype\":\"Figure\",\"type\":\"Plot\"}},\"id\":\"862c81b7-6699-472c-a7b2-d707fc63f111\",\"type\":\"Legend\"}],\"root_ids\":[\"38c30d92-eda2-40c2-aea6-e661c35a7057\"]},\"title\":\"Bokeh Application\",\"version\":\"0.12.4\"}};\n",
       "            var render_items = [{\"docid\":\"9de1e8d8-35ad-4309-8081-f96cc69414f6\",\"elementid\":\"5e3a90cb-f170-486b-8862-656eac76589a\",\"modelid\":\"38c30d92-eda2-40c2-aea6-e661c35a7057\"}];\n",
       "            \n",
       "            Bokeh.embed.embed_items(docs_json, render_items);\n",
       "          };\n",
       "          if (document.readyState != \"loading\") fn();\n",
       "          else document.addEventListener(\"DOMContentLoaded\", fn);\n",
       "        })();\n",
       "      },\n",
       "      function(Bokeh) {\n",
       "      }\n",
       "    ];\n",
       "  \n",
       "    function run_inline_js() {\n",
       "      \n",
       "      if ((window.Bokeh !== undefined) || (force === true)) {\n",
       "        for (var i = 0; i < inline_js.length; i++) {\n",
       "          inline_js[i](window.Bokeh);\n",
       "        }if (force === true) {\n",
       "          display_loaded();\n",
       "        }} else if (Date.now() < window._bokeh_timeout) {\n",
       "        setTimeout(run_inline_js, 100);\n",
       "      } else if (!window._bokeh_failed_load) {\n",
       "        console.log(\"Bokeh: BokehJS failed to load within specified timeout.\");\n",
       "        window._bokeh_failed_load = true;\n",
       "      } else if (force !== true) {\n",
       "        var cell = $(document.getElementById(\"5e3a90cb-f170-486b-8862-656eac76589a\")).parents('.cell').data().cell;\n",
       "        cell.output_area.append_execute_result(NB_LOAD_WARNING)\n",
       "      }\n",
       "  \n",
       "    }\n",
       "  \n",
       "    if (window._bokeh_is_loading === 0) {\n",
       "      console.log(\"Bokeh: BokehJS loaded, going straight to plotting\");\n",
       "      run_inline_js();\n",
       "    } else {\n",
       "      load_libs(js_urls, function() {\n",
       "        console.log(\"Bokeh: BokehJS plotting callback run at\", now());\n",
       "        run_inline_js();\n",
       "      });\n",
       "    }\n",
       "  }(this));\n",
       "</script>"
      ]
     },
     "metadata": {},
     "output_type": "display_data"
    }
   ],
   "source": [
    "\n",
    "#print \"auc: %.2g, on train: %.2g\" %(roc_auc, roc_auc_train)\n",
    "roc_df = pd.DataFrame({\"fpr\":fpr,\"tpr\":tpr}).set_index(\"fpr\")\n",
    "pr_df = pd.DataFrame({\"precision\": precision, \"recall\":recall}).set_index(\"recall\")\n",
    "roc_df[\"diag\"] = roc_df.index\n",
    "pr_df[\"random\"] = pr_df.precision.iloc[0]\n",
    "\n",
    "# roc curve\n",
    "roc_f = figure(width=400,height=400,title=\"roc, auc: %.2g, on train: %.2g\"  %(roc_auc, roc_auc_train) )\n",
    "roc_f.xaxis.axis_label = \"tpr\"\n",
    "auc_range= Range1d(0,1)\n",
    "roc_f.x_range = auc_range \n",
    "roc_f.y_range = auc_range \n",
    "roc_f.yaxis.axis_label = \"fpr\"\n",
    "roc_f.cross(fpr,tpr,size=5)\n",
    "roc_f.line(fpr,tpr,legend=\"roc\")\n",
    "roc_f.circle(fpr_train,tpr_train,size=5,color=\"red\", line_width=1)\n",
    "roc_f.line(fpr_train,tpr_train,color=\"red\",legend=\"roc on train\")\n",
    "roc_f.line([0,1],[0,1], color=\"grey\")\n",
    "\n",
    "# pr curve\n",
    "pr_f = figure(width=400,height=400,title=\"PR curve\")\n",
    "pr_f.xaxis.axis_label = \"recall\"\n",
    "pr_f.yaxis.axis_label = \"precision\"\n",
    "pr_f.cross(recall,precision,size=5)\n",
    "pr_f.line(recall,precision,legend=\"PR\")\n",
    "pr_f.circle(recall_train,precision_train,size=5,color=\"red\", line_width=1)\n",
    "pr_f.line(recall_train,precision_train,color=\"red\",legend=\"PR on train\")\n",
    "\n",
    "show(row(\n",
    "    pr_f,\n",
    "    roc_f\n",
    "))"
   ]
  },
  {
   "cell_type": "markdown",
   "metadata": {},
   "source": [
    "### Debug:  feature Importance"
   ]
  },
  {
   "cell_type": "code",
   "execution_count": null,
   "metadata": {
    "ExecuteTime": {
     "end_time": "2017-01-26T01:45:05.638525",
     "start_time": "2017-01-26T01:45:05.580080"
    },
    "collapsed": false
   },
   "outputs": [],
   "source": [
    "feature_imp = pd.DataFrame({\"importance\":model.feature_importances_}).set_index(feature_set.columns)\n",
    "feature_imp.sort_values(by=\"importance\",ascending=False)"
   ]
  },
  {
   "cell_type": "markdown",
   "metadata": {},
   "source": [
    "### Hyperparameter optimisation: Grid search optim\n"
   ]
  },
  {
   "cell_type": "code",
   "execution_count": 46,
   "metadata": {
    "ExecuteTime": {
     "end_time": "2017-01-26T02:30:48.816712",
     "start_time": "2017-01-26T02:30:48.805796"
    },
    "collapsed": false
   },
   "outputs": [],
   "source": [
    "# model : GradientBoostingClassifier, parameters: \n",
    "#loss : {‘deviance’, ‘exponential’},\n",
    "#learning_rate : float, optional (default=0.1)\n",
    "#n_estimators : int (default=100)\n",
    "#max_depth : integer, optional (default=3)\n",
    "#min_samples_split : int, float, optional (default=2)\n",
    "grids=dict()\n",
    "XDB_param_grid = {\n",
    "    \"model__loss\":  [\"deviance\", 'exponential'],\n",
    "    \"model__learning_rate\" : [0.1],\n",
    "    \"model__n_estimators\" : [100, 150],\n",
    "    \"model__max_depth\" : [2,3,5],\n",
    "    \"model__min_samples_split\" : [5,10,15]\n",
    "}\n",
    "grids[GradientBoostingClassifier] = XDB_param_grid"
   ]
  },
  {
   "cell_type": "code",
   "execution_count": 47,
   "metadata": {
    "ExecuteTime": {
     "end_time": "2017-01-26T02:30:49.256513",
     "start_time": "2017-01-26T02:30:49.252734"
    },
    "collapsed": true
   },
   "outputs": [],
   "source": [
    "# C :penalty\n",
    "# kernel : ‘linear’, ‘poly’, ‘rbf’, ‘sigmoid’, ‘precomputed’ \n",
    "SVC_param_grid = {\n",
    "   'model__C': [1e-7,1e-6,1e-5,0.1],\n",
    "    \"model__kernel\": [\"rbf\",\"linear\"],\n",
    "    #\"model_degree\" : [1,3,5], # polynomial degrees\n",
    "    \"model__gamma\" : [\"auto\"], # kernel coef (rbf)\n",
    "    #\"coef0\" # for poly, signmoid\n",
    "    \"model__tol\" : [1e-3,1e-2]\n",
    "}\n",
    "grids[SVC] = SVC_param_grid"
   ]
  },
  {
   "cell_type": "code",
   "execution_count": 48,
   "metadata": {
    "ExecuteTime": {
     "end_time": "2017-01-26T02:30:49.712997",
     "start_time": "2017-01-26T02:30:49.708845"
    },
    "collapsed": true
   },
   "outputs": [],
   "source": [
    "# model : RandomForestClassifier, parameters: \n",
    "# n_estimators : int (default=100)\n",
    "# criterion : \"gini\",\"entropy\"\n",
    "# max_features : auto , fraction\n",
    "# max_depth : integer, optional (default=3)\n",
    "# min_samples_split : int, float, optional (default=2)\n",
    "\n",
    "RF_param_grid = {\n",
    "    \"model__criterion\":  [\"entropy\"],\n",
    "    \"model__n_estimators\" : [50,100,150],\n",
    "    \"model__max_features\" : [\"auto\"],\n",
    "    \"model__max_depth\" : [20,30,40],\n",
    "    \"model__min_samples_split\" : [5,10,15]\n",
    "}\n",
    "grids[RandomForestClassifier] = RF_param_grid"
   ]
  },
  {
   "cell_type": "code",
   "execution_count": 49,
   "metadata": {
    "ExecuteTime": {
     "end_time": "2017-01-26T02:31:40.773237",
     "start_time": "2017-01-26T02:30:50.272939"
    },
    "collapsed": false
   },
   "outputs": [
    {
     "name": "stdout",
     "output_type": "stream",
     "text": [
      "Fitting 4 folds for each of 27 candidates, totalling 108 fits\n"
     ]
    },
    {
     "name": "stderr",
     "output_type": "stream",
     "text": [
      "[Parallel(n_jobs=-1)]: Done  34 tasks      | elapsed:   18.1s\n",
      "[Parallel(n_jobs=-1)]: Done 108 out of 108 | elapsed:   48.6s finished\n"
     ]
    },
    {
     "name": "stdout",
     "output_type": "stream",
     "text": [
      "Best: 0.429978 using {'model__n_estimators': 100, 'model__max_features': 'auto', 'model__max_depth': 40, 'model__min_samples_split': 15, 'model__criterion': 'entropy'}\n"
     ]
    }
   ],
   "source": [
    "m  = type(dict(pipeline.steps)[\"model\"])\n",
    "param_grid=grids[m]\n",
    "\n",
    "splits = splitting_strategy.split(feature_mat,label_mat,device_groups)\n",
    "#kfold = StratifiedKFold(n_splits=6, shuffle=True)\n",
    "grid_search = GridSearchCV(\n",
    "    pipeline, \n",
    "    param_grid,\n",
    "    scoring=\"f1\",\n",
    "    n_jobs=-1,\n",
    "    verbose=1,\n",
    "    cv=splits\n",
    ")\n",
    "grid_result = grid_search.fit(feature_mat,label_mat)\n",
    "\n",
    "\n",
    "# summarize results\n",
    "print(\"Best: %f using %s\" % (grid_result.best_score_, grid_result.best_params_))\n",
    "means = grid_result.cv_results_['mean_test_score']\n",
    "stds = grid_result.cv_results_['std_test_score']\n",
    "params = grid_result.cv_results_['params']"
   ]
  },
  {
   "cell_type": "code",
   "execution_count": 50,
   "metadata": {
    "ExecuteTime": {
     "end_time": "2017-01-26T02:31:55.602592",
     "start_time": "2017-01-26T02:31:55.550199"
    },
    "collapsed": false
   },
   "outputs": [],
   "source": [
    "model_name = \"device_time\"\n",
    "\n",
    "from sklearn.externals import joblib\n",
    "import pickle\n",
    "joblib.dump(grid_result.best_estimator_, 'model_%s.pkl' % model_name) \n",
    "#joblib.dump(pipeline, 'model_%s.pkl' % model_name) \n",
    "features = feature_set.columns\n",
    "with open('model_%s.feat' % model_name, \"w+\") as f: \n",
    "    pickle.dump(features,f)"
   ]
  },
  {
   "cell_type": "code",
   "execution_count": null,
   "metadata": {
    "ExecuteTime": {
     "end_time": "2017-01-25T02:06:57.775105",
     "start_time": "2017-01-25T02:06:57.276150"
    },
    "collapsed": false
   },
   "outputs": [],
   "source": [
    "device_mat = sub_feature_set[device_model_features]\n",
    "predicted_device = device_model.predict_proba(device_mat)"
   ]
  },
  {
   "cell_type": "code",
   "execution_count": null,
   "metadata": {
    "collapsed": true
   },
   "outputs": [],
   "source": []
  }
 ],
 "metadata": {
  "hide_input": false,
  "kernelspec": {
   "display_name": "Python 2",
   "language": "python",
   "name": "python2"
  },
  "language_info": {
   "codemirror_mode": {
    "name": "ipython",
    "version": 2
   },
   "file_extension": ".py",
   "mimetype": "text/x-python",
   "name": "python",
   "nbconvert_exporter": "python",
   "pygments_lexer": "ipython2",
   "version": "2.7.12"
  },
  "notify_time": "5"
 },
 "nbformat": 4,
 "nbformat_minor": 2
}
