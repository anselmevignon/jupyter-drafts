{
 "cells": [
  {
   "cell_type": "code",
   "execution_count": 1,
   "metadata": {
    "ExecuteTime": {
     "end_time": "2017-01-26T09:48:26.883970",
     "start_time": "2017-01-26T09:48:26.290498"
    },
    "collapsed": false
   },
   "outputs": [
    {
     "data": {
      "text/html": [
       "\n",
       "    <div class=\"bk-root\">\n",
       "        <a href=\"http://bokeh.pydata.org\" target=\"_blank\" class=\"bk-logo bk-logo-small bk-logo-notebook\"></a>\n",
       "        <span id=\"66dd650a-da95-432b-8bdd-28fcc501cd5f\">Loading BokehJS ...</span>\n",
       "    </div>"
      ]
     },
     "metadata": {},
     "output_type": "display_data"
    },
    {
     "data": {
      "application/javascript": [
       "\n",
       "(function(global) {\n",
       "  function now() {\n",
       "    return new Date();\n",
       "  }\n",
       "\n",
       "  var force = true;\n",
       "\n",
       "  if (typeof (window._bokeh_onload_callbacks) === \"undefined\" || force === true) {\n",
       "    window._bokeh_onload_callbacks = [];\n",
       "    window._bokeh_is_loading = undefined;\n",
       "  }\n",
       "\n",
       "\n",
       "  \n",
       "  if (typeof (window._bokeh_timeout) === \"undefined\" || force === true) {\n",
       "    window._bokeh_timeout = Date.now() + 5000;\n",
       "    window._bokeh_failed_load = false;\n",
       "  }\n",
       "\n",
       "  var NB_LOAD_WARNING = {'data': {'text/html':\n",
       "     \"<div style='background-color: #fdd'>\\n\"+\n",
       "     \"<p>\\n\"+\n",
       "     \"BokehJS does not appear to have successfully loaded. If loading BokehJS from CDN, this \\n\"+\n",
       "     \"may be due to a slow or bad network connection. Possible fixes:\\n\"+\n",
       "     \"</p>\\n\"+\n",
       "     \"<ul>\\n\"+\n",
       "     \"<li>re-rerun `output_notebook()` to attempt to load from CDN again, or</li>\\n\"+\n",
       "     \"<li>use INLINE resources instead, as so:</li>\\n\"+\n",
       "     \"</ul>\\n\"+\n",
       "     \"<code>\\n\"+\n",
       "     \"from bokeh.resources import INLINE\\n\"+\n",
       "     \"output_notebook(resources=INLINE)\\n\"+\n",
       "     \"</code>\\n\"+\n",
       "     \"</div>\"}};\n",
       "\n",
       "  function display_loaded() {\n",
       "    if (window.Bokeh !== undefined) {\n",
       "      document.getElementById(\"66dd650a-da95-432b-8bdd-28fcc501cd5f\").textContent = \"BokehJS successfully loaded.\";\n",
       "    } else if (Date.now() < window._bokeh_timeout) {\n",
       "      setTimeout(display_loaded, 100)\n",
       "    }\n",
       "  }\n",
       "\n",
       "  function run_callbacks() {\n",
       "    window._bokeh_onload_callbacks.forEach(function(callback) { callback() });\n",
       "    delete window._bokeh_onload_callbacks\n",
       "    console.info(\"Bokeh: all callbacks have finished\");\n",
       "  }\n",
       "\n",
       "  function load_libs(js_urls, callback) {\n",
       "    window._bokeh_onload_callbacks.push(callback);\n",
       "    if (window._bokeh_is_loading > 0) {\n",
       "      console.log(\"Bokeh: BokehJS is being loaded, scheduling callback at\", now());\n",
       "      return null;\n",
       "    }\n",
       "    if (js_urls == null || js_urls.length === 0) {\n",
       "      run_callbacks();\n",
       "      return null;\n",
       "    }\n",
       "    console.log(\"Bokeh: BokehJS not loaded, scheduling load and callback at\", now());\n",
       "    window._bokeh_is_loading = js_urls.length;\n",
       "    for (var i = 0; i < js_urls.length; i++) {\n",
       "      var url = js_urls[i];\n",
       "      var s = document.createElement('script');\n",
       "      s.src = url;\n",
       "      s.async = false;\n",
       "      s.onreadystatechange = s.onload = function() {\n",
       "        window._bokeh_is_loading--;\n",
       "        if (window._bokeh_is_loading === 0) {\n",
       "          console.log(\"Bokeh: all BokehJS libraries loaded\");\n",
       "          run_callbacks()\n",
       "        }\n",
       "      };\n",
       "      s.onerror = function() {\n",
       "        console.warn(\"failed to load library \" + url);\n",
       "      };\n",
       "      console.log(\"Bokeh: injecting script tag for BokehJS library: \", url);\n",
       "      document.getElementsByTagName(\"head\")[0].appendChild(s);\n",
       "    }\n",
       "  };var element = document.getElementById(\"66dd650a-da95-432b-8bdd-28fcc501cd5f\");\n",
       "  if (element == null) {\n",
       "    console.log(\"Bokeh: ERROR: autoload.js configured with elementid '66dd650a-da95-432b-8bdd-28fcc501cd5f' but no matching script tag was found. \")\n",
       "    return false;\n",
       "  }\n",
       "\n",
       "  var js_urls = [\"https://cdn.pydata.org/bokeh/release/bokeh-0.12.4.min.js\", \"https://cdn.pydata.org/bokeh/release/bokeh-widgets-0.12.4.min.js\"];\n",
       "\n",
       "  var inline_js = [\n",
       "    function(Bokeh) {\n",
       "      Bokeh.set_log_level(\"info\");\n",
       "    },\n",
       "    \n",
       "    function(Bokeh) {\n",
       "      \n",
       "      document.getElementById(\"66dd650a-da95-432b-8bdd-28fcc501cd5f\").textContent = \"BokehJS is loading...\";\n",
       "    },\n",
       "    function(Bokeh) {\n",
       "      console.log(\"Bokeh: injecting CSS: https://cdn.pydata.org/bokeh/release/bokeh-0.12.4.min.css\");\n",
       "      Bokeh.embed.inject_css(\"https://cdn.pydata.org/bokeh/release/bokeh-0.12.4.min.css\");\n",
       "      console.log(\"Bokeh: injecting CSS: https://cdn.pydata.org/bokeh/release/bokeh-widgets-0.12.4.min.css\");\n",
       "      Bokeh.embed.inject_css(\"https://cdn.pydata.org/bokeh/release/bokeh-widgets-0.12.4.min.css\");\n",
       "    }\n",
       "  ];\n",
       "\n",
       "  function run_inline_js() {\n",
       "    \n",
       "    if ((window.Bokeh !== undefined) || (force === true)) {\n",
       "      for (var i = 0; i < inline_js.length; i++) {\n",
       "        inline_js[i](window.Bokeh);\n",
       "      }if (force === true) {\n",
       "        display_loaded();\n",
       "      }} else if (Date.now() < window._bokeh_timeout) {\n",
       "      setTimeout(run_inline_js, 100);\n",
       "    } else if (!window._bokeh_failed_load) {\n",
       "      console.log(\"Bokeh: BokehJS failed to load within specified timeout.\");\n",
       "      window._bokeh_failed_load = true;\n",
       "    } else if (force !== true) {\n",
       "      var cell = $(document.getElementById(\"66dd650a-da95-432b-8bdd-28fcc501cd5f\")).parents('.cell').data().cell;\n",
       "      cell.output_area.append_execute_result(NB_LOAD_WARNING)\n",
       "    }\n",
       "\n",
       "  }\n",
       "\n",
       "  if (window._bokeh_is_loading === 0) {\n",
       "    console.log(\"Bokeh: BokehJS loaded, going straight to plotting\");\n",
       "    run_inline_js();\n",
       "  } else {\n",
       "    load_libs(js_urls, function() {\n",
       "      console.log(\"Bokeh: BokehJS plotting callback run at\", now());\n",
       "      run_inline_js();\n",
       "    });\n",
       "  }\n",
       "}(this));"
      ]
     },
     "metadata": {},
     "output_type": "display_data"
    }
   ],
   "source": [
    "import pandas as pd\n",
    "import numpy as np\n",
    "import calendar\n",
    "\n",
    "from bokeh.charts import output_notebook, Scatter, Bar, show, output_file, Line, BoxPlot, Scatter\n",
    "from bokeh.plotting import figure\n",
    "from bokeh.layouts import row, column, gridplot\n",
    "from bokeh.charts import output_notebook, Scatter, Bar, show, output_file, Line, BoxPlot, Scatter\n",
    "from bokeh.io import hplot\n",
    "from bokeh.models.ranges import Range1d\n",
    "\n",
    "from ML import filter_devices, build_deriv, resample_per_device, subsample_negatives\n",
    "from fft import fft_peak\n",
    "\n",
    "from sklearn.model_selection import cross_val_score\n",
    "from sklearn.ensemble import GradientBoostingClassifier, RandomForestClassifier\n",
    "from sklearn.pipeline import Pipeline\n",
    "from sklearn.decomposition import PCA\n",
    "from sklearn.preprocessing import Normalizer\n",
    "from sklearn.metrics import roc_curve, auc\n",
    "from sklearn.svm import SVC, NuSVC\n",
    "from sklearn.model_selection import LeavePGroupsOut, GroupShuffleSplit\n",
    "from sklearn.model_selection import train_test_split\n",
    "from sklearn.metrics import roc_curve, accuracy_score,precision_recall_curve, auc\n",
    "from sklearn.model_selection import GridSearchCV\n",
    "from sklearn.model_selection import StratifiedKFold\n",
    "\n",
    "output_notebook() "
   ]
  },
  {
   "cell_type": "code",
   "execution_count": 2,
   "metadata": {
    "ExecuteTime": {
     "end_time": "2017-01-26T09:48:27.043807",
     "start_time": "2017-01-26T09:48:26.885040"
    },
    "collapsed": false
   },
   "outputs": [],
   "source": [
    "INPUT=\"data/train.csv\" \n",
    "dataset = pd.read_csv(INPUT,index_col=[0,1],parse_dates=[0])"
   ]
  },
  {
   "cell_type": "markdown",
   "metadata": {},
   "source": [
    "## Build Training set"
   ]
  },
  {
   "cell_type": "code",
   "execution_count": 3,
   "metadata": {
    "ExecuteTime": {
     "end_time": "2017-01-26T09:48:27.052636",
     "start_time": "2017-01-26T09:48:27.044983"
    },
    "collapsed": false
   },
   "outputs": [],
   "source": [
    "def pre_filter(df):\n",
    "    res = df.copy()\n",
    "    del res[\"attribute1\"]\n",
    "    del res[\"attribute3\"]\n",
    "    #del res[\"attribute5\"]\n",
    "    dt_list = [\"attribute2\"]#,\"attribute3\"]\n",
    "    for c in dt_list:\n",
    "        deriv = build_deriv(res,c)\n",
    "        res[\"dt_%s\" % c] = deriv\n",
    "        res[\"dt2_%s\" % c] =  build_deriv(res,c,2)\n",
    "    return res.fillna(0)\n",
    "\n",
    "def post_filter(df):\n",
    "    res = df.copy()\n",
    "    res = filter_devices(res)\n",
    "    for col in res.columns:\n",
    "        if \"min\" in col:\n",
    "            del res[col]\n",
    "        if \"std\" in col:\n",
    "            del res[col]\n",
    "    return res"
   ]
  },
  {
   "cell_type": "code",
   "execution_count": 4,
   "metadata": {
    "ExecuteTime": {
     "end_time": "2017-01-26T09:48:31.932221",
     "start_time": "2017-01-26T09:48:27.054126"
    },
    "collapsed": false
   },
   "outputs": [],
   "source": [
    "pre_dataset = pre_filter(dataset)\n",
    "#print feature_set.columns\n",
    "\n",
    "features = [f for f in pre_dataset.columns if \"att\" in f]\n",
    "def f_to_dict(feature):\n",
    "    indexes = dict( (\"avg_over%i_%s\" % (i,feature), lambda df: df[:(i+1)].mean()) for i in [0,1,2,3,4,7,14])\n",
    "    d = {\n",
    "            \"min_%s\" % feature:np.min,\n",
    "            \"max_%s\" % feature:np.max,\n",
    "            \"mean_%s\" % feature :np.mean,\n",
    "            \"std_%s\" % feature:np.std\n",
    "        }\n",
    "    d.update(indexes)\n",
    "    dft_list = [\"attribute4\",\"attribute5\", \"attribute6\",\"attribute7\",\"attribute9\"]\n",
    "    if feature in dft_list:\n",
    "        d[\"dft_p0_ind%s\" % feature] = lambda r : fft_peak(r,p=0,index_no_value=True)\n",
    "        d[\"dft_p0_val%s\" % feature] = lambda r : fft_peak(r,p=0,index_no_value=False)\n",
    "    return d\n",
    "\n",
    "agg_dict = dict( (f,f_to_dict(f)) for f in features )"
   ]
  },
  {
   "cell_type": "code",
   "execution_count": 5,
   "metadata": {
    "ExecuteTime": {
     "end_time": "2017-01-26T09:48:32.078531",
     "start_time": "2017-01-26T09:48:31.933651"
    },
    "collapsed": false
   },
   "outputs": [],
   "source": [
    "# bugfix: rolling aggregation after group by does not handle multiple aggregation per column..\n",
    "# we fix this by flattening the aggregation dict and repeating the data within the dataframe\n",
    "final_columns = [k for c in agg_dict for k in agg_dict[c]]\n",
    "input_columns = [c for c in agg_dict for k in agg_dict[c]]\n",
    "flat_agg_dict = dict( (k,agg_dict[c][k]) for c in agg_dict for k in agg_dict[c])\n",
    "dup_dataset = pre_dataset[input_columns].sort_index(level=\"date\").sort_index(level=\"device\")\n",
    "dup_dataset.columns = final_columns"
   ]
  },
  {
   "cell_type": "code",
   "execution_count": 6,
   "metadata": {
    "ExecuteTime": {
     "end_time": "2017-01-26T09:51:08.444242",
     "start_time": "2017-01-26T09:48:32.079976"
    },
    "collapsed": false,
    "scrolled": true
   },
   "outputs": [],
   "source": [
    "#\n",
    "# instead of simply grouping by, we roll over the dataset...\n",
    "# using the \"hacky\" flat version, to avoid issues.\n",
    "# The hack increase the memory consumption quite a lot, but it should still be better than\n",
    "# explicitely building the windowed lines before aggregating over it. \n",
    "#\n",
    "\n",
    "feature_set = resample_per_device(dup_dataset) \\\n",
    "    .groupby(level=\"device\",as_index=False) \\\n",
    "    .rolling(window=360,min_periods=1) \\\n",
    "    .agg(flat_agg_dict) \\\n",
    "    .reset_index(level=0,drop=True) \n",
    "feature_set = post_filter(feature_set).sortlevel(level=\"device\")"
   ]
  },
  {
   "cell_type": "code",
   "execution_count": 7,
   "metadata": {
    "ExecuteTime": {
     "end_time": "2017-01-26T09:51:08.450602",
     "start_time": "2017-01-26T09:51:08.445829"
    },
    "collapsed": false
   },
   "outputs": [
    {
     "name": "stdout",
     "output_type": "stream",
     "text": [
      "no feature filtering\n"
     ]
    }
   ],
   "source": [
    "#\n",
    "# feature filtering : removing features with a weak contribution to the last computed model\n",
    "#\n",
    "feat_filtering_thres = 5e-3\n",
    "try : \n",
    "    kept_features = feature_imp[feature_imp.importance > feat_filtering_thres]\n",
    "    print \"threshold : %g, kept: %i features\" % (feat_filtering_thres,kept_features.size)\n",
    "    filtered = feature_set.filter(items=feature_imp.index.sort_values())\n",
    "    print \"filtering devices\"\n",
    "    feature_set = filtered\n",
    "except:\n",
    "    print \"no feature filtering\""
   ]
  },
  {
   "cell_type": "code",
   "execution_count": 8,
   "metadata": {
    "ExecuteTime": {
     "end_time": "2017-01-26T09:51:12.186086",
     "start_time": "2017-01-26T09:51:08.451690"
    },
    "collapsed": false
   },
   "outputs": [],
   "source": [
    "#\n",
    "# use label_window to expand label to neighboring days.\n",
    "# basically, a mainrtenance x days before failure is still OK\n",
    "#\n",
    "label_window = 7\n",
    "\n",
    "label_set =  resample_per_device(dataset[[\"failure\"]]) \\\n",
    "    .sortlevel(level=\"date\",ascending=False) \\\n",
    "    .groupby(level=\"device\",as_index=False) \\\n",
    "    .rolling(window=label_window, min_periods=1) \\\n",
    "    .sum() \\\n",
    "    .reset_index(level=0,drop=True) \n",
    "label_set = filter_devices(label_set).sortlevel(level=\"device\")\n"
   ]
  },
  {
   "cell_type": "code",
   "execution_count": 9,
   "metadata": {
    "ExecuteTime": {
     "end_time": "2017-01-26T09:51:12.454329",
     "start_time": "2017-01-26T09:51:12.187308"
    },
    "collapsed": false
   },
   "outputs": [
    {
     "name": "stdout",
     "output_type": "stream",
     "text": [
      " 126681 with 630 positives\n",
      "new size 6933\n"
     ]
    }
   ],
   "source": [
    "#\n",
    "# subsampling the negatives, to balance classes\n",
    "#\n",
    "negative_subsampling_fraction = 5e-2\n",
    "sub_label_set , sub_feature_set = subsample_negatives(negative_subsampling_fraction,label_set,feature_set)\n"
   ]
  },
  {
   "cell_type": "code",
   "execution_count": 10,
   "metadata": {
    "ExecuteTime": {
     "end_time": "2017-01-26T09:51:12.462549",
     "start_time": "2017-01-26T09:51:12.455751"
    },
    "collapsed": false
   },
   "outputs": [],
   "source": [
    "# compute groups (devices), to be used when splitting the training set (train/test)\n",
    "# This is useful to avoid the bias selection generated by a temporal model\n",
    "# (Basically, a device used in train cannot also be in test, because its attributes will be very similar)\n",
    "# this is why the cross-val strategy must split by device, and not merely at random\n",
    "devices = sub_label_set.index.get_level_values(\"device\")\n",
    "device_index = dict((device,i) for i,device in enumerate(devices.unique()))\n",
    "n_dev = len(device_index)\n",
    "device_groups = np.array(devices.to_series().map(device_index).tolist())"
   ]
  },
  {
   "cell_type": "markdown",
   "metadata": {},
   "source": [
    "## Run model"
   ]
  },
  {
   "cell_type": "code",
   "execution_count": 22,
   "metadata": {
    "ExecuteTime": {
     "end_time": "2017-01-26T09:52:28.458555",
     "start_time": "2017-01-26T09:52:28.448123"
    },
    "collapsed": false
   },
   "outputs": [
    {
     "name": "stdout",
     "output_type": "stream",
     "text": [
      "using last optimized model\n"
     ]
    }
   ],
   "source": [
    "feature_mat = sub_feature_set.as_matrix()\n",
    "label_mat = sub_label_set.as_matrix().ravel()\n",
    "\n",
    "splitting_strategy = GroupShuffleSplit(n_splits=4,test_size=0.33)\n",
    "                                     \n",
    "pca = PCA()\n",
    "norm = Normalizer()\n",
    "\n",
    "#model=GradientBoostingClassifier()\n",
    "model = RandomForestClassifier()\n",
    "#model = SVC(probability=True)\n",
    "\n",
    "#pipeline= Pipeline([('normalize', norm),('reduce_dim', pca),(\"model\",model)])\n",
    "pipeline= Pipeline([(\"model\",model)])\n",
    "#pipeline = pipeline_optimizer._fitted_pipeline\n",
    "\n",
    "try:\n",
    "    # use best parameters if available\n",
    "    #\n",
    "    pipeline.set_params(**grid_result.best_params_)\n",
    "    print \"using last optimized model\"\n",
    "except:\n",
    "    print \"no optim result, or bad ones: let's keep the default ones\"\n",
    "    pass"
   ]
  },
  {
   "cell_type": "code",
   "execution_count": 26,
   "metadata": {
    "ExecuteTime": {
     "end_time": "2017-01-26T09:53:12.077966",
     "start_time": "2017-01-26T09:53:10.743538"
    },
    "collapsed": false
   },
   "outputs": [
    {
     "name": "stdout",
     "output_type": "stream",
     "text": [
      "accurracy: 0.435876, std(0.0144229))\n"
     ]
    },
    {
     "name": "stderr",
     "output_type": "stream",
     "text": [
      "[Parallel(n_jobs=6)]: Done   4 out of   4 | elapsed:    1.1s finished\n"
     ]
    }
   ],
   "source": [
    "scores = cross_val_score(\n",
    "    pipeline,\n",
    "    feature_mat,\n",
    "    label_mat,\n",
    "    cv=splitting_strategy,\n",
    "    groups = device_groups,\n",
    "    verbose=1,\n",
    "    scoring=\"f1\",\n",
    "    n_jobs=6)                          \n",
    "print \"accurracy: %g, std(%g))\" % (scores.mean(), scores.std())"
   ]
  },
  {
   "cell_type": "markdown",
   "metadata": {},
   "source": [
    "### Eval Model"
   ]
  },
  {
   "cell_type": "code",
   "execution_count": 27,
   "metadata": {
    "ExecuteTime": {
     "end_time": "2017-01-26T09:53:15.835191",
     "start_time": "2017-01-26T09:53:14.749605"
    },
    "collapsed": false,
    "hide_input": false
   },
   "outputs": [],
   "source": [
    "#\n",
    "# build the curve of PR, AUC on test and on train\n",
    "# \n",
    "\n",
    "X_train, X_test, Y_train, Y_test = train_test_split(feature_mat,label_mat,test_size=0.3)\n",
    "# calculate the fpr and tpr for all thresholds of the classification\n",
    "\n",
    "fitted = pipeline.fit(X_train,Y_train)\n",
    "probs = fitted.predict_proba(X_test)\n",
    "preds = probs[:,1]\n",
    "preds_train = fitted.predict_proba(X_train)[:,1]\n",
    "fpr, tpr, threshold = roc_curve(Y_test, preds)\n",
    "fpr_train, tpr_train, threshold_train = roc_curve(Y_train, preds_train)\n",
    "roc_auc = auc(fpr, tpr)\n",
    "roc_auc_train = auc(fpr_train, tpr_train)\n",
    "precision, recall, ths = precision_recall_curve(Y_test, preds)\n",
    "precision_train, recall_train, ths_train = precision_recall_curve(Y_train, preds_train)"
   ]
  },
  {
   "cell_type": "code",
   "execution_count": 28,
   "metadata": {
    "ExecuteTime": {
     "end_time": "2017-01-26T09:53:16.341195",
     "start_time": "2017-01-26T09:53:16.225858"
    },
    "collapsed": false
   },
   "outputs": [
    {
     "data": {
      "text/html": [
       "\n",
       "\n",
       "    <div class=\"bk-root\">\n",
       "        <div class=\"bk-plotdiv\" id=\"3feed2b1-5301-4fc7-bbff-27bb734656da\"></div>\n",
       "    </div>\n",
       "<script type=\"text/javascript\">\n",
       "  \n",
       "  (function(global) {\n",
       "    function now() {\n",
       "      return new Date();\n",
       "    }\n",
       "  \n",
       "    var force = false;\n",
       "  \n",
       "    if (typeof (window._bokeh_onload_callbacks) === \"undefined\" || force === true) {\n",
       "      window._bokeh_onload_callbacks = [];\n",
       "      window._bokeh_is_loading = undefined;\n",
       "    }\n",
       "  \n",
       "  \n",
       "    \n",
       "    if (typeof (window._bokeh_timeout) === \"undefined\" || force === true) {\n",
       "      window._bokeh_timeout = Date.now() + 0;\n",
       "      window._bokeh_failed_load = false;\n",
       "    }\n",
       "  \n",
       "    var NB_LOAD_WARNING = {'data': {'text/html':\n",
       "       \"<div style='background-color: #fdd'>\\n\"+\n",
       "       \"<p>\\n\"+\n",
       "       \"BokehJS does not appear to have successfully loaded. If loading BokehJS from CDN, this \\n\"+\n",
       "       \"may be due to a slow or bad network connection. Possible fixes:\\n\"+\n",
       "       \"</p>\\n\"+\n",
       "       \"<ul>\\n\"+\n",
       "       \"<li>re-rerun `output_notebook()` to attempt to load from CDN again, or</li>\\n\"+\n",
       "       \"<li>use INLINE resources instead, as so:</li>\\n\"+\n",
       "       \"</ul>\\n\"+\n",
       "       \"<code>\\n\"+\n",
       "       \"from bokeh.resources import INLINE\\n\"+\n",
       "       \"output_notebook(resources=INLINE)\\n\"+\n",
       "       \"</code>\\n\"+\n",
       "       \"</div>\"}};\n",
       "  \n",
       "    function display_loaded() {\n",
       "      if (window.Bokeh !== undefined) {\n",
       "        document.getElementById(\"3feed2b1-5301-4fc7-bbff-27bb734656da\").textContent = \"BokehJS successfully loaded.\";\n",
       "      } else if (Date.now() < window._bokeh_timeout) {\n",
       "        setTimeout(display_loaded, 100)\n",
       "      }\n",
       "    }\n",
       "  \n",
       "    function run_callbacks() {\n",
       "      window._bokeh_onload_callbacks.forEach(function(callback) { callback() });\n",
       "      delete window._bokeh_onload_callbacks\n",
       "      console.info(\"Bokeh: all callbacks have finished\");\n",
       "    }\n",
       "  \n",
       "    function load_libs(js_urls, callback) {\n",
       "      window._bokeh_onload_callbacks.push(callback);\n",
       "      if (window._bokeh_is_loading > 0) {\n",
       "        console.log(\"Bokeh: BokehJS is being loaded, scheduling callback at\", now());\n",
       "        return null;\n",
       "      }\n",
       "      if (js_urls == null || js_urls.length === 0) {\n",
       "        run_callbacks();\n",
       "        return null;\n",
       "      }\n",
       "      console.log(\"Bokeh: BokehJS not loaded, scheduling load and callback at\", now());\n",
       "      window._bokeh_is_loading = js_urls.length;\n",
       "      for (var i = 0; i < js_urls.length; i++) {\n",
       "        var url = js_urls[i];\n",
       "        var s = document.createElement('script');\n",
       "        s.src = url;\n",
       "        s.async = false;\n",
       "        s.onreadystatechange = s.onload = function() {\n",
       "          window._bokeh_is_loading--;\n",
       "          if (window._bokeh_is_loading === 0) {\n",
       "            console.log(\"Bokeh: all BokehJS libraries loaded\");\n",
       "            run_callbacks()\n",
       "          }\n",
       "        };\n",
       "        s.onerror = function() {\n",
       "          console.warn(\"failed to load library \" + url);\n",
       "        };\n",
       "        console.log(\"Bokeh: injecting script tag for BokehJS library: \", url);\n",
       "        document.getElementsByTagName(\"head\")[0].appendChild(s);\n",
       "      }\n",
       "    };var element = document.getElementById(\"3feed2b1-5301-4fc7-bbff-27bb734656da\");\n",
       "    if (element == null) {\n",
       "      console.log(\"Bokeh: ERROR: autoload.js configured with elementid '3feed2b1-5301-4fc7-bbff-27bb734656da' but no matching script tag was found. \")\n",
       "      return false;\n",
       "    }\n",
       "  \n",
       "    var js_urls = [];\n",
       "  \n",
       "    var inline_js = [\n",
       "      function(Bokeh) {\n",
       "        (function() {\n",
       "          var fn = function() {\n",
       "            var docs_json = {\"ab59e728-4375-404c-947f-1dd8f3a649bc\":{\"roots\":{\"references\":[{\"attributes\":{\"bottom_units\":\"screen\",\"fill_alpha\":{\"value\":0.5},\"fill_color\":{\"value\":\"lightgrey\"},\"left_units\":\"screen\",\"level\":\"overlay\",\"line_alpha\":{\"value\":1.0},\"line_color\":{\"value\":\"black\"},\"line_dash\":[4,4],\"line_width\":{\"value\":2},\"plot\":null,\"render_mode\":\"css\",\"right_units\":\"screen\",\"top_units\":\"screen\"},\"id\":\"435fce9b-8458-4820-a078-e3561f8198b2\",\"type\":\"BoxAnnotation\"},{\"attributes\":{},\"id\":\"ea3165e1-04fa-4f5c-ba1c-c32f4eb0d765\",\"type\":\"BasicTickFormatter\"},{\"attributes\":{\"label\":{\"value\":\"roc on train\"},\"renderers\":[{\"id\":\"da35c622-7264-4d8b-b691-e11e43c7ce4c\",\"type\":\"GlyphRenderer\"}]},\"id\":\"404c325e-1f0e-470e-9429-8821d1885d97\",\"type\":\"LegendItem\"},{\"attributes\":{\"active_drag\":\"auto\",\"active_scroll\":\"auto\",\"active_tap\":\"auto\",\"tools\":[{\"id\":\"800e2f2b-ea2e-4449-b9ed-4c5482b0e383\",\"type\":\"PanTool\"},{\"id\":\"e3d515be-654d-418f-9d86-5aeb3d4e9a37\",\"type\":\"WheelZoomTool\"},{\"id\":\"dfdeb9db-02c9-4af0-b76d-1eaa12080b4e\",\"type\":\"BoxZoomTool\"},{\"id\":\"cfd160d1-1008-4928-9ba8-0a08a7a7f52d\",\"type\":\"SaveTool\"},{\"id\":\"80f38056-b0d9-4c37-94b3-8eec7d3e7405\",\"type\":\"ResetTool\"},{\"id\":\"d7c83098-02f4-4c9c-ac12-f582d5764fc6\",\"type\":\"HelpTool\"}]},\"id\":\"6a554b5f-07f6-4fb0-9a1c-750215cab9b3\",\"type\":\"Toolbar\"},{\"attributes\":{\"fill_alpha\":{\"value\":0.1},\"fill_color\":{\"value\":\"#1f77b4\"},\"line_alpha\":{\"value\":0.1},\"line_color\":{\"value\":\"#1f77b4\"},\"size\":{\"units\":\"screen\",\"value\":5},\"x\":{\"field\":\"x\"},\"y\":{\"field\":\"y\"}},\"id\":\"ec2036e9-21e0-41fe-b184-f3c3a16fe343\",\"type\":\"Circle\"},{\"attributes\":{\"callback\":null,\"column_names\":[\"y\",\"x\"],\"data\":{\"x\":{\"__ndarray__\":\"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\",\"dtype\":\"float64\",\"shape\":[294]},\"y\":{\"__ndarray__\":\"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\",\"dtype\":\"float64\",\"shape\":[294]}}},\"id\":\"7cbd2538-d9b3-43e9-bd0b-544b83092bf6\",\"type\":\"ColumnDataSource\"},{\"attributes\":{\"line_alpha\":{\"value\":0.1},\"line_color\":{\"value\":\"#1f77b4\"},\"x\":{\"field\":\"x\"},\"y\":{\"field\":\"y\"}},\"id\":\"5c48fe8b-9f58-4a1c-af9b-9a4947fea4a8\",\"type\":\"Line\"},{\"attributes\":{\"plot\":{\"id\":\"d07ca0b7-ee1a-4d57-8f10-36827ae6ee21\",\"subtype\":\"Figure\",\"type\":\"Plot\"},\"ticker\":{\"id\":\"78e93c78-d0cc-42ca-93f1-e86f6659d0f6\",\"type\":\"BasicTicker\"}},\"id\":\"d99891c3-3e10-427f-a2da-bf448a5d1e74\",\"type\":\"Grid\"},{\"attributes\":{},\"id\":\"78e93c78-d0cc-42ca-93f1-e86f6659d0f6\",\"type\":\"BasicTicker\"},{\"attributes\":{\"line_color\":{\"value\":\"#1f77b4\"},\"x\":{\"field\":\"x\"},\"y\":{\"field\":\"y\"}},\"id\":\"bfe3177a-08d0-4d73-9104-85502b53f8cb\",\"type\":\"Line\"},{\"attributes\":{\"overlay\":{\"id\":\"435fce9b-8458-4820-a078-e3561f8198b2\",\"type\":\"BoxAnnotation\"},\"plot\":{\"id\":\"d07ca0b7-ee1a-4d57-8f10-36827ae6ee21\",\"subtype\":\"Figure\",\"type\":\"Plot\"}},\"id\":\"b723c80a-ef9b-4bad-9e9a-52acce3b3a83\",\"type\":\"BoxZoomTool\"},{\"attributes\":{\"plot\":{\"id\":\"6cf42ed0-898d-4d8d-a036-30007268714e\",\"subtype\":\"Figure\",\"type\":\"Plot\"}},\"id\":\"e3d515be-654d-418f-9d86-5aeb3d4e9a37\",\"type\":\"WheelZoomTool\"},{\"attributes\":{\"children\":[{\"id\":\"d07ca0b7-ee1a-4d57-8f10-36827ae6ee21\",\"subtype\":\"Figure\",\"type\":\"Plot\"},{\"id\":\"6cf42ed0-898d-4d8d-a036-30007268714e\",\"subtype\":\"Figure\",\"type\":\"Plot\"}]},\"id\":\"702abaaf-b06e-44c8-99d0-42ee65c555ae\",\"type\":\"Row\"},{\"attributes\":{\"label\":{\"value\":\"PR on train\"},\"renderers\":[{\"id\":\"c5519f6d-4d3a-4567-b9c5-334ebbe51d24\",\"type\":\"GlyphRenderer\"}]},\"id\":\"09cd0af9-808f-412c-b3df-c718e3d2e629\",\"type\":\"LegendItem\"},{\"attributes\":{\"label\":{\"value\":\"roc\"},\"renderers\":[{\"id\":\"d7e1fc71-d912-49f8-ba00-c4518bb7b6d9\",\"type\":\"GlyphRenderer\"}]},\"id\":\"59dc507f-5e47-46f1-8baf-3f3c2dcbc482\",\"type\":\"LegendItem\"},{\"attributes\":{\"data_source\":{\"id\":\"3b160713-1af8-4548-bad6-a757cc6e4076\",\"type\":\"ColumnDataSource\"},\"glyph\":{\"id\":\"8b2eb428-a991-464b-86da-c26f4b840ed1\",\"type\":\"Circle\"},\"hover_glyph\":null,\"nonselection_glyph\":{\"id\":\"97807f36-140f-47c8-b484-877366ffabc9\",\"type\":\"Circle\"},\"selection_glyph\":null},\"id\":\"661dedf3-2a5f-4ee3-a313-0e9447a32c3a\",\"type\":\"GlyphRenderer\"},{\"attributes\":{\"line_alpha\":{\"value\":0.1},\"line_color\":{\"value\":\"#1f77b4\"},\"x\":{\"field\":\"x\"},\"y\":{\"field\":\"y\"}},\"id\":\"2be6a3fe-19b0-4168-8508-6ac572710878\",\"type\":\"Line\"},{\"attributes\":{\"data_source\":{\"id\":\"7cbd2538-d9b3-43e9-bd0b-544b83092bf6\",\"type\":\"ColumnDataSource\"},\"glyph\":{\"id\":\"1b43f2fb-643b-4f7d-9301-38730acda518\",\"type\":\"Cross\"},\"hover_glyph\":null,\"nonselection_glyph\":{\"id\":\"8e702bba-91ae-45c7-958a-c53ced29e2d9\",\"type\":\"Cross\"},\"selection_glyph\":null},\"id\":\"7b096313-debf-4479-9275-d5e95cc34db1\",\"type\":\"GlyphRenderer\"},{\"attributes\":{\"data_source\":{\"id\":\"114d81aa-9e5e-4848-b589-a9a83f0a0ca3\",\"type\":\"ColumnDataSource\"},\"glyph\":{\"id\":\"5690be87-2055-4b22-8505-6472dd5ec61b\",\"type\":\"Cross\"},\"hover_glyph\":null,\"nonselection_glyph\":{\"id\":\"b2e10580-8f3f-4531-a3c3-d87d995ea83a\",\"type\":\"Cross\"},\"selection_glyph\":null},\"id\":\"a0c6c319-ac80-4782-9f98-70edf45daf65\",\"type\":\"GlyphRenderer\"},{\"attributes\":{},\"id\":\"d8285e4d-6b8b-4001-b32c-76fd6db777bf\",\"type\":\"BasicTickFormatter\"},{\"attributes\":{\"plot\":{\"id\":\"6cf42ed0-898d-4d8d-a036-30007268714e\",\"subtype\":\"Figure\",\"type\":\"Plot\"}},\"id\":\"80f38056-b0d9-4c37-94b3-8eec7d3e7405\",\"type\":\"ResetTool\"},{\"attributes\":{},\"id\":\"3b61750f-20e0-4fec-8af1-26e0da7239e0\",\"type\":\"BasicTickFormatter\"},{\"attributes\":{\"data_source\":{\"id\":\"5278992f-1c75-46ea-a076-cc77f3b66e44\",\"type\":\"ColumnDataSource\"},\"glyph\":{\"id\":\"a4ee1eb5-b61c-46e6-9904-28a7ebc5fbf1\",\"type\":\"Line\"},\"hover_glyph\":null,\"nonselection_glyph\":{\"id\":\"2be6a3fe-19b0-4168-8508-6ac572710878\",\"type\":\"Line\"},\"selection_glyph\":null},\"id\":\"a0e7ca09-f84b-4ab4-848f-155dd092bfc2\",\"type\":\"GlyphRenderer\"},{\"attributes\":{},\"id\":\"a907d259-783b-4c03-bee4-52e1226bbd14\",\"type\":\"BasicTicker\"},{\"attributes\":{\"callback\":null,\"column_names\":[\"y\",\"x\"],\"data\":{\"x\":{\"__ndarray__\":\"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\",\"dtype\":\"float64\",\"shape\":[973]},\"y\":{\"__ndarray__\":\"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\",\"dtype\":\"float64\",\"shape\":[973]}}},\"id\":\"114d81aa-9e5e-4848-b589-a9a83f0a0ca3\",\"type\":\"ColumnDataSource\"},{\"attributes\":{\"plot\":{\"id\":\"6cf42ed0-898d-4d8d-a036-30007268714e\",\"subtype\":\"Figure\",\"type\":\"Plot\"}},\"id\":\"800e2f2b-ea2e-4449-b9ed-4c5482b0e383\",\"type\":\"PanTool\"},{\"attributes\":{\"axis_label\":\"fpr\",\"formatter\":{\"id\":\"d8285e4d-6b8b-4001-b32c-76fd6db777bf\",\"type\":\"BasicTickFormatter\"},\"plot\":{\"id\":\"6cf42ed0-898d-4d8d-a036-30007268714e\",\"subtype\":\"Figure\",\"type\":\"Plot\"},\"ticker\":{\"id\":\"baf0920b-1bca-419f-8dd4-b27bfddc1623\",\"type\":\"BasicTicker\"}},\"id\":\"20bc76ff-f9f9-4c54-a4a7-9f5d88c278e1\",\"type\":\"LinearAxis\"},{\"attributes\":{\"fill_color\":{\"value\":\"#1f77b4\"},\"line_color\":{\"value\":\"#1f77b4\"},\"size\":{\"units\":\"screen\",\"value\":5},\"x\":{\"field\":\"x\"},\"y\":{\"field\":\"y\"}},\"id\":\"5690be87-2055-4b22-8505-6472dd5ec61b\",\"type\":\"Cross\"},{\"attributes\":{},\"id\":\"b8c339c8-4723-45e8-a92f-6e9284ac87b6\",\"type\":\"ToolEvents\"},{\"attributes\":{\"fill_color\":{\"value\":\"#1f77b4\"},\"line_color\":{\"value\":\"#1f77b4\"},\"size\":{\"units\":\"screen\",\"value\":5},\"x\":{\"field\":\"x\"},\"y\":{\"field\":\"y\"}},\"id\":\"1b43f2fb-643b-4f7d-9301-38730acda518\",\"type\":\"Cross\"},{\"attributes\":{\"callback\":null},\"id\":\"7708edd5-48d1-4d9a-9a4d-dcbb34478209\",\"type\":\"DataRange1d\"},{\"attributes\":{\"items\":[{\"id\":\"18e9918a-a8d2-483a-a50f-047aa8adfeff\",\"type\":\"LegendItem\"},{\"id\":\"09cd0af9-808f-412c-b3df-c718e3d2e629\",\"type\":\"LegendItem\"}],\"plot\":{\"id\":\"d07ca0b7-ee1a-4d57-8f10-36827ae6ee21\",\"subtype\":\"Figure\",\"type\":\"Plot\"}},\"id\":\"ba202596-b283-45af-81c5-02d221986cb8\",\"type\":\"Legend\"},{\"attributes\":{\"line_color\":{\"value\":\"#1f77b4\"},\"x\":{\"field\":\"x\"},\"y\":{\"field\":\"y\"}},\"id\":\"fa4bc81b-1abf-4a41-ab35-28312ea53bd7\",\"type\":\"Line\"},{\"attributes\":{},\"id\":\"305bb28e-3986-497a-a061-6e79b83e90d7\",\"type\":\"BasicTickFormatter\"},{\"attributes\":{\"callback\":null,\"column_names\":[\"x\",\"y\"],\"data\":{\"x\":[0,1],\"y\":[0,1]}},\"id\":\"5278992f-1c75-46ea-a076-cc77f3b66e44\",\"type\":\"ColumnDataSource\"},{\"attributes\":{\"plot\":null,\"text\":\"PR curve\"},\"id\":\"33f5d9c8-018a-4447-a39b-4351d3a8640a\",\"type\":\"Title\"},{\"attributes\":{\"line_alpha\":{\"value\":0.1},\"line_color\":{\"value\":\"#1f77b4\"},\"x\":{\"field\":\"x\"},\"y\":{\"field\":\"y\"}},\"id\":\"59f12966-01df-4a81-81f4-8b64bd96f659\",\"type\":\"Line\"},{\"attributes\":{\"dimension\":1,\"plot\":{\"id\":\"6cf42ed0-898d-4d8d-a036-30007268714e\",\"subtype\":\"Figure\",\"type\":\"Plot\"},\"ticker\":{\"id\":\"baf0920b-1bca-419f-8dd4-b27bfddc1623\",\"type\":\"BasicTicker\"}},\"id\":\"d55f1e47-84a6-4154-a13f-a811f6b36b4c\",\"type\":\"Grid\"},{\"attributes\":{\"plot\":{\"id\":\"d07ca0b7-ee1a-4d57-8f10-36827ae6ee21\",\"subtype\":\"Figure\",\"type\":\"Plot\"}},\"id\":\"2e46789e-5862-4b72-a3a3-e4858a4722d3\",\"type\":\"ResetTool\"},{\"attributes\":{\"dimension\":1,\"plot\":{\"id\":\"d07ca0b7-ee1a-4d57-8f10-36827ae6ee21\",\"subtype\":\"Figure\",\"type\":\"Plot\"},\"ticker\":{\"id\":\"ec5a9d4d-7969-4dc1-9930-d87cfc25eb47\",\"type\":\"BasicTicker\"}},\"id\":\"a76a328a-504c-4434-b9fe-26825b9bcfa6\",\"type\":\"Grid\"},{\"attributes\":{},\"id\":\"baf0920b-1bca-419f-8dd4-b27bfddc1623\",\"type\":\"BasicTicker\"},{\"attributes\":{\"plot\":{\"id\":\"d07ca0b7-ee1a-4d57-8f10-36827ae6ee21\",\"subtype\":\"Figure\",\"type\":\"Plot\"}},\"id\":\"61ff7012-6b1b-4025-9640-6db30ee77514\",\"type\":\"SaveTool\"},{\"attributes\":{\"axis_label\":\"precision\",\"formatter\":{\"id\":\"305bb28e-3986-497a-a061-6e79b83e90d7\",\"type\":\"BasicTickFormatter\"},\"plot\":{\"id\":\"d07ca0b7-ee1a-4d57-8f10-36827ae6ee21\",\"subtype\":\"Figure\",\"type\":\"Plot\"},\"ticker\":{\"id\":\"ec5a9d4d-7969-4dc1-9930-d87cfc25eb47\",\"type\":\"BasicTicker\"}},\"id\":\"14eeb8c3-f9c9-442c-a3e5-4905819aeb56\",\"type\":\"LinearAxis\"},{\"attributes\":{\"fill_alpha\":{\"value\":0.1},\"fill_color\":{\"value\":\"#1f77b4\"},\"line_alpha\":{\"value\":0.1},\"line_color\":{\"value\":\"#1f77b4\"},\"size\":{\"units\":\"screen\",\"value\":5},\"x\":{\"field\":\"x\"},\"y\":{\"field\":\"y\"}},\"id\":\"97807f36-140f-47c8-b484-877366ffabc9\",\"type\":\"Circle\"},{\"attributes\":{\"line_color\":{\"value\":\"grey\"},\"x\":{\"field\":\"x\"},\"y\":{\"field\":\"y\"}},\"id\":\"a4ee1eb5-b61c-46e6-9904-28a7ebc5fbf1\",\"type\":\"Line\"},{\"attributes\":{\"overlay\":{\"id\":\"ed3d2b47-131e-4878-bcd3-75390aa7a310\",\"type\":\"BoxAnnotation\"},\"plot\":{\"id\":\"6cf42ed0-898d-4d8d-a036-30007268714e\",\"subtype\":\"Figure\",\"type\":\"Plot\"}},\"id\":\"dfdeb9db-02c9-4af0-b76d-1eaa12080b4e\",\"type\":\"BoxZoomTool\"},{\"attributes\":{\"plot\":null,\"text\":\"roc, auc: 0.99, on train: 1\"},\"id\":\"ced3e70c-eaff-4ec2-a04b-e085d2f244ec\",\"type\":\"Title\"},{\"attributes\":{\"data_source\":{\"id\":\"d0279927-e1e1-44e1-8128-d814bdc0b3b4\",\"type\":\"ColumnDataSource\"},\"glyph\":{\"id\":\"59c0a714-a15b-4325-ab97-587274d99cdd\",\"type\":\"Line\"},\"hover_glyph\":null,\"nonselection_glyph\":{\"id\":\"69ce128f-de22-42d0-9845-41503976fbde\",\"type\":\"Line\"},\"selection_glyph\":null},\"id\":\"c5519f6d-4d3a-4567-b9c5-334ebbe51d24\",\"type\":\"GlyphRenderer\"},{\"attributes\":{\"items\":[{\"id\":\"59dc507f-5e47-46f1-8baf-3f3c2dcbc482\",\"type\":\"LegendItem\"},{\"id\":\"404c325e-1f0e-470e-9429-8821d1885d97\",\"type\":\"LegendItem\"}],\"plot\":{\"id\":\"6cf42ed0-898d-4d8d-a036-30007268714e\",\"subtype\":\"Figure\",\"type\":\"Plot\"}},\"id\":\"0fe8c746-b4e2-45d4-b051-a2bfb2f39531\",\"type\":\"Legend\"},{\"attributes\":{\"plot\":{\"id\":\"6cf42ed0-898d-4d8d-a036-30007268714e\",\"subtype\":\"Figure\",\"type\":\"Plot\"}},\"id\":\"cfd160d1-1008-4928-9ba8-0a08a7a7f52d\",\"type\":\"SaveTool\"},{\"attributes\":{\"callback\":null,\"column_names\":[\"x\",\"y\"],\"data\":{\"x\":{\"__ndarray__\":\"AAAAAAAAAAAAAAAAAAAAAAAAAAAAAAAAAAAAAAAAAAAAAAAAAAAAAAAAAAAAAAAAAAAAAAAAAAAAAAAAAAAAAAAAAAAAAAAAAAAAAAAAAAAAAAAAAAAAAAAAAAAAAAAAAAAAAAAAAAAAAAAAAAAAAAAAAAAAAAAAAAAAAAAAAAAAAAAAAAAAAAAAAAAAAAAAAAAAAAAAAAAAAAAAAAAAAAAAAAAAAAAAAAAAAAAAAAAAAAAAAAAAAAAAAAAAAAAAAAAAAAAAAAAAAAAAAAAAAAAAAAAAAAAAAAAAAAAAAAAAAAAAAAAAAAAAAAAAAAAAAAAAAAAAAAAAAAAAAAAAAAAAAAAAAAAAAAAAAAAAAAAAAAAAAAAAAAAAAAAAAAAAAAAAAAAAAAAAAAAAAAAAAAAAAAAAAAAAAAAAAAAAAAAAAAAAAAAAAAAAAAAAAAAAAAAAAAAAAAAAAAAAAAAAAAAAAAAAAAAAAAAAAAAAAAAAAAAAAAAAAAAAAAAAAAAAAAAAAAAAAAAAAAAAAAAAAAAAAAAAAAAAAAAAAAAAAAAAAAAAAAAAAAAAAAAAAAAAAAAAAAAAAAAAAAAAAAAAAAAAAAAAAAAAAAAAAAAAAAAAAAAAAAAAAAAAAAAAAAAAAAAAAAAAAAAAAAAAAAAAAAAAAAAAAAAAAAAAAAAAAAAAAAAAAAAAAAAAAAAAAAAAAAAAAAAAAAAAAAAAAAAAAAAAAAAAAAAAAAAAAAAAAAAAAAAAAAAAAAHGi9XRsS0/AcaL1dGxLT8BxovV0bEtPwHGi9XRsS0/AcaL1dGxLT8BxovV0bE9PwHGi9XRsT0/AcaL1dGxPT+B1ChgXUVGP4HUKGBdRUY/gdQoYF1FRj+B1ChgXUVGP4HUKGBdRUY/gdQoYF1FRj8BxovV0bFNPwHGi9XRsU0/wFt3JSOPUj/AW3clI49SP8BbdyUjj1I/wFt3JSOPUj+B1ChgXUVWP4HUKGBdRVY/QU3ampf7WT9BTdqal/tZPwHGi9XRsV0/AcaL1dGxXT8gGNBCQGpkPyAY0EJAamQ/gdQoYF1FZj+B1ChgXUVmP+GQgX16IGg/4ZCBfXogaD9BTdqal/tpP0FN2pqX+2k/AcaL1dGxbT8BxovV0bFtP2GC5PLujG8/YYLk8u6Mbz9hguTy7oxvP2CfHggGtHA/YJ8eCAa0cD+Q/cqWlKFxP5D9ypaUoXE/wFt3JSOPcj/AW3clI49yP7Ey1e7rMnc/sTLV7usydz/hkIF9eiB4P+GQgX16IHg/Ee8tDAkOeT8R7y0MCQ55P3Grhikm6Xo/cauGKSbpej9IcMjAPj2AP0hwyMA+PYA/2IrNbOoFgz/wuSO0sXyDPyAY0EJAaoQ/IBjQQkBqhD9RdnzRzleFP1F2fNHOV4U/sTLV7usyhz+xMtXu6zKHP/m/18RBl4g/KR6EU9CEiT9xq4YpJumKP3Grhikm6Yo/ZKJ4EE5Bkz980c5XFbiTPwjpeft485M/COl5+3jzkz+UACWf3C6UP5QAJZ/cLpQ/IBjQQkBqlD8gGNBCQGqUP5kDf6ckvJY/mQN/pyS8lj+aE0k2VJagPyYr9Nm30aA/PlpKIX9IoT/KcfXE4oOhP1aJoGhGv6E/4qBLDKr6oT8gGNBCQGqkP6wve+ajpaQ/oxn9RuSwpT8vMajqR+ylP9t9XeYCuas/Z5UIimb0qz+5OIn/e02sP0VQNKPfiKw/vTvjB8Tarj9JU46rJxavP58eCAa0ELA/Zard12UusD992TMfLaWwPwnx3sKQ4LA/lQiKZvQbsT/AUxJeC6K1P4bf5y+9v7U/WoSVqXZftz8gEGt7KH23P+abQE3amrc/rCcWH4y4tz/IWcZum7y6P47lm0BN2ro/kuj1SJVnvT9YdMsaR4W9P6oXTJBc3r0/cKMhYg78vT8Z9eEcmSi+P8JGotcjVb4/SVOOqycWvz8P32N92TO/P7gwJDhkYL8/frz5CRZ+vz+zJWVoBOa/P7xYHR3bAcA/KzazqRdMwD8O/J2S8FrAP8bq6NgOgMA/qbDTweeOwD9vPKmTmazAP1IClHxyu8A/vNRqOU+LwT+fmlUiKJrBP+KgSwyq+sE/xWY29YIJwj+L8gvHNCfCP2649q8NNsI/IZyCJszgwj8EYm0Ppe/CP3M/A5zhOcM/VgXuhLpIwz/F4oMR95LDP5kL5G48qcM/Ql2kKcfVwz8lI48SoOTDP/pL72/l+sM/3RHaWL4JxD/A18RBlxjEP6OdrypwJ8Q/Woz6cI5MxD89UuVZZ1vEP9gGG4lej8Q/u8wFcjeexD8NcIbnTPfEP/A1cdAlBsU/tsFGotcjxT+ZhzGLsDLFP92NJ3Uyk8U/wFMSXguixT+UfHK7ULjFP3dCXaQpx8U/WghIjQLWxT89zjJ22+TFPxL3ktMg+8U/yeXdGT8gxj+sq8gCGC/GPzjDc6Z7asY/G4lej1R5xj/E2h5K36XGP6egCTO4tMY/fMlpkP3Kxj/cCXWRphzHP7/PX3p/K8c/aCEgNQpYxz9L5woe42bHP/Q4y9htk8c/1/61wUaixz8bBayryALIP+8tDAkOGcg/0vP28eYnyD+1ueHavzbIP1BuFwq3asg/MzQC8495yD92OvjcEdrIP1kA48Xq6Mg/PMbNrsP3yD8fjLiXnAbJPxHvLQwJDsk/9LQY9eEcyT+OaU4k2VDJP3EvOQ2yX8k/VPUj9opuyT83uw7fY33JP7U1L/czwMk/iV6PVHnWyT9sJHo9UuXJP0/qZCYr9Mk/JBPFg3AKyj8H2a9sSRnKP9sBEMqOL8o/vsf6smc+yj9nGbtt8mrKP0rfpVbLeco/LaWQP6SIyj8Qa3sofZfKP1RxcRL/98o/Nzdc+9cGyz8tId5bGBLMP+QPKaI2N8w/7qH0XWq1zD/RZ99GQ8TMPzGo6kfsFc0/9zPAGZ4zzT+ghYDUKGDNP3Wu4DFuds0/D2MWYWWqzT/ki3a+qsDNP9+At+5KRs4/wkai1yNVzj+Dx7jZdfjOP0lTjqsnFs8/syVlaATmzz+HTsXFSfzPPxjQQkBqFNA/+5UtKUMj0D9lqt3XZS7QP1cNU0zSNdA/KzazqRdM0D8dmSgehFPQP4et2MymXtA/eRBOQRNm0D8TxYNwCprQPwUo+eR2odA/GI5pTiTZ0D8J8d7CkODQP0gu7874AdE/OpFkQ2UJ0T8r9Nm30RDRPx1XTyw+GNE/AB06FRcn0T/xf6+Jgy7RP9RFmnJcPdE/xqgP58hE0T8E5h/zMGbRP/ZIlWedbdE/b/rPoVNx0T/ZDoBQdnzRP3PDtX9tsNE/ZSYr9Nm30T85T4tRH87RPyuyAMaL1dE/lcawdK7g0T/FZjb1ggnSP7fJq2nvENI/2cymXjBB0j9D4VYNU0zSP+wyF8jdeNI/3ZWMPEqA0j9prTfgrbvSP1sQrVQaw9I/PtaXPfPR0j8vOQ2yX9nSP30TqElb89I/YNmSMjQC0z/K7ULhVg3TPzQC8495GNM/kHkYswgr0z+B3I0ndTLTP7J8E6hJW9M/o9+IHLZi0z+GpXMFj3HTP3gI6Xn7eNM/8LkjtLF80z9bztNi1IfTP7sO32N92dM/rXFU2Ong0z+e1MlMVujTP3P9Kaqb/tM/ZGCfHggG1D9WwxSTdA3UP8DXxEGXGNQ/sTo6tgMg1D+jna8qcCfUP5QAJZ/cLtQ/d8YPiLU91D9pKYX8IUXUP9M9NatEUNQ/PVLlWWdb1D/1QDCghYDUP+ajpRTyh9Q/2AYbiV6P1D9CG8s3gZrUP4FY20Ppu9Q/crtQuFXD1D9kHsYswsrUP1WBO6Eu0tQ/OEcmigfh1D8bDRFz4O/UP2nnqwrcCdU/PRAMaCEg1T8g1vZQ+i7VPxI5bMVmNtU/5mHMIqxM1T/YxEGXGFTVP8kntwuFW9U/u4osgPFi1T+eUBdpynHVP8BTEl4LotU/oxn9RuSw1T+UfHK7ULjVP4bf5y+9v9U/aaXSGJbO1T9aCEiNAtbVP0xrvQFv3dU/Pc4ydtvk1T8vMajqR+zVPyCUHV+089U/mUVYmWr31T+KqM0N1/7VPwNaCEiNAtY/5h/zMGYR1j9QNKPfiBzWP0KXGFT1I9Y/6+jYDoBQ1j9axm6bvJrWP0sp5A8potY/tj2Uvkut1j8gUkRtbrjWP3L1xOKDEdc/3Al1kaYc1z+/z196fyvXPynkDymiNtc/lPi/18RB1z+FWzVMMUnXP8SYRViZatc/tfu6zAVy1z8urfUGvHXXPyAQa3sofdc/beoFEySX1z9BE2Zwaa3XPyTZUFlCvNc/j+0ACGXH1z/qZCYr9NnXP9zHm59g4dc/VXnW2Rbl1z9G3EtOg+zXPxsFrKvIAtg/DGghIDUK2D9o30ZDxBzYP1lCvLcwJNg/S6UxLJ0r2D8uaxwVdjrYPx/OkYniQdg/9Pbx5idY2D/lWWdblF/YP8gfUkRtbtg/uoLHuNl12D8kl3dn/IDYP51IsqGyhNg/B11iUNWP2D9UN/3n0KnYP0aaclw9sdg/GsPSuYLH2D8MJkgu787YP3Y6+NwR2tg/WQDjxero2D/SsR0AoezYP8MUk3QN9Ng/ptp9XeYC2T8fjLiXnAbZPxHvLQwJDtk/iaBoRr8R2T9eycijBCjZP8jdeFInM9k/ukDuxpM62T8kVZ51tkXZPxW4E+oiTdk/BxuJXo9U2T/4ff7S+1vZP9tD6bvUatk/zaZeMEFy2T83uw7fY33ZPykehFPQhNk/oc++jYaI2T+Elal2X5fZP/1G5LAVm9k/76lZJYKi2T9ZvgnUpK3ZPzyE9Lx9vNk/LedpMerD2T+Y+xngDM/ZP3vBBMnl3dk/1jgq7HTw2T8ysE8PBAPaPxV2OvjcEdo/f4rqpv8c2j/4OyXhtSDaPzd5Ne0dQto/hFPQhBlc2j92tkX5hWPaP+5ngDM8Z9o/WXww4l5y2j+081UF7oTaP6ZWy3lajNo/en8r15+i2j/lk9uFwq3aP9b2UPoutdo/Mm52Hb7H2j8j0euRKs/aPxU0YQaX1to/27822Ej02j++hSHBIQPbP5KugR5nGds/hBH3ktMg2z/uJadB9ivbP8NOB587Qts/AYwXq6Nj2z9soMdZxm7bP10DPc4ydts/T2ayQp992z9AySe3C4XbPyOPEqDkk9s/nEBN2pqX2z+No8JOB5/bP+ka6HGWsds/zODSWm/A2z829YIJksvbP/yAWNtD6ds/Z5UIimb02z9Y+H3+0vvbP0pb83I/A9w/LSHeWxgS3D+5OIn/e03cPzHqwzkyUdw/FLCuIgtg3D+NYelcwWPcP3/EXtEta9w/YopJugZ63D9FUDSj34jcP6DHWcZum9w/kirPOtui3D8L3Al1kabcP/w+f+n9rdw/ZlMvmCC53D9YtqQMjcDcP8LKVLuvy9w/pZA/pIja3D+X87QY9eHcP3q5nwHO8Nw/axwVdjr43D9O4v9eEwfdP8eTOpnJCt0/uPavDTYS3T+bvJr2DiHdPxRu1TDFJN0/9zPAGZ4z3T9hSHDIwD7dP0QOW7GZTd0/NnHQJQZV3T8n1EWaclzdP4NLa70Bb90/0CUGVf2I3T8PYxZhZardPwHGi9XRsd0/8igBSj653T/ki3a+qsDdP06gJm3Ny90/MWYRVqba3T+besEEyeXdP35ArO2h9N0/cKMhYg783T9EzIG/UxLePyeSbKgsId4/gwmSy7sz3j/tHUJ63j7eP9+At+5KRt4/Hb7H+rJn3j+I0nep1XLePz/Bwu/zl94/qdVynhaj3j/oEoOqfsTeP8vYbZNX094/Ne0dQnre3j+gAc7wnOneP/t48xMs/N4/7dtoiJgD3z8AQtnxRTvfP3nzEyz8Pt8/XLn+FNVN3z/Gza7D91jfPxOoSVvzct8/frz5CRZ+3z9hguTy7ozfP65cf4rqpt8/Jw66xKCq3z+RImpzw7XfP3ToVFycxN8/wcLv85fe3z86dCouTuLfPx06FRcn8d8/ebE6OrYD4D/yYnV0bAfgPydtzcv9DOA/nx4IBrQQ4D9cdyUjjxLgP8aL1dGxHeA/+5UtKUMj4D+47kpGHiXgP6lRwLqKLOA/E2Zwaa034D+MF6ujYzvgP2/dlYw8SuA/YUALAalR4D+uGqaYpGvgP2pzw7V/beA/4yT+7zVx4D+ffRsNEXPgP005rp5YfOA/CpLLuzN+4D8/nCMTxYPgP/v0QDCgheA/0B2hjeWb4D9Iz9vHm5/gPzoyUTwIp+A/pEYB6yqy4D+WqXZfl7ngP1IClHxyu+A/P/s2GiLm4D/7U1Q3/efgP3QFj3Gz6+A/SC7vzvgB4T/B3ykJrwXhPyv02bfREOE/YP4xD2MW4T8dV08sPhjhPw66xKCqH+E/h2v/2mAj4T81J5JsqCzhP2ox6sM5MuE/nztCG8s34T9blF84pjnhP4IBLQSkRuE/ML2/letP4T+pbvrPoVPhPw4Z2KcHguE/apD9ypaU4T+Q/cqWlKHhP8YHI+4lp+E/mjCDS2u94T8OeOuuZOThP0OCQwb26eE/vDN+QKzt4T/xPdaXPfPhP4K/UxJeC+I/MHvmo6UU4j/s0wPBgBbiP/YGvHVXMuI/lSXEewtD4j/sMhfI3XjiPxzTnEiyoeI/DjYSvR6p4j/FJF0DPc7iPzlsxWY29eI/HDKwTw8E4z8XyN14UifjP5B5GLMIK+M/gdyNJ3Uy4z+oSVvzcj/jP5qs0GffRuM/AAAAAAAA8D8=\",\"dtype\":\"float64\",\"shape\":[634]},\"y\":{\"__ndarray__\":\"iKFt3Kr9ez9HsbC3Y1OHP4ihbdyq/Ys/JjlSJUD+lD9nKQ9Kh6iZP4ihbdyq/Zs/Fv0iXK7Toz82dYHu0SimP0exsLdjU6c/eGU+ExnTqj+Y3ZylPCitP7lV+zdgfa8/9YTEyYp+sT/9Ilyu0xOyPx6bukD3aLQ/JjlSJUD+tD9HsbC3Y1O3P1ft34D1fbg/eGU+ExnTuj+AA9b3YWi7P5jdnKU8KL0/oHs0ioW9vT+5Vfs3YH2/P+F5SY5UCcA/6Rfhcp2ewD8RLtfpCYnDPyY5UiVA/sQ/Kgiel+RIxT8ypjV8Ld7FP09PSJys6Mc/X4t3ZT4TyT+gezSKhb3NP6kZzG7OUs4/tYavxbsyzz9jYW/Hpi7QP2cwuzlLedA/b85SHpQO0T93bOoC3aPRP38KguclOdI/BcHzkhyp0j+PRrGwt2PTP5QV/SJcrtM/mORIlQD50z+cs5QHpUPUPy7X6QmJk9U/NnWB7tEo1j+4XKcnJE7WP7wr85nImNY/1QW6R6NY2D9bvCvzmcjYP/pMZExr+No//huwvg9D2z+QPwXB85LcPxb2dmzqAt0/nKzoF+Fy3T8iY1rD1+LdPysB8qcgeN4/L9A9GsXC3j+xt2NTF+jeP7WGr8W7Mt8/4XlJjlQJ4D/lSJUA+VPgPygkTlb0i+A/qgt0j0ax4D/t5izlQengPzDC5To9IeE/c52ekDhZ4T/1hMTJin7hP7Z4V+YzkeE/OGB9H4a24T++Fu/KfCbiP74W78p8JuI/ES7X6QmJ4z+UFf0iXK7jP9fwtXhX5uM/WdjbsakL5D9Z2NuxqQvkP5yzlAelQ+Q/XacnJE5W5D9dpyckTlbkP6RRLOzt2OQ/JjlSJUD+5D+oIHhekiPlPyoInpfkSOU/zWciY1rD5z/NZyJjWsPnP1MelA5RM+g/Ux6UDlEz6D8csL4PQ9voP56X5EiVAOk/Auv7MLSN6z8C6/swtI3rP4TSIWoGs+s/hNIhagaz6z8KiZMV/SLsPwqJkxX9Iuw/kD8FwfOS7D+QPwXB85LsP1EzmN2cpew/UTOY3Zyl7D/TGr4W78rsP9Mavhbvyuw/mN2cpTwo7T+Y3ZylPCjtP9u4Vfs3YO0/27hV+zdg7T8iY1rD1+LtPyJjWsPX4u0/pEqA/CkI7j9lPhMZ0xruP2U+ExnTGu4/qRnMbs5S7j+pGcxuzlLuP2oNX4t3Ze4/ag1fi3dl7j/s9ITEyYruP+z0hMTJiu4/btyq/Ruw7j9u3Kr9G7DuP7G3Y1MX6O4/sbdjUxfo7j+1hq/FuzLvP7WGr8W7Mu8/dnpC4mRF7z92ekLiZEXvPzdu1f4NWO8/N27V/g1Y7z/4YWgbt2rvP/hhaBu3au8/uVX7N2B97z+5Vfs3YH3vP3pJjlQJkO8/ekmOVAmQ7z87PSFxsqLvPzs9IXGyou8/Oz0hcbKi7z87PSFxsqLvP/wwtI1bte8//DC0jVu17z/8MLSNW7XvP/wwtI1bte8/vSRHqgTI7z+9JEeqBMjvP34Y2sat2u8/fhjaxq3a7z8/DG3jVu3vPz8MbeNW7e8/AAAAAAAA8D8AAAAAAADwPwAAAAAAAPA/AAAAAAAA8D8AAAAAAADwPwAAAAAAAPA/AAAAAAAA8D8AAAAAAADwPwAAAAAAAPA/AAAAAAAA8D8AAAAAAADwPwAAAAAAAPA/AAAAAAAA8D8AAAAAAADwPwAAAAAAAPA/AAAAAAAA8D8AAAAAAADwPwAAAAAAAPA/AAAAAAAA8D8AAAAAAADwPwAAAAAAAPA/AAAAAAAA8D8AAAAAAADwPwAAAAAAAPA/AAAAAAAA8D8AAAAAAADwPwAAAAAAAPA/AAAAAAAA8D8AAAAAAADwPwAAAAAAAPA/AAAAAAAA8D8AAAAAAADwPwAAAAAAAPA/AAAAAAAA8D8AAAAAAADwPwAAAAAAAPA/AAAAAAAA8D8AAAAAAADwPwAAAAAAAPA/AAAAAAAA8D8AAAAAAADwPwAAAAAAAPA/AAAAAAAA8D8AAAAAAADwPwAAAAAAAPA/AAAAAAAA8D8AAAAAAADwPwAAAAAAAPA/AAAAAAAA8D8AAAAAAADwPwAAAAAAAPA/AAAAAAAA8D8AAAAAAADwPwAAAAAAAPA/AAAAAAAA8D8AAAAAAADwPwAAAAAAAPA/AAAAAAAA8D8AAAAAAADwPwAAAAAAAPA/AAAAAAAA8D8AAAAAAADwPwAAAAAAAPA/AAAAAAAA8D8AAAAAAADwPwAAAAAAAPA/AAAAAAAA8D8AAAAAAADwPwAAAAAAAPA/AAAAAAAA8D8AAAAAAADwPwAAAAAAAPA/AAAAAAAA8D8AAAAAAADwPwAAAAAAAPA/AAAAAAAA8D8AAAAAAADwPwAAAAAAAPA/AAAAAAAA8D8AAAAAAADwPwAAAAAAAPA/AAAAAAAA8D8AAAAAAADwPwAAAAAAAPA/AAAAAAAA8D8AAAAAAADwPwAAAAAAAPA/AAAAAAAA8D8AAAAAAADwPwAAAAAAAPA/AAAAAAAA8D8AAAAAAADwPwAAAAAAAPA/AAAAAAAA8D8AAAAAAADwPwAAAAAAAPA/AAAAAAAA8D8AAAAAAADwPwAAAAAAAPA/AAAAAAAA8D8AAAAAAADwPwAAAAAAAPA/AAAAAAAA8D8AAAAAAADwPwAAAAAAAPA/AAAAAAAA8D8AAAAAAADwPwAAAAAAAPA/AAAAAAAA8D8AAAAAAADwPwAAAAAAAPA/AAAAAAAA8D8AAAAAAADwPwAAAAAAAPA/AAAAAAAA8D8AAAAAAADwPwAAAAAAAPA/AAAAAAAA8D8AAAAAAADwPwAAAAAAAPA/AAAAAAAA8D8AAAAAAADwPwAAAAAAAPA/AAAAAAAA8D8AAAAAAADwPwAAAAAAAPA/AAAAAAAA8D8AAAAAAADwPwAAAAAAAPA/AAAAAAAA8D8AAAAAAADwPwAAAAAAAPA/AAAAAAAA8D8AAAAAAADwPwAAAAAAAPA/AAAAAAAA8D8AAAAAAADwPwAAAAAAAPA/AAAAAAAA8D8AAAAAAADwPwAAAAAAAPA/AAAAAAAA8D8AAAAAAADwPwAAAAAAAPA/AAAAAAAA8D8AAAAAAADwPwAAAAAAAPA/AAAAAAAA8D8AAAAAAADwPwAAAAAAAPA/AAAAAAAA8D8AAAAAAADwPwAAAAAAAPA/AAAAAAAA8D8AAAAAAADwPwAAAAAAAPA/AAAAAAAA8D8AAAAAAADwPwAAAAAAAPA/AAAAAAAA8D8AAAAAAADwPwAAAAAAAPA/AAAAAAAA8D8AAAAAAADwPwAAAAAAAPA/AAAAAAAA8D8AAAAAAADwPwAAAAAAAPA/AAAAAAAA8D8AAAAAAADwPwAAAAAAAPA/AAAAAAAA8D8AAAAAAADwPwAAAAAAAPA/AAAAAAAA8D8AAAAAAADwPwAAAAAAAPA/AAAAAAAA8D8AAAAAAADwPwAAAAAAAPA/AAAAAAAA8D8AAAAAAADwPwAAAAAAAPA/AAAAAAAA8D8AAAAAAADwPwAAAAAAAPA/AAAAAAAA8D8AAAAAAADwPwAAAAAAAPA/AAAAAAAA8D8AAAAAAADwPwAAAAAAAPA/AAAAAAAA8D8AAAAAAADwPwAAAAAAAPA/AAAAAAAA8D8AAAAAAADwPwAAAAAAAPA/AAAAAAAA8D8AAAAAAADwPwAAAAAAAPA/AAAAAAAA8D8AAAAAAADwPwAAAAAAAPA/AAAAAAAA8D8AAAAAAADwPwAAAAAAAPA/AAAAAAAA8D8AAAAAAADwPwAAAAAAAPA/AAAAAAAA8D8AAAAAAADwPwAAAAAAAPA/AAAAAAAA8D8AAAAAAADwPwAAAAAAAPA/AAAAAAAA8D8AAAAAAADwPwAAAAAAAPA/AAAAAAAA8D8AAAAAAADwPwAAAAAAAPA/AAAAAAAA8D8AAAAAAADwPwAAAAAAAPA/AAAAAAAA8D8AAAAAAADwPwAAAAAAAPA/AAAAAAAA8D8AAAAAAADwPwAAAAAAAPA/AAAAAAAA8D8AAAAAAADwPwAAAAAAAPA/AAAAAAAA8D8AAAAAAADwPwAAAAAAAPA/AAAAAAAA8D8AAAAAAADwPwAAAAAAAPA/AAAAAAAA8D8AAAAAAADwPwAAAAAAAPA/AAAAAAAA8D8AAAAAAADwPwAAAAAAAPA/AAAAAAAA8D8AAAAAAADwPwAAAAAAAPA/AAAAAAAA8D8AAAAAAADwPwAAAAAAAPA/AAAAAAAA8D8AAAAAAADwPwAAAAAAAPA/AAAAAAAA8D8AAAAAAADwPwAAAAAAAPA/AAAAAAAA8D8AAAAAAADwPwAAAAAAAPA/AAAAAAAA8D8AAAAAAADwPwAAAAAAAPA/AAAAAAAA8D8AAAAAAADwPwAAAAAAAPA/AAAAAAAA8D8AAAAAAADwPwAAAAAAAPA/AAAAAAAA8D8AAAAAAADwPwAAAAAAAPA/AAAAAAAA8D8AAAAAAADwPwAAAAAAAPA/AAAAAAAA8D8AAAAAAADwPwAAAAAAAPA/AAAAAAAA8D8AAAAAAADwPwAAAAAAAPA/AAAAAAAA8D8AAAAAAADwPwAAAAAAAPA/AAAAAAAA8D8AAAAAAADwPwAAAAAAAPA/AAAAAAAA8D8AAAAAAADwPwAAAAAAAPA/AAAAAAAA8D8AAAAAAADwPwAAAAAAAPA/AAAAAAAA8D8AAAAAAADwPwAAAAAAAPA/AAAAAAAA8D8AAAAAAADwPwAAAAAAAPA/AAAAAAAA8D8AAAAAAADwPwAAAAAAAPA/AAAAAAAA8D8AAAAAAADwPwAAAAAAAPA/AAAAAAAA8D8AAAAAAADwPwAAAAAAAPA/AAAAAAAA8D8AAAAAAADwPwAAAAAAAPA/AAAAAAAA8D8AAAAAAADwPwAAAAAAAPA/AAAAAAAA8D8AAAAAAADwPwAAAAAAAPA/AAAAAAAA8D8AAAAAAADwPwAAAAAAAPA/AAAAAAAA8D8AAAAAAADwPwAAAAAAAPA/AAAAAAAA8D8AAAAAAADwPwAAAAAAAPA/AAAAAAAA8D8AAAAAAADwPwAAAAAAAPA/AAAAAAAA8D8AAAAAAADwPwAAAAAAAPA/AAAAAAAA8D8AAAAAAADwPwAAAAAAAPA/AAAAAAAA8D8AAAAAAADwPwAAAAAAAPA/AAAAAAAA8D8AAAAAAADwPwAAAAAAAPA/AAAAAAAA8D8AAAAAAADwPwAAAAAAAPA/AAAAAAAA8D8AAAAAAADwPwAAAAAAAPA/AAAAAAAA8D8AAAAAAADwPwAAAAAAAPA/AAAAAAAA8D8AAAAAAADwPwAAAAAAAPA/AAAAAAAA8D8AAAAAAADwPwAAAAAAAPA/AAAAAAAA8D8AAAAAAADwPwAAAAAAAPA/AAAAAAAA8D8AAAAAAADwPwAAAAAAAPA/AAAAAAAA8D8AAAAAAADwPwAAAAAAAPA/AAAAAAAA8D8AAAAAAADwPwAAAAAAAPA/AAAAAAAA8D8AAAAAAADwPwAAAAAAAPA/AAAAAAAA8D8AAAAAAADwPwAAAAAAAPA/AAAAAAAA8D8AAAAAAADwPwAAAAAAAPA/AAAAAAAA8D8AAAAAAADwPwAAAAAAAPA/AAAAAAAA8D8AAAAAAADwPwAAAAAAAPA/AAAAAAAA8D8AAAAAAADwPwAAAAAAAPA/AAAAAAAA8D8AAAAAAADwPwAAAAAAAPA/AAAAAAAA8D8AAAAAAADwPwAAAAAAAPA/AAAAAAAA8D8AAAAAAADwPwAAAAAAAPA/AAAAAAAA8D8AAAAAAADwPwAAAAAAAPA/AAAAAAAA8D8AAAAAAADwPwAAAAAAAPA/AAAAAAAA8D8AAAAAAADwPwAAAAAAAPA/AAAAAAAA8D8AAAAAAADwPwAAAAAAAPA/AAAAAAAA8D8AAAAAAADwPwAAAAAAAPA/AAAAAAAA8D8AAAAAAADwPwAAAAAAAPA/AAAAAAAA8D8AAAAAAADwPwAAAAAAAPA/AAAAAAAA8D8AAAAAAADwPwAAAAAAAPA/AAAAAAAA8D8AAAAAAADwPwAAAAAAAPA/AAAAAAAA8D8AAAAAAADwPwAAAAAAAPA/AAAAAAAA8D8AAAAAAADwPwAAAAAAAPA/AAAAAAAA8D8AAAAAAADwPwAAAAAAAPA/AAAAAAAA8D8AAAAAAADwPwAAAAAAAPA/AAAAAAAA8D8AAAAAAADwPwAAAAAAAPA/AAAAAAAA8D8AAAAAAADwPwAAAAAAAPA/AAAAAAAA8D8AAAAAAADwPwAAAAAAAPA/AAAAAAAA8D8AAAAAAADwPwAAAAAAAPA/AAAAAAAA8D8AAAAAAADwPwAAAAAAAPA/AAAAAAAA8D8AAAAAAADwPwAAAAAAAPA/AAAAAAAA8D8AAAAAAADwPwAAAAAAAPA/AAAAAAAA8D8AAAAAAADwPwAAAAAAAPA/AAAAAAAA8D8AAAAAAADwPwAAAAAAAPA/AAAAAAAA8D8AAAAAAADwPwAAAAAAAPA/AAAAAAAA8D8AAAAAAADwPwAAAAAAAPA/AAAAAAAA8D8AAAAAAADwPwAAAAAAAPA/AAAAAAAA8D8AAAAAAADwPwAAAAAAAPA/AAAAAAAA8D8AAAAAAADwPwAAAAAAAPA/AAAAAAAA8D8AAAAAAADwPwAAAAAAAPA/AAAAAAAA8D8AAAAAAADwPwAAAAAAAPA/AAAAAAAA8D8AAAAAAADwPwAAAAAAAPA/AAAAAAAA8D8=\",\"dtype\":\"float64\",\"shape\":[634]}}},\"id\":\"91f62f7d-03e3-4219-86b0-11b88393d2a1\",\"type\":\"ColumnDataSource\"},{\"attributes\":{\"callback\":null,\"column_names\":[\"y\",\"x\"],\"data\":{\"x\":{\"__ndarray__\":\"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\",\"dtype\":\"float64\",\"shape\":[294]},\"y\":{\"__ndarray__\":\"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\",\"dtype\":\"float64\",\"shape\":[294]}}},\"id\":\"c0816c7d-a418-49e3-820f-14917afb924a\",\"type\":\"ColumnDataSource\"},{\"attributes\":{\"bottom_units\":\"screen\",\"fill_alpha\":{\"value\":0.5},\"fill_color\":{\"value\":\"lightgrey\"},\"left_units\":\"screen\",\"level\":\"overlay\",\"line_alpha\":{\"value\":1.0},\"line_color\":{\"value\":\"black\"},\"line_dash\":[4,4],\"line_width\":{\"value\":2},\"plot\":null,\"render_mode\":\"css\",\"right_units\":\"screen\",\"top_units\":\"screen\"},\"id\":\"ed3d2b47-131e-4878-bcd3-75390aa7a310\",\"type\":\"BoxAnnotation\"},{\"attributes\":{\"data_source\":{\"id\":\"bc9aadbc-ebac-4f6b-8555-7c87b2e4b2c0\",\"type\":\"ColumnDataSource\"},\"glyph\":{\"id\":\"a7f8de44-f346-4064-9660-f6d6363c4a0a\",\"type\":\"Circle\"},\"hover_glyph\":null,\"nonselection_glyph\":{\"id\":\"ec2036e9-21e0-41fe-b184-f3c3a16fe343\",\"type\":\"Circle\"},\"selection_glyph\":null},\"id\":\"0687d28c-daa0-42db-8481-b75a1a4e0bf3\",\"type\":\"GlyphRenderer\"},{\"attributes\":{},\"id\":\"ec5a9d4d-7969-4dc1-9930-d87cfc25eb47\",\"type\":\"BasicTicker\"},{\"attributes\":{\"active_drag\":\"auto\",\"active_scroll\":\"auto\",\"active_tap\":\"auto\",\"tools\":[{\"id\":\"6098ef74-99a4-4b1a-a145-6a8b32e5274a\",\"type\":\"PanTool\"},{\"id\":\"e9d999bb-ebb5-457e-90f2-e840a19bc8bc\",\"type\":\"WheelZoomTool\"},{\"id\":\"b723c80a-ef9b-4bad-9e9a-52acce3b3a83\",\"type\":\"BoxZoomTool\"},{\"id\":\"61ff7012-6b1b-4025-9640-6db30ee77514\",\"type\":\"SaveTool\"},{\"id\":\"2e46789e-5862-4b72-a3a3-e4858a4722d3\",\"type\":\"ResetTool\"},{\"id\":\"114c4fb1-fbe9-474d-804e-97fb3f05270f\",\"type\":\"HelpTool\"}]},\"id\":\"c02da1eb-ebf1-40e3-ae34-8a79693acdec\",\"type\":\"Toolbar\"},{\"attributes\":{\"callback\":null,\"column_names\":[\"y\",\"x\"],\"data\":{\"x\":{\"__ndarray__\":\"AAAAAAAAAAAAAAAAAAAAAAAAAAAAAAAAAAAAAAAAAAAAAAAAAAAAAAAAAAAAAAAAAAAAAAAAAAAAAAAAAAAAAAAAAAAAAAAAAAAAAAAAAAAAAAAAAAAAAAAAAAAAAAAAAAAAAAAAAAAAAAAAAAAAAAAAAAAAAAAAAAAAAAAAAAAAAAAAAAAAAAAAAAAAAAAAAAAAAAAAAAAAAAAAAAAAAAAAAAAAAAAAAAAAAAAAAAAAAAAAAAAAAAAAAAAAAAAAAAAAAAAAAAAAAAAAAAAAAAAAAAAAAAAAAAAAAAAAAAAAAAAAAAAAAAAAAAAAAAAAAAAAAAAAAAAAAAAAAAAAAAAAAAAAAAAAAAAAAAAAAAAAAAAAAAAAAAAAAAAAAAAAAAAAAAAAAAAAAAAAAAAAAAAAAAAAAAAAAAAAAAAAAAAAAAAAAAAAAAAAAAAAAAAAAAAAAAAAAAAAAAAAAAAAAAAAAAAAAAAAAAAAAAAAAAAAAAAAAAAAAAAAAAAAAAAAAAAAAAAAAAAAAAAAAAAAAAAAAAAAAAAAAAAAAAAAAAAAAAAAAAAAAAAAAAAAAAAAAAAAAAAAAAAAAAAAAAAAAAAAAAAAAAAAAAAAAAAAAAAAAAAAAAAAAAAAAAAAAAAAAAAAAAAAAAAAAAAAAAAAAAAAAAAAAAAAAAAAAAAAAAAAAAAAAAAAAAAAAAAAAAAAAAAAAAAAAAAAAAAAAAAAAAAAAAAAAAAAAAAAAAAAAAAAAAAAAAAAAAHGi9XRsS0/AcaL1dGxLT8BxovV0bEtPwHGi9XRsS0/AcaL1dGxLT8BxovV0bE9PwHGi9XRsT0/AcaL1dGxPT+B1ChgXUVGP4HUKGBdRUY/gdQoYF1FRj+B1ChgXUVGP4HUKGBdRUY/gdQoYF1FRj8BxovV0bFNPwHGi9XRsU0/wFt3JSOPUj/AW3clI49SP8BbdyUjj1I/wFt3JSOPUj+B1ChgXUVWP4HUKGBdRVY/QU3ampf7WT9BTdqal/tZPwHGi9XRsV0/AcaL1dGxXT8gGNBCQGpkPyAY0EJAamQ/gdQoYF1FZj+B1ChgXUVmP+GQgX16IGg/4ZCBfXogaD9BTdqal/tpP0FN2pqX+2k/AcaL1dGxbT8BxovV0bFtP2GC5PLujG8/YYLk8u6Mbz9hguTy7oxvP2CfHggGtHA/YJ8eCAa0cD+Q/cqWlKFxP5D9ypaUoXE/wFt3JSOPcj/AW3clI49yP7Ey1e7rMnc/sTLV7usydz/hkIF9eiB4P+GQgX16IHg/Ee8tDAkOeT8R7y0MCQ55P3Grhikm6Xo/cauGKSbpej9IcMjAPj2AP0hwyMA+PYA/2IrNbOoFgz/wuSO0sXyDPyAY0EJAaoQ/IBjQQkBqhD9RdnzRzleFP1F2fNHOV4U/sTLV7usyhz+xMtXu6zKHP/m/18RBl4g/KR6EU9CEiT9xq4YpJumKP3Grhikm6Yo/ZKJ4EE5Bkz980c5XFbiTPwjpeft485M/COl5+3jzkz+UACWf3C6UP5QAJZ/cLpQ/IBjQQkBqlD8gGNBCQGqUP5kDf6ckvJY/mQN/pyS8lj+aE0k2VJagPyYr9Nm30aA/PlpKIX9IoT/KcfXE4oOhP1aJoGhGv6E/4qBLDKr6oT8gGNBCQGqkP6wve+ajpaQ/oxn9RuSwpT8vMajqR+ylP9t9XeYCuas/Z5UIimb0qz+5OIn/e02sP0VQNKPfiKw/vTvjB8Tarj9JU46rJxavP58eCAa0ELA/Zard12UusD992TMfLaWwPwnx3sKQ4LA/lQiKZvQbsT/AUxJeC6K1P4bf5y+9v7U/WoSVqXZftz8gEGt7KH23P+abQE3amrc/rCcWH4y4tz/IWcZum7y6P47lm0BN2ro/kuj1SJVnvT9YdMsaR4W9P6oXTJBc3r0/cKMhYg78vT8Z9eEcmSi+P8JGotcjVb4/SVOOqycWvz8P32N92TO/P7gwJDhkYL8/frz5CRZ+vz+zJWVoBOa/P7xYHR3bAcA/KzazqRdMwD8O/J2S8FrAP8bq6NgOgMA/qbDTweeOwD9vPKmTmazAP1IClHxyu8A/vNRqOU+LwT+fmlUiKJrBP+KgSwyq+sE/xWY29YIJwj+L8gvHNCfCP2649q8NNsI/IZyCJszgwj8EYm0Ppe/CP3M/A5zhOcM/VgXuhLpIwz/F4oMR95LDP5kL5G48qcM/Ql2kKcfVwz8lI48SoOTDP/pL72/l+sM/3RHaWL4JxD/A18RBlxjEP6OdrypwJ8Q/Woz6cI5MxD89UuVZZ1vEP9gGG4lej8Q/u8wFcjeexD8NcIbnTPfEP/A1cdAlBsU/tsFGotcjxT+ZhzGLsDLFP92NJ3Uyk8U/wFMSXguixT+UfHK7ULjFP3dCXaQpx8U/WghIjQLWxT89zjJ22+TFPxL3ktMg+8U/yeXdGT8gxj+sq8gCGC/GPzjDc6Z7asY/G4lej1R5xj/E2h5K36XGP6egCTO4tMY/fMlpkP3Kxj/cCXWRphzHP7/PX3p/K8c/aCEgNQpYxz9L5woe42bHP/Q4y9htk8c/1/61wUaixz8bBayryALIP+8tDAkOGcg/0vP28eYnyD+1ueHavzbIP1BuFwq3asg/MzQC8495yD92OvjcEdrIP1kA48Xq6Mg/PMbNrsP3yD8fjLiXnAbJPxHvLQwJDsk/9LQY9eEcyT+OaU4k2VDJP3EvOQ2yX8k/VPUj9opuyT83uw7fY33JP7U1L/czwMk/iV6PVHnWyT9sJHo9UuXJP0/qZCYr9Mk/JBPFg3AKyj8H2a9sSRnKP9sBEMqOL8o/vsf6smc+yj9nGbtt8mrKP0rfpVbLeco/LaWQP6SIyj8Qa3sofZfKP1RxcRL/98o/Nzdc+9cGyz8tId5bGBLMP+QPKaI2N8w/7qH0XWq1zD/RZ99GQ8TMPzGo6kfsFc0/9zPAGZ4zzT+ghYDUKGDNP3Wu4DFuds0/D2MWYWWqzT/ki3a+qsDNP9+At+5KRs4/wkai1yNVzj+Dx7jZdfjOP0lTjqsnFs8/syVlaATmzz+HTsXFSfzPPxjQQkBqFNA/+5UtKUMj0D9lqt3XZS7QP1cNU0zSNdA/KzazqRdM0D8dmSgehFPQP4et2MymXtA/eRBOQRNm0D8TxYNwCprQPwUo+eR2odA/GI5pTiTZ0D8J8d7CkODQP0gu7874AdE/OpFkQ2UJ0T8r9Nm30RDRPx1XTyw+GNE/AB06FRcn0T/xf6+Jgy7RP9RFmnJcPdE/xqgP58hE0T8E5h/zMGbRP/ZIlWedbdE/b/rPoVNx0T/ZDoBQdnzRP3PDtX9tsNE/ZSYr9Nm30T85T4tRH87RPyuyAMaL1dE/lcawdK7g0T/FZjb1ggnSP7fJq2nvENI/2cymXjBB0j9D4VYNU0zSP+wyF8jdeNI/3ZWMPEqA0j9prTfgrbvSP1sQrVQaw9I/PtaXPfPR0j8vOQ2yX9nSP30TqElb89I/YNmSMjQC0z/K7ULhVg3TPzQC8495GNM/kHkYswgr0z+B3I0ndTLTP7J8E6hJW9M/o9+IHLZi0z+GpXMFj3HTP3gI6Xn7eNM/8LkjtLF80z9bztNi1IfTP7sO32N92dM/rXFU2Ong0z+e1MlMVujTP3P9Kaqb/tM/ZGCfHggG1D9WwxSTdA3UP8DXxEGXGNQ/sTo6tgMg1D+jna8qcCfUP5QAJZ/cLtQ/d8YPiLU91D9pKYX8IUXUP9M9NatEUNQ/PVLlWWdb1D/1QDCghYDUP+ajpRTyh9Q/2AYbiV6P1D9CG8s3gZrUP4FY20Ppu9Q/crtQuFXD1D9kHsYswsrUP1WBO6Eu0tQ/OEcmigfh1D8bDRFz4O/UP2nnqwrcCdU/PRAMaCEg1T8g1vZQ+i7VPxI5bMVmNtU/5mHMIqxM1T/YxEGXGFTVP8kntwuFW9U/u4osgPFi1T+eUBdpynHVP8BTEl4LotU/oxn9RuSw1T+UfHK7ULjVP4bf5y+9v9U/aaXSGJbO1T9aCEiNAtbVP0xrvQFv3dU/Pc4ydtvk1T8vMajqR+zVPyCUHV+089U/mUVYmWr31T+KqM0N1/7VPwNaCEiNAtY/5h/zMGYR1j9QNKPfiBzWP0KXGFT1I9Y/6+jYDoBQ1j9axm6bvJrWP0sp5A8potY/tj2Uvkut1j8gUkRtbrjWP3L1xOKDEdc/3Al1kaYc1z+/z196fyvXPynkDymiNtc/lPi/18RB1z+FWzVMMUnXP8SYRViZatc/tfu6zAVy1z8urfUGvHXXPyAQa3sofdc/beoFEySX1z9BE2Zwaa3XPyTZUFlCvNc/j+0ACGXH1z/qZCYr9NnXP9zHm59g4dc/VXnW2Rbl1z9G3EtOg+zXPxsFrKvIAtg/DGghIDUK2D9o30ZDxBzYP1lCvLcwJNg/S6UxLJ0r2D8uaxwVdjrYPx/OkYniQdg/9Pbx5idY2D/lWWdblF/YP8gfUkRtbtg/uoLHuNl12D8kl3dn/IDYP51IsqGyhNg/B11iUNWP2D9UN/3n0KnYP0aaclw9sdg/GsPSuYLH2D8MJkgu787YP3Y6+NwR2tg/WQDjxero2D/SsR0AoezYP8MUk3QN9Ng/ptp9XeYC2T8fjLiXnAbZPxHvLQwJDtk/iaBoRr8R2T9eycijBCjZP8jdeFInM9k/ukDuxpM62T8kVZ51tkXZPxW4E+oiTdk/BxuJXo9U2T/4ff7S+1vZP9tD6bvUatk/zaZeMEFy2T83uw7fY33ZPykehFPQhNk/oc++jYaI2T+Elal2X5fZP/1G5LAVm9k/76lZJYKi2T9ZvgnUpK3ZPzyE9Lx9vNk/LedpMerD2T+Y+xngDM/ZP3vBBMnl3dk/1jgq7HTw2T8ysE8PBAPaPxV2OvjcEdo/f4rqpv8c2j/4OyXhtSDaPzd5Ne0dQto/hFPQhBlc2j92tkX5hWPaP+5ngDM8Z9o/WXww4l5y2j+081UF7oTaP6ZWy3lajNo/en8r15+i2j/lk9uFwq3aP9b2UPoutdo/Mm52Hb7H2j8j0euRKs/aPxU0YQaX1to/27822Ej02j++hSHBIQPbP5KugR5nGds/hBH3ktMg2z/uJadB9ivbP8NOB587Qts/AYwXq6Nj2z9soMdZxm7bP10DPc4ydts/T2ayQp992z9AySe3C4XbPyOPEqDkk9s/nEBN2pqX2z+No8JOB5/bP+ka6HGWsds/zODSWm/A2z829YIJksvbP/yAWNtD6ds/Z5UIimb02z9Y+H3+0vvbP0pb83I/A9w/LSHeWxgS3D+5OIn/e03cPzHqwzkyUdw/FLCuIgtg3D+NYelcwWPcP3/EXtEta9w/YopJugZ63D9FUDSj34jcP6DHWcZum9w/kirPOtui3D8L3Al1kabcP/w+f+n9rdw/ZlMvmCC53D9YtqQMjcDcP8LKVLuvy9w/pZA/pIja3D+X87QY9eHcP3q5nwHO8Nw/axwVdjr43D9O4v9eEwfdP8eTOpnJCt0/uPavDTYS3T+bvJr2DiHdPxRu1TDFJN0/9zPAGZ4z3T9hSHDIwD7dP0QOW7GZTd0/NnHQJQZV3T8n1EWaclzdP4NLa70Bb90/0CUGVf2I3T8PYxZhZardPwHGi9XRsd0/8igBSj653T/ki3a+qsDdP06gJm3Ny90/MWYRVqba3T+besEEyeXdP35ArO2h9N0/cKMhYg783T9EzIG/UxLePyeSbKgsId4/gwmSy7sz3j/tHUJ63j7eP9+At+5KRt4/Hb7H+rJn3j+I0nep1XLePz/Bwu/zl94/qdVynhaj3j/oEoOqfsTeP8vYbZNX094/Ne0dQnre3j+gAc7wnOneP/t48xMs/N4/7dtoiJgD3z8AQtnxRTvfP3nzEyz8Pt8/XLn+FNVN3z/Gza7D91jfPxOoSVvzct8/frz5CRZ+3z9hguTy7ozfP65cf4rqpt8/Jw66xKCq3z+RImpzw7XfP3ToVFycxN8/wcLv85fe3z86dCouTuLfPx06FRcn8d8/ebE6OrYD4D/yYnV0bAfgPydtzcv9DOA/nx4IBrQQ4D9cdyUjjxLgP8aL1dGxHeA/+5UtKUMj4D+47kpGHiXgP6lRwLqKLOA/E2Zwaa034D+MF6ujYzvgP2/dlYw8SuA/YUALAalR4D+uGqaYpGvgP2pzw7V/beA/4yT+7zVx4D+ffRsNEXPgP005rp5YfOA/CpLLuzN+4D8/nCMTxYPgP/v0QDCgheA/0B2hjeWb4D9Iz9vHm5/gPzoyUTwIp+A/pEYB6yqy4D+WqXZfl7ngP1IClHxyu+A/P/s2GiLm4D/7U1Q3/efgP3QFj3Gz6+A/SC7vzvgB4T/B3ykJrwXhPyv02bfREOE/YP4xD2MW4T8dV08sPhjhPw66xKCqH+E/h2v/2mAj4T81J5JsqCzhP2ox6sM5MuE/nztCG8s34T9blF84pjnhP4IBLQSkRuE/ML2/letP4T+pbvrPoVPhPw4Z2KcHguE/apD9ypaU4T+Q/cqWlKHhP8YHI+4lp+E/mjCDS2u94T8OeOuuZOThP0OCQwb26eE/vDN+QKzt4T/xPdaXPfPhP4K/UxJeC+I/MHvmo6UU4j/s0wPBgBbiP/YGvHVXMuI/lSXEewtD4j/sMhfI3XjiPxzTnEiyoeI/DjYSvR6p4j/FJF0DPc7iPzlsxWY29eI/HDKwTw8E4z8XyN14UifjP5B5GLMIK+M/gdyNJ3Uy4z+oSVvzcj/jP5qs0GffRuM/AAAAAAAA8D8=\",\"dtype\":\"float64\",\"shape\":[634]},\"y\":{\"__ndarray__\":\"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\",\"dtype\":\"float64\",\"shape\":[634]}}},\"id\":\"3b160713-1af8-4548-bad6-a757cc6e4076\",\"type\":\"ColumnDataSource\"},{\"attributes\":{\"plot\":{\"id\":\"6cf42ed0-898d-4d8d-a036-30007268714e\",\"subtype\":\"Figure\",\"type\":\"Plot\"}},\"id\":\"d7c83098-02f4-4c9c-ac12-f582d5764fc6\",\"type\":\"HelpTool\"},{\"attributes\":{\"plot\":{\"id\":\"6cf42ed0-898d-4d8d-a036-30007268714e\",\"subtype\":\"Figure\",\"type\":\"Plot\"},\"ticker\":{\"id\":\"a907d259-783b-4c03-bee4-52e1226bbd14\",\"type\":\"BasicTicker\"}},\"id\":\"77b759f8-25f4-4b22-b4ff-6f77e83d9102\",\"type\":\"Grid\"},{\"attributes\":{\"line_alpha\":{\"value\":0.1},\"line_color\":{\"value\":\"#1f77b4\"},\"x\":{\"field\":\"x\"},\"y\":{\"field\":\"y\"}},\"id\":\"ce53d9c2-3652-40d0-9a95-7c9ebd464959\",\"type\":\"Line\"},{\"attributes\":{\"below\":[{\"id\":\"856de820-51ab-4ab7-aaba-903392d71cb6\",\"type\":\"LinearAxis\"}],\"left\":[{\"id\":\"14eeb8c3-f9c9-442c-a3e5-4905819aeb56\",\"type\":\"LinearAxis\"}],\"plot_height\":400,\"plot_width\":400,\"renderers\":[{\"id\":\"856de820-51ab-4ab7-aaba-903392d71cb6\",\"type\":\"LinearAxis\"},{\"id\":\"d99891c3-3e10-427f-a2da-bf448a5d1e74\",\"type\":\"Grid\"},{\"id\":\"14eeb8c3-f9c9-442c-a3e5-4905819aeb56\",\"type\":\"LinearAxis\"},{\"id\":\"a76a328a-504c-4434-b9fe-26825b9bcfa6\",\"type\":\"Grid\"},{\"id\":\"435fce9b-8458-4820-a078-e3561f8198b2\",\"type\":\"BoxAnnotation\"},{\"id\":\"a0c6c319-ac80-4782-9f98-70edf45daf65\",\"type\":\"GlyphRenderer\"},{\"id\":\"ba202596-b283-45af-81c5-02d221986cb8\",\"type\":\"Legend\"},{\"id\":\"527af108-706a-452d-bc4d-aa0535f4bc7b\",\"type\":\"GlyphRenderer\"},{\"id\":\"0687d28c-daa0-42db-8481-b75a1a4e0bf3\",\"type\":\"GlyphRenderer\"},{\"id\":\"c5519f6d-4d3a-4567-b9c5-334ebbe51d24\",\"type\":\"GlyphRenderer\"}],\"title\":{\"id\":\"33f5d9c8-018a-4447-a39b-4351d3a8640a\",\"type\":\"Title\"},\"tool_events\":{\"id\":\"b8c339c8-4723-45e8-a92f-6e9284ac87b6\",\"type\":\"ToolEvents\"},\"toolbar\":{\"id\":\"c02da1eb-ebf1-40e3-ae34-8a79693acdec\",\"type\":\"Toolbar\"},\"x_range\":{\"id\":\"7708edd5-48d1-4d9a-9a4d-dcbb34478209\",\"type\":\"DataRange1d\"},\"y_range\":{\"id\":\"25f5ef33-4e56-435d-bb46-59b1a59117b1\",\"type\":\"DataRange1d\"}},\"id\":\"d07ca0b7-ee1a-4d57-8f10-36827ae6ee21\",\"subtype\":\"Figure\",\"type\":\"Plot\"},{\"attributes\":{\"line_color\":{\"value\":\"red\"},\"x\":{\"field\":\"x\"},\"y\":{\"field\":\"y\"}},\"id\":\"84845096-9e18-4bed-abfe-ea0747a6053f\",\"type\":\"Line\"},{\"attributes\":{\"fill_alpha\":{\"value\":0.1},\"fill_color\":{\"value\":\"#1f77b4\"},\"line_alpha\":{\"value\":0.1},\"line_color\":{\"value\":\"#1f77b4\"},\"size\":{\"units\":\"screen\",\"value\":5},\"x\":{\"field\":\"x\"},\"y\":{\"field\":\"y\"}},\"id\":\"b2e10580-8f3f-4531-a3c3-d87d995ea83a\",\"type\":\"Cross\"},{\"attributes\":{\"fill_color\":{\"value\":\"red\"},\"line_color\":{\"value\":\"red\"},\"size\":{\"units\":\"screen\",\"value\":5},\"x\":{\"field\":\"x\"},\"y\":{\"field\":\"y\"}},\"id\":\"a7f8de44-f346-4064-9660-f6d6363c4a0a\",\"type\":\"Circle\"},{\"attributes\":{\"data_source\":{\"id\":\"a2930978-a070-4e85-9038-5ecd594647cd\",\"type\":\"ColumnDataSource\"},\"glyph\":{\"id\":\"bfe3177a-08d0-4d73-9104-85502b53f8cb\",\"type\":\"Line\"},\"hover_glyph\":null,\"nonselection_glyph\":{\"id\":\"5c48fe8b-9f58-4a1c-af9b-9a4947fea4a8\",\"type\":\"Line\"},\"selection_glyph\":null},\"id\":\"527af108-706a-452d-bc4d-aa0535f4bc7b\",\"type\":\"GlyphRenderer\"},{\"attributes\":{\"callback\":null,\"column_names\":[\"y\",\"x\"],\"data\":{\"x\":{\"__ndarray__\":\"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\",\"dtype\":\"float64\",\"shape\":[456]},\"y\":{\"__ndarray__\":\"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\",\"dtype\":\"float64\",\"shape\":[456]}}},\"id\":\"bc9aadbc-ebac-4f6b-8555-7c87b2e4b2c0\",\"type\":\"ColumnDataSource\"},{\"attributes\":{\"fill_alpha\":{\"value\":0.1},\"fill_color\":{\"value\":\"#1f77b4\"},\"line_alpha\":{\"value\":0.1},\"line_color\":{\"value\":\"#1f77b4\"},\"size\":{\"units\":\"screen\",\"value\":5},\"x\":{\"field\":\"x\"},\"y\":{\"field\":\"y\"}},\"id\":\"8e702bba-91ae-45c7-958a-c53ced29e2d9\",\"type\":\"Cross\"},{\"attributes\":{\"fill_color\":{\"value\":\"red\"},\"line_color\":{\"value\":\"red\"},\"size\":{\"units\":\"screen\",\"value\":5},\"x\":{\"field\":\"x\"},\"y\":{\"field\":\"y\"}},\"id\":\"8b2eb428-a991-464b-86da-c26f4b840ed1\",\"type\":\"Circle\"},{\"attributes\":{\"line_alpha\":{\"value\":0.1},\"line_color\":{\"value\":\"#1f77b4\"},\"x\":{\"field\":\"x\"},\"y\":{\"field\":\"y\"}},\"id\":\"69ce128f-de22-42d0-9845-41503976fbde\",\"type\":\"Line\"},{\"attributes\":{\"callback\":null,\"column_names\":[\"x\",\"y\"],\"data\":{\"x\":{\"__ndarray__\":\"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\",\"dtype\":\"float64\",\"shape\":[456]},\"y\":{\"__ndarray__\":\"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\",\"dtype\":\"float64\",\"shape\":[456]}}},\"id\":\"d0279927-e1e1-44e1-8128-d814bdc0b3b4\",\"type\":\"ColumnDataSource\"},{\"attributes\":{\"data_source\":{\"id\":\"c0816c7d-a418-49e3-820f-14917afb924a\",\"type\":\"ColumnDataSource\"},\"glyph\":{\"id\":\"fa4bc81b-1abf-4a41-ab35-28312ea53bd7\",\"type\":\"Line\"},\"hover_glyph\":null,\"nonselection_glyph\":{\"id\":\"59f12966-01df-4a81-81f4-8b64bd96f659\",\"type\":\"Line\"},\"selection_glyph\":null},\"id\":\"d7e1fc71-d912-49f8-ba00-c4518bb7b6d9\",\"type\":\"GlyphRenderer\"},{\"attributes\":{\"label\":{\"value\":\"PR\"},\"renderers\":[{\"id\":\"527af108-706a-452d-bc4d-aa0535f4bc7b\",\"type\":\"GlyphRenderer\"}]},\"id\":\"18e9918a-a8d2-483a-a50f-047aa8adfeff\",\"type\":\"LegendItem\"},{\"attributes\":{\"axis_label\":\"tpr\",\"formatter\":{\"id\":\"3b61750f-20e0-4fec-8af1-26e0da7239e0\",\"type\":\"BasicTickFormatter\"},\"plot\":{\"id\":\"6cf42ed0-898d-4d8d-a036-30007268714e\",\"subtype\":\"Figure\",\"type\":\"Plot\"},\"ticker\":{\"id\":\"a907d259-783b-4c03-bee4-52e1226bbd14\",\"type\":\"BasicTicker\"}},\"id\":\"e121897f-a864-42bc-8a8d-0fad87acce6a\",\"type\":\"LinearAxis\"},{\"attributes\":{\"axis_label\":\"recall\",\"formatter\":{\"id\":\"ea3165e1-04fa-4f5c-ba1c-c32f4eb0d765\",\"type\":\"BasicTickFormatter\"},\"plot\":{\"id\":\"d07ca0b7-ee1a-4d57-8f10-36827ae6ee21\",\"subtype\":\"Figure\",\"type\":\"Plot\"},\"ticker\":{\"id\":\"78e93c78-d0cc-42ca-93f1-e86f6659d0f6\",\"type\":\"BasicTicker\"}},\"id\":\"856de820-51ab-4ab7-aaba-903392d71cb6\",\"type\":\"LinearAxis\"},{\"attributes\":{\"data_source\":{\"id\":\"91f62f7d-03e3-4219-86b0-11b88393d2a1\",\"type\":\"ColumnDataSource\"},\"glyph\":{\"id\":\"84845096-9e18-4bed-abfe-ea0747a6053f\",\"type\":\"Line\"},\"hover_glyph\":null,\"nonselection_glyph\":{\"id\":\"ce53d9c2-3652-40d0-9a95-7c9ebd464959\",\"type\":\"Line\"},\"selection_glyph\":null},\"id\":\"da35c622-7264-4d8b-b691-e11e43c7ce4c\",\"type\":\"GlyphRenderer\"},{\"attributes\":{\"callback\":null},\"id\":\"4c4c59c3-f428-4dac-8eae-93d7acd9de5b\",\"type\":\"Range1d\"},{\"attributes\":{\"callback\":null,\"column_names\":[\"y\",\"x\"],\"data\":{\"x\":{\"__ndarray__\":\"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\",\"dtype\":\"float64\",\"shape\":[973]},\"y\":{\"__ndarray__\":\"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\",\"dtype\":\"float64\",\"shape\":[973]}}},\"id\":\"a2930978-a070-4e85-9038-5ecd594647cd\",\"type\":\"ColumnDataSource\"},{\"attributes\":{\"line_color\":{\"value\":\"red\"},\"x\":{\"field\":\"x\"},\"y\":{\"field\":\"y\"}},\"id\":\"59c0a714-a15b-4325-ab97-587274d99cdd\",\"type\":\"Line\"},{\"attributes\":{\"plot\":{\"id\":\"d07ca0b7-ee1a-4d57-8f10-36827ae6ee21\",\"subtype\":\"Figure\",\"type\":\"Plot\"}},\"id\":\"114c4fb1-fbe9-474d-804e-97fb3f05270f\",\"type\":\"HelpTool\"},{\"attributes\":{\"callback\":null},\"id\":\"25f5ef33-4e56-435d-bb46-59b1a59117b1\",\"type\":\"DataRange1d\"},{\"attributes\":{},\"id\":\"9cb11d7e-6942-4de0-9ddc-d3d28c8b0480\",\"type\":\"ToolEvents\"},{\"attributes\":{\"below\":[{\"id\":\"e121897f-a864-42bc-8a8d-0fad87acce6a\",\"type\":\"LinearAxis\"}],\"left\":[{\"id\":\"20bc76ff-f9f9-4c54-a4a7-9f5d88c278e1\",\"type\":\"LinearAxis\"}],\"plot_height\":400,\"plot_width\":400,\"renderers\":[{\"id\":\"e121897f-a864-42bc-8a8d-0fad87acce6a\",\"type\":\"LinearAxis\"},{\"id\":\"77b759f8-25f4-4b22-b4ff-6f77e83d9102\",\"type\":\"Grid\"},{\"id\":\"20bc76ff-f9f9-4c54-a4a7-9f5d88c278e1\",\"type\":\"LinearAxis\"},{\"id\":\"d55f1e47-84a6-4154-a13f-a811f6b36b4c\",\"type\":\"Grid\"},{\"id\":\"ed3d2b47-131e-4878-bcd3-75390aa7a310\",\"type\":\"BoxAnnotation\"},{\"id\":\"7b096313-debf-4479-9275-d5e95cc34db1\",\"type\":\"GlyphRenderer\"},{\"id\":\"0fe8c746-b4e2-45d4-b051-a2bfb2f39531\",\"type\":\"Legend\"},{\"id\":\"d7e1fc71-d912-49f8-ba00-c4518bb7b6d9\",\"type\":\"GlyphRenderer\"},{\"id\":\"661dedf3-2a5f-4ee3-a313-0e9447a32c3a\",\"type\":\"GlyphRenderer\"},{\"id\":\"da35c622-7264-4d8b-b691-e11e43c7ce4c\",\"type\":\"GlyphRenderer\"},{\"id\":\"a0e7ca09-f84b-4ab4-848f-155dd092bfc2\",\"type\":\"GlyphRenderer\"}],\"title\":{\"id\":\"ced3e70c-eaff-4ec2-a04b-e085d2f244ec\",\"type\":\"Title\"},\"tool_events\":{\"id\":\"9cb11d7e-6942-4de0-9ddc-d3d28c8b0480\",\"type\":\"ToolEvents\"},\"toolbar\":{\"id\":\"6a554b5f-07f6-4fb0-9a1c-750215cab9b3\",\"type\":\"Toolbar\"},\"x_range\":{\"id\":\"4c4c59c3-f428-4dac-8eae-93d7acd9de5b\",\"type\":\"Range1d\"},\"y_range\":{\"id\":\"4c4c59c3-f428-4dac-8eae-93d7acd9de5b\",\"type\":\"Range1d\"}},\"id\":\"6cf42ed0-898d-4d8d-a036-30007268714e\",\"subtype\":\"Figure\",\"type\":\"Plot\"},{\"attributes\":{\"plot\":{\"id\":\"d07ca0b7-ee1a-4d57-8f10-36827ae6ee21\",\"subtype\":\"Figure\",\"type\":\"Plot\"}},\"id\":\"6098ef74-99a4-4b1a-a145-6a8b32e5274a\",\"type\":\"PanTool\"},{\"attributes\":{\"plot\":{\"id\":\"d07ca0b7-ee1a-4d57-8f10-36827ae6ee21\",\"subtype\":\"Figure\",\"type\":\"Plot\"}},\"id\":\"e9d999bb-ebb5-457e-90f2-e840a19bc8bc\",\"type\":\"WheelZoomTool\"}],\"root_ids\":[\"702abaaf-b06e-44c8-99d0-42ee65c555ae\"]},\"title\":\"Bokeh Application\",\"version\":\"0.12.4\"}};\n",
       "            var render_items = [{\"docid\":\"ab59e728-4375-404c-947f-1dd8f3a649bc\",\"elementid\":\"3feed2b1-5301-4fc7-bbff-27bb734656da\",\"modelid\":\"702abaaf-b06e-44c8-99d0-42ee65c555ae\"}];\n",
       "            \n",
       "            Bokeh.embed.embed_items(docs_json, render_items);\n",
       "          };\n",
       "          if (document.readyState != \"loading\") fn();\n",
       "          else document.addEventListener(\"DOMContentLoaded\", fn);\n",
       "        })();\n",
       "      },\n",
       "      function(Bokeh) {\n",
       "      }\n",
       "    ];\n",
       "  \n",
       "    function run_inline_js() {\n",
       "      \n",
       "      if ((window.Bokeh !== undefined) || (force === true)) {\n",
       "        for (var i = 0; i < inline_js.length; i++) {\n",
       "          inline_js[i](window.Bokeh);\n",
       "        }if (force === true) {\n",
       "          display_loaded();\n",
       "        }} else if (Date.now() < window._bokeh_timeout) {\n",
       "        setTimeout(run_inline_js, 100);\n",
       "      } else if (!window._bokeh_failed_load) {\n",
       "        console.log(\"Bokeh: BokehJS failed to load within specified timeout.\");\n",
       "        window._bokeh_failed_load = true;\n",
       "      } else if (force !== true) {\n",
       "        var cell = $(document.getElementById(\"3feed2b1-5301-4fc7-bbff-27bb734656da\")).parents('.cell').data().cell;\n",
       "        cell.output_area.append_execute_result(NB_LOAD_WARNING)\n",
       "      }\n",
       "  \n",
       "    }\n",
       "  \n",
       "    if (window._bokeh_is_loading === 0) {\n",
       "      console.log(\"Bokeh: BokehJS loaded, going straight to plotting\");\n",
       "      run_inline_js();\n",
       "    } else {\n",
       "      load_libs(js_urls, function() {\n",
       "        console.log(\"Bokeh: BokehJS plotting callback run at\", now());\n",
       "        run_inline_js();\n",
       "      });\n",
       "    }\n",
       "  }(this));\n",
       "</script>"
      ]
     },
     "metadata": {},
     "output_type": "display_data"
    }
   ],
   "source": [
    "\n",
    "#print \"auc: %.2g, on train: %.2g\" %(roc_auc, roc_auc_train)\n",
    "roc_df = pd.DataFrame({\"fpr\":fpr,\"tpr\":tpr}).set_index(\"fpr\")\n",
    "pr_df = pd.DataFrame({\"precision\": precision, \"recall\":recall}).set_index(\"recall\")\n",
    "roc_df[\"diag\"] = roc_df.index\n",
    "pr_df[\"random\"] = pr_df.precision.iloc[0]\n",
    "\n",
    "# roc curve\n",
    "roc_f = figure(width=400,height=400,title=\"roc, auc: %.2g, on train: %.2g\"  %(roc_auc, roc_auc_train) )\n",
    "roc_f.xaxis.axis_label = \"tpr\"\n",
    "auc_range= Range1d(0,1)\n",
    "roc_f.x_range = auc_range \n",
    "roc_f.y_range = auc_range \n",
    "roc_f.yaxis.axis_label = \"fpr\"\n",
    "roc_f.cross(fpr,tpr,size=5)\n",
    "roc_f.line(fpr,tpr,legend=\"roc\")\n",
    "roc_f.circle(fpr_train,tpr_train,size=5,color=\"red\", line_width=1)\n",
    "roc_f.line(fpr_train,tpr_train,color=\"red\",legend=\"roc on train\")\n",
    "roc_f.line([0,1],[0,1], color=\"grey\")\n",
    "\n",
    "# pr curve\n",
    "pr_f = figure(width=400,height=400,title=\"PR curve\")\n",
    "pr_f.xaxis.axis_label = \"recall\"\n",
    "pr_f.yaxis.axis_label = \"precision\"\n",
    "pr_f.cross(recall,precision,size=5)\n",
    "pr_f.line(recall,precision,legend=\"PR\")\n",
    "pr_f.circle(recall_train,precision_train,size=5,color=\"red\", line_width=1)\n",
    "pr_f.line(recall_train,precision_train,color=\"red\",legend=\"PR on train\")\n",
    "\n",
    "show(row(\n",
    "    pr_f,\n",
    "    roc_f\n",
    "))"
   ]
  },
  {
   "cell_type": "markdown",
   "metadata": {},
   "source": [
    "### Debug:  feature Importance"
   ]
  },
  {
   "cell_type": "code",
   "execution_count": 29,
   "metadata": {
    "ExecuteTime": {
     "end_time": "2017-01-26T09:53:26.190718",
     "start_time": "2017-01-26T09:53:26.131653"
    },
    "collapsed": true
   },
   "outputs": [
    {
     "data": {
      "text/html": [
       "<div>\n",
       "<table border=\"1\" class=\"dataframe\">\n",
       "  <thead>\n",
       "    <tr style=\"text-align: right;\">\n",
       "      <th></th>\n",
       "      <th>importance</th>\n",
       "    </tr>\n",
       "  </thead>\n",
       "  <tbody>\n",
       "    <tr>\n",
       "      <th>max_attribute4</th>\n",
       "      <td>0.042223</td>\n",
       "    </tr>\n",
       "    <tr>\n",
       "      <th>mean_attribute6</th>\n",
       "      <td>0.036412</td>\n",
       "    </tr>\n",
       "    <tr>\n",
       "      <th>dft_p0_valattribute4</th>\n",
       "      <td>0.034464</td>\n",
       "    </tr>\n",
       "    <tr>\n",
       "      <th>max_attribute6</th>\n",
       "      <td>0.034042</td>\n",
       "    </tr>\n",
       "    <tr>\n",
       "      <th>mean_dt_attribute2</th>\n",
       "      <td>0.033339</td>\n",
       "    </tr>\n",
       "    <tr>\n",
       "      <th>dft_p0_indattribute6</th>\n",
       "      <td>0.032965</td>\n",
       "    </tr>\n",
       "    <tr>\n",
       "      <th>max_attribute7</th>\n",
       "      <td>0.029828</td>\n",
       "    </tr>\n",
       "    <tr>\n",
       "      <th>avg_over7_attribute6</th>\n",
       "      <td>0.029722</td>\n",
       "    </tr>\n",
       "    <tr>\n",
       "      <th>dft_p0_valattribute6</th>\n",
       "      <td>0.029187</td>\n",
       "    </tr>\n",
       "    <tr>\n",
       "      <th>dft_p0_indattribute4</th>\n",
       "      <td>0.028137</td>\n",
       "    </tr>\n",
       "    <tr>\n",
       "      <th>avg_over0_attribute6</th>\n",
       "      <td>0.027452</td>\n",
       "    </tr>\n",
       "    <tr>\n",
       "      <th>avg_over1_attribute6</th>\n",
       "      <td>0.027082</td>\n",
       "    </tr>\n",
       "    <tr>\n",
       "      <th>avg_over14_attribute6</th>\n",
       "      <td>0.026674</td>\n",
       "    </tr>\n",
       "    <tr>\n",
       "      <th>dft_p0_indattribute5</th>\n",
       "      <td>0.026650</td>\n",
       "    </tr>\n",
       "    <tr>\n",
       "      <th>mean_attribute4</th>\n",
       "      <td>0.026093</td>\n",
       "    </tr>\n",
       "    <tr>\n",
       "      <th>avg_over3_attribute6</th>\n",
       "      <td>0.026007</td>\n",
       "    </tr>\n",
       "    <tr>\n",
       "      <th>avg_over2_attribute6</th>\n",
       "      <td>0.025830</td>\n",
       "    </tr>\n",
       "    <tr>\n",
       "      <th>mean_dt2_attribute2</th>\n",
       "      <td>0.024912</td>\n",
       "    </tr>\n",
       "    <tr>\n",
       "      <th>avg_over4_attribute6</th>\n",
       "      <td>0.024833</td>\n",
       "    </tr>\n",
       "    <tr>\n",
       "      <th>max_dt_attribute2</th>\n",
       "      <td>0.023789</td>\n",
       "    </tr>\n",
       "    <tr>\n",
       "      <th>max_attribute8</th>\n",
       "      <td>0.023353</td>\n",
       "    </tr>\n",
       "    <tr>\n",
       "      <th>mean_attribute8</th>\n",
       "      <td>0.022939</td>\n",
       "    </tr>\n",
       "    <tr>\n",
       "      <th>mean_attribute5</th>\n",
       "      <td>0.022233</td>\n",
       "    </tr>\n",
       "    <tr>\n",
       "      <th>max_attribute2</th>\n",
       "      <td>0.021359</td>\n",
       "    </tr>\n",
       "    <tr>\n",
       "      <th>mean_attribute7</th>\n",
       "      <td>0.021256</td>\n",
       "    </tr>\n",
       "    <tr>\n",
       "      <th>dft_p0_valattribute5</th>\n",
       "      <td>0.020957</td>\n",
       "    </tr>\n",
       "    <tr>\n",
       "      <th>mean_attribute2</th>\n",
       "      <td>0.020377</td>\n",
       "    </tr>\n",
       "    <tr>\n",
       "      <th>max_dt2_attribute2</th>\n",
       "      <td>0.019722</td>\n",
       "    </tr>\n",
       "    <tr>\n",
       "      <th>dft_p0_valattribute7</th>\n",
       "      <td>0.016945</td>\n",
       "    </tr>\n",
       "    <tr>\n",
       "      <th>max_attribute5</th>\n",
       "      <td>0.015057</td>\n",
       "    </tr>\n",
       "    <tr>\n",
       "      <th>...</th>\n",
       "      <td>...</td>\n",
       "    </tr>\n",
       "    <tr>\n",
       "      <th>avg_over0_attribute2</th>\n",
       "      <td>0.002477</td>\n",
       "    </tr>\n",
       "    <tr>\n",
       "      <th>avg_over4_dt2_attribute2</th>\n",
       "      <td>0.001902</td>\n",
       "    </tr>\n",
       "    <tr>\n",
       "      <th>avg_over2_attribute2</th>\n",
       "      <td>0.001846</td>\n",
       "    </tr>\n",
       "    <tr>\n",
       "      <th>avg_over3_attribute7</th>\n",
       "      <td>0.001774</td>\n",
       "    </tr>\n",
       "    <tr>\n",
       "      <th>avg_over7_dt2_attribute2</th>\n",
       "      <td>0.001501</td>\n",
       "    </tr>\n",
       "    <tr>\n",
       "      <th>avg_over3_dt2_attribute2</th>\n",
       "      <td>0.001386</td>\n",
       "    </tr>\n",
       "    <tr>\n",
       "      <th>avg_over0_dt_attribute2</th>\n",
       "      <td>0.001376</td>\n",
       "    </tr>\n",
       "    <tr>\n",
       "      <th>avg_over4_dt_attribute2</th>\n",
       "      <td>0.001359</td>\n",
       "    </tr>\n",
       "    <tr>\n",
       "      <th>avg_over7_attribute7</th>\n",
       "      <td>0.001170</td>\n",
       "    </tr>\n",
       "    <tr>\n",
       "      <th>avg_over7_dt_attribute2</th>\n",
       "      <td>0.001147</td>\n",
       "    </tr>\n",
       "    <tr>\n",
       "      <th>avg_over14_attribute8</th>\n",
       "      <td>0.001092</td>\n",
       "    </tr>\n",
       "    <tr>\n",
       "      <th>avg_over14_dt2_attribute2</th>\n",
       "      <td>0.000914</td>\n",
       "    </tr>\n",
       "    <tr>\n",
       "      <th>avg_over1_attribute7</th>\n",
       "      <td>0.000872</td>\n",
       "    </tr>\n",
       "    <tr>\n",
       "      <th>avg_over2_dt2_attribute2</th>\n",
       "      <td>0.000834</td>\n",
       "    </tr>\n",
       "    <tr>\n",
       "      <th>avg_over0_dt2_attribute2</th>\n",
       "      <td>0.000795</td>\n",
       "    </tr>\n",
       "    <tr>\n",
       "      <th>avg_over7_attribute8</th>\n",
       "      <td>0.000684</td>\n",
       "    </tr>\n",
       "    <tr>\n",
       "      <th>avg_over1_dt2_attribute2</th>\n",
       "      <td>0.000542</td>\n",
       "    </tr>\n",
       "    <tr>\n",
       "      <th>avg_over1_dt_attribute2</th>\n",
       "      <td>0.000502</td>\n",
       "    </tr>\n",
       "    <tr>\n",
       "      <th>avg_over2_dt_attribute2</th>\n",
       "      <td>0.000437</td>\n",
       "    </tr>\n",
       "    <tr>\n",
       "      <th>avg_over3_dt_attribute2</th>\n",
       "      <td>0.000435</td>\n",
       "    </tr>\n",
       "    <tr>\n",
       "      <th>avg_over14_attribute7</th>\n",
       "      <td>0.000415</td>\n",
       "    </tr>\n",
       "    <tr>\n",
       "      <th>avg_over0_attribute7</th>\n",
       "      <td>0.000403</td>\n",
       "    </tr>\n",
       "    <tr>\n",
       "      <th>avg_over2_attribute8</th>\n",
       "      <td>0.000349</td>\n",
       "    </tr>\n",
       "    <tr>\n",
       "      <th>avg_over14_dt_attribute2</th>\n",
       "      <td>0.000343</td>\n",
       "    </tr>\n",
       "    <tr>\n",
       "      <th>avg_over2_attribute7</th>\n",
       "      <td>0.000338</td>\n",
       "    </tr>\n",
       "    <tr>\n",
       "      <th>avg_over3_attribute8</th>\n",
       "      <td>0.000315</td>\n",
       "    </tr>\n",
       "    <tr>\n",
       "      <th>avg_over4_attribute8</th>\n",
       "      <td>0.000290</td>\n",
       "    </tr>\n",
       "    <tr>\n",
       "      <th>avg_over1_attribute8</th>\n",
       "      <td>0.000240</td>\n",
       "    </tr>\n",
       "    <tr>\n",
       "      <th>avg_over4_attribute7</th>\n",
       "      <td>0.000096</td>\n",
       "    </tr>\n",
       "    <tr>\n",
       "      <th>avg_over0_attribute8</th>\n",
       "      <td>0.000081</td>\n",
       "    </tr>\n",
       "  </tbody>\n",
       "</table>\n",
       "<p>91 rows × 1 columns</p>\n",
       "</div>"
      ],
      "text/plain": [
       "                           importance\n",
       "max_attribute4               0.042223\n",
       "mean_attribute6              0.036412\n",
       "dft_p0_valattribute4         0.034464\n",
       "max_attribute6               0.034042\n",
       "mean_dt_attribute2           0.033339\n",
       "dft_p0_indattribute6         0.032965\n",
       "max_attribute7               0.029828\n",
       "avg_over7_attribute6         0.029722\n",
       "dft_p0_valattribute6         0.029187\n",
       "dft_p0_indattribute4         0.028137\n",
       "avg_over0_attribute6         0.027452\n",
       "avg_over1_attribute6         0.027082\n",
       "avg_over14_attribute6        0.026674\n",
       "dft_p0_indattribute5         0.026650\n",
       "mean_attribute4              0.026093\n",
       "avg_over3_attribute6         0.026007\n",
       "avg_over2_attribute6         0.025830\n",
       "mean_dt2_attribute2          0.024912\n",
       "avg_over4_attribute6         0.024833\n",
       "max_dt_attribute2            0.023789\n",
       "max_attribute8               0.023353\n",
       "mean_attribute8              0.022939\n",
       "mean_attribute5              0.022233\n",
       "max_attribute2               0.021359\n",
       "mean_attribute7              0.021256\n",
       "dft_p0_valattribute5         0.020957\n",
       "mean_attribute2              0.020377\n",
       "max_dt2_attribute2           0.019722\n",
       "dft_p0_valattribute7         0.016945\n",
       "max_attribute5               0.015057\n",
       "...                               ...\n",
       "avg_over0_attribute2         0.002477\n",
       "avg_over4_dt2_attribute2     0.001902\n",
       "avg_over2_attribute2         0.001846\n",
       "avg_over3_attribute7         0.001774\n",
       "avg_over7_dt2_attribute2     0.001501\n",
       "avg_over3_dt2_attribute2     0.001386\n",
       "avg_over0_dt_attribute2      0.001376\n",
       "avg_over4_dt_attribute2      0.001359\n",
       "avg_over7_attribute7         0.001170\n",
       "avg_over7_dt_attribute2      0.001147\n",
       "avg_over14_attribute8        0.001092\n",
       "avg_over14_dt2_attribute2    0.000914\n",
       "avg_over1_attribute7         0.000872\n",
       "avg_over2_dt2_attribute2     0.000834\n",
       "avg_over0_dt2_attribute2     0.000795\n",
       "avg_over7_attribute8         0.000684\n",
       "avg_over1_dt2_attribute2     0.000542\n",
       "avg_over1_dt_attribute2      0.000502\n",
       "avg_over2_dt_attribute2      0.000437\n",
       "avg_over3_dt_attribute2      0.000435\n",
       "avg_over14_attribute7        0.000415\n",
       "avg_over0_attribute7         0.000403\n",
       "avg_over2_attribute8         0.000349\n",
       "avg_over14_dt_attribute2     0.000343\n",
       "avg_over2_attribute7         0.000338\n",
       "avg_over3_attribute8         0.000315\n",
       "avg_over4_attribute8         0.000290\n",
       "avg_over1_attribute8         0.000240\n",
       "avg_over4_attribute7         0.000096\n",
       "avg_over0_attribute8         0.000081\n",
       "\n",
       "[91 rows x 1 columns]"
      ]
     },
     "execution_count": 29,
     "metadata": {},
     "output_type": "execute_result"
    }
   ],
   "source": [
    "feature_imp = pd.DataFrame({\"importance\":model.feature_importances_}).set_index(feature_set.columns)\n",
    "feature_imp.sort_values(by=\"importance\",ascending=False)"
   ]
  },
  {
   "cell_type": "markdown",
   "metadata": {},
   "source": [
    "### Hyperparameter optimisation: Grid search optim\n"
   ]
  },
  {
   "cell_type": "code",
   "execution_count": 16,
   "metadata": {
    "ExecuteTime": {
     "end_time": "2017-01-26T09:51:13.162269",
     "start_time": "2017-01-26T09:51:13.158033"
    },
    "collapsed": false
   },
   "outputs": [],
   "source": [
    "# model : GradientBoostingClassifier, parameters: \n",
    "#loss : {‘deviance’, ‘exponential’},\n",
    "#learning_rate : float, optional (default=0.1)\n",
    "#n_estimators : int (default=100)\n",
    "#max_depth : integer, optional (default=3)\n",
    "#min_samples_split : int, float, optional (default=2)\n",
    "grids=dict()\n",
    "XDB_param_grid = {\n",
    "    \"model__loss\":  [\"deviance\", 'exponential'],\n",
    "    \"model__learning_rate\" : [0.1],\n",
    "    \"model__n_estimators\" : [100, 150],\n",
    "    \"model__max_depth\" : [2,3,5],\n",
    "    \"model__min_samples_split\" : [5,10,15]\n",
    "}\n",
    "grids[GradientBoostingClassifier] = XDB_param_grid"
   ]
  },
  {
   "cell_type": "code",
   "execution_count": 17,
   "metadata": {
    "ExecuteTime": {
     "end_time": "2017-01-26T09:51:13.175954",
     "start_time": "2017-01-26T09:51:13.163490"
    },
    "collapsed": true
   },
   "outputs": [],
   "source": [
    "# C :penalty\n",
    "# kernel : ‘linear’, ‘poly’, ‘rbf’, ‘sigmoid’, ‘precomputed’ \n",
    "SVC_param_grid = {\n",
    "   'model__C': [1e-7,1e-6,1e-5,0.1],\n",
    "    \"model__kernel\": [\"rbf\",\"linear\"],\n",
    "    #\"model_degree\" : [1,3,5], # polynomial degrees\n",
    "    \"model__gamma\" : [\"auto\"], # kernel coef (rbf)\n",
    "    #\"coef0\" # for poly, signmoid\n",
    "    \"model__tol\" : [1e-3,1e-2]\n",
    "}\n",
    "grids[SVC] = SVC_param_grid"
   ]
  },
  {
   "cell_type": "code",
   "execution_count": 18,
   "metadata": {
    "ExecuteTime": {
     "end_time": "2017-01-26T09:51:13.186869",
     "start_time": "2017-01-26T09:51:13.177219"
    },
    "collapsed": true
   },
   "outputs": [],
   "source": [
    "# model : RandomForestClassifier, parameters: \n",
    "# n_estimators : int (default=100)\n",
    "# criterion : \"gini\",\"entropy\"\n",
    "# max_features : auto , fraction\n",
    "# max_depth : integer, optional (default=3)\n",
    "# min_samples_split : int, float, optional (default=2)\n",
    "\n",
    "RF_param_grid = {\n",
    "    \"model__criterion\":  [\"entropy\"],\n",
    "    \"model__n_estimators\" : [50,100,150],\n",
    "    \"model__max_features\" : [\"auto\"],\n",
    "    \"model__max_depth\" : [20,30,40],\n",
    "    \"model__min_samples_split\" : [5,10,15]\n",
    "}\n",
    "grids[RandomForestClassifier] = RF_param_grid"
   ]
  },
  {
   "cell_type": "code",
   "execution_count": 19,
   "metadata": {
    "ExecuteTime": {
     "end_time": "2017-01-26T09:51:52.040513",
     "start_time": "2017-01-26T09:51:13.188302"
    },
    "collapsed": false
   },
   "outputs": [
    {
     "name": "stdout",
     "output_type": "stream",
     "text": [
      "Fitting 4 folds for each of 27 candidates, totalling 108 fits\n"
     ]
    },
    {
     "name": "stderr",
     "output_type": "stream",
     "text": [
      "[Parallel(n_jobs=-1)]: Done  34 tasks      | elapsed:   11.6s\n",
      "[Parallel(n_jobs=-1)]: Done 108 out of 108 | elapsed:   36.7s finished\n"
     ]
    },
    {
     "name": "stdout",
     "output_type": "stream",
     "text": [
      "Best: 0.460172 using {'model__n_estimators': 100, 'model__max_features': 'auto', 'model__max_depth': 30, 'model__min_samples_split': 15, 'model__criterion': 'entropy'}\n"
     ]
    }
   ],
   "source": [
    "m  = type(dict(pipeline.steps)[\"model\"])\n",
    "param_grid=grids[m]\n",
    "\n",
    "splits = splitting_strategy.split(feature_mat,label_mat,device_groups)\n",
    "#kfold = StratifiedKFold(n_splits=6, shuffle=True)\n",
    "grid_search = GridSearchCV(\n",
    "    pipeline, \n",
    "    param_grid,\n",
    "    scoring=\"f1\",\n",
    "    n_jobs=-1,\n",
    "    verbose=1,\n",
    "    cv=splits\n",
    ")\n",
    "grid_result = grid_search.fit(feature_mat,label_mat)\n",
    "\n",
    "\n",
    "# summarize results\n",
    "print(\"Best: %f using %s\" % (grid_result.best_score_, grid_result.best_params_))\n",
    "means = grid_result.cv_results_['mean_test_score']\n",
    "stds = grid_result.cv_results_['std_test_score']\n",
    "params = grid_result.cv_results_['params']"
   ]
  },
  {
   "cell_type": "code",
   "execution_count": 20,
   "metadata": {
    "ExecuteTime": {
     "end_time": "2017-01-26T09:51:52.112178",
     "start_time": "2017-01-26T09:51:52.042510"
    },
    "collapsed": false
   },
   "outputs": [],
   "source": [
    "model_name = \"device_time\"\n",
    "\n",
    "from sklearn.externals import joblib\n",
    "import pickle\n",
    "joblib.dump(grid_result.best_estimator_, 'model_%s.pkl' % model_name) \n",
    "#joblib.dump(pipeline, 'model_%s.pkl' % model_name) \n",
    "features = feature_set.columns\n",
    "with open('model_%s.feat' % model_name, \"w+\") as f: \n",
    "    pickle.dump(features,f)"
   ]
  },
  {
   "cell_type": "code",
   "execution_count": 21,
   "metadata": {
    "ExecuteTime": {
     "end_time": "2017-01-26T09:51:52.182655",
     "start_time": "2017-01-26T09:51:52.113865"
    },
    "collapsed": false
   },
   "outputs": [
    {
     "ename": "NameError",
     "evalue": "name 'device_model_features' is not defined",
     "output_type": "error",
     "traceback": [
      "\u001b[0;31m---------------------------------------------------------------------------\u001b[0m",
      "\u001b[0;31mNameError\u001b[0m                                 Traceback (most recent call last)",
      "\u001b[0;32m<ipython-input-21-9b4b4c2243ec>\u001b[0m in \u001b[0;36m<module>\u001b[0;34m()\u001b[0m\n\u001b[0;32m----> 1\u001b[0;31m \u001b[0mdevice_mat\u001b[0m \u001b[0;34m=\u001b[0m \u001b[0msub_feature_set\u001b[0m\u001b[0;34m[\u001b[0m\u001b[0mdevice_model_features\u001b[0m\u001b[0;34m]\u001b[0m\u001b[0;34m\u001b[0m\u001b[0m\n\u001b[0m\u001b[1;32m      2\u001b[0m \u001b[0mpredicted_device\u001b[0m \u001b[0;34m=\u001b[0m \u001b[0mdevice_model\u001b[0m\u001b[0;34m.\u001b[0m\u001b[0mpredict_proba\u001b[0m\u001b[0;34m(\u001b[0m\u001b[0mdevice_mat\u001b[0m\u001b[0;34m)\u001b[0m\u001b[0;34m\u001b[0m\u001b[0m\n",
      "\u001b[0;31mNameError\u001b[0m: name 'device_model_features' is not defined"
     ]
    }
   ],
   "source": [
    "device_mat = sub_feature_set[device_model_features]\n",
    "predicted_device = device_model.predict_proba(device_mat)"
   ]
  },
  {
   "cell_type": "code",
   "execution_count": null,
   "metadata": {
    "collapsed": true
   },
   "outputs": [],
   "source": []
  }
 ],
 "metadata": {
  "hide_input": false,
  "kernelspec": {
   "display_name": "Python 2",
   "language": "python",
   "name": "python2"
  },
  "language_info": {
   "codemirror_mode": {
    "name": "ipython",
    "version": 2
   },
   "file_extension": ".py",
   "mimetype": "text/x-python",
   "name": "python",
   "nbconvert_exporter": "python",
   "pygments_lexer": "ipython2",
   "version": "2.7.12"
  },
  "notify_time": "5"
 },
 "nbformat": 4,
 "nbformat_minor": 2
}
