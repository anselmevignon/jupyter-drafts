{
 "cells": [
  {
   "cell_type": "markdown",
   "metadata": {
    "collapsed": false,
    "scrolled": true
   },
   "source": [
    "## pre-data peeking brainstorm\n",
    "\n",
    "### task description\n",
    "\n",
    "- Dataset\n",
    " - features are attributes ==> need to figure out what they could be, and how to interpret each of them\n",
    " - Each point is a date/device_id. Need to determine the sparsity in both dimensions, to know which modelisation could make sense. \n",
    " - is there a feature bias linked to the moment a maitenance occurs ? (e.g. no more data after a failure) this could build a bias in the data.\n",
    " \n",
    "- Problem\n",
    " - Failure detection: two signal axis (which device fails, when does a device fail ) to consider. Consider mixing two models ? eg:\n",
    "   - model1 : which device is the most likely to require maintenance.\n",
    "   - model2 : based on past signals, when is a maintenance the most likely to occur. \n",
    " - Failure detection: positives could be sparse. to be checked. SVD could be worth something\n",
    "  This is a precision/recall problem. \n",
    " - On the other hand, no obvious advantage in detecting a false positive over a false negative.\n",
    " \n",
    "- Infos\n",
    " - 3D technologies is electronics, the device sends out telemetry: multiple failure modes ( wrong telemetry, bad transmition, etc...) ==> we could be detecting multiple failure modes. ensemble models ?"
   ]
  },
  {
   "cell_type": "markdown",
   "metadata": {
    "collapsed": true
   },
   "source": [
    "## The Plan\n",
    "\n",
    "1. [Exploratory Analysis][1]\n",
    "\n",
    " 1. data shape\n",
    " 2. labels\n",
    " 3. [features][2]\n",
    "\n",
    "2. dataset modeling\n",
    " 1. decide on a model / a list of models\n",
    " 2. decide on a optimisation process for each model ?\n",
    " 3. Test different machine learning models.\n",
    " \n",
    "3. optimisation\n",
    " 1. optimisation of the 'best effort model'\n",
    " 2. TPOT ? \n",
    " \n",
    "[1]: data_exploration.ipynb\n",
    "[2]: data_exploration_features.ipynb"
   ]
  },
  {
   "cell_type": "markdown",
   "metadata": {
    "collapsed": true
   },
   "source": [
    "# Exploratory Analysis\n",
    "\n",
    "## Data schape"
   ]
  },
  {
   "cell_type": "markdown",
   "metadata": {},
   "source": [
    "#### In general:\n",
    "    - Each line is indexed as a (device, time) \n",
    "    - 9 attributes (features)\n",
    "    - 1168 devices, 106 failing (small data, few positives)\n",
    "    - Date Range: daily timestamps from 2015-01-01 to 2015-11-02\n",
    "    \n",
    "#### Devices are not always on !\n",
    "    - Each device is active during a given period, device_period < dataset period\n",
    "    - The device 'start_time' is biased toward the beginning of the dataset. (1163/1168 start the first day).\n",
    "    - There are much fewer devices at the end of the measurement period (see graph below)\n",
    "    \n",
    "![Alt][1]\n",
    "    \n",
    "    \n",
    "[1]: graph/n_devices.png \"monthly seen\"    "
   ]
  },
  {
   "cell_type": "markdown",
   "metadata": {},
   "source": [
    "## Labels\n",
    "\n",
    "    - 1168 devices, 106 failing (small data, few positives)\n",
    "    - failure ratio : 10%, ~1% per month\n",
    "    - inn fact, the % failures varies month to month, from 5% to 0%\n",
    "    \n",
    "#### Weekly view\n",
    "    - Less  failures over the weekend: devices are less strained during the weekend ?\n",
    "    - warnign: fewer failures during weekend could also be explained by maintenance hapening only during workweek (hence explaing more failures on monday...)\n",
    "\n",
    "    \n",
    "\n",
    "| weekday     |   NB failures |\n",
    "|:------------|--------------:|\n",
    "| 0:Monday    |            27 |\n",
    "| 1:Tuesday   |            18 |\n",
    "| 2:Wednesday |            15 |\n",
    "| 3:Thursday  |            22 |\n",
    "| 4:Friday    |            12 |\n",
    "| 5:Saturday  |             8 |\n",
    "| 6:Sunday    |             4 |\n",
    "\n",
    "#### Missing data\n",
    "    - During device \"lifetime\", most devices (1077/1168) have a signal per day, without missing days\n",
    "\n",
    "#### failure mode\n",
    "    - Almost all devices stops measuring after a failure\n",
    "    - Indetified a list of devices, which are still measured after having failed.\n",
    " \n",
    "three hypothesis:\n",
    " - The device is still functionnal after maintenance\n",
    " - The failure was a fluke\n",
    " - The measurement thereafter are false\n",
    " \n",
    " ==> if we cannot distinguish between these hypothesis, need to remove these devices from the dataset \n",
    "\n"
   ]
  },
  {
   "cell_type": "markdown",
   "metadata": {},
   "source": []
  },
  {
   "cell_type": "code",
   "execution_count": null,
   "metadata": {
    "collapsed": true
   },
   "outputs": [],
   "source": []
  }
 ],
 "metadata": {
  "kernelspec": {
   "display_name": "Python 2",
   "language": "python",
   "name": "python2"
  },
  "language_info": {
   "codemirror_mode": {
    "name": "ipython",
    "version": 2
   },
   "file_extension": ".py",
   "mimetype": "text/x-python",
   "name": "python",
   "nbconvert_exporter": "python",
   "pygments_lexer": "ipython2",
   "version": "2.7.12"
  }
 },
 "nbformat": 4,
 "nbformat_minor": 2
}
