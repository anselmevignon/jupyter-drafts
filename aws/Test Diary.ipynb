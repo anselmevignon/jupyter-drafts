{
 "cells": [
  {
   "cell_type": "markdown",
   "metadata": {
    "collapsed": false,
    "scrolled": true
   },
   "source": [
    "## pre-data peeking brainstorm\n",
    "\n",
    "### task description\n",
    "\n",
    "- Dataset\n",
    " - features are attributes ==> need to figure out what they could be, and how to interpret each of them\n",
    " - Each point is a date/device_id. Need to determine the sparsity in both dimensions, to know which modelisation could make sense. \n",
    " - is there a feature bias linked to the moment a maitenance occurs ? (e.g. no more data after a failure) this could build a bias in the data.\n",
    " \n",
    "- Problem\n",
    " - Failure detection: two signal axis (which device fails, when does a device fail ) to consider. Consider mixing two models ? eg:\n",
    "   - model1 : which device is the most likely to require maintenance.\n",
    "   - model2 : based on past signals, when is a maintenance the most likely to occur. \n",
    " - Failure detection: positives could be sparse. to be checked. SVD could be worth something\n",
    "  This is a precision/recall problem. \n",
    " - On the other hand, no obvious advantage in detecting a false positive over a false negative.\n",
    " \n",
    "- Infos\n",
    " - 3D technologies is electronics, the device sends out telemetry: multiple failure modes ( wrong telemetry, bad transmition, etc...) ==> we could be detecting multiple failure modes. ensemble models ?"
   ]
  },
  {
   "cell_type": "markdown",
   "metadata": {
    "collapsed": true
   },
   "source": [
    "## The Plan\n",
    "\n",
    "1. [Exploratory Analysis][1]\n",
    "\n",
    " 1. data shape\n",
    " 2. labels\n",
    " 3. features\n",
    "\n",
    "2. dataset modeling\n",
    " 1. decide on a model / a list of models\n",
    " 2. decide on a optimisation process for each model ?\n",
    " 3. Test different machine learning models.\n",
    " \n",
    "3. optimisation\n",
    " 1. optimisation of the 'best effort model'\n",
    " 2. TPOT ? \n",
    " \n",
    "[1]: data_exploration.ipynb"
   ]
  },
  {
   "cell_type": "code",
   "execution_count": null,
   "metadata": {
    "collapsed": true
   },
   "outputs": [],
   "source": []
  }
 ],
 "metadata": {
  "kernelspec": {
   "display_name": "Python 2",
   "language": "python",
   "name": "python2"
  },
  "language_info": {
   "codemirror_mode": {
    "name": "ipython",
    "version": 2
   },
   "file_extension": ".py",
   "mimetype": "text/x-python",
   "name": "python",
   "nbconvert_exporter": "python",
   "pygments_lexer": "ipython2",
   "version": "2.7.12"
  }
 },
 "nbformat": 4,
 "nbformat_minor": 2
}
