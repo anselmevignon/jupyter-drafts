{
 "cells": [
  {
   "cell_type": "code",
   "execution_count": null,
   "metadata": {
    "collapsed": false,
    "hide_input": false
   },
   "outputs": [],
   "source": [
    "import pandas as pd\n",
    "from bokeh.charts import output_notebook, Bar, show, output_file, Line, BoxPlot, Scatter\n",
    "from bokeh.layouts import row\n",
    "from bokeh.plotting import figure"
   ]
  },
  {
   "cell_type": "code",
   "execution_count": null,
   "metadata": {
    "collapsed": false
   },
   "outputs": [],
   "source": [
    "dataset = pd.read_csv(\"data.csv\",index_col=0,parse_dates=True)\n",
    "\n",
    "\n",
    "rich_weekday = lambda c: -1 if c[\"holiday\"] else c[\"weekday\"]\n",
    "\n",
    "dataset.workingday = dataset.workingday==1\n",
    "dataset.holiday = dataset.holiday==1\n",
    "dataset[\"hour\"] =  dataset.index.hour\n",
    "dataset[\"weekday\"] = dataset.index.weekday\n",
    "dataset[\"season_s\"] = dataset.season.map({1:\"Printemps\",2:\"Ete\",3:\"Automne\",4:\"Hiver\"})\n",
    "dataset[\"weather_s\"] = dataset.weather.map({1:\"clear\",2:\"cloudy\",3:\"light rain\",4:\"crappy\"})\n",
    "dataset[\"rich_weekday\"] = dataset.apply( rich_weekday, axis=1)"
   ]
  },
  {
   "cell_type": "code",
   "execution_count": null,
   "metadata": {
    "collapsed": false
   },
   "outputs": [],
   "source": [
    "gb =dataset.groupby(dataset.index.weekday)[\"count\"].mean()\n",
    "b = Bar(gb, values=\"count\")\n",
    "output_notebook() \n",
    "#output_file(\"bar.html\")\n",
    "show(b)"
   ]
  },
  {
   "cell_type": "code",
   "execution_count": null,
   "metadata": {
    "collapsed": false
   },
   "outputs": [],
   "source": [
    "#dataset.hour = dataset.index.hour.map(dict( (i,\"%i->%i\" % (4*(i/4),4*(i/4)+3)) for i in range(24) ))\n",
    "\n",
    "\n",
    "gg =  dataset.groupby([\"weekday\",\"hour\"])[\"count\"].mean().reset_index().rename(columns={\"level_0\":\"weekday\",\"level_1\":\"hour\"})\n",
    "\n",
    "gg[\"weekday\"] = gg.weekday.map({0:\"Mon\",1:\"Tue\",2:\"Wed\",3:\"Thu\",4:\"Fri\",5:\"Sat\",6:\"Sun\",-1:\"Holiday\"})\n",
    "\n",
    "b = Line(gg,x=\"hour\",y=\"count\",color=\"weekday\")\n",
    "\n",
    "show(b)"
   ]
  },
  {
   "cell_type": "code",
   "execution_count": null,
   "metadata": {
    "collapsed": false
   },
   "outputs": [],
   "source": [
    "#dataset.hour = dataset.index.hour.map(dict( (i,\"%i->%i\" % (4*(i/4),4*(i/4)+3)) for i in range(24) ))\n",
    "\n",
    "rich_weekday = lambda c: -1 if c[\"holiday\"] else c[\"weekday\"]\n",
    "\n",
    "dataset[\"hour\"] =  dataset.index.hour\n",
    "dataset[\"weekday\"] = dataset.index.weekday\n",
    "dataset[\"rich_weekday\"] = dataset.apply( rich_weekday, axis=1)\n",
    "gg =  dataset.groupby([\"weekday\",\"hour\"])[\"registered\"].mean().reset_index().rename(columns={\"level_0\":\"weekday\",\"level_1\":\"hour\"})\n",
    "\n",
    "gg[\"weekday\"] = gg.weekday.map({0:\"Mon\",1:\"Tue\",2:\"Wed\",3:\"Thu\",4:\"Fri\",5:\"Sat\",6:\"Sun\",-1:\"Holiday\"})\n",
    "\n",
    "b = Line(gg,x=\"hour\",y=\"registered\",color=\"weekday\")\n",
    "\n",
    "show(b)"
   ]
  },
  {
   "cell_type": "code",
   "execution_count": null,
   "metadata": {
    "collapsed": false
   },
   "outputs": [],
   "source": [
    "#dataset[\"casu_biker\"] = dataset[\"count\"] - dataset[\"registered\"] \n",
    "\n",
    "gg =  dataset.groupby([\"weekday\",\"hour\"])[\"casual\"].mean().reset_index().rename(columns={\"level_0\":\"weekday\",\"level_1\":\"hour\"})\n",
    "\n",
    "gg[\"weekday\"] = gg.weekday.map({0:\"Mon\",1:\"Tue\",2:\"Wed\",3:\"Thu\",4:\"Fri\",5:\"Sat\",6:\"Sun\",-1:\"Holiday\"})\n",
    "\n",
    "b = Line(gg,x=\"hour\",y=\"casual\",color=\"weekday\")\n",
    "show(b)"
   ]
  },
  {
   "cell_type": "code",
   "execution_count": null,
   "metadata": {
    "collapsed": false
   },
   "outputs": [],
   "source": [
    "\n",
    "gg =  dataset.groupby([\"weekday\",\"hour\"])[\"registered\"].mean().reset_index().rename(columns={\"level_0\":\"weekday\",\"level_1\":\"hour\"})\n",
    "\n",
    "gg[\"weekday\"] = gg.weekday.map({0:\"Mon\",1:\"Tue\",2:\"Wed\",3:\"Thu\",4:\"Fri\",5:\"Sat\",6:\"Sun\",-1:\"Holiday\"})\n",
    "\n",
    "b = Line(gg,x=\"hour\",y=\"registered\",color=\"weekday\")\n",
    "show(b)"
   ]
  },
  {
   "cell_type": "code",
   "execution_count": null,
   "metadata": {
    "collapsed": false
   },
   "outputs": [],
   "source": [
    "check = dataset.registered +dataset.casual - dataset[\"count\"]\n",
    "check.value_counts()"
   ]
  },
  {
   "cell_type": "code",
   "execution_count": null,
   "metadata": {
    "collapsed": false
   },
   "outputs": [],
   "source": [
    "h_ds = dataset.groupby( [\"workingday\",\"hour\"])[\"count\"].mean()\n",
    "\n",
    "f = Bar(dataset,label=\"hour\",values=\"count\",agg=\"mean\",group=\"holiday\")\n",
    "show(f)"
   ]
  },
  {
   "cell_type": "code",
   "execution_count": null,
   "metadata": {
    "collapsed": false
   },
   "outputs": [],
   "source": [
    "f = Bar(dataset,label=\"season_s\",values=\"count\",agg=\"mean\",group=\"holiday\")\n",
    "show(f)"
   ]
  },
  {
   "cell_type": "code",
   "execution_count": null,
   "metadata": {
    "collapsed": false
   },
   "outputs": [],
   "source": [
    "f_casu = Bar(dataset,title = \"casu as f(weather)\",label=\"season_s\",values=\"casual\",agg=\"mean\",group=\"weather_s\")\n",
    "f_reg = Bar(dataset,title = \"registered as f(weather)\",label=\"season_s\",values=\"registered\",agg=\"mean\",group=\"weather_s\")\n",
    "show(row(f_casu,f_reg))"
   ]
  },
  {
   "cell_type": "code",
   "execution_count": null,
   "metadata": {
    "collapsed": false
   },
   "outputs": [],
   "source": [
    "f = BoxPlot(dataset,title = \"registered as f(weather)\",label=\"season_s\",values=\"count\")\n",
    "show(f)"
   ]
  },
  {
   "cell_type": "code",
   "execution_count": null,
   "metadata": {
    "collapsed": false
   },
   "outputs": [],
   "source": [
    "#dataset[dataset.season==1]\n",
    "dataset[dataset.weather==4]"
   ]
  },
  {
   "cell_type": "code",
   "execution_count": null,
   "metadata": {
    "collapsed": false
   },
   "outputs": [],
   "source": [
    "dataset[\"humidity_b\"] = pd.cut(dataset.humidity,10)\n",
    "f_casu = Bar(dataset,title=\"casu\",label=\"humidity_b\",values=\"casual\",agg=\"mean\",group=\"season_s\")\n",
    "f_reg = Bar(dataset,title=\"registered\",label=\"humidity_b\",values=\"registered\",agg=\"mean\",group=\"season_s\")\n",
    "show(row(f_casu,f_reg))"
   ]
  },
  {
   "cell_type": "code",
   "execution_count": null,
   "metadata": {
    "collapsed": false
   },
   "outputs": [],
   "source": [
    "dataset[\"temp_b\"] = pd.cut(dataset.temp,10)\n",
    "f_casu = Bar(dataset,title=\"casu\",label=\"temp_b\",values=\"casual\",agg=\"mean\",group=\"season_s\")\n",
    "f_reg = Bar(dataset,title=\"registered\",label=\"temp_b\",values=\"registered\",agg=\"mean\",group=\"season_s\")\n",
    "\n",
    "show(row(f_casu,f_reg))"
   ]
  },
  {
   "cell_type": "code",
   "execution_count": null,
   "metadata": {
    "collapsed": false
   },
   "outputs": [],
   "source": [
    "from bokeh.palettes import Spectral6\n",
    "from bokeh.models import ColumnDataSource\n",
    "\n",
    "grouped= dataset.groupby([\"temp_b\",\"humidity_b\"])[\"count\"].mean().reset_index()\n",
    "grouped[\"temp\"]=grouped.temp_b.str.extract(\"\\((?P<temp>\\d+\\.\\d+).*\").apply(float)\n",
    "grouped[\"humidity\"]=grouped.humidity_b.str.extract(\"\\((?P<temp>-?\\d+(?:\\.\\d+)?).*\")\n",
    "grouped\n",
    "#.apply(int)\n",
    "\n",
    "mean_cnt =grouped[\"count\"].mean()\n",
    "grouped[\"sz\"] = grouped[\"count\"]/mean_cnt*15\n",
    "colormap = dict( (i,Spectral6[i]) for i in range(len(Spectral6)))\n",
    "cmap = pd.cut(grouped[\"count\"],len(Spectral6),labels=Spectral6).tolist()\n",
    "grouped[\"color_lgd\"] = pd.cut(grouped[\"count\"],len(Spectral6))\n",
    "\n",
    "source = ColumnDataSource(dict(\n",
    "    x=grouped.temp.tolist(),\n",
    "    y=grouped.humidity.tolist(),\n",
    "    color=cmap,\n",
    "    sz=grouped[\"sz\"].tolist(),\n",
    "    label=grouped.color_lgd.tolist()\n",
    "))\n",
    "#.map(colormap)\n",
    "\n",
    "#grouped\n",
    "f = figure(plot_width=600, plot_height=600)\n",
    "f.circle(x=\"x\",y=\"y\",size=\"sz\", color=\"color\",legend=\"label\",source=source)\n",
    "f.yaxis.axis_label = \"Humidity\"\n",
    "f.xaxis.axis_label = \"Temp (°C)\"\n",
    "\n",
    "\n",
    "show(f)"
   ]
  },
  {
   "cell_type": "code",
   "execution_count": null,
   "metadata": {
    "collapsed": false
   },
   "outputs": [],
   "source": [
    "dataset[\"windspeed_g\"] = pd.cut(dataset.windspeed,10)\n",
    "\n",
    "b = Bar(dataset,label=\"windspeed_g\",values=\"count\",agg=\"mean\",group=\"season_s\")\n",
    "show(b)"
   ]
  },
  {
   "cell_type": "code",
   "execution_count": null,
   "metadata": {
    "collapsed": false
   },
   "outputs": [],
   "source": [
    "dset"
   ]
  },
  {
   "cell_type": "code",
   "execution_count": null,
   "metadata": {
    "collapsed": false
   },
   "outputs": [],
   "source": [
    "from sklearn.model_selection import cross_val_score\n",
    "from sklearn.datasets import load_iris\n",
    "from sklearn.ensemble import AdaBoostRegressor\n",
    "from sklearn.tree import DecisionTreeRegressor\n",
    "from sklearn import preprocessing\n",
    "from sklearn.decomposition import PCA\n",
    "from sklearn.pipeline import Pipeline\n",
    "\n",
    "dset =  pd.read_csv(\"data.csv\",index_col=0,parse_dates=True)\n",
    "label = dset[\"count\"] \n",
    "del dset[\"count\"], dset[\"registered\"], dset[\"casual\"]\n",
    "dataset[\"hour\"] =  dataset.index.hour\n",
    "dataset[\"weekday\"] = dataset.index.weekday\n",
    "dataset[\"h_wd\"] = dataset.weekday*100+dataset.hour\n",
    "\n",
    "#dset_scaled = preprocessing.scale(dset)\n",
    "pca = PCA(n_components=\"mle\")\n",
    "\n",
    "dt = DecisionTreeRegressor(max_depth=10)\n",
    "clf = AdaBoostRegressor(n_estimators=1000,)\n",
    "estimators = [('reduce_dim', pca), ('clf',clf)]\n",
    "pipe = Pipeline(estimators)\n",
    "scores = cross_val_score(clf, dset, label,cv=20,verbose=1,scoring=\"neg_mean_absolute_error\",n_jobs=6)                          \n",
    "print(\"Avg dist to estimate: %0.2f (+/- %0.2f)\" % (scores.mean(), scores.std() * 2))"
   ]
  },
  {
   "cell_type": "code",
   "execution_count": null,
   "metadata": {
    "collapsed": true
   },
   "outputs": [],
   "source": [
    "clf = DecisionTreeRegressor"
   ]
  },
  {
   "cell_type": "code",
   "execution_count": null,
   "metadata": {
    "collapsed": false
   },
   "outputs": [],
   "source": [
    "from sklearn.model_selection import GridSearchCV\n",
    "clf.get_params()\n",
    "param_grid = [{'learning_rate':[1,10],'n_estimators':[10,100,500,1000,5000]}]\n",
    "gscv = GridSearchCV(\n",
    "    estimator = clf,\n",
    "    param_grid=param_grid,\n",
    "    scoring=\"neg_mean_absolute_error\",\n",
    "    cv=5,\n",
    "    verbose=2,\n",
    "    n_jobs=6\n",
    ")\n",
    "\n",
    "f = gscv.fit(dset_scaled, label)\n",
    "\n",
    "print f.best_estimator_\n",
    "print f.best_score_"
   ]
  },
  {
   "cell_type": "code",
   "execution_count": null,
   "metadata": {
    "collapsed": false
   },
   "outputs": [],
   "source": [
    "from sklearn import svm\n",
    "from sklearn import preprocessing\n",
    "dset_scaled = preprocessing.scale(dset)\n",
    "clf = svm.SVR(kernel='rbf',C=1,verbose=True, cache_size=1000)\n",
    "#clf = svm.SVR(C=1e3,verbose=True)\n",
    "scores = cross_val_score(clf, dset, label,cv=10,verbose=3,scoring=\"neg_median_absolute_error\",n_jobs=6)\n",
    "scores.mean()  \n",
    "print(\"Avg dist to estimate: %0.2f (+/- %0.2f)\" % (scores.mean(), scores.std() * 2))"
   ]
  },
  {
   "cell_type": "code",
   "execution_count": null,
   "metadata": {
    "collapsed": false
   },
   "outputs": [],
   "source": []
  },
  {
   "cell_type": "code",
   "execution_count": null,
   "metadata": {
    "collapsed": true
   },
   "outputs": [],
   "source": [
    "cross_val_score?"
   ]
  },
  {
   "cell_type": "code",
   "execution_count": null,
   "metadata": {
    "collapsed": false
   },
   "outputs": [],
   "source": [
    "dataset[\"count\"].describe()"
   ]
  },
  {
   "cell_type": "code",
   "execution_count": null,
   "metadata": {
    "collapsed": true
   },
   "outputs": [],
   "source": []
  }
 ],
 "metadata": {
  "kernelspec": {
   "display_name": "Python 2",
   "language": "python",
   "name": "python2"
  },
  "language_info": {
   "codemirror_mode": {
    "name": "ipython",
    "version": 2
   },
   "file_extension": ".py",
   "mimetype": "text/x-python",
   "name": "python",
   "nbconvert_exporter": "python",
   "pygments_lexer": "ipython2",
   "version": "2.7.12"
  }
 },
 "nbformat": 4,
 "nbformat_minor": 0
}
